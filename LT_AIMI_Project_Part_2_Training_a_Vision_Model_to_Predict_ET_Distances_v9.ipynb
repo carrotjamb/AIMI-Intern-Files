{
  "nbformat": 4,
  "nbformat_minor": 0,
  "metadata": {
    "colab": {
      "provenance": [],
      "gpuType": "A100",
      "collapsed_sections": [
        "q5etX4eYtu_s"
      ],
      "toc_visible": true,
      "include_colab_link": true
    },
    "kernelspec": {
      "name": "python3",
      "display_name": "Python 3"
    },
    "language_info": {
      "name": "python"
    },
    "accelerator": "GPU"
  },
  "cells": [
    {
      "cell_type": "markdown",
      "metadata": {
        "id": "view-in-github",
        "colab_type": "text"
      },
      "source": [
        "<a href=\"https://colab.research.google.com/github/carrotjamb/AIMI-Intern-Files/blob/main/LT_AIMI_Project_Part_2_Training_a_Vision_Model_to_Predict_ET_Distances_v9.ipynb\" target=\"_parent\"><img src=\"https://colab.research.google.com/assets/colab-badge.svg\" alt=\"Open In Colab\"/></a>"
      ]
    },
    {
      "cell_type": "markdown",
      "source": [
        "## AIMI High School Internship 2023\n",
        "### Notebook 2: Training a Vision Model to Predict ET Distances\n",
        "\n",
        "**The Problem**: Given a chest X-ray, our goal in this project is to predict the distance from an endotracheal tube to the carina. This is an important clinical task - endotracheal tubes that are positioned too far (>5cm) above the carina will not work effectively.\n",
        "\n",
        "**Your Second Task**: You should now have a training dataset consisting of (a) chest X-rays and (b) annotations indicating the distance of the endotracheal tube from the carina. Now, your goal is to train a computer vision model to predict endotracheal tube distance from the image. You have **two options** for this task, and you may attempt one or both of these:\n",
        "- *Distance Categorization* : Train a model to determine whether the position of a tube is abnormal (>5.0 cm) or normal (≤ 5.0 cm).\n",
        "- *Distance Prediction*: Train a model that predicts the distance of the endotracheal tube from the carina in centimeters.\n",
        "\n",
        "In this notebook, we provide some simple starter code to get you started on training a computer vision model. You are not required to use this template - feel free to modify as you see fit.\n",
        "\n",
        "**Submitting Your Model**: We have created a leaderboard where you can submit your model and view results on the held-out test set. We provide instructions below for submitting your model to the leaderboard. **Please follow these directions carefully**.\n",
        "\n",
        "We will evaluate your results on the held-out test set with the following evaluation metrics:\n",
        "- *Distance Categorization* : We will measure AUROC, which is a metric commonly used in healthcare tasks. See this blog for a good explanation of AUROC: https://glassboxmedicine.com/2019/02/23/measuring-performance-auc-auroc/\n",
        "- *Distance Prediction*: We will measure the mean average error (also known as L1 distance) between the predicted distances and the true distances.\n"
      ],
      "metadata": {
        "id": "uMfGLGNLnXk7"
      }
    },
    {
      "cell_type": "markdown",
      "source": [
        "## Load Data\n",
        "Before you begin, make sure to go to `Runtime` > `Change Runtime Type` and select a T4 GPU. Then, upload `data.zip`. It should take about 10 minutes for these files to be uploaded. Then, run the following cells to unzip the dataset (which should take < 10 seconds)"
      ],
      "metadata": {
        "id": "RJ1rTMrgpoil"
      }
    },
    {
      "cell_type": "code",
      "source": [
        "from google.colab import drive\n",
        "drive.mount('/content/drive')"
      ],
      "metadata": {
        "id": "ytMQzLJindpR",
        "colab": {
          "base_uri": "https://localhost:8080/"
        },
        "outputId": "c5f3f314-d2b4-48e4-e125-06db1c42c137"
      },
      "execution_count": null,
      "outputs": [
        {
          "output_type": "stream",
          "name": "stdout",
          "text": [
            "Drive already mounted at /content/drive; to attempt to forcibly remount, call drive.mount(\"/content/drive\", force_remount=True).\n"
          ]
        }
      ]
    },
    {
      "cell_type": "code",
      "source": [
        "!unzip /content/drive/MyDrive/Colab\\ Notebooks/drive-download-20230620T044532Z-001\\ \\(1\\).zip"
      ],
      "metadata": {
        "colab": {
          "base_uri": "https://localhost:8080/"
        },
        "id": "bZQ1h6dcsQ-4",
        "outputId": "ac021596-4d93-4d23-f4cb-be8bcae144ff"
      },
      "execution_count": null,
      "outputs": [
        {
          "output_type": "stream",
          "name": "stdout",
          "text": [
            "Archive:  /content/drive/MyDrive/Colab Notebooks/drive-download-20230620T044532Z-001 (1).zip\n",
            "replace mimic_test_student.csv? [y]es, [n]o, [A]ll, [N]one, [r]ename: "
          ]
        }
      ]
    },
    {
      "cell_type": "code",
      "source": [
        "!unzip -qq /content/mimic-train.zip"
      ],
      "metadata": {
        "id": "ySb9AsmBp-Gz",
        "colab": {
          "base_uri": "https://localhost:8080/"
        },
        "outputId": "f7bde294-8c17-4641-f920-774509cedd91"
      },
      "execution_count": null,
      "outputs": [
        {
          "output_type": "stream",
          "name": "stdout",
          "text": [
            "replace mimic-train/15992/61090.txt? [y]es, [n]o, [A]ll, [N]one, [r]ename: "
          ]
        }
      ]
    },
    {
      "cell_type": "code",
      "source": [
        "!unzip -qq /content/mimic-test.zip"
      ],
      "metadata": {
        "id": "Bqeesviqp_hN"
      },
      "execution_count": null,
      "outputs": []
    },
    {
      "cell_type": "markdown",
      "source": [
        "## Import Libraries\n",
        "We are leveraging the PyTorch framework to train our models. For more information and tutorials on PyTorch, see this link: https://pytorch.org/tutorials/beginner/basics/intro.html"
      ],
      "metadata": {
        "id": "q5etX4eYtu_s"
      }
    },
    {
      "cell_type": "code",
      "source": [
        "# Some libraries that you may find useful are included here.\n",
        "# To import a library that isn't provided with Colab, use the following command: !pip install torchmetrics\n",
        "import torch\n",
        "import pandas as pd\n",
        "from PIL import Image\n",
        "import numpy as np\n",
        "from tqdm import tqdm\n",
        "import csv\n",
        "from torch.utils.data.dataset import TensorDataset\n",
        "import torchvision.models as models\n",
        "import torch.nn as nn\n",
        "import cv2\n",
        "\n",
        "#Set up GPU\n",
        "if torch.cuda.is_available():\n",
        "    device = torch.device(\"cuda\")\n",
        "else:\n",
        "    device = torch.device(\"cpu\")"
      ],
      "metadata": {
        "id": "BzhTFDi7tuPK"
      },
      "execution_count": null,
      "outputs": []
    },
    {
      "cell_type": "markdown",
      "source": [
        "# Splitting Dataset into Training and Validation Model"
      ],
      "metadata": {
        "id": "Jjxbe3QnGxMR"
      }
    },
    {
      "cell_type": "code",
      "source": [
        "filename_1 = \"/content/mimic_train_student.csv\"\n",
        "list_of_keys = []\n",
        "\n",
        "with open(filename_1, 'r') as csvfile:\n",
        "    datareader = csv.reader(csvfile)\n",
        "    for row in datareader:\n",
        "        img_path = \"/content/\" + str(row[4])\n",
        "        list_of_keys.append(img_path)\n",
        "\n",
        "filename_2 = \"/content/drive/MyDrive/Colab Notebooks/CSVs_from_part_1 /csv-part-2-v2-(results_1.16).csv\"\n",
        "list_of_labels = []\n",
        "\n",
        "with open(filename_2, 'r') as csvfile:\n",
        "    datareader = csv.reader(csvfile)\n",
        "    for row in datareader:\n",
        "        list_of_labels.append(row[1])\n",
        "\n",
        "with open('/content/drive/MyDrive/Colab Notebooks/CSVs_from_part_1 /For Part 2/csv-tester.csv', 'w') as f:\n",
        "    writer = csv.writer(f)\n",
        "    reader = csv.reader(f)\n",
        "    writer.writerows(zip(list_of_keys, list_of_labels))\n",
        "\n",
        "input = open('/content/drive/MyDrive/Colab Notebooks/CSVs_from_part_1 /For Part 2/csv-tester.csv', 'r')\n",
        "output = open('/content/drive/MyDrive/Colab Notebooks/CSVs_from_part_1 /For Part 2/csv-tester-removed.csv', 'w')\n",
        "writer = csv.writer(output)\n",
        "for row in csv.reader(input):\n",
        "    if row[1] != \"0.0\" and row[1] != \"\":\n",
        "        writer.writerow(row)\n",
        "\n",
        "#Get training set - 75% of\n",
        "input = open('/content/drive/MyDrive/Colab Notebooks/CSVs_from_part_1 /For Part 2/csv-tester-removed.csv', 'r')\n",
        "output = open('/content/drive/MyDrive/Colab Notebooks/CSVs_from_part_1 /For Part 2/csv-training-set.csv', 'w')\n",
        "writer2 = csv.writer(output)\n",
        "count = 0\n",
        "\n",
        "for row in csv.reader(input):\n",
        "    count += 1\n",
        "    if count < (0.75)*(len(list_of_keys)):\n",
        "        writer2.writerow(row)"
      ],
      "metadata": {
        "id": "nNxRvkt67W2I"
      },
      "execution_count": null,
      "outputs": []
    },
    {
      "cell_type": "code",
      "source": [
        "#Get validation set - 25% of\n",
        "input = open('/content/drive/MyDrive/Colab Notebooks/CSVs_from_part_1 /For Part 2/csv-tester-removed.csv', 'r')\n",
        "output = open('/content/drive/MyDrive/Colab Notebooks/CSVs_from_part_1 /For Part 2/csv-validation-set.csv', 'w')\n",
        "writer2 = csv.writer(output)\n",
        "count = 0\n",
        "\n",
        "writer2.writerow(['/content/image_path', 'measurement'])\n",
        "\n",
        "for row in csv.reader(input):\n",
        "    count += 1\n",
        "    if count >= (0.75)*(len(list_of_keys)):\n",
        "        writer2.writerow(row)"
      ],
      "metadata": {
        "id": "-4rUq8x6uWew"
      },
      "execution_count": null,
      "outputs": []
    },
    {
      "cell_type": "code",
      "source": [
        "from PIL import Image\n",
        "from torch.utils.data import Dataset\n",
        "import torchvision.transforms as transforms\n",
        "\n",
        "class ChestXRayDataset(Dataset):\n",
        "\n",
        "    def __init__(self, csv_file_key, transform=None, **kwargs):\n",
        "        super(ChestXRayDataset, self).__init__(**kwargs)\n",
        "\n",
        "        # # Fill in __init__() here\n",
        "        # self.chest_xray_labels = pd.read_csv(csv_file_labels)\n",
        "        self.chest_xray_key = pd.read_csv(csv_file_key)\n",
        "        self.transform = transform\n",
        "\n",
        "    def __len__(self):\n",
        "\n",
        "        # Fill in __len__() here\n",
        "        length = len(self.chest_xray_key)\n",
        "        return length\n",
        "\n",
        "    def __getitem__(self, idx):\n",
        "        out_dict = {\"idx\": torch.tensor(idx),}\n",
        "        convert_tensor = transforms.ToTensor()\n",
        "\n",
        "        # Fill in __getitem__() here\n",
        "        #Read in Image as\n",
        "        img_name = self.chest_xray_key['/content/image_path'][idx]\n",
        "        img = cv2.imread(img_name)\n",
        "        img = cv2.cvtColor(img, cv2.COLOR_BGR2RGB)\n",
        "        img = convert_tensor(img)\n",
        "\n",
        "        mean = [0.485, 0.456, 0.406]\n",
        "        std = [0.229, 0.224, 0.225]\n",
        "\n",
        "\n",
        "        transform = transforms.Compose([\n",
        "            transforms.Resize((224,224)),\n",
        "            transforms.Normalize(mean, std),\n",
        "        ])\n",
        "\n",
        "        normalized_image = transform(img)\n",
        "        out_dict[\"img\"] = normalized_image\n",
        "\n",
        "        #Convert measurement to category (abnormal if measurement greater than 5.0 cm, otherwise normal)\n",
        "        measurement = self.chest_xray_key['measurement'][idx]\n",
        "\n",
        "        out_dict[\"label\"] = torch.tensor(measurement)\n",
        "\n",
        "        return out_dict\n"
      ],
      "metadata": {
        "id": "FwH5586UqAnY"
      },
      "execution_count": null,
      "outputs": []
    },
    {
      "cell_type": "code",
      "source": [
        "# Model Architecture\n",
        "# model_ft = torch.hub.load('pytorch/vision:v0.10.0', 'resnet50', weights='ResNet50_Weights.IMAGENET1K_V1')\n",
        "model = models.resnet50(weights='ResNet50_Weights.IMAGENET1K_V1')\n",
        "\n",
        "#Set Model Feature Output to 1\n",
        "num_ftrs = model.fc.in_features\n",
        "new_layer = nn.Linear(num_ftrs, 1)\n",
        "model.fc = new_layer\n",
        "model = model.to(device)\n",
        "\n",
        "# Loss Function\n",
        "loss = nn.MSELoss()\n",
        "\n",
        "#Optimizer\n",
        "opt = torch.optim.AdamW(model.parameters(), lr=1e-4) # AdamW is a commonly-used optimizer. Feel free to modify."
      ],
      "metadata": {
        "id": "-HeB-_-k0x_S"
      },
      "execution_count": null,
      "outputs": []
    },
    {
      "cell_type": "markdown",
      "source": [
        "## Training Code\n",
        "We provide starter code below that implements a simple training loop in PyTorch. Feel free to modify as you see fit."
      ],
      "metadata": {
        "id": "TXvOaNPB1OGH"
      }
    },
    {
      "cell_type": "code",
      "source": [
        "r = nn.ReLU()\n",
        "\n",
        "def train(model, loss_fn, train_loader, opt, max_epoch, validation_loader):\n",
        "  for epoch in range(0, max_epoch):\n",
        "      #Training\n",
        "      model.train()\n",
        "      total_loss = 0.\n",
        "      correct_train = 0.\n",
        "      num_batches = len(train_loader)\n",
        "      count = 0\n",
        "      #Loop through training set\n",
        "      for step, sample in tqdm(enumerate(train_loader)):\n",
        "        count += 1\n",
        "        #Send image/labels to gpu\n",
        "        image = sample['img'].to(device)\n",
        "        labels = sample['label'].to(device)\n",
        "        labels = labels.unsqueeze(dim=1) #Converts labels to (16, 1) tensor\n",
        "\n",
        "        opt.zero_grad()\n",
        "\n",
        "        pred = model(image)\n",
        "        pred = r(pred)\n",
        "\n",
        "        loss = loss_fn(pred.float(), labels.float())\n",
        "\n",
        "\n",
        "\n",
        "        loss.backward()\n",
        "\n",
        "        opt.step()\n",
        "\n",
        "        if count % 10 == 0:\n",
        "          print(loss)\n",
        "\n",
        "        total_loss += loss.item()\n",
        "\n",
        "        #Compute average loss\n",
        "        print(\"Average Loss:\", total_loss/count)\n",
        "\n",
        "        #Count number of accurate predictions\n",
        "        correct_train += (pred.round() == labels).sum().item()\n",
        "\n",
        "        #Compute accuracy\n",
        "        accuracy = correct_train/(count*16)\n",
        "        print(\"Accuracy:\", accuracy)\n",
        "\n",
        "\n",
        "      # #Validation\n",
        "      # model.eval()\n",
        "      # total_loss = 0.\n",
        "      # correct_train = 0.\n",
        "      # num_batches = len(validation_loader)\n",
        "      # # test_loss, correct = 0, 0\n",
        "      # with torch.no_grad():\n",
        "      #   total_correct = 0\n",
        "      #   total_samples = 0\n",
        "\n",
        "      #   for step, sample in tqdm(enumerate(validation_loader)):\n",
        "      #     sample['img'], sample['label'] = sample['img'].to(device), sample['label'].to(device)\n",
        "\n",
        "      #     pred = model(sample['img'])\n",
        "      #     pred = sigmoid(pred)\n",
        "      #     pred = torch.round(pred)\n",
        "\n",
        "      #     labels2 = sample['label']\n",
        "      #     labels2 = labels2.unsqueeze(dim=1)\n",
        "\n",
        "      #     #Calculate Loss\n",
        "      #     loss = loss_fn(pred, labels2)\n",
        "      #     #Add Loss to Total Loss\n",
        "      #     total_loss += loss.item()\n",
        "\n",
        "      #     #Count number of accurate predictions\n",
        "      #     correct_train += (pred == labels2).sum().item()\n",
        "\n",
        "      #   #Compute average loss\n",
        "      #   print(\"Average Loss:\", total_loss/num_batches)\n",
        "\n",
        "      #   #Compute accuracy\n",
        "      #   accuracy = correct_train/(32 * num_batches)\n",
        "      #   print(\"Accuracy:\", accuracy)"
      ],
      "metadata": {
        "id": "pWnzKime0exc"
      },
      "execution_count": null,
      "outputs": []
    },
    {
      "cell_type": "code",
      "source": [
        "#Create Dataset and Dataloader\n",
        "training_dataset = ChestXRayDataset(\"/content/drive/MyDrive/Colab Notebooks/CSVs_from_part_1 /For Part 2/csv-training-set.csv\")\n",
        "training_dataloader = torch.utils.data.DataLoader(dataset=training_dataset, batch_size=16, shuffle=True, drop_last=True)\n",
        "validation_dataset = ChestXRayDataset('/content/drive/MyDrive/Colab Notebooks/CSVs_from_part_1 /For Part 2/csv-validation-set.csv')\n",
        "validation_data_loader = torch.utils.data.DataLoader(dataset=validation_dataset, batch_size=16, shuffle=False, drop_last=False)\n",
        "\n",
        "train(model, loss, training_dataloader, opt, max_epoch=3, validation_loader=validation_data_loader)"
      ],
      "metadata": {
        "id": "yWl9WNpX454H",
        "colab": {
          "base_uri": "https://localhost:8080/"
        },
        "outputId": "e1cb7aca-a2a8-4f1a-dc8c-1328cc545685"
      },
      "execution_count": null,
      "outputs": [
        {
          "output_type": "stream",
          "name": "stderr",
          "text": [
            "\r0it [00:00, ?it/s]/usr/local/lib/python3.10/dist-packages/torchvision/transforms/functional.py:1603: UserWarning: The default value of the antialias parameter of all the resizing transforms (Resize(), RandomResizedCrop(), etc.) will change from None to True in v0.17, in order to be consistent across the PIL and Tensor backends. To suppress this warning, directly pass antialias=True (recommended, future default), antialias=None (current default, which means False for Tensors and True for PIL), or antialias=False (only works on Tensors - PIL will still use antialiasing). This also applies if you are using the inference transforms from the models weights: update the call to weights.transforms(antialias=True).\n",
            "  warnings.warn(\n",
            "3it [00:02,  1.45it/s]"
          ]
        },
        {
          "output_type": "stream",
          "name": "stdout",
          "text": [
            "Average Loss: 20.348819732666016\n",
            "Accuracy: 0.0\n",
            "Average Loss: 16.200504779815674\n",
            "Accuracy: 0.0\n",
            "Average Loss: 16.982208569844563\n",
            "Accuracy: 0.0\n"
          ]
        },
        {
          "output_type": "stream",
          "name": "stderr",
          "text": [
            "\r5it [00:02,  2.61it/s]"
          ]
        },
        {
          "output_type": "stream",
          "name": "stdout",
          "text": [
            "Average Loss: 17.379109621047974\n",
            "Accuracy: 0.0\n",
            "Average Loss: 15.472034072875976\n",
            "Accuracy: 0.0\n",
            "Average Loss: 15.995672861735025\n",
            "Accuracy: 0.010416666666666666\n"
          ]
        },
        {
          "output_type": "stream",
          "name": "stderr",
          "text": [
            "9it [00:03,  5.06it/s]"
          ]
        },
        {
          "output_type": "stream",
          "name": "stdout",
          "text": [
            "Average Loss: 15.361261095319476\n",
            "Accuracy: 0.008928571428571428\n",
            "Average Loss: 14.45996630191803\n",
            "Accuracy: 0.0078125\n",
            "Average Loss: 14.02678394317627\n",
            "Accuracy: 0.006944444444444444\n"
          ]
        },
        {
          "output_type": "stream",
          "name": "stderr",
          "text": [
            "\r11it [00:03,  6.17it/s]"
          ]
        },
        {
          "output_type": "stream",
          "name": "stdout",
          "text": [
            "tensor(8.8288, device='cuda:0', grad_fn=<MseLossBackward0>)\n",
            "Average Loss: 13.506983089447022\n",
            "Accuracy: 0.01875\n",
            "Average Loss: 13.00596471266313\n",
            "Accuracy: 0.022727272727272728\n",
            "Average Loss: 12.431884050369263\n",
            "Accuracy: 0.020833333333333332\n"
          ]
        },
        {
          "output_type": "stream",
          "name": "stderr",
          "text": [
            "15it [00:03,  8.00it/s]"
          ]
        },
        {
          "output_type": "stream",
          "name": "stdout",
          "text": [
            "Average Loss: 12.1590146284837\n",
            "Accuracy: 0.019230769230769232\n",
            "Average Loss: 11.999904223850795\n",
            "Accuracy: 0.017857142857142856\n",
            "Average Loss: 11.67305580774943\n",
            "Accuracy: 0.020833333333333332\n"
          ]
        },
        {
          "output_type": "stream",
          "name": "stderr",
          "text": [
            "\r17it [00:03,  8.62it/s]"
          ]
        },
        {
          "output_type": "stream",
          "name": "stdout",
          "text": [
            "Average Loss: 11.137888073921204\n",
            "Accuracy: 0.01953125\n",
            "Average Loss: 10.742449479944566\n",
            "Accuracy: 0.022058823529411766\n",
            "Average Loss: 10.361310296588474\n",
            "Accuracy: 0.020833333333333332\n"
          ]
        },
        {
          "output_type": "stream",
          "name": "stderr",
          "text": [
            "21it [00:04,  9.50it/s]"
          ]
        },
        {
          "output_type": "stream",
          "name": "stdout",
          "text": [
            "Average Loss: 10.23019720378675\n",
            "Accuracy: 0.023026315789473683\n",
            "tensor(4.4775, device='cuda:0', grad_fn=<MseLossBackward0>)\n",
            "Average Loss: 9.942560958862305\n",
            "Accuracy: 0.03125\n",
            "Average Loss: 9.703122502281552\n",
            "Accuracy: 0.02976190476190476\n"
          ]
        },
        {
          "output_type": "stream",
          "name": "stderr",
          "text": [
            "\r23it [00:04,  9.77it/s]"
          ]
        },
        {
          "output_type": "stream",
          "name": "stdout",
          "text": [
            "Average Loss: 9.535841898484664\n",
            "Accuracy: 0.028409090909090908\n",
            "Average Loss: 9.480204333429752\n",
            "Accuracy: 0.029891304347826088\n",
            "Average Loss: 9.313674708207449\n",
            "Accuracy: 0.03125\n"
          ]
        },
        {
          "output_type": "stream",
          "name": "stderr",
          "text": [
            "27it [00:04, 10.16it/s]"
          ]
        },
        {
          "output_type": "stream",
          "name": "stdout",
          "text": [
            "Average Loss: 9.187996883392334\n",
            "Accuracy: 0.035\n",
            "Average Loss: 8.925094962120056\n",
            "Accuracy: 0.038461538461538464\n",
            "Average Loss: 8.786113518255728\n",
            "Accuracy: 0.03935185185185185\n"
          ]
        },
        {
          "output_type": "stream",
          "name": "stderr",
          "text": [
            "\r29it [00:05, 10.17it/s]"
          ]
        },
        {
          "output_type": "stream",
          "name": "stdout",
          "text": [
            "Average Loss: 8.63525801897049\n",
            "Accuracy: 0.04017857142857143\n",
            "Average Loss: 8.499898507677276\n",
            "Accuracy: 0.03879310344827586\n",
            "tensor(3.5071, device='cuda:0', grad_fn=<MseLossBackward0>)\n",
            "Average Loss: 8.333471353848775\n",
            "Accuracy: 0.03958333333333333\n"
          ]
        },
        {
          "output_type": "stream",
          "name": "stderr",
          "text": [
            "33it [00:05, 10.25it/s]"
          ]
        },
        {
          "output_type": "stream",
          "name": "stdout",
          "text": [
            "Average Loss: 8.161104871380713\n",
            "Accuracy: 0.04435483870967742\n",
            "Average Loss: 7.987070314586163\n",
            "Accuracy: 0.044921875\n",
            "Average Loss: 7.775445367350723\n",
            "Accuracy: 0.04734848484848485\n"
          ]
        },
        {
          "output_type": "stream",
          "name": "stderr",
          "text": [
            "\r35it [00:05, 10.29it/s]"
          ]
        },
        {
          "output_type": "stream",
          "name": "stdout",
          "text": [
            "Average Loss: 7.677197912160088\n",
            "Accuracy: 0.051470588235294115\n",
            "Average Loss: 7.518739993231637\n",
            "Accuracy: 0.05357142857142857\n",
            "Average Loss: 7.328899981247054\n",
            "Accuracy: 0.052083333333333336\n"
          ]
        },
        {
          "output_type": "stream",
          "name": "stderr",
          "text": [
            "39it [00:06, 10.37it/s]"
          ]
        },
        {
          "output_type": "stream",
          "name": "stdout",
          "text": [
            "Average Loss: 7.199376275410524\n",
            "Accuracy: 0.057432432432432436\n",
            "Average Loss: 7.089500077460942\n",
            "Accuracy: 0.05756578947368421\n",
            "Average Loss: 7.061320624290368\n",
            "Accuracy: 0.057692307692307696\n"
          ]
        },
        {
          "output_type": "stream",
          "name": "stderr",
          "text": [
            "\r41it [00:06, 10.27it/s]"
          ]
        },
        {
          "output_type": "stream",
          "name": "stdout",
          "text": [
            "tensor(2.3570, device='cuda:0', grad_fn=<MseLossBackward0>)\n",
            "Average Loss: 6.943713839352131\n",
            "Accuracy: 0.0578125\n",
            "Average Loss: 6.853971215282998\n",
            "Accuracy: 0.057926829268292686\n",
            "Average Loss: 6.737027010747364\n",
            "Accuracy: 0.06101190476190476\n"
          ]
        },
        {
          "output_type": "stream",
          "name": "stderr",
          "text": [
            "45it [00:06, 10.28it/s]"
          ]
        },
        {
          "output_type": "stream",
          "name": "stdout",
          "text": [
            "Average Loss: 6.696863685929498\n",
            "Accuracy: 0.059593023255813955\n",
            "Average Loss: 6.608659615570849\n",
            "Accuracy: 0.061079545454545456\n",
            "Average Loss: 6.547511043813493\n",
            "Accuracy: 0.06111111111111111\n"
          ]
        },
        {
          "output_type": "stream",
          "name": "stderr",
          "text": [
            "\r47it [00:06, 10.36it/s]"
          ]
        },
        {
          "output_type": "stream",
          "name": "stdout",
          "text": [
            "Average Loss: 6.469777989646663\n",
            "Accuracy: 0.0625\n",
            "Average Loss: 6.412475703878606\n",
            "Accuracy: 0.06382978723404255\n",
            "Average Loss: 6.366224444160859\n",
            "Accuracy: 0.06380208333333333\n"
          ]
        },
        {
          "output_type": "stream",
          "name": "stderr",
          "text": [
            "51it [00:07, 10.34it/s]"
          ]
        },
        {
          "output_type": "stream",
          "name": "stdout",
          "text": [
            "Average Loss: 6.2842024163324\n",
            "Accuracy: 0.06760204081632654\n",
            "tensor(2.1097, device='cuda:0', grad_fn=<MseLossBackward0>)\n",
            "Average Loss: 6.200713025331497\n",
            "Accuracy: 0.06875\n",
            "Average Loss: 6.1531384517164796\n",
            "Accuracy: 0.06862745098039216\n"
          ]
        },
        {
          "output_type": "stream",
          "name": "stderr",
          "text": [
            "\r53it [00:07, 10.27it/s]"
          ]
        },
        {
          "output_type": "stream",
          "name": "stdout",
          "text": [
            "Average Loss: 6.056863501667976\n",
            "Accuracy: 0.07211538461538461\n",
            "Average Loss: 6.016454148967311\n",
            "Accuracy: 0.07429245283018868\n",
            "Average Loss: 5.9783020736994565\n",
            "Accuracy: 0.07291666666666667\n"
          ]
        },
        {
          "output_type": "stream",
          "name": "stderr",
          "text": [
            "57it [00:07, 10.35it/s]"
          ]
        },
        {
          "output_type": "stream",
          "name": "stdout",
          "text": [
            "Average Loss: 5.906071429902857\n",
            "Accuracy: 0.07386363636363637\n",
            "Average Loss: 5.85433605419738\n",
            "Accuracy: 0.07366071428571429\n",
            "Average Loss: 5.800282592313332\n",
            "Accuracy: 0.07236842105263158\n"
          ]
        },
        {
          "output_type": "stream",
          "name": "stderr",
          "text": [
            "\r59it [00:07, 10.39it/s]"
          ]
        },
        {
          "output_type": "stream",
          "name": "stdout",
          "text": [
            "Average Loss: 5.734197590885492\n",
            "Accuracy: 0.07112068965517242\n",
            "Average Loss: 5.679632476830887\n",
            "Accuracy: 0.07309322033898305\n",
            "tensor(3.3383, device='cuda:0', grad_fn=<MseLossBackward0>)\n",
            "Average Loss: 5.640609919031461\n",
            "Accuracy: 0.07291666666666667\n"
          ]
        },
        {
          "output_type": "stream",
          "name": "stderr",
          "text": [
            "63it [00:08, 10.47it/s]"
          ]
        },
        {
          "output_type": "stream",
          "name": "stdout",
          "text": [
            "Average Loss: 5.582529293709114\n",
            "Accuracy: 0.07172131147540983\n",
            "Average Loss: 5.5282806571452845\n",
            "Accuracy: 0.07056451612903226\n",
            "Average Loss: 5.471987600364383\n",
            "Accuracy: 0.07043650793650794\n"
          ]
        },
        {
          "output_type": "stream",
          "name": "stderr",
          "text": [
            "\r65it [00:08, 10.53it/s]"
          ]
        },
        {
          "output_type": "stream",
          "name": "stdout",
          "text": [
            "Average Loss: 5.4310475485399365\n",
            "Accuracy: 0.0703125\n",
            "Average Loss: 5.376103548820202\n",
            "Accuracy: 0.07211538461538461\n",
            "Average Loss: 5.3246979361230675\n",
            "Accuracy: 0.07575757575757576\n"
          ]
        },
        {
          "output_type": "stream",
          "name": "stderr",
          "text": [
            "69it [00:08, 10.59it/s]"
          ]
        },
        {
          "output_type": "stream",
          "name": "stdout",
          "text": [
            "Average Loss: 5.28357745373427\n",
            "Accuracy: 0.07649253731343283\n",
            "Average Loss: 5.249182663419667\n",
            "Accuracy: 0.07628676470588236\n",
            "Average Loss: 5.20469474878864\n",
            "Accuracy: 0.07608695652173914\n"
          ]
        },
        {
          "output_type": "stream",
          "name": "stderr",
          "text": [
            "\r71it [00:09, 10.64it/s]"
          ]
        },
        {
          "output_type": "stream",
          "name": "stdout",
          "text": [
            "tensor(1.2788, device='cuda:0', grad_fn=<MseLossBackward0>)\n",
            "Average Loss: 5.148610248735973\n",
            "Accuracy: 0.07678571428571429\n",
            "Average Loss: 5.1235718802667\n",
            "Accuracy: 0.07746478873239436\n",
            "Average Loss: 5.093187465435928\n",
            "Accuracy: 0.0763888888888889\n"
          ]
        },
        {
          "output_type": "stream",
          "name": "stderr",
          "text": [
            "75it [00:09, 10.75it/s]"
          ]
        },
        {
          "output_type": "stream",
          "name": "stdout",
          "text": [
            "Average Loss: 5.071427659629142\n",
            "Accuracy: 0.07705479452054795\n",
            "Average Loss: 5.041676676756627\n",
            "Accuracy: 0.0785472972972973\n",
            "Average Loss: 5.01500510931015\n",
            "Accuracy: 0.07833333333333334\n"
          ]
        },
        {
          "output_type": "stream",
          "name": "stderr",
          "text": [
            "\r77it [00:09, 10.85it/s]"
          ]
        },
        {
          "output_type": "stream",
          "name": "stdout",
          "text": [
            "Average Loss: 5.0000336115297515\n",
            "Accuracy: 0.07730263157894737\n",
            "Average Loss: 4.953809540767174\n",
            "Accuracy: 0.07711038961038962\n",
            "Average Loss: 4.923098399853095\n",
            "Accuracy: 0.07612179487179487\n"
          ]
        },
        {
          "output_type": "stream",
          "name": "stderr",
          "text": [
            "81it [00:09, 10.91it/s]"
          ]
        },
        {
          "output_type": "stream",
          "name": "stdout",
          "text": [
            "Average Loss: 4.89548243525662\n",
            "Accuracy: 0.07674050632911393\n",
            "tensor(2.8484, device='cuda:0', grad_fn=<MseLossBackward0>)\n",
            "Average Loss: 4.869893334060907\n",
            "Accuracy: 0.07734375\n",
            "Average Loss: 4.874449604087406\n",
            "Accuracy: 0.07716049382716049\n"
          ]
        },
        {
          "output_type": "stream",
          "name": "stderr",
          "text": [
            "\r83it [00:10, 10.78it/s]"
          ]
        },
        {
          "output_type": "stream",
          "name": "stdout",
          "text": [
            "Average Loss: 4.870512925270127\n",
            "Accuracy: 0.07850609756097561\n",
            "Average Loss: 4.8470483838793745\n",
            "Accuracy: 0.0783132530120482\n",
            "Average Loss: 4.809975542482876\n",
            "Accuracy: 0.07886904761904762\n"
          ]
        },
        {
          "output_type": "stream",
          "name": "stderr",
          "text": [
            "87it [00:10, 10.74it/s]"
          ]
        },
        {
          "output_type": "stream",
          "name": "stdout",
          "text": [
            "Average Loss: 4.790986995837268\n",
            "Accuracy: 0.07867647058823529\n",
            "Average Loss: 4.769532617441444\n",
            "Accuracy: 0.07776162790697674\n",
            "Average Loss: 4.7520801370171295\n",
            "Accuracy: 0.07902298850574713\n"
          ]
        },
        {
          "output_type": "stream",
          "name": "stderr",
          "text": [
            "\r89it [00:10, 10.77it/s]"
          ]
        },
        {
          "output_type": "stream",
          "name": "stdout",
          "text": [
            "Average Loss: 4.743713409385898\n",
            "Accuracy: 0.07883522727272728\n",
            "Average Loss: 4.707366014464518\n",
            "Accuracy: 0.0800561797752809\n",
            "tensor(5.5703, device='cuda:0', grad_fn=<MseLossBackward0>)\n",
            "Average Loss: 4.7169540438387125\n",
            "Accuracy: 0.08125\n"
          ]
        },
        {
          "output_type": "stream",
          "name": "stderr",
          "text": [
            "93it [00:11, 10.73it/s]"
          ]
        },
        {
          "output_type": "stream",
          "name": "stdout",
          "text": [
            "Average Loss: 4.713808089167207\n",
            "Accuracy: 0.08104395604395605\n",
            "Average Loss: 4.703395642016245\n",
            "Accuracy: 0.08152173913043478\n",
            "Average Loss: 4.683117428774475\n",
            "Accuracy: 0.08198924731182795\n"
          ]
        },
        {
          "output_type": "stream",
          "name": "stderr",
          "text": [
            "\r95it [00:11, 10.79it/s]"
          ]
        },
        {
          "output_type": "stream",
          "name": "stdout",
          "text": [
            "Average Loss: 4.661863741088421\n",
            "Accuracy: 0.08178191489361702\n",
            "Average Loss: 4.648114634187598\n",
            "Accuracy: 0.08092105263157895\n",
            "Average Loss: 4.621186641976237\n",
            "Accuracy: 0.080078125\n"
          ]
        },
        {
          "output_type": "stream",
          "name": "stderr",
          "text": [
            "99it [00:11, 10.80it/s]"
          ]
        },
        {
          "output_type": "stream",
          "name": "stdout",
          "text": [
            "Average Loss: 4.601663885042839\n",
            "Accuracy: 0.07989690721649484\n",
            "Average Loss: 4.5855032041364785\n",
            "Accuracy: 0.07971938775510204\n",
            "Average Loss: 4.578100720439294\n",
            "Accuracy: 0.07954545454545454\n"
          ]
        },
        {
          "output_type": "stream",
          "name": "stderr",
          "text": [
            "\r101it [00:11, 10.78it/s]"
          ]
        },
        {
          "output_type": "stream",
          "name": "stdout",
          "text": [
            "tensor(1.3841, device='cuda:0', grad_fn=<MseLossBackward0>)\n",
            "Average Loss: 4.546160612702369\n",
            "Accuracy: 0.08\n",
            "Average Loss: 4.534351259765058\n",
            "Accuracy: 0.07982673267326733\n",
            "Average Loss: 4.52704577644666\n",
            "Accuracy: 0.07965686274509803\n"
          ]
        },
        {
          "output_type": "stream",
          "name": "stderr",
          "text": [
            "105it [00:12, 10.87it/s]"
          ]
        },
        {
          "output_type": "stream",
          "name": "stdout",
          "text": [
            "Average Loss: 4.50121451176486\n",
            "Accuracy: 0.08009708737864078\n",
            "Average Loss: 4.49479026805896\n",
            "Accuracy: 0.0811298076923077\n",
            "Average Loss: 4.471235686824436\n",
            "Accuracy: 0.08035714285714286\n"
          ]
        },
        {
          "output_type": "stream",
          "name": "stderr",
          "text": [
            "\r107it [00:12, 10.89it/s]"
          ]
        },
        {
          "output_type": "stream",
          "name": "stdout",
          "text": [
            "Average Loss: 4.450362430990867\n",
            "Accuracy: 0.08018867924528301\n",
            "Average Loss: 4.451070095334098\n",
            "Accuracy: 0.08002336448598131\n",
            "Average Loss: 4.4250122777841705\n",
            "Accuracy: 0.08101851851851852\n"
          ]
        },
        {
          "output_type": "stream",
          "name": "stderr",
          "text": [
            "111it [00:12, 10.86it/s]"
          ]
        },
        {
          "output_type": "stream",
          "name": "stdout",
          "text": [
            "Average Loss: 4.399136445391068\n",
            "Accuracy: 0.08199541284403669\n",
            "tensor(3.3348, device='cuda:0', grad_fn=<MseLossBackward0>)\n",
            "Average Loss: 4.389460631392219\n",
            "Accuracy: 0.08125\n",
            "Average Loss: 4.35911243939185\n",
            "Accuracy: 0.08164414414414414\n"
          ]
        },
        {
          "output_type": "stream",
          "name": "stderr",
          "text": [
            "\r113it [00:12, 10.81it/s]"
          ]
        },
        {
          "output_type": "stream",
          "name": "stdout",
          "text": [
            "Average Loss: 4.33850239909121\n",
            "Accuracy: 0.08258928571428571\n",
            "Average Loss: 4.325233377714072\n",
            "Accuracy: 0.08351769911504425\n",
            "Average Loss: 4.36265785077162\n",
            "Accuracy: 0.08388157894736842\n"
          ]
        },
        {
          "output_type": "stream",
          "name": "stderr",
          "text": [
            "117it [00:13, 10.71it/s]"
          ]
        },
        {
          "output_type": "stream",
          "name": "stdout",
          "text": [
            "Average Loss: 4.351783014898714\n",
            "Accuracy: 0.08478260869565217\n",
            "Average Loss: 4.325653339768278\n",
            "Accuracy: 0.08405172413793104\n",
            "Average Loss: 4.29949045028442\n",
            "Accuracy: 0.08333333333333333\n"
          ]
        },
        {
          "output_type": "stream",
          "name": "stderr",
          "text": [
            "\r119it [00:13, 10.72it/s]"
          ]
        },
        {
          "output_type": "stream",
          "name": "stdout",
          "text": [
            "Average Loss: 4.282222406843961\n",
            "Accuracy: 0.0836864406779661\n",
            "Average Loss: 4.279051218213153\n",
            "Accuracy: 0.08298319327731092\n",
            "tensor(2.2298, device='cuda:0', grad_fn=<MseLossBackward0>)\n",
            "Average Loss: 4.261973931888739\n",
            "Accuracy: 0.08489583333333334\n"
          ]
        },
        {
          "output_type": "stream",
          "name": "stderr",
          "text": [
            "123it [00:13, 10.74it/s]"
          ]
        },
        {
          "output_type": "stream",
          "name": "stdout",
          "text": [
            "Average Loss: 4.259528927073991\n",
            "Accuracy: 0.08419421487603305\n",
            "Average Loss: 4.27949241976269\n",
            "Accuracy: 0.08401639344262295\n",
            "Average Loss: 4.291882067676482\n",
            "Accuracy: 0.08384146341463415\n"
          ]
        },
        {
          "output_type": "stream",
          "name": "stderr",
          "text": [
            "\r125it [00:14, 10.64it/s]"
          ]
        },
        {
          "output_type": "stream",
          "name": "stdout",
          "text": [
            "Average Loss: 4.287165451915033\n",
            "Accuracy: 0.08316532258064516\n",
            "Average Loss: 4.277320154666901\n",
            "Accuracy: 0.0835\n",
            "Average Loss: 4.255500472254223\n",
            "Accuracy: 0.08333333333333333\n"
          ]
        },
        {
          "output_type": "stream",
          "name": "stderr",
          "text": [
            "129it [00:14, 10.77it/s]"
          ]
        },
        {
          "output_type": "stream",
          "name": "stdout",
          "text": [
            "Average Loss: 4.252414972294034\n",
            "Accuracy: 0.08415354330708662\n",
            "Average Loss: 4.242441161070019\n",
            "Accuracy: 0.08447265625\n",
            "Average Loss: 4.224490230859712\n",
            "Accuracy: 0.08430232558139535\n"
          ]
        },
        {
          "output_type": "stream",
          "name": "stderr",
          "text": [
            "\r131it [00:14, 10.68it/s]"
          ]
        },
        {
          "output_type": "stream",
          "name": "stdout",
          "text": [
            "tensor(3.1568, device='cuda:0', grad_fn=<MseLossBackward0>)\n",
            "Average Loss: 4.216277177975728\n",
            "Accuracy: 0.08509615384615385\n",
            "Average Loss: 4.221880450958514\n",
            "Accuracy: 0.08444656488549618\n",
            "Average Loss: 4.201520872387019\n",
            "Accuracy: 0.08570075757575757\n"
          ]
        },
        {
          "output_type": "stream",
          "name": "stderr",
          "text": [
            "135it [00:15, 10.59it/s]"
          ]
        },
        {
          "output_type": "stream",
          "name": "stdout",
          "text": [
            "Average Loss: 4.190689606325967\n",
            "Accuracy: 0.08646616541353383\n",
            "Average Loss: 4.179584563223283\n",
            "Accuracy: 0.08628731343283583\n",
            "Average Loss: 4.173777364359962\n",
            "Accuracy: 0.08611111111111111\n"
          ]
        },
        {
          "output_type": "stream",
          "name": "stderr",
          "text": [
            "\r137it [00:15, 10.53it/s]"
          ]
        },
        {
          "output_type": "stream",
          "name": "stdout",
          "text": [
            "Average Loss: 4.157417153172633\n",
            "Accuracy: 0.08731617647058823\n",
            "Average Loss: 4.1422279868682805\n",
            "Accuracy: 0.08713503649635036\n",
            "Average Loss: 4.128911245992218\n",
            "Accuracy: 0.08695652173913043\n"
          ]
        },
        {
          "output_type": "stream",
          "name": "stderr",
          "text": [
            "141it [00:15, 10.39it/s]"
          ]
        },
        {
          "output_type": "stream",
          "name": "stdout",
          "text": [
            "Average Loss: 4.124068969874073\n",
            "Accuracy: 0.08678057553956835\n",
            "tensor(2.8864, device='cuda:0', grad_fn=<MseLossBackward0>)\n",
            "Average Loss: 4.1152286048446385\n",
            "Accuracy: 0.08660714285714285\n",
            "Average Loss: 4.106090315267549\n",
            "Accuracy: 0.08732269503546099\n"
          ]
        },
        {
          "output_type": "stream",
          "name": "stderr",
          "text": [
            "\r143it [00:15, 10.44it/s]"
          ]
        },
        {
          "output_type": "stream",
          "name": "stdout",
          "text": [
            "Average Loss: 4.108607345483672\n",
            "Accuracy: 0.08758802816901408\n",
            "Average Loss: 4.124330873672779\n",
            "Accuracy: 0.08741258741258741\n",
            "Average Loss: 4.110701938056284\n",
            "Accuracy: 0.08723958333333333\n"
          ]
        },
        {
          "output_type": "stream",
          "name": "stderr",
          "text": [
            "147it [00:16, 10.58it/s]"
          ]
        },
        {
          "output_type": "stream",
          "name": "stdout",
          "text": [
            "Average Loss: 4.098778382252003\n",
            "Accuracy: 0.08793103448275862\n",
            "Average Loss: 4.094246093132725\n",
            "Accuracy: 0.0877568493150685\n",
            "Average Loss: 4.082285692497176\n",
            "Accuracy: 0.08801020408163265\n"
          ]
        },
        {
          "output_type": "stream",
          "name": "stderr",
          "text": [
            "\r149it [00:16, 10.53it/s]"
          ]
        },
        {
          "output_type": "stream",
          "name": "stdout",
          "text": [
            "Average Loss: 4.081386377279823\n",
            "Accuracy: 0.08868243243243243\n",
            "Average Loss: 4.064044049522221\n",
            "Accuracy: 0.09018456375838926\n",
            "tensor(2.9084, device='cuda:0', grad_fn=<MseLossBackward0>)\n",
            "Average Loss: 4.056339940627416\n",
            "Accuracy: 0.08958333333333333\n"
          ]
        },
        {
          "output_type": "stream",
          "name": "stderr",
          "text": [
            "153it [00:16, 10.52it/s]"
          ]
        },
        {
          "output_type": "stream",
          "name": "stdout",
          "text": [
            "Average Loss: 4.049581175213618\n",
            "Accuracy: 0.08940397350993377\n",
            "Average Loss: 4.056970393579257\n",
            "Accuracy: 0.08881578947368421\n",
            "Average Loss: 4.045595703171749\n",
            "Accuracy: 0.08905228758169935\n"
          ]
        },
        {
          "output_type": "stream",
          "name": "stderr",
          "text": [
            "\r155it [00:16, 10.52it/s]"
          ]
        },
        {
          "output_type": "stream",
          "name": "stdout",
          "text": [
            "Average Loss: 4.033007825736876\n",
            "Accuracy: 0.08847402597402597\n",
            "Average Loss: 4.016546038273842\n",
            "Accuracy: 0.08911290322580645\n",
            "Average Loss: 4.016521500853392\n",
            "Accuracy: 0.0889423076923077\n"
          ]
        },
        {
          "output_type": "stream",
          "name": "stderr",
          "text": [
            "159it [00:17, 10.62it/s]"
          ]
        },
        {
          "output_type": "stream",
          "name": "stdout",
          "text": [
            "Average Loss: 4.000782755150158\n",
            "Accuracy: 0.08957006369426751\n",
            "Average Loss: 3.991286906637723\n",
            "Accuracy: 0.08979430379746836\n",
            "Average Loss: 3.995793214758987\n",
            "Accuracy: 0.08922955974842767\n"
          ]
        },
        {
          "output_type": "stream",
          "name": "stderr",
          "text": [
            "\r161it [00:17, 10.54it/s]"
          ]
        },
        {
          "output_type": "stream",
          "name": "stdout",
          "text": [
            "tensor(2.7553, device='cuda:0', grad_fn=<MseLossBackward0>)\n",
            "Average Loss: 3.9880401503294705\n",
            "Accuracy: 0.091015625\n",
            "Average Loss: 3.9787187187568\n",
            "Accuracy: 0.09122670807453416\n",
            "Average Loss: 3.978543232620498\n",
            "Accuracy: 0.09143518518518519\n"
          ]
        },
        {
          "output_type": "stream",
          "name": "stderr",
          "text": [
            "165it [00:17, 10.57it/s]"
          ]
        },
        {
          "output_type": "stream",
          "name": "stdout",
          "text": [
            "Average Loss: 3.9705628335841596\n",
            "Accuracy: 0.09164110429447853\n",
            "Average Loss: 3.956105342361985\n",
            "Accuracy: 0.09184451219512195\n",
            "Average Loss: 3.960367667675018\n",
            "Accuracy: 0.09166666666666666\n"
          ]
        },
        {
          "output_type": "stream",
          "name": "stderr",
          "text": [
            "\r167it [00:18, 10.53it/s]"
          ]
        },
        {
          "output_type": "stream",
          "name": "stdout",
          "text": [
            "Average Loss: 3.9621484218591667\n",
            "Accuracy: 0.09149096385542169\n",
            "Average Loss: 3.9510036781876385\n",
            "Accuracy: 0.09169161676646706\n",
            "Average Loss: 3.938903620910077\n",
            "Accuracy: 0.09188988095238096\n"
          ]
        },
        {
          "output_type": "stream",
          "name": "stderr",
          "text": [
            "171it [00:18, 10.42it/s]"
          ]
        },
        {
          "output_type": "stream",
          "name": "stdout",
          "text": [
            "Average Loss: 3.95015374831194\n",
            "Accuracy: 0.09171597633136094\n",
            "tensor(1.6067, device='cuda:0', grad_fn=<MseLossBackward0>)\n",
            "Average Loss: 3.936368926483042\n",
            "Accuracy: 0.09191176470588236\n",
            "Average Loss: 3.9258877418891727\n",
            "Accuracy: 0.09210526315789473\n"
          ]
        },
        {
          "output_type": "stream",
          "name": "stderr",
          "text": [
            "\r173it [00:18, 10.48it/s]"
          ]
        },
        {
          "output_type": "stream",
          "name": "stdout",
          "text": [
            "Average Loss: 3.9264087715121203\n",
            "Accuracy: 0.09193313953488372\n",
            "Average Loss: 3.9131562740816546\n",
            "Accuracy: 0.09248554913294797\n",
            "Average Loss: 3.9100927186423333\n",
            "Accuracy: 0.09267241379310345\n"
          ]
        },
        {
          "output_type": "stream",
          "name": "stderr",
          "text": [
            "177it [00:19, 10.44it/s]"
          ]
        },
        {
          "output_type": "stream",
          "name": "stdout",
          "text": [
            "Average Loss: 3.9095296822275434\n",
            "Accuracy: 0.09285714285714286\n",
            "Average Loss: 3.900454344058579\n",
            "Accuracy: 0.09268465909090909\n",
            "Average Loss: 3.888932820430583\n",
            "Accuracy: 0.0925141242937853\n"
          ]
        },
        {
          "output_type": "stream",
          "name": "stderr",
          "text": [
            "\r179it [00:19, 10.34it/s]"
          ]
        },
        {
          "output_type": "stream",
          "name": "stdout",
          "text": [
            "Average Loss: 3.8808006942272186\n",
            "Accuracy: 0.09269662921348315\n",
            "Average Loss: 3.877361981895383\n",
            "Accuracy: 0.09252793296089386\n",
            "tensor(1.4566, device='cuda:0', grad_fn=<MseLossBackward0>)\n",
            "Average Loss: 3.863913329111205\n",
            "Accuracy: 0.09305555555555556\n"
          ]
        },
        {
          "output_type": "stream",
          "name": "stderr",
          "text": [
            "183it [00:19, 10.28it/s]"
          ]
        },
        {
          "output_type": "stream",
          "name": "stdout",
          "text": [
            "Average Loss: 3.855012727376506\n",
            "Accuracy: 0.09288674033149172\n",
            "Average Loss: 3.8506646205435744\n",
            "Accuracy: 0.09306318681318682\n",
            "Average Loss: 3.8413813149994187\n",
            "Accuracy: 0.0932377049180328\n"
          ]
        },
        {
          "output_type": "stream",
          "name": "stderr",
          "text": [
            "\r185it [00:19, 10.16it/s]"
          ]
        },
        {
          "output_type": "stream",
          "name": "stdout",
          "text": [
            "Average Loss: 3.839483046985191\n",
            "Accuracy: 0.09273097826086957\n",
            "Average Loss: 3.8367201634355492\n",
            "Accuracy: 0.09358108108108108\n",
            "Average Loss: 3.841963735639408\n",
            "Accuracy: 0.09341397849462366\n"
          ]
        },
        {
          "output_type": "stream",
          "name": "stderr",
          "text": [
            "189it [00:20, 10.15it/s]"
          ]
        },
        {
          "output_type": "stream",
          "name": "stdout",
          "text": [
            "Average Loss: 3.834160727931854\n",
            "Accuracy: 0.09324866310160428\n",
            "Average Loss: 3.8345766609653515\n",
            "Accuracy: 0.09275265957446809\n",
            "Average Loss: 3.8291923895714777\n",
            "Accuracy: 0.09292328042328042\n"
          ]
        },
        {
          "output_type": "stream",
          "name": "stderr",
          "text": [
            "\r191it [00:20, 10.08it/s]"
          ]
        },
        {
          "output_type": "stream",
          "name": "stdout",
          "text": [
            "tensor(2.6508, device='cuda:0', grad_fn=<MseLossBackward0>)\n",
            "Average Loss: 3.822990275370447\n",
            "Accuracy: 0.09309210526315789\n",
            "Average Loss: 3.811314855258502\n",
            "Accuracy: 0.09424083769633508\n"
          ]
        },
        {
          "output_type": "stream",
          "name": "stderr",
          "text": [
            "\r193it [00:20, 10.08it/s]"
          ]
        },
        {
          "output_type": "stream",
          "name": "stdout",
          "text": [
            "Average Loss: 3.803028996102512\n",
            "Accuracy: 0.09375\n",
            "Average Loss: 3.792378393788412\n",
            "Accuracy: 0.0935880829015544\n",
            "Average Loss: 3.7828921236328243\n",
            "Accuracy: 0.09310567010309279\n"
          ]
        },
        {
          "output_type": "stream",
          "name": "stderr",
          "text": [
            "197it [00:21, 10.14it/s]"
          ]
        },
        {
          "output_type": "stream",
          "name": "stdout",
          "text": [
            "Average Loss: 3.7820059516491034\n",
            "Accuracy: 0.09358974358974359\n",
            "Average Loss: 3.7774118084688575\n",
            "Accuracy: 0.0934311224489796\n",
            "Average Loss: 3.778699799540079\n",
            "Accuracy: 0.09359137055837563\n"
          ]
        },
        {
          "output_type": "stream",
          "name": "stderr",
          "text": [
            "\r199it [00:21, 10.12it/s]"
          ]
        },
        {
          "output_type": "stream",
          "name": "stdout",
          "text": [
            "Average Loss: 3.774445720092215\n",
            "Accuracy: 0.09343434343434344\n",
            "Average Loss: 3.7727145211181448\n",
            "Accuracy: 0.09296482412060302\n",
            "tensor(1.6648, device='cuda:0', grad_fn=<MseLossBackward0>)\n",
            "Average Loss: "
          ]
        },
        {
          "output_type": "stream",
          "name": "stderr",
          "text": [
            "\r201it [00:21, 10.00it/s]"
          ]
        },
        {
          "output_type": "stream",
          "name": "stdout",
          "text": [
            "3.7621749928593635\n",
            "Accuracy: 0.09375\n",
            "Average Loss: 3.7519373683194024\n",
            "Accuracy: 0.09421641791044776\n"
          ]
        },
        {
          "output_type": "stream",
          "name": "stderr",
          "text": [
            "\r203it [00:21,  9.89it/s]"
          ]
        },
        {
          "output_type": "stream",
          "name": "stdout",
          "text": [
            "Average Loss: 3.7454741216532073\n",
            "Accuracy: 0.09436881188118812\n",
            "Average Loss: 3.7397041546887366\n",
            "Accuracy: 0.09451970443349754\n"
          ]
        },
        {
          "output_type": "stream",
          "name": "stderr",
          "text": [
            "205it [00:21,  9.85it/s]"
          ]
        },
        {
          "output_type": "stream",
          "name": "stdout",
          "text": [
            "Average Loss: 3.733846913657936\n",
            "Accuracy: 0.09436274509803921\n",
            "Average Loss: 3.73191767698381\n",
            "Accuracy: 0.09390243902439024\n",
            "Average Loss: 3.725314006354045\n",
            "Accuracy: 0.09466019417475728\n"
          ]
        },
        {
          "output_type": "stream",
          "name": "stderr",
          "text": [
            "209it [00:22, 10.15it/s]"
          ]
        },
        {
          "output_type": "stream",
          "name": "stdout",
          "text": [
            "Average Loss: 3.7175073131271033\n",
            "Accuracy: 0.09541062801932366\n",
            "Average Loss: 3.7096354574538193\n",
            "Accuracy: 0.09555288461538461\n",
            "Average Loss: 3.706044010283274\n",
            "Accuracy: 0.0950956937799043\n"
          ]
        },
        {
          "output_type": "stream",
          "name": "stderr",
          "text": [
            "\r211it [00:22,  9.81it/s]"
          ]
        },
        {
          "output_type": "stream",
          "name": "stdout",
          "text": [
            "tensor(3.0049, device='cuda:0', grad_fn=<MseLossBackward0>)\n",
            "Average Loss: 3.702705365419388\n",
            "Accuracy: 0.09523809523809523\n",
            "Average Loss: 3.702091970997399\n",
            "Accuracy: 0.09537914691943128\n"
          ]
        },
        {
          "output_type": "stream",
          "name": "stderr",
          "text": [
            "214it [00:22,  9.92it/s]"
          ]
        },
        {
          "output_type": "stream",
          "name": "stdout",
          "text": [
            "Average Loss: 3.6911352448305994\n",
            "Accuracy: 0.09610849056603774\n",
            "Average Loss: 3.6827057641996466\n",
            "Accuracy: 0.09565727699530517\n",
            "Average Loss: 3.682598155514102\n",
            "Accuracy: 0.09579439252336448\n"
          ]
        },
        {
          "output_type": "stream",
          "name": "stderr",
          "text": [
            "\r216it [00:22, 10.02it/s]"
          ]
        },
        {
          "output_type": "stream",
          "name": "stdout",
          "text": [
            "Average Loss: 3.675179407485696\n",
            "Accuracy: 0.09593023255813954\n",
            "Average Loss: 3.6698860330162226\n",
            "Accuracy: 0.09664351851851852\n"
          ]
        },
        {
          "output_type": "stream",
          "name": "stderr",
          "text": [
            "\r218it [00:23,  9.72it/s]"
          ]
        },
        {
          "output_type": "stream",
          "name": "stdout",
          "text": [
            "Average Loss: 3.6585095810450716\n",
            "Accuracy: 0.09648617511520738\n",
            "Average Loss: 3.661672372610197\n",
            "Accuracy: 0.0963302752293578\n",
            "Average Loss: 3.661472713838429\n",
            "Accuracy: 0.096175799086758\n"
          ]
        },
        {
          "output_type": "stream",
          "name": "stderr",
          "text": [
            "221it [00:23,  9.90it/s]"
          ]
        },
        {
          "output_type": "stream",
          "name": "stdout",
          "text": [
            "tensor(2.1239, device='cuda:0', grad_fn=<MseLossBackward0>)\n",
            "Average Loss: 3.6544839092276313\n",
            "Accuracy: 0.09630681818181819\n",
            "Average Loss: 3.6505414773436153\n",
            "Accuracy: 0.09700226244343892\n"
          ]
        },
        {
          "output_type": "stream",
          "name": "stderr",
          "text": [
            "223it [00:23,  9.89it/s]"
          ]
        },
        {
          "output_type": "stream",
          "name": "stdout",
          "text": [
            "Average Loss: 3.644545563974896\n",
            "Accuracy: 0.09797297297297297\n",
            "Average Loss: 3.6442929589160356\n",
            "Accuracy: 0.09781390134529148\n"
          ]
        },
        {
          "output_type": "stream",
          "name": "stderr",
          "text": [
            "226it [00:23,  9.54it/s]"
          ]
        },
        {
          "output_type": "stream",
          "name": "stdout",
          "text": [
            "Average Loss: 3.639661729601877\n",
            "Accuracy: 0.09765625\n",
            "Average Loss: 3.6319566676351758\n",
            "Accuracy: 0.09777777777777778\n",
            "Average Loss: 3.6274559363327197\n",
            "Accuracy: 0.09789823008849557\n"
          ]
        },
        {
          "output_type": "stream",
          "name": "stderr",
          "text": [
            "229it [00:24,  9.83it/s]"
          ]
        },
        {
          "output_type": "stream",
          "name": "stdout",
          "text": [
            "Average Loss: 3.626359552276292\n",
            "Accuracy: 0.09774229074889867\n",
            "Average Loss: 3.620224223063703\n",
            "Accuracy: 0.0981359649122807\n",
            "Average Loss: 3.61297946803955\n",
            "Accuracy: 0.09798034934497817\n"
          ]
        },
        {
          "output_type": "stream",
          "name": "stderr",
          "text": [
            "231it [00:24,  9.86it/s]"
          ]
        },
        {
          "output_type": "stream",
          "name": "stdout",
          "text": [
            "tensor(2.1084, device='cuda:0', grad_fn=<MseLossBackward0>)\n",
            "Average Loss: 3.606437886020412\n",
            "Accuracy: 0.09782608695652174\n",
            "Average Loss: 3.601915825755049\n",
            "Accuracy: 0.09794372294372294\n"
          ]
        },
        {
          "output_type": "stream",
          "name": "stderr",
          "text": [
            "234it [00:24,  9.99it/s]"
          ]
        },
        {
          "output_type": "stream",
          "name": "stdout",
          "text": [
            "Average Loss: 3.5923108199033242\n",
            "Accuracy: 0.09832974137931035\n",
            "Average Loss: 3.586862886156647\n",
            "Accuracy: 0.0979077253218884\n",
            "Average Loss: 3.5844119407682338\n",
            "Accuracy: 0.0985576923076923\n"
          ]
        },
        {
          "output_type": "stream",
          "name": "stderr",
          "text": [
            "236it [00:24,  9.92it/s]"
          ]
        },
        {
          "output_type": "stream",
          "name": "stdout",
          "text": [
            "Average Loss: 3.590012535896707\n",
            "Accuracy: 0.09840425531914894\n",
            "Average Loss: 3.5829396351414213\n",
            "Accuracy: 0.09878177966101695\n"
          ]
        },
        {
          "output_type": "stream",
          "name": "stderr",
          "text": [
            "239it [00:25, 10.00it/s]"
          ]
        },
        {
          "output_type": "stream",
          "name": "stdout",
          "text": [
            "Average Loss: 3.5756443479896096\n",
            "Accuracy: 0.09889240506329114\n",
            "Average Loss: 3.567337588853195\n",
            "Accuracy: 0.09926470588235294\n",
            "Average Loss: 3.558626619093588\n",
            "Accuracy: 0.10015690376569038\n"
          ]
        },
        {
          "output_type": "stream",
          "name": "stderr",
          "text": [
            "242it [00:25, 10.01it/s]"
          ]
        },
        {
          "output_type": "stream",
          "name": "stdout",
          "text": [
            "tensor(4.0506, device='cuda:0', grad_fn=<MseLossBackward0>)\n",
            "Average Loss: 3.5606764309108256\n",
            "Accuracy: 0.09973958333333334\n",
            "Average Loss: 3.5493421628762083\n",
            "Accuracy: 0.10088174273858921\n",
            "Average Loss: 3.5479964377466313\n",
            "Accuracy: 0.10072314049586777\n"
          ]
        },
        {
          "output_type": "stream",
          "name": "stderr",
          "text": [
            "\r243it [00:25, 10.00it/s]"
          ]
        },
        {
          "output_type": "stream",
          "name": "stdout",
          "text": [
            "Average Loss: 3.5422120992048285\n",
            "Accuracy: 0.10056584362139917\n",
            "Average Loss: 3.5387871807715934\n",
            "Accuracy: 0.10040983606557377\n",
            "Average Loss: 3.538224739444499\n"
          ]
        },
        {
          "output_type": "stream",
          "name": "stderr",
          "text": [
            "247it [00:26, 10.08it/s]"
          ]
        },
        {
          "output_type": "stream",
          "name": "stdout",
          "text": [
            "Accuracy: 0.10102040816326531\n",
            "Average Loss: 3.530910389694741\n",
            "Accuracy: 0.10086382113821138\n",
            "Average Loss: 3.5246663856120244\n",
            "Accuracy: 0.10045546558704453\n"
          ]
        },
        {
          "output_type": "stream",
          "name": "stderr",
          "text": [
            "\r249it [00:26,  9.97it/s]"
          ]
        },
        {
          "output_type": "stream",
          "name": "stdout",
          "text": [
            "Average Loss: 3.5199678732502844\n",
            "Accuracy: 0.10005040322580645\n",
            "Average Loss: 3.518987498608938\n",
            "Accuracy: 0.09964859437751004\n"
          ]
        },
        {
          "output_type": "stream",
          "name": "stderr",
          "text": [
            "251it [00:26,  9.83it/s]"
          ]
        },
        {
          "output_type": "stream",
          "name": "stdout",
          "text": [
            "tensor(1.8750, device='cuda:0', grad_fn=<MseLossBackward0>)\n",
            "Average Loss: 3.512411418914795\n",
            "Accuracy: 0.0995\n",
            "Average Loss: 3.5077133292695915\n",
            "Accuracy: 0.099601593625498\n"
          ]
        },
        {
          "output_type": "stream",
          "name": "stderr",
          "text": [
            "253it [00:26,  9.79it/s]"
          ]
        },
        {
          "output_type": "stream",
          "name": "stdout",
          "text": [
            "Average Loss: 3.503793018204825\n",
            "Accuracy: 0.09970238095238096\n",
            "Average Loss: 3.4981919588307617\n",
            "Accuracy: 0.09955533596837944\n"
          ]
        },
        {
          "output_type": "stream",
          "name": "stderr",
          "text": [
            "\r255it [00:26,  9.90it/s]"
          ]
        },
        {
          "output_type": "stream",
          "name": "stdout",
          "text": [
            "Average Loss: 3.498241602905153\n",
            "Accuracy: 0.09940944881889764\n",
            "Average Loss: 3.4903169332766066\n",
            "Accuracy: 0.09975490196078432\n",
            "Average Loss: 3.482661816291511\n",
            "Accuracy: 0.100341796875\n"
          ]
        },
        {
          "output_type": "stream",
          "name": "stderr",
          "text": [
            "259it [00:27, 10.13it/s]"
          ]
        },
        {
          "output_type": "stream",
          "name": "stdout",
          "text": [
            "Average Loss: 3.4786619982366895\n",
            "Accuracy: 0.09995136186770429\n",
            "Average Loss: 3.4762502834778424\n",
            "Accuracy: 0.09956395348837209\n",
            "Average Loss: 3.4769427905211576\n",
            "Accuracy: 0.0999034749034749\n"
          ]
        },
        {
          "output_type": "stream",
          "name": "stderr",
          "text": [
            "\r261it [00:27, 10.16it/s]"
          ]
        },
        {
          "output_type": "stream",
          "name": "stdout",
          "text": [
            "tensor(0.6443, device='cuda:0', grad_fn=<MseLossBackward0>)\n",
            "Average Loss: 3.466047911460583\n",
            "Accuracy: 0.09975961538461539\n",
            "Average Loss: 3.4570651113758597\n",
            "Accuracy: 0.09961685823754789\n",
            "Average Loss: 3.450611222791308\n",
            "Accuracy: 0.09947519083969465"
          ]
        },
        {
          "output_type": "stream",
          "name": "stderr",
          "text": [
            "\r263it [00:27, 10.10it/s]"
          ]
        },
        {
          "output_type": "stream",
          "name": "stdout",
          "text": [
            "\n",
            "Average Loss: 3.4496073151722606\n",
            "Accuracy: 0.09933460076045628\n",
            "Average Loss: 3.442872262362278\n",
            "Accuracy: 0.09943181818181818\n"
          ]
        },
        {
          "output_type": "stream",
          "name": "stderr",
          "text": [
            "267it [00:28, 10.16it/s]"
          ]
        },
        {
          "output_type": "stream",
          "name": "stdout",
          "text": [
            "Average Loss: 3.4392172993354078\n",
            "Accuracy: 0.09952830188679246\n",
            "Average Loss: 3.4447521374637917\n",
            "Accuracy: 0.09915413533834587\n",
            "Average Loss: 3.44231305765302\n",
            "Accuracy: 0.09925093632958802\n"
          ]
        },
        {
          "output_type": "stream",
          "name": "stderr",
          "text": [
            "\r269it [00:28, 10.15it/s]"
          ]
        },
        {
          "output_type": "stream",
          "name": "stdout",
          "text": [
            "Average Loss: 3.444280611045325\n",
            "Accuracy: 0.09911380597014925\n",
            "Average Loss: 3.438412665434486\n",
            "Accuracy: 0.09921003717472118\n",
            "tensor(3.3124, device='cuda:0', grad_fn=<MseLossBackward0>)\n",
            "Average Loss: 3.437945831263507\n",
            "Accuracy: 0.09884259259259259\n"
          ]
        },
        {
          "output_type": "stream",
          "name": "stderr",
          "text": [
            "273it [00:28, 10.25it/s]"
          ]
        },
        {
          "output_type": "stream",
          "name": "stdout",
          "text": [
            "Average Loss: 3.4351481942673012\n",
            "Accuracy: 0.09893911439114392\n",
            "Average Loss: 3.431371643262751\n",
            "Accuracy: 0.09880514705882353\n",
            "Average Loss: 3.4240719625801392\n",
            "Accuracy: 0.09913003663003662\n"
          ]
        },
        {
          "output_type": "stream",
          "name": "stderr",
          "text": [
            "\r275it [00:28, 10.26it/s]"
          ]
        },
        {
          "output_type": "stream",
          "name": "stdout",
          "text": [
            "Average Loss: 3.4302543627954747\n",
            "Accuracy: 0.09945255474452555\n",
            "Average Loss: 3.4300730055028743\n",
            "Accuracy: 0.09977272727272728\n",
            "Average Loss: 3.4258517026901245\n",
            "Accuracy: 0.09963768115942029\n"
          ]
        },
        {
          "output_type": "stream",
          "name": "stderr",
          "text": [
            "279it [00:29, 10.25it/s]"
          ]
        },
        {
          "output_type": "stream",
          "name": "stdout",
          "text": [
            "Average Loss: 3.4231106503345474\n",
            "Accuracy: 0.09950361010830325\n",
            "Average Loss: 3.420069732254358\n",
            "Accuracy: 0.09937050359712231\n",
            "Average Loss: 3.41305740332518\n",
            "Accuracy: 0.09923835125448029\n"
          ]
        },
        {
          "output_type": "stream",
          "name": "stderr",
          "text": [
            "\r281it [00:29, 10.27it/s]"
          ]
        },
        {
          "output_type": "stream",
          "name": "stdout",
          "text": [
            "tensor(3.4877, device='cuda:0', grad_fn=<MseLossBackward0>)\n",
            "Average Loss: 3.4133238341127123\n",
            "Accuracy: 0.09955357142857142\n",
            "Average Loss: 3.4099158740128486\n",
            "Accuracy: 0.099644128113879\n",
            "Average Loss: 3.4097157953478767\n",
            "Accuracy: 0.09929078014184398\n"
          ]
        },
        {
          "output_type": "stream",
          "name": "stderr",
          "text": [
            "285it [00:29, 10.27it/s]"
          ]
        },
        {
          "output_type": "stream",
          "name": "stdout",
          "text": [
            "Average Loss: 3.414528436458574\n",
            "Accuracy: 0.09982332155477032\n",
            "Average Loss: 3.408453083374131\n",
            "Accuracy: 0.0996919014084507\n",
            "Average Loss: 3.4083294885200366\n",
            "Accuracy: 0.09956140350877193\n"
          ]
        },
        {
          "output_type": "stream",
          "name": "stderr",
          "text": [
            "\r287it [00:30, 10.33it/s]"
          ]
        },
        {
          "output_type": "stream",
          "name": "stdout",
          "text": [
            "Average Loss: 3.405998029908934\n",
            "Accuracy: 0.10008741258741259\n",
            "Average Loss: 3.401164895566083\n",
            "Accuracy: 0.10017421602787456\n",
            "Average Loss: 3.3953707218170166\n",
            "Accuracy: 0.10047743055555555\n"
          ]
        },
        {
          "output_type": "stream",
          "name": "stderr",
          "text": [
            "291it [00:30, 10.34it/s]"
          ]
        },
        {
          "output_type": "stream",
          "name": "stdout",
          "text": [
            "Average Loss: 3.39085971772877\n",
            "Accuracy: 0.10012975778546712\n",
            "tensor(2.3409, device='cuda:0', grad_fn=<MseLossBackward0>)\n",
            "Average Loss: 3.3872391026595543\n",
            "Accuracy: 0.1\n",
            "Average Loss: 3.3893688781974243\n",
            "Accuracy: 0.10073024054982818\n"
          ]
        },
        {
          "output_type": "stream",
          "name": "stderr",
          "text": [
            "\r293it [00:30, 10.33it/s]"
          ]
        },
        {
          "output_type": "stream",
          "name": "stdout",
          "text": [
            "Average Loss: 3.3803746243045754\n",
            "Accuracy: 0.10209760273972603\n",
            "Average Loss: 3.3754681991635738\n",
            "Accuracy: 0.10217576791808873\n",
            "Average Loss: 3.3743255677677335\n",
            "Accuracy: 0.101828231292517\n"
          ]
        },
        {
          "output_type": "stream",
          "name": "stderr",
          "text": [
            "297it [00:30, 10.29it/s]"
          ]
        },
        {
          "output_type": "stream",
          "name": "stdout",
          "text": [
            "Average Loss: 3.3773923619318817\n",
            "Accuracy: 0.10148305084745762\n",
            "Average Loss: 3.372678980231285\n",
            "Accuracy: 0.10177364864864864\n",
            "Average Loss: 3.3670637764111913\n",
            "Accuracy: 0.10164141414141414\n"
          ]
        },
        {
          "output_type": "stream",
          "name": "stderr",
          "text": [
            "\r299it [00:31, 10.22it/s]"
          ]
        },
        {
          "output_type": "stream",
          "name": "stdout",
          "text": [
            "Average Loss: 3.3659808823726323\n",
            "Accuracy: 0.10151006711409397\n",
            "Average Loss: 3.366508398965051\n",
            "Accuracy: 0.10179765886287626\n",
            "tensor(1.0775, device='cuda:0', grad_fn=<MseLossBackward0>)\n",
            "Average Loss: 3.358878488143285\n",
            "Accuracy: 0.10208333333333333\n"
          ]
        },
        {
          "output_type": "stream",
          "name": "stderr",
          "text": [
            "303it [00:31, 10.15it/s]"
          ]
        },
        {
          "output_type": "stream",
          "name": "stdout",
          "text": [
            "Average Loss: 3.3548476002937138\n",
            "Accuracy: 0.10236710963455149\n",
            "Average Loss: 3.3527323366790416\n",
            "Accuracy: 0.10223509933774834\n",
            "Average Loss: 3.3484467614208513\n",
            "Accuracy: 0.10251650165016502\n"
          ]
        },
        {
          "output_type": "stream",
          "name": "stderr",
          "text": [
            "\r305it [00:31, 10.15it/s]"
          ]
        },
        {
          "output_type": "stream",
          "name": "stdout",
          "text": [
            "Average Loss: 3.35148210627468\n",
            "Accuracy: 0.10238486842105263\n",
            "Average Loss: 3.3455180848231083\n",
            "Accuracy: 0.10266393442622951\n",
            "Average Loss: 3.3455792010999192\n",
            "Accuracy: 0.10273692810457516\n"
          ]
        },
        {
          "output_type": "stream",
          "name": "stderr",
          "text": [
            "309it [00:32, 10.05it/s]"
          ]
        },
        {
          "output_type": "stream",
          "name": "stdout",
          "text": [
            "Average Loss: 3.3430445233074773\n",
            "Accuracy: 0.10260586319218241\n",
            "Average Loss: 3.335297298508805\n",
            "Accuracy: 0.10247564935064934\n",
            "Average Loss: 3.330762780985786\n",
            "Accuracy: 0.10254854368932038\n"
          ]
        },
        {
          "output_type": "stream",
          "name": "stderr",
          "text": [
            "\r311it [00:32, 10.00it/s]"
          ]
        },
        {
          "output_type": "stream",
          "name": "stdout",
          "text": [
            "tensor(4.2131, device='cuda:0', grad_fn=<MseLossBackward0>)\n",
            "Average Loss: 3.3336090376300196\n",
            "Accuracy: 0.10241935483870968\n",
            "Average Loss: 3.328401884082046\n",
            "Accuracy: 0.102491961414791\n",
            "Average Loss: 3.3237874030302734\n",
            "Accuracy: 0.10296474358974358\n"
          ]
        },
        {
          "output_type": "stream",
          "name": "stderr",
          "text": [
            "315it [00:32, 10.17it/s]"
          ]
        },
        {
          "output_type": "stream",
          "name": "stdout",
          "text": [
            "Average Loss: 3.328107309417603\n",
            "Accuracy: 0.10263578274760383\n",
            "Average Loss: 3.3244703996712994\n",
            "Accuracy: 0.10230891719745223\n",
            "Average Loss: 3.323861246638828\n",
            "Accuracy: 0.10218253968253968\n"
          ]
        },
        {
          "output_type": "stream",
          "name": "stderr",
          "text": [
            "\r317it [00:32, 10.19it/s]"
          ]
        },
        {
          "output_type": "stream",
          "name": "stdout",
          "text": [
            "Average Loss: 3.325741208429578\n",
            "Accuracy: 0.10205696202531646\n",
            "Average Loss: 3.3232511469994432\n",
            "Accuracy: 0.10173501577287067\n",
            "Average Loss: 3.3170618613560996\n",
            "Accuracy: 0.10200471698113207\n"
          ]
        },
        {
          "output_type": "stream",
          "name": "stderr",
          "text": [
            "321it [00:33, 10.26it/s]"
          ]
        },
        {
          "output_type": "stream",
          "name": "stdout",
          "text": [
            "Average Loss: 3.3147772509476234\n",
            "Accuracy: 0.10168495297805642\n",
            "tensor(3.0236, device='cuda:0', grad_fn=<MseLossBackward0>)\n",
            "Average Loss: 3.3138673923909665\n",
            "Accuracy: 0.1015625\n",
            "Average Loss: 3.310775381753749\n",
            "Accuracy: 0.10144080996884736\n"
          ]
        },
        {
          "output_type": "stream",
          "name": "stderr",
          "text": [
            "\r323it [00:33, 10.29it/s]"
          ]
        },
        {
          "output_type": "stream",
          "name": "stdout",
          "text": [
            "Average Loss: 3.3084194637973856\n",
            "Accuracy: 0.10170807453416149\n",
            "Average Loss: 3.304425103007455\n",
            "Accuracy: 0.10158668730650154\n",
            "Average Loss: 3.2999753216166554\n",
            "Accuracy: 0.10146604938271606\n"
          ]
        },
        {
          "output_type": "stream",
          "name": "stderr",
          "text": [
            "\r325it [00:33, 10.23it/s]"
          ]
        },
        {
          "output_type": "stream",
          "name": "stdout",
          "text": [
            "Average Loss: 3.2938213304372934\n",
            "Accuracy: 0.10211538461538462\n",
            "Average Loss: 3.2905649729301594\n",
            "Accuracy: 0.10199386503067484\n",
            "Average Loss: 3.2886727475974173\n"
          ]
        },
        {
          "output_type": "stream",
          "name": "stderr",
          "text": [
            "329it [00:34, 10.15it/s]"
          ]
        },
        {
          "output_type": "stream",
          "name": "stdout",
          "text": [
            "Accuracy: 0.1022553516819572\n",
            "Average Loss: 3.2911378319670512\n",
            "Accuracy: 0.10213414634146341\n",
            "Average Loss: 3.2872179540094995\n",
            "Accuracy: 0.10220364741641337\n"
          ]
        },
        {
          "output_type": "stream",
          "name": "stderr",
          "text": [
            "\r331it [00:34, 10.10it/s]"
          ]
        },
        {
          "output_type": "stream",
          "name": "stdout",
          "text": [
            "tensor(3.4945, device='cuda:0', grad_fn=<MseLossBackward0>)\n",
            "Average Loss: 3.2878462249582463\n",
            "Accuracy: 0.10227272727272728\n",
            "Average Loss: 3.2850796528093045\n",
            "Accuracy: 0.10196374622356495\n",
            "Average Loss: 3.2847859299326516\n",
            "Accuracy: 0.10203313253012049\n"
          ]
        },
        {
          "output_type": "stream",
          "name": "stderr",
          "text": [
            "335it [00:34, 10.22it/s]"
          ]
        },
        {
          "output_type": "stream",
          "name": "stdout",
          "text": [
            "Average Loss: 3.281325460554243\n",
            "Accuracy: 0.10172672672672672\n",
            "Average Loss: 3.2879965433817424\n",
            "Accuracy: 0.10142215568862276\n",
            "Average Loss: 3.2828846344307285\n",
            "Accuracy: 0.10149253731343283\n"
          ]
        },
        {
          "output_type": "stream",
          "name": "stderr",
          "text": [
            "\r337it [00:34, 10.18it/s]"
          ]
        },
        {
          "output_type": "stream",
          "name": "stdout",
          "text": [
            "Average Loss: 3.2799187625447908\n",
            "Accuracy: 0.1015625\n",
            "Average Loss: 3.279898203091381\n",
            "Accuracy: 0.10200296735905044\n",
            "Average Loss: 3.277587247670755\n",
            "Accuracy: 0.10188609467455621\n"
          ]
        },
        {
          "output_type": "stream",
          "name": "stderr",
          "text": [
            "341it [00:35, 10.35it/s]"
          ]
        },
        {
          "output_type": "stream",
          "name": "stdout",
          "text": [
            "Average Loss: 3.2709635520755014\n",
            "Accuracy: 0.1019542772861357\n",
            "tensor(2.2700, device='cuda:0', grad_fn=<MseLossBackward0>)\n",
            "Average Loss: 3.2680195513893575\n",
            "Accuracy: 0.10165441176470588\n",
            "Average Loss: 3.2644688887330444\n",
            "Accuracy: 0.10172287390029326\n"
          ]
        },
        {
          "output_type": "stream",
          "name": "stderr",
          "text": [
            "\r343it [00:35, 10.22it/s]"
          ]
        },
        {
          "output_type": "stream",
          "name": "stdout",
          "text": [
            "Average Loss: 3.2619069535829865\n",
            "Accuracy: 0.10179093567251463\n",
            "Average Loss: 3.2599485740717227\n",
            "Accuracy: 0.10204081632653061\n",
            "Average Loss: 3.257189834533736\n",
            "Accuracy: 0.10247093023255814\n"
          ]
        },
        {
          "output_type": "stream",
          "name": "stderr",
          "text": [
            "\r345it [00:35, 10.13it/s]"
          ]
        },
        {
          "output_type": "stream",
          "name": "stdout",
          "text": [
            "Average Loss: 3.2537128662717514\n",
            "Accuracy: 0.10235507246376811\n",
            "Average Loss: 3.2508593549618143\n",
            "Accuracy: 0.10242052023121387\n"
          ]
        },
        {
          "output_type": "stream",
          "name": "stderr",
          "text": [
            "\r347it [00:35, 10.06it/s]"
          ]
        },
        {
          "output_type": "stream",
          "name": "stdout",
          "text": [
            "Average Loss: 3.2460473597221484\n",
            "Accuracy: 0.1026657060518732\n",
            "Average Loss: 3.2433253351984352\n",
            "Accuracy: 0.10255028735632184\n",
            "Average Loss: 3.2431168218055224\n"
          ]
        },
        {
          "output_type": "stream",
          "name": "stderr",
          "text": [
            "\r349it [00:36, 10.03it/s]"
          ]
        },
        {
          "output_type": "stream",
          "name": "stdout",
          "text": [
            "Accuracy: 0.10261461318051576\n",
            "tensor(3.5046, device='cuda:0', grad_fn=<MseLossBackward0>)\n",
            "Average Loss: 3.2438640121051243\n",
            "Accuracy: 0.10267857142857142\n",
            "Average Loss: 3.240572208352918\n"
          ]
        },
        {
          "output_type": "stream",
          "name": "stderr",
          "text": [
            "352it [00:36,  9.98it/s]"
          ]
        },
        {
          "output_type": "stream",
          "name": "stdout",
          "text": [
            "Accuracy: 0.10274216524216524\n",
            "Average Loss: 3.2380191903900015\n",
            "Accuracy: 0.10404829545454546\n"
          ]
        },
        {
          "output_type": "stream",
          "name": "stderr",
          "text": [
            "354it [00:36,  9.84it/s]"
          ]
        },
        {
          "output_type": "stream",
          "name": "stdout",
          "text": [
            "Average Loss: 3.2343774135659844\n",
            "Accuracy: 0.10393059490084985\n",
            "Average Loss: 3.2327421590433283\n",
            "Accuracy: 0.10399011299435028\n"
          ]
        },
        {
          "output_type": "stream",
          "name": "stderr",
          "text": [
            "356it [00:36,  9.82it/s]"
          ]
        },
        {
          "output_type": "stream",
          "name": "stdout",
          "text": [
            "Average Loss: 3.2316689064804938\n",
            "Accuracy: 0.10440140845070423\n",
            "Average Loss: 3.226240409893936\n",
            "Accuracy: 0.10445926966292135\n"
          ]
        },
        {
          "output_type": "stream",
          "name": "stderr",
          "text": [
            "358it [00:37,  9.75it/s]"
          ]
        },
        {
          "output_type": "stream",
          "name": "stdout",
          "text": [
            "Average Loss: 3.2251419914202866\n",
            "Accuracy: 0.10434173669467788\n",
            "Average Loss: 3.2211960807192925\n",
            "Accuracy: 0.10457402234636871\n"
          ]
        },
        {
          "output_type": "stream",
          "name": "stderr",
          "text": [
            "360it [00:37,  9.74it/s]"
          ]
        },
        {
          "output_type": "stream",
          "name": "stdout",
          "text": [
            "Average Loss: 3.2276164263403846\n",
            "Accuracy: 0.10463091922005571\n",
            "tensor(0.9970, device='cuda:0', grad_fn=<MseLossBackward0>)\n",
            "Average Loss: 3.221420259773731\n",
            "Accuracy: 0.10520833333333333\n"
          ]
        },
        {
          "output_type": "stream",
          "name": "stderr",
          "text": [
            "362it [00:37,  9.68it/s]"
          ]
        },
        {
          "output_type": "stream",
          "name": "stdout",
          "text": [
            "Average Loss: 3.219752934665891\n",
            "Accuracy: 0.10509002770083102\n",
            "Average Loss: 3.215541290150163\n",
            "Accuracy: 0.10479972375690608\n"
          ]
        },
        {
          "output_type": "stream",
          "name": "stderr",
          "text": [
            "364it [00:37,  9.79it/s]"
          ]
        },
        {
          "output_type": "stream",
          "name": "stdout",
          "text": [
            "Average Loss: 3.2185100876923762\n",
            "Accuracy: 0.1046831955922865\n",
            "Average Loss: 3.2141841930019988\n",
            "Accuracy: 0.10508241758241758\n",
            "Average Loss: 3.214809158240279\n",
            "Accuracy: 0.1047945205479452\n"
          ]
        },
        {
          "output_type": "stream",
          "name": "stderr",
          "text": [
            "367it [00:37,  9.94it/s]"
          ]
        },
        {
          "output_type": "stream",
          "name": "stdout",
          "text": [
            "Average Loss: 3.212615369936156\n",
            "Accuracy: 0.10467896174863388\n",
            "Average Loss: 3.2110724012273533\n",
            "Accuracy: 0.10473433242506812\n"
          ]
        },
        {
          "output_type": "stream",
          "name": "stderr",
          "text": [
            "\r369it [00:38, 10.00it/s]"
          ]
        },
        {
          "output_type": "stream",
          "name": "stdout",
          "text": [
            "Average Loss: 3.210575649757748\n",
            "Accuracy: 0.10512907608695653\n",
            "Average Loss: 3.206339512252549\n",
            "Accuracy: 0.10501355013550136\n",
            "tensor(1.8727, device='cuda:0', grad_fn=<MseLossBackward0>)\n",
            "Average Loss: 3.2027350656084113\n",
            "Accuracy: 0.10489864864864865\n"
          ]
        },
        {
          "output_type": "stream",
          "name": "stderr",
          "text": [
            "372it [00:38, 10.15it/s]"
          ]
        },
        {
          "output_type": "stream",
          "name": "stdout",
          "text": [
            "Average Loss: 3.196382560498631\n",
            "Accuracy: 0.10495283018867925\n",
            "Average Loss: 3.1944223430848893\n",
            "Accuracy: 0.10500672043010753\n"
          ]
        },
        {
          "output_type": "stream",
          "name": "stderr",
          "text": [
            "\r374it [00:38, 10.19it/s]"
          ]
        },
        {
          "output_type": "stream",
          "name": "stdout",
          "text": [
            "Average Loss: 3.19307097353181\n",
            "Accuracy: 0.10489276139410188\n",
            "Average Loss: 3.1886061143110145\n",
            "Accuracy: 0.10561497326203209\n",
            "Average Loss: 3.1848495858510337\n",
            "Accuracy: 0.10583333333333333\n"
          ]
        },
        {
          "output_type": "stream",
          "name": "stderr",
          "text": [
            "378it [00:39, 10.22it/s]"
          ]
        },
        {
          "output_type": "stream",
          "name": "stdout",
          "text": [
            "Average Loss: 3.184605604156535\n",
            "Accuracy: 0.10588430851063829\n",
            "Average Loss: 3.184798412677148\n",
            "Accuracy: 0.10560344827586207\n",
            "Average Loss: 3.188430998060438\n",
            "Accuracy: 0.105489417989418\n"
          ]
        },
        {
          "output_type": "stream",
          "name": "stderr",
          "text": [
            "\r380it [00:39, 10.22it/s]"
          ]
        },
        {
          "output_type": "stream",
          "name": "stdout",
          "text": [
            "Average Loss: 3.185580985841776\n",
            "Accuracy: 0.10554089709762533\n",
            "tensor(2.3666, device='cuda:0', grad_fn=<MseLossBackward0>)\n",
            "Average Loss: 3.1834257188596222\n",
            "Accuracy: 0.10526315789473684\n",
            "Average Loss: 3.1831860054196337\n",
            "Accuracy: 0.10597112860892388\n"
          ]
        },
        {
          "output_type": "stream",
          "name": "stderr",
          "text": [
            "384it [00:39, 10.33it/s]"
          ]
        },
        {
          "output_type": "stream",
          "name": "stdout",
          "text": [
            "Average Loss: 3.1795975578392985\n",
            "Accuracy: 0.10585732984293193\n",
            "Average Loss: 3.179561617791497\n",
            "Accuracy: 0.10623368146214099\n",
            "Average Loss: 3.175759496477743\n",
            "Accuracy: 0.10628255208333333\n"
          ]
        },
        {
          "output_type": "stream",
          "name": "stderr",
          "text": [
            "\r386it [00:39, 10.41it/s]"
          ]
        },
        {
          "output_type": "stream",
          "name": "stdout",
          "text": [
            "Average Loss: 3.1729024661051763\n",
            "Accuracy: 0.10600649350649351\n",
            "Average Loss: 3.169697359744749\n",
            "Accuracy: 0.1057318652849741\n",
            "Average Loss: 3.169933402569103\n",
            "Accuracy: 0.10562015503875968\n"
          ]
        },
        {
          "output_type": "stream",
          "name": "stderr",
          "text": [
            "390it [00:40, 10.38it/s]"
          ]
        },
        {
          "output_type": "stream",
          "name": "stdout",
          "text": [
            "Average Loss: 3.1689979215872657\n",
            "Accuracy: 0.1055090206185567\n",
            "Average Loss: 3.1673300747393336\n",
            "Accuracy: 0.10539845758354756\n",
            "tensor(1.1352, device='cuda:0', grad_fn=<MseLossBackward0>)\n",
            "Average Loss: 3.162119542941069\n",
            "Accuracy: 0.10560897435897436\n"
          ]
        },
        {
          "output_type": "stream",
          "name": "stderr",
          "text": [
            "\r392it [00:40, 10.46it/s]"
          ]
        },
        {
          "output_type": "stream",
          "name": "stdout",
          "text": [
            "Average Loss: 3.1590139506113193\n",
            "Accuracy: 0.10581841432225064\n",
            "Average Loss: 3.1573257628752263\n",
            "Accuracy: 0.10570790816326531\n",
            "Average Loss: 3.1548424015821697\n",
            "Accuracy: 0.10607506361323155\n"
          ]
        },
        {
          "output_type": "stream",
          "name": "stderr",
          "text": [
            "396it [00:40, 10.56it/s]"
          ]
        },
        {
          "output_type": "stream",
          "name": "stdout",
          "text": [
            "Average Loss: 3.15560318733835\n",
            "Accuracy: 0.10596446700507614\n",
            "Average Loss: 3.151018597204474\n",
            "Accuracy: 0.10585443037974683\n",
            "Average Loss: 3.1477887850217146\n",
            "Accuracy: 0.10590277777777778\n"
          ]
        },
        {
          "output_type": "stream",
          "name": "stderr",
          "text": [
            "\r398it [00:40, 10.44it/s]"
          ]
        },
        {
          "output_type": "stream",
          "name": "stdout",
          "text": [
            "Average Loss: 3.1433912209359463\n",
            "Accuracy: 0.10579345088161209\n",
            "Average Loss: 3.1383778704470724\n",
            "Accuracy: 0.10584170854271356\n",
            "Average Loss: 3.1342018989094518\n",
            "Accuracy: 0.10573308270676691\n"
          ]
        },
        {
          "output_type": "stream",
          "name": "stderr",
          "text": [
            "\r400it [00:41, 10.29it/s]"
          ]
        },
        {
          "output_type": "stream",
          "name": "stdout",
          "text": [
            "tensor(1.3530, device='cuda:0', grad_fn=<MseLossBackward0>)\n",
            "Average Loss: 3.1297489553689957\n",
            "Accuracy: 0.10578125\n",
            "Average Loss: 3.130906144282467\n",
            "Accuracy: 0.1059850374064838\n",
            "Average Loss: 3.128433372250837\n"
          ]
        },
        {
          "output_type": "stream",
          "name": "stderr",
          "text": [
            "404it [00:41, 10.17it/s]"
          ]
        },
        {
          "output_type": "stream",
          "name": "stdout",
          "text": [
            "Accuracy: 0.10587686567164178\n",
            "Average Loss: 3.1245490351030902\n",
            "Accuracy: 0.105924317617866\n",
            "Average Loss: 3.121412137357315\n",
            "Accuracy: 0.10612623762376237\n"
          ]
        },
        {
          "output_type": "stream",
          "name": "stderr",
          "text": [
            "\r406it [00:41, 10.26it/s]"
          ]
        },
        {
          "output_type": "stream",
          "name": "stdout",
          "text": [
            "Average Loss: 3.125088300234006\n",
            "Accuracy: 0.10617283950617284\n",
            "Average Loss: 3.1253759126945084\n",
            "Accuracy: 0.10606527093596059\n",
            "Average Loss: 3.1209662944737464\n",
            "Accuracy: 0.10626535626535627\n"
          ]
        },
        {
          "output_type": "stream",
          "name": "stderr",
          "text": [
            "410it [00:42, 10.39it/s]"
          ]
        },
        {
          "output_type": "stream",
          "name": "stdout",
          "text": [
            "Average Loss: 3.126280262774112\n",
            "Accuracy: 0.10600490196078431\n",
            "Average Loss: 3.1282320063388145\n",
            "Accuracy: 0.10574572127139364\n",
            "tensor(2.7958, device='cuda:0', grad_fn=<MseLossBackward0>)\n",
            "Average Loss: 3.127421117991936\n",
            "Accuracy: 0.10579268292682927\n"
          ]
        },
        {
          "output_type": "stream",
          "name": "stderr",
          "text": [
            "\r412it [00:42, 10.30it/s]"
          ]
        },
        {
          "output_type": "stream",
          "name": "stdout",
          "text": [
            "Average Loss: 3.1272182963480333\n",
            "Accuracy: 0.10568734793187348\n",
            "Average Loss: 3.1236501330310857\n",
            "Accuracy: 0.10573422330097088\n",
            "Average Loss: 3.126234245069379\n",
            "Accuracy: 0.10547820823244553\n"
          ]
        },
        {
          "output_type": "stream",
          "name": "stderr",
          "text": [
            "\r414it [00:42, 10.31it/s]"
          ]
        },
        {
          "output_type": "stream",
          "name": "stdout",
          "text": [
            "Average Loss: 3.1203944017921668\n",
            "Accuracy: 0.10582729468599034\n",
            "Average Loss: 3.127093796844942\n",
            "Accuracy: 0.10587349397590362\n",
            "Average Loss: 3.1274872224491377\n"
          ]
        },
        {
          "output_type": "stream",
          "name": "stderr",
          "text": [
            "418it [00:42, 10.21it/s]"
          ]
        },
        {
          "output_type": "stream",
          "name": "stdout",
          "text": [
            "Accuracy: 0.10591947115384616\n",
            "Average Loss: 3.1276330601968927\n",
            "Accuracy: 0.10626498800959233\n",
            "Average Loss: 3.128674073367598\n",
            "Accuracy: 0.10630980861244019\n"
          ]
        },
        {
          "output_type": "stream",
          "name": "stderr",
          "text": [
            "\r420it [00:43, 10.10it/s]"
          ]
        },
        {
          "output_type": "stream",
          "name": "stdout",
          "text": [
            "Average Loss: 3.128799204325619\n",
            "Accuracy: 0.10650357995226731\n",
            "tensor(2.1119, device='cuda:0', grad_fn=<MseLossBackward0>)\n",
            "Average Loss: 3.126378106219428\n",
            "Accuracy: 0.10625\n"
          ]
        },
        {
          "output_type": "stream",
          "name": "stderr",
          "text": [
            "\r422it [00:43, 10.01it/s]"
          ]
        },
        {
          "output_type": "stream",
          "name": "stdout",
          "text": [
            "Average Loss: 3.125051156642035\n",
            "Accuracy: 0.10614608076009502\n",
            "Average Loss: 3.1264612457198555\n",
            "Accuracy: 0.10619075829383887\n"
          ]
        },
        {
          "output_type": "stream",
          "name": "stderr",
          "text": [
            "\r424it [00:43,  9.95it/s]"
          ]
        },
        {
          "output_type": "stream",
          "name": "stdout",
          "text": [
            "Average Loss: 3.121927464543787\n",
            "Accuracy: 0.10638297872340426\n",
            "Average Loss: 3.1223183378296078\n",
            "Accuracy: 0.10613207547169812\n"
          ]
        },
        {
          "output_type": "stream",
          "name": "stderr",
          "text": [
            "426it [00:43,  9.89it/s]"
          ]
        },
        {
          "output_type": "stream",
          "name": "stdout",
          "text": [
            "Average Loss: 3.1194893048791323\n",
            "Accuracy: 0.10602941176470589\n",
            "Average Loss: 3.116272811318787\n",
            "Accuracy: 0.10607394366197183\n"
          ]
        },
        {
          "output_type": "stream",
          "name": "stderr",
          "text": [
            "428it [00:43,  9.88it/s]"
          ]
        },
        {
          "output_type": "stream",
          "name": "stdout",
          "text": [
            "Average Loss: 3.114302075998007\n",
            "Accuracy: 0.10611826697892272\n",
            "Average Loss: 3.113533230863999\n",
            "Accuracy: 0.10630841121495327\n"
          ]
        },
        {
          "output_type": "stream",
          "name": "stderr",
          "text": [
            "430it [00:44,  9.90it/s]"
          ]
        },
        {
          "output_type": "stream",
          "name": "stdout",
          "text": [
            "Average Loss: 3.112422592156417\n",
            "Accuracy: 0.10620629370629371\n",
            "tensor(2.7399, device='cuda:0', grad_fn=<MseLossBackward0>)\n",
            "Average Loss: 3.1115563140359037\n",
            "Accuracy: 0.10654069767441861\n"
          ]
        },
        {
          "output_type": "stream",
          "name": "stderr",
          "text": [
            "432it [00:44,  9.88it/s]"
          ]
        },
        {
          "output_type": "stream",
          "name": "stdout",
          "text": [
            "Average Loss: 3.108534665506013\n",
            "Accuracy: 0.10658352668213457\n",
            "Average Loss: 3.108464956007622\n",
            "Accuracy: 0.10691550925925926\n"
          ]
        },
        {
          "output_type": "stream",
          "name": "stderr",
          "text": [
            "435it [00:44,  9.99it/s]"
          ]
        },
        {
          "output_type": "stream",
          "name": "stdout",
          "text": [
            "Average Loss: 3.1085534610594117\n",
            "Accuracy: 0.1072459584295612\n",
            "Average Loss: 3.1120474412693957\n",
            "Accuracy: 0.10728686635944701\n",
            "Average Loss: 3.1121153094302647\n",
            "Accuracy: 0.10732758620689656\n"
          ]
        },
        {
          "output_type": "stream",
          "name": "stderr",
          "text": [
            "438it [00:44, 10.03it/s]"
          ]
        },
        {
          "output_type": "stream",
          "name": "stdout",
          "text": [
            "Average Loss: 3.109247121242208\n",
            "Accuracy: 0.10736811926605505\n",
            "Average Loss: 3.107850380293019\n",
            "Accuracy: 0.10755148741418764\n",
            "Average Loss: 3.113138309896809\n",
            "Accuracy: 0.10773401826484018\n"
          ]
        },
        {
          "output_type": "stream",
          "name": "stderr",
          "text": [
            "440it [00:45,  9.71it/s]"
          ]
        },
        {
          "output_type": "stream",
          "name": "stdout",
          "text": [
            "Average Loss: 3.1170294442318025\n",
            "Accuracy: 0.1074886104783599\n",
            "tensor(2.0946, device='cuda:0', grad_fn=<MseLossBackward0>)\n",
            "Average Loss: 3.1147056687961925\n",
            "Accuracy: 0.10724431818181818\n"
          ]
        },
        {
          "output_type": "stream",
          "name": "stderr",
          "text": [
            "443it [00:45,  9.90it/s]"
          ]
        },
        {
          "output_type": "stream",
          "name": "stdout",
          "text": [
            "Average Loss: 3.112237312896452\n",
            "Accuracy: 0.10714285714285714\n",
            "Average Loss: 3.1131446280630466\n",
            "Accuracy: 0.1070418552036199\n",
            "Average Loss: 3.1112286054253846\n",
            "Accuracy: 0.1070823927765237\n"
          ]
        },
        {
          "output_type": "stream",
          "name": "stderr",
          "text": [
            "\r444it [00:45,  9.79it/s]"
          ]
        },
        {
          "output_type": "stream",
          "name": "stdout",
          "text": [
            "Average Loss: 3.1085101183470303\n",
            "Accuracy: 0.10684121621621621\n",
            "Average Loss: 3.10912357930387\n",
            "Accuracy: 0.10702247191011235\n",
            "Average Loss: 3.1095992305353617\n"
          ]
        },
        {
          "output_type": "stream",
          "name": "stderr",
          "text": [
            "447it [00:45,  9.82it/s]"
          ]
        },
        {
          "output_type": "stream",
          "name": "stdout",
          "text": [
            "Accuracy: 0.10720291479820628\n",
            "Average Loss: 3.1077338166418227\n",
            "Accuracy: 0.10752237136465324\n",
            "Average Loss: 3.1059804164937566\n"
          ]
        },
        {
          "output_type": "stream",
          "name": "stderr",
          "text": [
            "\r449it [00:46,  9.92it/s]"
          ]
        },
        {
          "output_type": "stream",
          "name": "stdout",
          "text": [
            "Accuracy: 0.107421875\n",
            "Average Loss: 3.103221465590802\n",
            "Accuracy: 0.10746102449888642\n",
            "tensor(1.8792, device='cuda:0', grad_fn=<MseLossBackward0>)\n",
            "Average Loss: 3.100501483546363\n"
          ]
        },
        {
          "output_type": "stream",
          "name": "stderr",
          "text": [
            "\r450it [00:46,  9.90it/s]"
          ]
        },
        {
          "output_type": "stream",
          "name": "stdout",
          "text": [
            "Accuracy: 0.10736111111111112\n",
            "Average Loss: 3.0991496408064982\n",
            "Accuracy: 0.10726164079822616\n"
          ]
        },
        {
          "output_type": "stream",
          "name": "stderr",
          "text": [
            "454it [00:46, 10.07it/s]"
          ]
        },
        {
          "output_type": "stream",
          "name": "stdout",
          "text": [
            "Average Loss: 3.096199989582585\n",
            "Accuracy: 0.10716261061946902\n",
            "Average Loss: 3.0967442797246094\n",
            "Accuracy: 0.10775386313465783\n",
            "Average Loss: 3.0927751082680826\n",
            "Accuracy: 0.10779185022026432\n"
          ]
        },
        {
          "output_type": "stream",
          "name": "stderr",
          "text": [
            "\r456it [00:46, 10.25it/s]"
          ]
        },
        {
          "output_type": "stream",
          "name": "stdout",
          "text": [
            "Average Loss: 3.089241308432359\n",
            "Accuracy: 0.1076923076923077\n",
            "Average Loss: 3.088266027339718\n",
            "Accuracy: 0.10759320175438597\n",
            "Average Loss: 3.08423942627479\n",
            "Accuracy: 0.10776805251641138\n"
          ]
        },
        {
          "output_type": "stream",
          "name": "stderr",
          "text": [
            "460it [00:47, 10.50it/s]"
          ]
        },
        {
          "output_type": "stream",
          "name": "stdout",
          "text": [
            "Average Loss: 3.084007022422474\n",
            "Accuracy: 0.10766921397379912\n",
            "Average Loss: 3.083481519310563\n",
            "Accuracy: 0.10770697167755991\n",
            "tensor(3.5658, device='cuda:0', grad_fn=<MseLossBackward0>)\n",
            "Average Loss: 3.0845300542271654\n",
            "Accuracy: 0.10760869565217392\n"
          ]
        },
        {
          "output_type": "stream",
          "name": "stderr",
          "text": [
            "\r462it [00:47, 10.51it/s]"
          ]
        },
        {
          "output_type": "stream",
          "name": "stdout",
          "text": [
            "Average Loss: 3.083192427349711\n",
            "Accuracy: 0.1079175704989154\n",
            "Average Loss: 3.079676544253444\n",
            "Accuracy: 0.10836038961038962\n",
            "Average Loss: 3.0768265654664835\n",
            "Accuracy: 0.10853131749460043\n"
          ]
        },
        {
          "output_type": "stream",
          "name": "stderr",
          "text": [
            "466it [00:47, 10.67it/s]"
          ]
        },
        {
          "output_type": "stream",
          "name": "stdout",
          "text": [
            "Average Loss: 3.0745962501086037\n",
            "Accuracy: 0.10856681034482758\n",
            "Average Loss: 3.072200031947064\n",
            "Accuracy: 0.10833333333333334\n",
            "Average Loss: 3.068301897959648\n",
            "Accuracy: 0.10823497854077253\n"
          ]
        },
        {
          "output_type": "stream",
          "name": "stderr",
          "text": [
            "\r468it [00:47, 10.66it/s]"
          ]
        },
        {
          "output_type": "stream",
          "name": "stdout",
          "text": [
            "Average Loss: 3.0652565402188188\n",
            "Accuracy: 0.10800321199143469\n",
            "Average Loss: 3.06290269891421\n",
            "Accuracy: 0.10803952991452992\n",
            "Average Loss: 3.06035817838681\n",
            "Accuracy: 0.10794243070362473\n"
          ]
        },
        {
          "output_type": "stream",
          "name": "stderr",
          "text": [
            "472it [00:48, 10.70it/s]"
          ]
        },
        {
          "output_type": "stream",
          "name": "stdout",
          "text": [
            "tensor(1.5173, device='cuda:0', grad_fn=<MseLossBackward0>)\n",
            "Average Loss: 3.0570751765941053\n",
            "Accuracy: 0.10784574468085106\n",
            "Average Loss: 3.054113137747325\n",
            "Accuracy: 0.10788216560509555\n",
            "Average Loss: 3.0577156581616\n",
            "Accuracy: 0.10791843220338983\n"
          ]
        },
        {
          "output_type": "stream",
          "name": "stderr",
          "text": [
            "\r474it [00:48, 10.66it/s]"
          ]
        },
        {
          "output_type": "stream",
          "name": "stdout",
          "text": [
            "Average Loss: 3.0559365792203907\n",
            "Accuracy: 0.10821881606765328\n",
            "Average Loss: 3.0522642570708873\n",
            "Accuracy: 0.10851793248945148\n",
            "Average Loss: 3.0508083697369224\n",
            "Accuracy: 0.10868421052631579\n"
          ]
        },
        {
          "output_type": "stream",
          "name": "stderr",
          "text": [
            "478it [00:48, 10.73it/s]"
          ]
        },
        {
          "output_type": "stream",
          "name": "stdout",
          "text": [
            "Average Loss: 3.0524522759834256\n",
            "Accuracy: 0.10871848739495799\n",
            "Average Loss: 3.048662738480158\n",
            "Accuracy: 0.10888364779874214\n",
            "Average Loss: 3.0484785435090007\n",
            "Accuracy: 0.1089173640167364\n"
          ]
        },
        {
          "output_type": "stream",
          "name": "stderr",
          "text": [
            "\r480it [00:48, 10.70it/s]"
          ]
        },
        {
          "output_type": "stream",
          "name": "stdout",
          "text": [
            "Average Loss: 3.0505127518560293\n",
            "Accuracy: 0.10895093945720251\n",
            "tensor(2.2453, device='cuda:0', grad_fn=<MseLossBackward0>)\n",
            "Average Loss: 3.0488352676232657\n",
            "Accuracy: 0.108984375\n",
            "Average Loss: 3.047067421637553\n",
            "Accuracy: 0.10953742203742203\n"
          ]
        },
        {
          "output_type": "stream",
          "name": "stderr",
          "text": [
            "484it [00:49, 10.75it/s]"
          ]
        },
        {
          "output_type": "stream",
          "name": "stdout",
          "text": [
            "Average Loss: 3.0464055033640247\n",
            "Accuracy: 0.10982883817427386\n",
            "Average Loss: 3.04229954458912\n",
            "Accuracy: 0.10986024844720498\n",
            "Average Loss: 3.0390371965967917\n",
            "Accuracy: 0.10976239669421488\n"
          ]
        },
        {
          "output_type": "stream",
          "name": "stderr",
          "text": [
            "\r486it [00:49, 10.76it/s]"
          ]
        },
        {
          "output_type": "stream",
          "name": "stdout",
          "text": [
            "Average Loss: 3.0407163723227906\n",
            "Accuracy: 0.10992268041237113\n",
            "Average Loss: 3.0387908298782853\n",
            "Accuracy: 0.10982510288065844\n",
            "Average Loss: 3.0483771246806306\n",
            "Accuracy: 0.10959958932238192\n"
          ]
        },
        {
          "output_type": "stream",
          "name": "stderr",
          "text": [
            "490it [00:49, 10.69it/s]"
          ]
        },
        {
          "output_type": "stream",
          "name": "stdout",
          "text": [
            "Average Loss: 3.045735691414505\n",
            "Accuracy: 0.11001536885245902\n",
            "Average Loss: 3.04361383266488\n",
            "Accuracy: 0.10991820040899795\n",
            "tensor(4.4289, device='cuda:0', grad_fn=<MseLossBackward0>)\n",
            "Average Loss: 3.0464410188246744\n",
            "Accuracy: 0.10982142857142857\n"
          ]
        },
        {
          "output_type": "stream",
          "name": "stderr",
          "text": [
            "\r492it [00:50, 10.69it/s]"
          ]
        },
        {
          "output_type": "stream",
          "name": "stdout",
          "text": [
            "Average Loss: 3.0489979780861414\n",
            "Accuracy: 0.10972505091649694\n",
            "Average Loss: 3.0488657437688937\n",
            "Accuracy: 0.10975609756097561\n",
            "Average Loss: 3.047404328901434\n",
            "Accuracy: 0.10978701825557809\n"
          ]
        },
        {
          "output_type": "stream",
          "name": "stderr",
          "text": [
            "496it [00:50, 10.59it/s]"
          ]
        },
        {
          "output_type": "stream",
          "name": "stdout",
          "text": [
            "Average Loss: 3.043575749464846\n",
            "Accuracy: 0.10981781376518218\n",
            "Average Loss: 3.0433994098143144\n",
            "Accuracy: 0.10997474747474748\n",
            "Average Loss: 3.040375378343367\n",
            "Accuracy: 0.10987903225806452\n"
          ]
        },
        {
          "output_type": "stream",
          "name": "stderr",
          "text": [
            "\r498it [00:50, 10.63it/s]"
          ]
        },
        {
          "output_type": "stream",
          "name": "stdout",
          "text": [
            "Average Loss: 3.037549069709701\n",
            "Accuracy: 0.10990945674044265\n",
            "Average Loss: 3.034300880020402\n",
            "Accuracy: 0.10993975903614457\n",
            "Average Loss: 3.031719842033539\n",
            "Accuracy: 0.10984468937875752\n"
          ]
        },
        {
          "output_type": "stream",
          "name": "stderr",
          "text": [
            "502it [00:51, 10.78it/s]"
          ]
        },
        {
          "output_type": "stream",
          "name": "stdout",
          "text": [
            "tensor(2.5008, device='cuda:0', grad_fn=<MseLossBackward0>)\n",
            "Average Loss: 3.0306580011844635\n",
            "Accuracy: 0.10975\n",
            "Average Loss: 3.030053051883827\n",
            "Accuracy: 0.10990518962075849\n",
            "Average Loss: 3.027527736477643\n",
            "Accuracy: 0.10981075697211155\n"
          ]
        },
        {
          "output_type": "stream",
          "name": "stderr",
          "text": [
            "\r504it [00:51, 10.76it/s]"
          ]
        },
        {
          "output_type": "stream",
          "name": "stdout",
          "text": [
            "Average Loss: 3.026341519346294\n",
            "Accuracy: 0.10984095427435388\n",
            "Average Loss: 3.028508275747299\n",
            "Accuracy: 0.10999503968253968\n",
            "Average Loss: 3.0275052863772554\n",
            "Accuracy: 0.11002475247524753\n"
          ]
        },
        {
          "output_type": "stream",
          "name": "stderr",
          "text": [
            "508it [00:51, 10.71it/s]"
          ]
        },
        {
          "output_type": "stream",
          "name": "stdout",
          "text": [
            "Average Loss: 3.0259227747973716\n",
            "Accuracy: 0.10980731225296443\n",
            "Average Loss: 3.0265121079055515\n",
            "Accuracy: 0.10959072978303748\n",
            "Average Loss: 3.025347492356939\n",
            "Accuracy: 0.10974409448818898\n"
          ]
        },
        {
          "output_type": "stream",
          "name": "stderr",
          "text": [
            "\r510it [00:51, 10.65it/s]"
          ]
        },
        {
          "output_type": "stream",
          "name": "stdout",
          "text": [
            "Average Loss: 3.029081578339013\n",
            "Accuracy: 0.1100196463654224\n",
            "tensor(4.5612, device='cuda:0', grad_fn=<MseLossBackward0>)\n",
            "Average Loss: 3.0320858221428066\n",
            "Accuracy: 0.11017156862745098\n",
            "Average Loss: 3.0310042884251844\n",
            "Accuracy: 0.11044520547945205\n"
          ]
        },
        {
          "output_type": "stream",
          "name": "stderr",
          "text": [
            "514it [00:52, 10.75it/s]"
          ]
        },
        {
          "output_type": "stream",
          "name": "stdout",
          "text": [
            "Average Loss: 3.0288358645047992\n",
            "Accuracy: 0.1104736328125\n",
            "Average Loss: 3.028616056340015\n",
            "Accuracy: 0.1105019493177388\n",
            "Average Loss: 3.0261202693449385\n",
            "Accuracy: 0.11065175097276264\n"
          ]
        },
        {
          "output_type": "stream",
          "name": "stderr",
          "text": [
            "\r516it [00:52, 10.76it/s]"
          ]
        },
        {
          "output_type": "stream",
          "name": "stdout",
          "text": [
            "Average Loss: 3.023570780615205\n",
            "Accuracy: 0.1108009708737864\n",
            "Average Loss: 3.0248937907145006\n",
            "Accuracy: 0.11082848837209303\n",
            "Average Loss: 3.0225611775248837\n",
            "Accuracy: 0.1108558994197292\n"
          ]
        },
        {
          "output_type": "stream",
          "name": "stderr",
          "text": [
            "520it [00:52, 10.64it/s]"
          ]
        },
        {
          "output_type": "stream",
          "name": "stdout",
          "text": [
            "Average Loss: 3.0203232021865696\n",
            "Accuracy: 0.11088320463320463\n",
            "Average Loss: 3.0198214947603113\n",
            "Accuracy: 0.11127167630057803\n",
            "tensor(4.1642, device='cuda:0', grad_fn=<MseLossBackward0>)\n",
            "Average Loss: 3.0220222406662427\n",
            "Accuracy: 0.11129807692307692\n"
          ]
        },
        {
          "output_type": "stream",
          "name": "stderr",
          "text": [
            "\r522it [00:52, 10.61it/s]"
          ]
        },
        {
          "output_type": "stream",
          "name": "stdout",
          "text": [
            "Average Loss: 3.0203434608719397\n",
            "Accuracy: 0.11120441458733206\n",
            "Average Loss: 3.0200172527996516\n",
            "Accuracy: 0.11135057471264367\n",
            "Average Loss: 3.020733339380808\n",
            "Accuracy: 0.11137667304015296\n"
          ]
        },
        {
          "output_type": "stream",
          "name": "stderr",
          "text": [
            "526it [00:53, 10.69it/s]"
          ]
        },
        {
          "output_type": "stream",
          "name": "stdout",
          "text": [
            "Average Loss: 3.018449369050164\n",
            "Accuracy: 0.11128339694656489\n",
            "Average Loss: 3.0190040704182217\n",
            "Accuracy: 0.11119047619047619\n",
            "Average Loss: 3.020021751126409\n",
            "Accuracy: 0.11133555133079848\n"
          ]
        },
        {
          "output_type": "stream",
          "name": "stderr",
          "text": [
            "\r528it [00:53, 10.67it/s]"
          ]
        },
        {
          "output_type": "stream",
          "name": "stdout",
          "text": [
            "Average Loss: 3.01885591896933\n",
            "Accuracy: 0.11171726755218217\n",
            "Average Loss: 3.0146409458283223\n",
            "Accuracy: 0.11209753787878787\n",
            "Average Loss: 3.0158980226246306\n",
            "Accuracy: 0.11235822306238186\n"
          ]
        },
        {
          "output_type": "stream",
          "name": "stderr",
          "text": [
            "532it [00:53, 10.79it/s]"
          ]
        },
        {
          "output_type": "stream",
          "name": "stdout",
          "text": [
            "tensor(2.9883, device='cuda:0', grad_fn=<MseLossBackward0>)\n",
            "Average Loss: 3.0158459703877285\n",
            "Accuracy: 0.11214622641509434\n",
            "Average Loss: 3.0133302029916798\n",
            "Accuracy: 0.1120527306967985\n",
            "Average Loss: 3.0161754970711874\n",
            "Accuracy: 0.11219454887218046\n"
          ]
        },
        {
          "output_type": "stream",
          "name": "stderr",
          "text": [
            "\r534it [00:54, 10.87it/s]"
          ]
        },
        {
          "output_type": "stream",
          "name": "stdout",
          "text": [
            "Average Loss: 3.0157940166305197\n",
            "Accuracy: 0.11210131332082551\n",
            "Average Loss: 3.0122440126951266\n",
            "Accuracy: 0.112125468164794\n",
            "Average Loss: 3.0124266787110088\n",
            "Accuracy: 0.11214953271028037\n"
          ]
        },
        {
          "output_type": "stream",
          "name": "stderr",
          "text": [
            "538it [00:54, 10.80it/s]"
          ]
        },
        {
          "output_type": "stream",
          "name": "stdout",
          "text": [
            "Average Loss: 3.010610350699567\n",
            "Accuracy: 0.11205690298507463\n",
            "Average Loss: 3.009588330595631\n",
            "Accuracy: 0.11208100558659218\n",
            "Average Loss: 3.0130105561483305\n",
            "Accuracy: 0.11210501858736059\n"
          ]
        },
        {
          "output_type": "stream",
          "name": "stderr",
          "text": [
            "\r540it [00:54, 10.73it/s]"
          ]
        },
        {
          "output_type": "stream",
          "name": "stdout",
          "text": [
            "Average Loss: 3.014444764558371\n",
            "Accuracy: 0.11189703153988868\n",
            "tensor(5.2476, device='cuda:0', grad_fn=<MseLossBackward0>)\n",
            "Average Loss: 3.018580319484075\n",
            "Accuracy: 0.11203703703703703\n",
            "Average Loss: 3.015973752395503\n",
            "Accuracy: 0.11182994454713494\n"
          ]
        },
        {
          "output_type": "stream",
          "name": "stderr",
          "text": [
            "544it [00:54, 10.72it/s]"
          ]
        },
        {
          "output_type": "stream",
          "name": "stdout",
          "text": [
            "Average Loss: 3.017814313573591\n",
            "Accuracy: 0.11162361623616236\n",
            "Average Loss: 3.013582977910507\n",
            "Accuracy: 0.11199355432780847\n",
            "Average Loss: 3.01718158066711\n",
            "Accuracy: 0.11201746323529412\n"
          ]
        },
        {
          "output_type": "stream",
          "name": "stderr",
          "text": [
            "\r546it [00:55, 10.78it/s]"
          ]
        },
        {
          "output_type": "stream",
          "name": "stdout",
          "text": [
            "Average Loss: 3.01612886649753\n",
            "Accuracy: 0.11204128440366973\n",
            "Average Loss: 3.016195455422768\n",
            "Accuracy: 0.11240842490842491\n",
            "Average Loss: 3.0140078208346255\n",
            "Accuracy: 0.11231718464351005\n"
          ]
        },
        {
          "output_type": "stream",
          "name": "stderr",
          "text": [
            "550it [00:55, 10.71it/s]"
          ]
        },
        {
          "output_type": "stream",
          "name": "stdout",
          "text": [
            "Average Loss: 3.0121219805339825\n",
            "Accuracy: 0.11211222627737226\n",
            "Average Loss: 3.0095970905326537\n",
            "Accuracy: 0.11213570127504553\n",
            "tensor(2.3946, device='cuda:0', grad_fn=<MseLossBackward0>)\n",
            "Average Loss: 3.008478858796033\n",
            "Accuracy: 0.11193181818181819\n"
          ]
        },
        {
          "output_type": "stream",
          "name": "stderr",
          "text": [
            "\r552it [00:55, 10.55it/s]"
          ]
        },
        {
          "output_type": "stream",
          "name": "stdout",
          "text": [
            "Average Loss: 3.0104856081104105\n",
            "Accuracy: 0.11172867513611615\n",
            "Average Loss: 3.0115329611344612\n",
            "Accuracy: 0.11175271739130435\n",
            "Average Loss: 3.0077643650996535\n",
            "Accuracy: 0.11200271247739602\n"
          ]
        },
        {
          "output_type": "stream",
          "name": "stderr",
          "text": [
            "556it [00:56, 10.71it/s]"
          ]
        },
        {
          "output_type": "stream",
          "name": "stdout",
          "text": [
            "Average Loss: 3.0051232178288676\n",
            "Accuracy: 0.11191335740072202\n",
            "Average Loss: 3.005119881544027\n",
            "Accuracy: 0.11227477477477478\n",
            "Average Loss: 3.005798627361119\n",
            "Accuracy: 0.11218525179856115\n"
          ]
        },
        {
          "output_type": "stream",
          "name": "stderr",
          "text": [
            "\r558it [00:56, 10.70it/s]"
          ]
        },
        {
          "output_type": "stream",
          "name": "stdout",
          "text": [
            "Average Loss: 3.001843133242383\n",
            "Accuracy: 0.11254488330341113\n",
            "Average Loss: 3.001785348499975\n",
            "Accuracy: 0.11234318996415771\n",
            "Average Loss: 3.0012182081534737\n",
            "Accuracy: 0.11225402504472272\n"
          ]
        },
        {
          "output_type": "stream",
          "name": "stderr",
          "text": [
            "562it [00:56, 10.70it/s]"
          ]
        },
        {
          "output_type": "stream",
          "name": "stdout",
          "text": [
            "tensor(1.5076, device='cuda:0', grad_fn=<MseLossBackward0>)\n",
            "Average Loss: 2.9985509586121353\n",
            "Accuracy: 0.11238839285714286\n",
            "Average Loss: 2.9999668937103423\n",
            "Accuracy: 0.11229946524064172\n",
            "Average Loss: 2.999070222585651\n",
            "Accuracy: 0.11254448398576512\n"
          ]
        },
        {
          "output_type": "stream",
          "name": "stderr",
          "text": [
            "\r564it [00:56, 10.75it/s]"
          ]
        },
        {
          "output_type": "stream",
          "name": "stdout",
          "text": [
            "Average Loss: 3.000650266029907\n",
            "Accuracy: 0.11234458259325045\n",
            "Average Loss: 3.002609664561055\n",
            "Accuracy: 0.11225620567375887\n",
            "Average Loss: 3.0002576556880918\n",
            "Accuracy: 0.11216814159292035\n"
          ]
        },
        {
          "output_type": "stream",
          "name": "stderr",
          "text": [
            "568it [00:57, 10.79it/s]"
          ]
        },
        {
          "output_type": "stream",
          "name": "stdout",
          "text": [
            "Average Loss: 2.9978417030703475\n",
            "Accuracy: 0.11219081272084806\n",
            "Average Loss: 2.996534579119775\n",
            "Accuracy: 0.11243386243386243\n",
            "Average Loss: 2.9940688814705525\n",
            "Accuracy: 0.11267605633802817\n"
          ]
        },
        {
          "output_type": "stream",
          "name": "stderr",
          "text": [
            "\r570it [00:57, 10.59it/s]"
          ]
        },
        {
          "output_type": "stream",
          "name": "stdout",
          "text": [
            "Average Loss: 2.9948730765201925\n",
            "Accuracy: 0.11291739894551846\n",
            "tensor(1.8826, device='cuda:0', grad_fn=<MseLossBackward0>)\n",
            "Average Loss: 2.992921702380766\n",
            "Accuracy: 0.11304824561403509\n",
            "Average Loss: 2.9954666084040693\n",
            "Accuracy: 0.11306917688266199\n"
          ]
        },
        {
          "output_type": "stream",
          "name": "stderr",
          "text": [
            "573it [00:57,  9.94it/s]\n"
          ]
        },
        {
          "output_type": "stream",
          "name": "stdout",
          "text": [
            "Average Loss: 2.9917192247572477\n",
            "Accuracy: 0.11298076923076923\n",
            "Average Loss: 2.99139184446235\n",
            "Accuracy: 0.11300174520069808\n"
          ]
        },
        {
          "output_type": "stream",
          "name": "stderr",
          "text": [
            "\r0it [00:00, ?it/s]"
          ]
        },
        {
          "output_type": "stream",
          "name": "stdout",
          "text": [
            "Average Loss: 2.793490409851074\n",
            "Accuracy: 0.0\n"
          ]
        },
        {
          "output_type": "stream",
          "name": "stderr",
          "text": [
            "\r2it [00:00, 10.78it/s]"
          ]
        },
        {
          "output_type": "stream",
          "name": "stdout",
          "text": [
            "Average Loss: 2.358914077281952\n",
            "Accuracy: 0.0625\n",
            "Average Loss: 2.6480002800623574\n",
            "Accuracy: 0.08333333333333333\n"
          ]
        },
        {
          "output_type": "stream",
          "name": "stderr",
          "text": [
            "6it [00:00, 10.29it/s]"
          ]
        },
        {
          "output_type": "stream",
          "name": "stdout",
          "text": [
            "Average Loss: 2.3328908681869507\n",
            "Accuracy: 0.109375\n",
            "Average Loss: 2.2586748123168947\n",
            "Accuracy: 0.1\n",
            "Average Loss: 2.3954881032307944\n",
            "Accuracy: 0.10416666666666667\n"
          ]
        },
        {
          "output_type": "stream",
          "name": "stderr",
          "text": [
            "\r8it [00:00, 10.41it/s]"
          ]
        },
        {
          "output_type": "stream",
          "name": "stdout",
          "text": [
            "Average Loss: 2.6703547069004605\n",
            "Accuracy: 0.11607142857142858\n",
            "Average Loss: 2.6102503538131714\n",
            "Accuracy: 0.1328125\n",
            "Average Loss: 2.4663993650012546\n",
            "Accuracy: 0.13194444444444445\n"
          ]
        },
        {
          "output_type": "stream",
          "name": "stderr",
          "text": [
            "12it [00:01, 10.45it/s]"
          ]
        },
        {
          "output_type": "stream",
          "name": "stdout",
          "text": [
            "tensor(1.2880, device='cuda:0', grad_fn=<MseLossBackward0>)\n",
            "Average Loss: 2.348560607433319\n",
            "Accuracy: 0.14375\n",
            "Average Loss: 2.34467631036585\n",
            "Accuracy: 0.14204545454545456\n",
            "Average Loss: 2.392523874839147\n",
            "Accuracy: 0.13541666666666666\n"
          ]
        },
        {
          "output_type": "stream",
          "name": "stderr",
          "text": [
            "\r14it [00:01, 10.53it/s]"
          ]
        },
        {
          "output_type": "stream",
          "name": "stdout",
          "text": [
            "Average Loss: 2.298884290915269\n",
            "Accuracy: 0.14423076923076922\n",
            "Average Loss: 2.3482490352221896\n",
            "Accuracy: 0.13839285714285715\n",
            "Average Loss: 2.319852519035339\n",
            "Accuracy: 0.14166666666666666\n"
          ]
        },
        {
          "output_type": "stream",
          "name": "stderr",
          "text": [
            "18it [00:01, 10.41it/s]"
          ]
        },
        {
          "output_type": "stream",
          "name": "stdout",
          "text": [
            "Average Loss: 2.240129567682743\n",
            "Accuracy: 0.140625\n",
            "Average Loss: 2.1750615063835594\n",
            "Accuracy: 0.14338235294117646\n",
            "Average Loss: 2.203693469365438\n",
            "Accuracy: 0.14583333333333334\n"
          ]
        },
        {
          "output_type": "stream",
          "name": "stderr",
          "text": [
            "\r20it [00:01, 10.32it/s]"
          ]
        },
        {
          "output_type": "stream",
          "name": "stdout",
          "text": [
            "Average Loss: 2.1749985218048096\n",
            "Accuracy: 0.1513157894736842\n",
            "tensor(2.7271, device='cuda:0', grad_fn=<MseLossBackward0>)\n",
            "Average Loss: 2.2026058793067933\n",
            "Accuracy: 0.146875\n",
            "Average Loss: 2.2014208180563792\n",
            "Accuracy: 0.14583333333333334\n"
          ]
        },
        {
          "output_type": "stream",
          "name": "stderr",
          "text": [
            "24it [00:02, 10.27it/s]"
          ]
        },
        {
          "output_type": "stream",
          "name": "stdout",
          "text": [
            "Average Loss: 2.1776357184756887\n",
            "Accuracy: 0.14772727272727273\n",
            "Average Loss: 2.2377046968625938\n",
            "Accuracy: 0.14402173913043478\n",
            "Average Loss: 2.220532069603602\n",
            "Accuracy: 0.14322916666666666\n"
          ]
        },
        {
          "output_type": "stream",
          "name": "stderr",
          "text": [
            "\r26it [00:02, 10.27it/s]"
          ]
        },
        {
          "output_type": "stream",
          "name": "stdout",
          "text": [
            "Average Loss: 2.182547845840454\n",
            "Accuracy: 0.1475\n",
            "Average Loss: 2.1328684641764712\n",
            "Accuracy: 0.15144230769230768\n"
          ]
        },
        {
          "output_type": "stream",
          "name": "stderr",
          "text": [
            "\r28it [00:02, 10.06it/s]"
          ]
        },
        {
          "output_type": "stream",
          "name": "stdout",
          "text": [
            "Average Loss: 2.0962918157930726\n",
            "Accuracy: 0.14583333333333334\n",
            "Average Loss: 2.08776079756873\n",
            "Accuracy: 0.14285714285714285\n"
          ]
        },
        {
          "output_type": "stream",
          "name": "stderr",
          "text": [
            "\r30it [00:02, 10.06it/s]"
          ]
        },
        {
          "output_type": "stream",
          "name": "stdout",
          "text": [
            "Average Loss: 2.0754712696733146\n",
            "Accuracy: 0.14224137931034483\n",
            "tensor(1.0577, device='cuda:0', grad_fn=<MseLossBackward0>)\n",
            "Average Loss: 2.0415442943573\n",
            "Accuracy: 0.14583333333333334\n",
            "Average Loss: 2.058118704826601\n",
            "Accuracy: 0.1431451612903226\n"
          ]
        },
        {
          "output_type": "stream",
          "name": "stderr",
          "text": [
            "34it [00:03, 10.28it/s]"
          ]
        },
        {
          "output_type": "stream",
          "name": "stdout",
          "text": [
            "Average Loss: 2.018027562648058\n",
            "Accuracy: 0.142578125\n",
            "Average Loss: 2.000069397868532\n",
            "Accuracy: 0.14204545454545456\n",
            "Average Loss: 1.996177480501287\n",
            "Accuracy: 0.14154411764705882\n"
          ]
        },
        {
          "output_type": "stream",
          "name": "stderr",
          "text": [
            "\r36it [00:03, 10.30it/s]"
          ]
        },
        {
          "output_type": "stream",
          "name": "stdout",
          "text": [
            "Average Loss: 1.9675952911376953\n",
            "Accuracy: 0.1392857142857143\n",
            "Average Loss: 2.0050298704041376\n",
            "Accuracy: 0.13541666666666666\n",
            "Average Loss: 2.0069538387092383\n",
            "Accuracy: 0.13513513513513514\n"
          ]
        },
        {
          "output_type": "stream",
          "name": "stderr",
          "text": [
            "40it [00:03, 10.30it/s]"
          ]
        },
        {
          "output_type": "stream",
          "name": "stdout",
          "text": [
            "Average Loss: 1.984262830332706\n",
            "Accuracy: 0.13815789473684212\n",
            "Average Loss: 1.9873758829556978\n",
            "Accuracy: 0.1362179487179487\n",
            "tensor(1.3218, device='cuda:0', grad_fn=<MseLossBackward0>)\n",
            "Average Loss: 1.970736289024353\n",
            "Accuracy: 0.1328125\n"
          ]
        },
        {
          "output_type": "stream",
          "name": "stderr",
          "text": [
            "\r42it [00:04, 10.42it/s]"
          ]
        },
        {
          "output_type": "stream",
          "name": "stdout",
          "text": [
            "Average Loss: 1.992118800558695\n",
            "Accuracy: 0.1326219512195122\n",
            "Average Loss: 1.967475346156529\n",
            "Accuracy: 0.13095238095238096\n",
            "Average Loss: 1.9481923968292947\n",
            "Accuracy: 0.1308139534883721\n"
          ]
        },
        {
          "output_type": "stream",
          "name": "stderr",
          "text": [
            "46it [00:04, 10.62it/s]"
          ]
        },
        {
          "output_type": "stream",
          "name": "stdout",
          "text": [
            "Average Loss: 1.9279166216200048\n",
            "Accuracy: 0.13068181818181818\n",
            "Average Loss: 1.92602608733707\n",
            "Accuracy: 0.12916666666666668\n",
            "Average Loss: 1.9370553208434063\n",
            "Accuracy: 0.12771739130434784\n"
          ]
        },
        {
          "output_type": "stream",
          "name": "stderr",
          "text": [
            "\r48it [00:04, 10.65it/s]"
          ]
        },
        {
          "output_type": "stream",
          "name": "stdout",
          "text": [
            "Average Loss: 1.9226405341574486\n",
            "Accuracy: 0.13031914893617022\n",
            "Average Loss: 1.952571116387844\n",
            "Accuracy: 0.12890625\n",
            "Average Loss: 1.9563709205510664\n",
            "Accuracy: 0.13010204081632654\n"
          ]
        },
        {
          "output_type": "stream",
          "name": "stderr",
          "text": [
            "52it [00:04, 10.68it/s]"
          ]
        },
        {
          "output_type": "stream",
          "name": "stdout",
          "text": [
            "tensor(2.4261, device='cuda:0', grad_fn=<MseLossBackward0>)\n",
            "Average Loss: 1.965764853954315\n",
            "Accuracy: 0.12875\n",
            "Average Loss: 1.9440737167994182\n",
            "Accuracy: 0.12867647058823528\n",
            "Average Loss: 1.942764204282027\n",
            "Accuracy: 0.12980769230769232\n"
          ]
        },
        {
          "output_type": "stream",
          "name": "stderr",
          "text": [
            "\r54it [00:05, 10.69it/s]"
          ]
        },
        {
          "output_type": "stream",
          "name": "stdout",
          "text": [
            "Average Loss: 1.9537036778791896\n",
            "Accuracy: 0.12971698113207547\n",
            "Average Loss: 2.003394855393304\n",
            "Accuracy: 0.1284722222222222\n",
            "Average Loss: 1.9857152462005616\n",
            "Accuracy: 0.12727272727272726\n"
          ]
        },
        {
          "output_type": "stream",
          "name": "stderr",
          "text": [
            "58it [00:05, 10.84it/s]"
          ]
        },
        {
          "output_type": "stream",
          "name": "stdout",
          "text": [
            "Average Loss: 1.9983712221894945\n",
            "Accuracy: 0.12611607142857142\n",
            "Average Loss: 2.0207176250323915\n",
            "Accuracy: 0.12828947368421054\n",
            "Average Loss: 2.0641959001278054\n",
            "Accuracy: 0.1271551724137931\n"
          ]
        },
        {
          "output_type": "stream",
          "name": "stderr",
          "text": [
            "\r60it [00:05, 10.75it/s]"
          ]
        },
        {
          "output_type": "stream",
          "name": "stdout",
          "text": [
            "Average Loss: 2.0558890043678932\n",
            "Accuracy: 0.1271186440677966\n",
            "tensor(3.2283, device='cuda:0', grad_fn=<MseLossBackward0>)\n",
            "Average Loss: 2.0754293123881022\n",
            "Accuracy: 0.12708333333333333\n",
            "Average Loss: 2.0801853430075723\n",
            "Accuracy: 0.1260245901639344\n"
          ]
        },
        {
          "output_type": "stream",
          "name": "stderr",
          "text": [
            "64it [00:06, 10.67it/s]"
          ]
        },
        {
          "output_type": "stream",
          "name": "stdout",
          "text": [
            "Average Loss: 2.0734171713552167\n",
            "Accuracy: 0.125\n",
            "Average Loss: 2.0654963273850697\n",
            "Accuracy: 0.125\n",
            "Average Loss: 2.060380572453141\n",
            "Accuracy: 0.1240234375\n"
          ]
        },
        {
          "output_type": "stream",
          "name": "stderr",
          "text": [
            "\r66it [00:06, 10.68it/s]"
          ]
        },
        {
          "output_type": "stream",
          "name": "stdout",
          "text": [
            "Average Loss: 2.073588255735544\n",
            "Accuracy: 0.12211538461538461\n",
            "Average Loss: 2.0617419770269683\n",
            "Accuracy: 0.12121212121212122\n",
            "Average Loss: 2.0533473794140034\n",
            "Accuracy: 0.12126865671641791\n"
          ]
        },
        {
          "output_type": "stream",
          "name": "stderr",
          "text": [
            "70it [00:06, 10.65it/s]"
          ]
        },
        {
          "output_type": "stream",
          "name": "stdout",
          "text": [
            "Average Loss: 2.0408493631026325\n",
            "Accuracy: 0.12316176470588236\n",
            "Average Loss: 2.0368629158407017\n",
            "Accuracy: 0.12409420289855072\n",
            "tensor(1.7525, device='cuda:0', grad_fn=<MseLossBackward0>)\n",
            "Average Loss: 2.0328011529786245\n",
            "Accuracy: 0.12678571428571428\n"
          ]
        },
        {
          "output_type": "stream",
          "name": "stderr",
          "text": [
            "\r72it [00:06, 10.60it/s]"
          ]
        },
        {
          "output_type": "stream",
          "name": "stdout",
          "text": [
            "Average Loss: 2.0435716383893725\n",
            "Accuracy: 0.12588028169014084\n",
            "Average Loss: 2.0531733019484415\n",
            "Accuracy: 0.12413194444444445\n",
            "Average Loss: 2.0412046860342157\n",
            "Accuracy: 0.125\n"
          ]
        },
        {
          "output_type": "stream",
          "name": "stderr",
          "text": [
            "76it [00:07, 10.71it/s]"
          ]
        },
        {
          "output_type": "stream",
          "name": "stdout",
          "text": [
            "Average Loss: 2.0315120397387325\n",
            "Accuracy: 0.1258445945945946\n",
            "Average Loss: 2.0203182713190713\n",
            "Accuracy: 0.12416666666666666\n",
            "Average Loss: 2.005575514937702\n",
            "Accuracy: 0.125\n"
          ]
        },
        {
          "output_type": "stream",
          "name": "stderr",
          "text": [
            "\r78it [00:07, 10.65it/s]"
          ]
        },
        {
          "output_type": "stream",
          "name": "stdout",
          "text": [
            "Average Loss: 2.0041800094889357\n",
            "Accuracy: 0.1241883116883117\n",
            "Average Loss: 1.9990273309059632\n",
            "Accuracy: 0.12419871794871795\n",
            "Average Loss: 2.01607176548318\n",
            "Accuracy: 0.12341772151898735\n"
          ]
        },
        {
          "output_type": "stream",
          "name": "stderr",
          "text": [
            "82it [00:07, 10.76it/s]"
          ]
        },
        {
          "output_type": "stream",
          "name": "stdout",
          "text": [
            "tensor(1.6449, device='cuda:0', grad_fn=<MseLossBackward0>)\n",
            "Average Loss: 2.011432250589132\n",
            "Accuracy: 0.12265625\n",
            "Average Loss: 1.9962651839962713\n",
            "Accuracy: 0.12268518518518519\n",
            "Average Loss: 1.9933779784818975\n",
            "Accuracy: 0.125\n"
          ]
        },
        {
          "output_type": "stream",
          "name": "stderr",
          "text": [
            "\r84it [00:07, 10.79it/s]"
          ]
        },
        {
          "output_type": "stream",
          "name": "stdout",
          "text": [
            "Average Loss: 1.9939303678202343\n",
            "Accuracy: 0.12575301204819278\n",
            "Average Loss: 1.994195784131686\n",
            "Accuracy: 0.12425595238095238\n",
            "Average Loss: 2.012559620773091\n",
            "Accuracy: 0.12426470588235294\n"
          ]
        },
        {
          "output_type": "stream",
          "name": "stderr",
          "text": [
            "88it [00:08, 10.87it/s]"
          ]
        },
        {
          "output_type": "stream",
          "name": "stdout",
          "text": [
            "Average Loss: 2.010409773089165\n",
            "Accuracy: 0.125\n",
            "Average Loss: 2.003401589804682\n",
            "Accuracy: 0.12428160919540229\n",
            "Average Loss: 1.996425168758089\n",
            "Accuracy: 0.125\n"
          ]
        },
        {
          "output_type": "stream",
          "name": "stderr",
          "text": [
            "\r90it [00:08, 10.87it/s]"
          ]
        },
        {
          "output_type": "stream",
          "name": "stdout",
          "text": [
            "Average Loss: 1.9910339043381509\n",
            "Accuracy: 0.12570224719101122\n",
            "tensor(0.6347, device='cuda:0', grad_fn=<MseLossBackward0>)\n",
            "Average Loss: 1.9759637806150647\n",
            "Accuracy: 0.125\n",
            "Average Loss: 1.9841441819956014\n",
            "Accuracy: 0.12431318681318682\n"
          ]
        },
        {
          "output_type": "stream",
          "name": "stderr",
          "text": [
            "94it [00:08, 10.90it/s]"
          ]
        },
        {
          "output_type": "stream",
          "name": "stdout",
          "text": [
            "Average Loss: 1.9874174206153206\n",
            "Accuracy: 0.12567934782608695\n",
            "Average Loss: 2.004419942055979\n",
            "Accuracy: 0.12634408602150538\n",
            "Average Loss: 2.008137596414444\n",
            "Accuracy: 0.12632978723404256\n"
          ]
        },
        {
          "output_type": "stream",
          "name": "stderr",
          "text": [
            "\r96it [00:09, 10.81it/s]"
          ]
        },
        {
          "output_type": "stream",
          "name": "stdout",
          "text": [
            "Average Loss: 2.009142188022011\n",
            "Accuracy: 0.125\n",
            "Average Loss: 2.0073555459578833\n",
            "Accuracy: 0.12369791666666667\n",
            "Average Loss: 2.0075446600766527\n",
            "Accuracy: 0.12435567010309279\n"
          ]
        },
        {
          "output_type": "stream",
          "name": "stderr",
          "text": [
            "100it [00:09, 10.83it/s]"
          ]
        },
        {
          "output_type": "stream",
          "name": "stdout",
          "text": [
            "Average Loss: 1.99560320498992\n",
            "Accuracy: 0.125\n",
            "Average Loss: 2.014144915522951\n",
            "Accuracy: 0.125\n",
            "tensor(2.8641, device='cuda:0', grad_fn=<MseLossBackward0>)\n",
            "Average Loss: 2.022644511461258\n",
            "Accuracy: 0.124375\n"
          ]
        },
        {
          "output_type": "stream",
          "name": "stderr",
          "text": [
            "\r102it [00:09, 10.66it/s]"
          ]
        },
        {
          "output_type": "stream",
          "name": "stdout",
          "text": [
            "Average Loss: 2.023226743877524\n",
            "Accuracy: 0.125\n",
            "Average Loss: 2.0148027702873827\n",
            "Accuracy: 0.125\n",
            "Average Loss: 2.0110974091927982\n",
            "Accuracy: 0.1262135922330097\n"
          ]
        },
        {
          "output_type": "stream",
          "name": "stderr",
          "text": [
            "106it [00:10, 10.53it/s]"
          ]
        },
        {
          "output_type": "stream",
          "name": "stdout",
          "text": [
            "Average Loss: 2.0003871585314092\n",
            "Accuracy: 0.1268028846153846\n",
            "Average Loss: 2.000825758207412\n",
            "Accuracy: 0.12738095238095237\n",
            "Average Loss: 1.9991132414565895\n",
            "Accuracy: 0.1267688679245283\n"
          ]
        },
        {
          "output_type": "stream",
          "name": "stderr",
          "text": [
            "\r108it [00:10, 10.57it/s]"
          ]
        },
        {
          "output_type": "stream",
          "name": "stdout",
          "text": [
            "Average Loss: 1.9952786380999556\n",
            "Accuracy: 0.1261682242990654\n",
            "Average Loss: 1.984012610382504\n",
            "Accuracy: 0.1267361111111111\n",
            "Average Loss: 1.9754888377058397\n",
            "Accuracy: 0.12729357798165136\n"
          ]
        },
        {
          "output_type": "stream",
          "name": "stderr",
          "text": [
            "112it [00:10, 10.57it/s]"
          ]
        },
        {
          "output_type": "stream",
          "name": "stdout",
          "text": [
            "tensor(1.1391, device='cuda:0', grad_fn=<MseLossBackward0>)\n",
            "Average Loss: 1.967885260148482\n",
            "Accuracy: 0.12613636363636363\n",
            "Average Loss: 1.9669709248585745\n",
            "Accuracy: 0.12612612612612611\n",
            "Average Loss: 1.9707286187580653\n",
            "Accuracy: 0.12723214285714285\n"
          ]
        },
        {
          "output_type": "stream",
          "name": "stderr",
          "text": [
            "\r114it [00:10, 10.51it/s]"
          ]
        },
        {
          "output_type": "stream",
          "name": "stdout",
          "text": [
            "Average Loss: 1.9701651355861562\n",
            "Accuracy: 0.12721238938053098\n",
            "Average Loss: 1.9654703548080044\n",
            "Accuracy: 0.12664473684210525\n",
            "Average Loss: 1.9638733936392743\n",
            "Accuracy: 0.12554347826086956\n"
          ]
        },
        {
          "output_type": "stream",
          "name": "stderr",
          "text": [
            "118it [00:11, 10.54it/s]"
          ]
        },
        {
          "output_type": "stream",
          "name": "stdout",
          "text": [
            "Average Loss: 1.9624118106118564\n",
            "Accuracy: 0.125\n",
            "Average Loss: 1.9535723252174182\n",
            "Accuracy: 0.12553418803418803\n",
            "Average Loss: 1.9426937956931227\n",
            "Accuracy: 0.1260593220338983\n"
          ]
        },
        {
          "output_type": "stream",
          "name": "stderr",
          "text": [
            "\r120it [00:11, 10.51it/s]"
          ]
        },
        {
          "output_type": "stream",
          "name": "stdout",
          "text": [
            "Average Loss: 1.9566982819252656\n",
            "Accuracy: 0.12605042016806722\n",
            "tensor(2.5793, device='cuda:0', grad_fn=<MseLossBackward0>)\n",
            "Average Loss: 1.9618869011600812\n",
            "Accuracy: 0.12552083333333333\n",
            "Average Loss: 1.9523856295041802\n",
            "Accuracy: 0.12603305785123967\n"
          ]
        },
        {
          "output_type": "stream",
          "name": "stderr",
          "text": [
            "124it [00:11, 10.65it/s]"
          ]
        },
        {
          "output_type": "stream",
          "name": "stdout",
          "text": [
            "Average Loss: 1.9485529612322323\n",
            "Accuracy: 0.1260245901639344\n",
            "Average Loss: 1.9459620675420373\n",
            "Accuracy: 0.12703252032520326\n",
            "Average Loss: 1.9395575984831779\n",
            "Accuracy: 0.12903225806451613\n"
          ]
        },
        {
          "output_type": "stream",
          "name": "stderr",
          "text": [
            "\r126it [00:11, 10.59it/s]"
          ]
        },
        {
          "output_type": "stream",
          "name": "stdout",
          "text": [
            "Average Loss: 1.9341016597747802\n",
            "Accuracy: 0.129\n",
            "Average Loss: 1.9343352809784904\n",
            "Accuracy: 0.12946428571428573\n",
            "Average Loss: 1.9325247158215741\n",
            "Accuracy: 0.12893700787401574\n"
          ]
        },
        {
          "output_type": "stream",
          "name": "stderr",
          "text": [
            "130it [00:12, 10.73it/s]"
          ]
        },
        {
          "output_type": "stream",
          "name": "stdout",
          "text": [
            "Average Loss: 1.9260961199179292\n",
            "Accuracy: 0.1279296875\n",
            "Average Loss: 1.9206141612326453\n",
            "Accuracy: 0.12887596899224807\n",
            "tensor(1.3988, device='cuda:0', grad_fn=<MseLossBackward0>)\n",
            "Average Loss: 1.916600513458252\n",
            "Accuracy: 0.1293269230769231\n"
          ]
        },
        {
          "output_type": "stream",
          "name": "stderr",
          "text": [
            "\r132it [00:12, 10.73it/s]"
          ]
        },
        {
          "output_type": "stream",
          "name": "stdout",
          "text": [
            "Average Loss: 1.909640742622259\n",
            "Accuracy: 0.129293893129771\n",
            "Average Loss: 1.9143785789157406\n",
            "Accuracy: 0.12878787878787878\n",
            "Average Loss: 1.922897199939068\n",
            "Accuracy: 0.12781954887218044\n"
          ]
        },
        {
          "output_type": "stream",
          "name": "stderr",
          "text": [
            "136it [00:12, 10.72it/s]"
          ]
        },
        {
          "output_type": "stream",
          "name": "stdout",
          "text": [
            "Average Loss: 1.9169849522078215\n",
            "Accuracy: 0.12733208955223882\n",
            "Average Loss: 1.9111559647100944\n",
            "Accuracy: 0.12824074074074074\n",
            "Average Loss: 1.9528839404092115\n",
            "Accuracy: 0.12775735294117646\n"
          ]
        },
        {
          "output_type": "stream",
          "name": "stderr",
          "text": [
            "\r138it [00:13, 10.65it/s]"
          ]
        },
        {
          "output_type": "stream",
          "name": "stdout",
          "text": [
            "Average Loss: 1.9454375470641756\n",
            "Accuracy: 0.12773722627737227\n",
            "Average Loss: 1.9457831797392473\n",
            "Accuracy: 0.12817028985507245\n",
            "Average Loss: 1.9401599348877832\n",
            "Accuracy: 0.1281474820143885\n"
          ]
        },
        {
          "output_type": "stream",
          "name": "stderr",
          "text": [
            "142it [00:13, 10.53it/s]"
          ]
        },
        {
          "output_type": "stream",
          "name": "stdout",
          "text": [
            "tensor(1.9541, device='cuda:0', grad_fn=<MseLossBackward0>)\n",
            "Average Loss: 1.940259200334549\n",
            "Accuracy: 0.12767857142857142\n",
            "Average Loss: 1.9320417460820354\n",
            "Accuracy: 0.12721631205673758\n",
            "Average Loss: 1.9282417125265363\n",
            "Accuracy: 0.12720070422535212\n"
          ]
        },
        {
          "output_type": "stream",
          "name": "stderr",
          "text": [
            "\r144it [00:13, 10.48it/s]"
          ]
        },
        {
          "output_type": "stream",
          "name": "stdout",
          "text": [
            "Average Loss: 1.9247104909036543\n",
            "Accuracy: 0.1271853146853147\n",
            "Average Loss: 1.9434764886067972\n",
            "Accuracy: 0.12630208333333334\n",
            "Average Loss: 1.9367024980742356\n",
            "Accuracy: 0.1271551724137931\n"
          ]
        },
        {
          "output_type": "stream",
          "name": "stderr",
          "text": [
            "148it [00:14, 10.40it/s]"
          ]
        },
        {
          "output_type": "stream",
          "name": "stdout",
          "text": [
            "Average Loss: 1.9297233183090001\n",
            "Accuracy: 0.1292808219178082\n",
            "Average Loss: 1.9373968263872627\n",
            "Accuracy: 0.13052721088435373\n",
            "Average Loss: 1.9296290230106663\n",
            "Accuracy: 0.13133445945945946\n"
          ]
        },
        {
          "output_type": "stream",
          "name": "stderr",
          "text": [
            "\r150it [00:14, 10.47it/s]"
          ]
        },
        {
          "output_type": "stream",
          "name": "stdout",
          "text": [
            "Average Loss: 1.9274277743077117\n",
            "Accuracy: 0.13213087248322147\n",
            "tensor(3.1062, device='cuda:0', grad_fn=<MseLossBackward0>)\n",
            "Average Loss: 1.9352864480018617\n",
            "Accuracy: 0.13208333333333333\n",
            "Average Loss: 1.9389047030581543\n",
            "Accuracy: 0.1316225165562914\n"
          ]
        },
        {
          "output_type": "stream",
          "name": "stderr",
          "text": [
            "154it [00:14, 10.60it/s]"
          ]
        },
        {
          "output_type": "stream",
          "name": "stdout",
          "text": [
            "Average Loss: 1.9415775843356784\n",
            "Accuracy: 0.13116776315789475\n",
            "Average Loss: 1.9397916552288081\n",
            "Accuracy: 0.1315359477124183\n",
            "Average Loss: 1.9374205052078544\n",
            "Accuracy: 0.13108766233766234\n"
          ]
        },
        {
          "output_type": "stream",
          "name": "stderr",
          "text": [
            "\r156it [00:14, 10.64it/s]"
          ]
        },
        {
          "output_type": "stream",
          "name": "stdout",
          "text": [
            "Average Loss: 1.9408571804723431\n",
            "Accuracy: 0.13064516129032258\n",
            "Average Loss: 1.9469838914198754\n",
            "Accuracy: 0.13020833333333334\n",
            "Average Loss: 1.9451313922359685\n",
            "Accuracy: 0.12937898089171976\n"
          ]
        },
        {
          "output_type": "stream",
          "name": "stderr",
          "text": [
            "160it [00:15, 10.69it/s]"
          ]
        },
        {
          "output_type": "stream",
          "name": "stdout",
          "text": [
            "Average Loss: 1.9464808076242857\n",
            "Accuracy: 0.1293512658227848\n",
            "Average Loss: 1.9474456212805502\n",
            "Accuracy: 0.1293238993710692\n",
            "tensor(3.9433, device='cuda:0', grad_fn=<MseLossBackward0>)\n",
            "Average Loss: 1.9599195308983326\n",
            "Accuracy: 0.128515625\n"
          ]
        },
        {
          "output_type": "stream",
          "name": "stderr",
          "text": [
            "\r162it [00:15, 10.71it/s]"
          ]
        },
        {
          "output_type": "stream",
          "name": "stdout",
          "text": [
            "Average Loss: 1.9614020674865438\n",
            "Accuracy: 0.12849378881987578\n",
            "Average Loss: 1.9631450683982283\n",
            "Accuracy: 0.12808641975308643\n",
            "Average Loss: 1.963330554815889\n",
            "Accuracy: 0.1280674846625767\n"
          ]
        },
        {
          "output_type": "stream",
          "name": "stderr",
          "text": [
            "166it [00:15, 10.70it/s]"
          ]
        },
        {
          "output_type": "stream",
          "name": "stdout",
          "text": [
            "Average Loss: 1.9559343846105948\n",
            "Accuracy: 0.12766768292682926\n",
            "Average Loss: 1.945789028297771\n",
            "Accuracy: 0.12878787878787878\n",
            "Average Loss: 1.9522719516093472\n",
            "Accuracy: 0.12838855421686746\n"
          ]
        },
        {
          "output_type": "stream",
          "name": "stderr",
          "text": [
            "\r168it [00:15, 10.57it/s]"
          ]
        },
        {
          "output_type": "stream",
          "name": "stdout",
          "text": [
            "Average Loss: 1.9567110956072093\n",
            "Accuracy: 0.12836826347305388\n",
            "Average Loss: 1.9554823037414324\n",
            "Accuracy: 0.12797619047619047\n",
            "Average Loss: 1.9548274021176897\n",
            "Accuracy: 0.12721893491124261\n"
          ]
        },
        {
          "output_type": "stream",
          "name": "stderr",
          "text": [
            "172it [00:16, 10.58it/s]"
          ]
        },
        {
          "output_type": "stream",
          "name": "stdout",
          "text": [
            "tensor(1.5094, device='cuda:0', grad_fn=<MseLossBackward0>)\n",
            "Average Loss: 1.9522074646809522\n",
            "Accuracy: 0.12720588235294117\n",
            "Average Loss: 1.9639995241025736\n",
            "Accuracy: 0.12682748538011696\n",
            "Average Loss: 1.9648656806973523\n",
            "Accuracy: 0.1275436046511628\n"
          ]
        },
        {
          "output_type": "stream",
          "name": "stderr",
          "text": [
            "\r174it [00:16, 10.53it/s]"
          ]
        },
        {
          "output_type": "stream",
          "name": "stdout",
          "text": [
            "Average Loss: 1.964634666208587\n",
            "Accuracy: 0.1268063583815029\n",
            "Average Loss: 1.9602885037318043\n",
            "Accuracy: 0.1271551724137931\n",
            "Average Loss: 1.956353006022317\n",
            "Accuracy: 0.1275\n"
          ]
        },
        {
          "output_type": "stream",
          "name": "stderr",
          "text": [
            "178it [00:16, 10.55it/s]"
          ]
        },
        {
          "output_type": "stream",
          "name": "stdout",
          "text": [
            "Average Loss: 1.9624933556399562\n",
            "Accuracy: 0.12748579545454544\n",
            "Average Loss: 1.979039753560966\n",
            "Accuracy: 0.1271186440677966\n",
            "Average Loss: 1.9810788453964705\n",
            "Accuracy: 0.12745786516853932\n"
          ]
        },
        {
          "output_type": "stream",
          "name": "stderr",
          "text": [
            "\r180it [00:17, 10.43it/s]"
          ]
        },
        {
          "output_type": "stream",
          "name": "stdout",
          "text": [
            "Average Loss: 1.9851965488002288\n",
            "Accuracy: 0.1270949720670391\n",
            "tensor(1.7462, device='cuda:0', grad_fn=<MseLossBackward0>)\n",
            "Average Loss: 1.9838687509298325\n",
            "Accuracy: 0.12743055555555555\n",
            "Average Loss: 1.9840953781459871\n",
            "Accuracy: 0.1274171270718232\n"
          ]
        },
        {
          "output_type": "stream",
          "name": "stderr",
          "text": [
            "184it [00:17, 10.41it/s]"
          ]
        },
        {
          "output_type": "stream",
          "name": "stdout",
          "text": [
            "Average Loss: 1.9831860559982257\n",
            "Accuracy: 0.12774725274725274\n",
            "Average Loss: 1.9786608495998903\n",
            "Accuracy: 0.1287568306010929\n",
            "Average Loss: 1.9759353687581809\n",
            "Accuracy: 0.12873641304347827\n"
          ]
        },
        {
          "output_type": "stream",
          "name": "stderr",
          "text": [
            "\r186it [00:17, 10.43it/s]"
          ]
        },
        {
          "output_type": "stream",
          "name": "stdout",
          "text": [
            "Average Loss: 1.9749080094131264\n",
            "Accuracy: 0.12905405405405404\n",
            "Average Loss: 1.9779135479081063\n",
            "Accuracy: 0.12903225806451613\n",
            "Average Loss: 1.977761143987829\n",
            "Accuracy: 0.12867647058823528\n"
          ]
        },
        {
          "output_type": "stream",
          "name": "stderr",
          "text": [
            "190it [00:17, 10.38it/s]"
          ]
        },
        {
          "output_type": "stream",
          "name": "stdout",
          "text": [
            "Average Loss: 1.976374128714521\n",
            "Accuracy: 0.12898936170212766\n",
            "Average Loss: 1.9733107465284843\n",
            "Accuracy: 0.12896825396825398\n",
            "tensor(2.6058, device='cuda:0', grad_fn=<MseLossBackward0>)\n",
            "Average Loss: 1.9766395703742379\n",
            "Accuracy: 0.12861842105263158\n"
          ]
        },
        {
          "output_type": "stream",
          "name": "stderr",
          "text": [
            "\r192it [00:18, 10.32it/s]"
          ]
        },
        {
          "output_type": "stream",
          "name": "stdout",
          "text": [
            "Average Loss: 1.9757003962057422\n",
            "Accuracy: 0.12827225130890052\n",
            "Average Loss: 1.9745821738615632\n",
            "Accuracy: 0.1279296875\n",
            "Average Loss: 1.9744816984537352\n",
            "Accuracy: 0.12823834196891193\n"
          ]
        },
        {
          "output_type": "stream",
          "name": "stderr",
          "text": [
            "\r194it [00:18, 10.31it/s]"
          ]
        },
        {
          "output_type": "stream",
          "name": "stdout",
          "text": [
            "Average Loss: 1.9751776146520044\n",
            "Accuracy: 0.12789948453608246\n",
            "Average Loss: 1.9745508612730565\n",
            "Accuracy: 0.12788461538461537\n",
            "Average Loss: 1.9750641879378532\n"
          ]
        },
        {
          "output_type": "stream",
          "name": "stderr",
          "text": [
            "\r196it [00:18, 10.19it/s]"
          ]
        },
        {
          "output_type": "stream",
          "name": "stdout",
          "text": [
            "Accuracy: 0.1278698979591837\n",
            "Average Loss: 1.99306971923954\n",
            "Accuracy: 0.12785532994923857\n",
            "Average Loss: 1.9928603091023185\n"
          ]
        },
        {
          "output_type": "stream",
          "name": "stderr",
          "text": [
            "\r198it [00:18, 10.10it/s]"
          ]
        },
        {
          "output_type": "stream",
          "name": "stdout",
          "text": [
            "Accuracy: 0.1278409090909091\n",
            "Average Loss: 1.999930535429087\n",
            "Accuracy: 0.12814070351758794\n"
          ]
        },
        {
          "output_type": "stream",
          "name": "stderr",
          "text": [
            "201it [00:19,  9.94it/s]"
          ]
        },
        {
          "output_type": "stream",
          "name": "stdout",
          "text": [
            "tensor(2.0510, device='cuda:0', grad_fn=<MseLossBackward0>)\n",
            "Average Loss: 2.0001858773827554\n",
            "Accuracy: 0.12875\n",
            "Average Loss: 2.000641575203606\n",
            "Accuracy: 0.12935323383084577\n"
          ]
        },
        {
          "output_type": "stream",
          "name": "stderr",
          "text": [
            "203it [00:19,  9.88it/s]"
          ]
        },
        {
          "output_type": "stream",
          "name": "stdout",
          "text": [
            "Average Loss: 2.0035532538843626\n",
            "Accuracy: 0.12933168316831684\n",
            "Average Loss: 2.0000946648015177\n",
            "Accuracy: 0.13023399014778325\n"
          ]
        },
        {
          "output_type": "stream",
          "name": "stderr",
          "text": [
            "206it [00:19, 10.01it/s]"
          ]
        },
        {
          "output_type": "stream",
          "name": "stdout",
          "text": [
            "Average Loss: 2.0013761377217723\n",
            "Accuracy: 0.13051470588235295\n",
            "Average Loss: 2.005001444642137\n",
            "Accuracy: 0.13048780487804879\n",
            "Average Loss: 2.005610056004478\n",
            "Accuracy: 0.1304611650485437\n"
          ]
        },
        {
          "output_type": "stream",
          "name": "stderr",
          "text": [
            "\r208it [00:19, 10.13it/s]"
          ]
        },
        {
          "output_type": "stream",
          "name": "stdout",
          "text": [
            "Average Loss: 2.0019765467459454\n",
            "Accuracy: 0.13043478260869565\n",
            "Average Loss: 2.0030237290148554\n",
            "Accuracy: 0.13040865384615385\n",
            "Average Loss: 2.003651809749421\n",
            "Accuracy: 0.1303827751196172\n"
          ]
        },
        {
          "output_type": "stream",
          "name": "stderr",
          "text": [
            "\r210it [00:19, 10.08it/s]"
          ]
        },
        {
          "output_type": "stream",
          "name": "stdout",
          "text": [
            "tensor(2.8896, device='cuda:0', grad_fn=<MseLossBackward0>)\n",
            "Average Loss: 2.007870686905725\n",
            "Accuracy: 0.13005952380952382\n",
            "Average Loss: 2.0077690199653118\n",
            "Accuracy: 0.13033175355450238\n",
            "Average Loss: 2.0043508683173163\n"
          ]
        },
        {
          "output_type": "stream",
          "name": "stderr",
          "text": [
            "214it [00:20, 10.12it/s]"
          ]
        },
        {
          "output_type": "stream",
          "name": "stdout",
          "text": [
            "Accuracy: 0.1303066037735849\n",
            "Average Loss: 2.0028364638767333\n",
            "Accuracy: 0.12998826291079812\n",
            "Average Loss: 2.0017461662537586\n",
            "Accuracy: 0.1308411214953271\n"
          ]
        },
        {
          "output_type": "stream",
          "name": "stderr",
          "text": [
            "\r216it [00:20, 10.03it/s]"
          ]
        },
        {
          "output_type": "stream",
          "name": "stdout",
          "text": [
            "Average Loss: 1.997903405511102\n",
            "Accuracy: 0.1308139534883721\n",
            "Average Loss: 1.9941408267175709\n",
            "Accuracy: 0.13078703703703703\n"
          ]
        },
        {
          "output_type": "stream",
          "name": "stderr",
          "text": [
            "\r218it [00:20,  9.95it/s]"
          ]
        },
        {
          "output_type": "stream",
          "name": "stdout",
          "text": [
            "Average Loss: 1.9933841533375225\n",
            "Accuracy: 0.13076036866359447\n",
            "Average Loss: 1.9885750544180565\n",
            "Accuracy: 0.13073394495412843\n"
          ]
        },
        {
          "output_type": "stream",
          "name": "stderr",
          "text": [
            "220it [00:21,  9.92it/s]"
          ]
        },
        {
          "output_type": "stream",
          "name": "stdout",
          "text": [
            "Average Loss: 1.98691265169344\n",
            "Accuracy: 0.13070776255707764\n",
            "tensor(1.5042, device='cuda:0', grad_fn=<MseLossBackward0>)\n",
            "Average Loss: 1.9847186202352698\n",
            "Accuracy: 0.13068181818181818\n"
          ]
        },
        {
          "output_type": "stream",
          "name": "stderr",
          "text": [
            "223it [00:21,  9.93it/s]"
          ]
        },
        {
          "output_type": "stream",
          "name": "stdout",
          "text": [
            "Average Loss: 1.9814898110083325\n",
            "Accuracy: 0.13093891402714933\n",
            "Average Loss: 1.9806838626260157\n",
            "Accuracy: 0.13119369369369369\n",
            "Average Loss: 1.9782820597892385\n",
            "Accuracy: 0.1311659192825112\n"
          ]
        },
        {
          "output_type": "stream",
          "name": "stderr",
          "text": [
            "\r225it [00:21, 10.17it/s]"
          ]
        },
        {
          "output_type": "stream",
          "name": "stdout",
          "text": [
            "Average Loss: 1.981202565665756\n",
            "Accuracy: 0.13058035714285715\n",
            "Average Loss: 1.9811985360251532\n",
            "Accuracy: 0.13027777777777777\n",
            "Average Loss: 1.9761994676252381\n",
            "Accuracy: 0.1308075221238938\n"
          ]
        },
        {
          "output_type": "stream",
          "name": "stderr",
          "text": [
            "229it [00:21, 10.30it/s]"
          ]
        },
        {
          "output_type": "stream",
          "name": "stdout",
          "text": [
            "Average Loss: 1.980797374826171\n",
            "Accuracy: 0.1305066079295154\n",
            "Average Loss: 1.9862400648886698\n",
            "Accuracy: 0.13075657894736842\n",
            "Average Loss: 1.9866461774667799\n",
            "Accuracy: 0.13100436681222707\n"
          ]
        },
        {
          "output_type": "stream",
          "name": "stderr",
          "text": [
            "\r231it [00:22, 10.38it/s]"
          ]
        },
        {
          "output_type": "stream",
          "name": "stdout",
          "text": [
            "tensor(1.2171, device='cuda:0', grad_fn=<MseLossBackward0>)\n",
            "Average Loss: 1.9833002277042555\n",
            "Accuracy: 0.13125\n",
            "Average Loss: 1.9807534888709262\n",
            "Accuracy: 0.13095238095238096\n",
            "Average Loss: 1.9795299598882938\n",
            "Accuracy: 0.13092672413793102\n"
          ]
        },
        {
          "output_type": "stream",
          "name": "stderr",
          "text": [
            "235it [00:22, 10.49it/s]"
          ]
        },
        {
          "output_type": "stream",
          "name": "stdout",
          "text": [
            "Average Loss: 1.9824087123502478\n",
            "Accuracy: 0.13063304721030042\n",
            "Average Loss: 1.9828869343822837\n",
            "Accuracy: 0.13007478632478633\n",
            "Average Loss: 1.98192713311378\n",
            "Accuracy: 0.13031914893617022\n"
          ]
        },
        {
          "output_type": "stream",
          "name": "stderr",
          "text": [
            "\r237it [00:22, 10.43it/s]"
          ]
        },
        {
          "output_type": "stream",
          "name": "stdout",
          "text": [
            "Average Loss: 1.9828947156162586\n",
            "Accuracy: 0.13003177966101695\n",
            "Average Loss: 1.986875851949056\n",
            "Accuracy: 0.12974683544303797\n",
            "Average Loss: 1.9893808465044038\n",
            "Accuracy: 0.12998949579831934\n"
          ]
        },
        {
          "output_type": "stream",
          "name": "stderr",
          "text": [
            "241it [00:23, 10.40it/s]"
          ]
        },
        {
          "output_type": "stream",
          "name": "stdout",
          "text": [
            "Average Loss: 1.9906833870141576\n",
            "Accuracy: 0.13023012552301255\n",
            "tensor(3.0441, device='cuda:0', grad_fn=<MseLossBackward0>)\n",
            "Average Loss: 1.9950725068648656\n",
            "Accuracy: 0.12994791666666666\n",
            "Average Loss: 1.993976820059337\n",
            "Accuracy: 0.12966804979253113\n"
          ]
        },
        {
          "output_type": "stream",
          "name": "stderr",
          "text": [
            "\r243it [00:23, 10.40it/s]"
          ]
        },
        {
          "output_type": "stream",
          "name": "stdout",
          "text": [
            "Average Loss: 1.9902880876517492\n",
            "Accuracy: 0.1296487603305785\n",
            "Average Loss: 1.9842458747541953\n",
            "Accuracy: 0.12962962962962962\n",
            "Average Loss: 1.9853292102696465\n",
            "Accuracy: 0.1293545081967213\n"
          ]
        },
        {
          "output_type": "stream",
          "name": "stderr",
          "text": [
            "247it [00:23, 10.29it/s]"
          ]
        },
        {
          "output_type": "stream",
          "name": "stdout",
          "text": [
            "Average Loss: 1.9871872712154777\n",
            "Accuracy: 0.12908163265306122\n",
            "Average Loss: 1.9865826649394462\n",
            "Accuracy: 0.12931910569105692\n",
            "Average Loss: 1.9858899000685224\n",
            "Accuracy: 0.13006072874493926\n"
          ]
        },
        {
          "output_type": "stream",
          "name": "stderr",
          "text": [
            "\r249it [00:23, 10.18it/s]"
          ]
        },
        {
          "output_type": "stream",
          "name": "stdout",
          "text": [
            "Average Loss: 1.988228238398029\n",
            "Accuracy: 0.12953629032258066\n",
            "Average Loss: 1.9893373045097873\n",
            "Accuracy: 0.12926706827309237\n",
            "tensor(2.1127, device='cuda:0', grad_fn=<MseLossBackward0>)\n",
            "Average Loss: 1.9898305835723877\n",
            "Accuracy: 0.12925\n"
          ]
        },
        {
          "output_type": "stream",
          "name": "stderr",
          "text": [
            "253it [00:24, 10.12it/s]"
          ]
        },
        {
          "output_type": "stream",
          "name": "stdout",
          "text": [
            "Average Loss: 1.9908170130148353\n",
            "Accuracy: 0.1294820717131474\n",
            "Average Loss: 1.989496487000632\n",
            "Accuracy: 0.1297123015873016\n",
            "Average Loss: 1.9848106133608008\n",
            "Accuracy: 0.1309288537549407\n"
          ]
        },
        {
          "output_type": "stream",
          "name": "stderr",
          "text": [
            "\r255it [00:24, 10.12it/s]"
          ]
        },
        {
          "output_type": "stream",
          "name": "stdout",
          "text": [
            "Average Loss: 1.9862805004194966\n",
            "Accuracy: 0.1311515748031496\n",
            "Average Loss: 1.990996343014287\n",
            "Accuracy: 0.13088235294117648\n",
            "Average Loss: 1.991740976460278\n",
            "Accuracy: 0.131591796875\n"
          ]
        },
        {
          "output_type": "stream",
          "name": "stderr",
          "text": [
            "\r257it [00:24, 10.16it/s]"
          ]
        },
        {
          "output_type": "stream",
          "name": "stdout",
          "text": [
            "Average Loss: 1.9924113759734752\n",
            "Accuracy: 0.13156614785992218\n",
            "Average Loss: 1.9919603323751642\n",
            "Accuracy: 0.13202519379844962\n",
            "Average Loss: 2.0002028610715534\n"
          ]
        },
        {
          "output_type": "stream",
          "name": "stderr",
          "text": [
            "261it [00:24, 10.07it/s]"
          ]
        },
        {
          "output_type": "stream",
          "name": "stdout",
          "text": [
            "Accuracy: 0.13175675675675674\n",
            "tensor(2.7321, device='cuda:0', grad_fn=<MseLossBackward0>)\n",
            "Average Loss: 2.0030176593707156\n",
            "Accuracy: 0.13197115384615385\n",
            "Average Loss: 1.9995079734773014\n",
            "Accuracy: 0.13194444444444445\n"
          ]
        },
        {
          "output_type": "stream",
          "name": "stderr",
          "text": [
            "\r263it [00:25, 10.11it/s]"
          ]
        },
        {
          "output_type": "stream",
          "name": "stdout",
          "text": [
            "Average Loss: 2.0011280920669323\n",
            "Accuracy: 0.13263358778625955\n",
            "Average Loss: 2.0025887226423835\n",
            "Accuracy: 0.13236692015209126\n",
            "Average Loss: 1.997975430028005\n",
            "Accuracy: 0.13210227272727273\n"
          ]
        },
        {
          "output_type": "stream",
          "name": "stderr",
          "text": [
            "267it [00:25, 10.14it/s]"
          ]
        },
        {
          "output_type": "stream",
          "name": "stdout",
          "text": [
            "Average Loss: 1.9953304122079094\n",
            "Accuracy: 0.132311320754717\n",
            "Average Loss: 1.9956759449682737\n",
            "Accuracy: 0.13228383458646617\n",
            "Average Loss: 1.9982666051789615\n",
            "Accuracy: 0.1322565543071161\n"
          ]
        },
        {
          "output_type": "stream",
          "name": "stderr",
          "text": [
            "\r269it [00:25, 10.13it/s]"
          ]
        },
        {
          "output_type": "stream",
          "name": "stdout",
          "text": [
            "Average Loss: 1.997488651035437\n",
            "Accuracy: 0.13176305970149255\n",
            "Average Loss: 1.995911992837062\n",
            "Accuracy: 0.13173791821561337\n",
            "tensor(1.8378, device='cuda:0', grad_fn=<MseLossBackward0>)\n",
            "Average Loss: 1.9953262234175646\n",
            "Accuracy: 0.13217592592592592\n"
          ]
        },
        {
          "output_type": "stream",
          "name": "stderr",
          "text": [
            "273it [00:26, 10.26it/s]"
          ]
        },
        {
          "output_type": "stream",
          "name": "stdout",
          "text": [
            "Average Loss: 1.995384044972733\n",
            "Accuracy: 0.13168819188191883\n",
            "Average Loss: 1.9909768196589805\n",
            "Accuracy: 0.13166360294117646\n",
            "Average Loss: 1.987165141018319\n",
            "Accuracy: 0.1320970695970696\n"
          ]
        },
        {
          "output_type": "stream",
          "name": "stderr",
          "text": [
            "\r275it [00:26, 10.11it/s]"
          ]
        },
        {
          "output_type": "stream",
          "name": "stdout",
          "text": [
            "Average Loss: 1.9816671728435225\n",
            "Accuracy: 0.1322992700729927\n",
            "Average Loss: 1.9808284920995887\n",
            "Accuracy: 0.13204545454545455\n"
          ]
        },
        {
          "output_type": "stream",
          "name": "stderr",
          "text": [
            "\r277it [00:26,  9.95it/s]"
          ]
        },
        {
          "output_type": "stream",
          "name": "stdout",
          "text": [
            "Average Loss: 1.9769934153427249\n",
            "Accuracy: 0.13201992753623187\n",
            "Average Loss: 1.976015193905641\n",
            "Accuracy: 0.13199458483754511\n",
            "Average Loss: 1.9735884242992607\n"
          ]
        },
        {
          "output_type": "stream",
          "name": "stderr",
          "text": [
            "279it [00:26,  9.94it/s]"
          ]
        },
        {
          "output_type": "stream",
          "name": "stdout",
          "text": [
            "Accuracy: 0.13241906474820145\n",
            "Average Loss: 1.9733370663230991\n",
            "Accuracy: 0.13239247311827956\n",
            "tensor(1.9172, device='cuda:0', grad_fn=<MseLossBackward0>)\n",
            "Average Loss: 1.9731366665235588\n"
          ]
        },
        {
          "output_type": "stream",
          "name": "stderr",
          "text": [
            "281it [00:26,  9.93it/s]"
          ]
        },
        {
          "output_type": "stream",
          "name": "stdout",
          "text": [
            "Accuracy: 0.13303571428571428\n",
            "Average Loss: 1.9772753966872803\n",
            "Accuracy: 0.13322953736654805\n"
          ]
        },
        {
          "output_type": "stream",
          "name": "stderr",
          "text": [
            "283it [00:27,  9.74it/s]"
          ]
        },
        {
          "output_type": "stream",
          "name": "stdout",
          "text": [
            "Average Loss: 1.978069154611716\n",
            "Accuracy: 0.13342198581560283\n",
            "Average Loss: 1.9762812382130235\n",
            "Accuracy: 0.1331713780918728\n"
          ]
        },
        {
          "output_type": "stream",
          "name": "stderr",
          "text": [
            "286it [00:27,  9.96it/s]"
          ]
        },
        {
          "output_type": "stream",
          "name": "stdout",
          "text": [
            "Average Loss: 1.977310560643673\n",
            "Accuracy: 0.1327024647887324\n",
            "Average Loss: 1.975468662433457\n",
            "Accuracy: 0.13267543859649122\n",
            "Average Loss: 1.9785766852693958\n",
            "Accuracy: 0.13308566433566432\n"
          ]
        },
        {
          "output_type": "stream",
          "name": "stderr",
          "text": [
            "288it [00:27,  9.91it/s]"
          ]
        },
        {
          "output_type": "stream",
          "name": "stdout",
          "text": [
            "Average Loss: 1.9823461020242046\n",
            "Accuracy: 0.1330574912891986\n",
            "Average Loss: 1.9821128680681188\n",
            "Accuracy: 0.13346354166666666\n",
            "Average Loss: 1.984000049350996\n",
            "Accuracy: 0.13386678200692043\n"
          ]
        },
        {
          "output_type": "stream",
          "name": "stderr",
          "text": [
            "291it [00:27, 10.01it/s]"
          ]
        },
        {
          "output_type": "stream",
          "name": "stdout",
          "text": [
            "tensor(3.0357, device='cuda:0', grad_fn=<MseLossBackward0>)\n",
            "Average Loss: 1.987626694091435\n",
            "Accuracy: 0.1334051724137931\n",
            "Average Loss: 1.9858321681669897\n",
            "Accuracy: 0.13402061855670103\n"
          ]
        },
        {
          "output_type": "stream",
          "name": "stderr",
          "text": [
            "294it [00:28, 10.04it/s]"
          ]
        },
        {
          "output_type": "stream",
          "name": "stdout",
          "text": [
            "Average Loss: 1.99220082174017\n",
            "Accuracy: 0.13398972602739725\n",
            "Average Loss: 1.9903400901438026\n",
            "Accuracy: 0.1337457337883959\n",
            "Average Loss: 1.9875127366002725\n",
            "Accuracy: 0.13414115646258504\n"
          ]
        },
        {
          "output_type": "stream",
          "name": "stderr",
          "text": [
            "296it [00:28,  9.90it/s]"
          ]
        },
        {
          "output_type": "stream",
          "name": "stdout",
          "text": [
            "Average Loss: 1.9858955772246345\n",
            "Accuracy: 0.13411016949152543\n",
            "Average Loss: 1.9849991815517078\n",
            "Accuracy: 0.13386824324324326\n"
          ]
        },
        {
          "output_type": "stream",
          "name": "stderr",
          "text": [
            "298it [00:28,  9.82it/s]"
          ]
        },
        {
          "output_type": "stream",
          "name": "stdout",
          "text": [
            "Average Loss: 1.9856359325474762\n",
            "Accuracy: 0.13446969696969696\n",
            "Average Loss: 1.9844611752153243\n",
            "Accuracy: 0.13464765100671142\n"
          ]
        },
        {
          "output_type": "stream",
          "name": "stderr",
          "text": [
            "\r299it [00:28,  9.77it/s]"
          ]
        },
        {
          "output_type": "stream",
          "name": "stdout",
          "text": [
            "Average Loss: 1.9833747376765694\n",
            "Accuracy: 0.13440635451505017\n",
            "tensor(1.5968, device='cuda:0', grad_fn=<MseLossBackward0>)\n",
            "Average Loss: 1.9820861288905143\n",
            "Accuracy: 0.135\n"
          ]
        },
        {
          "output_type": "stream",
          "name": "stderr",
          "text": [
            "302it [00:29,  9.69it/s]"
          ]
        },
        {
          "output_type": "stream",
          "name": "stdout",
          "text": [
            "Average Loss: 1.9830009720452204\n",
            "Accuracy: 0.1347591362126246\n",
            "Average Loss: 1.9883988232209981\n",
            "Accuracy: 0.13451986754966888\n"
          ]
        },
        {
          "output_type": "stream",
          "name": "stderr",
          "text": [
            "304it [00:29,  9.73it/s]"
          ]
        },
        {
          "output_type": "stream",
          "name": "stdout",
          "text": [
            "Average Loss: 1.98926512921604\n",
            "Accuracy: 0.13448844884488448\n",
            "Average Loss: 1.98852443587231\n",
            "Accuracy: 0.13466282894736842\n",
            "Average Loss: 1.987220801388631\n"
          ]
        },
        {
          "output_type": "stream",
          "name": "stderr",
          "text": [
            "306it [00:29,  9.67it/s]"
          ]
        },
        {
          "output_type": "stream",
          "name": "stdout",
          "text": [
            "Accuracy: 0.1346311475409836\n",
            "Average Loss: 1.9904540937905217\n",
            "Accuracy: 0.1343954248366013\n"
          ]
        },
        {
          "output_type": "stream",
          "name": "stderr",
          "text": [
            "309it [00:29,  9.97it/s]"
          ]
        },
        {
          "output_type": "stream",
          "name": "stdout",
          "text": [
            "Average Loss: 1.9933381341761798\n",
            "Accuracy: 0.13436482084690554\n",
            "Average Loss: 1.9907315285368399\n",
            "Accuracy: 0.1341314935064935\n",
            "Average Loss: 1.989606548377997\n",
            "Accuracy: 0.13369741100323623\n"
          ]
        },
        {
          "output_type": "stream",
          "name": "stderr",
          "text": [
            "312it [00:30, 10.12it/s]"
          ]
        },
        {
          "output_type": "stream",
          "name": "stdout",
          "text": [
            "tensor(1.3860, device='cuda:0', grad_fn=<MseLossBackward0>)\n",
            "Average Loss: 1.9876593402316494\n",
            "Accuracy: 0.13346774193548386\n",
            "Average Loss: 1.9911835781056015\n",
            "Accuracy: 0.13344051446945338\n",
            "Average Loss: 1.993579725137888\n",
            "Accuracy: 0.13361378205128205\n"
          ]
        },
        {
          "output_type": "stream",
          "name": "stderr",
          "text": [
            "\r314it [00:30, 10.32it/s]"
          ]
        },
        {
          "output_type": "stream",
          "name": "stdout",
          "text": [
            "Average Loss: 2.000191595322027\n",
            "Accuracy: 0.13358626198083068\n",
            "Average Loss: 2.0011395942063848\n",
            "Accuracy: 0.13335987261146498\n",
            "Average Loss: 2.004626509972981\n",
            "Accuracy: 0.13313492063492063\n"
          ]
        },
        {
          "output_type": "stream",
          "name": "stderr",
          "text": [
            "318it [00:30, 10.43it/s]"
          ]
        },
        {
          "output_type": "stream",
          "name": "stdout",
          "text": [
            "Average Loss: 2.003666123351719\n",
            "Accuracy: 0.13330696202531644\n",
            "Average Loss: 2.01200684848644\n",
            "Accuracy: 0.1328864353312303\n",
            "Average Loss: 2.008456654424937\n",
            "Accuracy: 0.13364779874213836\n"
          ]
        },
        {
          "output_type": "stream",
          "name": "stderr",
          "text": [
            "\r320it [00:30, 10.47it/s]"
          ]
        },
        {
          "output_type": "stream",
          "name": "stdout",
          "text": [
            "Average Loss: 2.007987700939926\n",
            "Accuracy: 0.1336206896551724\n",
            "tensor(0.9063, device='cuda:0', grad_fn=<MseLossBackward0>)\n",
            "Average Loss: 2.0045449026860296\n",
            "Accuracy: 0.133203125\n",
            "Average Loss: 2.004934445441326\n",
            "Accuracy: 0.1329828660436137\n"
          ]
        },
        {
          "output_type": "stream",
          "name": "stderr",
          "text": [
            "324it [00:31, 10.68it/s]"
          ]
        },
        {
          "output_type": "stream",
          "name": "stdout",
          "text": [
            "Average Loss: 2.0069506465463163\n",
            "Accuracy: 0.13334627329192547\n",
            "Average Loss: 2.00962049682443\n",
            "Accuracy: 0.13312693498452013\n",
            "Average Loss: 2.007092783572497\n",
            "Accuracy: 0.13271604938271606\n"
          ]
        },
        {
          "output_type": "stream",
          "name": "stderr",
          "text": [
            "\r326it [00:31, 10.64it/s]"
          ]
        },
        {
          "output_type": "stream",
          "name": "stdout",
          "text": [
            "Average Loss: 2.004498731998297\n",
            "Accuracy: 0.13307692307692306\n",
            "Average Loss: 2.0054414039192023\n",
            "Accuracy: 0.13266871165644173\n",
            "Average Loss: 2.00568226435498\n",
            "Accuracy: 0.1326452599388379\n"
          ]
        },
        {
          "output_type": "stream",
          "name": "stderr",
          "text": [
            "330it [00:31, 10.63it/s]"
          ]
        },
        {
          "output_type": "stream",
          "name": "stdout",
          "text": [
            "Average Loss: 2.0023594590403686\n",
            "Accuracy: 0.1328125\n",
            "Average Loss: 2.0029351462165637\n",
            "Accuracy: 0.13316869300911854\n",
            "tensor(0.6350, device='cuda:0', grad_fn=<MseLossBackward0>)\n",
            "Average Loss: 1.9987899806463356\n",
            "Accuracy: 0.1331439393939394\n"
          ]
        },
        {
          "output_type": "stream",
          "name": "stderr",
          "text": [
            "\r332it [00:32, 10.58it/s]"
          ]
        },
        {
          "output_type": "stream",
          "name": "stdout",
          "text": [
            "Average Loss: 1.9953189127574875\n",
            "Accuracy: 0.13311933534743203\n",
            "Average Loss: 1.9903407618403435\n",
            "Accuracy: 0.13328313253012047\n",
            "Average Loss: 1.9884250909537524\n",
            "Accuracy: 0.134009009009009\n"
          ]
        },
        {
          "output_type": "stream",
          "name": "stderr",
          "text": [
            "336it [00:32, 10.62it/s]"
          ]
        },
        {
          "output_type": "stream",
          "name": "stdout",
          "text": [
            "Average Loss: 1.985742807477534\n",
            "Accuracy: 0.13416916167664672\n",
            "Average Loss: 1.9901877133703942\n",
            "Accuracy: 0.13395522388059702\n",
            "Average Loss: 1.9898271267080592\n",
            "Accuracy: 0.13392857142857142\n"
          ]
        },
        {
          "output_type": "stream",
          "name": "stderr",
          "text": [
            "\r338it [00:32, 10.49it/s]"
          ]
        },
        {
          "output_type": "stream",
          "name": "stdout",
          "text": [
            "Average Loss: 1.9887813553435159\n",
            "Accuracy: 0.13408753709198812\n",
            "Average Loss: 1.9868593079274928\n",
            "Accuracy: 0.13406065088757396\n",
            "Average Loss: 1.9947599454791145\n",
            "Accuracy: 0.13403392330383482\n"
          ]
        },
        {
          "output_type": "stream",
          "name": "stderr",
          "text": [
            "342it [00:32, 10.42it/s]"
          ]
        },
        {
          "output_type": "stream",
          "name": "stdout",
          "text": [
            "tensor(1.2785, device='cuda:0', grad_fn=<MseLossBackward0>)\n",
            "Average Loss: 1.9926533156458068\n",
            "Accuracy: 0.134375\n",
            "Average Loss: 1.9961010316425054\n",
            "Accuracy: 0.1343475073313783\n",
            "Average Loss: 1.9994910381167952\n",
            "Accuracy: 0.1341374269005848\n"
          ]
        },
        {
          "output_type": "stream",
          "name": "stderr",
          "text": [
            "\r344it [00:33, 10.46it/s]"
          ]
        },
        {
          "output_type": "stream",
          "name": "stdout",
          "text": [
            "Average Loss: 1.9965941350765894\n",
            "Accuracy: 0.13447521865889212\n",
            "Average Loss: 1.997061669220065\n",
            "Accuracy: 0.13444767441860464\n",
            "Average Loss: 1.9996746278327444\n",
            "Accuracy: 0.13405797101449277\n"
          ]
        },
        {
          "output_type": "stream",
          "name": "stderr",
          "text": [
            "348it [00:33, 10.41it/s]"
          ]
        },
        {
          "output_type": "stream",
          "name": "stdout",
          "text": [
            "Average Loss: 1.9990442148006031\n",
            "Accuracy: 0.13385115606936415\n",
            "Average Loss: 2.0012461614368284\n",
            "Accuracy: 0.1336455331412104\n",
            "Average Loss: 2.000488573877976\n",
            "Accuracy: 0.13380028735632185\n"
          ]
        },
        {
          "output_type": "stream",
          "name": "stderr",
          "text": [
            "\r350it [00:33, 10.47it/s]"
          ]
        },
        {
          "output_type": "stream",
          "name": "stdout",
          "text": [
            "Average Loss: 1.9970868886541842\n",
            "Accuracy: 0.1339541547277937\n",
            "tensor(3.5453, device='cuda:0', grad_fn=<MseLossBackward0>)\n",
            "Average Loss: 2.001510492307799\n",
            "Accuracy: 0.13375\n",
            "Average Loss: 2.0040037193019846\n",
            "Accuracy: 0.13354700854700854\n"
          ]
        },
        {
          "output_type": "stream",
          "name": "stderr",
          "text": [
            "354it [00:34, 10.40it/s]"
          ]
        },
        {
          "output_type": "stream",
          "name": "stdout",
          "text": [
            "Average Loss: 2.002561912871897\n",
            "Accuracy: 0.13352272727272727\n",
            "Average Loss: 2.0054571489267916\n",
            "Accuracy: 0.13314447592067988\n",
            "Average Loss: 2.0047879618945097\n",
            "Accuracy: 0.13312146892655366\n"
          ]
        },
        {
          "output_type": "stream",
          "name": "stderr",
          "text": [
            "\r356it [00:34, 10.44it/s]"
          ]
        },
        {
          "output_type": "stream",
          "name": "stdout",
          "text": [
            "Average Loss: 2.005629183792732\n",
            "Accuracy: 0.1334507042253521\n",
            "Average Loss: 2.0032909612139957\n",
            "Accuracy: 0.13360252808988765\n",
            "Average Loss: 1.9997166494528453\n",
            "Accuracy: 0.13375350140056022\n"
          ]
        },
        {
          "output_type": "stream",
          "name": "stderr",
          "text": [
            "\r358it [00:34, 10.37it/s]"
          ]
        },
        {
          "output_type": "stream",
          "name": "stdout",
          "text": [
            "Average Loss: 2.0017126181771636\n",
            "Accuracy: 0.133554469273743\n",
            "Average Loss: 2.0083874702287585\n",
            "Accuracy: 0.13318245125348188\n"
          ]
        },
        {
          "output_type": "stream",
          "name": "stderr",
          "text": [
            "362it [00:34, 10.21it/s]"
          ]
        },
        {
          "output_type": "stream",
          "name": "stdout",
          "text": [
            "tensor(2.6113, device='cuda:0', grad_fn=<MseLossBackward0>)\n",
            "Average Loss: 2.0100621610052056\n",
            "Accuracy: 0.1329861111111111\n",
            "Average Loss: 2.008344840722731\n",
            "Accuracy: 0.13279085872576177\n",
            "Average Loss: 2.005537486125751\n",
            "Accuracy: 0.13294198895027623\n"
          ]
        },
        {
          "output_type": "stream",
          "name": "stderr",
          "text": [
            "\r364it [00:35, 10.23it/s]"
          ]
        },
        {
          "output_type": "stream",
          "name": "stdout",
          "text": [
            "Average Loss: 2.0046124641396124\n",
            "Accuracy: 0.13292011019283748\n",
            "Average Loss: 2.0034061964232843\n",
            "Accuracy: 0.13324175824175824\n",
            "Average Loss: 2.0039311257943715\n",
            "Accuracy: 0.13321917808219177\n"
          ]
        },
        {
          "output_type": "stream",
          "name": "stderr",
          "text": [
            "368it [00:35, 10.34it/s]"
          ]
        },
        {
          "output_type": "stream",
          "name": "stdout",
          "text": [
            "Average Loss: 2.0045371784375665\n",
            "Accuracy: 0.13319672131147542\n",
            "Average Loss: 2.001896159769079\n",
            "Accuracy: 0.1335149863760218\n",
            "Average Loss: 2.00096755531495\n",
            "Accuracy: 0.13400135869565216\n"
          ]
        },
        {
          "output_type": "stream",
          "name": "stderr",
          "text": [
            "\r370it [00:35, 10.23it/s]"
          ]
        },
        {
          "output_type": "stream",
          "name": "stdout",
          "text": [
            "Average Loss: 2.00240410529178\n",
            "Accuracy: 0.13397696476964768\n",
            "tensor(2.0151, device='cuda:0', grad_fn=<MseLossBackward0>)\n",
            "Average Loss: 2.002438399195671\n",
            "Accuracy: 0.13378378378378378\n",
            "Average Loss: 2.006906249372143\n",
            "Accuracy: 0.13359164420485176\n"
          ]
        },
        {
          "output_type": "stream",
          "name": "stderr",
          "text": [
            "374it [00:36, 10.34it/s]"
          ]
        },
        {
          "output_type": "stream",
          "name": "stdout",
          "text": [
            "Average Loss: 2.007447305786353\n",
            "Accuracy: 0.13356854838709678\n",
            "Average Loss: 2.0080570525042813\n",
            "Accuracy: 0.13371313672922253\n",
            "Average Loss: 2.006603108609424\n",
            "Accuracy: 0.13368983957219252\n"
          ]
        },
        {
          "output_type": "stream",
          "name": "stderr",
          "text": [
            "\r376it [00:36, 10.28it/s]"
          ]
        },
        {
          "output_type": "stream",
          "name": "stdout",
          "text": [
            "Average Loss: 2.0085037138462067\n",
            "Accuracy: 0.13366666666666666\n",
            "Average Loss: 2.0063229446556976\n",
            "Accuracy: 0.13397606382978725\n",
            "Average Loss: 2.0048117121429594\n",
            "Accuracy: 0.13395225464190982\n"
          ]
        },
        {
          "output_type": "stream",
          "name": "stderr",
          "text": [
            "380it [00:36, 10.29it/s]"
          ]
        },
        {
          "output_type": "stream",
          "name": "stdout",
          "text": [
            "Average Loss: 2.0027695016728506\n",
            "Accuracy: 0.1345899470899471\n",
            "Average Loss: 2.001337754301786\n",
            "Accuracy: 0.13472955145118734\n",
            "tensor(1.9196, device='cuda:0', grad_fn=<MseLossBackward0>)\n",
            "Average Loss: 2.0011227465773884\n",
            "Accuracy: 0.13453947368421051\n"
          ]
        },
        {
          "output_type": "stream",
          "name": "stderr",
          "text": [
            "\r382it [00:36, 10.27it/s]"
          ]
        },
        {
          "output_type": "stream",
          "name": "stdout",
          "text": [
            "Average Loss: 2.0001857164181436\n",
            "Accuracy: 0.13451443569553806\n",
            "Average Loss: 1.9991170560346223\n",
            "Accuracy: 0.1343259162303665\n",
            "Average Loss: 1.9986610956509494\n",
            "Accuracy: 0.13430156657963446\n"
          ]
        },
        {
          "output_type": "stream",
          "name": "stderr",
          "text": [
            "386it [00:37, 10.36it/s]"
          ]
        },
        {
          "output_type": "stream",
          "name": "stdout",
          "text": [
            "Average Loss: 1.99977519758977\n",
            "Accuracy: 0.13427734375\n",
            "Average Loss: 1.9969095752610788\n",
            "Accuracy: 0.13425324675324676\n",
            "Average Loss: 1.9946806596814042\n",
            "Accuracy: 0.13422927461139897\n"
          ]
        },
        {
          "output_type": "stream",
          "name": "stderr",
          "text": [
            "\r388it [00:37, 10.33it/s]"
          ]
        },
        {
          "output_type": "stream",
          "name": "stdout",
          "text": [
            "Average Loss: 1.994305123269404\n",
            "Accuracy: 0.13420542635658914\n",
            "Average Loss: 1.9939955235602929\n",
            "Accuracy: 0.13402061855670103\n",
            "Average Loss: 1.9939096622877686\n",
            "Accuracy: 0.13383676092544988\n"
          ]
        },
        {
          "output_type": "stream",
          "name": "stderr",
          "text": [
            "392it [00:37, 10.21it/s]"
          ]
        },
        {
          "output_type": "stream",
          "name": "stdout",
          "text": [
            "tensor(2.1590, device='cuda:0', grad_fn=<MseLossBackward0>)\n",
            "Average Loss: 1.9943330268829296\n",
            "Accuracy: 0.13349358974358974\n",
            "Average Loss: 1.9951808848192014\n",
            "Accuracy: 0.13331202046035806\n",
            "Average Loss: 1.9989393443933554\n",
            "Accuracy: 0.1329719387755102\n"
          ]
        },
        {
          "output_type": "stream",
          "name": "stderr",
          "text": [
            "\r394it [00:38, 10.15it/s]"
          ]
        },
        {
          "output_type": "stream",
          "name": "stdout",
          "text": [
            "Average Loss: 1.9956882463308387\n",
            "Accuracy: 0.13279262086513996\n",
            "Average Loss: 1.99912799395583\n",
            "Accuracy: 0.1327728426395939\n"
          ]
        },
        {
          "output_type": "stream",
          "name": "stderr",
          "text": [
            "\r396it [00:38,  9.99it/s]"
          ]
        },
        {
          "output_type": "stream",
          "name": "stdout",
          "text": [
            "Average Loss: 1.9989253939707068\n",
            "Accuracy: 0.13275316455696204\n",
            "Average Loss: 1.9993948529314514\n",
            "Accuracy: 0.13257575757575757\n"
          ]
        },
        {
          "output_type": "stream",
          "name": "stderr",
          "text": [
            "398it [00:38,  9.96it/s]"
          ]
        },
        {
          "output_type": "stream",
          "name": "stdout",
          "text": [
            "Average Loss: 1.9966069558255317\n",
            "Accuracy: 0.1327141057934509\n",
            "Average Loss: 1.9955645876763455\n",
            "Accuracy: 0.13269472361809045\n"
          ]
        },
        {
          "output_type": "stream",
          "name": "stderr",
          "text": [
            "400it [00:38,  9.94it/s]"
          ]
        },
        {
          "output_type": "stream",
          "name": "stdout",
          "text": [
            "Average Loss: 1.993149549964078\n",
            "Accuracy: 0.13283208020050125\n",
            "tensor(1.9998, device='cuda:0', grad_fn=<MseLossBackward0>)\n",
            "Average Loss: 1.9931661125272513\n",
            "Accuracy: 0.13265625\n",
            "Average Loss: 1.998126706205996\n"
          ]
        },
        {
          "output_type": "stream",
          "name": "stderr",
          "text": [
            "403it [00:38, 10.05it/s]"
          ]
        },
        {
          "output_type": "stream",
          "name": "stdout",
          "text": [
            "Accuracy: 0.13248129675810474\n",
            "Average Loss: 1.9986269517769268\n",
            "Accuracy: 0.1326181592039801\n",
            "Average Loss: 1.9955266049275031\n",
            "Accuracy: 0.13306451612903225\n"
          ]
        },
        {
          "output_type": "stream",
          "name": "stderr",
          "text": [
            "\r405it [00:39, 10.11it/s]"
          ]
        },
        {
          "output_type": "stream",
          "name": "stdout",
          "text": [
            "Average Loss: 1.9970912479675642\n",
            "Accuracy: 0.13319925742574257\n",
            "Average Loss: 2.0010294991510884\n",
            "Accuracy: 0.133179012345679\n",
            "Average Loss: 2.009785769094387\n",
            "Accuracy: 0.1331588669950739\n"
          ]
        },
        {
          "output_type": "stream",
          "name": "stderr",
          "text": [
            "\r407it [00:39, 10.02it/s]"
          ]
        },
        {
          "output_type": "stream",
          "name": "stdout",
          "text": [
            "Average Loss: 2.009478468933035\n",
            "Accuracy: 0.13313882063882063\n",
            "Average Loss: 2.0085193947980216\n",
            "Accuracy: 0.1329656862745098\n",
            "Average Loss: 2.009155110872754\n"
          ]
        },
        {
          "output_type": "stream",
          "name": "stderr",
          "text": [
            "410it [00:39,  9.86it/s]"
          ]
        },
        {
          "output_type": "stream",
          "name": "stdout",
          "text": [
            "Accuracy: 0.13279339853300734\n",
            "tensor(1.7392, device='cuda:0', grad_fn=<MseLossBackward0>)\n",
            "Average Loss: 2.0084966468374903\n",
            "Accuracy: 0.1329268292682927\n"
          ]
        },
        {
          "output_type": "stream",
          "name": "stderr",
          "text": [
            "412it [00:39,  9.88it/s]"
          ]
        },
        {
          "output_type": "stream",
          "name": "stdout",
          "text": [
            "Average Loss: 2.00680562679785\n",
            "Accuracy: 0.13290754257907542\n",
            "Average Loss: 2.003949872860052\n",
            "Accuracy: 0.1330400485436893\n",
            "Average Loss: 2.0027442865308203\n",
            "Accuracy: 0.13286924939467312\n"
          ]
        },
        {
          "output_type": "stream",
          "name": "stderr",
          "text": [
            "415it [00:40,  9.88it/s]"
          ]
        },
        {
          "output_type": "stream",
          "name": "stdout",
          "text": [
            "Average Loss: 2.004593256950954\n",
            "Accuracy: 0.13254830917874397\n",
            "Average Loss: 2.0016972946115286\n",
            "Accuracy: 0.13298192771084338\n"
          ]
        },
        {
          "output_type": "stream",
          "name": "stderr",
          "text": [
            "417it [00:40,  9.72it/s]"
          ]
        },
        {
          "output_type": "stream",
          "name": "stdout",
          "text": [
            "Average Loss: 1.999410741819212\n",
            "Accuracy: 0.1329627403846154\n",
            "Average Loss: 1.9980133919835947\n",
            "Accuracy: 0.13294364508393286\n"
          ]
        },
        {
          "output_type": "stream",
          "name": "stderr",
          "text": [
            "419it [00:40,  9.55it/s]"
          ]
        },
        {
          "output_type": "stream",
          "name": "stdout",
          "text": [
            "Average Loss: 1.9997702679423053\n",
            "Accuracy: 0.13307416267942584\n",
            "Average Loss: 1.996714346662057\n",
            "Accuracy: 0.13335322195704058\n"
          ]
        },
        {
          "output_type": "stream",
          "name": "stderr",
          "text": [
            "421it [00:40,  9.55it/s]"
          ]
        },
        {
          "output_type": "stream",
          "name": "stdout",
          "text": [
            "tensor(8.4811, device='cuda:0', grad_fn=<MseLossBackward0>)\n",
            "Average Loss: 2.0121534193555513\n",
            "Accuracy: 0.13303571428571428\n",
            "Average Loss: 2.0109174480206042\n",
            "Accuracy: 0.1330166270783848\n"
          ]
        },
        {
          "output_type": "stream",
          "name": "stderr",
          "text": [
            "\r423it [00:40,  9.76it/s]"
          ]
        },
        {
          "output_type": "stream",
          "name": "stdout",
          "text": [
            "Average Loss: 2.009159552189411\n",
            "Accuracy: 0.13299763033175355\n",
            "Average Loss: 2.0063757403945246\n",
            "Accuracy: 0.133274231678487\n"
          ]
        },
        {
          "output_type": "stream",
          "name": "stderr",
          "text": [
            "426it [00:41,  9.93it/s]"
          ]
        },
        {
          "output_type": "stream",
          "name": "stdout",
          "text": [
            "Average Loss: 2.006951267778311\n",
            "Accuracy: 0.13369693396226415\n",
            "Average Loss: 2.008245193046682\n",
            "Accuracy: 0.13352941176470587\n",
            "Average Loss: 2.0056989652590014\n",
            "Accuracy: 0.13394953051643194\n"
          ]
        },
        {
          "output_type": "stream",
          "name": "stderr",
          "text": [
            "\r428it [00:41, 10.02it/s]"
          ]
        },
        {
          "output_type": "stream",
          "name": "stdout",
          "text": [
            "Average Loss: 2.0032347303224114\n",
            "Accuracy: 0.13378220140515223\n",
            "Average Loss: 2.001710771887659\n",
            "Accuracy: 0.1334696261682243\n"
          ]
        },
        {
          "output_type": "stream",
          "name": "stderr",
          "text": [
            "430it [00:41,  9.86it/s]"
          ]
        },
        {
          "output_type": "stream",
          "name": "stdout",
          "text": [
            "Average Loss: 2.0013947380589436\n",
            "Accuracy: 0.1333041958041958\n",
            "tensor(3.7159, device='cuda:0', grad_fn=<MseLossBackward0>)\n",
            "Average Loss: 2.0053819594688194\n",
            "Accuracy: 0.13313953488372093\n"
          ]
        },
        {
          "output_type": "stream",
          "name": "stderr",
          "text": [
            "432it [00:41,  9.83it/s]"
          ]
        },
        {
          "output_type": "stream",
          "name": "stdout",
          "text": [
            "Average Loss: 2.0035755243627764\n",
            "Accuracy: 0.1329756380510441\n",
            "Average Loss: 2.005537065297917\n",
            "Accuracy: 0.1332465277777778\n"
          ]
        },
        {
          "output_type": "stream",
          "name": "stderr",
          "text": [
            "434it [00:42,  9.78it/s]"
          ]
        },
        {
          "output_type": "stream",
          "name": "stdout",
          "text": [
            "Average Loss: 2.0037658172584294\n",
            "Accuracy: 0.1335161662817552\n",
            "Average Loss: 2.0071038471251588\n",
            "Accuracy: 0.1336405529953917\n"
          ]
        },
        {
          "output_type": "stream",
          "name": "stderr",
          "text": [
            "437it [00:42, 10.04it/s]"
          ]
        },
        {
          "output_type": "stream",
          "name": "stdout",
          "text": [
            "Average Loss: 2.0046795633332484\n",
            "Accuracy: 0.13376436781609197\n",
            "Average Loss: 2.003872556628984\n",
            "Accuracy: 0.13345756880733944\n",
            "Average Loss: 2.003106380695609\n",
            "Accuracy: 0.13343821510297482\n"
          ]
        },
        {
          "output_type": "stream",
          "name": "stderr",
          "text": [
            "\r439it [00:42, 10.08it/s]"
          ]
        },
        {
          "output_type": "stream",
          "name": "stdout",
          "text": [
            "Average Loss: 2.0013708697470354\n",
            "Accuracy: 0.1331335616438356\n",
            "Average Loss: 2.000001669676809\n",
            "Accuracy: 0.1336845102505695\n",
            "tensor(1.4433, device='cuda:0', grad_fn=<MseLossBackward0>)\n",
            "Average Loss: 1.998736459761858\n",
            "Accuracy: 0.13352272727272727\n"
          ]
        },
        {
          "output_type": "stream",
          "name": "stderr",
          "text": [
            "443it [00:42, 10.24it/s]"
          ]
        },
        {
          "output_type": "stream",
          "name": "stdout",
          "text": [
            "Average Loss: 2.0040442799629807\n",
            "Accuracy: 0.1336451247165533\n",
            "Average Loss: 2.0037306390062177\n",
            "Accuracy: 0.13390837104072398\n",
            "Average Loss: 2.0113773851173997\n",
            "Accuracy: 0.1336060948081264\n"
          ]
        },
        {
          "output_type": "stream",
          "name": "stderr",
          "text": [
            "\r445it [00:43, 10.11it/s]"
          ]
        },
        {
          "output_type": "stream",
          "name": "stdout",
          "text": [
            "Average Loss: 2.0143555155074275\n",
            "Accuracy: 0.13358671171171171\n",
            "Average Loss: 2.015273872587118\n",
            "Accuracy: 0.13384831460674157\n",
            "Average Loss: 2.014813951780443\n"
          ]
        },
        {
          "output_type": "stream",
          "name": "stderr",
          "text": [
            "\r447it [00:43, 10.07it/s]"
          ]
        },
        {
          "output_type": "stream",
          "name": "stdout",
          "text": [
            "Accuracy: 0.1336883408071749\n",
            "Average Loss: 2.0158560728733437\n",
            "Accuracy: 0.13380872483221476\n",
            "Average Loss: 2.0153473050865744\n",
            "Accuracy: 0.1337890625\n"
          ]
        },
        {
          "output_type": "stream",
          "name": "stderr",
          "text": [
            "\r449it [00:43, 10.04it/s]"
          ]
        },
        {
          "output_type": "stream",
          "name": "stdout",
          "text": [
            "Average Loss: 2.0135177500662134\n",
            "Accuracy: 0.133630289532294\n",
            "tensor(2.6576, device='cuda:0', grad_fn=<MseLossBackward0>)\n",
            "Average Loss: 2.0149490432606805\n",
            "Accuracy: 0.13375\n"
          ]
        },
        {
          "output_type": "stream",
          "name": "stderr",
          "text": [
            "453it [00:43, 10.01it/s]"
          ]
        },
        {
          "output_type": "stream",
          "name": "stdout",
          "text": [
            "Average Loss: 2.013994178261831\n",
            "Accuracy: 0.13345343680709534\n",
            "Average Loss: 2.0160618624196642\n",
            "Accuracy: 0.13343473451327434\n",
            "Average Loss: 2.017771107142598\n",
            "Accuracy: 0.1335540838852097\n"
          ]
        },
        {
          "output_type": "stream",
          "name": "stderr",
          "text": [
            "\r455it [00:44, 10.03it/s]"
          ]
        },
        {
          "output_type": "stream",
          "name": "stdout",
          "text": [
            "Average Loss: 2.0219365494235495\n",
            "Accuracy: 0.13325991189427314\n",
            "Average Loss: 2.0213600537934147\n",
            "Accuracy: 0.13324175824175824\n",
            "Average Loss: 2.018978798402506\n",
            "Accuracy: 0.13322368421052633\n"
          ]
        },
        {
          "output_type": "stream",
          "name": "stderr",
          "text": [
            "459it [00:44, 10.08it/s]"
          ]
        },
        {
          "output_type": "stream",
          "name": "stdout",
          "text": [
            "Average Loss: 2.0246556862308367\n",
            "Accuracy: 0.13293216630196936\n",
            "Average Loss: 2.022566388853252\n",
            "Accuracy: 0.1331877729257642\n",
            "Average Loss: 2.0218511851654593\n",
            "Accuracy: 0.13344226579520696\n"
          ]
        },
        {
          "output_type": "stream",
          "name": "stderr",
          "text": [
            "\r461it [00:44, 10.04it/s]"
          ]
        },
        {
          "output_type": "stream",
          "name": "stdout",
          "text": [
            "tensor(2.7157, device='cuda:0', grad_fn=<MseLossBackward0>)\n",
            "Average Loss: 2.0233594726609145\n",
            "Accuracy: 0.13342391304347825\n",
            "Average Loss: 2.023611458483073\n",
            "Accuracy: 0.1334056399132321\n",
            "Average Loss: 2.0210543176183453\n",
            "Accuracy: 0.13379329004329005\n"
          ]
        },
        {
          "output_type": "stream",
          "name": "stderr",
          "text": [
            "\r463it [00:44, 10.06it/s]"
          ]
        },
        {
          "output_type": "stream",
          "name": "stdout",
          "text": [
            "Average Loss: 2.0222548801878357\n",
            "Accuracy: 0.13363930885529157\n",
            "Average Loss: 2.023846887501663\n",
            "Accuracy: 0.13348599137931033\n"
          ]
        },
        {
          "output_type": "stream",
          "name": "stderr",
          "text": [
            "466it [00:45,  9.89it/s]"
          ]
        },
        {
          "output_type": "stream",
          "name": "stdout",
          "text": [
            "Average Loss: 2.0264702029766575\n",
            "Accuracy: 0.1331989247311828\n",
            "Average Loss: 2.0252837599474987\n",
            "Accuracy: 0.13304721030042918\n"
          ]
        },
        {
          "output_type": "stream",
          "name": "stderr",
          "text": [
            "468it [00:45,  9.83it/s]"
          ]
        },
        {
          "output_type": "stream",
          "name": "stdout",
          "text": [
            "Average Loss: 2.0241944980697917\n",
            "Accuracy: 0.13316381156316917\n",
            "Average Loss: 2.0218351382093553\n",
            "Accuracy: 0.13341346153846154\n"
          ]
        },
        {
          "output_type": "stream",
          "name": "stderr",
          "text": [
            "470it [00:45,  9.75it/s]"
          ]
        },
        {
          "output_type": "stream",
          "name": "stdout",
          "text": [
            "Average Loss: 2.023164493506397\n",
            "Accuracy: 0.13326226012793177\n",
            "tensor(1.7524, device='cuda:0', grad_fn=<MseLossBackward0>)\n",
            "Average Loss: 2.0225883126892943\n",
            "Accuracy: 0.13351063829787235\n"
          ]
        },
        {
          "output_type": "stream",
          "name": "stderr",
          "text": [
            "472it [00:45,  9.78it/s]"
          ]
        },
        {
          "output_type": "stream",
          "name": "stdout",
          "text": [
            "Average Loss: 2.0276429585463935\n",
            "Accuracy: 0.13362526539278133\n",
            "Average Loss: 2.029149411909156\n",
            "Accuracy: 0.13347457627118645\n"
          ]
        },
        {
          "output_type": "stream",
          "name": "stderr",
          "text": [
            "474it [00:46,  9.67it/s]"
          ]
        },
        {
          "output_type": "stream",
          "name": "stdout",
          "text": [
            "Average Loss: 2.027618262341864\n",
            "Accuracy: 0.13345665961945033\n",
            "Average Loss: 2.026305131582771\n",
            "Accuracy: 0.13343881856540085\n"
          ]
        },
        {
          "output_type": "stream",
          "name": "stderr",
          "text": [
            "\r476it [00:46,  9.89it/s]"
          ]
        },
        {
          "output_type": "stream",
          "name": "stdout",
          "text": [
            "Average Loss: 2.023680825798135\n",
            "Accuracy: 0.13342105263157894\n",
            "Average Loss: 2.027725232060717\n",
            "Accuracy: 0.1332720588235294\n",
            "Average Loss: 2.0263566159227357\n",
            "Accuracy: 0.13338574423480085\n"
          ]
        },
        {
          "output_type": "stream",
          "name": "stderr",
          "text": [
            "480it [00:46, 10.14it/s]"
          ]
        },
        {
          "output_type": "stream",
          "name": "stdout",
          "text": [
            "Average Loss: 2.024687203715037\n",
            "Accuracy: 0.1336297071129707\n",
            "Average Loss: 2.022082927393764\n",
            "Accuracy: 0.13387265135699375\n",
            "tensor(3.6664, device='cuda:0', grad_fn=<MseLossBackward0>)\n",
            "Average Loss: 2.025508629096051\n",
            "Accuracy: 0.13372395833333334\n"
          ]
        },
        {
          "output_type": "stream",
          "name": "stderr",
          "text": [
            "\r482it [00:46, 10.25it/s]"
          ]
        },
        {
          "output_type": "stream",
          "name": "stdout",
          "text": [
            "Average Loss: 2.0238059016250523\n",
            "Accuracy: 0.1337058212058212\n",
            "Average Loss: 2.0233251017777256\n",
            "Accuracy: 0.13368775933609958\n",
            "Average Loss: 2.0240250382240763\n",
            "Accuracy: 0.13366977225672877\n"
          ]
        },
        {
          "output_type": "stream",
          "name": "stderr",
          "text": [
            "486it [00:47, 10.30it/s]"
          ]
        },
        {
          "output_type": "stream",
          "name": "stdout",
          "text": [
            "Average Loss: 2.0284750361211046\n",
            "Accuracy: 0.1337809917355372\n",
            "Average Loss: 2.026488166555916\n",
            "Accuracy: 0.1336340206185567\n",
            "Average Loss: 2.0274470422125646\n",
            "Accuracy: 0.13348765432098766\n"
          ]
        },
        {
          "output_type": "stream",
          "name": "stderr",
          "text": [
            "\r488it [00:47, 10.17it/s]"
          ]
        },
        {
          "output_type": "stream",
          "name": "stdout",
          "text": [
            "Average Loss: 2.0281907352456323\n",
            "Accuracy: 0.13359856262833675\n",
            "Average Loss: 2.028161166693832\n",
            "Accuracy: 0.1338370901639344\n"
          ]
        },
        {
          "output_type": "stream",
          "name": "stderr",
          "text": [
            "\r490it [00:47,  9.97it/s]"
          ]
        },
        {
          "output_type": "stream",
          "name": "stdout",
          "text": [
            "Average Loss: 2.0278996990380356\n",
            "Accuracy: 0.13381901840490798\n",
            "tensor(1.7516, device='cuda:0', grad_fn=<MseLossBackward0>)\n",
            "Average Loss: 2.027335896358198\n",
            "Accuracy: 0.1336734693877551\n"
          ]
        },
        {
          "output_type": "stream",
          "name": "stderr",
          "text": [
            "493it [00:47, 10.03it/s]"
          ]
        },
        {
          "output_type": "stream",
          "name": "stdout",
          "text": [
            "Average Loss: 2.025555606832815\n",
            "Accuracy: 0.13365580448065173\n",
            "Average Loss: 2.023788404961427\n",
            "Accuracy: 0.13338414634146342\n",
            "Average Loss: 2.026435706303521\n",
            "Accuracy: 0.13349391480730224\n"
          ]
        },
        {
          "output_type": "stream",
          "name": "stderr",
          "text": [
            "\r495it [00:48, 10.13it/s]"
          ]
        },
        {
          "output_type": "stream",
          "name": "stdout",
          "text": [
            "Average Loss: 2.0308833144574994\n",
            "Accuracy: 0.1333502024291498\n",
            "Average Loss: 2.033993313830308\n",
            "Accuracy: 0.13333333333333333\n",
            "Average Loss: 2.0330474684916195\n",
            "Accuracy: 0.13344254032258066\n"
          ]
        },
        {
          "output_type": "stream",
          "name": "stderr",
          "text": [
            "499it [00:48, 10.18it/s]"
          ]
        },
        {
          "output_type": "stream",
          "name": "stdout",
          "text": [
            "Average Loss: 2.0331912588185705\n",
            "Accuracy: 0.13329979879275655\n",
            "Average Loss: 2.035350728286318\n",
            "Accuracy: 0.1330321285140562\n",
            "Average Loss: 2.036275876607589\n",
            "Accuracy: 0.13276553106212424\n"
          ]
        },
        {
          "output_type": "stream",
          "name": "stderr",
          "text": [
            "\r501it [00:48, 10.21it/s]"
          ]
        },
        {
          "output_type": "stream",
          "name": "stdout",
          "text": [
            "tensor(2.1329, device='cuda:0', grad_fn=<MseLossBackward0>)\n",
            "Average Loss: 2.0364690547585487\n",
            "Accuracy: 0.132875\n",
            "Average Loss: 2.0412973791896225\n",
            "Accuracy: 0.13310878243512975\n",
            "Average Loss: 2.042831828929039\n",
            "Accuracy: 0.1330926294820717\n"
          ]
        },
        {
          "output_type": "stream",
          "name": "stderr",
          "text": [
            "505it [00:49, 10.43it/s]"
          ]
        },
        {
          "output_type": "stream",
          "name": "stdout",
          "text": [
            "Average Loss: 2.042935733588979\n",
            "Accuracy: 0.13295228628230615\n",
            "Average Loss: 2.045114016308198\n",
            "Accuracy: 0.13293650793650794\n",
            "Average Loss: 2.0491365050915444\n",
            "Accuracy: 0.1327970297029703\n"
          ]
        },
        {
          "output_type": "stream",
          "name": "stderr",
          "text": [
            "\r507it [00:49, 10.45it/s]"
          ]
        },
        {
          "output_type": "stream",
          "name": "stdout",
          "text": [
            "Average Loss: 2.0482600541571854\n",
            "Accuracy: 0.1330286561264822\n",
            "Average Loss: 2.0479012199289937\n",
            "Accuracy: 0.13313609467455623\n",
            "Average Loss: 2.050418542184698\n",
            "Accuracy: 0.1328740157480315\n"
          ]
        },
        {
          "output_type": "stream",
          "name": "stderr",
          "text": [
            "511it [00:49, 10.36it/s]"
          ]
        },
        {
          "output_type": "stream",
          "name": "stdout",
          "text": [
            "Average Loss: 2.0528765924435937\n",
            "Accuracy: 0.13285854616895873\n",
            "tensor(2.5281, device='cuda:0', grad_fn=<MseLossBackward0>)\n",
            "Average Loss: 2.0538084278504054\n",
            "Accuracy: 0.13272058823529412\n",
            "Average Loss: 2.0541332916387605\n",
            "Accuracy: 0.1327054794520548\n"
          ]
        },
        {
          "output_type": "stream",
          "name": "stderr",
          "text": [
            "\r513it [00:49, 10.31it/s]"
          ]
        },
        {
          "output_type": "stream",
          "name": "stdout",
          "text": [
            "Average Loss: 2.056603651086334\n",
            "Accuracy: 0.1324462890625\n",
            "Average Loss: 2.061704124914043\n",
            "Accuracy: 0.13218810916179338\n",
            "Average Loss: 2.060425651734441\n",
            "Accuracy: 0.13266050583657588\n"
          ]
        },
        {
          "output_type": "stream",
          "name": "stderr",
          "text": [
            "517it [00:50, 10.49it/s]"
          ]
        },
        {
          "output_type": "stream",
          "name": "stdout",
          "text": [
            "Average Loss: 2.060358691967807\n",
            "Accuracy: 0.1325242718446602\n",
            "Average Loss: 2.0594944383862406\n",
            "Accuracy: 0.13226744186046513\n",
            "Average Loss: 2.059303647833129\n",
            "Accuracy: 0.13201160541586074\n"
          ]
        },
        {
          "output_type": "stream",
          "name": "stderr",
          "text": [
            "\r519it [00:50, 10.56it/s]"
          ]
        },
        {
          "output_type": "stream",
          "name": "stdout",
          "text": [
            "Average Loss: 2.0594445534309367\n",
            "Accuracy: 0.13223938223938225\n",
            "Average Loss: 2.0600699485496747\n",
            "Accuracy: 0.13258670520231214\n",
            "tensor(2.3477, device='cuda:0', grad_fn=<MseLossBackward0>)\n",
            "Average Loss: 2.060623036267666\n",
            "Accuracy: 0.1326923076923077\n"
          ]
        },
        {
          "output_type": "stream",
          "name": "stderr",
          "text": [
            "523it [00:50, 10.45it/s]"
          ]
        },
        {
          "output_type": "stream",
          "name": "stdout",
          "text": [
            "Average Loss: 2.0601214880334666\n",
            "Accuracy: 0.13255758157389635\n",
            "Average Loss: 2.0588125486597706\n",
            "Accuracy: 0.13254310344827586\n",
            "Average Loss: 2.0594070995401013\n",
            "Accuracy: 0.13228967495219884\n"
          ]
        },
        {
          "output_type": "stream",
          "name": "stderr",
          "text": [
            "\r525it [00:51, 10.50it/s]"
          ]
        },
        {
          "output_type": "stream",
          "name": "stdout",
          "text": [
            "Average Loss: 2.058328814463306\n",
            "Accuracy: 0.1321564885496183\n",
            "Average Loss: 2.0589543409006934\n",
            "Accuracy: 0.13214285714285715\n",
            "Average Loss: 2.0589109299414057\n",
            "Accuracy: 0.13201045627376426\n"
          ]
        },
        {
          "output_type": "stream",
          "name": "stderr",
          "text": [
            "529it [00:51, 10.45it/s]"
          ]
        },
        {
          "output_type": "stream",
          "name": "stdout",
          "text": [
            "Average Loss: 2.0578259682632716\n",
            "Accuracy: 0.1318785578747628\n",
            "Average Loss: 2.057271299770836\n",
            "Accuracy: 0.1318655303030303\n",
            "Average Loss: 2.055151504300718\n",
            "Accuracy: 0.13185255198487714\n"
          ]
        },
        {
          "output_type": "stream",
          "name": "stderr",
          "text": [
            "\r531it [00:51, 10.41it/s]"
          ]
        },
        {
          "output_type": "stream",
          "name": "stdout",
          "text": [
            "tensor(1.4311, device='cuda:0', grad_fn=<MseLossBackward0>)\n",
            "Average Loss: 2.0539740837407563\n",
            "Accuracy: 0.13183962264150945\n",
            "Average Loss: 2.0530634593716672\n",
            "Accuracy: 0.1318267419962335\n",
            "Average Loss: 2.0537552545057203\n",
            "Accuracy: 0.1319313909774436\n"
          ]
        },
        {
          "output_type": "stream",
          "name": "stderr",
          "text": [
            "535it [00:51, 10.49it/s]"
          ]
        },
        {
          "output_type": "stream",
          "name": "stdout",
          "text": [
            "Average Loss: 2.0535041159246026\n",
            "Accuracy: 0.1319183864915572\n",
            "Average Loss: 2.055136733789569\n",
            "Accuracy: 0.13190543071161048\n",
            "Average Loss: 2.0593931203133593\n",
            "Accuracy: 0.13212616822429907\n"
          ]
        },
        {
          "output_type": "stream",
          "name": "stderr",
          "text": [
            "\r537it [00:52, 10.46it/s]"
          ]
        },
        {
          "output_type": "stream",
          "name": "stdout",
          "text": [
            "Average Loss: 2.0588217916439717\n",
            "Accuracy: 0.13199626865671643\n",
            "Average Loss: 2.0587100634694764\n",
            "Accuracy: 0.1320996275605214\n",
            "Average Loss: 2.060257307935825\n",
            "Accuracy: 0.13220260223048327\n"
          ]
        },
        {
          "output_type": "stream",
          "name": "stderr",
          "text": [
            "541it [00:52, 10.33it/s]"
          ]
        },
        {
          "output_type": "stream",
          "name": "stdout",
          "text": [
            "Average Loss: 2.0581543461621803\n",
            "Accuracy: 0.13230519480519481\n",
            "tensor(0.8325, device='cuda:0', grad_fn=<MseLossBackward0>)\n",
            "Average Loss: 2.0558845476419836\n",
            "Accuracy: 0.13240740740740742\n",
            "Average Loss: 2.053715256853597\n",
            "Accuracy: 0.13262476894639558\n"
          ]
        },
        {
          "output_type": "stream",
          "name": "stderr",
          "text": [
            "\r543it [00:52, 10.17it/s]"
          ]
        },
        {
          "output_type": "stream",
          "name": "stdout",
          "text": [
            "Average Loss: 2.05222641635425\n",
            "Accuracy: 0.13307195571955718\n",
            "Average Loss: 2.052397931752723\n",
            "Accuracy: 0.13294198895027623\n",
            "Average Loss: 2.0504894561736897\n",
            "Accuracy: 0.13304227941176472\n"
          ]
        },
        {
          "output_type": "stream",
          "name": "stderr",
          "text": [
            "\r545it [00:52, 10.26it/s]"
          ]
        },
        {
          "output_type": "stream",
          "name": "stdout",
          "text": [
            "Average Loss: 2.049915937819612\n",
            "Accuracy: 0.13302752293577982\n",
            "Average Loss: 2.0495324028389796\n",
            "Accuracy: 0.13278388278388278\n"
          ]
        },
        {
          "output_type": "stream",
          "name": "stderr",
          "text": [
            "549it [00:53, 10.21it/s]"
          ]
        },
        {
          "output_type": "stream",
          "name": "stdout",
          "text": [
            "Average Loss: 2.0499718418613866\n",
            "Accuracy: 0.13265539305301646\n",
            "Average Loss: 2.0492414391062557\n",
            "Accuracy: 0.13264142335766424\n",
            "Average Loss: 2.051284541469237\n",
            "Accuracy: 0.13239981785063754\n"
          ]
        },
        {
          "output_type": "stream",
          "name": "stderr",
          "text": [
            "\r551it [00:53, 10.30it/s]"
          ]
        },
        {
          "output_type": "stream",
          "name": "stdout",
          "text": [
            "tensor(1.4687, device='cuda:0', grad_fn=<MseLossBackward0>)\n",
            "Average Loss: 2.0502253595807334\n",
            "Accuracy: 0.13238636363636364\n",
            "Average Loss: 2.047898271068687\n",
            "Accuracy: 0.13225952813067152\n",
            "Average Loss: 2.0543575849977955\n",
            "Accuracy: 0.1324728260869565\n"
          ]
        },
        {
          "output_type": "stream",
          "name": "stderr",
          "text": [
            "555it [00:53, 10.25it/s]"
          ]
        },
        {
          "output_type": "stream",
          "name": "stdout",
          "text": [
            "Average Loss: 2.054841857437199\n",
            "Accuracy: 0.13223327305605787\n",
            "Average Loss: 2.0535215470227093\n",
            "Accuracy: 0.13210740072202165\n",
            "Average Loss: 2.0525973042389296\n",
            "Accuracy: 0.13231981981981983\n"
          ]
        },
        {
          "output_type": "stream",
          "name": "stderr",
          "text": [
            "\r557it [00:54, 10.25it/s]"
          ]
        },
        {
          "output_type": "stream",
          "name": "stdout",
          "text": [
            "Average Loss: 2.0508671556766944\n",
            "Accuracy: 0.132306654676259\n",
            "Average Loss: 2.049913758595927\n",
            "Accuracy: 0.1322935368043088\n",
            "Average Loss: 2.052879495379318\n",
            "Accuracy: 0.1322804659498208\n"
          ]
        },
        {
          "output_type": "stream",
          "name": "stderr",
          "text": [
            "\r559it [00:54, 10.20it/s]"
          ]
        },
        {
          "output_type": "stream",
          "name": "stdout",
          "text": [
            "Average Loss: 2.05502902709734\n",
            "Accuracy: 0.13237924865831843\n",
            "tensor(1.5472, device='cuda:0', grad_fn=<MseLossBackward0>)\n",
            "Average Loss: 2.0541221843766313\n",
            "Accuracy: 0.13247767857142856\n"
          ]
        },
        {
          "output_type": "stream",
          "name": "stderr",
          "text": [
            "563it [00:54, 10.14it/s]"
          ]
        },
        {
          "output_type": "stream",
          "name": "stdout",
          "text": [
            "Average Loss: 2.0552275078288162\n",
            "Accuracy: 0.1324643493761141\n",
            "Average Loss: 2.053825139310012\n",
            "Accuracy: 0.13222864768683273\n",
            "Average Loss: 2.057222250458614\n",
            "Accuracy: 0.13199378330373002\n"
          ]
        },
        {
          "output_type": "stream",
          "name": "stderr",
          "text": [
            "\r565it [00:54, 10.15it/s]"
          ]
        },
        {
          "output_type": "stream",
          "name": "stdout",
          "text": [
            "Average Loss: 2.055956376095613\n",
            "Accuracy: 0.13198138297872342\n",
            "Average Loss: 2.0556635695748624\n",
            "Accuracy: 0.13185840707964602\n",
            "Average Loss: 2.0553489684953283\n",
            "Accuracy: 0.13184628975265017\n"
          ]
        },
        {
          "output_type": "stream",
          "name": "stderr",
          "text": [
            "569it [00:55, 10.24it/s]"
          ]
        },
        {
          "output_type": "stream",
          "name": "stdout",
          "text": [
            "Average Loss: 2.0558986341616885\n",
            "Accuracy: 0.13216490299823633\n",
            "Average Loss: 2.0537855299320857\n",
            "Accuracy: 0.13226232394366197\n",
            "Average Loss: 2.052191844252585\n",
            "Accuracy: 0.13235940246045694\n"
          ]
        },
        {
          "output_type": "stream",
          "name": "stderr",
          "text": [
            "\r571it [00:55, 10.17it/s]"
          ]
        },
        {
          "output_type": "stream",
          "name": "stdout",
          "text": [
            "tensor(2.0217, device='cuda:0', grad_fn=<MseLossBackward0>)\n",
            "Average Loss: 2.052138262202865\n",
            "Accuracy: 0.1324561403508772\n",
            "Average Loss: 2.055633826086692\n",
            "Accuracy: 0.13255253940455342\n",
            "Average Loss: 2.0581354433735766\n",
            "Accuracy: 0.13253933566433568\n"
          ]
        },
        {
          "output_type": "stream",
          "name": "stderr",
          "text": [
            "573it [00:55, 10.28it/s]\n"
          ]
        },
        {
          "output_type": "stream",
          "name": "stdout",
          "text": [
            "Average Loss: 2.057248338718897\n",
            "Accuracy: 0.13263525305410123\n"
          ]
        },
        {
          "output_type": "stream",
          "name": "stderr",
          "text": [
            "1it [00:00,  9.81it/s]"
          ]
        },
        {
          "output_type": "stream",
          "name": "stdout",
          "text": [
            "Average Loss: 1.3306697607040405\n",
            "Accuracy: 0.25\n"
          ]
        },
        {
          "output_type": "stream",
          "name": "stderr",
          "text": [
            "\r3it [00:00, 10.23it/s]"
          ]
        },
        {
          "output_type": "stream",
          "name": "stdout",
          "text": [
            "Average Loss: 1.3711682558059692\n",
            "Accuracy: 0.15625\n",
            "Average Loss: 1.0428128639856975\n",
            "Accuracy: 0.1875\n",
            "Average Loss: 1.160820871591568\n",
            "Accuracy: 0.15625\n"
          ]
        },
        {
          "output_type": "stream",
          "name": "stderr",
          "text": [
            "\r5it [00:00, 10.32it/s]"
          ]
        },
        {
          "output_type": "stream",
          "name": "stdout",
          "text": [
            "Average Loss: 1.2387510299682618\n",
            "Accuracy: 0.15\n",
            "Average Loss: 1.318548818429311\n",
            "Accuracy: 0.14583333333333334\n"
          ]
        },
        {
          "output_type": "stream",
          "name": "stderr",
          "text": [
            "\r7it [00:00, 10.43it/s]"
          ]
        },
        {
          "output_type": "stream",
          "name": "stdout",
          "text": [
            "Average Loss: 1.2435698764664787\n",
            "Accuracy: 0.14285714285714285\n"
          ]
        },
        {
          "output_type": "stream",
          "name": "stderr",
          "text": [
            "\r9it [00:00, 10.42it/s]"
          ]
        },
        {
          "output_type": "stream",
          "name": "stdout",
          "text": [
            "Average Loss: 1.2328436002135277\n",
            "Accuracy: 0.1328125\n",
            "Average Loss: 1.2358142468664381\n",
            "Accuracy: 0.1388888888888889\n",
            "tensor(1.8481, device='cuda:0', grad_fn=<MseLossBackward0>)\n",
            "Average Loss: 1.2970459878444671\n",
            "Accuracy: 0.13125\n"
          ]
        },
        {
          "output_type": "stream",
          "name": "stderr",
          "text": [
            "\r11it [00:01, 10.48it/s]"
          ]
        },
        {
          "output_type": "stream",
          "name": "stdout",
          "text": [
            "Average Loss: 1.3650595870884983\n",
            "Accuracy: 0.125\n",
            "Average Loss: 1.376615380247434\n",
            "Accuracy: 0.125\n"
          ]
        },
        {
          "output_type": "stream",
          "name": "stderr",
          "text": [
            "\r13it [00:01, 10.44it/s]"
          ]
        },
        {
          "output_type": "stream",
          "name": "stdout",
          "text": [
            "Average Loss: 1.3716215674693768\n",
            "Accuracy: 0.12980769230769232\n"
          ]
        },
        {
          "output_type": "stream",
          "name": "stderr",
          "text": [
            "\r15it [00:01, 10.51it/s]"
          ]
        },
        {
          "output_type": "stream",
          "name": "stdout",
          "text": [
            "Average Loss: 1.3607818697180067\n",
            "Accuracy: 0.125\n",
            "Average Loss: 1.309600031375885\n",
            "Accuracy: 0.12083333333333333\n",
            "Average Loss: 1.3274490125477314\n",
            "Accuracy: 0.1171875\n"
          ]
        },
        {
          "output_type": "stream",
          "name": "stderr",
          "text": [
            "\r17it [00:01, 10.43it/s]"
          ]
        },
        {
          "output_type": "stream",
          "name": "stdout",
          "text": [
            "Average Loss: 1.2967997123213375\n",
            "Accuracy: 0.11029411764705882\n",
            "Average Loss: 1.2935049500730302\n",
            "Accuracy: 0.1111111111111111\n"
          ]
        },
        {
          "output_type": "stream",
          "name": "stderr",
          "text": [
            "\r19it [00:01, 10.32it/s]"
          ]
        },
        {
          "output_type": "stream",
          "name": "stdout",
          "text": [
            "Average Loss: 1.3076540890492891\n",
            "Accuracy: 0.12171052631578948\n"
          ]
        },
        {
          "output_type": "stream",
          "name": "stderr",
          "text": [
            "\r21it [00:02, 10.37it/s]"
          ]
        },
        {
          "output_type": "stream",
          "name": "stdout",
          "text": [
            "tensor(1.0190, device='cuda:0', grad_fn=<MseLossBackward0>)\n",
            "Average Loss: 1.2932222098112107\n",
            "Accuracy: 0.128125\n",
            "Average Loss: 1.3006063444273812\n",
            "Accuracy: 0.125\n",
            "Average Loss: 1.3954872461882504\n",
            "Accuracy: 0.12215909090909091\n"
          ]
        },
        {
          "output_type": "stream",
          "name": "stderr",
          "text": [
            "\r23it [00:02, 10.42it/s]"
          ]
        },
        {
          "output_type": "stream",
          "name": "stdout",
          "text": [
            "Average Loss: 1.41405704487925\n",
            "Accuracy: 0.11684782608695653\n",
            "Average Loss: 1.431646225353082\n",
            "Accuracy: 0.12239583333333333\n"
          ]
        },
        {
          "output_type": "stream",
          "name": "stderr",
          "text": [
            "\r25it [00:02, 10.48it/s]"
          ]
        },
        {
          "output_type": "stream",
          "name": "stdout",
          "text": [
            "Average Loss: 1.4116925883293152\n",
            "Accuracy: 0.125\n"
          ]
        },
        {
          "output_type": "stream",
          "name": "stderr",
          "text": [
            "\r27it [00:02, 10.58it/s]"
          ]
        },
        {
          "output_type": "stream",
          "name": "stdout",
          "text": [
            "Average Loss: 1.4952383385254786\n",
            "Accuracy: 0.12259615384615384\n",
            "Average Loss: 1.5031591631748058\n",
            "Accuracy: 0.12037037037037036\n",
            "Average Loss: 1.4953078648873739\n",
            "Accuracy: 0.11607142857142858\n"
          ]
        },
        {
          "output_type": "stream",
          "name": "stderr",
          "text": [
            "\r29it [00:02, 10.63it/s]"
          ]
        },
        {
          "output_type": "stream",
          "name": "stdout",
          "text": [
            "Average Loss: 1.5231767707857593\n",
            "Accuracy: 0.11422413793103449\n",
            "tensor(0.7762, device='cuda:0', grad_fn=<MseLossBackward0>)\n",
            "Average Loss: 1.49827894171079\n",
            "Accuracy: 0.11458333333333333\n"
          ]
        },
        {
          "output_type": "stream",
          "name": "stderr",
          "text": [
            "\r31it [00:02, 10.47it/s]"
          ]
        },
        {
          "output_type": "stream",
          "name": "stdout",
          "text": [
            "Average Loss: 1.4996385555113516\n",
            "Accuracy: 0.11491935483870967\n"
          ]
        },
        {
          "output_type": "stream",
          "name": "stderr",
          "text": [
            "\r33it [00:03, 10.63it/s]"
          ]
        },
        {
          "output_type": "stream",
          "name": "stdout",
          "text": [
            "Average Loss: 1.538133641704917\n",
            "Accuracy: 0.11328125\n",
            "Average Loss: 1.5722789818590337\n",
            "Accuracy: 0.11174242424242424\n",
            "Average Loss: 1.6730443502173704\n",
            "Accuracy: 0.11213235294117647\n"
          ]
        },
        {
          "output_type": "stream",
          "name": "stderr",
          "text": [
            "\r35it [00:03, 10.60it/s]"
          ]
        },
        {
          "output_type": "stream",
          "name": "stdout",
          "text": [
            "Average Loss: 1.6669374176434109\n",
            "Accuracy: 0.11607142857142858\n",
            "Average Loss: 1.6562393920289145\n",
            "Accuracy: 0.11631944444444445\n"
          ]
        },
        {
          "output_type": "stream",
          "name": "stderr",
          "text": [
            "\r37it [00:03, 10.64it/s]"
          ]
        },
        {
          "output_type": "stream",
          "name": "stdout",
          "text": [
            "Average Loss: 1.642185641301645\n",
            "Accuracy: 0.11824324324324324\n"
          ]
        },
        {
          "output_type": "stream",
          "name": "stderr",
          "text": [
            "\r39it [00:03, 10.68it/s]"
          ]
        },
        {
          "output_type": "stream",
          "name": "stdout",
          "text": [
            "Average Loss: 1.643057024792621\n",
            "Accuracy: 0.12006578947368421\n",
            "Average Loss: 1.6290966654435182\n",
            "Accuracy: 0.1282051282051282\n",
            "tensor(1.3342, device='cuda:0', grad_fn=<MseLossBackward0>)\n",
            "Average Loss: 1.6217230245471002\n",
            "Accuracy: 0.128125\n"
          ]
        },
        {
          "output_type": "stream",
          "name": "stderr",
          "text": [
            "\r41it [00:03, 10.70it/s]"
          ]
        },
        {
          "output_type": "stream",
          "name": "stdout",
          "text": [
            "Average Loss: 1.65686200159352\n",
            "Accuracy: 0.12804878048780488\n",
            "Average Loss: 1.661234207096554\n",
            "Accuracy: 0.12946428571428573\n"
          ]
        },
        {
          "output_type": "stream",
          "name": "stderr",
          "text": [
            "\r43it [00:04, 10.71it/s]"
          ]
        },
        {
          "output_type": "stream",
          "name": "stdout",
          "text": [
            "Average Loss: 1.6570189983345742\n",
            "Accuracy: 0.12936046511627908\n"
          ]
        },
        {
          "output_type": "stream",
          "name": "stderr",
          "text": [
            "\r45it [00:04, 10.69it/s]"
          ]
        },
        {
          "output_type": "stream",
          "name": "stdout",
          "text": [
            "Average Loss: 1.6479874022982337\n",
            "Accuracy: 0.12926136363636365\n",
            "Average Loss: 1.6617129948404101\n",
            "Accuracy: 0.13194444444444445\n",
            "Average Loss: 1.662806836159333\n",
            "Accuracy: 0.1358695652173913\n"
          ]
        },
        {
          "output_type": "stream",
          "name": "stderr",
          "text": [
            "\r47it [00:04, 10.71it/s]"
          ]
        },
        {
          "output_type": "stream",
          "name": "stdout",
          "text": [
            "Average Loss: 1.6603042305784022\n",
            "Accuracy: 0.13962765957446807\n",
            "Average Loss: 1.6460613360007603\n",
            "Accuracy: 0.13932291666666666\n"
          ]
        },
        {
          "output_type": "stream",
          "name": "stderr",
          "text": [
            "\r49it [00:04, 10.78it/s]"
          ]
        },
        {
          "output_type": "stream",
          "name": "stdout",
          "text": [
            "Average Loss: 1.6317013356150414\n",
            "Accuracy: 0.14030612244897958\n"
          ]
        },
        {
          "output_type": "stream",
          "name": "stderr",
          "text": [
            "\r51it [00:04, 10.75it/s]"
          ]
        },
        {
          "output_type": "stream",
          "name": "stdout",
          "text": [
            "tensor(1.0810, device='cuda:0', grad_fn=<MseLossBackward0>)\n",
            "Average Loss: 1.6206864953041076\n",
            "Accuracy: 0.14125\n",
            "Average Loss: 1.6099308448679306\n",
            "Accuracy: 0.14215686274509803\n",
            "Average Loss: 1.6117385488290052\n",
            "Accuracy: 0.14182692307692307\n"
          ]
        },
        {
          "output_type": "stream",
          "name": "stderr",
          "text": [
            "\r53it [00:05, 10.82it/s]"
          ]
        },
        {
          "output_type": "stream",
          "name": "stdout",
          "text": [
            "Average Loss: 1.5985507132872097\n",
            "Accuracy: 0.14150943396226415\n",
            "Average Loss: 1.5999611858968381\n",
            "Accuracy: 0.1400462962962963\n"
          ]
        },
        {
          "output_type": "stream",
          "name": "stderr",
          "text": [
            "\r55it [00:05, 10.77it/s]"
          ]
        },
        {
          "output_type": "stream",
          "name": "stdout",
          "text": [
            "Average Loss: 1.593541197343306\n",
            "Accuracy: 0.1375\n"
          ]
        },
        {
          "output_type": "stream",
          "name": "stderr",
          "text": [
            "\r57it [00:05, 10.82it/s]"
          ]
        },
        {
          "output_type": "stream",
          "name": "stdout",
          "text": [
            "Average Loss: 1.612605733530862\n",
            "Accuracy: 0.13727678571428573\n",
            "Average Loss: 1.6100995164168508\n",
            "Accuracy: 0.13706140350877194\n",
            "Average Loss: 1.6176211751740555\n",
            "Accuracy: 0.13469827586206898\n"
          ]
        },
        {
          "output_type": "stream",
          "name": "stderr",
          "text": [
            "\r59it [00:05, 10.84it/s]"
          ]
        },
        {
          "output_type": "stream",
          "name": "stdout",
          "text": [
            "Average Loss: 1.606739739240226\n",
            "Accuracy: 0.13771186440677965\n",
            "tensor(1.3701, device='cuda:0', grad_fn=<MseLossBackward0>)\n",
            "Average Loss: 1.6027958114941916\n",
            "Accuracy: 0.13645833333333332\n"
          ]
        },
        {
          "output_type": "stream",
          "name": "stderr",
          "text": [
            "\r61it [00:05, 10.79it/s]"
          ]
        },
        {
          "output_type": "stream",
          "name": "stdout",
          "text": [
            "Average Loss: 1.599544732297053\n",
            "Accuracy: 0.1362704918032787\n"
          ]
        },
        {
          "output_type": "stream",
          "name": "stderr",
          "text": [
            "\r63it [00:05, 10.68it/s]"
          ]
        },
        {
          "output_type": "stream",
          "name": "stdout",
          "text": [
            "Average Loss: 1.5894397612540954\n",
            "Accuracy: 0.1381048387096774\n",
            "Average Loss: 1.5766760952888974\n",
            "Accuracy: 0.1388888888888889\n",
            "Average Loss: 1.569984502159059\n",
            "Accuracy: 0.138671875\n"
          ]
        },
        {
          "output_type": "stream",
          "name": "stderr",
          "text": [
            "\r65it [00:06, 10.68it/s]"
          ]
        },
        {
          "output_type": "stream",
          "name": "stdout",
          "text": [
            "Average Loss: 1.5583281306120065\n",
            "Accuracy: 0.1375\n",
            "Average Loss: 1.5519161450140404\n",
            "Accuracy: 0.13825757575757575\n"
          ]
        },
        {
          "output_type": "stream",
          "name": "stderr",
          "text": [
            "\r67it [00:06, 10.61it/s]"
          ]
        },
        {
          "output_type": "stream",
          "name": "stdout",
          "text": [
            "Average Loss: 1.5454599243491443\n",
            "Accuracy: 0.13712686567164178\n"
          ]
        },
        {
          "output_type": "stream",
          "name": "stderr",
          "text": [
            "\r69it [00:06, 10.49it/s]"
          ]
        },
        {
          "output_type": "stream",
          "name": "stdout",
          "text": [
            "Average Loss: 1.5486790739438112\n",
            "Accuracy: 0.13602941176470587\n",
            "Average Loss: 1.5506409881771475\n",
            "Accuracy: 0.1358695652173913\n",
            "tensor(1.8497, device='cuda:0', grad_fn=<MseLossBackward0>)\n",
            "Average Loss: 1.5549133803163255\n",
            "Accuracy: 0.1357142857142857\n"
          ]
        },
        {
          "output_type": "stream",
          "name": "stderr",
          "text": [
            "\r71it [00:06, 10.41it/s]"
          ]
        },
        {
          "output_type": "stream",
          "name": "stdout",
          "text": [
            "Average Loss: 1.5530568873378592\n",
            "Accuracy: 0.13732394366197184\n",
            "Average Loss: 1.5731382361716695\n",
            "Accuracy: 0.1371527777777778\n"
          ]
        },
        {
          "output_type": "stream",
          "name": "stderr",
          "text": [
            "\r73it [00:06, 10.38it/s]"
          ]
        },
        {
          "output_type": "stream",
          "name": "stdout",
          "text": [
            "Average Loss: 1.5648024261814275\n",
            "Accuracy: 0.14126712328767124\n"
          ]
        },
        {
          "output_type": "stream",
          "name": "stderr",
          "text": [
            "\r75it [00:07, 10.53it/s]"
          ]
        },
        {
          "output_type": "stream",
          "name": "stdout",
          "text": [
            "Average Loss: 1.554090897779207\n",
            "Accuracy: 0.14189189189189189\n",
            "Average Loss: 1.5544919681549072\n",
            "Accuracy: 0.14166666666666666\n",
            "Average Loss: 1.5684394491346259\n",
            "Accuracy: 0.14226973684210525\n"
          ]
        },
        {
          "output_type": "stream",
          "name": "stderr",
          "text": [
            "\r77it [00:07, 10.51it/s]"
          ]
        },
        {
          "output_type": "stream",
          "name": "stdout",
          "text": [
            "Average Loss: 1.5751803881162172\n",
            "Accuracy: 0.14366883116883117\n",
            "Average Loss: 1.580793512173188\n",
            "Accuracy: 0.14423076923076922\n"
          ]
        },
        {
          "output_type": "stream",
          "name": "stderr",
          "text": [
            "\r79it [00:07, 10.55it/s]"
          ]
        },
        {
          "output_type": "stream",
          "name": "stdout",
          "text": [
            "Average Loss: 1.5747442713266686\n",
            "Accuracy: 0.14556962025316456\n"
          ]
        },
        {
          "output_type": "stream",
          "name": "stderr",
          "text": [
            "\r81it [00:07, 10.62it/s]"
          ]
        },
        {
          "output_type": "stream",
          "name": "stdout",
          "text": [
            "tensor(1.3827, device='cuda:0', grad_fn=<MseLossBackward0>)\n",
            "Average Loss: 1.5723440662026404\n",
            "Accuracy: 0.14453125\n",
            "Average Loss: 1.5855354924260834\n",
            "Accuracy: 0.14351851851851852\n",
            "Average Loss: 1.5774243234134302\n",
            "Accuracy: 0.14557926829268292\n"
          ]
        },
        {
          "output_type": "stream",
          "name": "stderr",
          "text": [
            "\r83it [00:07, 10.54it/s]"
          ]
        },
        {
          "output_type": "stream",
          "name": "stdout",
          "text": [
            "Average Loss: 1.5633457981678376\n",
            "Accuracy: 0.14909638554216867\n",
            "Average Loss: 1.5580652608048349\n",
            "Accuracy: 0.15029761904761904\n"
          ]
        },
        {
          "output_type": "stream",
          "name": "stderr",
          "text": [
            "\r85it [00:08, 10.55it/s]"
          ]
        },
        {
          "output_type": "stream",
          "name": "stdout",
          "text": [
            "Average Loss: 1.5569912177674912\n",
            "Accuracy: 0.1514705882352941\n"
          ]
        },
        {
          "output_type": "stream",
          "name": "stderr",
          "text": [
            "\r87it [00:08, 10.57it/s]"
          ]
        },
        {
          "output_type": "stream",
          "name": "stdout",
          "text": [
            "Average Loss: 1.5565512994694155\n",
            "Accuracy: 0.1511627906976744\n",
            "Average Loss: 1.5519226155746941\n",
            "Accuracy: 0.15229885057471265\n",
            "Average Loss: 1.545439737425609\n",
            "Accuracy: 0.15056818181818182\n"
          ]
        },
        {
          "output_type": "stream",
          "name": "stderr",
          "text": [
            "\r89it [00:08, 10.61it/s]"
          ]
        },
        {
          "output_type": "stream",
          "name": "stdout",
          "text": [
            "Average Loss: 1.5415535907397109\n",
            "Accuracy: 0.1502808988764045\n",
            "tensor(2.0407, device='cuda:0', grad_fn=<MseLossBackward0>)\n",
            "Average Loss: 1.5471000058783426\n",
            "Accuracy: 0.15\n"
          ]
        },
        {
          "output_type": "stream",
          "name": "stderr",
          "text": [
            "\r91it [00:08, 10.57it/s]"
          ]
        },
        {
          "output_type": "stream",
          "name": "stdout",
          "text": [
            "Average Loss: 1.5452335637349348\n",
            "Accuracy: 0.14972527472527472\n"
          ]
        },
        {
          "output_type": "stream",
          "name": "stderr",
          "text": [
            "\r93it [00:08, 10.56it/s]"
          ]
        },
        {
          "output_type": "stream",
          "name": "stdout",
          "text": [
            "Average Loss: 1.5520018102682156\n",
            "Accuracy: 0.15013586956521738\n",
            "Average Loss: 1.543816961588398\n",
            "Accuracy: 0.14919354838709678\n",
            "Average Loss: 1.5366856325814064\n",
            "Accuracy: 0.14827127659574468\n"
          ]
        },
        {
          "output_type": "stream",
          "name": "stderr",
          "text": [
            "\r95it [00:08, 10.64it/s]"
          ]
        },
        {
          "output_type": "stream",
          "name": "stdout",
          "text": [
            "Average Loss: 1.5547209397742623\n",
            "Accuracy: 0.14736842105263157\n",
            "Average Loss: 1.5571902602290113\n",
            "Accuracy: 0.146484375\n"
          ]
        },
        {
          "output_type": "stream",
          "name": "stderr",
          "text": [
            "\r97it [00:09, 10.69it/s]"
          ]
        },
        {
          "output_type": "stream",
          "name": "stdout",
          "text": [
            "Average Loss: 1.5599380335242479\n",
            "Accuracy: 0.14626288659793815\n"
          ]
        },
        {
          "output_type": "stream",
          "name": "stderr",
          "text": [
            "\r99it [00:09, 10.76it/s]"
          ]
        },
        {
          "output_type": "stream",
          "name": "stdout",
          "text": [
            "Average Loss: 1.5556635622467314\n",
            "Accuracy: 0.14795918367346939\n",
            "Average Loss: 1.56605005836246\n",
            "Accuracy: 0.14898989898989898\n",
            "tensor(0.5861, device='cuda:0', grad_fn=<MseLossBackward0>)\n",
            "Average Loss: 1.556250739991665\n",
            "Accuracy: 0.15\n"
          ]
        },
        {
          "output_type": "stream",
          "name": "stderr",
          "text": [
            "\r101it [00:09, 10.58it/s]"
          ]
        },
        {
          "output_type": "stream",
          "name": "stdout",
          "text": [
            "Average Loss: 1.549514794408685\n",
            "Accuracy: 0.15037128712871287\n",
            "Average Loss: 1.5417796300322402\n",
            "Accuracy: 0.15196078431372548\n"
          ]
        },
        {
          "output_type": "stream",
          "name": "stderr",
          "text": [
            "\r103it [00:09, 10.66it/s]"
          ]
        },
        {
          "output_type": "stream",
          "name": "stdout",
          "text": [
            "Average Loss: 1.5404301277063426\n",
            "Accuracy: 0.15169902912621358\n"
          ]
        },
        {
          "output_type": "stream",
          "name": "stderr",
          "text": [
            "\r105it [00:09, 10.61it/s]"
          ]
        },
        {
          "output_type": "stream",
          "name": "stdout",
          "text": [
            "Average Loss: 1.539929087058856\n",
            "Accuracy: 0.1502403846153846\n",
            "Average Loss: 1.5407595109371912\n",
            "Accuracy: 0.1505952380952381\n",
            "Average Loss: 1.549402765226814\n",
            "Accuracy: 0.14976415094339623\n"
          ]
        },
        {
          "output_type": "stream",
          "name": "stderr",
          "text": [
            "\r107it [00:10, 10.54it/s]"
          ]
        },
        {
          "output_type": "stream",
          "name": "stdout",
          "text": [
            "Average Loss: 1.5414026237536813\n",
            "Accuracy: 0.14953271028037382\n",
            "Average Loss: 1.5369631733607363\n",
            "Accuracy: 0.14988425925925927\n"
          ]
        },
        {
          "output_type": "stream",
          "name": "stderr",
          "text": [
            "\r109it [00:10, 10.51it/s]"
          ]
        },
        {
          "output_type": "stream",
          "name": "stdout",
          "text": [
            "Average Loss: 1.535586201543108\n",
            "Accuracy: 0.15194954128440366\n"
          ]
        },
        {
          "output_type": "stream",
          "name": "stderr",
          "text": [
            "\r111it [00:10, 10.45it/s]"
          ]
        },
        {
          "output_type": "stream",
          "name": "stdout",
          "text": [
            "tensor(1.4285, device='cuda:0', grad_fn=<MseLossBackward0>)\n",
            "Average Loss: 1.5346122804013165\n",
            "Accuracy: 0.15227272727272728\n",
            "Average Loss: 1.542080146503878\n",
            "Accuracy: 0.15090090090090091\n",
            "Average Loss: 1.5353683651025807\n",
            "Accuracy: 0.14955357142857142\n"
          ]
        },
        {
          "output_type": "stream",
          "name": "stderr",
          "text": [
            "\r113it [00:10, 10.45it/s]"
          ]
        },
        {
          "output_type": "stream",
          "name": "stdout",
          "text": [
            "Average Loss: 1.5428040758170913\n",
            "Accuracy: 0.14933628318584072\n",
            "Average Loss: 1.543102088988873\n",
            "Accuracy: 0.14912280701754385\n"
          ]
        },
        {
          "output_type": "stream",
          "name": "stderr",
          "text": [
            "\r115it [00:10, 10.40it/s]"
          ]
        },
        {
          "output_type": "stream",
          "name": "stdout",
          "text": [
            "Average Loss: 1.5535144207270248\n",
            "Accuracy: 0.14782608695652175\n"
          ]
        },
        {
          "output_type": "stream",
          "name": "stderr",
          "text": [
            "\r117it [00:11, 10.33it/s]"
          ]
        },
        {
          "output_type": "stream",
          "name": "stdout",
          "text": [
            "Average Loss: 1.5582637481134514\n",
            "Accuracy: 0.1470905172413793\n",
            "Average Loss: 1.5584229712302868\n",
            "Accuracy: 0.14636752136752137\n",
            "Average Loss: 1.5512016185764539\n",
            "Accuracy: 0.14777542372881355\n"
          ]
        },
        {
          "output_type": "stream",
          "name": "stderr",
          "text": [
            "\r119it [00:11, 10.33it/s]"
          ]
        },
        {
          "output_type": "stream",
          "name": "stdout",
          "text": [
            "Average Loss: 1.5620959689136313\n",
            "Accuracy: 0.14705882352941177\n",
            "tensor(1.0220, device='cuda:0', grad_fn=<MseLossBackward0>)\n",
            "Average Loss: 1.5575952760875225\n",
            "Accuracy: 0.1484375\n"
          ]
        },
        {
          "output_type": "stream",
          "name": "stderr",
          "text": [
            "\r121it [00:11, 10.38it/s]"
          ]
        },
        {
          "output_type": "stream",
          "name": "stdout",
          "text": [
            "Average Loss: 1.5572711832759794\n",
            "Accuracy: 0.14824380165289255\n"
          ]
        },
        {
          "output_type": "stream",
          "name": "stderr",
          "text": [
            "\r123it [00:11, 10.43it/s]"
          ]
        },
        {
          "output_type": "stream",
          "name": "stdout",
          "text": [
            "Average Loss: 1.5535578749707488\n",
            "Accuracy: 0.15010245901639344\n",
            "Average Loss: 1.5507377495126027\n",
            "Accuracy: 0.15040650406504066\n",
            "Average Loss: 1.5499114329295773\n",
            "Accuracy: 0.14969758064516128\n"
          ]
        },
        {
          "output_type": "stream",
          "name": "stderr",
          "text": [
            "\r125it [00:11, 10.29it/s]"
          ]
        },
        {
          "output_type": "stream",
          "name": "stdout",
          "text": [
            "Average Loss: 1.5503561947345734\n",
            "Accuracy: 0.1485\n",
            "Average Loss: 1.5469470537371106\n",
            "Accuracy: 0.14930555555555555\n"
          ]
        },
        {
          "output_type": "stream",
          "name": "stderr",
          "text": [
            "\r127it [00:12, 10.24it/s]"
          ]
        },
        {
          "output_type": "stream",
          "name": "stdout",
          "text": [
            "Average Loss: 1.542170751986541\n",
            "Accuracy: 0.15059055118110237\n"
          ]
        },
        {
          "output_type": "stream",
          "name": "stderr",
          "text": [
            "\r129it [00:12, 10.20it/s]"
          ]
        },
        {
          "output_type": "stream",
          "name": "stdout",
          "text": [
            "Average Loss: 1.5348653385881335\n",
            "Accuracy: 0.15087890625\n",
            "Average Loss: 1.5310627751110135\n",
            "Accuracy: 0.15261627906976744\n",
            "tensor(1.7457, device='cuda:0', grad_fn=<MseLossBackward0>)\n",
            "Average Loss: 1.5327135675228558"
          ]
        },
        {
          "output_type": "stream",
          "name": "stderr",
          "text": [
            "\r131it [00:12, 10.14it/s]"
          ]
        },
        {
          "output_type": "stream",
          "name": "stdout",
          "text": [
            "\n",
            "Accuracy: 0.1519230769230769\n",
            "Average Loss: 1.5318888428102013\n",
            "Accuracy: 0.15267175572519084\n",
            "Average Loss: 1.5531361367214809\n",
            "Accuracy: 0.15246212121212122\n"
          ]
        },
        {
          "output_type": "stream",
          "name": "stderr",
          "text": [
            "135it [00:12, 10.23it/s]"
          ]
        },
        {
          "output_type": "stream",
          "name": "stdout",
          "text": [
            "Average Loss: 1.5475831939313645\n",
            "Accuracy: 0.15272556390977443\n",
            "Average Loss: 1.541791542919714\n",
            "Accuracy: 0.15205223880597016\n",
            "Average Loss: 1.5372189073650926\n",
            "Accuracy: 0.1537037037037037\n"
          ]
        },
        {
          "output_type": "stream",
          "name": "stderr",
          "text": [
            "\r137it [00:13, 10.27it/s]"
          ]
        },
        {
          "output_type": "stream",
          "name": "stdout",
          "text": [
            "Average Loss: 1.5364611159790964\n",
            "Accuracy: 0.15349264705882354\n",
            "Average Loss: 1.5348833540495295\n",
            "Accuracy: 0.15374087591240876\n",
            "Average Loss: 1.5330482421145923\n",
            "Accuracy: 0.15307971014492755\n"
          ]
        },
        {
          "output_type": "stream",
          "name": "stderr",
          "text": [
            "141it [00:13, 10.31it/s]"
          ]
        },
        {
          "output_type": "stream",
          "name": "stdout",
          "text": [
            "Average Loss: 1.5298706861279852\n",
            "Accuracy: 0.1533273381294964\n",
            "tensor(1.4051, device='cuda:0', grad_fn=<MseLossBackward0>)\n",
            "Average Loss: 1.5289794413106783\n",
            "Accuracy: 0.15401785714285715\n",
            "Average Loss: 1.5238297786695738\n",
            "Accuracy: 0.15469858156028368\n"
          ]
        },
        {
          "output_type": "stream",
          "name": "stderr",
          "text": [
            "\r143it [00:13, 10.27it/s]"
          ]
        },
        {
          "output_type": "stream",
          "name": "stdout",
          "text": [
            "Average Loss: 1.5263596510803197\n",
            "Accuracy: 0.1544894366197183\n",
            "Average Loss: 1.531127208387935\n",
            "Accuracy: 0.15428321678321677\n",
            "Average Loss: 1.5257874741736386\n",
            "Accuracy: 0.15538194444444445\n"
          ]
        },
        {
          "output_type": "stream",
          "name": "stderr",
          "text": [
            "147it [00:13, 10.32it/s]"
          ]
        },
        {
          "output_type": "stream",
          "name": "stdout",
          "text": [
            "Average Loss: 1.5176972358391203\n",
            "Accuracy: 0.15517241379310345\n",
            "Average Loss: 1.5130106665908474\n",
            "Accuracy: 0.15496575342465754\n",
            "Average Loss: 1.508607917699684\n",
            "Accuracy: 0.15518707482993196\n"
          ]
        },
        {
          "output_type": "stream",
          "name": "stderr",
          "text": [
            "\r149it [00:14, 10.46it/s]"
          ]
        },
        {
          "output_type": "stream",
          "name": "stdout",
          "text": [
            "Average Loss: 1.5120851121641494\n",
            "Accuracy: 0.1545608108108108\n",
            "Average Loss: 1.5048188617165457\n",
            "Accuracy: 0.15478187919463088\n",
            "tensor(2.1620, device='cuda:0', grad_fn=<MseLossBackward0>)\n",
            "Average Loss: 1.5092001022895176\n",
            "Accuracy: 0.15583333333333332\n"
          ]
        },
        {
          "output_type": "stream",
          "name": "stderr",
          "text": [
            "153it [00:14, 10.54it/s]"
          ]
        },
        {
          "output_type": "stream",
          "name": "stdout",
          "text": [
            "Average Loss: 1.5088530342705202\n",
            "Accuracy: 0.15521523178807947\n",
            "Average Loss: 1.5123345253891067\n",
            "Accuracy: 0.15419407894736842\n",
            "Average Loss: 1.519170315242281\n",
            "Accuracy: 0.15359477124183007\n"
          ]
        },
        {
          "output_type": "stream",
          "name": "stderr",
          "text": [
            "\r155it [00:14, 10.58it/s]"
          ]
        },
        {
          "output_type": "stream",
          "name": "stdout",
          "text": [
            "Average Loss: 1.5151030891514443\n",
            "Accuracy: 0.1534090909090909\n",
            "Average Loss: 1.5102889309006353\n",
            "Accuracy: 0.15443548387096775\n",
            "Average Loss: 1.5078038391776574\n",
            "Accuracy: 0.15424679487179488\n"
          ]
        },
        {
          "output_type": "stream",
          "name": "stderr",
          "text": [
            "159it [00:15, 10.69it/s]"
          ]
        },
        {
          "output_type": "stream",
          "name": "stdout",
          "text": [
            "Average Loss: 1.5058172191404233\n",
            "Accuracy: 0.15406050955414013\n",
            "Average Loss: 1.503554354928717\n",
            "Accuracy: 0.153876582278481\n",
            "Average Loss: 1.5096112124200136\n",
            "Accuracy: 0.15330188679245282\n"
          ]
        },
        {
          "output_type": "stream",
          "name": "stderr",
          "text": [
            "\r161it [00:15, 10.72it/s]"
          ]
        },
        {
          "output_type": "stream",
          "name": "stdout",
          "text": [
            "tensor(1.6598, device='cuda:0', grad_fn=<MseLossBackward0>)\n",
            "Average Loss: 1.5105500863865018\n",
            "Accuracy: 0.15390625\n",
            "Average Loss: 1.5056010856761695\n",
            "Accuracy: 0.15527950310559005\n",
            "Average Loss: 1.5030410497644802\n",
            "Accuracy: 0.1550925925925926\n"
          ]
        },
        {
          "output_type": "stream",
          "name": "stderr",
          "text": [
            "165it [00:15, 10.69it/s]"
          ]
        },
        {
          "output_type": "stream",
          "name": "stdout",
          "text": [
            "Average Loss: 1.5005712957104291\n",
            "Accuracy: 0.15414110429447853\n",
            "Average Loss: 1.5018775355888576\n",
            "Accuracy: 0.15396341463414634\n",
            "Average Loss: 1.499557493130366\n",
            "Accuracy: 0.15378787878787878\n"
          ]
        },
        {
          "output_type": "stream",
          "name": "stderr",
          "text": [
            "\r167it [00:15, 10.63it/s]"
          ]
        },
        {
          "output_type": "stream",
          "name": "stdout",
          "text": [
            "Average Loss: 1.4956659618989532\n",
            "Accuracy: 0.1539909638554217\n",
            "Average Loss: 1.4913513041185047\n",
            "Accuracy: 0.15419161676646706\n",
            "Average Loss: 1.4877494468930221\n",
            "Accuracy: 0.15438988095238096\n"
          ]
        },
        {
          "output_type": "stream",
          "name": "stderr",
          "text": [
            "171it [00:16, 10.70it/s]"
          ]
        },
        {
          "output_type": "stream",
          "name": "stdout",
          "text": [
            "Average Loss: 1.4873879543070256\n",
            "Accuracy: 0.15495562130177515\n",
            "tensor(1.0776, device='cuda:0', grad_fn=<MseLossBackward0>)\n",
            "Average Loss: 1.4849774642902263\n",
            "Accuracy: 0.15588235294117647\n",
            "Average Loss: 1.4840245053433536\n",
            "Accuracy: 0.15570175438596492\n"
          ]
        },
        {
          "output_type": "stream",
          "name": "stderr",
          "text": [
            "\r173it [00:16, 10.70it/s]"
          ]
        },
        {
          "output_type": "stream",
          "name": "stdout",
          "text": [
            "Average Loss: 1.4806714728474617\n",
            "Accuracy: 0.15625\n",
            "Average Loss: 1.4733888693799861\n",
            "Accuracy: 0.15715317919075145\n",
            "Average Loss: 1.469379676227597\n",
            "Accuracy: 0.1569683908045977\n"
          ]
        },
        {
          "output_type": "stream",
          "name": "stderr",
          "text": [
            "177it [00:16, 10.83it/s]"
          ]
        },
        {
          "output_type": "stream",
          "name": "stdout",
          "text": [
            "Average Loss: 1.4657985664265496\n",
            "Accuracy: 0.15642857142857142\n",
            "Average Loss: 1.466287101280283\n",
            "Accuracy: 0.15625\n",
            "Average Loss: 1.4667594800729535\n",
            "Accuracy: 0.1560734463276836\n"
          ]
        },
        {
          "output_type": "stream",
          "name": "stderr",
          "text": [
            "\r179it [00:16, 10.87it/s]"
          ]
        },
        {
          "output_type": "stream",
          "name": "stdout",
          "text": [
            "Average Loss: 1.467067369333144\n",
            "Accuracy: 0.15625\n",
            "Average Loss: 1.4636131382687798\n",
            "Accuracy: 0.15537709497206703\n",
            "tensor(3.7808, device='cuda:0', grad_fn=<MseLossBackward0>)\n",
            "Average Loss: 1.4764865342941549\n",
            "Accuracy: 0.15520833333333334\n"
          ]
        },
        {
          "output_type": "stream",
          "name": "stderr",
          "text": [
            "183it [00:17, 10.90it/s]"
          ]
        },
        {
          "output_type": "stream",
          "name": "stdout",
          "text": [
            "Average Loss: 1.4757709711460778\n",
            "Accuracy: 0.1550414364640884\n",
            "Average Loss: 1.4817565428195418\n",
            "Accuracy: 0.15487637362637363\n",
            "Average Loss: 1.4768898184996484\n",
            "Accuracy: 0.15437158469945356\n"
          ]
        },
        {
          "output_type": "stream",
          "name": "stderr",
          "text": [
            "\r185it [00:17, 10.74it/s]"
          ]
        },
        {
          "output_type": "stream",
          "name": "stdout",
          "text": [
            "Average Loss: 1.4729320394766072\n",
            "Accuracy: 0.15353260869565216\n",
            "Average Loss: 1.4759031283694344\n",
            "Accuracy: 0.15337837837837837\n",
            "Average Loss: 1.4737917243312764\n",
            "Accuracy: 0.15288978494623656\n"
          ]
        },
        {
          "output_type": "stream",
          "name": "stderr",
          "text": [
            "189it [00:17, 10.84it/s]"
          ]
        },
        {
          "output_type": "stream",
          "name": "stdout",
          "text": [
            "Average Loss: 1.4730024332190579\n",
            "Accuracy: 0.1534090909090909\n",
            "Average Loss: 1.472901711517826\n",
            "Accuracy: 0.1529255319148936\n",
            "Average Loss: 1.4735452580861945\n",
            "Accuracy: 0.15376984126984128\n"
          ]
        },
        {
          "output_type": "stream",
          "name": "stderr",
          "text": [
            "\r191it [00:18, 10.79it/s]"
          ]
        },
        {
          "output_type": "stream",
          "name": "stdout",
          "text": [
            "tensor(0.8510, device='cuda:0', grad_fn=<MseLossBackward0>)\n",
            "Average Loss: 1.4702685755334401\n",
            "Accuracy: 0.15460526315789475\n",
            "Average Loss: 1.4759046080380833\n",
            "Accuracy: 0.1544502617801047\n",
            "Average Loss: 1.4750503702865292\n",
            "Accuracy: 0.15462239583333334\n"
          ]
        },
        {
          "output_type": "stream",
          "name": "stderr",
          "text": [
            "195it [00:18, 10.70it/s]"
          ]
        },
        {
          "output_type": "stream",
          "name": "stdout",
          "text": [
            "Average Loss: 1.4731411159501793\n",
            "Accuracy: 0.15511658031088082\n",
            "Average Loss: 1.4733467695792926\n",
            "Accuracy: 0.15496134020618557\n",
            "Average Loss: 1.4785921308474663\n",
            "Accuracy: 0.1544871794871795\n"
          ]
        },
        {
          "output_type": "stream",
          "name": "stderr",
          "text": [
            "\r197it [00:18, 10.58it/s]"
          ]
        },
        {
          "output_type": "stream",
          "name": "stdout",
          "text": [
            "Average Loss: 1.4760168569580632\n",
            "Accuracy: 0.1556122448979592\n",
            "Average Loss: 1.4720151216396826\n",
            "Accuracy: 0.15545685279187818\n",
            "Average Loss: 1.4696276330135085\n",
            "Accuracy: 0.15561868686868688\n"
          ]
        },
        {
          "output_type": "stream",
          "name": "stderr",
          "text": [
            "201it [00:19, 10.51it/s]"
          ]
        },
        {
          "output_type": "stream",
          "name": "stdout",
          "text": [
            "Average Loss: 1.464893251283085\n",
            "Accuracy: 0.1560929648241206\n",
            "tensor(2.0470, device='cuda:0', grad_fn=<MseLossBackward0>)\n",
            "Average Loss: 1.4678035617619754\n",
            "Accuracy: 0.1559375\n",
            "Average Loss: 1.4698971516605635\n",
            "Accuracy: 0.15578358208955223\n"
          ]
        },
        {
          "output_type": "stream",
          "name": "stderr",
          "text": [
            "\r203it [00:19, 10.42it/s]"
          ]
        },
        {
          "output_type": "stream",
          "name": "stdout",
          "text": [
            "Average Loss: 1.4686620100447447\n",
            "Accuracy: 0.15594059405940594\n",
            "Average Loss: 1.4714632534188004\n",
            "Accuracy: 0.1560960591133005\n",
            "Average Loss: 1.4744095247896278\n",
            "Accuracy: 0.1556372549019608\n"
          ]
        },
        {
          "output_type": "stream",
          "name": "stderr",
          "text": [
            "207it [00:19, 10.43it/s]"
          ]
        },
        {
          "output_type": "stream",
          "name": "stdout",
          "text": [
            "Average Loss: 1.4709102404553716\n",
            "Accuracy: 0.15548780487804878\n",
            "Average Loss: 1.4718059626163789\n",
            "Accuracy: 0.15594660194174756\n",
            "Average Loss: 1.4674534208100776\n",
            "Accuracy: 0.15609903381642512\n"
          ]
        },
        {
          "output_type": "stream",
          "name": "stderr",
          "text": [
            "\r209it [00:19, 10.46it/s]"
          ]
        },
        {
          "output_type": "stream",
          "name": "stdout",
          "text": [
            "Average Loss: 1.4725029638323646\n",
            "Accuracy: 0.15534855769230768\n",
            "Average Loss: 1.4714544832563856\n",
            "Accuracy: 0.15520334928229665\n",
            "tensor(1.3534, device='cuda:0', grad_fn=<MseLossBackward0>)\n",
            "Average Loss: 1.4708923053883372\n",
            "Accuracy: 0.1550595238095238\n"
          ]
        },
        {
          "output_type": "stream",
          "name": "stderr",
          "text": [
            "213it [00:20, 10.53it/s]"
          ]
        },
        {
          "output_type": "stream",
          "name": "stdout",
          "text": [
            "Average Loss: 1.4705226204547837\n",
            "Accuracy: 0.15462085308056872\n",
            "Average Loss: 1.471271342615474\n",
            "Accuracy: 0.1547759433962264\n",
            "Average Loss: 1.4690916043631908\n",
            "Accuracy: 0.15463615023474178\n"
          ]
        },
        {
          "output_type": "stream",
          "name": "stderr",
          "text": [
            "\r215it [00:20, 10.61it/s]"
          ]
        },
        {
          "output_type": "stream",
          "name": "stdout",
          "text": [
            "Average Loss: 1.4670870602827206\n",
            "Accuracy: 0.15566588785046728\n",
            "Average Loss: 1.470533761104872\n",
            "Accuracy: 0.1558139534883721\n",
            "Average Loss: 1.4666249140131253\n",
            "Accuracy: 0.15625\n"
          ]
        },
        {
          "output_type": "stream",
          "name": "stderr",
          "text": [
            "219it [00:20, 10.26it/s]"
          ]
        },
        {
          "output_type": "stream",
          "name": "stdout",
          "text": [
            "Average Loss: 1.4663442703573386\n",
            "Accuracy: 0.15639400921658986\n",
            "Average Loss: 1.4646908652481683\n",
            "Accuracy: 0.15682339449541285\n",
            "Average Loss: 1.4626509289355039\n",
            "Accuracy: 0.1572488584474886\n"
          ]
        },
        {
          "output_type": "stream",
          "name": "stderr",
          "text": [
            "\r221it [00:20, 10.19it/s]"
          ]
        },
        {
          "output_type": "stream",
          "name": "stdout",
          "text": [
            "tensor(1.5058, device='cuda:0', grad_fn=<MseLossBackward0>)\n",
            "Average Loss: 1.4628471185537901\n",
            "Accuracy: 0.15681818181818183\n",
            "Average Loss: 1.470143574462757\n",
            "Accuracy: 0.15667420814479638\n",
            "Average Loss: 1.4753664458791416\n",
            "Accuracy: 0.15625\n"
          ]
        },
        {
          "output_type": "stream",
          "name": "stderr",
          "text": [
            "225it [00:21, 10.30it/s]"
          ]
        },
        {
          "output_type": "stream",
          "name": "stdout",
          "text": [
            "Average Loss: 1.4808719998116986\n",
            "Accuracy: 0.156109865470852\n",
            "Average Loss: 1.487011176733566\n",
            "Accuracy: 0.15625\n",
            "Average Loss: 1.4915338617563247\n",
            "Accuracy: 0.15666666666666668\n"
          ]
        },
        {
          "output_type": "stream",
          "name": "stderr",
          "text": [
            "\r227it [00:21, 10.24it/s]"
          ]
        },
        {
          "output_type": "stream",
          "name": "stdout",
          "text": [
            "Average Loss: 1.4919211949526736\n",
            "Accuracy: 0.15763274336283187\n",
            "Average Loss: 1.4929165378672435\n",
            "Accuracy: 0.15748898678414097\n",
            "Average Loss: 1.490735812210723\n",
            "Accuracy: 0.15762061403508773\n"
          ]
        },
        {
          "output_type": "stream",
          "name": "stderr",
          "text": [
            "231it [00:21, 10.25it/s]"
          ]
        },
        {
          "output_type": "stream",
          "name": "stdout",
          "text": [
            "Average Loss: 1.4907495164064342\n",
            "Accuracy: 0.15747816593886463\n",
            "tensor(0.6365, device='cuda:0', grad_fn=<MseLossBackward0>)\n",
            "Average Loss: 1.487035582959652\n",
            "Accuracy: 0.1578804347826087\n",
            "Average Loss: 1.4887551400181536\n",
            "Accuracy: 0.15773809523809523\n"
          ]
        },
        {
          "output_type": "stream",
          "name": "stderr",
          "text": [
            "\r233it [00:22, 10.23it/s]"
          ]
        },
        {
          "output_type": "stream",
          "name": "stdout",
          "text": [
            "Average Loss: 1.4856619797004709\n",
            "Accuracy: 0.1584051724137931\n",
            "Average Loss: 1.4859920267511335\n",
            "Accuracy: 0.1582618025751073\n",
            "Average Loss: 1.4819722295953677\n",
            "Accuracy: 0.15838675213675213\n"
          ]
        },
        {
          "output_type": "stream",
          "name": "stderr",
          "text": [
            "\r235it [00:22, 10.17it/s]"
          ]
        },
        {
          "output_type": "stream",
          "name": "stdout",
          "text": [
            "Average Loss: 1.4825480489654743\n",
            "Accuracy: 0.15771276595744682\n",
            "Average Loss: 1.4816706092807197\n",
            "Accuracy: 0.15783898305084745\n"
          ]
        },
        {
          "output_type": "stream",
          "name": "stderr",
          "text": [
            "239it [00:22, 10.03it/s]"
          ]
        },
        {
          "output_type": "stream",
          "name": "stdout",
          "text": [
            "Average Loss: 1.4801249311065876\n",
            "Accuracy: 0.1574367088607595\n",
            "Average Loss: 1.477013699710369\n",
            "Accuracy: 0.15756302521008403\n",
            "Average Loss: 1.4786440588565053\n",
            "Accuracy: 0.15768828451882846\n"
          ]
        },
        {
          "output_type": "stream",
          "name": "stderr",
          "text": [
            "\r241it [00:22,  9.91it/s]"
          ]
        },
        {
          "output_type": "stream",
          "name": "stdout",
          "text": [
            "tensor(0.7896, device='cuda:0', grad_fn=<MseLossBackward0>)\n",
            "Average Loss: 1.4757729069019356\n",
            "Accuracy: 0.15729166666666666\n",
            "Average Loss: 1.4734580485281608\n",
            "Accuracy: 0.15819502074688796\n"
          ]
        },
        {
          "output_type": "stream",
          "name": "stderr",
          "text": [
            "243it [00:23,  9.91it/s]"
          ]
        },
        {
          "output_type": "stream",
          "name": "stdout",
          "text": [
            "Average Loss: 1.4725271963999291\n",
            "Accuracy: 0.15857438016528927\n",
            "Average Loss: 1.472064973702156\n",
            "Accuracy: 0.15920781893004116\n"
          ]
        },
        {
          "output_type": "stream",
          "name": "stderr",
          "text": [
            "246it [00:23, 10.04it/s]"
          ]
        },
        {
          "output_type": "stream",
          "name": "stdout",
          "text": [
            "Average Loss: 1.4732670933618897\n",
            "Accuracy: 0.15957991803278687\n",
            "Average Loss: 1.4716756054941489\n",
            "Accuracy: 0.15994897959183674\n",
            "Average Loss: 1.4769227895431403\n",
            "Accuracy: 0.1598069105691057\n"
          ]
        },
        {
          "output_type": "stream",
          "name": "stderr",
          "text": [
            "\r248it [00:23,  9.72it/s]"
          ]
        },
        {
          "output_type": "stream",
          "name": "stdout",
          "text": [
            "Average Loss: 1.4741544089457284\n",
            "Accuracy: 0.15941295546558704\n",
            "Average Loss: 1.4742294346252758\n",
            "Accuracy: 0.1592741935483871\n"
          ]
        },
        {
          "output_type": "stream",
          "name": "stderr",
          "text": [
            "250it [00:23,  9.67it/s]"
          ]
        },
        {
          "output_type": "stream",
          "name": "stdout",
          "text": [
            "Average Loss: 1.4739431940527805\n",
            "Accuracy: 0.1588855421686747\n",
            "tensor(2.4372, device='cuda:0', grad_fn=<MseLossBackward0>)\n",
            "Average Loss: 1.4777961280941962\n",
            "Accuracy: 0.159\n"
          ]
        },
        {
          "output_type": "stream",
          "name": "stderr",
          "text": [
            "253it [00:24,  9.91it/s]"
          ]
        },
        {
          "output_type": "stream",
          "name": "stdout",
          "text": [
            "Average Loss: 1.4768919871741557\n",
            "Accuracy: 0.15911354581673307\n",
            "Average Loss: 1.4770992467445987\n",
            "Accuracy: 0.1589781746031746\n",
            "Average Loss: 1.478349112533769\n",
            "Accuracy: 0.15884387351778656\n"
          ]
        },
        {
          "output_type": "stream",
          "name": "stderr",
          "text": [
            "256it [00:24,  9.93it/s]"
          ]
        },
        {
          "output_type": "stream",
          "name": "stdout",
          "text": [
            "Average Loss: 1.4763034617924315\n",
            "Accuracy: 0.15895669291338582\n",
            "Average Loss: 1.47558474102441\n",
            "Accuracy: 0.158578431372549\n",
            "Average Loss: 1.4754471111227758\n",
            "Accuracy: 0.158203125\n"
          ]
        },
        {
          "output_type": "stream",
          "name": "stderr",
          "text": [
            "259it [00:24, 10.02it/s]"
          ]
        },
        {
          "output_type": "stream",
          "name": "stdout",
          "text": [
            "Average Loss: 1.4766725160848306\n",
            "Accuracy: 0.1580739299610895\n",
            "Average Loss: 1.474376945590326\n",
            "Accuracy: 0.15770348837209303\n",
            "Average Loss: 1.4714167622640786\n",
            "Accuracy: 0.15805984555984556\n"
          ]
        },
        {
          "output_type": "stream",
          "name": "stderr",
          "text": [
            "261it [00:24,  9.99it/s]"
          ]
        },
        {
          "output_type": "stream",
          "name": "stdout",
          "text": [
            "tensor(1.0460, device='cuda:0', grad_fn=<MseLossBackward0>)\n",
            "Average Loss: 1.4697805086580606\n",
            "Accuracy: 0.15817307692307692\n",
            "Average Loss: 1.4683590842503698\n",
            "Accuracy: 0.15828544061302682\n"
          ]
        },
        {
          "output_type": "stream",
          "name": "stderr",
          "text": [
            "264it [00:25, 10.02it/s]"
          ]
        },
        {
          "output_type": "stream",
          "name": "stdout",
          "text": [
            "Average Loss: 1.4649482021918734\n",
            "Accuracy: 0.1581583969465649\n",
            "Average Loss: 1.4624009307459733\n",
            "Accuracy: 0.15803231939163498\n",
            "Average Loss: 1.4606484936155153\n",
            "Accuracy: 0.1581439393939394\n"
          ]
        },
        {
          "output_type": "stream",
          "name": "stderr",
          "text": [
            "\r266it [00:25, 10.12it/s]"
          ]
        },
        {
          "output_type": "stream",
          "name": "stdout",
          "text": [
            "Average Loss: 1.4592082350321536\n",
            "Accuracy: 0.15825471698113208\n",
            "Average Loss: 1.4577547054653777\n",
            "Accuracy: 0.15789473684210525\n"
          ]
        },
        {
          "output_type": "stream",
          "name": "stderr",
          "text": [
            "\r268it [00:25, 10.07it/s]"
          ]
        },
        {
          "output_type": "stream",
          "name": "stdout",
          "text": [
            "Average Loss: 1.4545196208279678\n",
            "Accuracy: 0.1580056179775281\n",
            "Average Loss: 1.4539978644852318\n",
            "Accuracy: 0.15764925373134328\n",
            "Average Loss: 1.4518639312911654\n",
            "Accuracy: 0.15776022304832713\n"
          ]
        },
        {
          "output_type": "stream",
          "name": "stderr",
          "text": [
            "272it [00:26, 10.25it/s]"
          ]
        },
        {
          "output_type": "stream",
          "name": "stdout",
          "text": [
            "tensor(1.0944, device='cuda:0', grad_fn=<MseLossBackward0>)\n",
            "Average Loss: 1.4505401680314982\n",
            "Accuracy: 0.15787037037037038\n",
            "Average Loss: 1.4522310902821622\n",
            "Accuracy: 0.1572878228782288\n",
            "Average Loss: 1.451219534884919\n",
            "Accuracy: 0.15716911764705882\n"
          ]
        },
        {
          "output_type": "stream",
          "name": "stderr",
          "text": [
            "\r274it [00:26, 10.25it/s]"
          ]
        },
        {
          "output_type": "stream",
          "name": "stdout",
          "text": [
            "Average Loss: 1.44985610077451\n",
            "Accuracy: 0.15705128205128205\n",
            "Average Loss: 1.456078625345317\n",
            "Accuracy: 0.1571624087591241\n",
            "Average Loss: 1.458179952718995\n",
            "Accuracy: 0.15704545454545454\n"
          ]
        },
        {
          "output_type": "stream",
          "name": "stderr",
          "text": [
            "278it [00:26, 10.22it/s]"
          ]
        },
        {
          "output_type": "stream",
          "name": "stdout",
          "text": [
            "Average Loss: 1.455994800650987\n",
            "Accuracy: 0.15715579710144928\n",
            "Average Loss: 1.4542552644272573\n",
            "Accuracy: 0.15703971119133575\n",
            "Average Loss: 1.4512560462458528\n",
            "Accuracy: 0.15759892086330934\n"
          ]
        },
        {
          "output_type": "stream",
          "name": "stderr",
          "text": [
            "\r280it [00:26, 10.19it/s]"
          ]
        },
        {
          "output_type": "stream",
          "name": "stdout",
          "text": [
            "Average Loss: 1.4491463660873392\n",
            "Accuracy: 0.1581541218637993\n",
            "tensor(2.0576, device='cuda:0', grad_fn=<MseLossBackward0>)\n",
            "Average Loss: 1.4513192666960615\n",
            "Accuracy: 0.15803571428571428\n",
            "Average Loss: 1.4542617132337068\n",
            "Accuracy: 0.15791814946619218\n"
          ]
        },
        {
          "output_type": "stream",
          "name": "stderr",
          "text": [
            "284it [00:27, 10.29it/s]"
          ]
        },
        {
          "output_type": "stream",
          "name": "stdout",
          "text": [
            "Average Loss: 1.455135723007909\n",
            "Accuracy: 0.15802304964539007\n",
            "Average Loss: 1.4551097357336287\n",
            "Accuracy: 0.15746466431095407\n",
            "Average Loss: 1.4533961046434625\n",
            "Accuracy: 0.15713028169014084\n"
          ]
        },
        {
          "output_type": "stream",
          "name": "stderr",
          "text": [
            "\r286it [00:27, 10.29it/s]"
          ]
        },
        {
          "output_type": "stream",
          "name": "stdout",
          "text": [
            "Average Loss: 1.454014756439025\n",
            "Accuracy: 0.1570175438596491\n",
            "Average Loss: 1.4529003347237628\n",
            "Accuracy: 0.1571241258741259\n",
            "Average Loss: 1.4522456799338503\n",
            "Accuracy: 0.15701219512195122\n"
          ]
        },
        {
          "output_type": "stream",
          "name": "stderr",
          "text": [
            "290it [00:27, 10.31it/s]"
          ]
        },
        {
          "output_type": "stream",
          "name": "stdout",
          "text": [
            "Average Loss: 1.4527064806574748\n",
            "Accuracy: 0.15690104166666666\n",
            "Average Loss: 1.4548058539216493\n",
            "Accuracy: 0.157439446366782\n",
            "tensor(2.6557, device='cuda:0', grad_fn=<MseLossBackward0>)\n",
            "Average Loss: 1.4589467291688096\n",
            "Accuracy: 0.15732758620689655\n"
          ]
        },
        {
          "output_type": "stream",
          "name": "stderr",
          "text": [
            "\r292it [00:28, 10.24it/s]"
          ]
        },
        {
          "output_type": "stream",
          "name": "stdout",
          "text": [
            "Average Loss: 1.4576529084714418\n",
            "Accuracy: 0.15721649484536082\n",
            "Average Loss: 1.4625630922207278\n",
            "Accuracy: 0.15732020547945205\n",
            "Average Loss: 1.4606733908527134\n",
            "Accuracy: 0.15699658703071673\n"
          ]
        },
        {
          "output_type": "stream",
          "name": "stderr",
          "text": [
            "296it [00:28, 10.19it/s]"
          ]
        },
        {
          "output_type": "stream",
          "name": "stdout",
          "text": [
            "Average Loss: 1.4602945496131774\n",
            "Accuracy: 0.1568877551020408\n",
            "Average Loss: 1.4614756192696297\n",
            "Accuracy: 0.15741525423728814\n",
            "Average Loss: 1.46011088149169\n",
            "Accuracy: 0.15730574324324326\n"
          ]
        },
        {
          "output_type": "stream",
          "name": "stderr",
          "text": [
            "\r298it [00:28, 10.30it/s]"
          ]
        },
        {
          "output_type": "stream",
          "name": "stdout",
          "text": [
            "Average Loss: 1.459333126442601\n",
            "Accuracy: 0.1571969696969697\n",
            "Average Loss: 1.457326428452194\n",
            "Accuracy: 0.15750838926174496\n",
            "Average Loss: 1.4571985754380656\n",
            "Accuracy: 0.15760869565217392\n"
          ]
        },
        {
          "output_type": "stream",
          "name": "stderr",
          "text": [
            "\r300it [00:28, 10.19it/s]"
          ]
        },
        {
          "output_type": "stream",
          "name": "stdout",
          "text": [
            "tensor(1.8446, device='cuda:0', grad_fn=<MseLossBackward0>)\n",
            "Average Loss: 1.4584899288912614\n",
            "Accuracy: 0.15770833333333334\n",
            "Average Loss: 1.4626414362477305\n",
            "Accuracy: 0.15739202657807308\n"
          ]
        },
        {
          "output_type": "stream",
          "name": "stderr",
          "text": [
            "\r302it [00:29, 10.08it/s]"
          ]
        },
        {
          "output_type": "stream",
          "name": "stdout",
          "text": [
            "Average Loss: 1.4607133984269685\n",
            "Accuracy: 0.15769867549668873\n",
            "Average Loss: 1.4621824345277874\n",
            "Accuracy: 0.15800330033003301\n"
          ]
        },
        {
          "output_type": "stream",
          "name": "stderr",
          "text": [
            "306it [00:29, 10.05it/s]"
          ]
        },
        {
          "output_type": "stream",
          "name": "stdout",
          "text": [
            "Average Loss: 1.4666327497382696\n",
            "Accuracy: 0.15789473684210525\n",
            "Average Loss: 1.4707297395975862\n",
            "Accuracy: 0.15758196721311477\n",
            "Average Loss: 1.4763323053522828\n",
            "Accuracy: 0.15747549019607843\n"
          ]
        },
        {
          "output_type": "stream",
          "name": "stderr",
          "text": [
            "\r308it [00:29, 10.10it/s]"
          ]
        },
        {
          "output_type": "stream",
          "name": "stdout",
          "text": [
            "Average Loss: 1.4768664748059033\n",
            "Accuracy: 0.15716612377850162\n",
            "Average Loss: 1.477461747970287\n",
            "Accuracy: 0.15665584415584416\n",
            "Average Loss: 1.4760095004992964\n",
            "Accuracy: 0.15635113268608414\n"
          ]
        },
        {
          "output_type": "stream",
          "name": "stderr",
          "text": [
            "312it [00:29, 10.12it/s]"
          ]
        },
        {
          "output_type": "stream",
          "name": "stdout",
          "text": [
            "tensor(1.2569, device='cuda:0', grad_fn=<MseLossBackward0>)\n",
            "Average Loss: 1.4753025505331254\n",
            "Accuracy: 0.15625\n",
            "Average Loss: 1.4731072168737362\n",
            "Accuracy: 0.15594855305466238\n",
            "Average Loss: 1.4723161619920762\n",
            "Accuracy: 0.15625\n"
          ]
        },
        {
          "output_type": "stream",
          "name": "stderr",
          "text": [
            "\r314it [00:30, 10.09it/s]"
          ]
        },
        {
          "output_type": "stream",
          "name": "stdout",
          "text": [
            "Average Loss: 1.4699886689266077\n",
            "Accuracy: 0.15654952076677317\n",
            "Average Loss: 1.4689150371464195\n",
            "Accuracy: 0.15684713375796178\n",
            "Average Loss: 1.468491279747751\n",
            "Accuracy: 0.15654761904761905\n"
          ]
        },
        {
          "output_type": "stream",
          "name": "stderr",
          "text": [
            "318it [00:30, 10.17it/s]"
          ]
        },
        {
          "output_type": "stream",
          "name": "stdout",
          "text": [
            "Average Loss: 1.4673726768527604\n",
            "Accuracy: 0.15644778481012658\n",
            "Average Loss: 1.4682923283204672\n",
            "Accuracy: 0.15654574132492113\n",
            "Average Loss: 1.466946211485368\n",
            "Accuracy: 0.15644654088050314\n"
          ]
        },
        {
          "output_type": "stream",
          "name": "stderr",
          "text": [
            "\r320it [00:30, 10.07it/s]"
          ]
        },
        {
          "output_type": "stream",
          "name": "stdout",
          "text": [
            "Average Loss: 1.4640960351893895\n",
            "Accuracy: 0.15634796238244514\n",
            "tensor(1.0792, device='cuda:0', grad_fn=<MseLossBackward0>)\n",
            "Average Loss: 1.4628932344261556\n",
            "Accuracy: 0.15625\n",
            "Average Loss: 1.462756151211596\n",
            "Accuracy: 0.15595794392523366\n"
          ]
        },
        {
          "output_type": "stream",
          "name": "stderr",
          "text": [
            "324it [00:31, 10.10it/s]"
          ]
        },
        {
          "output_type": "stream",
          "name": "stdout",
          "text": [
            "Average Loss: 1.4613937245485205\n",
            "Accuracy: 0.15566770186335405\n",
            "Average Loss: 1.4608918117019045\n",
            "Accuracy: 0.15557275541795665\n",
            "Average Loss: 1.4588710296393177\n",
            "Accuracy: 0.1558641975308642\n"
          ]
        },
        {
          "output_type": "stream",
          "name": "stderr",
          "text": [
            "\r326it [00:31, 10.15it/s]"
          ]
        },
        {
          "output_type": "stream",
          "name": "stdout",
          "text": [
            "Average Loss: 1.4585274042074496\n",
            "Accuracy: 0.15538461538461537\n",
            "Average Loss: 1.459337712659792\n",
            "Accuracy: 0.15567484662576686\n",
            "Average Loss: 1.4624039301540508\n",
            "Accuracy: 0.15538990825688073\n"
          ]
        },
        {
          "output_type": "stream",
          "name": "stderr",
          "text": [
            "330it [00:31, 10.36it/s]"
          ]
        },
        {
          "output_type": "stream",
          "name": "stdout",
          "text": [
            "Average Loss: 1.4638025497608795\n",
            "Accuracy: 0.1558689024390244\n",
            "Average Loss: 1.4640499804972877\n",
            "Accuracy: 0.1561550151975684\n",
            "tensor(1.5626, device='cuda:0', grad_fn=<MseLossBackward0>)\n",
            "Average Loss: 1.464348535691247\n",
            "Accuracy: 0.15568181818181817\n"
          ]
        },
        {
          "output_type": "stream",
          "name": "stderr",
          "text": [
            "\r332it [00:31, 10.41it/s]"
          ]
        },
        {
          "output_type": "stream",
          "name": "stdout",
          "text": [
            "Average Loss: 1.464686972722186\n",
            "Accuracy: 0.1555891238670695\n",
            "Average Loss: 1.4649550389184292\n",
            "Accuracy: 0.15549698795180722\n",
            "Average Loss: 1.4668101568569292\n",
            "Accuracy: 0.15521771771771772\n"
          ]
        },
        {
          "output_type": "stream",
          "name": "stderr",
          "text": [
            "336it [00:32, 10.59it/s]"
          ]
        },
        {
          "output_type": "stream",
          "name": "stdout",
          "text": [
            "Average Loss: 1.470311822871605\n",
            "Accuracy: 0.15494011976047903\n",
            "Average Loss: 1.471461880251543\n",
            "Accuracy: 0.15447761194029852\n",
            "Average Loss: 1.4691822415749942\n",
            "Accuracy: 0.15457589285714285\n"
          ]
        },
        {
          "output_type": "stream",
          "name": "stderr",
          "text": [
            "\r338it [00:32, 10.46it/s]"
          ]
        },
        {
          "output_type": "stream",
          "name": "stdout",
          "text": [
            "Average Loss: 1.4712845310347724\n",
            "Accuracy: 0.1541172106824926\n",
            "Average Loss: 1.4700250647212627\n",
            "Accuracy: 0.15421597633136094\n",
            "Average Loss: 1.4698681360588663\n",
            "Accuracy: 0.15468289085545722\n"
          ]
        },
        {
          "output_type": "stream",
          "name": "stderr",
          "text": [
            "342it [00:32, 10.28it/s]"
          ]
        },
        {
          "output_type": "stream",
          "name": "stdout",
          "text": [
            "tensor(1.6254, device='cuda:0', grad_fn=<MseLossBackward0>)\n",
            "Average Loss: 1.4703255155945525\n",
            "Accuracy: 0.15514705882352942\n",
            "Average Loss: 1.4681802460612439\n",
            "Accuracy: 0.15469208211143695\n",
            "Average Loss: 1.468293958632221\n",
            "Accuracy: 0.15478801169590642\n"
          ]
        },
        {
          "output_type": "stream",
          "name": "stderr",
          "text": [
            "\r344it [00:33, 10.30it/s]"
          ]
        },
        {
          "output_type": "stream",
          "name": "stdout",
          "text": [
            "Average Loss: 1.4661854427774863\n",
            "Accuracy: 0.15470116618075802\n",
            "Average Loss: 1.4655533549484125\n",
            "Accuracy: 0.15443313953488372\n",
            "Average Loss: 1.4642415774473245\n",
            "Accuracy: 0.15471014492753624\n"
          ]
        },
        {
          "output_type": "stream",
          "name": "stderr",
          "text": [
            "348it [00:33, 10.29it/s]"
          ]
        },
        {
          "output_type": "stream",
          "name": "stdout",
          "text": [
            "Average Loss: 1.4620245573234696\n",
            "Accuracy: 0.15516618497109827\n",
            "Average Loss: 1.4621565481513652\n",
            "Accuracy: 0.15543948126801152\n",
            "Average Loss: 1.468938917478268\n",
            "Accuracy: 0.15499281609195403\n"
          ]
        },
        {
          "output_type": "stream",
          "name": "stderr",
          "text": [
            "\r350it [00:33, 10.37it/s]"
          ]
        },
        {
          "output_type": "stream",
          "name": "stdout",
          "text": [
            "Average Loss: 1.4682277736913167\n",
            "Accuracy: 0.15490687679083096\n",
            "tensor(4.8103, device='cuda:0', grad_fn=<MseLossBackward0>)\n",
            "Average Loss: 1.47777667509658\n",
            "Accuracy: 0.15464285714285714\n",
            "Average Loss: 1.4763389990964846\n",
            "Accuracy: 0.15473646723646722\n"
          ]
        },
        {
          "output_type": "stream",
          "name": "stderr",
          "text": [
            "354it [00:34, 10.36it/s]"
          ]
        },
        {
          "output_type": "stream",
          "name": "stdout",
          "text": [
            "Average Loss: 1.4773806481283496\n",
            "Accuracy: 0.15447443181818182\n",
            "Average Loss: 1.4770793859495994\n",
            "Accuracy: 0.15439093484419264\n",
            "Average Loss: 1.4761278594365228\n",
            "Accuracy: 0.15430790960451976\n"
          ]
        },
        {
          "output_type": "stream",
          "name": "stderr",
          "text": [
            "\r356it [00:34, 10.34it/s]"
          ]
        },
        {
          "output_type": "stream",
          "name": "stdout",
          "text": [
            "Average Loss: 1.478849609007298\n",
            "Accuracy: 0.15457746478873238\n",
            "Average Loss: 1.4793391256603632\n",
            "Accuracy: 0.15466994382022473\n",
            "Average Loss: 1.4786508726556093\n",
            "Accuracy: 0.15476190476190477\n"
          ]
        },
        {
          "output_type": "stream",
          "name": "stderr",
          "text": [
            "360it [00:34, 10.37it/s]"
          ]
        },
        {
          "output_type": "stream",
          "name": "stdout",
          "text": [
            "Average Loss: 1.4768721320192908\n",
            "Accuracy: 0.15485335195530725\n",
            "Average Loss: 1.4753087717925606\n",
            "Accuracy: 0.1549442896935933\n",
            "tensor(1.6085, device='cuda:0', grad_fn=<MseLossBackward0>)\n",
            "Average Loss: 1.4756787735968828\n",
            "Accuracy: 0.15486111111111112\n"
          ]
        },
        {
          "output_type": "stream",
          "name": "stderr",
          "text": [
            "\r362it [00:34, 10.35it/s]"
          ]
        },
        {
          "output_type": "stream",
          "name": "stdout",
          "text": [
            "Average Loss: 1.474503639868752\n",
            "Accuracy: 0.15495152354570638\n",
            "Average Loss: 1.4779416617849914\n",
            "Accuracy: 0.1550414364640884\n",
            "Average Loss: 1.4819288561248911\n",
            "Accuracy: 0.15478650137741046\n"
          ]
        },
        {
          "output_type": "stream",
          "name": "stderr",
          "text": [
            "366it [00:35, 10.38it/s]"
          ]
        },
        {
          "output_type": "stream",
          "name": "stdout",
          "text": [
            "Average Loss: 1.4814481517852662\n",
            "Accuracy: 0.15487637362637363\n",
            "Average Loss: 1.483560401976925\n",
            "Accuracy: 0.15445205479452054\n",
            "Average Loss: 1.4847569588185008\n",
            "Accuracy: 0.15420081967213115\n"
          ]
        },
        {
          "output_type": "stream",
          "name": "stderr",
          "text": [
            "\r368it [00:35, 10.41it/s]"
          ]
        },
        {
          "output_type": "stream",
          "name": "stdout",
          "text": [
            "Average Loss: 1.4856636354075465\n",
            "Accuracy: 0.15378065395095367\n",
            "Average Loss: 1.4829798359018953\n",
            "Accuracy: 0.15404211956521738\n",
            "Average Loss: 1.482963428789684\n",
            "Accuracy: 0.15362466124661248\n"
          ]
        },
        {
          "output_type": "stream",
          "name": "stderr",
          "text": [
            "\r370it [00:35, 10.16it/s]"
          ]
        },
        {
          "output_type": "stream",
          "name": "stdout",
          "text": [
            "tensor(0.8290, device='cuda:0', grad_fn=<MseLossBackward0>)\n",
            "Average Loss: 1.4811958811170347\n",
            "Accuracy: 0.1535472972972973\n",
            "Average Loss: 1.4796244303251533\n",
            "Accuracy: 0.15380727762803234\n",
            "Average Loss: 1.4819991103503654\n"
          ]
        },
        {
          "output_type": "stream",
          "name": "stderr",
          "text": [
            "\r372it [00:35, 10.10it/s]"
          ]
        },
        {
          "output_type": "stream",
          "name": "stdout",
          "text": [
            "Accuracy: 0.15356182795698925\n",
            "Average Loss: 1.4815074920095004\n",
            "Accuracy: 0.15365281501340483\n",
            "Average Loss: 1.4799878490879574\n"
          ]
        },
        {
          "output_type": "stream",
          "name": "stderr",
          "text": [
            "376it [00:36, 10.12it/s]"
          ]
        },
        {
          "output_type": "stream",
          "name": "stdout",
          "text": [
            "Accuracy: 0.15407754010695188\n",
            "Average Loss: 1.4777031647761663\n",
            "Accuracy: 0.15416666666666667\n",
            "Average Loss: 1.4786005809982405\n",
            "Accuracy: 0.15408909574468085\n"
          ]
        },
        {
          "output_type": "stream",
          "name": "stderr",
          "text": [
            "\r378it [00:36, 10.03it/s]"
          ]
        },
        {
          "output_type": "stream",
          "name": "stdout",
          "text": [
            "Average Loss: 1.4775255716526856\n",
            "Accuracy: 0.15384615384615385\n",
            "Average Loss: 1.4755376011685088\n",
            "Accuracy: 0.1541005291005291\n"
          ]
        },
        {
          "output_type": "stream",
          "name": "stderr",
          "text": [
            "\r380it [00:36,  9.98it/s]"
          ]
        },
        {
          "output_type": "stream",
          "name": "stdout",
          "text": [
            "Average Loss: 1.4737088289062705\n",
            "Accuracy: 0.15402374670184696\n",
            "tensor(1.7223, device='cuda:0', grad_fn=<MseLossBackward0>)\n",
            "Average Loss: 1.474363102607037\n",
            "Accuracy: 0.15411184210526316\n"
          ]
        },
        {
          "output_type": "stream",
          "name": "stderr",
          "text": [
            "382it [00:36,  9.86it/s]"
          ]
        },
        {
          "output_type": "stream",
          "name": "stdout",
          "text": [
            "Average Loss: 1.4736480361285798\n",
            "Accuracy: 0.1538713910761155\n",
            "Average Loss: 1.4741332517322445\n",
            "Accuracy: 0.15363219895287958\n"
          ]
        },
        {
          "output_type": "stream",
          "name": "stderr",
          "text": [
            "384it [00:37,  9.83it/s]"
          ]
        },
        {
          "output_type": "stream",
          "name": "stdout",
          "text": [
            "Average Loss: 1.4726567058665945\n",
            "Accuracy: 0.15339425587467362\n",
            "Average Loss: 1.4773057775649552\n",
            "Accuracy: 0.1533203125\n"
          ]
        },
        {
          "output_type": "stream",
          "name": "stderr",
          "text": [
            "386it [00:37,  9.64it/s]"
          ]
        },
        {
          "output_type": "stream",
          "name": "stdout",
          "text": [
            "Average Loss: 1.475898751848704\n",
            "Accuracy: 0.15308441558441557\n",
            "Average Loss: 1.477927975588203\n",
            "Accuracy: 0.15284974093264247\n"
          ]
        },
        {
          "output_type": "stream",
          "name": "stderr",
          "text": [
            "389it [00:37, 10.04it/s]"
          ]
        },
        {
          "output_type": "stream",
          "name": "stdout",
          "text": [
            "Average Loss: 1.4770878490628505\n",
            "Accuracy: 0.1527777777777778\n",
            "Average Loss: 1.4750599408349425\n",
            "Accuracy: 0.15318943298969073\n",
            "Average Loss: 1.475442651802899\n",
            "Accuracy: 0.1534383033419023\n"
          ]
        },
        {
          "output_type": "stream",
          "name": "stderr",
          "text": [
            "391it [00:37,  9.86it/s]"
          ]
        },
        {
          "output_type": "stream",
          "name": "stdout",
          "text": [
            "tensor(0.6152, device='cuda:0', grad_fn=<MseLossBackward0>)\n",
            "Average Loss: 1.4732369712147957\n",
            "Accuracy: 0.15368589743589745\n",
            "Average Loss: 1.4736631363630295\n",
            "Accuracy: 0.1534526854219949\n"
          ]
        },
        {
          "output_type": "stream",
          "name": "stderr",
          "text": [
            "393it [00:37,  9.67it/s]"
          ]
        },
        {
          "output_type": "stream",
          "name": "stdout",
          "text": [
            "Average Loss: 1.472299247105815\n",
            "Accuracy: 0.15322066326530612\n",
            "Average Loss: 1.4741738367702517\n",
            "Accuracy: 0.15346692111959287\n"
          ]
        },
        {
          "output_type": "stream",
          "name": "stderr",
          "text": [
            "395it [00:38,  9.70it/s]"
          ]
        },
        {
          "output_type": "stream",
          "name": "stdout",
          "text": [
            "Average Loss: 1.4755147868379723\n",
            "Accuracy: 0.15371192893401014\n",
            "Average Loss: 1.473726873194115\n",
            "Accuracy: 0.15348101265822786\n"
          ]
        },
        {
          "output_type": "stream",
          "name": "stderr",
          "text": [
            "397it [00:38,  9.64it/s]"
          ]
        },
        {
          "output_type": "stream",
          "name": "stdout",
          "text": [
            "Average Loss: 1.4715107583412619\n",
            "Accuracy: 0.1535669191919192\n",
            "Average Loss: 1.4702066276550894\n",
            "Accuracy: 0.1533375314861461\n"
          ]
        },
        {
          "output_type": "stream",
          "name": "stderr",
          "text": [
            "400it [00:38, 10.20it/s]"
          ]
        },
        {
          "output_type": "stream",
          "name": "stdout",
          "text": [
            "Average Loss: 1.4688587800117594\n",
            "Accuracy: 0.15342336683417085\n",
            "Average Loss: 1.4678732243770345\n",
            "Accuracy: 0.15319548872180452\n",
            "tensor(3.1523, device='cuda:0', grad_fn=<MseLossBackward0>)\n",
            "Average Loss: 1.4720842767134308\n",
            "Accuracy: 0.1534375\n"
          ]
        },
        {
          "output_type": "stream",
          "name": "stderr",
          "text": [
            "\r402it [00:38, 10.32it/s]"
          ]
        },
        {
          "output_type": "stream",
          "name": "stdout",
          "text": [
            "Average Loss: 1.4735309209981167\n",
            "Accuracy: 0.15321072319201995\n",
            "Average Loss: 1.4719291478024787\n",
            "Accuracy: 0.15282960199004975\n",
            "Average Loss: 1.4707840684403852\n",
            "Accuracy: 0.15291563275434245\n"
          ]
        },
        {
          "output_type": "stream",
          "name": "stderr",
          "text": [
            "406it [00:39, 10.24it/s]"
          ]
        },
        {
          "output_type": "stream",
          "name": "stdout",
          "text": [
            "Average Loss: 1.4704892249169326\n",
            "Accuracy: 0.15331064356435645\n",
            "Average Loss: 1.4692494770994893\n",
            "Accuracy: 0.15354938271604937\n",
            "Average Loss: 1.4710165810188636\n",
            "Accuracy: 0.15378694581280788\n"
          ]
        },
        {
          "output_type": "stream",
          "name": "stderr",
          "text": [
            "\r408it [00:39, 10.27it/s]"
          ]
        },
        {
          "output_type": "stream",
          "name": "stdout",
          "text": [
            "Average Loss: 1.4704627936902737\n",
            "Accuracy: 0.15371621621621623\n",
            "Average Loss: 1.4693512038930374\n",
            "Accuracy: 0.15333946078431374\n",
            "Average Loss: 1.4674900750149142\n",
            "Accuracy: 0.15357579462102688\n"
          ]
        },
        {
          "output_type": "stream",
          "name": "stderr",
          "text": [
            "412it [00:39, 10.31it/s]"
          ]
        },
        {
          "output_type": "stream",
          "name": "stdout",
          "text": [
            "tensor(2.2510, device='cuda:0', grad_fn=<MseLossBackward0>)\n",
            "Average Loss: 1.4694011444362198\n",
            "Accuracy: 0.15365853658536585\n",
            "Average Loss: 1.471024616537593\n",
            "Accuracy: 0.1534367396593674\n",
            "Average Loss: 1.4691261429592823\n",
            "Accuracy: 0.15336771844660194\n"
          ]
        },
        {
          "output_type": "stream",
          "name": "stderr",
          "text": [
            "\r414it [00:40, 10.32it/s]"
          ]
        },
        {
          "output_type": "stream",
          "name": "stdout",
          "text": [
            "Average Loss: 1.4673860027267627\n",
            "Accuracy: 0.1539043583535109\n",
            "Average Loss: 1.466969695104205\n",
            "Accuracy: 0.15443840579710144\n",
            "Average Loss: 1.4669536131333156\n",
            "Accuracy: 0.1546686746987952\n"
          ]
        },
        {
          "output_type": "stream",
          "name": "stderr",
          "text": [
            "418it [00:40, 10.35it/s]"
          ]
        },
        {
          "output_type": "stream",
          "name": "stdout",
          "text": [
            "Average Loss: 1.4673125033553402\n",
            "Accuracy: 0.15459735576923078\n",
            "Average Loss: 1.4693318168393714\n",
            "Accuracy: 0.15422661870503598\n",
            "Average Loss: 1.4684814411843792\n",
            "Accuracy: 0.15430622009569378\n"
          ]
        },
        {
          "output_type": "stream",
          "name": "stderr",
          "text": [
            "\r420it [00:40, 10.31it/s]"
          ]
        },
        {
          "output_type": "stream",
          "name": "stdout",
          "text": [
            "Average Loss: 1.4677274625810632\n",
            "Accuracy: 0.1543854415274463\n",
            "tensor(2.6014, device='cuda:0', grad_fn=<MseLossBackward0>)\n",
            "Average Loss: 1.47042676327484\n",
            "Accuracy: 0.15401785714285715\n",
            "Average Loss: 1.4683150194956966\n",
            "Accuracy: 0.15394893111638955\n"
          ]
        },
        {
          "output_type": "stream",
          "name": "stderr",
          "text": [
            "\r422it [00:40, 10.25it/s]"
          ]
        },
        {
          "output_type": "stream",
          "name": "stdout",
          "text": [
            "Average Loss: 1.4675079609898594\n",
            "Accuracy: 0.15432464454976302\n",
            "Average Loss: 1.466198131864798\n",
            "Accuracy: 0.15410756501182032\n",
            "Average Loss: 1.464130887199404\n"
          ]
        },
        {
          "output_type": "stream",
          "name": "stderr",
          "text": [
            "426it [00:41, 10.15it/s]"
          ]
        },
        {
          "output_type": "stream",
          "name": "stdout",
          "text": [
            "Accuracy: 0.15462853773584906\n",
            "Average Loss: 1.4640690705706092\n",
            "Accuracy: 0.155\n",
            "Average Loss: 1.462749840543024\n",
            "Accuracy: 0.15492957746478872\n"
          ]
        },
        {
          "output_type": "stream",
          "name": "stderr",
          "text": [
            "\r428it [00:41, 10.11it/s]"
          ]
        },
        {
          "output_type": "stream",
          "name": "stdout",
          "text": [
            "Average Loss: 1.4614595348229173\n",
            "Accuracy: 0.15471311475409835\n",
            "Average Loss: 1.460608550634618\n",
            "Accuracy: 0.15464369158878505\n",
            "Average Loss: 1.460628180549695\n",
            "Accuracy: 0.15442890442890442\n"
          ]
        },
        {
          "output_type": "stream",
          "name": "stderr",
          "text": [
            "432it [00:41, 10.09it/s]"
          ]
        },
        {
          "output_type": "stream",
          "name": "stdout",
          "text": [
            "tensor(2.3939, device='cuda:0', grad_fn=<MseLossBackward0>)\n",
            "Average Loss: 1.462798618196055\n",
            "Accuracy: 0.15436046511627907\n",
            "Average Loss: 1.466480172185223\n",
            "Accuracy: 0.15400232018561485\n",
            "Average Loss: 1.4652975277837228\n",
            "Accuracy: 0.1540798611111111\n"
          ]
        },
        {
          "output_type": "stream",
          "name": "stderr",
          "text": [
            "\r434it [00:41, 10.05it/s]"
          ]
        },
        {
          "output_type": "stream",
          "name": "stdout",
          "text": [
            "Average Loss: 1.469791067561982\n",
            "Accuracy: 0.1541570438799076\n",
            "Average Loss: 1.470820035150249\n",
            "Accuracy: 0.15394585253456222\n",
            "Average Loss: 1.4693624311822584\n",
            "Accuracy: 0.1535919540229885\n"
          ]
        },
        {
          "output_type": "stream",
          "name": "stderr",
          "text": [
            "\r436it [00:42, 10.04it/s]"
          ]
        },
        {
          "output_type": "stream",
          "name": "stdout",
          "text": [
            "Average Loss: 1.469235924576674\n",
            "Accuracy: 0.15323967889908258\n",
            "Average Loss: 1.4707054171532188\n",
            "Accuracy: 0.1530320366132723\n",
            "Average Loss: 1.468793410994963\n",
            "Accuracy: 0.1531107305936073\n"
          ]
        },
        {
          "output_type": "stream",
          "name": "stderr",
          "text": [
            "440it [00:42, 10.06it/s]"
          ]
        },
        {
          "output_type": "stream",
          "name": "stdout",
          "text": [
            "Average Loss: 1.467437813962239\n",
            "Accuracy: 0.15318906605922553\n",
            "tensor(1.1293, device='cuda:0', grad_fn=<MseLossBackward0>)\n",
            "Average Loss: 1.4666692110963844\n",
            "Accuracy: 0.153125\n"
          ]
        },
        {
          "output_type": "stream",
          "name": "stderr",
          "text": [
            "\r442it [00:42, 10.00it/s]"
          ]
        },
        {
          "output_type": "stream",
          "name": "stdout",
          "text": [
            "Average Loss: 1.4651979440802079\n",
            "Accuracy: 0.153202947845805\n",
            "Average Loss: 1.4648906917930729\n",
            "Accuracy: 0.15328054298642535\n",
            "Average Loss: 1.4654653618957334\n",
            "Accuracy: 0.15335778781038376\n"
          ]
        },
        {
          "output_type": "stream",
          "name": "stderr",
          "text": [
            "446it [00:43, 10.09it/s]"
          ]
        },
        {
          "output_type": "stream",
          "name": "stdout",
          "text": [
            "Average Loss: 1.4676845946626083\n",
            "Accuracy: 0.15329391891891891\n",
            "Average Loss: 1.468122223823258\n",
            "Accuracy: 0.15308988764044945\n",
            "Average Loss: 1.4672255609936244\n",
            "Accuracy: 0.1531670403587444\n"
          ]
        },
        {
          "output_type": "stream",
          "name": "stderr",
          "text": [
            "\r448it [00:43, 10.00it/s]"
          ]
        },
        {
          "output_type": "stream",
          "name": "stdout",
          "text": [
            "Average Loss: 1.4676320646499894\n",
            "Accuracy: 0.15296420581655482\n",
            "Average Loss: 1.4670229732790696\n",
            "Accuracy: 0.15304129464285715\n"
          ]
        },
        {
          "output_type": "stream",
          "name": "stderr",
          "text": [
            "\r450it [00:43,  9.97it/s]"
          ]
        },
        {
          "output_type": "stream",
          "name": "stdout",
          "text": [
            "Average Loss: 1.4659049771477226\n",
            "Accuracy: 0.15283964365256125\n",
            "tensor(2.9418, device='cuda:0', grad_fn=<MseLossBackward0>)\n",
            "Average Loss: 1.4691847091582086\n",
            "Accuracy: 0.1527777777777778\n",
            "Average Loss: 1.4688760753547538\n",
            "Accuracy: 0.15285476718403548\n"
          ]
        },
        {
          "output_type": "stream",
          "name": "stderr",
          "text": [
            "453it [00:43,  9.96it/s]"
          ]
        },
        {
          "output_type": "stream",
          "name": "stdout",
          "text": [
            "Average Loss: 1.4675814549282062\n",
            "Accuracy: 0.15293141592920353\n",
            "Average Loss: 1.4655876325784667\n",
            "Accuracy: 0.1527317880794702\n"
          ]
        },
        {
          "output_type": "stream",
          "name": "stderr",
          "text": [
            "455it [00:44,  9.90it/s]"
          ]
        },
        {
          "output_type": "stream",
          "name": "stdout",
          "text": [
            "Average Loss: 1.4683017843948587\n",
            "Accuracy: 0.15253303964757708\n",
            "Average Loss: 1.4679802001505107\n",
            "Accuracy: 0.15274725274725276\n"
          ]
        },
        {
          "output_type": "stream",
          "name": "stderr",
          "text": [
            "457it [00:44,  9.90it/s]"
          ]
        },
        {
          "output_type": "stream",
          "name": "stdout",
          "text": [
            "Average Loss: 1.4709041346387381\n",
            "Accuracy: 0.15282346491228072\n",
            "Average Loss: 1.471016256534036\n",
            "Accuracy: 0.15276258205689278\n",
            "Average Loss: 1.4696217115854593\n",
            "Accuracy: 0.15283842794759825\n"
          ]
        },
        {
          "output_type": "stream",
          "name": "stderr",
          "text": [
            "460it [00:44,  9.89it/s]"
          ]
        },
        {
          "output_type": "stream",
          "name": "stdout",
          "text": [
            "Average Loss: 1.4683208943776835\n",
            "Accuracy: 0.1527777777777778\n",
            "tensor(0.8794, device='cuda:0', grad_fn=<MseLossBackward0>)\n",
            "Average Loss: 1.4670407142652118\n",
            "Accuracy: 0.153125\n"
          ]
        },
        {
          "output_type": "stream",
          "name": "stderr",
          "text": [
            "462it [00:44,  9.76it/s]"
          ]
        },
        {
          "output_type": "stream",
          "name": "stdout",
          "text": [
            "Average Loss: 1.4655518366625924\n",
            "Accuracy: 0.1530639913232104\n",
            "Average Loss: 1.4670095444048121\n",
            "Accuracy: 0.15286796536796537\n"
          ]
        },
        {
          "output_type": "stream",
          "name": "stderr",
          "text": [
            "465it [00:45,  9.94it/s]"
          ]
        },
        {
          "output_type": "stream",
          "name": "stdout",
          "text": [
            "Average Loss: 1.4690893314633977\n",
            "Accuracy: 0.15294276457883368\n",
            "Average Loss: 1.469590515444248\n",
            "Accuracy: 0.15328663793103448\n",
            "Average Loss: 1.468224873241558\n",
            "Accuracy: 0.1532258064516129\n"
          ]
        },
        {
          "output_type": "stream",
          "name": "stderr",
          "text": [
            "\r467it [00:45, 10.08it/s]"
          ]
        },
        {
          "output_type": "stream",
          "name": "stdout",
          "text": [
            "Average Loss: 1.47079717156841\n",
            "Accuracy: 0.1535675965665236\n",
            "Average Loss: 1.4701408384252157\n",
            "Accuracy: 0.15350642398286937\n",
            "Average Loss: 1.4717485068254492\n",
            "Accuracy: 0.15344551282051283\n"
          ]
        },
        {
          "output_type": "stream",
          "name": "stderr",
          "text": [
            "\r469it [00:45, 10.12it/s]"
          ]
        },
        {
          "output_type": "stream",
          "name": "stdout",
          "text": [
            "Average Loss: 1.4742259871540293\n",
            "Accuracy: 0.1535181236673774\n",
            "tensor(2.5434, device='cuda:0', grad_fn=<MseLossBackward0>)\n",
            "Average Loss: 1.4765008697167357\n",
            "Accuracy: 0.15345744680851064\n",
            "Average Loss: 1.4783145018760313\n"
          ]
        },
        {
          "output_type": "stream",
          "name": "stderr",
          "text": [
            "\r471it [00:45, 10.07it/s]"
          ]
        },
        {
          "output_type": "stream",
          "name": "stdout",
          "text": [
            "Accuracy: 0.15352972399150744\n",
            "Average Loss: 1.4777533916156675\n",
            "Accuracy: 0.15320444915254236\n"
          ]
        },
        {
          "output_type": "stream",
          "name": "stderr",
          "text": [
            "474it [00:46,  9.94it/s]"
          ]
        },
        {
          "output_type": "stream",
          "name": "stdout",
          "text": [
            "Average Loss: 1.479362681256036\n",
            "Accuracy: 0.15288054968287526\n",
            "Average Loss: 1.4818010208538817\n",
            "Accuracy: 0.15255801687763712\n"
          ]
        },
        {
          "output_type": "stream",
          "name": "stderr",
          "text": [
            "476it [00:46,  9.79it/s]"
          ]
        },
        {
          "output_type": "stream",
          "name": "stdout",
          "text": [
            "Average Loss: 1.4813829747312948\n",
            "Accuracy: 0.1525\n",
            "Average Loss: 1.4802219432254298\n",
            "Accuracy: 0.15217962184873948\n"
          ]
        },
        {
          "output_type": "stream",
          "name": "stderr",
          "text": [
            "478it [00:46,  9.67it/s]"
          ]
        },
        {
          "output_type": "stream",
          "name": "stdout",
          "text": [
            "Average Loss: 1.479041792842827\n",
            "Accuracy: 0.15212264150943397\n",
            "Average Loss: 1.478490125465842\n",
            "Accuracy: 0.15180439330543932\n"
          ]
        },
        {
          "output_type": "stream",
          "name": "stderr",
          "text": [
            "480it [00:46,  9.75it/s]"
          ]
        },
        {
          "output_type": "stream",
          "name": "stdout",
          "text": [
            "Average Loss: 1.4806683897536583\n",
            "Accuracy: 0.15174843423799583\n",
            "tensor(2.8671, device='cuda:0', grad_fn=<MseLossBackward0>)\n",
            "Average Loss: 1.4835567218872407\n",
            "Accuracy: 0.15143229166666666\n"
          ]
        },
        {
          "output_type": "stream",
          "name": "stderr",
          "text": [
            "483it [00:46,  9.94it/s]"
          ]
        },
        {
          "output_type": "stream",
          "name": "stdout",
          "text": [
            "Average Loss: 1.4836434183212428\n",
            "Accuracy: 0.15124740124740124\n",
            "Average Loss: 1.483713152281229\n",
            "Accuracy: 0.15119294605809128\n",
            "Average Loss: 1.482966328290432\n",
            "Accuracy: 0.15113871635610765\n"
          ]
        },
        {
          "output_type": "stream",
          "name": "stderr",
          "text": [
            "485it [00:47,  9.78it/s]"
          ]
        },
        {
          "output_type": "stream",
          "name": "stdout",
          "text": [
            "Average Loss: 1.4828686630738175\n",
            "Accuracy: 0.15108471074380164\n",
            "Average Loss: 1.4845453459270221\n",
            "Accuracy: 0.15115979381443298\n"
          ]
        },
        {
          "output_type": "stream",
          "name": "stderr",
          "text": [
            "487it [00:47,  9.63it/s]"
          ]
        },
        {
          "output_type": "stream",
          "name": "stdout",
          "text": [
            "Average Loss: 1.4834874930021205\n",
            "Accuracy: 0.15136316872427982\n",
            "Average Loss: 1.4836389715238274\n",
            "Accuracy: 0.15130903490759753\n"
          ]
        },
        {
          "output_type": "stream",
          "name": "stderr",
          "text": [
            "489it [00:47,  9.57it/s]"
          ]
        },
        {
          "output_type": "stream",
          "name": "stdout",
          "text": [
            "Average Loss: 1.4850311054863403\n",
            "Accuracy: 0.15099897540983606\n",
            "Average Loss: 1.4875453391506628\n",
            "Accuracy: 0.15094580777096114\n"
          ]
        },
        {
          "output_type": "stream",
          "name": "stderr",
          "text": [
            "491it [00:47,  9.67it/s]"
          ]
        },
        {
          "output_type": "stream",
          "name": "stdout",
          "text": [
            "tensor(1.5242, device='cuda:0', grad_fn=<MseLossBackward0>)\n",
            "Average Loss: 1.487620098767232\n",
            "Accuracy: 0.15076530612244898\n",
            "Average Loss: 1.4878989642907063\n",
            "Accuracy: 0.15084012219959267\n"
          ]
        },
        {
          "output_type": "stream",
          "name": "stderr",
          "text": [
            "493it [00:47,  9.70it/s]"
          ]
        },
        {
          "output_type": "stream",
          "name": "stdout",
          "text": [
            "Average Loss: 1.4862048382742135\n",
            "Accuracy: 0.15066056910569106\n",
            "Average Loss: 1.48500936343873\n",
            "Accuracy: 0.15073529411764705\n"
          ]
        },
        {
          "output_type": "stream",
          "name": "stderr",
          "text": [
            "495it [00:48,  9.76it/s]"
          ]
        },
        {
          "output_type": "stream",
          "name": "stdout",
          "text": [
            "Average Loss: 1.4852144284105977\n",
            "Accuracy: 0.15055668016194332\n",
            "Average Loss: 1.483586410109443\n",
            "Accuracy: 0.15088383838383837\n"
          ]
        },
        {
          "output_type": "stream",
          "name": "stderr",
          "text": [
            "497it [00:48,  9.74it/s]"
          ]
        },
        {
          "output_type": "stream",
          "name": "stdout",
          "text": [
            "Average Loss: 1.4840043833959968\n",
            "Accuracy: 0.1509576612903226\n",
            "Average Loss: 1.4848764094128695\n",
            "Accuracy: 0.15077967806841047\n"
          ]
        },
        {
          "output_type": "stream",
          "name": "stderr",
          "text": [
            "499it [00:48,  9.73it/s]"
          ]
        },
        {
          "output_type": "stream",
          "name": "stdout",
          "text": [
            "Average Loss: 1.483943990226012\n",
            "Accuracy: 0.1504769076305221\n",
            "Average Loss: 1.4859606778036378\n",
            "Accuracy: 0.15105210420841683\n"
          ]
        },
        {
          "output_type": "stream",
          "name": "stderr",
          "text": [
            "501it [00:48,  9.72it/s]"
          ]
        },
        {
          "output_type": "stream",
          "name": "stdout",
          "text": [
            "tensor(3.5573, device='cuda:0', grad_fn=<MseLossBackward0>)\n",
            "Average Loss: 1.4901033575832843\n",
            "Accuracy: 0.151125\n",
            "Average Loss: 1.4907811930377088\n",
            "Accuracy: 0.15119760479041916\n"
          ]
        },
        {
          "output_type": "stream",
          "name": "stderr",
          "text": [
            "503it [00:49,  9.65it/s]"
          ]
        },
        {
          "output_type": "stream",
          "name": "stdout",
          "text": [
            "Average Loss: 1.4919493303177842\n",
            "Accuracy: 0.15114541832669323\n",
            "Average Loss: 1.491416640150144\n",
            "Accuracy: 0.15109343936381708\n"
          ]
        },
        {
          "output_type": "stream",
          "name": "stderr",
          "text": [
            "\r504it [00:49,  9.71it/s]"
          ]
        },
        {
          "output_type": "stream",
          "name": "stdout",
          "text": [
            "Average Loss: 1.4899425742231192\n",
            "Accuracy: 0.1511656746031746\n",
            "Average Loss: 1.4910217477838592\n",
            "Accuracy: 0.15136138613861386\n"
          ]
        },
        {
          "output_type": "stream",
          "name": "stderr",
          "text": [
            "507it [00:49,  9.75it/s]"
          ]
        },
        {
          "output_type": "stream",
          "name": "stdout",
          "text": [
            "Average Loss: 1.4928075847006126\n",
            "Accuracy: 0.1513092885375494\n",
            "Average Loss: 1.4915753602099842\n",
            "Accuracy: 0.15113412228796844\n"
          ]
        },
        {
          "output_type": "stream",
          "name": "stderr",
          "text": [
            "509it [00:49,  9.61it/s]"
          ]
        },
        {
          "output_type": "stream",
          "name": "stdout",
          "text": [
            "Average Loss: 1.490789707867414\n",
            "Accuracy: 0.15108267716535434\n",
            "Average Loss: 1.491495033056422\n",
            "Accuracy: 0.15090864440078586\n"
          ]
        },
        {
          "output_type": "stream",
          "name": "stderr",
          "text": [
            "512it [00:49,  9.87it/s]"
          ]
        },
        {
          "output_type": "stream",
          "name": "stdout",
          "text": [
            "tensor(1.2154, device='cuda:0', grad_fn=<MseLossBackward0>)\n",
            "Average Loss: 1.4909536795581089\n",
            "Accuracy: 0.15110294117647058\n",
            "Average Loss: 1.490829138752299\n",
            "Accuracy: 0.15105185909980431\n",
            "Average Loss: 1.4895595117995981\n",
            "Accuracy: 0.151123046875\n"
          ]
        },
        {
          "output_type": "stream",
          "name": "stderr",
          "text": [
            "515it [00:50,  9.93it/s]"
          ]
        },
        {
          "output_type": "stream",
          "name": "stdout",
          "text": [
            "Average Loss: 1.48956767500144\n",
            "Accuracy: 0.1509502923976608\n",
            "Average Loss: 1.4884086428971142\n",
            "Accuracy: 0.1510214007782101\n",
            "Average Loss: 1.4883418568419022\n",
            "Accuracy: 0.1508495145631068\n"
          ]
        },
        {
          "output_type": "stream",
          "name": "stderr",
          "text": [
            "517it [00:50,  9.82it/s]"
          ]
        },
        {
          "output_type": "stream",
          "name": "stdout",
          "text": [
            "Average Loss: 1.4884364084275656\n",
            "Accuracy: 0.15055717054263565\n",
            "Average Loss: 1.4885542966007494\n",
            "Accuracy: 0.15074951644100582\n"
          ]
        },
        {
          "output_type": "stream",
          "name": "stderr",
          "text": [
            "519it [00:50,  9.72it/s]"
          ]
        },
        {
          "output_type": "stream",
          "name": "stdout",
          "text": [
            "Average Loss: 1.4885831520421624\n",
            "Accuracy: 0.15069980694980695\n",
            "Average Loss: 1.488286540830985\n",
            "Accuracy: 0.15089113680154143\n"
          ]
        },
        {
          "output_type": "stream",
          "name": "stderr",
          "text": [
            "521it [00:50,  9.72it/s]"
          ]
        },
        {
          "output_type": "stream",
          "name": "stdout",
          "text": [
            "tensor(1.4213, device='cuda:0', grad_fn=<MseLossBackward0>)\n",
            "Average Loss: 1.4881576874221747\n",
            "Accuracy: 0.15084134615384615\n",
            "Average Loss: 1.488337248763974\n",
            "Accuracy: 0.15103166986564298\n"
          ]
        },
        {
          "output_type": "stream",
          "name": "stderr",
          "text": [
            "523it [00:51,  9.57it/s]"
          ]
        },
        {
          "output_type": "stream",
          "name": "stdout",
          "text": [
            "Average Loss: 1.4872965804975609\n",
            "Accuracy: 0.1512212643678161\n",
            "Average Loss: 1.487400264545107\n",
            "Accuracy: 0.15164913957934992\n"
          ]
        },
        {
          "output_type": "stream",
          "name": "stderr",
          "text": [
            "525it [00:51,  9.59it/s]"
          ]
        },
        {
          "output_type": "stream",
          "name": "stdout",
          "text": [
            "Average Loss: 1.4889820044334152\n",
            "Accuracy: 0.15171755725190839\n",
            "Average Loss: 1.4892892241761797\n",
            "Accuracy: 0.15178571428571427\n"
          ]
        },
        {
          "output_type": "stream",
          "name": "stderr",
          "text": [
            "527it [00:51,  9.65it/s]"
          ]
        },
        {
          "output_type": "stream",
          "name": "stdout",
          "text": [
            "Average Loss: 1.4890725815760772\n",
            "Accuracy: 0.15197243346007605\n",
            "Average Loss: 1.4876014759067793\n",
            "Accuracy: 0.1521584440227704\n"
          ]
        },
        {
          "output_type": "stream",
          "name": "stderr",
          "text": [
            "529it [00:51,  9.77it/s]"
          ]
        },
        {
          "output_type": "stream",
          "name": "stdout",
          "text": [
            "Average Loss: 1.4866365122354843\n",
            "Accuracy: 0.15210700757575757\n",
            "Average Loss: 1.4860032247291395\n",
            "Accuracy: 0.15205576559546313\n",
            "tensor(2.5941, device='cuda:0', grad_fn=<MseLossBackward0>)\n",
            "Average Loss: 1.4880939697600761"
          ]
        },
        {
          "output_type": "stream",
          "name": "stderr",
          "text": [
            "531it [00:51,  9.87it/s]"
          ]
        },
        {
          "output_type": "stream",
          "name": "stdout",
          "text": [
            "\n",
            "Accuracy: 0.15200471698113208\n",
            "Average Loss: 1.489561901506731\n",
            "Accuracy: 0.15171845574387946\n",
            "Average Loss: 1.489196221211127\n",
            "Accuracy: 0.15143327067669174\n"
          ]
        },
        {
          "output_type": "stream",
          "name": "stderr",
          "text": [
            "535it [00:52, 10.22it/s]"
          ]
        },
        {
          "output_type": "stream",
          "name": "stdout",
          "text": [
            "Average Loss: 1.490463146377236\n",
            "Accuracy: 0.15114915572232646\n",
            "Average Loss: 1.4891843008023968\n",
            "Accuracy: 0.15121722846441948\n",
            "Average Loss: 1.4879306380158273\n",
            "Accuracy: 0.15116822429906543\n"
          ]
        },
        {
          "output_type": "stream",
          "name": "stderr",
          "text": [
            "\r537it [00:52, 10.32it/s]"
          ]
        },
        {
          "output_type": "stream",
          "name": "stdout",
          "text": [
            "Average Loss: 1.4880975435084816\n",
            "Accuracy: 0.15146921641791045\n",
            "Average Loss: 1.488209713687444\n",
            "Accuracy: 0.15130353817504655\n",
            "Average Loss: 1.4888296088820054\n",
            "Accuracy: 0.15137081784386616\n"
          ]
        },
        {
          "output_type": "stream",
          "name": "stderr",
          "text": [
            "541it [00:52, 10.28it/s]"
          ]
        },
        {
          "output_type": "stream",
          "name": "stdout",
          "text": [
            "Average Loss: 1.4880640216185566\n",
            "Accuracy: 0.15132189239332097\n",
            "tensor(1.2417, device='cuda:0', grad_fn=<MseLossBackward0>)\n",
            "Average Loss: 1.487607849665262\n",
            "Accuracy: 0.1511574074074074\n",
            "Average Loss: 1.4860605056812495\n",
            "Accuracy: 0.1511090573012939\n"
          ]
        },
        {
          "output_type": "stream",
          "name": "stderr",
          "text": [
            "\r543it [00:53, 10.36it/s]"
          ]
        },
        {
          "output_type": "stream",
          "name": "stdout",
          "text": [
            "Average Loss: 1.487102558719496\n",
            "Accuracy: 0.15117619926199263\n",
            "Average Loss: 1.486079749289358\n",
            "Accuracy: 0.1511279926335175\n",
            "Average Loss: 1.4891456823850817\n",
            "Accuracy: 0.15107996323529413\n"
          ]
        },
        {
          "output_type": "stream",
          "name": "stderr",
          "text": [
            "547it [00:53, 10.40it/s]"
          ]
        },
        {
          "output_type": "stream",
          "name": "stdout",
          "text": [
            "Average Loss: 1.4890410123888507\n",
            "Accuracy: 0.15114678899082568\n",
            "Average Loss: 1.4878882433086524\n",
            "Accuracy: 0.15121336996336995\n",
            "Average Loss: 1.4868259701530502\n",
            "Accuracy: 0.1511654478976234\n"
          ]
        },
        {
          "output_type": "stream",
          "name": "stderr",
          "text": [
            "\r549it [00:53, 10.55it/s]"
          ]
        },
        {
          "output_type": "stream",
          "name": "stdout",
          "text": [
            "Average Loss: 1.4874938070828463\n",
            "Accuracy: 0.151117700729927\n",
            "Average Loss: 1.4872472413522082\n",
            "Accuracy: 0.15107012750455373\n",
            "tensor(1.1633, device='cuda:0', grad_fn=<MseLossBackward0>)\n",
            "Average Loss: 1.4866582644256678\n",
            "Accuracy: 0.15102272727272728\n"
          ]
        },
        {
          "output_type": "stream",
          "name": "stderr",
          "text": [
            "553it [00:53, 10.66it/s]"
          ]
        },
        {
          "output_type": "stream",
          "name": "stdout",
          "text": [
            "Average Loss: 1.4873070586236117\n",
            "Accuracy: 0.15108892921960074\n",
            "Average Loss: 1.4872943434216406\n",
            "Accuracy: 0.15081521739130435\n",
            "Average Loss: 1.485836475413919\n",
            "Accuracy: 0.15099457504520797\n"
          ]
        },
        {
          "output_type": "stream",
          "name": "stderr",
          "text": [
            "\r555it [00:54, 10.66it/s]"
          ]
        },
        {
          "output_type": "stream",
          "name": "stdout",
          "text": [
            "Average Loss: 1.484761757137328\n",
            "Accuracy: 0.15117328519855597\n",
            "Average Loss: 1.4849478530722695\n",
            "Accuracy: 0.15112612612612614\n",
            "Average Loss: 1.4865979340275843\n",
            "Accuracy: 0.15119154676258992\n"
          ]
        },
        {
          "output_type": "stream",
          "name": "stderr",
          "text": [
            "559it [00:54, 10.61it/s]"
          ]
        },
        {
          "output_type": "stream",
          "name": "stdout",
          "text": [
            "Average Loss: 1.485106663413921\n",
            "Accuracy: 0.15114452423698385\n",
            "Average Loss: 1.4876744807247193\n",
            "Accuracy: 0.15098566308243727\n",
            "Average Loss: 1.4875165252064977\n",
            "Accuracy: 0.1509391771019678\n"
          ]
        },
        {
          "output_type": "stream",
          "name": "stderr",
          "text": [
            "\r561it [00:54, 10.55it/s]"
          ]
        },
        {
          "output_type": "stream",
          "name": "stdout",
          "text": [
            "tensor(0.7364, device='cuda:0', grad_fn=<MseLossBackward0>)\n",
            "Average Loss: 1.486175191961229\n",
            "Accuracy: 0.1510044642857143\n",
            "Average Loss: 1.4869063849595778\n",
            "Accuracy: 0.15095811051693406\n",
            "Average Loss: 1.4856486251822993\n",
            "Accuracy: 0.15068950177935944\n"
          ]
        },
        {
          "output_type": "stream",
          "name": "stderr",
          "text": [
            "565it [00:55, 10.50it/s]"
          ]
        },
        {
          "output_type": "stream",
          "name": "stdout",
          "text": [
            "Average Loss: 1.4879485005860218\n",
            "Accuracy: 0.15053285968028418\n",
            "Average Loss: 1.4872267814022853\n",
            "Accuracy: 0.15048758865248227\n",
            "Average Loss: 1.4865342700639657\n",
            "Accuracy: 0.15033185840707963\n"
          ]
        },
        {
          "output_type": "stream",
          "name": "stderr",
          "text": [
            "\r567it [00:55, 10.47it/s]"
          ]
        },
        {
          "output_type": "stream",
          "name": "stdout",
          "text": [
            "Average Loss: 1.4854547967179925\n",
            "Accuracy: 0.1501766784452297\n",
            "Average Loss: 1.4863915277589146\n",
            "Accuracy: 0.15024250440917108\n",
            "Average Loss: 1.4878383940216942\n",
            "Accuracy: 0.1501980633802817\n"
          ]
        },
        {
          "output_type": "stream",
          "name": "stderr",
          "text": [
            "571it [00:55, 10.68it/s]"
          ]
        },
        {
          "output_type": "stream",
          "name": "stdout",
          "text": [
            "Average Loss: 1.4880039036431085\n",
            "Accuracy: 0.1501537785588752\n",
            "tensor(0.7778, device='cuda:0', grad_fn=<MseLossBackward0>)\n",
            "Average Loss: 1.4867580173569812\n",
            "Accuracy: 0.149890350877193\n",
            "Average Loss: 1.4868523471461912\n",
            "Accuracy: 0.14973730297723292\n"
          ]
        },
        {
          "output_type": "stream",
          "name": "stderr",
          "text": [
            "573it [00:55, 10.26it/s]"
          ]
        },
        {
          "output_type": "stream",
          "name": "stdout",
          "text": [
            "Average Loss: 1.4869692123696938\n",
            "Accuracy: 0.15002185314685315\n",
            "Average Loss: 1.4938853929440181\n",
            "Accuracy: 0.149869109947644\n"
          ]
        },
        {
          "output_type": "stream",
          "name": "stderr",
          "text": [
            "\n"
          ]
        }
      ]
    },
    {
      "cell_type": "markdown",
      "source": [
        "## Submitting Your Results\n",
        "Once you have successfully trained your model, generate predictions on the test set and save your results as a `.csv` file. This file can then be uploaded to the leaderboard.\n",
        "\n",
        "Your final `.csv` file **must** have the following format:\n",
        "- There must be a column titled `image_path` with the paths to the test set images. This column should be identical to the one provided in `mimic_test_student.csv`.\n",
        "- There must be a column titled `pred` with your model outputs.\n",
        "  - If you are running the `distance categorization` task, this column must have floating point numbers ranging between 0 and 1. Higher numbers should indicate a greater likelihood that the tube distance is abnormal. Hint: You can convert model outputs to the 0 to 1 range by applying the sigmoid activation function (torch.nn.sigmoid())\n",
        "  - If you are running the `distance prediction` task, this column must have numbers representing the tube distance in centimeters.\n",
        "- Double check that there are 500 rows in your output file"
      ],
      "metadata": {
        "id": "l8F_1wzY6I7j"
      }
    },
    {
      "cell_type": "code",
      "source": [
        "#Get list of predictions\n",
        "\n",
        "# model = # Model Architecture\n",
        "# ckpt = torch.load(\"/content/drive/MyDrive/best.pkl\")\n",
        "# model.load_state_dict(ckpt[\"state_dict\"])\n",
        "filename_3 = \"/content/drive/MyDrive/LR_test_results_final_4.csv\"\n",
        "\n",
        "\n",
        "test_dataset = ChestXRayDataset(\"/content/drive/MyDrive/test_key_2.csv\")\n",
        "test_loader = torch.utils.data.DataLoader(dataset=test_dataset, batch_size=1, shuffle=False, drop_last=False)\n",
        "\n",
        "test_results = {\"image_path\": [], \"pred\": []}\n",
        "# Write method to load in data from test_loader, compute model predictions, and append results to test_results dict\n",
        "\n",
        "with open(filename_3, 'w') as csvfile3:\n",
        "    datawriter = csv.writer(csvfile3)\n",
        "    with torch.no_grad():\n",
        "      datawriter.writerow([\"tube_distance\"])\n",
        "      for step, sample in tqdm(enumerate(test_loader)):\n",
        "\n",
        "        sample['img'], sample['label'] = sample['img'].to(device), sample['label'].to(device)\n",
        "\n",
        "        pred = model(sample['img'])\n",
        "        pred = r(pred)\n",
        "        print(pred)\n",
        "        # pred = torch.round(pred)\n",
        "        datawriter.writerow([pred.item()])\n",
        "        count += 1"
      ],
      "metadata": {
        "colab": {
          "base_uri": "https://localhost:8080/"
        },
        "id": "0SDWeda0jc2h",
        "outputId": "26a31206-b501-4a77-9b18-196b03e9fdf9"
      },
      "execution_count": null,
      "outputs": [
        {
          "output_type": "stream",
          "name": "stderr",
          "text": [
            "0it [00:00, ?it/s]/usr/local/lib/python3.10/dist-packages/torchvision/transforms/functional.py:1603: UserWarning: The default value of the antialias parameter of all the resizing transforms (Resize(), RandomResizedCrop(), etc.) will change from None to True in v0.17, in order to be consistent across the PIL and Tensor backends. To suppress this warning, directly pass antialias=True (recommended, future default), antialias=None (current default, which means False for Tensors and True for PIL), or antialias=False (only works on Tensors - PIL will still use antialiasing). This also applies if you are using the inference transforms from the models weights: update the call to weights.transforms(antialias=True).\n",
            "  warnings.warn(\n",
            "8it [00:00, 74.96it/s]"
          ]
        },
        {
          "output_type": "stream",
          "name": "stdout",
          "text": [
            "tensor([[5.0208]], device='cuda:0')\n",
            "tensor([[4.6034]], device='cuda:0')\n",
            "tensor([[4.9860]], device='cuda:0')\n",
            "tensor([[4.1475]], device='cuda:0')\n",
            "tensor([[4.4592]], device='cuda:0')\n",
            "tensor([[3.2257]], device='cuda:0')\n",
            "tensor([[4.3325]], device='cuda:0')\n",
            "tensor([[3.5096]], device='cuda:0')\n",
            "tensor([[2.8978]], device='cuda:0')\n",
            "tensor([[4.3619]], device='cuda:0')\n",
            "tensor([[3.4392]], device='cuda:0')\n",
            "tensor([[4.5575]], device='cuda:0')\n",
            "tensor([[2.2889]], device='cuda:0')\n",
            "tensor([[3.7218]], device='cuda:0')\n",
            "tensor([[5.4294]], device='cuda:0')\n"
          ]
        },
        {
          "output_type": "stream",
          "name": "stderr",
          "text": [
            "24it [00:00, 72.61it/s]"
          ]
        },
        {
          "output_type": "stream",
          "name": "stdout",
          "text": [
            "tensor([[3.9801]], device='cuda:0')\n",
            "tensor([[5.2573]], device='cuda:0')\n",
            "tensor([[3.0343]], device='cuda:0')\n",
            "tensor([[3.1598]], device='cuda:0')\n",
            "tensor([[5.7735]], device='cuda:0')\n",
            "tensor([[5.3484]], device='cuda:0')\n",
            "tensor([[4.2347]], device='cuda:0')\n",
            "tensor([[3.1461]], device='cuda:0')\n",
            "tensor([[5.4314]], device='cuda:0')\n",
            "tensor([[5.4809]], device='cuda:0')\n",
            "tensor([[4.8380]], device='cuda:0')\n",
            "tensor([[5.0641]], device='cuda:0')\n",
            "tensor([[3.9022]], device='cuda:0')\n",
            "tensor([[6.2455]], device='cuda:0')\n",
            "tensor([[5.9565]], device='cuda:0')\n"
          ]
        },
        {
          "output_type": "stream",
          "name": "stderr",
          "text": [
            "40it [00:00, 72.74it/s]"
          ]
        },
        {
          "output_type": "stream",
          "name": "stdout",
          "text": [
            "tensor([[3.9331]], device='cuda:0')\n",
            "tensor([[4.4540]], device='cuda:0')\n",
            "tensor([[4.3501]], device='cuda:0')\n",
            "tensor([[3.8709]], device='cuda:0')\n",
            "tensor([[5.0169]], device='cuda:0')\n",
            "tensor([[4.3662]], device='cuda:0')\n",
            "tensor([[4.8973]], device='cuda:0')\n",
            "tensor([[4.5441]], device='cuda:0')\n",
            "tensor([[3.4736]], device='cuda:0')\n",
            "tensor([[6.1526]], device='cuda:0')\n",
            "tensor([[6.3216]], device='cuda:0')\n",
            "tensor([[3.3492]], device='cuda:0')\n",
            "tensor([[4.6847]], device='cuda:0')\n",
            "tensor([[4.4701]], device='cuda:0')\n",
            "tensor([[4.9917]], device='cuda:0')\n"
          ]
        },
        {
          "output_type": "stream",
          "name": "stderr",
          "text": [
            "56it [00:00, 72.92it/s]"
          ]
        },
        {
          "output_type": "stream",
          "name": "stdout",
          "text": [
            "tensor([[4.6389]], device='cuda:0')\n",
            "tensor([[2.8195]], device='cuda:0')\n",
            "tensor([[4.5277]], device='cuda:0')\n",
            "tensor([[5.1241]], device='cuda:0')\n",
            "tensor([[4.4502]], device='cuda:0')\n",
            "tensor([[4.6628]], device='cuda:0')\n",
            "tensor([[4.5237]], device='cuda:0')\n",
            "tensor([[3.5083]], device='cuda:0')\n",
            "tensor([[5.3828]], device='cuda:0')\n",
            "tensor([[5.2161]], device='cuda:0')\n",
            "tensor([[2.6403]], device='cuda:0')\n",
            "tensor([[5.2196]], device='cuda:0')\n",
            "tensor([[3.6704]], device='cuda:0')\n",
            "tensor([[3.1404]], device='cuda:0')\n",
            "tensor([[4.3749]], device='cuda:0')\n"
          ]
        },
        {
          "output_type": "stream",
          "name": "stderr",
          "text": [
            "72it [00:00, 73.03it/s]"
          ]
        },
        {
          "output_type": "stream",
          "name": "stdout",
          "text": [
            "tensor([[5.4774]], device='cuda:0')\n",
            "tensor([[4.8964]], device='cuda:0')\n",
            "tensor([[3.2303]], device='cuda:0')\n",
            "tensor([[4.0370]], device='cuda:0')\n",
            "tensor([[4.0433]], device='cuda:0')\n",
            "tensor([[2.6134]], device='cuda:0')\n",
            "tensor([[4.2650]], device='cuda:0')\n",
            "tensor([[5.6783]], device='cuda:0')\n",
            "tensor([[4.2299]], device='cuda:0')\n",
            "tensor([[4.1743]], device='cuda:0')\n",
            "tensor([[4.6245]], device='cuda:0')\n",
            "tensor([[2.1628]], device='cuda:0')\n",
            "tensor([[3.1172]], device='cuda:0')\n",
            "tensor([[2.3281]], device='cuda:0')\n",
            "tensor([[4.6533]], device='cuda:0')\n"
          ]
        },
        {
          "output_type": "stream",
          "name": "stderr",
          "text": [
            "88it [00:01, 73.10it/s]"
          ]
        },
        {
          "output_type": "stream",
          "name": "stdout",
          "text": [
            "tensor([[3.9698]], device='cuda:0')\n",
            "tensor([[4.2859]], device='cuda:0')\n",
            "tensor([[5.7290]], device='cuda:0')\n",
            "tensor([[3.8606]], device='cuda:0')\n",
            "tensor([[3.2542]], device='cuda:0')\n",
            "tensor([[3.0907]], device='cuda:0')\n",
            "tensor([[4.6735]], device='cuda:0')\n",
            "tensor([[5.1714]], device='cuda:0')\n",
            "tensor([[4.6219]], device='cuda:0')\n",
            "tensor([[4.6789]], device='cuda:0')\n",
            "tensor([[6.3305]], device='cuda:0')\n",
            "tensor([[5.4647]], device='cuda:0')\n",
            "tensor([[3.4030]], device='cuda:0')\n",
            "tensor([[3.3242]], device='cuda:0')\n",
            "tensor([[5.4725]], device='cuda:0')\n"
          ]
        },
        {
          "output_type": "stream",
          "name": "stderr",
          "text": [
            "104it [00:01, 73.09it/s]"
          ]
        },
        {
          "output_type": "stream",
          "name": "stdout",
          "text": [
            "tensor([[3.5599]], device='cuda:0')\n",
            "tensor([[4.3250]], device='cuda:0')\n",
            "tensor([[4.4772]], device='cuda:0')\n",
            "tensor([[4.8759]], device='cuda:0')\n",
            "tensor([[3.8058]], device='cuda:0')\n",
            "tensor([[5.9419]], device='cuda:0')\n",
            "tensor([[5.9582]], device='cuda:0')\n",
            "tensor([[3.5063]], device='cuda:0')\n",
            "tensor([[4.7519]], device='cuda:0')\n",
            "tensor([[3.4122]], device='cuda:0')\n",
            "tensor([[4.1654]], device='cuda:0')\n",
            "tensor([[2.5891]], device='cuda:0')\n",
            "tensor([[5.3697]], device='cuda:0')\n",
            "tensor([[5.4072]], device='cuda:0')\n",
            "tensor([[4.3556]], device='cuda:0')\n"
          ]
        },
        {
          "output_type": "stream",
          "name": "stderr",
          "text": [
            "120it [00:01, 72.81it/s]"
          ]
        },
        {
          "output_type": "stream",
          "name": "stdout",
          "text": [
            "tensor([[3.2128]], device='cuda:0')\n",
            "tensor([[4.2825]], device='cuda:0')\n",
            "tensor([[5.5808]], device='cuda:0')\n",
            "tensor([[4.0512]], device='cuda:0')\n",
            "tensor([[5.4900]], device='cuda:0')\n",
            "tensor([[3.1035]], device='cuda:0')\n",
            "tensor([[3.5477]], device='cuda:0')\n",
            "tensor([[2.8494]], device='cuda:0')\n",
            "tensor([[3.9035]], device='cuda:0')\n",
            "tensor([[4.8415]], device='cuda:0')\n",
            "tensor([[5.0539]], device='cuda:0')\n",
            "tensor([[5.9121]], device='cuda:0')\n",
            "tensor([[4.1640]], device='cuda:0')\n",
            "tensor([[7.0864]], device='cuda:0')\n",
            "tensor([[5.0139]], device='cuda:0')\n"
          ]
        },
        {
          "output_type": "stream",
          "name": "stderr",
          "text": [
            "\r128it [00:01, 73.17it/s]"
          ]
        },
        {
          "output_type": "stream",
          "name": "stdout",
          "text": [
            "tensor([[3.8490]], device='cuda:0')\n",
            "tensor([[4.6922]], device='cuda:0')\n",
            "tensor([[3.5145]], device='cuda:0')\n",
            "tensor([[4.9534]], device='cuda:0')\n",
            "tensor([[3.5919]], device='cuda:0')\n",
            "tensor([[6.0150]], device='cuda:0')\n",
            "tensor([[4.6429]], device='cuda:0')\n",
            "tensor([[6.3152]], device='cuda:0')\n",
            "tensor([[3.2166]], device='cuda:0')\n",
            "tensor([[3.1432]], device='cuda:0')\n",
            "tensor([[2.7397]], device='cuda:0')\n",
            "tensor([[5.2949]], device='cuda:0')\n",
            "tensor([[3.0844]], device='cuda:0')\n",
            "tensor([[4.3037]], device='cuda:0')\n",
            "tensor([[5.9836]], device='cuda:0')\n"
          ]
        },
        {
          "output_type": "stream",
          "name": "stderr",
          "text": [
            "144it [00:01, 73.13it/s]"
          ]
        },
        {
          "output_type": "stream",
          "name": "stdout",
          "text": [
            "tensor([[4.8872]], device='cuda:0')\n",
            "tensor([[5.3095]], device='cuda:0')\n",
            "tensor([[5.2312]], device='cuda:0')\n",
            "tensor([[3.4194]], device='cuda:0')\n",
            "tensor([[4.5576]], device='cuda:0')\n",
            "tensor([[4.1318]], device='cuda:0')\n",
            "tensor([[5.5304]], device='cuda:0')\n",
            "tensor([[3.2369]], device='cuda:0')\n",
            "tensor([[3.7679]], device='cuda:0')\n",
            "tensor([[3.4336]], device='cuda:0')\n",
            "tensor([[5.1017]], device='cuda:0')\n",
            "tensor([[5.1475]], device='cuda:0')\n",
            "tensor([[4.1993]], device='cuda:0')\n",
            "tensor([[3.9171]], device='cuda:0')\n",
            "tensor([[5.7621]], device='cuda:0')\n"
          ]
        },
        {
          "output_type": "stream",
          "name": "stderr",
          "text": [
            "160it [00:02, 73.44it/s]"
          ]
        },
        {
          "output_type": "stream",
          "name": "stdout",
          "text": [
            "tensor([[6.0479]], device='cuda:0')\n",
            "tensor([[2.6877]], device='cuda:0')\n",
            "tensor([[4.4922]], device='cuda:0')\n",
            "tensor([[4.2885]], device='cuda:0')\n",
            "tensor([[4.4655]], device='cuda:0')\n",
            "tensor([[3.5846]], device='cuda:0')\n",
            "tensor([[4.2461]], device='cuda:0')\n",
            "tensor([[2.1312]], device='cuda:0')\n",
            "tensor([[3.2992]], device='cuda:0')\n",
            "tensor([[5.7234]], device='cuda:0')\n",
            "tensor([[6.9851]], device='cuda:0')\n",
            "tensor([[3.4874]], device='cuda:0')\n",
            "tensor([[6.5968]], device='cuda:0')\n",
            "tensor([[4.7329]], device='cuda:0')\n",
            "tensor([[4.8543]], device='cuda:0')\n"
          ]
        },
        {
          "output_type": "stream",
          "name": "stderr",
          "text": [
            "176it [00:02, 73.51it/s]"
          ]
        },
        {
          "output_type": "stream",
          "name": "stdout",
          "text": [
            "tensor([[3.4504]], device='cuda:0')\n",
            "tensor([[3.0514]], device='cuda:0')\n",
            "tensor([[4.7134]], device='cuda:0')\n",
            "tensor([[4.6918]], device='cuda:0')\n",
            "tensor([[3.4713]], device='cuda:0')\n",
            "tensor([[4.5095]], device='cuda:0')\n",
            "tensor([[4.4973]], device='cuda:0')\n",
            "tensor([[3.8327]], device='cuda:0')\n",
            "tensor([[5.5525]], device='cuda:0')\n",
            "tensor([[2.2574]], device='cuda:0')\n",
            "tensor([[3.0394]], device='cuda:0')\n",
            "tensor([[4.7325]], device='cuda:0')\n",
            "tensor([[5.7175]], device='cuda:0')\n",
            "tensor([[4.9218]], device='cuda:0')\n",
            "tensor([[5.4598]], device='cuda:0')\n"
          ]
        },
        {
          "output_type": "stream",
          "name": "stderr",
          "text": [
            "192it [00:02, 73.15it/s]"
          ]
        },
        {
          "output_type": "stream",
          "name": "stdout",
          "text": [
            "tensor([[5.2628]], device='cuda:0')\n",
            "tensor([[4.4774]], device='cuda:0')\n",
            "tensor([[7.8249]], device='cuda:0')\n",
            "tensor([[5.7494]], device='cuda:0')\n",
            "tensor([[5.3220]], device='cuda:0')\n",
            "tensor([[4.6228]], device='cuda:0')\n",
            "tensor([[5.4509]], device='cuda:0')\n",
            "tensor([[5.4985]], device='cuda:0')\n",
            "tensor([[2.9691]], device='cuda:0')\n",
            "tensor([[4.5332]], device='cuda:0')\n",
            "tensor([[4.8236]], device='cuda:0')\n",
            "tensor([[4.9328]], device='cuda:0')\n",
            "tensor([[4.4451]], device='cuda:0')\n",
            "tensor([[3.2808]], device='cuda:0')\n",
            "tensor([[3.1010]], device='cuda:0')\n"
          ]
        },
        {
          "output_type": "stream",
          "name": "stderr",
          "text": [
            "208it [00:02, 72.81it/s]"
          ]
        },
        {
          "output_type": "stream",
          "name": "stdout",
          "text": [
            "tensor([[4.9989]], device='cuda:0')\n",
            "tensor([[4.5045]], device='cuda:0')\n",
            "tensor([[4.7754]], device='cuda:0')\n",
            "tensor([[5.4544]], device='cuda:0')\n",
            "tensor([[5.1198]], device='cuda:0')\n",
            "tensor([[4.2901]], device='cuda:0')\n",
            "tensor([[4.8407]], device='cuda:0')\n",
            "tensor([[3.4747]], device='cuda:0')\n",
            "tensor([[4.8589]], device='cuda:0')\n",
            "tensor([[2.0970]], device='cuda:0')\n",
            "tensor([[4.0259]], device='cuda:0')\n",
            "tensor([[3.9614]], device='cuda:0')\n",
            "tensor([[5.8099]], device='cuda:0')\n",
            "tensor([[5.1105]], device='cuda:0')\n",
            "tensor([[4.1331]], device='cuda:0')\n"
          ]
        },
        {
          "output_type": "stream",
          "name": "stderr",
          "text": [
            "224it [00:03, 73.52it/s]"
          ]
        },
        {
          "output_type": "stream",
          "name": "stdout",
          "text": [
            "tensor([[5.5507]], device='cuda:0')\n",
            "tensor([[4.6605]], device='cuda:0')\n",
            "tensor([[4.6857]], device='cuda:0')\n",
            "tensor([[4.0655]], device='cuda:0')\n",
            "tensor([[4.6103]], device='cuda:0')\n",
            "tensor([[4.6103]], device='cuda:0')\n",
            "tensor([[2.8953]], device='cuda:0')\n",
            "tensor([[5.2215]], device='cuda:0')\n",
            "tensor([[3.9031]], device='cuda:0')\n",
            "tensor([[4.3054]], device='cuda:0')\n",
            "tensor([[2.8355]], device='cuda:0')\n",
            "tensor([[5.0705]], device='cuda:0')\n",
            "tensor([[4.7157]], device='cuda:0')\n",
            "tensor([[6.0350]], device='cuda:0')\n",
            "tensor([[4.8754]], device='cuda:0')\n"
          ]
        },
        {
          "output_type": "stream",
          "name": "stderr",
          "text": [
            "240it [00:03, 74.04it/s]"
          ]
        },
        {
          "output_type": "stream",
          "name": "stdout",
          "text": [
            "tensor([[2.9507]], device='cuda:0')\n",
            "tensor([[4.0130]], device='cuda:0')\n",
            "tensor([[4.1286]], device='cuda:0')\n",
            "tensor([[5.4001]], device='cuda:0')\n",
            "tensor([[3.5354]], device='cuda:0')\n",
            "tensor([[4.4614]], device='cuda:0')\n",
            "tensor([[3.2455]], device='cuda:0')\n",
            "tensor([[3.2202]], device='cuda:0')\n",
            "tensor([[4.4055]], device='cuda:0')\n",
            "tensor([[5.3921]], device='cuda:0')\n",
            "tensor([[5.2010]], device='cuda:0')\n",
            "tensor([[2.9281]], device='cuda:0')\n",
            "tensor([[3.7800]], device='cuda:0')\n",
            "tensor([[5.0015]], device='cuda:0')\n",
            "tensor([[4.2729]], device='cuda:0')\n"
          ]
        },
        {
          "output_type": "stream",
          "name": "stderr",
          "text": [
            "256it [00:03, 75.53it/s]"
          ]
        },
        {
          "output_type": "stream",
          "name": "stdout",
          "text": [
            "tensor([[4.7716]], device='cuda:0')\n",
            "tensor([[2.5654]], device='cuda:0')\n",
            "tensor([[4.7291]], device='cuda:0')\n",
            "tensor([[4.7080]], device='cuda:0')\n",
            "tensor([[4.0987]], device='cuda:0')\n",
            "tensor([[4.0579]], device='cuda:0')\n",
            "tensor([[2.3658]], device='cuda:0')\n",
            "tensor([[4.5255]], device='cuda:0')\n",
            "tensor([[2.9817]], device='cuda:0')\n",
            "tensor([[4.7860]], device='cuda:0')\n",
            "tensor([[3.5749]], device='cuda:0')\n",
            "tensor([[5.7275]], device='cuda:0')\n",
            "tensor([[3.5966]], device='cuda:0')\n",
            "tensor([[5.7673]], device='cuda:0')\n",
            "tensor([[3.0754]], device='cuda:0')\n",
            "tensor([[2.9095]], device='cuda:0')\n"
          ]
        },
        {
          "output_type": "stream",
          "name": "stderr",
          "text": [
            "273it [00:03, 77.45it/s]"
          ]
        },
        {
          "output_type": "stream",
          "name": "stdout",
          "text": [
            "tensor([[5.2281]], device='cuda:0')\n",
            "tensor([[4.4300]], device='cuda:0')\n",
            "tensor([[4.9989]], device='cuda:0')\n",
            "tensor([[6.1027]], device='cuda:0')\n",
            "tensor([[5.1854]], device='cuda:0')\n",
            "tensor([[2.4689]], device='cuda:0')\n",
            "tensor([[5.0717]], device='cuda:0')\n",
            "tensor([[5.2920]], device='cuda:0')\n",
            "tensor([[4.5130]], device='cuda:0')\n",
            "tensor([[3.6819]], device='cuda:0')\n",
            "tensor([[4.1908]], device='cuda:0')\n",
            "tensor([[3.8146]], device='cuda:0')\n",
            "tensor([[4.8754]], device='cuda:0')\n",
            "tensor([[4.0689]], device='cuda:0')\n",
            "tensor([[4.3452]], device='cuda:0')\n",
            "tensor([[2.4435]], device='cuda:0')\n",
            "tensor([[4.5315]], device='cuda:0')\n"
          ]
        },
        {
          "output_type": "stream",
          "name": "stderr",
          "text": [
            "\r282it [00:03, 79.10it/s]"
          ]
        },
        {
          "output_type": "stream",
          "name": "stdout",
          "text": [
            "tensor([[3.5364]], device='cuda:0')\n",
            "tensor([[4.5675]], device='cuda:0')\n",
            "tensor([[2.1189]], device='cuda:0')\n",
            "tensor([[4.0216]], device='cuda:0')\n",
            "tensor([[4.3458]], device='cuda:0')\n",
            "tensor([[4.6022]], device='cuda:0')\n",
            "tensor([[3.7379]], device='cuda:0')\n",
            "tensor([[5.3596]], device='cuda:0')\n",
            "tensor([[6.2745]], device='cuda:0')\n",
            "tensor([[4.1156]], device='cuda:0')\n",
            "tensor([[4.0314]], device='cuda:0')\n",
            "tensor([[5.4111]], device='cuda:0')\n",
            "tensor([[6.0524]], device='cuda:0')\n",
            "tensor([[6.2157]], device='cuda:0')\n",
            "tensor([[3.5016]], device='cuda:0')\n",
            "tensor([[3.2773]], device='cuda:0')\n",
            "tensor([[3.2741]], device='cuda:0')\n"
          ]
        },
        {
          "output_type": "stream",
          "name": "stderr",
          "text": [
            "300it [00:04, 80.87it/s]"
          ]
        },
        {
          "output_type": "stream",
          "name": "stdout",
          "text": [
            "tensor([[2.3349]], device='cuda:0')\n",
            "tensor([[4.0544]], device='cuda:0')\n",
            "tensor([[5.4054]], device='cuda:0')\n",
            "tensor([[5.5580]], device='cuda:0')\n",
            "tensor([[3.6543]], device='cuda:0')\n",
            "tensor([[2.8082]], device='cuda:0')\n",
            "tensor([[4.4578]], device='cuda:0')\n",
            "tensor([[4.1082]], device='cuda:0')\n",
            "tensor([[5.2984]], device='cuda:0')\n",
            "tensor([[5.2264]], device='cuda:0')\n",
            "tensor([[6.0479]], device='cuda:0')\n",
            "tensor([[3.8137]], device='cuda:0')\n",
            "tensor([[2.4750]], device='cuda:0')\n",
            "tensor([[4.3130]], device='cuda:0')\n",
            "tensor([[4.4924]], device='cuda:0')\n",
            "tensor([[4.9099]], device='cuda:0')\n",
            "tensor([[3.6467]], device='cuda:0')\n"
          ]
        },
        {
          "output_type": "stream",
          "name": "stderr",
          "text": [
            "318it [00:04, 81.50it/s]"
          ]
        },
        {
          "output_type": "stream",
          "name": "stdout",
          "text": [
            "tensor([[4.2836]], device='cuda:0')\n",
            "tensor([[4.7529]], device='cuda:0')\n",
            "tensor([[4.0155]], device='cuda:0')\n",
            "tensor([[5.0244]], device='cuda:0')\n",
            "tensor([[6.5328]], device='cuda:0')\n",
            "tensor([[4.6536]], device='cuda:0')\n",
            "tensor([[2.4564]], device='cuda:0')\n",
            "tensor([[4.5314]], device='cuda:0')\n",
            "tensor([[4.6266]], device='cuda:0')\n",
            "tensor([[3.8235]], device='cuda:0')\n",
            "tensor([[4.8332]], device='cuda:0')\n",
            "tensor([[5.1650]], device='cuda:0')\n",
            "tensor([[4.9842]], device='cuda:0')\n",
            "tensor([[4.1636]], device='cuda:0')\n",
            "tensor([[4.2853]], device='cuda:0')\n",
            "tensor([[4.8872]], device='cuda:0')\n",
            "tensor([[3.6863]], device='cuda:0')\n"
          ]
        },
        {
          "output_type": "stream",
          "name": "stderr",
          "text": [
            "336it [00:04, 78.56it/s]"
          ]
        },
        {
          "output_type": "stream",
          "name": "stdout",
          "text": [
            "tensor([[4.2651]], device='cuda:0')\n",
            "tensor([[5.9152]], device='cuda:0')\n",
            "tensor([[4.3982]], device='cuda:0')\n",
            "tensor([[3.1196]], device='cuda:0')\n",
            "tensor([[3.7898]], device='cuda:0')\n",
            "tensor([[5.1071]], device='cuda:0')\n",
            "tensor([[3.1927]], device='cuda:0')\n",
            "tensor([[4.6748]], device='cuda:0')\n",
            "tensor([[2.5450]], device='cuda:0')\n",
            "tensor([[4.5041]], device='cuda:0')\n",
            "tensor([[4.9251]], device='cuda:0')\n",
            "tensor([[3.2125]], device='cuda:0')\n",
            "tensor([[3.9427]], device='cuda:0')\n",
            "tensor([[4.1830]], device='cuda:0')\n",
            "tensor([[4.1106]], device='cuda:0')\n",
            "tensor([[4.2168]], device='cuda:0')\n"
          ]
        },
        {
          "output_type": "stream",
          "name": "stderr",
          "text": [
            "354it [00:04, 79.95it/s]"
          ]
        },
        {
          "output_type": "stream",
          "name": "stdout",
          "text": [
            "tensor([[1.9853]], device='cuda:0')\n",
            "tensor([[2.7509]], device='cuda:0')\n",
            "tensor([[3.3592]], device='cuda:0')\n",
            "tensor([[4.1269]], device='cuda:0')\n",
            "tensor([[4.3065]], device='cuda:0')\n",
            "tensor([[5.3899]], device='cuda:0')\n",
            "tensor([[4.5049]], device='cuda:0')\n",
            "tensor([[3.4349]], device='cuda:0')\n",
            "tensor([[4.5951]], device='cuda:0')\n",
            "tensor([[4.6556]], device='cuda:0')\n",
            "tensor([[4.1358]], device='cuda:0')\n",
            "tensor([[5.5389]], device='cuda:0')\n",
            "tensor([[3.3549]], device='cuda:0')\n",
            "tensor([[3.4966]], device='cuda:0')\n",
            "tensor([[5.0000]], device='cuda:0')\n",
            "tensor([[4.3113]], device='cuda:0')\n",
            "tensor([[4.7690]], device='cuda:0')\n"
          ]
        },
        {
          "output_type": "stream",
          "name": "stderr",
          "text": [
            "372it [00:04, 80.43it/s]"
          ]
        },
        {
          "output_type": "stream",
          "name": "stdout",
          "text": [
            "tensor([[5.3273]], device='cuda:0')\n",
            "tensor([[4.8888]], device='cuda:0')\n",
            "tensor([[5.6181]], device='cuda:0')\n",
            "tensor([[3.4889]], device='cuda:0')\n",
            "tensor([[4.1350]], device='cuda:0')\n",
            "tensor([[4.2329]], device='cuda:0')\n",
            "tensor([[4.6897]], device='cuda:0')\n",
            "tensor([[5.0432]], device='cuda:0')\n",
            "tensor([[5.6267]], device='cuda:0')\n",
            "tensor([[5.8586]], device='cuda:0')\n",
            "tensor([[6.4749]], device='cuda:0')\n",
            "tensor([[5.6679]], device='cuda:0')\n",
            "tensor([[6.5398]], device='cuda:0')\n",
            "tensor([[4.8550]], device='cuda:0')\n",
            "tensor([[4.8033]], device='cuda:0')\n",
            "tensor([[3.0682]], device='cuda:0')\n",
            "tensor([[5.8016]], device='cuda:0')\n"
          ]
        },
        {
          "output_type": "stream",
          "name": "stderr",
          "text": [
            "390it [00:05, 81.42it/s]"
          ]
        },
        {
          "output_type": "stream",
          "name": "stdout",
          "text": [
            "tensor([[3.0592]], device='cuda:0')\n",
            "tensor([[3.1855]], device='cuda:0')\n",
            "tensor([[2.8248]], device='cuda:0')\n",
            "tensor([[6.8073]], device='cuda:0')\n",
            "tensor([[4.8772]], device='cuda:0')\n",
            "tensor([[4.8856]], device='cuda:0')\n",
            "tensor([[5.4895]], device='cuda:0')\n",
            "tensor([[4.9294]], device='cuda:0')\n",
            "tensor([[5.4789]], device='cuda:0')\n",
            "tensor([[4.7729]], device='cuda:0')\n",
            "tensor([[5.1169]], device='cuda:0')\n",
            "tensor([[6.1994]], device='cuda:0')\n",
            "tensor([[4.1182]], device='cuda:0')\n",
            "tensor([[4.8937]], device='cuda:0')\n",
            "tensor([[3.5803]], device='cuda:0')\n",
            "tensor([[6.2569]], device='cuda:0')\n",
            "tensor([[5.2050]], device='cuda:0')\n"
          ]
        },
        {
          "output_type": "stream",
          "name": "stderr",
          "text": [
            "408it [00:05, 80.98it/s]"
          ]
        },
        {
          "output_type": "stream",
          "name": "stdout",
          "text": [
            "tensor([[5.0079]], device='cuda:0')\n",
            "tensor([[4.0137]], device='cuda:0')\n",
            "tensor([[4.4495]], device='cuda:0')\n",
            "tensor([[3.7684]], device='cuda:0')\n",
            "tensor([[5.3677]], device='cuda:0')\n",
            "tensor([[4.6808]], device='cuda:0')\n",
            "tensor([[4.3924]], device='cuda:0')\n",
            "tensor([[5.0438]], device='cuda:0')\n",
            "tensor([[4.3262]], device='cuda:0')\n",
            "tensor([[6.0439]], device='cuda:0')\n",
            "tensor([[4.5828]], device='cuda:0')\n",
            "tensor([[5.1942]], device='cuda:0')\n",
            "tensor([[4.2947]], device='cuda:0')\n",
            "tensor([[5.1146]], device='cuda:0')\n",
            "tensor([[4.0843]], device='cuda:0')\n",
            "tensor([[4.8331]], device='cuda:0')\n",
            "tensor([[3.7957]], device='cuda:0')\n"
          ]
        },
        {
          "output_type": "stream",
          "name": "stderr",
          "text": [
            "\r417it [00:05, 80.86it/s]"
          ]
        },
        {
          "output_type": "stream",
          "name": "stdout",
          "text": [
            "tensor([[5.7910]], device='cuda:0')\n",
            "tensor([[7.2545]], device='cuda:0')\n",
            "tensor([[4.2071]], device='cuda:0')\n",
            "tensor([[6.2191]], device='cuda:0')\n",
            "tensor([[4.6493]], device='cuda:0')\n",
            "tensor([[5.2805]], device='cuda:0')\n",
            "tensor([[4.8499]], device='cuda:0')\n",
            "tensor([[4.6844]], device='cuda:0')\n",
            "tensor([[3.7737]], device='cuda:0')\n",
            "tensor([[3.7543]], device='cuda:0')\n",
            "tensor([[5.4396]], device='cuda:0')\n",
            "tensor([[6.0089]], device='cuda:0')\n",
            "tensor([[4.4909]], device='cuda:0')\n",
            "tensor([[4.5665]], device='cuda:0')\n",
            "tensor([[4.3862]], device='cuda:0')\n",
            "tensor([[3.8219]], device='cuda:0')\n",
            "tensor([[4.2052]], device='cuda:0')\n"
          ]
        },
        {
          "output_type": "stream",
          "name": "stderr",
          "text": [
            "435it [00:05, 81.18it/s]"
          ]
        },
        {
          "output_type": "stream",
          "name": "stdout",
          "text": [
            "tensor([[5.0376]], device='cuda:0')\n",
            "tensor([[4.7211]], device='cuda:0')\n",
            "tensor([[4.4182]], device='cuda:0')\n",
            "tensor([[4.7550]], device='cuda:0')\n",
            "tensor([[5.5006]], device='cuda:0')\n",
            "tensor([[5.1142]], device='cuda:0')\n",
            "tensor([[4.2521]], device='cuda:0')\n",
            "tensor([[3.1673]], device='cuda:0')\n",
            "tensor([[2.7630]], device='cuda:0')\n",
            "tensor([[4.3740]], device='cuda:0')\n",
            "tensor([[5.2766]], device='cuda:0')\n",
            "tensor([[1.6875]], device='cuda:0')\n",
            "tensor([[3.9223]], device='cuda:0')\n",
            "tensor([[5.2118]], device='cuda:0')\n",
            "tensor([[4.2052]], device='cuda:0')\n",
            "tensor([[3.4721]], device='cuda:0')\n",
            "tensor([[3.7084]], device='cuda:0')\n"
          ]
        },
        {
          "output_type": "stream",
          "name": "stderr",
          "text": [
            "453it [00:05, 81.94it/s]"
          ]
        },
        {
          "output_type": "stream",
          "name": "stdout",
          "text": [
            "tensor([[5.1159]], device='cuda:0')\n",
            "tensor([[4.7758]], device='cuda:0')\n",
            "tensor([[5.4489]], device='cuda:0')\n",
            "tensor([[5.7416]], device='cuda:0')\n",
            "tensor([[2.9334]], device='cuda:0')\n",
            "tensor([[5.9250]], device='cuda:0')\n",
            "tensor([[4.7537]], device='cuda:0')\n",
            "tensor([[4.4404]], device='cuda:0')\n",
            "tensor([[4.4814]], device='cuda:0')\n",
            "tensor([[5.2376]], device='cuda:0')\n",
            "tensor([[4.3056]], device='cuda:0')\n",
            "tensor([[5.0810]], device='cuda:0')\n",
            "tensor([[3.3193]], device='cuda:0')\n",
            "tensor([[3.4469]], device='cuda:0')\n",
            "tensor([[3.3069]], device='cuda:0')\n",
            "tensor([[4.1182]], device='cuda:0')\n",
            "tensor([[3.0519]], device='cuda:0')\n"
          ]
        },
        {
          "output_type": "stream",
          "name": "stderr",
          "text": [
            "471it [00:06, 82.21it/s]"
          ]
        },
        {
          "output_type": "stream",
          "name": "stdout",
          "text": [
            "tensor([[4.8555]], device='cuda:0')\n",
            "tensor([[3.5683]], device='cuda:0')\n",
            "tensor([[4.3405]], device='cuda:0')\n",
            "tensor([[4.7667]], device='cuda:0')\n",
            "tensor([[4.6915]], device='cuda:0')\n",
            "tensor([[4.9964]], device='cuda:0')\n",
            "tensor([[5.3278]], device='cuda:0')\n",
            "tensor([[3.8028]], device='cuda:0')\n",
            "tensor([[4.0680]], device='cuda:0')\n",
            "tensor([[3.2386]], device='cuda:0')\n",
            "tensor([[4.7362]], device='cuda:0')\n",
            "tensor([[3.6849]], device='cuda:0')\n",
            "tensor([[5.4243]], device='cuda:0')\n",
            "tensor([[4.1516]], device='cuda:0')\n",
            "tensor([[4.5822]], device='cuda:0')\n",
            "tensor([[4.1061]], device='cuda:0')\n",
            "tensor([[4.4015]], device='cuda:0')\n"
          ]
        },
        {
          "output_type": "stream",
          "name": "stderr",
          "text": [
            "489it [00:06, 81.29it/s]"
          ]
        },
        {
          "output_type": "stream",
          "name": "stdout",
          "text": [
            "tensor([[2.6421]], device='cuda:0')\n",
            "tensor([[1.8675]], device='cuda:0')\n",
            "tensor([[4.2994]], device='cuda:0')\n",
            "tensor([[3.9629]], device='cuda:0')\n",
            "tensor([[2.7558]], device='cuda:0')\n",
            "tensor([[2.9220]], device='cuda:0')\n",
            "tensor([[5.7178]], device='cuda:0')\n",
            "tensor([[3.4838]], device='cuda:0')\n",
            "tensor([[5.1365]], device='cuda:0')\n",
            "tensor([[4.6584]], device='cuda:0')\n",
            "tensor([[6.0352]], device='cuda:0')\n",
            "tensor([[6.3134]], device='cuda:0')\n",
            "tensor([[3.1769]], device='cuda:0')\n",
            "tensor([[5.6319]], device='cuda:0')\n",
            "tensor([[4.4815]], device='cuda:0')\n",
            "tensor([[6.0115]], device='cuda:0')\n"
          ]
        },
        {
          "output_type": "stream",
          "name": "stderr",
          "text": [
            "500it [00:06, 76.88it/s]"
          ]
        },
        {
          "output_type": "stream",
          "name": "stdout",
          "text": [
            "tensor([[6.7395]], device='cuda:0')\n",
            "tensor([[5.9724]], device='cuda:0')\n",
            "tensor([[4.7655]], device='cuda:0')\n",
            "tensor([[4.9406]], device='cuda:0')\n",
            "tensor([[3.5558]], device='cuda:0')\n",
            "tensor([[3.5681]], device='cuda:0')\n",
            "tensor([[3.6912]], device='cuda:0')\n",
            "tensor([[4.4100]], device='cuda:0')\n"
          ]
        },
        {
          "output_type": "stream",
          "name": "stderr",
          "text": [
            "\n"
          ]
        }
      ]
    },
    {
      "cell_type": "code",
      "source": [
        "#Create List of Filepaths\n",
        "total = 0\n",
        "\n",
        "filename_1 = \"/content/mimic_test_student.csv\"\n",
        "filename_2 = \"/content/drive/MyDrive/test_key_2.csv\"\n",
        "list_of_keys = []\n",
        "with open(filename_1, 'r') as csvfile:\n",
        "  with open(filename_2, 'w') as csvfile2:\n",
        "    datareader = csv.reader(csvfile)\n",
        "    datawriter = csv.writer(csvfile2)\n",
        "    datawriter.writerow(['/content/image_path', 'measurement'])\n",
        "    count = 1\n",
        "    for row in datareader:\n",
        "        if count != 1:\n",
        "          filepath = '/content/' + row[5]\n",
        "          datawriter.writerow([filepath, \"\"])\n",
        "        count +=1"
      ],
      "metadata": {
        "id": "ZQOavII6kwcS"
      },
      "execution_count": null,
      "outputs": []
    },
    {
      "cell_type": "code",
      "source": [
        "#Validation\n",
        "validation_dataset = ChestXRayDataset('/content/drive/MyDrive/Colab Notebooks/CSVs_from_part_1 /For Part 2/csv-validation-set.csv')\n",
        "validation_data_loader = torch.utils.data.DataLoader(dataset=validation_dataset, batch_size=16, shuffle=False, drop_last=False)\n",
        "\n",
        "write = csv.writer(open(\"/content/drive/MyDrive/Colab Notebooks/CSVs_from_part_1 /validation_results2.csv\", 'w'))\n",
        "write.writerow(['prediction', 'label'])\n",
        "sigmoid = nn.Sigmoid()\n",
        "total = 0\n",
        "model.eval()\n",
        "num_batches = len(validation_data_loader)\n",
        "# test_loss, correct = 0, 0\n",
        "with torch.no_grad():\n",
        "  total_correct = 0.\n",
        "\n",
        "  total_loss = 0.\n",
        "  total_loss_2 = 0.\n",
        "\n",
        "  total_samples = 0.\n",
        "  correct_train = 0.\n",
        "  count = 0\n",
        "\n",
        "  for step, sample in tqdm(enumerate(validation_data_loader)):\n",
        "    count += 1\n",
        "    sample['img'], sample['label'] = sample['img'].to(device), sample['label'].to(device)\n",
        "\n",
        "    pred = model(sample['img'])\n",
        "    pred = r(pred)\n",
        "\n",
        "    labels2 = sample['label']\n",
        "    labels2 = labels2.unsqueeze(dim=1)\n",
        "\n",
        "\n",
        "    loss2 = nn.L1Loss()\n",
        "    #Calculate Loss\n",
        "    _loss = loss(pred, labels2)\n",
        "    _loss2 = loss2(pred,labels2)\n",
        "    #Add Loss to Total Loss\n",
        "    total_loss += _loss.item()\n",
        "    total_loss_2 += _loss2.item()\n",
        "\n",
        "    #Count number of accurate predictions\n",
        "    correct_train += (pred == labels2).sum().item()\n",
        "    print(\"MSE Average Loss:\", total_loss/count)\n",
        "    print(\"MAE Average Loss:\", total_loss_2/count)\n",
        "\n",
        "  #Compute accuracy\n",
        "  accuracy = correct_train/(16 * count)\n",
        "  print(\"Accuracy:\", accuracy)\n",
        "\n",
        "  write.writerow([pred, labels2])\n",
        "\n",
        "# def test(dataloader, model, loss_fn):\n",
        "#     size = len(dataloader.dataset)\n",
        "#     num_batches = len(dataloader)\n",
        "#     model.eval()\n",
        "#     test_loss, correct = 0, 0\n",
        "#     with torch.no_grad():\n",
        "#         for step, sample in tqdm(enumerate(dataloader)):\n",
        "#             sample['img'], sample['label'] = sample['img'].to(device), sample['label'].to(device)\n",
        "\n",
        "#             pred = model(sample['img'])\n",
        "#             pred = sigmoid(pred)\n",
        "\n",
        "#             print((sample['label']))\n",
        "#             print(pred)\n",
        "\n",
        "#             write.writerow([list[pred], list[sample['label']]])\n",
        "# #     # test_loss += loss_fn(pred, y).item()\n",
        "# #     #         correct += (pred.argmax(1) == y).type(torch.float).sum().item()\n",
        "# #     # test_loss /= num_batches\n",
        "# #     # correct /= size\n",
        "# #     # print(f\"Test Error: \\n Accuracy: {(100*correct):>0.1f}%, Avg loss: {test_loss:>8f} \\n\")\n",
        "\n",
        "# # ckpt = torch.load(\"/content/best.pkl\")\n",
        "# # model.load_state_dict(ckpt[\"state_dict\"])\n",
        "\n",
        "\n"
      ],
      "metadata": {
        "id": "M5osagFf5Fox",
        "colab": {
          "base_uri": "https://localhost:8080/"
        },
        "outputId": "12306834-4f9e-4a8e-b098-6ec4d1f311ae"
      },
      "execution_count": null,
      "outputs": [
        {
          "output_type": "stream",
          "name": "stderr",
          "text": [
            "0it [00:00, ?it/s]/usr/local/lib/python3.10/dist-packages/torchvision/transforms/functional.py:1603: UserWarning: The default value of the antialias parameter of all the resizing transforms (Resize(), RandomResizedCrop(), etc.) will change from None to True in v0.17, in order to be consistent across the PIL and Tensor backends. To suppress this warning, directly pass antialias=True (recommended, future default), antialias=None (current default, which means False for Tensors and True for PIL), or antialias=False (only works on Tensors - PIL will still use antialiasing). This also applies if you are using the inference transforms from the models weights: update the call to weights.transforms(antialias=True).\n",
            "  warnings.warn(\n",
            "2it [00:00, 14.10it/s]"
          ]
        },
        {
          "output_type": "stream",
          "name": "stdout",
          "text": [
            "MSE Average Loss: 4.0031507729224085\n",
            "MAE Average Loss: 1.6035685896873475\n",
            "MSE Average Loss: 2.417155422456923\n",
            "MAE Average Loss: 1.19242971688509\n",
            "MSE Average Loss: 2.59303679787149\n",
            "MAE Average Loss: 1.240964158376058\n"
          ]
        },
        {
          "output_type": "stream",
          "name": "stderr",
          "text": [
            "6it [00:00, 14.14it/s]"
          ]
        },
        {
          "output_type": "stream",
          "name": "stdout",
          "text": [
            "MSE Average Loss: 2.5807889316963775\n",
            "MAE Average Loss: 1.26352653875947\n",
            "MSE Average Loss: 2.8567750412465474\n",
            "MAE Average Loss: 1.337711856365204\n",
            "MSE Average Loss: 3.3970449210082205\n",
            "MAE Average Loss: 1.409437585870425\n"
          ]
        },
        {
          "output_type": "stream",
          "name": "stderr",
          "text": [
            "\r8it [00:00, 14.00it/s]"
          ]
        },
        {
          "output_type": "stream",
          "name": "stdout",
          "text": [
            "MSE Average Loss: 3.444771749921847\n",
            "MAE Average Loss: 1.4158293732575007\n",
            "MSE Average Loss: 3.565971733439717\n",
            "MAE Average Loss: 1.4587019108235837\n",
            "MSE Average Loss: 3.5921954464727994\n",
            "MAE Average Loss: 1.4685362590683833\n"
          ]
        },
        {
          "output_type": "stream",
          "name": "stderr",
          "text": [
            "12it [00:00, 14.05it/s]"
          ]
        },
        {
          "output_type": "stream",
          "name": "stdout",
          "text": [
            "MSE Average Loss: 3.384995093734638\n",
            "MAE Average Loss: 1.4219714337587357\n",
            "MSE Average Loss: 3.1388034195270347\n",
            "MAE Average Loss: 1.354596988179467\n",
            "MSE Average Loss: 3.1235751619109666\n",
            "MAE Average Loss: 1.348536156117916\n"
          ]
        },
        {
          "output_type": "stream",
          "name": "stderr",
          "text": [
            "\r14it [00:00, 14.15it/s]"
          ]
        },
        {
          "output_type": "stream",
          "name": "stdout",
          "text": [
            "MSE Average Loss: 3.0730612636869883\n",
            "MAE Average Loss: 1.336721854714247\n",
            "MSE Average Loss: 3.007305219839295\n",
            "MAE Average Loss: 1.3305333216275488\n",
            "MSE Average Loss: 2.8890984238508444\n",
            "MAE Average Loss: 1.2999681955575944\n"
          ]
        },
        {
          "output_type": "stream",
          "name": "stderr",
          "text": [
            "18it [00:01, 14.08it/s]"
          ]
        },
        {
          "output_type": "stream",
          "name": "stdout",
          "text": [
            "MSE Average Loss: 2.8137900141572136\n",
            "MAE Average Loss: 1.2877903368324042\n",
            "MSE Average Loss: 3.0485649134240473\n",
            "MAE Average Loss: 1.3438969126519036\n",
            "MSE Average Loss: 2.948158124922261\n",
            "MAE Average Loss: 1.3212365988228056\n"
          ]
        },
        {
          "output_type": "stream",
          "name": "stderr",
          "text": [
            "\r20it [00:01, 14.01it/s]"
          ]
        },
        {
          "output_type": "stream",
          "name": "stdout",
          "text": [
            "MSE Average Loss: 2.9127018963398243\n",
            "MAE Average Loss: 1.3157300106788936\n",
            "MSE Average Loss: 2.871564910445244\n",
            "MAE Average Loss: 1.3041749018430708\n",
            "MSE Average Loss: 2.9082538967410096\n",
            "MAE Average Loss: 1.3150916428793042\n"
          ]
        },
        {
          "output_type": "stream",
          "name": "stderr",
          "text": [
            "24it [00:01, 13.88it/s]"
          ]
        },
        {
          "output_type": "stream",
          "name": "stdout",
          "text": [
            "MSE Average Loss: 2.8665568312405085\n",
            "MAE Average Loss: 1.305579482696273\n",
            "MSE Average Loss: 2.844792560872174\n",
            "MAE Average Loss: 1.300897958745127\n",
            "MSE Average Loss: 2.7687025525376066\n",
            "MAE Average Loss: 1.278920833269755\n"
          ]
        },
        {
          "output_type": "stream",
          "name": "stderr",
          "text": [
            "\r26it [00:01, 13.87it/s]"
          ]
        },
        {
          "output_type": "stream",
          "name": "stdout",
          "text": [
            "MSE Average Loss: 2.695502650509302\n",
            "MAE Average Loss: 1.25877309936285\n",
            "MSE Average Loss: 2.6735738460255924\n",
            "MAE Average Loss: 1.2581506946339058\n",
            "MSE Average Loss: 2.621420334351489\n",
            "MAE Average Loss: 1.24675614166039\n"
          ]
        },
        {
          "output_type": "stream",
          "name": "stderr",
          "text": [
            "30it [00:02, 13.69it/s]"
          ]
        },
        {
          "output_type": "stream",
          "name": "stdout",
          "text": [
            "MSE Average Loss: 2.5655574562994348\n",
            "MAE Average Loss: 1.230127329113228\n",
            "MSE Average Loss: 2.5569132335002265\n",
            "MAE Average Loss: 1.2306054273042186\n",
            "MSE Average Loss: 2.550245710879865\n",
            "MAE Average Loss: 1.2343486277759075\n"
          ]
        },
        {
          "output_type": "stream",
          "name": "stderr",
          "text": [
            "\r32it [00:02, 13.78it/s]"
          ]
        },
        {
          "output_type": "stream",
          "name": "stdout",
          "text": [
            "MSE Average Loss: 2.5439928598301584\n",
            "MAE Average Loss: 1.2356067986738295\n",
            "MSE Average Loss: 2.5214481407384004\n",
            "MAE Average Loss: 1.2298933107871561\n",
            "MSE Average Loss: 2.518143869063539\n",
            "MAE Average Loss: 1.2314505944197827\n"
          ]
        },
        {
          "output_type": "stream",
          "name": "stderr",
          "text": [
            "36it [00:02, 13.75it/s]"
          ]
        },
        {
          "output_type": "stream",
          "name": "stdout",
          "text": [
            "MSE Average Loss: 2.545206112529891\n",
            "MAE Average Loss: 1.2382776178419588\n",
            "MSE Average Loss: 2.5346872787624464\n",
            "MAE Average Loss: 1.2332732390080177\n",
            "MSE Average Loss: 2.4808169819141885\n",
            "MAE Average Loss: 1.214648295732008\n"
          ]
        },
        {
          "output_type": "stream",
          "name": "stderr",
          "text": [
            "\r38it [00:02, 13.78it/s]"
          ]
        },
        {
          "output_type": "stream",
          "name": "stdout",
          "text": [
            "MSE Average Loss: 2.430769494963406\n",
            "MAE Average Loss: 1.1986258613499434\n",
            "MSE Average Loss: 2.3926432593037257\n",
            "MAE Average Loss: 1.1887186426473288\n",
            "MSE Average Loss: 2.3838479685861462\n",
            "MAE Average Loss: 1.1853409548218432\n"
          ]
        },
        {
          "output_type": "stream",
          "name": "stderr",
          "text": [
            "42it [00:03, 13.79it/s]"
          ]
        },
        {
          "output_type": "stream",
          "name": "stdout",
          "text": [
            "MSE Average Loss: 2.386310491879068\n",
            "MAE Average Loss: 1.186575967557728\n",
            "MSE Average Loss: 2.4039687505914418\n",
            "MAE Average Loss: 1.1911868590770698\n",
            "MSE Average Loss: 2.3817740165206422\n",
            "MAE Average Loss: 1.1874751465306395\n"
          ]
        },
        {
          "output_type": "stream",
          "name": "stderr",
          "text": [
            "\r44it [00:03, 13.66it/s]"
          ]
        },
        {
          "output_type": "stream",
          "name": "stdout",
          "text": [
            "MSE Average Loss: 2.362715706880857\n",
            "MAE Average Loss: 1.1852228087394736\n",
            "MSE Average Loss: 2.3724634532360978\n",
            "MAE Average Loss: 1.1883729182522405\n",
            "MSE Average Loss: 2.3483674748722474\n",
            "MAE Average Loss: 1.184767519864771\n"
          ]
        },
        {
          "output_type": "stream",
          "name": "stderr",
          "text": [
            "48it [00:03, 13.65it/s]"
          ]
        },
        {
          "output_type": "stream",
          "name": "stdout",
          "text": [
            "MSE Average Loss: 2.373241746494185\n",
            "MAE Average Loss: 1.187738364772952\n",
            "MSE Average Loss: 2.3639440900582462\n",
            "MAE Average Loss: 1.186804639690734\n",
            "MSE Average Loss: 2.356232514600579\n",
            "MAE Average Loss: 1.183417437846462\n"
          ]
        },
        {
          "output_type": "stream",
          "name": "stderr",
          "text": [
            "\r50it [00:03, 13.71it/s]"
          ]
        },
        {
          "output_type": "stream",
          "name": "stdout",
          "text": [
            "MSE Average Loss: 2.3288092850086803\n",
            "MAE Average Loss: 1.1767905754702432\n",
            "MSE Average Loss: 2.3314799287066847\n",
            "MAE Average Loss: 1.1800507534146307\n",
            "MSE Average Loss: 2.3822965969425436\n",
            "MAE Average Loss: 1.1883201913506376\n"
          ]
        },
        {
          "output_type": "stream",
          "name": "stderr",
          "text": [
            "54it [00:03, 13.68it/s]"
          ]
        },
        {
          "output_type": "stream",
          "name": "stdout",
          "text": [
            "MSE Average Loss: 2.368665716689491\n",
            "MAE Average Loss: 1.1884359850333288\n",
            "MSE Average Loss: 2.361852002648891\n",
            "MAE Average Loss: 1.1865675613002957\n",
            "MSE Average Loss: 2.3587516991305364\n",
            "MAE Average Loss: 1.1857904358042612\n"
          ]
        },
        {
          "output_type": "stream",
          "name": "stderr",
          "text": [
            "\r56it [00:04, 13.50it/s]"
          ]
        },
        {
          "output_type": "stream",
          "name": "stdout",
          "text": [
            "MSE Average Loss: 2.3775273454915715\n",
            "MAE Average Loss: 1.186583994572813\n",
            "MSE Average Loss: 2.359639965691918\n",
            "MAE Average Loss: 1.1825767924210857\n",
            "MSE Average Loss: 2.3505533208204907\n",
            "MAE Average Loss: 1.1813393617408319\n"
          ]
        },
        {
          "output_type": "stream",
          "name": "stderr",
          "text": [
            "60it [00:04, 13.59it/s]"
          ]
        },
        {
          "output_type": "stream",
          "name": "stdout",
          "text": [
            "MSE Average Loss: 2.347462054726871\n",
            "MAE Average Loss: 1.1819039153127835\n",
            "MSE Average Loss: 2.330800770532286\n",
            "MAE Average Loss: 1.1780794947329214\n",
            "MSE Average Loss: 2.320142204837218\n",
            "MAE Average Loss: 1.1758230959872404\n"
          ]
        },
        {
          "output_type": "stream",
          "name": "stderr",
          "text": [
            "\r62it [00:04, 13.77it/s]"
          ]
        },
        {
          "output_type": "stream",
          "name": "stdout",
          "text": [
            "MSE Average Loss: 2.3225769161487846\n",
            "MAE Average Loss: 1.1734544260091468\n",
            "MSE Average Loss: 2.3330420544108423\n",
            "MAE Average Loss: 1.1762517004243789\n",
            "MSE Average Loss: 2.323940771730871\n",
            "MAE Average Loss: 1.173459490140279\n"
          ]
        },
        {
          "output_type": "stream",
          "name": "stderr",
          "text": [
            "66it [00:04, 13.73it/s]"
          ]
        },
        {
          "output_type": "stream",
          "name": "stdout",
          "text": [
            "MSE Average Loss: 2.3306795000285425\n",
            "MAE Average Loss: 1.1766533583402634\n",
            "MSE Average Loss: 2.311657104801229\n",
            "MAE Average Loss: 1.1723019288594905\n",
            "MSE Average Loss: 2.302027119432924\n",
            "MAE Average Loss: 1.168857300733075\n"
          ]
        },
        {
          "output_type": "stream",
          "name": "stderr",
          "text": [
            "\r68it [00:04, 13.66it/s]"
          ]
        },
        {
          "output_type": "stream",
          "name": "stdout",
          "text": [
            "MSE Average Loss: 2.294648886579076\n",
            "MAE Average Loss: 1.165750308490511\n",
            "MSE Average Loss: 2.3174112791527013\n",
            "MAE Average Loss: 1.1711239245008018\n",
            "MSE Average Loss: 2.3111977588263786\n",
            "MAE Average Loss: 1.1706790245529533\n"
          ]
        },
        {
          "output_type": "stream",
          "name": "stderr",
          "text": [
            "72it [00:05, 13.49it/s]"
          ]
        },
        {
          "output_type": "stream",
          "name": "stdout",
          "text": [
            "MSE Average Loss: 2.2883733049348716\n",
            "MAE Average Loss: 1.163972165754863\n",
            "MSE Average Loss: 2.2948945482814764\n",
            "MAE Average Loss: 1.1673291611419594\n",
            "MSE Average Loss: 2.294815354129256\n",
            "MAE Average Loss: 1.168537774143947\n"
          ]
        },
        {
          "output_type": "stream",
          "name": "stderr",
          "text": [
            "\r74it [00:05, 13.54it/s]"
          ]
        },
        {
          "output_type": "stream",
          "name": "stdout",
          "text": [
            "MSE Average Loss: 2.2857312605934466\n",
            "MAE Average Loss: 1.166926230959696\n",
            "MSE Average Loss: 2.2905715885869924\n",
            "MAE Average Loss: 1.1669268564597979\n",
            "MSE Average Loss: 2.317862829585415\n",
            "MAE Average Loss: 1.1708221582174299\n"
          ]
        },
        {
          "output_type": "stream",
          "name": "stderr",
          "text": [
            "78it [00:05, 13.64it/s]"
          ]
        },
        {
          "output_type": "stream",
          "name": "stdout",
          "text": [
            "MSE Average Loss: 2.3294212269230385\n",
            "MAE Average Loss: 1.1719364094694975\n",
            "MSE Average Loss: 2.312457488353462\n",
            "MAE Average Loss: 1.1673190360138939\n",
            "MSE Average Loss: 2.313794778035475\n",
            "MAE Average Loss: 1.1647744259964194\n"
          ]
        },
        {
          "output_type": "stream",
          "name": "stderr",
          "text": [
            "\r80it [00:05, 13.57it/s]"
          ]
        },
        {
          "output_type": "stream",
          "name": "stdout",
          "text": [
            "MSE Average Loss: 2.300476003356976\n",
            "MAE Average Loss: 1.1611521063914778\n",
            "MSE Average Loss: 2.299551120883705\n",
            "MAE Average Loss: 1.1609562976099546\n",
            "MSE Average Loss: 2.314717537935209\n",
            "MAE Average Loss: 1.1633544831548204\n"
          ]
        },
        {
          "output_type": "stream",
          "name": "stderr",
          "text": [
            "84it [00:06, 13.45it/s]"
          ]
        },
        {
          "output_type": "stream",
          "name": "stdout",
          "text": [
            "MSE Average Loss: 2.31310664924244\n",
            "MAE Average Loss: 1.1651642817367862\n",
            "MSE Average Loss: 2.3599669480383523\n",
            "MAE Average Loss: 1.174753540951803\n",
            "MSE Average Loss: 2.368961030214241\n",
            "MAE Average Loss: 1.1775305694590008\n"
          ]
        },
        {
          "output_type": "stream",
          "name": "stderr",
          "text": [
            "\r86it [00:06, 13.31it/s]"
          ]
        },
        {
          "output_type": "stream",
          "name": "stdout",
          "text": [
            "MSE Average Loss: 2.360561847194267\n",
            "MAE Average Loss: 1.1750380644202227\n",
            "MSE Average Loss: 2.3599208225275476\n",
            "MAE Average Loss: 1.174084076233381\n",
            "MSE Average Loss: 2.3628633156728216\n",
            "MAE Average Loss: 1.176060411282654\n"
          ]
        },
        {
          "output_type": "stream",
          "name": "stderr",
          "text": [
            "90it [00:06, 13.20it/s]"
          ]
        },
        {
          "output_type": "stream",
          "name": "stdout",
          "text": [
            "MSE Average Loss: 2.3632219265719985\n",
            "MAE Average Loss: 1.176505475982346\n",
            "MSE Average Loss: 2.3678625421784814\n",
            "MAE Average Loss: 1.1787007331010997\n",
            "MSE Average Loss: 2.358298068530784\n",
            "MAE Average Loss: 1.1773282116817099\n"
          ]
        },
        {
          "output_type": "stream",
          "name": "stderr",
          "text": [
            "\r92it [00:06, 13.26it/s]"
          ]
        },
        {
          "output_type": "stream",
          "name": "stdout",
          "text": [
            "MSE Average Loss: 2.352505469999502\n",
            "MAE Average Loss: 1.1751602949185682\n",
            "MSE Average Loss: 2.421736636545307\n",
            "MAE Average Loss: 1.1870978825928074\n",
            "MSE Average Loss: 2.428510926961536\n",
            "MAE Average Loss: 1.1894519297185762\n"
          ]
        },
        {
          "output_type": "stream",
          "name": "stderr",
          "text": [
            "96it [00:07, 13.19it/s]"
          ]
        },
        {
          "output_type": "stream",
          "name": "stdout",
          "text": [
            "MSE Average Loss: 2.4240192934981417\n",
            "MAE Average Loss: 1.1885208780302643\n",
            "MSE Average Loss: 2.4069025466529026\n",
            "MAE Average Loss: 1.1834855565115021\n",
            "MSE Average Loss: 2.4062021525209785\n",
            "MAE Average Loss: 1.1816466793262708\n"
          ]
        },
        {
          "output_type": "stream",
          "name": "stderr",
          "text": [
            "\r98it [00:07, 13.19it/s]"
          ]
        },
        {
          "output_type": "stream",
          "name": "stdout",
          "text": [
            "MSE Average Loss: 2.4123398735195485\n",
            "MAE Average Loss: 1.183396305328177\n",
            "MSE Average Loss: 2.3997822542821856\n",
            "MAE Average Loss: 1.1808101990545279\n",
            "MSE Average Loss: 2.3889672279050083\n",
            "MAE Average Loss: 1.1773682918964008\n"
          ]
        },
        {
          "output_type": "stream",
          "name": "stderr",
          "text": [
            "102it [00:07, 13.36it/s]"
          ]
        },
        {
          "output_type": "stream",
          "name": "stdout",
          "text": [
            "MSE Average Loss: 2.3832792077238225\n",
            "MAE Average Loss: 1.1759632004648446\n",
            "MSE Average Loss: 2.3795915861025243\n",
            "MAE Average Loss: 1.1771328821483222\n",
            "MSE Average Loss: 2.375803034313238\n",
            "MAE Average Loss: 1.175459263386095\n"
          ]
        },
        {
          "output_type": "stream",
          "name": "stderr",
          "text": [
            "\r104it [00:07, 13.44it/s]"
          ]
        },
        {
          "output_type": "stream",
          "name": "stdout",
          "text": [
            "MSE Average Loss: 2.370824191370818\n",
            "MAE Average Loss: 1.175550744212368\n",
            "MSE Average Loss: 2.3657102596093433\n",
            "MAE Average Loss: 1.174321807734668\n",
            "MSE Average Loss: 2.3619384532252297\n",
            "MAE Average Loss: 1.1738416248985697\n"
          ]
        },
        {
          "output_type": "stream",
          "name": "stderr",
          "text": [
            "106it [00:07, 13.63it/s]"
          ]
        },
        {
          "output_type": "stream",
          "name": "stdout",
          "text": [
            "MSE Average Loss: 2.366421943421276\n",
            "MAE Average Loss: 1.17446416401357\n",
            "Accuracy: 0.0\n"
          ]
        },
        {
          "output_type": "stream",
          "name": "stderr",
          "text": [
            "\n"
          ]
        }
      ]
    },
    {
      "cell_type": "code",
      "source": [
        "#Create List of Filenames without /content/\n",
        "\n",
        "+# model = # Model Architecture\n",
        "# ckpt = torch.load(\"/content/drive/MyDrive/best.pkl\")\n",
        "# model.load_state_dict(ckpt[\"state_dict\"])\n",
        "filename_3 = \"/content/drive/MyDrive/test_key.csv\"\n",
        "filename_4 =  \"/content/drive/MyDrive/test_key_2.csv\"\n",
        "\n",
        "# test_dataset = ChestXRayDataset(\"/content/drive/MyDrive/test_key.csv\")\n",
        "# test_loader = torch.utils.data.DataLoader(dataset=test_dataset, batch_size=1, shuffle=False, drop_last=False)\n",
        "\n",
        "# test_results = {\"image_path\": [], \"pred\": []}\n",
        "# # Write method to load in data from test_loader, compute model predictions, and append results to test_results dict\n",
        "with open(filename_4, 'w') as csvfile4:\n",
        "    datawriter = csv.writer(csvfile4)\n",
        "    with open(filename_3, 'r') as csvfile3:\n",
        "        datareader = csv.writer(csvfile3)\n",
        "    #     with torch.no_grad():\n",
        "    #       total_correct = 0.\n",
        "\n",
        "    #       total_loss = 0.\n",
        "    #       total_samples = 0.\n",
        "    #       correct_train = 0.\n",
        "    #       count = 0\n",
        "\n",
        "        for row in csvfile3:\n",
        "          if row[0].startswith(\"/content/\"):\n",
        "            answer = row[0][9:]\n",
        "            datawriter.writerow([answer])\n",
        "\n"
      ],
      "metadata": {
        "id": "_bK3_XQEi7q2"
      },
      "execution_count": null,
      "outputs": []
    },
    {
      "cell_type": "code",
      "source": [],
      "metadata": {
        "id": "OStU63uudg_8"
      },
      "execution_count": null,
      "outputs": []
    },
    {
      "cell_type": "markdown",
      "source": [
        "# Create Dataloaders\n",
        "We will implement a custom Dataset class to load in data. A custom Dataset class must have three methods: `__init__`, which sets up any class variables, `__len__`, which defines the total number of images, and `__getitem__`, which returns a single image and its paired label."
      ],
      "metadata": {
        "id": "QY7yvIM0yl4M"
      }
    },
    {
      "cell_type": "markdown",
      "source": [
        "# Define Training Components\n",
        "Here, define any necessary components that you need to train your model, such as the model architecture, the loss function, and the optimizer."
      ],
      "metadata": {
        "id": "2oGRC8Mk0ytJ"
      }
    }
  ]
}