{
  "cells": [
    {
      "cell_type": "markdown",
      "metadata": {
        "id": "view-in-github",
        "colab_type": "text"
      },
      "source": [
        "<a href=\"https://colab.research.google.com/github/carrotjamb/AIMI-Intern-Files/blob/main/_SECOND_FINAL_AIMI_Project_Part_2_Training_a_Vision_Model_to_Predict_ET_Distances_v9.ipynb\" target=\"_parent\"><img src=\"https://colab.research.google.com/assets/colab-badge.svg\" alt=\"Open In Colab\"/></a>"
      ]
    },
    {
      "cell_type": "markdown",
      "metadata": {
        "id": "uMfGLGNLnXk7"
      },
      "source": [
        "## AIMI High School Internship 2023\n",
        "### Notebook 2: Training a Vision Model to Predict ET Distances\n",
        "\n",
        "**The Problem**: Given a chest X-ray, our goal in this project is to predict the distance from an endotracheal tube to the carina. This is an important clinical task - endotracheal tubes that are positioned too far (>5cm) above the carina will not work effectively.\n",
        "\n",
        "**Your Second Task**: You should now have a training dataset consisting of (a) chest X-rays and (b) annotations indicating the distance of the endotracheal tube from the carina. Now, your goal is to train a computer vision model to predict endotracheal tube distance from the image. You have **two options** for this task, and you may attempt one or both of these:\n",
        "- *Distance Categorization* : Train a model to determine whether the position of a tube is abnormal (>5.0 cm) or normal (≤ 5.0 cm).\n",
        "- *Distance Prediction*: Train a model that predicts the distance of the endotracheal tube from the carina in centimeters.\n",
        "\n",
        "In this notebook, we provide some simple starter code to get you started on training a computer vision model. You are not required to use this template - feel free to modify as you see fit.\n",
        "\n",
        "**Submitting Your Model**: We have created a leaderboard where you can submit your model and view results on the held-out test set. We provide instructions below for submitting your model to the leaderboard. **Please follow these directions carefully**.\n",
        "\n",
        "We will evaluate your results on the held-out test set with the following evaluation metrics:\n",
        "- *Distance Categorization* : We will measure AUROC, which is a metric commonly used in healthcare tasks. See this blog for a good explanation of AUROC: https://glassboxmedicine.com/2019/02/23/measuring-performance-auc-auroc/\n",
        "- *Distance Prediction*: We will measure the mean average error (also known as L1 distance) between the predicted distances and the true distances.\n"
      ]
    },
    {
      "cell_type": "markdown",
      "metadata": {
        "id": "RJ1rTMrgpoil"
      },
      "source": [
        "## Load Data\n",
        "Before you begin, make sure to go to `Runtime` > `Change Runtime Type` and select a T4 GPU. Then, upload `data.zip`. It should take about 10 minutes for these files to be uploaded. Then, run the following cells to unzip the dataset (which should take < 10 seconds)"
      ]
    },
    {
      "cell_type": "code",
      "execution_count": null,
      "metadata": {
        "colab": {
          "base_uri": "https://localhost:8080/"
        },
        "id": "ytMQzLJindpR",
        "outputId": "3382e1fe-fc6b-4304-ba3f-eb15a0c31f1b"
      },
      "outputs": [
        {
          "name": "stdout",
          "output_type": "stream",
          "text": [
            "Mounted at /content/drive\n"
          ]
        }
      ],
      "source": [
        "from google.colab import drive\n",
        "drive.mount('/content/drive')"
      ]
    },
    {
      "cell_type": "code",
      "execution_count": null,
      "metadata": {
        "colab": {
          "base_uri": "https://localhost:8080/"
        },
        "id": "bZQ1h6dcsQ-4",
        "outputId": "f6f77284-b6b3-4e3b-a479-0d19fe6740ee"
      },
      "outputs": [
        {
          "name": "stdout",
          "output_type": "stream",
          "text": [
            "Archive:  /content/drive/MyDrive/Colab Notebooks/drive-download-20230620T044532Z-001 (1).zip\n",
            "  inflating: mimic_test_student.csv  \n",
            "  inflating: mimic_train_student.csv  \n",
            "  inflating: mimic-test.zip          \n",
            "  inflating: mimic-train.zip         \n"
          ]
        }
      ],
      "source": [
        "!unzip /content/drive/MyDrive/Colab\\ Notebooks/drive-download-20230620T044532Z-001\\ \\(1\\).zip"
      ]
    },
    {
      "cell_type": "code",
      "execution_count": null,
      "metadata": {
        "id": "ySb9AsmBp-Gz"
      },
      "outputs": [],
      "source": [
        "!unzip -qq /content/mimic-train.zip"
      ]
    },
    {
      "cell_type": "code",
      "execution_count": null,
      "metadata": {
        "id": "Bqeesviqp_hN"
      },
      "outputs": [],
      "source": [
        "!unzip -qq /content/mimic-test.zip"
      ]
    },
    {
      "cell_type": "markdown",
      "metadata": {
        "id": "q5etX4eYtu_s"
      },
      "source": [
        "## Import Libraries\n",
        "We are leveraging the PyTorch framework to train our models. For more information and tutorials on PyTorch, see this link: https://pytorch.org/tutorials/beginner/basics/intro.html"
      ]
    },
    {
      "cell_type": "code",
      "execution_count": null,
      "metadata": {
        "id": "BzhTFDi7tuPK"
      },
      "outputs": [],
      "source": [
        "# Some libraries that you may find useful are included here.\n",
        "# To import a library that isn't provided with Colab, use the following command: !pip install torchmetrics\n",
        "import torch\n",
        "import pandas as pd\n",
        "from PIL import Image\n",
        "import numpy as np\n",
        "from tqdm import tqdm\n",
        "import csv\n",
        "from torch.utils.data.dataset import TensorDataset\n",
        "import torchvision.models as models\n",
        "import torch.nn as nn\n",
        "import cv2\n",
        "\n",
        "#Set up GPU\n",
        "if torch.cuda.is_available():\n",
        "    device = torch.device(\"cuda\")\n",
        "else:\n",
        "    device = torch.device(\"cpu\")"
      ]
    },
    {
      "cell_type": "code",
      "execution_count": null,
      "metadata": {
        "id": "nNxRvkt67W2I"
      },
      "outputs": [],
      "source": [
        "filename_1 = \"/content/mimic_train_student.csv\"\n",
        "list_of_keys = []\n",
        "\n",
        "with open(filename_1, 'r') as csvfile:\n",
        "    datareader = csv.reader(csvfile)\n",
        "    for row in datareader:\n",
        "        img_path = \"/content/\" + str(row[4])\n",
        "        list_of_keys.append(img_path)\n",
        "\n",
        "filename_2 = \"/content/drive/MyDrive/Colab Notebooks/CSVs_from_part_1 /csv-part-2-v2-(results_1.16).csv\"\n",
        "list_of_labels = []\n",
        "\n",
        "with open(filename_2, 'r') as csvfile:\n",
        "    datareader = csv.reader(csvfile)\n",
        "    for row in datareader:\n",
        "        list_of_labels.append(row[1])\n",
        "\n",
        "with open('/content/drive/MyDrive/Colab Notebooks/CSVs_from_part_1 /For Part 2/csv-tester.csv', 'w') as f:\n",
        "    writer = csv.writer(f)\n",
        "    reader = csv.reader(f)\n",
        "    writer.writerows(zip(list_of_keys, list_of_labels))\n",
        "\n",
        "input = open('/content/drive/MyDrive/Colab Notebooks/CSVs_from_part_1 /For Part 2/csv-tester.csv', 'r')\n",
        "output = open('/content/drive/MyDrive/Colab Notebooks/CSVs_from_part_1 /For Part 2/csv-tester-removed.csv', 'w')\n",
        "writer = csv.writer(output)\n",
        "for row in csv.reader(input):\n",
        "    if row[1] != \"0.0\" and row[1] != \"\":\n",
        "        writer.writerow(row)\n",
        "\n",
        "#Get training set - 75% of\n",
        "input = open('/content/drive/MyDrive/Colab Notebooks/CSVs_from_part_1 /For Part 2/csv-tester-removed.csv', 'r')\n",
        "output = open('/content/drive/MyDrive/Colab Notebooks/CSVs_from_part_1 /For Part 2/csv-training-set.csv', 'w')\n",
        "writer2 = csv.writer(output)\n",
        "count = 0\n",
        "\n",
        "for row in csv.reader(input):\n",
        "    count += 1\n",
        "    if count < (0.75)*(len(list_of_keys)):\n",
        "        writer2.writerow(row)"
      ]
    },
    {
      "cell_type": "code",
      "execution_count": null,
      "metadata": {
        "id": "-4rUq8x6uWew"
      },
      "outputs": [],
      "source": [
        "#Get validation set - 25% of\n",
        "input = open('/content/drive/MyDrive/Colab Notebooks/CSVs_from_part_1 /For Part 2/csv-tester-removed.csv', 'r')\n",
        "output = open('/content/drive/MyDrive/Colab Notebooks/CSVs_from_part_1 /For Part 2/csv-validation-set.csv', 'w')\n",
        "writer2 = csv.writer(output)\n",
        "count = 0\n",
        "\n",
        "writer2.writerow(['/content/image_path', 'measurement'])\n",
        "\n",
        "for row in csv.reader(input):\n",
        "    count += 1\n",
        "    if count >= (0.75)*(len(list_of_keys)):\n",
        "        writer2.writerow(row)"
      ]
    },
    {
      "cell_type": "markdown",
      "metadata": {
        "id": "QY7yvIM0yl4M"
      },
      "source": [
        "# Create Dataloaders\n",
        "We will implement a custom Dataset class to load in data. A custom Dataset class must have three methods: `__init__`, which sets up any class variables, `__len__`, which defines the total number of images, and `__getitem__`, which returns a single image and its paired label."
      ]
    },
    {
      "cell_type": "code",
      "execution_count": null,
      "metadata": {
        "id": "FwH5586UqAnY"
      },
      "outputs": [],
      "source": [
        "from PIL import Image\n",
        "from torch.utils.data import Dataset\n",
        "import torchvision.transforms as transforms\n",
        "\n",
        "class ChestXRayDataset(Dataset):\n",
        "\n",
        "    def __init__(self, csv_file_key, transform=None, **kwargs):\n",
        "        super(ChestXRayDataset, self).__init__(**kwargs)\n",
        "\n",
        "        # # Fill in __init__() here\n",
        "        # self.chest_xray_labels = pd.read_csv(csv_file_labels)\n",
        "        self.chest_xray_key = pd.read_csv(csv_file_key)\n",
        "        self.transform = transform\n",
        "\n",
        "    def __len__(self):\n",
        "\n",
        "        # Fill in __len__() here\n",
        "        length = len(self.chest_xray_key)\n",
        "        return length\n",
        "\n",
        "    def __getitem__(self, idx):\n",
        "        out_dict = {\"idx\": torch.tensor(idx),}\n",
        "        convert_tensor = transforms.ToTensor()\n",
        "\n",
        "        # Fill in __getitem__() here\n",
        "        #Read in Image as\n",
        "        img_name = self.chest_xray_key['/content/image_path'][idx]\n",
        "        img = cv2.imread(img_name)\n",
        "        img = cv2.cvtColor(img, cv2.COLOR_BGR2RGB)\n",
        "        img = convert_tensor(img)\n",
        "\n",
        "        mean = [0.485, 0.456, 0.406]\n",
        "        std = [0.229, 0.224, 0.225]\n",
        "\n",
        "\n",
        "        transform = transforms.Compose([\n",
        "            transforms.Resize((224,224)),\n",
        "            transforms.Normalize(mean, std),\n",
        "        ])\n",
        "\n",
        "        normalized_image = transform(img)\n",
        "        out_dict[\"img\"] = normalized_image\n",
        "\n",
        "        #Convert measurement to category (abnormal if measurement greater than 5.0 cm, otherwise normal)\n",
        "        measurement = self.chest_xray_key['measurement'][idx]\n",
        "\n",
        "        label = 0\n",
        "        if measurement > 5.0:\n",
        "          #1 Corresponds to Abnormal\n",
        "          label = 1.0\n",
        "        else:\n",
        "          #0 Corresponds to Normal\n",
        "          label = 0.0\n",
        "\n",
        "        out_dict[\"label\"] = torch.tensor(label)\n",
        "\n",
        "        return out_dict\n"
      ]
    },
    {
      "cell_type": "markdown",
      "metadata": {
        "id": "2oGRC8Mk0ytJ"
      },
      "source": [
        "# Define Training Components\n",
        "Here, define any necessary components that you need to train your model, such as the model architecture, the loss function, and the optimizer."
      ]
    },
    {
      "cell_type": "code",
      "execution_count": null,
      "metadata": {
        "colab": {
          "background_save": true
        },
        "id": "-HeB-_-k0x_S",
        "outputId": "6f3dd9b2-698d-467b-b16b-4d32250ec5c4"
      },
      "outputs": [
        {
          "name": "stderr",
          "output_type": "stream",
          "text": [
            "Downloading: \"https://download.pytorch.org/models/resnet50-0676ba61.pth\" to /root/.cache/torch/hub/checkpoints/resnet50-0676ba61.pth\n",
            "100%|██████████| 97.8M/97.8M [00:00<00:00, 206MB/s]\n"
          ]
        },
        {
          "ename": "KeyboardInterrupt",
          "evalue": "ignored",
          "output_type": "error",
          "traceback": [
            "\u001b[0;31m---------------------------------------------------------------------------\u001b[0m",
            "\u001b[0;31mKeyboardInterrupt\u001b[0m                         Traceback (most recent call last)",
            "\u001b[0;32m<ipython-input-7-379fe9512259>\u001b[0m in \u001b[0;36m<cell line: 9>\u001b[0;34m()\u001b[0m\n\u001b[1;32m      7\u001b[0m \u001b[0mnew_layer\u001b[0m \u001b[0;34m=\u001b[0m \u001b[0mnn\u001b[0m\u001b[0;34m.\u001b[0m\u001b[0mLinear\u001b[0m\u001b[0;34m(\u001b[0m\u001b[0mnum_ftrs\u001b[0m\u001b[0;34m,\u001b[0m \u001b[0;36m1\u001b[0m\u001b[0;34m)\u001b[0m\u001b[0;34m\u001b[0m\u001b[0;34m\u001b[0m\u001b[0m\n\u001b[1;32m      8\u001b[0m \u001b[0mmodel\u001b[0m\u001b[0;34m.\u001b[0m\u001b[0mfc\u001b[0m \u001b[0;34m=\u001b[0m \u001b[0mnew_layer\u001b[0m\u001b[0;34m\u001b[0m\u001b[0;34m\u001b[0m\u001b[0m\n\u001b[0;32m----> 9\u001b[0;31m \u001b[0mmodel\u001b[0m \u001b[0;34m=\u001b[0m \u001b[0mmodel\u001b[0m\u001b[0;34m.\u001b[0m\u001b[0mto\u001b[0m\u001b[0;34m(\u001b[0m\u001b[0mdevice\u001b[0m\u001b[0;34m)\u001b[0m\u001b[0;34m\u001b[0m\u001b[0;34m\u001b[0m\u001b[0m\n\u001b[0m\u001b[1;32m     10\u001b[0m \u001b[0;34m\u001b[0m\u001b[0m\n\u001b[1;32m     11\u001b[0m \u001b[0;31m# Loss Function\u001b[0m\u001b[0;34m\u001b[0m\u001b[0;34m\u001b[0m\u001b[0m\n",
            "\u001b[0;32m/usr/local/lib/python3.10/dist-packages/torch/nn/modules/module.py\u001b[0m in \u001b[0;36mto\u001b[0;34m(self, *args, **kwargs)\u001b[0m\n\u001b[1;32m   1143\u001b[0m             \u001b[0;32mreturn\u001b[0m \u001b[0mt\u001b[0m\u001b[0;34m.\u001b[0m\u001b[0mto\u001b[0m\u001b[0;34m(\u001b[0m\u001b[0mdevice\u001b[0m\u001b[0;34m,\u001b[0m \u001b[0mdtype\u001b[0m \u001b[0;32mif\u001b[0m \u001b[0mt\u001b[0m\u001b[0;34m.\u001b[0m\u001b[0mis_floating_point\u001b[0m\u001b[0;34m(\u001b[0m\u001b[0;34m)\u001b[0m \u001b[0;32mor\u001b[0m \u001b[0mt\u001b[0m\u001b[0;34m.\u001b[0m\u001b[0mis_complex\u001b[0m\u001b[0;34m(\u001b[0m\u001b[0;34m)\u001b[0m \u001b[0;32melse\u001b[0m \u001b[0;32mNone\u001b[0m\u001b[0;34m,\u001b[0m \u001b[0mnon_blocking\u001b[0m\u001b[0;34m)\u001b[0m\u001b[0;34m\u001b[0m\u001b[0;34m\u001b[0m\u001b[0m\n\u001b[1;32m   1144\u001b[0m \u001b[0;34m\u001b[0m\u001b[0m\n\u001b[0;32m-> 1145\u001b[0;31m         \u001b[0;32mreturn\u001b[0m \u001b[0mself\u001b[0m\u001b[0;34m.\u001b[0m\u001b[0m_apply\u001b[0m\u001b[0;34m(\u001b[0m\u001b[0mconvert\u001b[0m\u001b[0;34m)\u001b[0m\u001b[0;34m\u001b[0m\u001b[0;34m\u001b[0m\u001b[0m\n\u001b[0m\u001b[1;32m   1146\u001b[0m \u001b[0;34m\u001b[0m\u001b[0m\n\u001b[1;32m   1147\u001b[0m     def register_full_backward_pre_hook(\n",
            "\u001b[0;32m/usr/local/lib/python3.10/dist-packages/torch/nn/modules/module.py\u001b[0m in \u001b[0;36m_apply\u001b[0;34m(self, fn)\u001b[0m\n\u001b[1;32m    795\u001b[0m     \u001b[0;32mdef\u001b[0m \u001b[0m_apply\u001b[0m\u001b[0;34m(\u001b[0m\u001b[0mself\u001b[0m\u001b[0;34m,\u001b[0m \u001b[0mfn\u001b[0m\u001b[0;34m)\u001b[0m\u001b[0;34m:\u001b[0m\u001b[0;34m\u001b[0m\u001b[0;34m\u001b[0m\u001b[0m\n\u001b[1;32m    796\u001b[0m         \u001b[0;32mfor\u001b[0m \u001b[0mmodule\u001b[0m \u001b[0;32min\u001b[0m \u001b[0mself\u001b[0m\u001b[0;34m.\u001b[0m\u001b[0mchildren\u001b[0m\u001b[0;34m(\u001b[0m\u001b[0;34m)\u001b[0m\u001b[0;34m:\u001b[0m\u001b[0;34m\u001b[0m\u001b[0;34m\u001b[0m\u001b[0m\n\u001b[0;32m--> 797\u001b[0;31m             \u001b[0mmodule\u001b[0m\u001b[0;34m.\u001b[0m\u001b[0m_apply\u001b[0m\u001b[0;34m(\u001b[0m\u001b[0mfn\u001b[0m\u001b[0;34m)\u001b[0m\u001b[0;34m\u001b[0m\u001b[0;34m\u001b[0m\u001b[0m\n\u001b[0m\u001b[1;32m    798\u001b[0m \u001b[0;34m\u001b[0m\u001b[0m\n\u001b[1;32m    799\u001b[0m         \u001b[0;32mdef\u001b[0m \u001b[0mcompute_should_use_set_data\u001b[0m\u001b[0;34m(\u001b[0m\u001b[0mtensor\u001b[0m\u001b[0;34m,\u001b[0m \u001b[0mtensor_applied\u001b[0m\u001b[0;34m)\u001b[0m\u001b[0;34m:\u001b[0m\u001b[0;34m\u001b[0m\u001b[0;34m\u001b[0m\u001b[0m\n",
            "\u001b[0;32m/usr/local/lib/python3.10/dist-packages/torch/nn/modules/module.py\u001b[0m in \u001b[0;36m_apply\u001b[0;34m(self, fn)\u001b[0m\n\u001b[1;32m    818\u001b[0m             \u001b[0;31m# `with torch.no_grad():`\u001b[0m\u001b[0;34m\u001b[0m\u001b[0;34m\u001b[0m\u001b[0m\n\u001b[1;32m    819\u001b[0m             \u001b[0;32mwith\u001b[0m \u001b[0mtorch\u001b[0m\u001b[0;34m.\u001b[0m\u001b[0mno_grad\u001b[0m\u001b[0;34m(\u001b[0m\u001b[0;34m)\u001b[0m\u001b[0;34m:\u001b[0m\u001b[0;34m\u001b[0m\u001b[0;34m\u001b[0m\u001b[0m\n\u001b[0;32m--> 820\u001b[0;31m                 \u001b[0mparam_applied\u001b[0m \u001b[0;34m=\u001b[0m \u001b[0mfn\u001b[0m\u001b[0;34m(\u001b[0m\u001b[0mparam\u001b[0m\u001b[0;34m)\u001b[0m\u001b[0;34m\u001b[0m\u001b[0;34m\u001b[0m\u001b[0m\n\u001b[0m\u001b[1;32m    821\u001b[0m             \u001b[0mshould_use_set_data\u001b[0m \u001b[0;34m=\u001b[0m \u001b[0mcompute_should_use_set_data\u001b[0m\u001b[0;34m(\u001b[0m\u001b[0mparam\u001b[0m\u001b[0;34m,\u001b[0m \u001b[0mparam_applied\u001b[0m\u001b[0;34m)\u001b[0m\u001b[0;34m\u001b[0m\u001b[0;34m\u001b[0m\u001b[0m\n\u001b[1;32m    822\u001b[0m             \u001b[0;32mif\u001b[0m \u001b[0mshould_use_set_data\u001b[0m\u001b[0;34m:\u001b[0m\u001b[0;34m\u001b[0m\u001b[0;34m\u001b[0m\u001b[0m\n",
            "\u001b[0;32m/usr/local/lib/python3.10/dist-packages/torch/nn/modules/module.py\u001b[0m in \u001b[0;36mconvert\u001b[0;34m(t)\u001b[0m\n\u001b[1;32m   1141\u001b[0m                 return t.to(device, dtype if t.is_floating_point() or t.is_complex() else None,\n\u001b[1;32m   1142\u001b[0m                             non_blocking, memory_format=convert_to_format)\n\u001b[0;32m-> 1143\u001b[0;31m             \u001b[0;32mreturn\u001b[0m \u001b[0mt\u001b[0m\u001b[0;34m.\u001b[0m\u001b[0mto\u001b[0m\u001b[0;34m(\u001b[0m\u001b[0mdevice\u001b[0m\u001b[0;34m,\u001b[0m \u001b[0mdtype\u001b[0m \u001b[0;32mif\u001b[0m \u001b[0mt\u001b[0m\u001b[0;34m.\u001b[0m\u001b[0mis_floating_point\u001b[0m\u001b[0;34m(\u001b[0m\u001b[0;34m)\u001b[0m \u001b[0;32mor\u001b[0m \u001b[0mt\u001b[0m\u001b[0;34m.\u001b[0m\u001b[0mis_complex\u001b[0m\u001b[0;34m(\u001b[0m\u001b[0;34m)\u001b[0m \u001b[0;32melse\u001b[0m \u001b[0;32mNone\u001b[0m\u001b[0;34m,\u001b[0m \u001b[0mnon_blocking\u001b[0m\u001b[0;34m)\u001b[0m\u001b[0;34m\u001b[0m\u001b[0;34m\u001b[0m\u001b[0m\n\u001b[0m\u001b[1;32m   1144\u001b[0m \u001b[0;34m\u001b[0m\u001b[0m\n\u001b[1;32m   1145\u001b[0m         \u001b[0;32mreturn\u001b[0m \u001b[0mself\u001b[0m\u001b[0;34m.\u001b[0m\u001b[0m_apply\u001b[0m\u001b[0;34m(\u001b[0m\u001b[0mconvert\u001b[0m\u001b[0;34m)\u001b[0m\u001b[0;34m\u001b[0m\u001b[0;34m\u001b[0m\u001b[0m\n",
            "\u001b[0;31mKeyboardInterrupt\u001b[0m: "
          ]
        }
      ],
      "source": [
        "# Model Architecture\n",
        "# model_ft = torch.hub.load('pytorch/vision:v0.10.0', 'resnet50', weights='ResNet50_Weights.IMAGENET1K_V1')\n",
        "model = models.resnet50(weights='ResNet50_Weights.IMAGENET1K_V1')\n",
        "\n",
        "#Set Model Feature Output to 1\n",
        "num_ftrs = model.fc.in_features\n",
        "new_layer = nn.Linear(num_ftrs, 1)\n",
        "model.fc = new_layer\n",
        "model = model.to(device)\n",
        "\n",
        "# Loss Function\n",
        "loss = nn.BCELoss()\n",
        "\n",
        "#Optimizer\n",
        "opt = torch.optim.AdamW(model.parameters(), lr=9e-5) # AdamW is a commonly-used optimizer. Feel free to modify."
      ]
    },
    {
      "cell_type": "markdown",
      "metadata": {
        "id": "TXvOaNPB1OGH"
      },
      "source": [
        "## Training Code\n",
        "We provide starter code below that implements a simple training loop in PyTorch. Feel free to modify as you see fit."
      ]
    },
    {
      "cell_type": "code",
      "execution_count": null,
      "metadata": {
        "id": "pWnzKime0exc"
      },
      "outputs": [],
      "source": [
        "sigmoid = nn.Sigmoid()\n",
        "\n",
        "def train(model, loss_fn, train_loader, opt, max_epoch, validation_loader):\n",
        "  for epoch in range(0, max_epoch):\n",
        "      #Training\n",
        "      model.train()\n",
        "      total_loss = 0.\n",
        "      correct_train = 0.\n",
        "      num_batches = len(train_loader)\n",
        "      count = 0\n",
        "      #Loop through training set\n",
        "      for step, sample in tqdm(enumerate(train_loader)):\n",
        "        count += 1\n",
        "        #Send image/labels to gpu\n",
        "        image = sample['img'].to(device)\n",
        "        labels = sample['label'].to(device)\n",
        "        labels = labels.unsqueeze(dim=1) #Converts labels to (16, 1) tensor\n",
        "\n",
        "        opt.zero_grad()\n",
        "\n",
        "        pred = model(image)\n",
        "        pred = sigmoid(pred)\n",
        "\n",
        "        loss = loss_fn(pred, labels)\n",
        "\n",
        "\n",
        "        loss.backward()\n",
        "        opt.step()\n",
        "\n",
        "        if count % 10 == 0:\n",
        "          print(loss)\n",
        "\n",
        "        total_loss += loss.item()\n",
        "\n",
        "        #Compute average loss\n",
        "        print(\"Average Loss:\", total_loss/count)\n",
        "\n",
        "        #Count number of accurate predictions\n",
        "        correct_train += (pred.round() == labels).sum().item()\n",
        "\n",
        "        #Compute accuracy\n",
        "        accuracy = correct_train/(count*16)\n",
        "        print(\"Accuracy:\", accuracy)\n",
        "\n",
        "\n",
        "      # #Validation\n",
        "      # model.eval()\n",
        "      # total_loss = 0.\n",
        "      # correct_train = 0.\n",
        "      # num_batches = len(validation_loader)\n",
        "      # # test_loss, correct = 0, 0\n",
        "      # with torch.no_grad():\n",
        "      #   total_correct = 0\n",
        "      #   total_samples = 0\n",
        "\n",
        "      #   for step, sample in tqdm(enumerate(validation_loader)):\n",
        "      #     sample['img'], sample['label'] = sample['img'].to(device), sample['label'].to(device)\n",
        "\n",
        "      #     pred = model(sample['img'])\n",
        "      #     pred = sigmoid(pred)\n",
        "      #     pred = torch.round(pred)\n",
        "\n",
        "      #     labels2 = sample['label']\n",
        "      #     labels2 = labels2.unsqueeze(dim=1)\n",
        "\n",
        "      #     #Calculate Loss\n",
        "      #     loss = loss_fn(pred, labels2)\n",
        "      #     #Add Loss to Total Loss\n",
        "      #     total_loss += loss.item()\n",
        "\n",
        "      #     #Count number of accurate predictions\n",
        "      #     correct_train += (pred == labels2).sum().item()\n",
        "\n",
        "      #   #Compute average loss\n",
        "      #   print(\"Average Loss:\", total_loss/num_batches)\n",
        "\n",
        "      #   #Compute accuracy\n",
        "      #   accuracy = correct_train/(32 * num_batches)\n",
        "      #   print(\"Accuracy:\", accuracy)"
      ]
    },
    {
      "cell_type": "code",
      "execution_count": null,
      "metadata": {
        "colab": {
          "base_uri": "https://localhost:8080/"
        },
        "id": "yWl9WNpX454H",
        "outputId": "1757ec28-2a9f-4e3c-824d-b99c4c133c55"
      },
      "outputs": [
        {
          "name": "stderr",
          "output_type": "stream",
          "text": [
            "\r0it [00:00, ?it/s]/usr/local/lib/python3.10/dist-packages/torchvision/transforms/functional.py:1603: UserWarning: The default value of the antialias parameter of all the resizing transforms (Resize(), RandomResizedCrop(), etc.) will change from None to True in v0.17, in order to be consistent across the PIL and Tensor backends. To suppress this warning, directly pass antialias=True (recommended, future default), antialias=None (current default, which means False for Tensors and True for PIL), or antialias=False (only works on Tensors - PIL will still use antialiasing). This also applies if you are using the inference transforms from the models weights: update the call to weights.transforms(antialias=True).\n",
            "  warnings.warn(\n",
            "2it [00:02,  1.05s/it]"
          ]
        },
        {
          "name": "stdout",
          "output_type": "stream",
          "text": [
            "Average Loss: 0.7063391208648682\n",
            "Accuracy: 0.375\n",
            "Average Loss: 0.6867991089820862\n",
            "Accuracy: 0.5\n"
          ]
        },
        {
          "name": "stderr",
          "output_type": "stream",
          "text": [
            "5it [00:02,  3.08it/s]"
          ]
        },
        {
          "name": "stdout",
          "output_type": "stream",
          "text": [
            "Average Loss: 0.6892081300417582\n",
            "Accuracy: 0.5208333333333334\n",
            "Average Loss: 0.6919962167739868\n",
            "Accuracy: 0.515625\n",
            "Average Loss: 0.6832981944084168\n",
            "Accuracy: 0.5375\n"
          ]
        },
        {
          "name": "stderr",
          "output_type": "stream",
          "text": [
            "8it [00:03,  5.17it/s]"
          ]
        },
        {
          "name": "stdout",
          "output_type": "stream",
          "text": [
            "Average Loss: 0.6892581085364023\n",
            "Accuracy: 0.5520833333333334\n",
            "Average Loss: 0.6779281411852155\n",
            "Accuracy: 0.5714285714285714\n",
            "Average Loss: 0.6826094686985016\n",
            "Accuracy: 0.5546875\n"
          ]
        },
        {
          "name": "stderr",
          "output_type": "stream",
          "text": [
            "\r10it [00:03,  6.52it/s]"
          ]
        },
        {
          "name": "stdout",
          "output_type": "stream",
          "text": [
            "Average Loss: 0.6648313734266493\n",
            "Accuracy: 0.5972222222222222\n",
            "tensor(0.6110, device='cuda:0', grad_fn=<BinaryCrossEntropyBackward0>)\n",
            "Average Loss: 0.6594502210617066\n",
            "Accuracy: 0.6125\n",
            "Average Loss: 0.6654205105521462\n",
            "Accuracy: 0.6079545454545454\n"
          ]
        },
        {
          "name": "stderr",
          "output_type": "stream",
          "text": [
            "14it [00:03,  8.39it/s]"
          ]
        },
        {
          "name": "stdout",
          "output_type": "stream",
          "text": [
            "Average Loss: 0.6584346195062002\n",
            "Accuracy: 0.6145833333333334\n",
            "Average Loss: 0.6643428985889142\n",
            "Accuracy: 0.6057692307692307\n",
            "Average Loss: 0.6629482422556195\n",
            "Accuracy: 0.6071428571428571\n"
          ]
        },
        {
          "name": "stderr",
          "output_type": "stream",
          "text": [
            "\r16it [00:03,  9.04it/s]"
          ]
        },
        {
          "name": "stdout",
          "output_type": "stream",
          "text": [
            "Average Loss: 0.6601635297139485\n",
            "Accuracy: 0.6125\n",
            "Average Loss: 0.6557807624340057\n",
            "Accuracy: 0.62109375\n",
            "Average Loss: 0.6496413525413064\n",
            "Accuracy: 0.6286764705882353\n"
          ]
        },
        {
          "name": "stderr",
          "output_type": "stream",
          "text": [
            "20it [00:04,  9.90it/s]"
          ]
        },
        {
          "name": "stdout",
          "output_type": "stream",
          "text": [
            "Average Loss: 0.6469240917099847\n",
            "Accuracy: 0.6284722222222222\n",
            "Average Loss: 0.6470349901600888\n",
            "Accuracy: 0.625\n",
            "tensor(0.5463, device='cuda:0', grad_fn=<BinaryCrossEntropyBackward0>)\n",
            "Average Loss: 0.6419970721006394\n",
            "Accuracy: 0.628125\n"
          ]
        },
        {
          "name": "stderr",
          "output_type": "stream",
          "text": [
            "\r22it [00:04, 10.06it/s]"
          ]
        },
        {
          "name": "stdout",
          "output_type": "stream",
          "text": [
            "Average Loss: 0.6386921121960595\n",
            "Accuracy: 0.6309523809523809\n",
            "Average Loss: 0.6335717791860754\n",
            "Accuracy: 0.6335227272727273\n",
            "Average Loss: 0.6234750333039657\n",
            "Accuracy: 0.6440217391304348\n"
          ]
        },
        {
          "name": "stderr",
          "output_type": "stream",
          "text": [
            "26it [00:04, 10.34it/s]"
          ]
        },
        {
          "name": "stdout",
          "output_type": "stream",
          "text": [
            "Average Loss: 0.62233667075634\n",
            "Accuracy: 0.6458333333333334\n",
            "Average Loss: 0.6241887903213501\n",
            "Accuracy: 0.6425\n",
            "Average Loss: 0.6217830249896417\n",
            "Accuracy: 0.6442307692307693\n"
          ]
        },
        {
          "name": "stderr",
          "output_type": "stream",
          "text": [
            "\r28it [00:04, 10.38it/s]"
          ]
        },
        {
          "name": "stdout",
          "output_type": "stream",
          "text": [
            "Average Loss: 0.6263894747804712\n",
            "Accuracy: 0.6435185185185185\n",
            "Average Loss: 0.6249779952423913\n",
            "Accuracy: 0.6428571428571429\n",
            "Average Loss: 0.6216076961879072\n",
            "Accuracy: 0.6443965517241379\n"
          ]
        },
        {
          "name": "stderr",
          "output_type": "stream",
          "text": [
            "32it [00:05, 10.46it/s]"
          ]
        },
        {
          "name": "stdout",
          "output_type": "stream",
          "text": [
            "tensor(0.4226, device='cuda:0', grad_fn=<BinaryCrossEntropyBackward0>)\n",
            "Average Loss: 0.6149752368529637\n",
            "Accuracy: 0.6520833333333333\n",
            "Average Loss: 0.6184376084035442\n",
            "Accuracy: 0.6512096774193549\n",
            "Average Loss: 0.6116546550765634\n",
            "Accuracy: 0.658203125\n"
          ]
        },
        {
          "name": "stderr",
          "output_type": "stream",
          "text": [
            "\r34it [00:05, 10.49it/s]"
          ]
        },
        {
          "name": "stdout",
          "output_type": "stream",
          "text": [
            "Average Loss: 0.6123470546621265\n",
            "Accuracy: 0.6553030303030303\n",
            "Average Loss: 0.6214927794302211\n",
            "Accuracy: 0.6544117647058824\n",
            "Average Loss: 0.6183015423161643\n",
            "Accuracy: 0.6571428571428571\n"
          ]
        },
        {
          "name": "stderr",
          "output_type": "stream",
          "text": [
            "38it [00:05, 10.65it/s]"
          ]
        },
        {
          "name": "stdout",
          "output_type": "stream",
          "text": [
            "Average Loss: 0.6126968844069375\n",
            "Accuracy: 0.6614583333333334\n",
            "Average Loss: 0.6132805750176713\n",
            "Accuracy: 0.6587837837837838\n",
            "Average Loss: 0.6154640018939972\n",
            "Accuracy: 0.6611842105263158\n"
          ]
        },
        {
          "name": "stderr",
          "output_type": "stream",
          "text": [
            "\r40it [00:06, 10.61it/s]"
          ]
        },
        {
          "name": "stdout",
          "output_type": "stream",
          "text": [
            "Average Loss: 0.6126491763652899\n",
            "Accuracy: 0.6618589743589743\n",
            "tensor(0.4714, device='cuda:0', grad_fn=<BinaryCrossEntropyBackward0>)\n",
            "Average Loss: 0.6091180309653282\n",
            "Accuracy: 0.6671875\n",
            "Average Loss: 0.6083411748816328\n",
            "Accuracy: 0.6692073170731707\n"
          ]
        },
        {
          "name": "stderr",
          "output_type": "stream",
          "text": [
            "44it [00:06, 10.54it/s]"
          ]
        },
        {
          "name": "stdout",
          "output_type": "stream",
          "text": [
            "Average Loss: 0.6067561336926052\n",
            "Accuracy: 0.6681547619047619\n",
            "Average Loss: 0.6104399575743564\n",
            "Accuracy: 0.6656976744186046\n",
            "Average Loss: 0.614346981048584\n",
            "Accuracy: 0.6619318181818182\n"
          ]
        },
        {
          "name": "stderr",
          "output_type": "stream",
          "text": [
            "\r46it [00:06, 10.59it/s]"
          ]
        },
        {
          "name": "stdout",
          "output_type": "stream",
          "text": [
            "Average Loss: 0.6124168912569682\n",
            "Accuracy: 0.6638888888888889\n",
            "Average Loss: 0.6115658399851426\n",
            "Accuracy: 0.6644021739130435\n",
            "Average Loss: 0.6066149688781576\n",
            "Accuracy: 0.6688829787234043\n"
          ]
        },
        {
          "name": "stderr",
          "output_type": "stream",
          "text": [
            "50it [00:07, 10.69it/s]"
          ]
        },
        {
          "name": "stdout",
          "output_type": "stream",
          "text": [
            "Average Loss: 0.6056132155160109\n",
            "Accuracy: 0.6705729166666666\n",
            "Average Loss: 0.603024211465096\n",
            "Accuracy: 0.6747448979591837\n",
            "tensor(0.4784, device='cuda:0', grad_fn=<BinaryCrossEntropyBackward0>)\n",
            "Average Loss: 0.6005315899848938\n",
            "Accuracy: 0.67625\n"
          ]
        },
        {
          "name": "stderr",
          "output_type": "stream",
          "text": [
            "\r52it [00:07, 10.29it/s]"
          ]
        },
        {
          "name": "stdout",
          "output_type": "stream",
          "text": [
            "Average Loss: 0.5976450828944936\n",
            "Accuracy: 0.678921568627451\n",
            "Average Loss: 0.5975081656987851\n",
            "Accuracy: 0.6802884615384616\n"
          ]
        },
        {
          "name": "stderr",
          "output_type": "stream",
          "text": [
            "\r54it [00:07, 10.15it/s]"
          ]
        },
        {
          "name": "stdout",
          "output_type": "stream",
          "text": [
            "Average Loss: 0.5962754791637637\n",
            "Accuracy: 0.6804245283018868\n",
            "Average Loss: 0.5939111797897904\n",
            "Accuracy: 0.6817129629629629\n"
          ]
        },
        {
          "name": "stderr",
          "output_type": "stream",
          "text": [
            "\r56it [00:07, 10.13it/s]"
          ]
        },
        {
          "name": "stdout",
          "output_type": "stream",
          "text": [
            "Average Loss: 0.5919662925330076\n",
            "Accuracy: 0.6840909090909091\n",
            "Average Loss: 0.5949949425246034\n",
            "Accuracy: 0.6819196428571429\n",
            "Average Loss: 0.5925976278489096\n",
            "Accuracy: 0.6842105263157895\n"
          ]
        },
        {
          "name": "stderr",
          "output_type": "stream",
          "text": [
            "\r58it [00:07, 10.09it/s]"
          ]
        },
        {
          "name": "stdout",
          "output_type": "stream",
          "text": [
            "Average Loss: 0.5886027376199591\n",
            "Accuracy: 0.6885775862068966\n",
            "Average Loss: 0.5850042756331169\n",
            "Accuracy: 0.6927966101694916\n"
          ]
        },
        {
          "name": "stderr",
          "output_type": "stream",
          "text": [
            "61it [00:08,  9.80it/s]"
          ]
        },
        {
          "name": "stdout",
          "output_type": "stream",
          "text": [
            "tensor(0.8116, device='cuda:0', grad_fn=<BinaryCrossEntropyBackward0>)\n",
            "Average Loss: 0.5887804711858432\n",
            "Accuracy: 0.690625\n",
            "Average Loss: 0.5856923387675989\n",
            "Accuracy: 0.6915983606557377\n",
            "Average Loss: 0.5847505278164341\n"
          ]
        },
        {
          "name": "stderr",
          "output_type": "stream",
          "text": [
            "\r63it [00:08,  9.96it/s]"
          ]
        },
        {
          "name": "stdout",
          "output_type": "stream",
          "text": [
            "Accuracy: 0.6945564516129032\n",
            "Average Loss: 0.5891815078636956\n",
            "Accuracy: 0.6924603174603174\n",
            "Average Loss: 0.5872468412853777\n",
            "Accuracy: 0.6943359375\n"
          ]
        },
        {
          "name": "stderr",
          "output_type": "stream",
          "text": [
            "66it [00:08,  9.79it/s]"
          ]
        },
        {
          "name": "stdout",
          "output_type": "stream",
          "text": [
            "Average Loss: 0.5850534874659318\n",
            "Accuracy: 0.6971153846153846\n",
            "Average Loss: 0.5838905369693582\n",
            "Accuracy: 0.6988636363636364\n"
          ]
        },
        {
          "name": "stderr",
          "output_type": "stream",
          "text": [
            "\r68it [00:08,  9.96it/s]"
          ]
        },
        {
          "name": "stdout",
          "output_type": "stream",
          "text": [
            "Average Loss: 0.5842358349864163\n",
            "Accuracy: 0.6977611940298507\n",
            "Average Loss: 0.5893520927604508\n",
            "Accuracy: 0.6948529411764706\n",
            "Average Loss: 0.5877802488596543\n",
            "Accuracy: 0.697463768115942\n"
          ]
        },
        {
          "name": "stderr",
          "output_type": "stream",
          "text": [
            "\r70it [00:09, 10.03it/s]"
          ]
        },
        {
          "name": "stdout",
          "output_type": "stream",
          "text": [
            "tensor(0.3497, device='cuda:0', grad_fn=<BinaryCrossEntropyBackward0>)\n",
            "Average Loss: 0.5843786065067563\n",
            "Accuracy: 0.7008928571428571\n",
            "Average Loss: 0.5848585933866636\n",
            "Accuracy: 0.6998239436619719\n"
          ]
        },
        {
          "name": "stderr",
          "output_type": "stream",
          "text": [
            "73it [00:09,  9.95it/s]"
          ]
        },
        {
          "name": "stdout",
          "output_type": "stream",
          "text": [
            "Average Loss: 0.5868716467585828\n",
            "Accuracy: 0.6961805555555556\n",
            "Average Loss: 0.5844951088297857\n",
            "Accuracy: 0.6986301369863014\n"
          ]
        },
        {
          "name": "stderr",
          "output_type": "stream",
          "text": [
            "76it [00:09,  9.96it/s]"
          ]
        },
        {
          "name": "stdout",
          "output_type": "stream",
          "text": [
            "Average Loss: 0.58117264307834\n",
            "Accuracy: 0.7010135135135135\n",
            "Average Loss: 0.5779426936308543\n",
            "Accuracy: 0.7041666666666667\n",
            "Average Loss: 0.5756232283617321\n",
            "Accuracy: 0.7055921052631579\n"
          ]
        },
        {
          "name": "stderr",
          "output_type": "stream",
          "text": [
            "79it [00:10, 10.05it/s]"
          ]
        },
        {
          "name": "stdout",
          "output_type": "stream",
          "text": [
            "Average Loss: 0.5782164791961769\n",
            "Accuracy: 0.7037337662337663\n",
            "Average Loss: 0.5758708065901047\n",
            "Accuracy: 0.7051282051282052\n",
            "Average Loss: 0.5754707153839401\n",
            "Accuracy: 0.7049050632911392\n"
          ]
        },
        {
          "name": "stderr",
          "output_type": "stream",
          "text": [
            "\r81it [00:10, 10.17it/s]"
          ]
        },
        {
          "name": "stdout",
          "output_type": "stream",
          "text": [
            "tensor(0.4737, device='cuda:0', grad_fn=<BinaryCrossEntropyBackward0>)\n",
            "Average Loss: 0.5741988576948642\n",
            "Accuracy: 0.70625\n",
            "Average Loss: 0.5724592790191556\n",
            "Accuracy: 0.7083333333333334\n",
            "Average Loss: 0.5730518168065606\n",
            "Accuracy: 0.708079268292683\n"
          ]
        },
        {
          "name": "stderr",
          "output_type": "stream",
          "text": [
            "\r83it [00:10, 10.06it/s]"
          ]
        },
        {
          "name": "stdout",
          "output_type": "stream",
          "text": [
            "Average Loss: 0.5764704949884529\n",
            "Accuracy: 0.7070783132530121\n",
            "Average Loss: 0.5776115563653764\n",
            "Accuracy: 0.7061011904761905\n",
            "Average Loss: 0.5785733917180229\n"
          ]
        },
        {
          "name": "stderr",
          "output_type": "stream",
          "text": [
            "\r85it [00:10, 10.04it/s]"
          ]
        },
        {
          "name": "stdout",
          "output_type": "stream",
          "text": [
            "Accuracy: 0.7051470588235295\n",
            "Average Loss: 0.5775299997523774\n",
            "Accuracy: 0.7056686046511628\n"
          ]
        },
        {
          "name": "stderr",
          "output_type": "stream",
          "text": [
            "88it [00:10,  9.90it/s]"
          ]
        },
        {
          "name": "stdout",
          "output_type": "stream",
          "text": [
            "Average Loss: 0.5755293427527636\n",
            "Accuracy: 0.7076149425287356\n",
            "Average Loss: 0.5742714899507436\n",
            "Accuracy: 0.7095170454545454\n"
          ]
        },
        {
          "name": "stderr",
          "output_type": "stream",
          "text": [
            "90it [00:11,  9.90it/s]"
          ]
        },
        {
          "name": "stdout",
          "output_type": "stream",
          "text": [
            "Average Loss: 0.5791710260209073\n",
            "Accuracy: 0.7071629213483146\n",
            "tensor(0.6490, device='cuda:0', grad_fn=<BinaryCrossEntropyBackward0>)\n",
            "Average Loss: 0.5799468477567037\n",
            "Accuracy: 0.70625\n",
            "Average Loss: 0.5824792850148547\n"
          ]
        },
        {
          "name": "stderr",
          "output_type": "stream",
          "text": [
            "92it [00:11,  9.79it/s]"
          ]
        },
        {
          "name": "stdout",
          "output_type": "stream",
          "text": [
            "Accuracy: 0.7046703296703297\n",
            "Average Loss: 0.5800503385455712\n",
            "Accuracy: 0.7065217391304348\n"
          ]
        },
        {
          "name": "stderr",
          "output_type": "stream",
          "text": [
            "94it [00:11,  9.85it/s]"
          ]
        },
        {
          "name": "stdout",
          "output_type": "stream",
          "text": [
            "Average Loss: 0.5807252516669612\n",
            "Accuracy: 0.7049731182795699\n",
            "Average Loss: 0.5816161046002774\n",
            "Accuracy: 0.7041223404255319\n",
            "Average Loss: 0.5818802962177678\n",
            "Accuracy: 0.7046052631578947\n"
          ]
        },
        {
          "name": "stderr",
          "output_type": "stream",
          "text": [
            "98it [00:11, 10.10it/s]"
          ]
        },
        {
          "name": "stdout",
          "output_type": "stream",
          "text": [
            "Average Loss: 0.5841226102784276\n",
            "Accuracy: 0.7037760416666666\n",
            "Average Loss: 0.5856965285601076\n",
            "Accuracy: 0.7029639175257731\n",
            "Average Loss: 0.5864006156215862\n",
            "Accuracy: 0.7034438775510204\n"
          ]
        },
        {
          "name": "stderr",
          "output_type": "stream",
          "text": [
            "\r100it [00:12, 10.20it/s]"
          ]
        },
        {
          "name": "stdout",
          "output_type": "stream",
          "text": [
            "Average Loss: 0.5861247774928507\n",
            "Accuracy: 0.7039141414141414\n",
            "tensor(0.5662, device='cuda:0', grad_fn=<BinaryCrossEntropyBackward0>)\n",
            "Average Loss: 0.5859256437420846\n",
            "Accuracy: 0.70375\n",
            "Average Loss: 0.5868459116704393\n",
            "Accuracy: 0.7035891089108911\n"
          ]
        },
        {
          "name": "stderr",
          "output_type": "stream",
          "text": [
            "\r102it [00:12, 10.10it/s]"
          ]
        },
        {
          "name": "stdout",
          "output_type": "stream",
          "text": [
            "Average Loss: 0.5855257338752934\n",
            "Accuracy: 0.7034313725490197\n",
            "Average Loss: 0.5854502751410586\n",
            "Accuracy: 0.7032766990291263\n",
            "Average Loss: 0.5847059600055218\n",
            "Accuracy: 0.7043269230769231\n"
          ]
        },
        {
          "name": "stderr",
          "output_type": "stream",
          "text": [
            "106it [00:12, 10.14it/s]"
          ]
        },
        {
          "name": "stdout",
          "output_type": "stream",
          "text": [
            "Average Loss: 0.5860805730024974\n",
            "Accuracy: 0.7029761904761904\n",
            "Average Loss: 0.5861926621423578\n",
            "Accuracy: 0.7028301886792453\n"
          ]
        },
        {
          "name": "stderr",
          "output_type": "stream",
          "text": [
            "\r108it [00:12, 10.16it/s]"
          ]
        },
        {
          "name": "stdout",
          "output_type": "stream",
          "text": [
            "Average Loss: 0.5864664430373183\n",
            "Accuracy: 0.7021028037383178\n",
            "Average Loss: 0.585493552464026\n",
            "Accuracy: 0.703125\n",
            "Average Loss: 0.5857702991284361\n",
            "Accuracy: 0.7024082568807339\n"
          ]
        },
        {
          "name": "stderr",
          "output_type": "stream",
          "text": [
            "112it [00:13, 10.15it/s]"
          ]
        },
        {
          "name": "stdout",
          "output_type": "stream",
          "text": [
            "tensor(0.5924, device='cuda:0', grad_fn=<BinaryCrossEntropyBackward0>)\n",
            "Average Loss: 0.5858302425254475\n",
            "Accuracy: 0.7022727272727273\n",
            "Average Loss: 0.5853341318465568\n",
            "Accuracy: 0.7021396396396397\n",
            "Average Loss: 0.583801781758666\n",
            "Accuracy: 0.703125\n"
          ]
        },
        {
          "name": "stderr",
          "output_type": "stream",
          "text": [
            "\r114it [00:13, 10.16it/s]"
          ]
        },
        {
          "name": "stdout",
          "output_type": "stream",
          "text": [
            "Average Loss: 0.583964549070966\n",
            "Accuracy: 0.7035398230088495\n",
            "Average Loss: 0.5838398967395749\n",
            "Accuracy: 0.7033991228070176\n",
            "Average Loss: 0.5845021177893099\n",
            "Accuracy: 0.7032608695652174\n"
          ]
        },
        {
          "name": "stderr",
          "output_type": "stream",
          "text": [
            "118it [00:13, 10.12it/s]"
          ]
        },
        {
          "name": "stdout",
          "output_type": "stream",
          "text": [
            "Average Loss: 0.5856413694805113\n",
            "Accuracy: 0.7025862068965517\n",
            "Average Loss: 0.5850260464044718\n",
            "Accuracy: 0.7029914529914529\n",
            "Average Loss: 0.5837537100759603\n",
            "Accuracy: 0.7033898305084746\n"
          ]
        },
        {
          "name": "stderr",
          "output_type": "stream",
          "text": [
            "\r120it [00:14, 10.09it/s]"
          ]
        },
        {
          "name": "stdout",
          "output_type": "stream",
          "text": [
            "Average Loss: 0.5837442734662224\n",
            "Accuracy: 0.7032563025210085\n",
            "tensor(0.6823, device='cuda:0', grad_fn=<BinaryCrossEntropyBackward0>)\n",
            "Average Loss: 0.5845655351877213\n",
            "Accuracy: 0.7026041666666667\n",
            "Average Loss: 0.5838697202934706\n",
            "Accuracy: 0.702995867768595\n"
          ]
        },
        {
          "name": "stderr",
          "output_type": "stream",
          "text": [
            "\r122it [00:14, 10.08it/s]"
          ]
        },
        {
          "name": "stdout",
          "output_type": "stream",
          "text": [
            "Average Loss: 0.5836152659087884\n",
            "Accuracy: 0.7033811475409836\n",
            "Average Loss: 0.582579483103946\n",
            "Accuracy: 0.703760162601626\n",
            "Average Loss: 0.5826217717220706"
          ]
        },
        {
          "name": "stderr",
          "output_type": "stream",
          "text": [
            "\r124it [00:14, 10.05it/s]"
          ]
        },
        {
          "name": "stdout",
          "output_type": "stream",
          "text": [
            "\n",
            "Accuracy: 0.7036290322580645\n",
            "Average Loss: 0.584191440820694\n",
            "Accuracy: 0.7025\n"
          ]
        },
        {
          "name": "stderr",
          "output_type": "stream",
          "text": [
            "127it [00:14,  9.91it/s]"
          ]
        },
        {
          "name": "stdout",
          "output_type": "stream",
          "text": [
            "Average Loss: 0.5832213501608561\n",
            "Accuracy: 0.7028769841269841\n",
            "Average Loss: 0.583384160685727\n",
            "Accuracy: 0.702263779527559\n"
          ]
        },
        {
          "name": "stderr",
          "output_type": "stream",
          "text": [
            "129it [00:14,  9.84it/s]"
          ]
        },
        {
          "name": "stdout",
          "output_type": "stream",
          "text": [
            "Average Loss: 0.5849133103620261\n",
            "Accuracy: 0.701171875\n",
            "Average Loss: 0.5835389072118804\n",
            "Accuracy: 0.7015503875968992\n"
          ]
        },
        {
          "name": "stderr",
          "output_type": "stream",
          "text": [
            "\r130it [00:15,  9.80it/s]"
          ]
        },
        {
          "name": "stdout",
          "output_type": "stream",
          "text": [
            "tensor(0.4411, device='cuda:0', grad_fn=<BinaryCrossEntropyBackward0>)\n",
            "Average Loss: 0.5824435130907939\n",
            "Accuracy: 0.7024038461538461\n",
            "Average Loss: 0.5815909812013611\n",
            "Accuracy: 0.7027671755725191\n",
            "Average Loss: 0.5815369606469617\n"
          ]
        },
        {
          "name": "stderr",
          "output_type": "stream",
          "text": [
            "133it [00:15,  9.88it/s]"
          ]
        },
        {
          "name": "stdout",
          "output_type": "stream",
          "text": [
            "Accuracy: 0.7035984848484849\n",
            "Average Loss: 0.5800581576680779\n",
            "Accuracy: 0.7039473684210527\n"
          ]
        },
        {
          "name": "stderr",
          "output_type": "stream",
          "text": [
            "136it [00:15, 10.01it/s]"
          ]
        },
        {
          "name": "stdout",
          "output_type": "stream",
          "text": [
            "Average Loss: 0.5817354461595193\n",
            "Accuracy: 0.7028917910447762\n",
            "Average Loss: 0.5815965738561418\n",
            "Accuracy: 0.7032407407407407\n",
            "Average Loss: 0.5820779565940885\n",
            "Accuracy: 0.7026654411764706\n"
          ]
        },
        {
          "name": "stderr",
          "output_type": "stream",
          "text": [
            "138it [00:15,  9.87it/s]"
          ]
        },
        {
          "name": "stdout",
          "output_type": "stream",
          "text": [
            "Average Loss: 0.5826172039021541\n",
            "Accuracy: 0.7020985401459854\n",
            "Average Loss: 0.5819736656503401\n",
            "Accuracy: 0.7028985507246377\n"
          ]
        },
        {
          "name": "stderr",
          "output_type": "stream",
          "text": [
            "140it [00:16,  9.85it/s]"
          ]
        },
        {
          "name": "stdout",
          "output_type": "stream",
          "text": [
            "Average Loss: 0.5816107664605696\n",
            "Accuracy: 0.7027877697841727\n",
            "tensor(0.6968, device='cuda:0', grad_fn=<BinaryCrossEntropyBackward0>)\n",
            "Average Loss: 0.5824337561215673\n",
            "Accuracy: 0.7022321428571429\n"
          ]
        },
        {
          "name": "stderr",
          "output_type": "stream",
          "text": [
            "143it [00:16, 10.07it/s]"
          ]
        },
        {
          "name": "stdout",
          "output_type": "stream",
          "text": [
            "Average Loss: 0.5829568947037906\n",
            "Accuracy: 0.7016843971631206\n",
            "Average Loss: 0.58188674798314\n",
            "Accuracy: 0.7029049295774648\n",
            "Average Loss: 0.5818373938123663\n",
            "Accuracy: 0.7032342657342657\n"
          ]
        },
        {
          "name": "stderr",
          "output_type": "stream",
          "text": [
            "145it [00:16,  9.83it/s]"
          ]
        },
        {
          "name": "stdout",
          "output_type": "stream",
          "text": [
            "Average Loss: 0.5814093295484781\n",
            "Accuracy: 0.7035590277777778\n",
            "Average Loss: 0.5813964340193518\n",
            "Accuracy: 0.7034482758620689\n"
          ]
        },
        {
          "name": "stderr",
          "output_type": "stream",
          "text": [
            "147it [00:16,  9.88it/s]"
          ]
        },
        {
          "name": "stdout",
          "output_type": "stream",
          "text": [
            "Average Loss: 0.5801399789036137\n",
            "Accuracy: 0.704195205479452\n",
            "Average Loss: 0.5797593911894324\n",
            "Accuracy: 0.7049319727891157\n"
          ]
        },
        {
          "name": "stderr",
          "output_type": "stream",
          "text": [
            "149it [00:17,  9.83it/s]"
          ]
        },
        {
          "name": "stdout",
          "output_type": "stream",
          "text": [
            "Average Loss: 0.5783370976915231\n",
            "Accuracy: 0.7056587837837838\n",
            "Average Loss: 0.5780165613497663\n",
            "Accuracy: 0.7059563758389261\n"
          ]
        },
        {
          "name": "stderr",
          "output_type": "stream",
          "text": [
            "\r151it [00:17,  9.95it/s]"
          ]
        },
        {
          "name": "stdout",
          "output_type": "stream",
          "text": [
            "tensor(0.4774, device='cuda:0', grad_fn=<BinaryCrossEntropyBackward0>)\n",
            "Average Loss: 0.5773458033800125\n",
            "Accuracy: 0.7054166666666667\n",
            "Average Loss: 0.5780470227168886\n",
            "Accuracy: 0.7052980132450332\n",
            "Average Loss: 0.57775032069338\n",
            "Accuracy: 0.7060032894736842\n"
          ]
        },
        {
          "name": "stderr",
          "output_type": "stream",
          "text": [
            "155it [00:17, 10.03it/s]"
          ]
        },
        {
          "name": "stdout",
          "output_type": "stream",
          "text": [
            "Average Loss: 0.5776990322895299\n",
            "Accuracy: 0.7058823529411765\n",
            "Average Loss: 0.5806603360098678\n",
            "Accuracy: 0.7049512987012987\n",
            "Average Loss: 0.581002333664125\n",
            "Accuracy: 0.7036290322580645\n"
          ]
        },
        {
          "name": "stderr",
          "output_type": "stream",
          "text": [
            "\r157it [00:17,  9.92it/s]"
          ]
        },
        {
          "name": "stdout",
          "output_type": "stream",
          "text": [
            "Average Loss: 0.5806920816883062\n",
            "Accuracy: 0.703926282051282\n",
            "Average Loss: 0.5810222415028105\n",
            "Accuracy: 0.7038216560509554\n"
          ]
        },
        {
          "name": "stderr",
          "output_type": "stream",
          "text": [
            "159it [00:18,  9.85it/s]"
          ]
        },
        {
          "name": "stdout",
          "output_type": "stream",
          "text": [
            "Average Loss: 0.5801906236742116\n",
            "Accuracy: 0.7037183544303798\n",
            "Average Loss: 0.5803627868493398\n",
            "Accuracy: 0.7032232704402516\n",
            "tensor(0.5494, device='cuda:0', grad_fn=<BinaryCrossEntropyBackward0>)\n",
            "Average Loss:"
          ]
        },
        {
          "name": "stderr",
          "output_type": "stream",
          "text": [
            "162it [00:18,  9.96it/s]"
          ]
        },
        {
          "name": "stdout",
          "output_type": "stream",
          "text": [
            " 0.5801695192232728\n",
            "Accuracy: 0.703515625\n",
            "Average Loss: 0.5807204807397002\n",
            "Accuracy: 0.703027950310559\n",
            "Average Loss: 0.580881784543579\n",
            "Accuracy: 0.7033179012345679\n"
          ]
        },
        {
          "name": "stderr",
          "output_type": "stream",
          "text": [
            "\r164it [00:18,  9.60it/s]"
          ]
        },
        {
          "name": "stdout",
          "output_type": "stream",
          "text": [
            "Average Loss: 0.5812482005613713\n",
            "Accuracy: 0.7020705521472392\n",
            "Average Loss: 0.5814164809700919\n",
            "Accuracy: 0.7019817073170732\n"
          ]
        },
        {
          "name": "stderr",
          "output_type": "stream",
          "text": [
            "167it [00:18,  9.93it/s]"
          ]
        },
        {
          "name": "stdout",
          "output_type": "stream",
          "text": [
            "Average Loss: 0.5818301235184525\n",
            "Accuracy: 0.7015151515151515\n",
            "Average Loss: 0.5816468056066927\n",
            "Accuracy: 0.7018072289156626\n",
            "Average Loss: 0.5818480283557298\n",
            "Accuracy: 0.7013473053892215\n"
          ]
        },
        {
          "name": "stderr",
          "output_type": "stream",
          "text": [
            "\r169it [00:19, 10.08it/s]"
          ]
        },
        {
          "name": "stdout",
          "output_type": "stream",
          "text": [
            "Average Loss: 0.5817337875210103\n",
            "Accuracy: 0.7012648809523809\n",
            "Average Loss: 0.5819029823915493\n",
            "Accuracy: 0.7011834319526628\n",
            "tensor(0.4539, device='cuda:0', grad_fn=<BinaryCrossEntropyBackward0>)\n",
            "Average Loss: 0.5811498380759184\n",
            "Accuracy: 0.7014705882352941\n"
          ]
        },
        {
          "name": "stderr",
          "output_type": "stream",
          "text": [
            "173it [00:19, 10.18it/s]"
          ]
        },
        {
          "name": "stdout",
          "output_type": "stream",
          "text": [
            "Average Loss: 0.5804161661201053\n",
            "Accuracy: 0.7013888888888888\n",
            "Average Loss: 0.580439992249012\n",
            "Accuracy: 0.7013081395348837\n",
            "Average Loss: 0.5798208157106631\n",
            "Accuracy: 0.7015895953757225\n"
          ]
        },
        {
          "name": "stderr",
          "output_type": "stream",
          "text": [
            "\r175it [00:19, 10.15it/s]"
          ]
        },
        {
          "name": "stdout",
          "output_type": "stream",
          "text": [
            "Average Loss: 0.5805854771671624\n",
            "Accuracy: 0.7015086206896551\n",
            "Average Loss: 0.5795842274597713\n",
            "Accuracy: 0.7025\n",
            "Average Loss: 0.5792436858808453\n",
            "Accuracy: 0.7027698863636364\n"
          ]
        },
        {
          "name": "stderr",
          "output_type": "stream",
          "text": [
            "179it [00:19, 10.35it/s]"
          ]
        },
        {
          "name": "stdout",
          "output_type": "stream",
          "text": [
            "Average Loss: 0.5798694685017322\n",
            "Accuracy: 0.7023305084745762\n",
            "Average Loss: 0.5811785558301411\n",
            "Accuracy: 0.7015449438202247\n",
            "Average Loss: 0.5812037881859188\n",
            "Accuracy: 0.7011173184357542\n"
          ]
        },
        {
          "name": "stderr",
          "output_type": "stream",
          "text": [
            "\r181it [00:20, 10.28it/s]"
          ]
        },
        {
          "name": "stdout",
          "output_type": "stream",
          "text": [
            "tensor(0.7014, device='cuda:0', grad_fn=<BinaryCrossEntropyBackward0>)\n",
            "Average Loss: 0.5818714431590504\n",
            "Accuracy: 0.7006944444444444\n",
            "Average Loss: 0.5826825886470837\n",
            "Accuracy: 0.6999309392265194\n",
            "Average Loss: 0.5819956331135152\n",
            "Accuracy: 0.6998626373626373\n"
          ]
        },
        {
          "name": "stderr",
          "output_type": "stream",
          "text": [
            "185it [00:20, 10.22it/s]"
          ]
        },
        {
          "name": "stdout",
          "output_type": "stream",
          "text": [
            "Average Loss: 0.5824393426459995\n",
            "Accuracy: 0.6994535519125683\n",
            "Average Loss: 0.5821589790284634\n",
            "Accuracy: 0.6993885869565217\n",
            "Average Loss: 0.5816359571508459\n",
            "Accuracy: 0.7\n"
          ]
        },
        {
          "name": "stderr",
          "output_type": "stream",
          "text": [
            "\r187it [00:20, 10.17it/s]"
          ]
        },
        {
          "name": "stdout",
          "output_type": "stream",
          "text": [
            "Average Loss: 0.581825839896356\n",
            "Accuracy: 0.6999327956989247\n",
            "Average Loss: 0.5813702048464893\n",
            "Accuracy: 0.6998663101604278\n",
            "Average Loss: 0.5813236141458471\n",
            "Accuracy: 0.6991356382978723\n"
          ]
        },
        {
          "name": "stderr",
          "output_type": "stream",
          "text": [
            "\r189it [00:20, 10.16it/s]"
          ]
        },
        {
          "name": "stdout",
          "output_type": "stream",
          "text": [
            "Average Loss: 0.5814170137284294\n",
            "Accuracy: 0.6990740740740741\n",
            "tensor(0.6374, device='cuda:0', grad_fn=<BinaryCrossEntropyBackward0>)\n",
            "Average Loss: 0.5817117628298307\n",
            "Accuracy: 0.6996710526315789\n"
          ]
        },
        {
          "name": "stderr",
          "output_type": "stream",
          "text": [
            "193it [00:21, 10.16it/s]"
          ]
        },
        {
          "name": "stdout",
          "output_type": "stream",
          "text": [
            "Average Loss: 0.5819232457595346\n",
            "Accuracy: 0.6989528795811518\n",
            "Average Loss: 0.5824074080834786\n",
            "Accuracy: 0.6985677083333334\n",
            "Average Loss: 0.582628246416082\n",
            "Accuracy: 0.6985103626943006\n"
          ]
        },
        {
          "name": "stderr",
          "output_type": "stream",
          "text": [
            "\r195it [00:21, 10.09it/s]"
          ]
        },
        {
          "name": "stdout",
          "output_type": "stream",
          "text": [
            "Average Loss: 0.5828365523790576\n",
            "Accuracy: 0.6984536082474226\n",
            "Average Loss: 0.5838593134513268\n",
            "Accuracy: 0.6974358974358974\n"
          ]
        },
        {
          "name": "stderr",
          "output_type": "stream",
          "text": [
            "\r197it [00:21, 10.10it/s]"
          ]
        },
        {
          "name": "stdout",
          "output_type": "stream",
          "text": [
            "Average Loss: 0.5828920482676856\n",
            "Accuracy: 0.6986607142857143\n",
            "Average Loss: 0.5829313432202121\n",
            "Accuracy: 0.6982868020304569\n",
            "Average Loss: 0.5825712321081546\n",
            "Accuracy: 0.6991792929292929\n"
          ]
        },
        {
          "name": "stderr",
          "output_type": "stream",
          "text": [
            "201it [00:22, 10.10it/s]"
          ]
        },
        {
          "name": "stdout",
          "output_type": "stream",
          "text": [
            "Average Loss: 0.5825359403488025\n",
            "Accuracy: 0.6994346733668342\n",
            "tensor(0.3850, device='cuda:0', grad_fn=<BinaryCrossEntropyBackward0>)\n",
            "Average Loss: 0.5815481540560722\n",
            "Accuracy: 0.7003125\n",
            "Average Loss: 0.5815442661147806\n",
            "Accuracy: 0.6999378109452736\n"
          ]
        },
        {
          "name": "stderr",
          "output_type": "stream",
          "text": [
            "\r203it [00:22, 10.13it/s]"
          ]
        },
        {
          "name": "stdout",
          "output_type": "stream",
          "text": [
            "Average Loss: 0.5808601550536581\n",
            "Accuracy: 0.7011138613861386\n",
            "Average Loss: 0.5803302732007257\n",
            "Accuracy: 0.7016625615763546\n",
            "Average Loss: 0.5798231912594215\n",
            "Accuracy: 0.7015931372549019\n"
          ]
        },
        {
          "name": "stderr",
          "output_type": "stream",
          "text": [
            "207it [00:22, 10.14it/s]"
          ]
        },
        {
          "name": "stdout",
          "output_type": "stream",
          "text": [
            "Average Loss: 0.5785865287955214\n",
            "Accuracy: 0.7030487804878048\n",
            "Average Loss: 0.5791031667619075\n",
            "Accuracy: 0.7026699029126213\n",
            "Average Loss: 0.5801162787393671\n",
            "Accuracy: 0.7019927536231884\n"
          ]
        },
        {
          "name": "stderr",
          "output_type": "stream",
          "text": [
            "\r209it [00:22, 10.13it/s]"
          ]
        },
        {
          "name": "stdout",
          "output_type": "stream",
          "text": [
            "Average Loss: 0.5801830791796629\n",
            "Accuracy: 0.7022235576923077\n",
            "Average Loss: 0.581653215811013\n",
            "Accuracy: 0.701255980861244\n"
          ]
        },
        {
          "name": "stderr",
          "output_type": "stream",
          "text": [
            "\r211it [00:23, 10.06it/s]"
          ]
        },
        {
          "name": "stdout",
          "output_type": "stream",
          "text": [
            "tensor(0.4232, device='cuda:0', grad_fn=<BinaryCrossEntropyBackward0>)\n",
            "Average Loss: 0.5808985541264217\n",
            "Accuracy: 0.7017857142857142\n",
            "Average Loss: 0.580189525939842\n",
            "Accuracy: 0.70260663507109\n"
          ]
        },
        {
          "name": "stderr",
          "output_type": "stream",
          "text": [
            "\r213it [00:23, 10.01it/s]"
          ]
        },
        {
          "name": "stdout",
          "output_type": "stream",
          "text": [
            "Average Loss: 0.5797086498647366\n",
            "Accuracy: 0.7034198113207547\n",
            "Average Loss: 0.5798820245993529\n",
            "Accuracy: 0.7030516431924883\n",
            "Average Loss: 0.5790026604293663\n",
            "Accuracy: 0.7041471962616822\n"
          ]
        },
        {
          "name": "stderr",
          "output_type": "stream",
          "text": [
            "217it [00:23, 10.23it/s]"
          ]
        },
        {
          "name": "stdout",
          "output_type": "stream",
          "text": [
            "Average Loss: 0.5787244490412778\n",
            "Accuracy: 0.7040697674418605\n",
            "Average Loss: 0.5787405055706147\n",
            "Accuracy: 0.7037037037037037\n",
            "Average Loss: 0.5781040556969181\n",
            "Accuracy: 0.7042050691244239\n"
          ]
        },
        {
          "name": "stderr",
          "output_type": "stream",
          "text": [
            "\r219it [00:23, 10.22it/s]"
          ]
        },
        {
          "name": "stdout",
          "output_type": "stream",
          "text": [
            "Average Loss: 0.5784522685982766\n",
            "Accuracy: 0.7035550458715596\n",
            "Average Loss: 0.5781822294405062\n",
            "Accuracy: 0.7034817351598174\n",
            "tensor(0.5208, device='cuda:0', grad_fn=<BinaryCrossEntropyBackward0>)\n",
            "Average Loss: 0.5779213092543862\n",
            "Accuracy: 0.7036931818181819\n"
          ]
        },
        {
          "name": "stderr",
          "output_type": "stream",
          "text": [
            "\r221it [00:24, 10.15it/s]"
          ]
        },
        {
          "name": "stdout",
          "output_type": "stream",
          "text": [
            "Average Loss: 0.5776764354015368\n",
            "Accuracy: 0.7039027149321267\n",
            "Average Loss: 0.5778983732064565\n",
            "Accuracy: 0.7038288288288288\n"
          ]
        },
        {
          "name": "stderr",
          "output_type": "stream",
          "text": [
            "\r223it [00:24, 10.06it/s]"
          ]
        },
        {
          "name": "stdout",
          "output_type": "stream",
          "text": [
            "Average Loss: 0.5783739963989086\n",
            "Accuracy: 0.7037556053811659\n",
            "Average Loss: 0.5773250324917691\n",
            "Accuracy: 0.7045200892857143\n",
            "Average Loss: 0.5766952233844334\n"
          ]
        },
        {
          "name": "stderr",
          "output_type": "stream",
          "text": [
            "227it [00:24, 10.01it/s]"
          ]
        },
        {
          "name": "stdout",
          "output_type": "stream",
          "text": [
            "Accuracy: 0.7047222222222222\n",
            "Average Loss: 0.5772860335037772\n",
            "Accuracy: 0.7043694690265486\n",
            "Average Loss: 0.576738119781805\n",
            "Accuracy: 0.7051211453744494\n"
          ]
        },
        {
          "name": "stderr",
          "output_type": "stream",
          "text": [
            "\r229it [00:24, 10.11it/s]"
          ]
        },
        {
          "name": "stdout",
          "output_type": "stream",
          "text": [
            "Average Loss: 0.577044000358958\n",
            "Accuracy: 0.7050438596491229\n",
            "Average Loss: 0.577176711054348\n",
            "Accuracy: 0.7046943231441049\n",
            "tensor(0.4555, device='cuda:0', grad_fn=<BinaryCrossEntropyBackward0>)\n",
            "Average Loss: 0.5766478936309399\n",
            "Accuracy: 0.7046195652173913\n"
          ]
        },
        {
          "name": "stderr",
          "output_type": "stream",
          "text": [
            "\r231it [00:25, 10.11it/s]"
          ]
        },
        {
          "name": "stdout",
          "output_type": "stream",
          "text": [
            "Average Loss: 0.5770146123000554\n",
            "Accuracy: 0.7045454545454546\n",
            "Average Loss: 0.577274566452051\n",
            "Accuracy: 0.7039331896551724\n",
            "Average Loss: 0.576831053382849\n"
          ]
        },
        {
          "name": "stderr",
          "output_type": "stream",
          "text": [
            "235it [00:25, 10.23it/s]"
          ]
        },
        {
          "name": "stdout",
          "output_type": "stream",
          "text": [
            "Accuracy: 0.7043991416309013\n",
            "Average Loss: 0.5772602916018575\n",
            "Accuracy: 0.7043269230769231\n",
            "Average Loss: 0.5777555855030709\n",
            "Accuracy: 0.7039893617021277\n"
          ]
        },
        {
          "name": "stderr",
          "output_type": "stream",
          "text": [
            "\r237it [00:25, 10.25it/s]"
          ]
        },
        {
          "name": "stdout",
          "output_type": "stream",
          "text": [
            "Average Loss: 0.5774822279305781\n",
            "Accuracy: 0.7039194915254238\n",
            "Average Loss: 0.5774792904340769\n",
            "Accuracy: 0.7043776371308017\n",
            "Average Loss: 0.5780278668433678\n",
            "Accuracy: 0.7040441176470589\n"
          ]
        },
        {
          "name": "stderr",
          "output_type": "stream",
          "text": [
            "241it [00:26, 10.28it/s]"
          ]
        },
        {
          "name": "stdout",
          "output_type": "stream",
          "text": [
            "Average Loss: 0.5773772086059697\n",
            "Accuracy: 0.7047594142259415\n",
            "tensor(0.6627, device='cuda:0', grad_fn=<BinaryCrossEntropyBackward0>)\n",
            "Average Loss: 0.577732814848423\n",
            "Accuracy: 0.7046875\n",
            "Average Loss: 0.5781333439083021\n",
            "Accuracy: 0.704097510373444\n"
          ]
        },
        {
          "name": "stderr",
          "output_type": "stream",
          "text": [
            "\r243it [00:26, 10.20it/s]"
          ]
        },
        {
          "name": "stdout",
          "output_type": "stream",
          "text": [
            "Average Loss: 0.5778371319790517\n",
            "Accuracy: 0.7045454545454546\n",
            "Average Loss: 0.578822776368616\n",
            "Accuracy: 0.7037037037037037\n",
            "Average Loss: 0.5781160177754574\n",
            "Accuracy: 0.7046618852459017\n"
          ]
        },
        {
          "name": "stderr",
          "output_type": "stream",
          "text": [
            "247it [00:26, 10.35it/s]"
          ]
        },
        {
          "name": "stdout",
          "output_type": "stream",
          "text": [
            "Average Loss: 0.5773510407428353\n",
            "Accuracy: 0.7053571428571429\n",
            "Average Loss: 0.5773154950238825\n",
            "Accuracy: 0.7050304878048781\n",
            "Average Loss: 0.5767631241184498\n",
            "Accuracy: 0.7057186234817814\n"
          ]
        },
        {
          "name": "stderr",
          "output_type": "stream",
          "text": [
            "\r249it [00:26, 10.42it/s]"
          ]
        },
        {
          "name": "stdout",
          "output_type": "stream",
          "text": [
            "Average Loss: 0.5764959721315291\n",
            "Accuracy: 0.7056451612903226\n",
            "Average Loss: 0.57632477001014\n",
            "Accuracy: 0.7058232931726908\n",
            "tensor(0.7530, device='cuda:0', grad_fn=<BinaryCrossEntropyBackward0>)\n",
            "Average Loss: 0.5770315845012665\n",
            "Accuracy: 0.7055\n"
          ]
        },
        {
          "name": "stderr",
          "output_type": "stream",
          "text": [
            "253it [00:27, 10.30it/s]"
          ]
        },
        {
          "name": "stdout",
          "output_type": "stream",
          "text": [
            "Average Loss: 0.5767945419269729\n",
            "Accuracy: 0.7054282868525896\n",
            "Average Loss: 0.5764996298248806\n",
            "Accuracy: 0.7058531746031746\n",
            "Average Loss: 0.5758766430639938\n",
            "Accuracy: 0.7062747035573123\n"
          ]
        },
        {
          "name": "stderr",
          "output_type": "stream",
          "text": [
            "\r255it [00:27, 10.20it/s]"
          ]
        },
        {
          "name": "stdout",
          "output_type": "stream",
          "text": [
            "Average Loss: 0.5754106590362984\n",
            "Accuracy: 0.7069389763779528\n",
            "Average Loss: 0.5750962329845802\n",
            "Accuracy: 0.7068627450980393\n"
          ]
        },
        {
          "name": "stderr",
          "output_type": "stream",
          "text": [
            "\r257it [00:27, 10.14it/s]"
          ]
        },
        {
          "name": "stdout",
          "output_type": "stream",
          "text": [
            "Average Loss: 0.5745704065775499\n",
            "Accuracy: 0.707275390625\n",
            "Average Loss: 0.5744848259460138\n",
            "Accuracy: 0.7071984435797666\n",
            "Average Loss: 0.5744172298862028\n"
          ]
        },
        {
          "name": "stderr",
          "output_type": "stream",
          "text": [
            "\r259it [00:27, 10.12it/s]"
          ]
        },
        {
          "name": "stdout",
          "output_type": "stream",
          "text": [
            "Accuracy: 0.7073643410852714\n",
            "Average Loss: 0.5744135307299124\n",
            "Accuracy: 0.7075289575289575\n",
            "tensor(0.4731, device='cuda:0', grad_fn=<BinaryCrossEntropyBackward0>)\n",
            "Average Loss: 0.574023751112131\n"
          ]
        },
        {
          "name": "stderr",
          "output_type": "stream",
          "text": [
            "\r261it [00:28,  9.97it/s]"
          ]
        },
        {
          "name": "stdout",
          "output_type": "stream",
          "text": [
            "Accuracy: 0.7079326923076923\n",
            "Average Loss: 0.5736247905141092\n",
            "Accuracy: 0.7083333333333334\n"
          ]
        },
        {
          "name": "stderr",
          "output_type": "stream",
          "text": [
            "263it [00:28,  9.89it/s]"
          ]
        },
        {
          "name": "stdout",
          "output_type": "stream",
          "text": [
            "Average Loss: 0.5740686005535927\n",
            "Accuracy: 0.7080152671755725\n",
            "Average Loss: 0.5743761353846285\n",
            "Accuracy: 0.7076996197718631\n"
          ]
        },
        {
          "name": "stderr",
          "output_type": "stream",
          "text": [
            "266it [00:28, 10.00it/s]"
          ]
        },
        {
          "name": "stdout",
          "output_type": "stream",
          "text": [
            "Average Loss: 0.5741872646366105\n",
            "Accuracy: 0.7080965909090909\n",
            "Average Loss: 0.5736736495539827\n",
            "Accuracy: 0.7082547169811321\n",
            "Average Loss: 0.5740824924375778\n",
            "Accuracy: 0.7084116541353384\n"
          ]
        },
        {
          "name": "stderr",
          "output_type": "stream",
          "text": [
            "\r267it [00:28,  9.95it/s]"
          ]
        },
        {
          "name": "stdout",
          "output_type": "stream",
          "text": [
            "Average Loss: 0.5741987627990237\n",
            "Accuracy: 0.7080992509363296\n",
            "Average Loss: 0.5749954997158763\n",
            "Accuracy: 0.7075559701492538\n",
            "Average Loss: 0.57474215788469\n"
          ]
        },
        {
          "name": "stderr",
          "output_type": "stream",
          "text": [
            "270it [00:28,  9.96it/s]"
          ]
        },
        {
          "name": "stdout",
          "output_type": "stream",
          "text": [
            "Accuracy: 0.7074814126394052\n",
            "tensor(0.4016, device='cuda:0', grad_fn=<BinaryCrossEntropyBackward0>)\n",
            "Average Loss: 0.5741010228792827\n",
            "Accuracy: 0.7081018518518518\n",
            "Average Loss: 0.5738296482395862\n",
            "Accuracy: 0.7082564575645757\n"
          ]
        },
        {
          "name": "stderr",
          "output_type": "stream",
          "text": [
            "273it [00:29,  9.97it/s]"
          ]
        },
        {
          "name": "stdout",
          "output_type": "stream",
          "text": [
            "Average Loss: 0.5732846409082413\n",
            "Accuracy: 0.7084099264705882\n",
            "Average Loss: 0.5725308335744418\n",
            "Accuracy: 0.7087912087912088\n"
          ]
        },
        {
          "name": "stderr",
          "output_type": "stream",
          "text": [
            "275it [00:29,  9.92it/s]"
          ]
        },
        {
          "name": "stdout",
          "output_type": "stream",
          "text": [
            "Average Loss: 0.5731598704400724\n",
            "Accuracy: 0.708941605839416\n",
            "Average Loss: 0.5737619586424394\n",
            "Accuracy: 0.7084090909090909\n"
          ]
        },
        {
          "name": "stderr",
          "output_type": "stream",
          "text": [
            "277it [00:29,  9.84it/s]"
          ]
        },
        {
          "name": "stdout",
          "output_type": "stream",
          "text": [
            "Average Loss: 0.5738097427115925\n",
            "Accuracy: 0.7081068840579711\n",
            "Average Loss: 0.5739727622765496\n",
            "Accuracy: 0.7078068592057761\n"
          ]
        },
        {
          "name": "stderr",
          "output_type": "stream",
          "text": [
            "279it [00:29,  9.75it/s]"
          ]
        },
        {
          "name": "stdout",
          "output_type": "stream",
          "text": [
            "Average Loss: 0.5735735476231404\n",
            "Accuracy: 0.7079586330935251\n",
            "Average Loss: 0.5730628566716307\n",
            "Accuracy: 0.7083333333333334\n"
          ]
        },
        {
          "name": "stderr",
          "output_type": "stream",
          "text": [
            "281it [00:30,  9.72it/s]"
          ]
        },
        {
          "name": "stdout",
          "output_type": "stream",
          "text": [
            "tensor(0.3578, device='cuda:0', grad_fn=<BinaryCrossEntropyBackward0>)\n",
            "Average Loss: 0.5722940371504852\n",
            "Accuracy: 0.7087053571428571\n",
            "Average Loss: 0.5721670818710667\n",
            "Accuracy: 0.7088523131672598\n"
          ]
        },
        {
          "name": "stderr",
          "output_type": "stream",
          "text": [
            "283it [00:30,  9.66it/s]"
          ]
        },
        {
          "name": "stdout",
          "output_type": "stream",
          "text": [
            "Average Loss: 0.5719212738546073\n",
            "Accuracy: 0.7089982269503546\n",
            "Average Loss: 0.5722424582752659\n",
            "Accuracy: 0.708922261484099\n"
          ]
        },
        {
          "name": "stderr",
          "output_type": "stream",
          "text": [
            "286it [00:30, 10.01it/s]"
          ]
        },
        {
          "name": "stdout",
          "output_type": "stream",
          "text": [
            "Average Loss: 0.5725464811417419\n",
            "Accuracy: 0.7084066901408451\n",
            "Average Loss: 0.5718975461365884\n",
            "Accuracy: 0.7087719298245614\n",
            "Average Loss: 0.5712201908960209\n",
            "Accuracy: 0.7093531468531469\n"
          ]
        },
        {
          "name": "stderr",
          "output_type": "stream",
          "text": [
            "289it [00:30,  9.99it/s]"
          ]
        },
        {
          "name": "stdout",
          "output_type": "stream",
          "text": [
            "Average Loss: 0.570921273700867\n",
            "Accuracy: 0.7099303135888502\n",
            "Average Loss: 0.5709671515764462\n",
            "Accuracy: 0.7098524305555556\n",
            "Average Loss: 0.5702609388886026\n",
            "Accuracy: 0.7102076124567474\n"
          ]
        },
        {
          "name": "stderr",
          "output_type": "stream",
          "text": [
            "\r291it [00:31, 10.02it/s]"
          ]
        },
        {
          "name": "stdout",
          "output_type": "stream",
          "text": [
            "tensor(0.6295, device='cuda:0', grad_fn=<BinaryCrossEntropyBackward0>)\n",
            "Average Loss: 0.5704653258981376\n",
            "Accuracy: 0.7103448275862069\n",
            "Average Loss: 0.569969176017132\n",
            "Accuracy: 0.7106958762886598\n",
            "Average Loss: 0.5695004222327715\n",
            "Accuracy: 0.7110445205479452\n"
          ]
        },
        {
          "name": "stderr",
          "output_type": "stream",
          "text": [
            "295it [00:31, 10.19it/s]"
          ]
        },
        {
          "name": "stdout",
          "output_type": "stream",
          "text": [
            "Average Loss: 0.5700794047463063\n",
            "Accuracy: 0.710537542662116\n",
            "Average Loss: 0.569285108321378\n",
            "Accuracy: 0.7110969387755102\n",
            "Average Loss: 0.5699204584299508\n",
            "Accuracy: 0.7101694915254237\n"
          ]
        },
        {
          "name": "stderr",
          "output_type": "stream",
          "text": [
            "\r297it [00:31, 10.30it/s]"
          ]
        },
        {
          "name": "stdout",
          "output_type": "stream",
          "text": [
            "Average Loss: 0.5690212312179643\n",
            "Accuracy: 0.7109375\n",
            "Average Loss: 0.5688983127725646\n",
            "Accuracy: 0.7108585858585859\n",
            "Average Loss: 0.5686099899295193\n",
            "Accuracy: 0.7109899328859061\n"
          ]
        },
        {
          "name": "stderr",
          "output_type": "stream",
          "text": [
            "301it [00:32, 10.22it/s]"
          ]
        },
        {
          "name": "stdout",
          "output_type": "stream",
          "text": [
            "Average Loss: 0.5685721488301969\n",
            "Accuracy: 0.7109113712374582\n",
            "tensor(0.6478, device='cuda:0', grad_fn=<BinaryCrossEntropyBackward0>)\n",
            "Average Loss: 0.5688363365332285\n",
            "Accuracy: 0.7108333333333333\n",
            "Average Loss: 0.568632863288702\n",
            "Accuracy: 0.7111710963455149\n"
          ]
        },
        {
          "name": "stderr",
          "output_type": "stream",
          "text": [
            "\r303it [00:32, 10.25it/s]"
          ]
        },
        {
          "name": "stdout",
          "output_type": "stream",
          "text": [
            "Average Loss: 0.5690180163904531\n",
            "Accuracy: 0.7112996688741722\n",
            "Average Loss: 0.5684454047640558\n",
            "Accuracy: 0.7118399339933993\n",
            "Average Loss: 0.5685933571504919\n",
            "Accuracy: 0.7119654605263158\n"
          ]
        },
        {
          "name": "stderr",
          "output_type": "stream",
          "text": [
            "307it [00:32, 10.34it/s]"
          ]
        },
        {
          "name": "stdout",
          "output_type": "stream",
          "text": [
            "Average Loss: 0.567891355909285\n",
            "Accuracy: 0.7125\n",
            "Average Loss: 0.567495069764798\n",
            "Accuracy: 0.7126225490196079\n",
            "Average Loss: 0.5680368935828877\n",
            "Accuracy: 0.7123371335504886\n"
          ]
        },
        {
          "name": "stderr",
          "output_type": "stream",
          "text": [
            "\r309it [00:32, 10.35it/s]"
          ]
        },
        {
          "name": "stdout",
          "output_type": "stream",
          "text": [
            "Average Loss: 0.5681191875369518\n",
            "Accuracy: 0.7122564935064936\n",
            "Average Loss: 0.5681105037144473\n",
            "Accuracy: 0.712378640776699\n",
            "tensor(0.3589, device='cuda:0', grad_fn=<BinaryCrossEntropyBackward0>)\n",
            "Average Loss: 0.5674354949305135\n",
            "Accuracy: 0.7129032258064516\n"
          ]
        },
        {
          "name": "stderr",
          "output_type": "stream",
          "text": [
            "313it [00:33, 10.44it/s]"
          ]
        },
        {
          "name": "stdout",
          "output_type": "stream",
          "text": [
            "Average Loss: 0.5670344781645624\n",
            "Accuracy: 0.7130225080385852\n",
            "Average Loss: 0.5666483610104291\n",
            "Accuracy: 0.7133413461538461\n",
            "Average Loss: 0.5661628770942505\n",
            "Accuracy: 0.7134584664536742\n"
          ]
        },
        {
          "name": "stderr",
          "output_type": "stream",
          "text": [
            "\r315it [00:33, 10.29it/s]"
          ]
        },
        {
          "name": "stdout",
          "output_type": "stream",
          "text": [
            "Average Loss: 0.5665086337905021\n",
            "Accuracy: 0.7131767515923567\n",
            "Average Loss: 0.5660509512538001\n",
            "Accuracy: 0.7134920634920635\n",
            "Average Loss: 0.5652627083885519\n",
            "Accuracy: 0.7142009493670886\n"
          ]
        },
        {
          "name": "stderr",
          "output_type": "stream",
          "text": [
            "319it [00:33, 10.20it/s]"
          ]
        },
        {
          "name": "stdout",
          "output_type": "stream",
          "text": [
            "Average Loss: 0.56445600181724\n",
            "Accuracy: 0.715102523659306\n",
            "Average Loss: 0.5646503078487685\n",
            "Accuracy: 0.7148191823899371\n",
            "Average Loss: 0.5641403099212526\n",
            "Accuracy: 0.7149294670846394\n"
          ]
        },
        {
          "name": "stderr",
          "output_type": "stream",
          "text": [
            "\r321it [00:34, 10.17it/s]"
          ]
        },
        {
          "name": "stdout",
          "output_type": "stream",
          "text": [
            "tensor(0.2815, device='cuda:0', grad_fn=<BinaryCrossEntropyBackward0>)\n",
            "Average Loss: 0.5632572136819363\n",
            "Accuracy: 0.715625\n",
            "Average Loss: 0.5626757092936389\n",
            "Accuracy: 0.716316199376947\n",
            "Average Loss: 0.562083420731266\n",
            "Accuracy: 0.7166149068322981\n"
          ]
        },
        {
          "name": "stderr",
          "output_type": "stream",
          "text": [
            "325it [00:34, 10.22it/s]"
          ]
        },
        {
          "name": "stdout",
          "output_type": "stream",
          "text": [
            "Average Loss: 0.5621807206156823\n",
            "Accuracy: 0.7165247678018576\n",
            "Average Loss: 0.5625778340998991\n",
            "Accuracy: 0.7160493827160493\n",
            "Average Loss: 0.564087184392489\n",
            "Accuracy: 0.7151923076923077\n"
          ]
        },
        {
          "name": "stderr",
          "output_type": "stream",
          "text": [
            "\r327it [00:34, 10.19it/s]"
          ]
        },
        {
          "name": "stdout",
          "output_type": "stream",
          "text": [
            "Average Loss: 0.5638135813313759\n",
            "Accuracy: 0.7154907975460123\n",
            "Average Loss: 0.5635096576600265\n",
            "Accuracy: 0.7154051987767585\n",
            "Average Loss: 0.5636298732786644\n",
            "Accuracy: 0.7153201219512195\n"
          ]
        },
        {
          "name": "stderr",
          "output_type": "stream",
          "text": [
            "331it [00:35, 10.16it/s]"
          ]
        },
        {
          "name": "stdout",
          "output_type": "stream",
          "text": [
            "Average Loss: 0.5632419725681873\n",
            "Accuracy: 0.7154255319148937\n",
            "tensor(0.7150, device='cuda:0', grad_fn=<BinaryCrossEntropyBackward0>)\n",
            "Average Loss: 0.5637017970735376\n",
            "Accuracy: 0.7151515151515152\n",
            "Average Loss: 0.5635931259555759\n",
            "Accuracy: 0.7154456193353474\n"
          ]
        },
        {
          "name": "stderr",
          "output_type": "stream",
          "text": [
            "\r333it [00:35, 10.13it/s]"
          ]
        },
        {
          "name": "stdout",
          "output_type": "stream",
          "text": [
            "Average Loss: 0.5633715804082802\n",
            "Accuracy: 0.7153614457831325\n",
            "Average Loss: 0.5632755876303435\n",
            "Accuracy: 0.7152777777777778\n",
            "Average Loss: 0.5630686297388134\n",
            "Accuracy: 0.7155688622754491\n"
          ]
        },
        {
          "name": "stderr",
          "output_type": "stream",
          "text": [
            "337it [00:35, 10.32it/s]"
          ]
        },
        {
          "name": "stdout",
          "output_type": "stream",
          "text": [
            "Average Loss: 0.5624748004016592\n",
            "Accuracy: 0.7158582089552239\n",
            "Average Loss: 0.5617282403012117\n",
            "Accuracy: 0.7165178571428571\n",
            "Average Loss: 0.5625242686413162\n",
            "Accuracy: 0.7160608308605341\n"
          ]
        },
        {
          "name": "stderr",
          "output_type": "stream",
          "text": [
            "\r339it [00:35, 10.26it/s]"
          ]
        },
        {
          "name": "stdout",
          "output_type": "stream",
          "text": [
            "Average Loss: 0.5626610420512025\n",
            "Accuracy: 0.7157914201183432\n",
            "Average Loss: 0.5630876972260377\n",
            "Accuracy: 0.715523598820059\n"
          ]
        },
        {
          "name": "stderr",
          "output_type": "stream",
          "text": [
            "\r341it [00:35, 10.20it/s]"
          ]
        },
        {
          "name": "stdout",
          "output_type": "stream",
          "text": [
            "tensor(0.5766, device='cuda:0', grad_fn=<BinaryCrossEntropyBackward0>)\n",
            "Average Loss: 0.5631274998188018\n",
            "Accuracy: 0.7154411764705882\n",
            "Average Loss: 0.5627112143899689\n",
            "Accuracy: 0.7159090909090909\n",
            "Average Loss: 0.5623272700965056\n",
            "Accuracy: 0.7161915204678363\n"
          ]
        },
        {
          "name": "stderr",
          "output_type": "stream",
          "text": [
            "\r343it [00:36, 10.23it/s]"
          ]
        },
        {
          "name": "stdout",
          "output_type": "stream",
          "text": [
            "Average Loss: 0.5623320871122377\n",
            "Accuracy: 0.7162900874635568\n",
            "Average Loss: 0.5624806848029758\n",
            "Accuracy: 0.7160247093023255\n",
            "Average Loss: 0.5632332250691843\n",
            "Accuracy: 0.7155797101449275\n"
          ]
        },
        {
          "name": "stderr",
          "output_type": "stream",
          "text": [
            "347it [00:36, 10.19it/s]"
          ]
        },
        {
          "name": "stdout",
          "output_type": "stream",
          "text": [
            "Average Loss: 0.5627819458184214\n",
            "Accuracy: 0.7158598265895953\n",
            "Average Loss: 0.5624316626735655\n",
            "Accuracy: 0.7159582132564841\n"
          ]
        },
        {
          "name": "stderr",
          "output_type": "stream",
          "text": [
            "\r349it [00:36, 10.13it/s]"
          ]
        },
        {
          "name": "stdout",
          "output_type": "stream",
          "text": [
            "Average Loss: 0.562348159394045\n",
            "Accuracy: 0.7162356321839081\n",
            "Average Loss: 0.5620580511994895\n",
            "Accuracy: 0.7165114613180515\n",
            "tensor(0.4624, device='cuda:0', grad_fn=<BinaryCrossEntropyBackward0>)\n",
            "Average Loss: 0.5617731978212084\n"
          ]
        },
        {
          "name": "stderr",
          "output_type": "stream",
          "text": [
            "\r351it [00:36, 10.09it/s]"
          ]
        },
        {
          "name": "stdout",
          "output_type": "stream",
          "text": [
            "Accuracy: 0.7164285714285714\n",
            "Average Loss: 0.5622207226916256\n",
            "Accuracy: 0.7158119658119658\n",
            "Average Loss: 0.5620545414699749\n",
            "Accuracy: 0.7159090909090909\n"
          ]
        },
        {
          "name": "stderr",
          "output_type": "stream",
          "text": [
            "355it [00:37, 10.25it/s]"
          ]
        },
        {
          "name": "stdout",
          "output_type": "stream",
          "text": [
            "Average Loss: 0.5625972511410375\n",
            "Accuracy: 0.7156515580736544\n",
            "Average Loss: 0.5624276413082403\n",
            "Accuracy: 0.7157485875706214\n",
            "Average Loss: 0.562990324094262\n",
            "Accuracy: 0.7151408450704225\n"
          ]
        },
        {
          "name": "stderr",
          "output_type": "stream",
          "text": [
            "\r357it [00:37, 10.16it/s]"
          ]
        },
        {
          "name": "stdout",
          "output_type": "stream",
          "text": [
            "Average Loss: 0.5628797940993577\n",
            "Accuracy: 0.715063202247191\n",
            "Average Loss: 0.563351482069459\n",
            "Accuracy: 0.7148109243697479\n",
            "Average Loss: 0.5635198081671858\n"
          ]
        },
        {
          "name": "stderr",
          "output_type": "stream",
          "text": [
            "\r359it [00:37, 10.15it/s]"
          ]
        },
        {
          "name": "stdout",
          "output_type": "stream",
          "text": [
            "Accuracy: 0.7149092178770949\n",
            "Average Loss: 0.5629941962223531\n",
            "Accuracy: 0.7153551532033426\n",
            "tensor(0.4387, device='cuda:0', grad_fn=<BinaryCrossEntropyBackward0>)\n",
            "Average Loss: 0.5626489780015416\n",
            "Accuracy: 0.7157986111111111\n"
          ]
        },
        {
          "name": "stderr",
          "output_type": "stream",
          "text": [
            "\r361it [00:37, 10.07it/s]"
          ]
        },
        {
          "name": "stdout",
          "output_type": "stream",
          "text": [
            "Average Loss: 0.5625289148571089\n",
            "Accuracy: 0.7155470914127424\n",
            "Average Loss: 0.562659055653198\n",
            "Accuracy: 0.7152969613259669\n"
          ]
        },
        {
          "name": "stderr",
          "output_type": "stream",
          "text": [
            "\r363it [00:38, 10.09it/s]"
          ]
        },
        {
          "name": "stdout",
          "output_type": "stream",
          "text": [
            "Average Loss: 0.5625949160455015\n",
            "Accuracy: 0.7152203856749312\n",
            "Average Loss: 0.5629981558074008\n",
            "Accuracy: 0.7149725274725275\n"
          ]
        },
        {
          "name": "stderr",
          "output_type": "stream",
          "text": [
            "366it [00:38,  9.91it/s]"
          ]
        },
        {
          "name": "stdout",
          "output_type": "stream",
          "text": [
            "Average Loss: 0.5632009071846531\n",
            "Accuracy: 0.7145547945205479\n",
            "Average Loss: 0.5633399844821033\n",
            "Accuracy: 0.7144808743169399\n"
          ]
        },
        {
          "name": "stderr",
          "output_type": "stream",
          "text": [
            "368it [00:38,  9.83it/s]"
          ]
        },
        {
          "name": "stdout",
          "output_type": "stream",
          "text": [
            "Average Loss: 0.5632951051727627\n",
            "Accuracy: 0.714066757493188\n",
            "Average Loss: 0.5635290068128834\n",
            "Accuracy: 0.7139945652173914\n"
          ]
        },
        {
          "name": "stderr",
          "output_type": "stream",
          "text": [
            "371it [00:38,  9.95it/s]"
          ]
        },
        {
          "name": "stdout",
          "output_type": "stream",
          "text": [
            "Average Loss: 0.5637292613181965\n",
            "Accuracy: 0.7135840108401084\n",
            "tensor(0.5677, device='cuda:0', grad_fn=<BinaryCrossEntropyBackward0>)\n",
            "Average Loss: 0.5637401129748371\n",
            "Accuracy: 0.7135135135135136\n",
            "Average Loss: 0.5638974937145922\n",
            "Accuracy: 0.7134433962264151\n"
          ]
        },
        {
          "name": "stderr",
          "output_type": "stream",
          "text": [
            "373it [00:39,  9.95it/s]"
          ]
        },
        {
          "name": "stdout",
          "output_type": "stream",
          "text": [
            "Average Loss: 0.5636586327386158\n",
            "Accuracy: 0.7133736559139785\n",
            "Average Loss: 0.5636681334262879\n",
            "Accuracy: 0.7138069705093834\n",
            "Average Loss: 0.5636402545447018\n"
          ]
        },
        {
          "name": "stderr",
          "output_type": "stream",
          "text": [
            "376it [00:39, 10.07it/s]"
          ]
        },
        {
          "name": "stdout",
          "output_type": "stream",
          "text": [
            "Accuracy: 0.713903743315508\n",
            "Average Loss: 0.5646229980786641\n",
            "Accuracy: 0.7131666666666666\n",
            "Average Loss: 0.5644601986129233\n",
            "Accuracy: 0.7134308510638298\n"
          ]
        },
        {
          "name": "stderr",
          "output_type": "stream",
          "text": [
            "\r378it [00:39, 10.18it/s]"
          ]
        },
        {
          "name": "stdout",
          "output_type": "stream",
          "text": [
            "Average Loss: 0.5642437840804497\n",
            "Accuracy: 0.7136936339522546\n",
            "Average Loss: 0.5642385821020792\n",
            "Accuracy: 0.7139550264550265\n",
            "Average Loss: 0.5638492973939095\n",
            "Accuracy: 0.7140501319261213\n"
          ]
        },
        {
          "name": "stderr",
          "output_type": "stream",
          "text": [
            "382it [00:40, 10.45it/s]"
          ]
        },
        {
          "name": "stdout",
          "output_type": "stream",
          "text": [
            "tensor(0.4957, device='cuda:0', grad_fn=<BinaryCrossEntropyBackward0>)\n",
            "Average Loss: 0.5636699391038794\n",
            "Accuracy: 0.7139802631578948\n",
            "Average Loss: 0.5632756067699022\n",
            "Accuracy: 0.714238845144357\n",
            "Average Loss: 0.5635703167054041\n",
            "Accuracy: 0.7138416230366492\n"
          ]
        },
        {
          "name": "stderr",
          "output_type": "stream",
          "text": [
            "\r384it [00:40, 10.56it/s]"
          ]
        },
        {
          "name": "stdout",
          "output_type": "stream",
          "text": [
            "Average Loss: 0.563163202829834\n",
            "Accuracy: 0.7140992167101827\n",
            "Average Loss: 0.563006861290584\n",
            "Accuracy: 0.71435546875\n",
            "Average Loss: 0.5625402654146219\n",
            "Accuracy: 0.714935064935065\n"
          ]
        },
        {
          "name": "stderr",
          "output_type": "stream",
          "text": [
            "388it [00:40, 10.46it/s]"
          ]
        },
        {
          "name": "stdout",
          "output_type": "stream",
          "text": [
            "Average Loss: 0.5623423748220187\n",
            "Accuracy: 0.7150259067357513\n",
            "Average Loss: 0.5621049657502531\n",
            "Accuracy: 0.7151162790697675\n",
            "Average Loss: 0.5618387072817567\n",
            "Accuracy: 0.7152061855670103\n"
          ]
        },
        {
          "name": "stderr",
          "output_type": "stream",
          "text": [
            "\r390it [00:40, 10.34it/s]"
          ]
        },
        {
          "name": "stdout",
          "output_type": "stream",
          "text": [
            "Average Loss: 0.561888098027222\n",
            "Accuracy: 0.7152956298200515\n",
            "tensor(0.4934, device='cuda:0', grad_fn=<BinaryCrossEntropyBackward0>)\n",
            "Average Loss: 0.5617125738125581\n",
            "Accuracy: 0.7155448717948718\n",
            "Average Loss: 0.5613672359825095\n",
            "Accuracy: 0.7157928388746803\n"
          ]
        },
        {
          "name": "stderr",
          "output_type": "stream",
          "text": [
            "394it [00:41, 10.45it/s]"
          ]
        },
        {
          "name": "stdout",
          "output_type": "stream",
          "text": [
            "Average Loss: 0.5610812759521057\n",
            "Accuracy: 0.7160395408163265\n",
            "Average Loss: 0.5612870645887069\n",
            "Accuracy: 0.7158078880407125\n",
            "Average Loss: 0.561488011161688\n",
            "Accuracy: 0.7157360406091371\n"
          ]
        },
        {
          "name": "stderr",
          "output_type": "stream",
          "text": [
            "\r396it [00:41, 10.42it/s]"
          ]
        },
        {
          "name": "stdout",
          "output_type": "stream",
          "text": [
            "Average Loss: 0.5611786917795109\n",
            "Accuracy: 0.7158227848101266\n",
            "Average Loss: 0.560829684138298\n",
            "Accuracy: 0.7160669191919192\n",
            "Average Loss: 0.5609955548939837\n",
            "Accuracy: 0.7163098236775819\n"
          ]
        },
        {
          "name": "stderr",
          "output_type": "stream",
          "text": [
            "400it [00:41, 10.35it/s]"
          ]
        },
        {
          "name": "stdout",
          "output_type": "stream",
          "text": [
            "Average Loss: 0.5610805068483304\n",
            "Accuracy: 0.7162374371859297\n",
            "Average Loss: 0.5608297576731011\n",
            "Accuracy: 0.7164786967418546\n",
            "tensor(0.3018, device='cuda:0', grad_fn=<BinaryCrossEntropyBackward0>)\n",
            "Average Loss: 0.5601822071522474\n",
            "Accuracy: 0.716875\n"
          ]
        },
        {
          "name": "stderr",
          "output_type": "stream",
          "text": [
            "\r402it [00:41, 10.01it/s]"
          ]
        },
        {
          "name": "stdout",
          "output_type": "stream",
          "text": [
            "Average Loss: 0.5596555084213057\n",
            "Accuracy: 0.7171134663341646\n",
            "Average Loss: 0.5593811905947491\n",
            "Accuracy: 0.7171952736318408\n"
          ]
        },
        {
          "name": "stderr",
          "output_type": "stream",
          "text": [
            "\r404it [00:42, 10.15it/s]"
          ]
        },
        {
          "name": "stdout",
          "output_type": "stream",
          "text": [
            "Average Loss: 0.5590536709015186\n",
            "Accuracy: 0.7175868486352357\n",
            "Average Loss: 0.5586432338793679\n",
            "Accuracy: 0.7179764851485149\n",
            "Average Loss: 0.5581099964954235\n",
            "Accuracy: 0.7183641975308642\n"
          ]
        },
        {
          "name": "stderr",
          "output_type": "stream",
          "text": [
            "408it [00:42, 10.39it/s]"
          ]
        },
        {
          "name": "stdout",
          "output_type": "stream",
          "text": [
            "Average Loss: 0.5580319743144688\n",
            "Accuracy: 0.718134236453202\n",
            "Average Loss: 0.5590218390528049\n",
            "Accuracy: 0.7175982800982801\n",
            "Average Loss: 0.5590053868352198\n",
            "Accuracy: 0.7176776960784313\n"
          ]
        },
        {
          "name": "stderr",
          "output_type": "stream",
          "text": [
            "\r410it [00:42, 10.38it/s]"
          ]
        },
        {
          "name": "stdout",
          "output_type": "stream",
          "text": [
            "Average Loss: 0.5588761464599292\n",
            "Accuracy: 0.71760391198044\n",
            "tensor(0.5507, device='cuda:0', grad_fn=<BinaryCrossEntropyBackward0>)\n",
            "Average Loss: 0.5588560829802257\n",
            "Accuracy: 0.7178353658536586\n",
            "Average Loss: 0.5586586020288676\n",
            "Accuracy: 0.7179136253041363\n"
          ]
        },
        {
          "name": "stderr",
          "output_type": "stream",
          "text": [
            "\r412it [00:42, 10.25it/s]"
          ]
        },
        {
          "name": "stdout",
          "output_type": "stream",
          "text": [
            "Average Loss: 0.558181463225374\n",
            "Accuracy: 0.7181432038834952\n",
            "Average Loss: 0.5582865343832797\n",
            "Accuracy: 0.7182203389830508\n",
            "Average Loss: 0.5585730108949873\n"
          ]
        },
        {
          "name": "stderr",
          "output_type": "stream",
          "text": [
            "416it [00:43, 10.23it/s]"
          ]
        },
        {
          "name": "stdout",
          "output_type": "stream",
          "text": [
            "Accuracy: 0.7178442028985508\n",
            "Average Loss: 0.5589112900825868\n",
            "Accuracy: 0.7176204819277109\n",
            "Average Loss: 0.5590331432624505\n",
            "Accuracy: 0.7173978365384616\n"
          ]
        },
        {
          "name": "stderr",
          "output_type": "stream",
          "text": [
            "\r418it [00:43, 10.35it/s]"
          ]
        },
        {
          "name": "stdout",
          "output_type": "stream",
          "text": [
            "Average Loss: 0.5586004079245835\n",
            "Accuracy: 0.7176258992805755\n",
            "Average Loss: 0.558252989889332\n",
            "Accuracy: 0.7175538277511961\n",
            "Average Loss: 0.5580536619291101\n",
            "Accuracy: 0.7177804295942721\n"
          ]
        },
        {
          "name": "stderr",
          "output_type": "stream",
          "text": [
            "422it [00:43, 10.44it/s]"
          ]
        },
        {
          "name": "stdout",
          "output_type": "stream",
          "text": [
            "tensor(0.6854, device='cuda:0', grad_fn=<BinaryCrossEntropyBackward0>)\n",
            "Average Loss: 0.5583567825101671\n",
            "Accuracy: 0.7177083333333333\n",
            "Average Loss: 0.5582952565931651\n",
            "Accuracy: 0.7174881235154394\n",
            "Average Loss: 0.5580436514593413\n",
            "Accuracy: 0.7175651658767772\n"
          ]
        },
        {
          "name": "stderr",
          "output_type": "stream",
          "text": [
            "\r424it [00:44, 10.49it/s]"
          ]
        },
        {
          "name": "stdout",
          "output_type": "stream",
          "text": [
            "Average Loss: 0.5583518352491635\n",
            "Accuracy: 0.7174940898345153\n",
            "Average Loss: 0.5582438320062071\n",
            "Accuracy: 0.7178655660377359\n",
            "Average Loss: 0.5581640224597033\n",
            "Accuracy: 0.7177941176470588\n"
          ]
        },
        {
          "name": "stderr",
          "output_type": "stream",
          "text": [
            "428it [00:44, 10.60it/s]"
          ]
        },
        {
          "name": "stdout",
          "output_type": "stream",
          "text": [
            "Average Loss: 0.5580385985648688\n",
            "Accuracy: 0.7180164319248826\n",
            "Average Loss: 0.5575346634734152\n",
            "Accuracy: 0.7182377049180327\n",
            "Average Loss: 0.5581269209212232\n",
            "Accuracy: 0.7175817757009346\n"
          ]
        },
        {
          "name": "stderr",
          "output_type": "stream",
          "text": [
            "\r430it [00:44, 10.61it/s]"
          ]
        },
        {
          "name": "stdout",
          "output_type": "stream",
          "text": [
            "Average Loss: 0.5578078865866005\n",
            "Accuracy: 0.7176573426573427\n",
            "tensor(0.5005, device='cuda:0', grad_fn=<BinaryCrossEntropyBackward0>)\n",
            "Average Loss: 0.5576745832382246\n",
            "Accuracy: 0.7175872093023256\n",
            "Average Loss: 0.5576977157952338\n",
            "Accuracy: 0.7173723897911833\n"
          ]
        },
        {
          "name": "stderr",
          "output_type": "stream",
          "text": [
            "434it [00:45, 10.70it/s]"
          ]
        },
        {
          "name": "stdout",
          "output_type": "stream",
          "text": [
            "Average Loss: 0.5574016747651277\n",
            "Accuracy: 0.7174479166666666\n",
            "Average Loss: 0.5574714562083501\n",
            "Accuracy: 0.7173787528868361\n",
            "Average Loss: 0.5570465431372691\n",
            "Accuracy: 0.7175979262672811\n"
          ]
        },
        {
          "name": "stderr",
          "output_type": "stream",
          "text": [
            "\r436it [00:45, 10.71it/s]"
          ]
        },
        {
          "name": "stdout",
          "output_type": "stream",
          "text": [
            "Average Loss: 0.5575479081992445\n",
            "Accuracy: 0.7172413793103448\n",
            "Average Loss: 0.5578143204981034\n",
            "Accuracy: 0.7170298165137615\n",
            "Average Loss: 0.5582914549507866\n",
            "Accuracy: 0.7168192219679634\n"
          ]
        },
        {
          "name": "stderr",
          "output_type": "stream",
          "text": [
            "440it [00:45, 10.72it/s]"
          ]
        },
        {
          "name": "stdout",
          "output_type": "stream",
          "text": [
            "Average Loss: 0.5581537920590405\n",
            "Accuracy: 0.7167522831050228\n",
            "Average Loss: 0.5577250122345119\n",
            "Accuracy: 0.7171127562642369\n",
            "tensor(0.5015, device='cuda:0', grad_fn=<BinaryCrossEntropyBackward0>)\n",
            "Average Loss: 0.5575971639291807\n",
            "Accuracy: 0.7170454545454545\n"
          ]
        },
        {
          "name": "stderr",
          "output_type": "stream",
          "text": [
            "\r442it [00:45, 10.73it/s]"
          ]
        },
        {
          "name": "stdout",
          "output_type": "stream",
          "text": [
            "Average Loss: 0.5573794991115865\n",
            "Accuracy: 0.7171201814058957\n",
            "Average Loss: 0.5568818226119512\n",
            "Accuracy: 0.7174773755656109\n",
            "Average Loss: 0.5564453660365422\n",
            "Accuracy: 0.7178329571106095\n"
          ]
        },
        {
          "name": "stderr",
          "output_type": "stream",
          "text": [
            "446it [00:46, 10.77it/s]"
          ]
        },
        {
          "name": "stdout",
          "output_type": "stream",
          "text": [
            "Average Loss: 0.5564377382397652\n",
            "Accuracy: 0.7179054054054054\n",
            "Average Loss: 0.5563625844007127\n",
            "Accuracy: 0.7178370786516854\n",
            "Average Loss: 0.5569226944259464\n",
            "Accuracy: 0.7174887892376681\n"
          ]
        },
        {
          "name": "stderr",
          "output_type": "stream",
          "text": [
            "\r448it [00:46, 10.80it/s]"
          ]
        },
        {
          "name": "stdout",
          "output_type": "stream",
          "text": [
            "Average Loss: 0.5563004228892743\n",
            "Accuracy: 0.7179809843400448\n",
            "Average Loss: 0.5559807278082839\n",
            "Accuracy: 0.7179129464285714\n",
            "Average Loss: 0.5558177392042029\n",
            "Accuracy: 0.7181236080178174\n"
          ]
        },
        {
          "name": "stderr",
          "output_type": "stream",
          "text": [
            "452it [00:46, 10.80it/s]"
          ]
        },
        {
          "name": "stdout",
          "output_type": "stream",
          "text": [
            "tensor(0.4652, device='cuda:0', grad_fn=<BinaryCrossEntropyBackward0>)\n",
            "Average Loss: 0.5556163032187356\n",
            "Accuracy: 0.7183333333333334\n",
            "Average Loss: 0.5556272214770053\n",
            "Accuracy: 0.7184035476718403\n",
            "Average Loss: 0.5553308333707067\n",
            "Accuracy: 0.7183351769911505\n"
          ]
        },
        {
          "name": "stderr",
          "output_type": "stream",
          "text": [
            "\r454it [00:46, 10.76it/s]"
          ]
        },
        {
          "name": "stdout",
          "output_type": "stream",
          "text": [
            "Average Loss: 0.5556590684728644\n",
            "Accuracy: 0.7182671081677704\n",
            "Average Loss: 0.5559965697679226\n",
            "Accuracy: 0.7179240088105727\n",
            "Average Loss: 0.556484048969143\n",
            "Accuracy: 0.717445054945055\n"
          ]
        },
        {
          "name": "stderr",
          "output_type": "stream",
          "text": [
            "458it [00:47, 10.82it/s]"
          ]
        },
        {
          "name": "stdout",
          "output_type": "stream",
          "text": [
            "Average Loss: 0.556462270387432\n",
            "Accuracy: 0.7172423245614035\n",
            "Average Loss: 0.5564023686707411\n",
            "Accuracy: 0.7174507658643327\n",
            "Average Loss: 0.5566422746691642\n",
            "Accuracy: 0.7173853711790393\n"
          ]
        },
        {
          "name": "stderr",
          "output_type": "stream",
          "text": [
            "\r460it [00:47, 10.80it/s]"
          ]
        },
        {
          "name": "stdout",
          "output_type": "stream",
          "text": [
            "Average Loss: 0.5573936316442386\n",
            "Accuracy: 0.7167755991285403\n",
            "tensor(0.7192, device='cuda:0', grad_fn=<BinaryCrossEntropyBackward0>)\n",
            "Average Loss: 0.5577453201231749\n",
            "Accuracy: 0.7165760869565218\n",
            "Average Loss: 0.5573393471070329\n",
            "Accuracy: 0.7169197396963124\n"
          ]
        },
        {
          "name": "stderr",
          "output_type": "stream",
          "text": [
            "464it [00:47, 10.80it/s]"
          ]
        },
        {
          "name": "stdout",
          "output_type": "stream",
          "text": [
            "Average Loss: 0.5569270664737338\n",
            "Accuracy: 0.7171266233766234\n",
            "Average Loss: 0.5571032694297526\n",
            "Accuracy: 0.7169276457883369\n",
            "Average Loss: 0.5567377553289307\n",
            "Accuracy: 0.7171336206896551\n"
          ]
        },
        {
          "name": "stderr",
          "output_type": "stream",
          "text": [
            "\r466it [00:48, 10.78it/s]"
          ]
        },
        {
          "name": "stdout",
          "output_type": "stream",
          "text": [
            "Average Loss: 0.5565906840626912\n",
            "Accuracy: 0.7173387096774193\n",
            "Average Loss: 0.5565007805440559\n",
            "Accuracy: 0.717274678111588\n",
            "Average Loss: 0.5564889637892966\n",
            "Accuracy: 0.7170770877944326\n"
          ]
        },
        {
          "name": "stderr",
          "output_type": "stream",
          "text": [
            "470it [00:48, 10.80it/s]"
          ]
        },
        {
          "name": "stdout",
          "output_type": "stream",
          "text": [
            "Average Loss: 0.5562851730192828\n",
            "Accuracy: 0.7172809829059829\n",
            "Average Loss: 0.5564500421984617\n",
            "Accuracy: 0.7173507462686567\n",
            "tensor(0.3219, device='cuda:0', grad_fn=<BinaryCrossEntropyBackward0>)\n",
            "Average Loss: 0.555951051635945\n",
            "Accuracy: 0.7178191489361702\n"
          ]
        },
        {
          "name": "stderr",
          "output_type": "stream",
          "text": [
            "\r472it [00:48, 10.83it/s]"
          ]
        },
        {
          "name": "stdout",
          "output_type": "stream",
          "text": [
            "Average Loss: 0.5556899176281729\n",
            "Accuracy: 0.7180201698513801\n",
            "Average Loss: 0.5555864604095281\n",
            "Accuracy: 0.717823093220339\n",
            "Average Loss: 0.5555436829179841\n",
            "Accuracy: 0.7180232558139535\n"
          ]
        },
        {
          "name": "stderr",
          "output_type": "stream",
          "text": [
            "476it [00:48, 10.61it/s]"
          ]
        },
        {
          "name": "stdout",
          "output_type": "stream",
          "text": [
            "Average Loss: 0.5555224761932711\n",
            "Accuracy: 0.7179588607594937\n",
            "Average Loss: 0.555151411106712\n",
            "Accuracy: 0.7182894736842105\n",
            "Average Loss: 0.5549598275488165\n",
            "Accuracy: 0.7184873949579832\n"
          ]
        },
        {
          "name": "stderr",
          "output_type": "stream",
          "text": [
            "\r478it [00:49, 10.66it/s]"
          ]
        },
        {
          "name": "stdout",
          "output_type": "stream",
          "text": [
            "Average Loss: 0.5545941671860293\n",
            "Accuracy: 0.7185534591194969\n",
            "Average Loss: 0.5551317580449531\n",
            "Accuracy: 0.7183577405857741\n",
            "Average Loss: 0.55491153612764\n",
            "Accuracy: 0.718554279749478\n"
          ]
        },
        {
          "name": "stderr",
          "output_type": "stream",
          "text": [
            "482it [00:49, 10.77it/s]"
          ]
        },
        {
          "name": "stdout",
          "output_type": "stream",
          "text": [
            "tensor(0.5603, device='cuda:0', grad_fn=<BinaryCrossEntropyBackward0>)\n",
            "Average Loss: 0.5549228323623538\n",
            "Accuracy: 0.7184895833333333\n",
            "Average Loss: 0.5549952628830614\n",
            "Accuracy: 0.7182952182952183\n",
            "Average Loss: 0.5545639719087553\n",
            "Accuracy: 0.71875\n"
          ]
        },
        {
          "name": "stderr",
          "output_type": "stream",
          "text": [
            "\r484it [00:49, 10.77it/s]"
          ]
        },
        {
          "name": "stdout",
          "output_type": "stream",
          "text": [
            "Average Loss: 0.5544981813949087\n",
            "Accuracy: 0.718944099378882\n",
            "Average Loss: 0.5542452284250378\n",
            "Accuracy: 0.7191373966942148\n",
            "Average Loss: 0.5541017932375681\n",
            "Accuracy: 0.719201030927835\n"
          ]
        },
        {
          "name": "stderr",
          "output_type": "stream",
          "text": [
            "488it [00:50, 10.84it/s]"
          ]
        },
        {
          "name": "stdout",
          "output_type": "stream",
          "text": [
            "Average Loss: 0.5539199283706798\n",
            "Accuracy: 0.7192644032921811\n",
            "Average Loss: 0.5536640599155818\n",
            "Accuracy: 0.7194558521560575\n",
            "Average Loss: 0.5531965665763519\n",
            "Accuracy: 0.7197745901639344\n"
          ]
        },
        {
          "name": "stderr",
          "output_type": "stream",
          "text": [
            "\r490it [00:50, 10.83it/s]"
          ]
        },
        {
          "name": "stdout",
          "output_type": "stream",
          "text": [
            "Average Loss: 0.5527407606198987\n",
            "Accuracy: 0.7200920245398773\n",
            "tensor(0.6343, device='cuda:0', grad_fn=<BinaryCrossEntropyBackward0>)\n",
            "Average Loss: 0.5529071738525313\n",
            "Accuracy: 0.7198979591836735\n",
            "Average Loss: 0.5523449680227369\n",
            "Accuracy: 0.720213849287169\n"
          ]
        },
        {
          "name": "stderr",
          "output_type": "stream",
          "text": [
            "494it [00:50, 10.81it/s]"
          ]
        },
        {
          "name": "stdout",
          "output_type": "stream",
          "text": [
            "Average Loss: 0.5523911108815573\n",
            "Accuracy: 0.7202743902439024\n",
            "Average Loss: 0.5523865080266647\n",
            "Accuracy: 0.7200811359026369\n",
            "Average Loss: 0.552503803119003\n",
            "Accuracy: 0.7200151821862348\n"
          ]
        },
        {
          "name": "stderr",
          "output_type": "stream",
          "text": [
            "\r496it [00:50, 10.76it/s]"
          ]
        },
        {
          "name": "stdout",
          "output_type": "stream",
          "text": [
            "Average Loss: 0.5529159610921687\n",
            "Accuracy: 0.7196969696969697\n",
            "Average Loss: 0.5529317683990924\n",
            "Accuracy: 0.719758064516129\n",
            "Average Loss: 0.552777778934425\n",
            "Accuracy: 0.7196931589537223\n"
          ]
        },
        {
          "name": "stderr",
          "output_type": "stream",
          "text": [
            "500it [00:51, 10.58it/s]"
          ]
        },
        {
          "name": "stdout",
          "output_type": "stream",
          "text": [
            "Average Loss: 0.5523876882341492\n",
            "Accuracy: 0.7200050200803213\n",
            "Average Loss: 0.552705407082915\n",
            "Accuracy: 0.719814629258517\n",
            "tensor(0.4049, device='cuda:0', grad_fn=<BinaryCrossEntropyBackward0>)\n",
            "Average Loss: 0.5524098224043846\n",
            "Accuracy: 0.719875\n"
          ]
        },
        {
          "name": "stderr",
          "output_type": "stream",
          "text": [
            "\r502it [00:51, 10.64it/s]"
          ]
        },
        {
          "name": "stdout",
          "output_type": "stream",
          "text": [
            "Average Loss: 0.5530129031625812\n",
            "Accuracy: 0.7194361277445109\n",
            "Average Loss: 0.5528383132114828\n",
            "Accuracy: 0.7194970119521913\n",
            "Average Loss: 0.5529316538726359\n",
            "Accuracy: 0.7195576540755467\n"
          ]
        },
        {
          "name": "stderr",
          "output_type": "stream",
          "text": [
            "506it [00:51, 10.75it/s]"
          ]
        },
        {
          "name": "stdout",
          "output_type": "stream",
          "text": [
            "Average Loss: 0.5532214448210739\n",
            "Accuracy: 0.7192460317460317\n",
            "Average Loss: 0.5532608770497954\n",
            "Accuracy: 0.7191831683168317\n",
            "Average Loss: 0.5532292214189123\n",
            "Accuracy: 0.7191205533596838\n"
          ]
        },
        {
          "name": "stderr",
          "output_type": "stream",
          "text": [
            "\r508it [00:51, 10.72it/s]"
          ]
        },
        {
          "name": "stdout",
          "output_type": "stream",
          "text": [
            "Average Loss: 0.5535900295956365\n",
            "Accuracy: 0.7188116370808678\n",
            "Average Loss: 0.5533663963121692\n",
            "Accuracy: 0.718996062992126\n",
            "Average Loss: 0.5539643892721952\n",
            "Accuracy: 0.7184430255402751\n"
          ]
        },
        {
          "name": "stderr",
          "output_type": "stream",
          "text": [
            "512it [00:52, 10.60it/s]"
          ]
        },
        {
          "name": "stdout",
          "output_type": "stream",
          "text": [
            "tensor(0.6979, device='cuda:0', grad_fn=<BinaryCrossEntropyBackward0>)\n",
            "Average Loss: 0.5542465725950166\n",
            "Accuracy: 0.7182598039215686\n",
            "Average Loss: 0.5539061287144625\n",
            "Accuracy: 0.7184442270058709\n",
            "Average Loss: 0.5537886368110776\n",
            "Accuracy: 0.7183837890625\n"
          ]
        },
        {
          "name": "stderr",
          "output_type": "stream",
          "text": [
            "\r514it [00:52, 10.55it/s]"
          ]
        },
        {
          "name": "stdout",
          "output_type": "stream",
          "text": [
            "Average Loss: 0.5533989050932098\n",
            "Accuracy: 0.7188109161793372\n",
            "Average Loss: 0.5531575874595791\n",
            "Accuracy: 0.71875\n",
            "Average Loss: 0.5529446758112861\n",
            "Accuracy: 0.7188106796116505\n"
          ]
        },
        {
          "name": "stderr",
          "output_type": "stream",
          "text": [
            "518it [00:52, 10.41it/s]"
          ]
        },
        {
          "name": "stdout",
          "output_type": "stream",
          "text": [
            "Average Loss: 0.5529515032851419\n",
            "Accuracy: 0.7189922480620154\n",
            "Average Loss: 0.5527725511408866\n",
            "Accuracy: 0.7190522243713733\n",
            "Average Loss: 0.5532046431049877\n",
            "Accuracy: 0.7189913127413128\n"
          ]
        },
        {
          "name": "stderr",
          "output_type": "stream",
          "text": [
            "\r520it [00:53, 10.16it/s]"
          ]
        },
        {
          "name": "stdout",
          "output_type": "stream",
          "text": [
            "Average Loss: 0.5533672408102105\n",
            "Accuracy: 0.7188102119460501\n",
            "tensor(0.5472, device='cuda:0', grad_fn=<BinaryCrossEntropyBackward0>)\n",
            "Average Loss: 0.553355306157699\n",
            "Accuracy: 0.7188701923076923\n",
            "Average Loss: 0.5532929480876666\n",
            "Accuracy: 0.718809980806142\n"
          ]
        },
        {
          "name": "stderr",
          "output_type": "stream",
          "text": [
            "524it [00:53, 10.10it/s]"
          ]
        },
        {
          "name": "stdout",
          "output_type": "stream",
          "text": [
            "Average Loss: 0.5532866917350739\n",
            "Accuracy: 0.7185105363984674\n",
            "Average Loss: 0.5530301167221872\n",
            "Accuracy: 0.7185707456978967\n",
            "Average Loss: 0.5527841677988758\n",
            "Accuracy: 0.7188692748091603\n"
          ]
        },
        {
          "name": "stderr",
          "output_type": "stream",
          "text": [
            "\r526it [00:53, 10.24it/s]"
          ]
        },
        {
          "name": "stdout",
          "output_type": "stream",
          "text": [
            "Average Loss: 0.5527790588991982\n",
            "Accuracy: 0.7188095238095238\n",
            "Average Loss: 0.5524209721346772\n",
            "Accuracy: 0.7192252851711026\n",
            "Average Loss: 0.5522698120442016\n",
            "Accuracy: 0.7192836812144212\n"
          ]
        },
        {
          "name": "stderr",
          "output_type": "stream",
          "text": [
            "530it [00:54, 10.35it/s]"
          ]
        },
        {
          "name": "stdout",
          "output_type": "stream",
          "text": [
            "Average Loss: 0.552082977511666\n",
            "Accuracy: 0.7193418560606061\n",
            "Average Loss: 0.5517533212505802\n",
            "Accuracy: 0.7197542533081286\n",
            "tensor(0.6257, device='cuda:0', grad_fn=<BinaryCrossEntropyBackward0>)\n",
            "Average Loss: 0.5518927701801624\n",
            "Accuracy: 0.7199292452830188\n"
          ]
        },
        {
          "name": "stderr",
          "output_type": "stream",
          "text": [
            "\r532it [00:54, 10.41it/s]"
          ]
        },
        {
          "name": "stdout",
          "output_type": "stream",
          "text": [
            "Average Loss: 0.5523167329431703\n",
            "Accuracy: 0.7197504708097928\n",
            "Average Loss: 0.5525814547462571\n",
            "Accuracy: 0.7196898496240601\n",
            "Average Loss: 0.5524585745236216\n",
            "Accuracy: 0.7198639774859287\n"
          ]
        },
        {
          "name": "stderr",
          "output_type": "stream",
          "text": [
            "536it [00:54, 10.50it/s]"
          ]
        },
        {
          "name": "stdout",
          "output_type": "stream",
          "text": [
            "Average Loss: 0.5524332939127411\n",
            "Accuracy: 0.7198033707865169\n",
            "Average Loss: 0.5520677889061866\n",
            "Accuracy: 0.7199766355140187\n",
            "Average Loss: 0.5518951842477963\n",
            "Accuracy: 0.7201492537313433\n"
          ]
        },
        {
          "name": "stderr",
          "output_type": "stream",
          "text": [
            "\r538it [00:54, 10.52it/s]"
          ]
        },
        {
          "name": "stdout",
          "output_type": "stream",
          "text": [
            "Average Loss: 0.5522246795326637\n",
            "Accuracy: 0.7198556797020484\n",
            "Average Loss: 0.551772652173131\n",
            "Accuracy: 0.7202602230483272\n",
            "Average Loss: 0.5523314305714199\n",
            "Accuracy: 0.7201994434137291\n"
          ]
        },
        {
          "name": "stderr",
          "output_type": "stream",
          "text": [
            "542it [00:55, 10.57it/s]"
          ]
        },
        {
          "name": "stdout",
          "output_type": "stream",
          "text": [
            "tensor(0.8973, device='cuda:0', grad_fn=<BinaryCrossEntropyBackward0>)\n",
            "Average Loss: 0.5529702893009892\n",
            "Accuracy: 0.7196759259259259\n",
            "Average Loss: 0.5527725976628429\n",
            "Accuracy: 0.719847504621072\n",
            "Average Loss: 0.55277522452643\n",
            "Accuracy: 0.7197878228782287\n"
          ]
        },
        {
          "name": "stderr",
          "output_type": "stream",
          "text": [
            "\r544it [00:55, 10.65it/s]"
          ]
        },
        {
          "name": "stdout",
          "output_type": "stream",
          "text": [
            "Average Loss: 0.552644721271803\n",
            "Accuracy: 0.7196132596685083\n",
            "Average Loss: 0.5526337575386552\n",
            "Accuracy: 0.7194393382352942\n",
            "Average Loss: 0.552503496900611\n",
            "Accuracy: 0.7196100917431193\n"
          ]
        },
        {
          "name": "stderr",
          "output_type": "stream",
          "text": [
            "548it [00:55, 10.64it/s]"
          ]
        },
        {
          "name": "stdout",
          "output_type": "stream",
          "text": [
            "Average Loss: 0.5529081534335029\n",
            "Accuracy: 0.7193223443223443\n",
            "Average Loss: 0.5525559900665632\n",
            "Accuracy: 0.7197212065813529\n",
            "Average Loss: 0.5524235790337089\n",
            "Accuracy: 0.7198905109489051\n"
          ]
        },
        {
          "name": "stderr",
          "output_type": "stream",
          "text": [
            "\r550it [00:55, 10.65it/s]"
          ]
        },
        {
          "name": "stdout",
          "output_type": "stream",
          "text": [
            "Average Loss: 0.5529785021080997\n",
            "Accuracy: 0.7194899817850637\n",
            "tensor(0.7184, device='cuda:0', grad_fn=<BinaryCrossEntropyBackward0>)\n",
            "Average Loss: 0.5532792903618379\n",
            "Accuracy: 0.7195454545454546\n",
            "Average Loss: 0.5536309237813344\n",
            "Accuracy: 0.719147005444646\n"
          ]
        },
        {
          "name": "stderr",
          "output_type": "stream",
          "text": [
            "554it [00:56, 10.64it/s]"
          ]
        },
        {
          "name": "stdout",
          "output_type": "stream",
          "text": [
            "Average Loss: 0.5535295141887837\n",
            "Accuracy: 0.7190896739130435\n",
            "Average Loss: 0.553350495225051\n",
            "Accuracy: 0.719371609403255\n",
            "Average Loss: 0.5534678620659488\n",
            "Accuracy: 0.7190884476534296\n"
          ]
        },
        {
          "name": "stderr",
          "output_type": "stream",
          "text": [
            "\r556it [00:56, 10.72it/s]"
          ]
        },
        {
          "name": "stdout",
          "output_type": "stream",
          "text": [
            "Average Loss: 0.5532072530673431\n",
            "Accuracy: 0.719481981981982\n",
            "Average Loss: 0.5530002021210657\n",
            "Accuracy: 0.719761690647482\n",
            "Average Loss: 0.5527943040459974\n",
            "Accuracy: 0.72004039497307\n"
          ]
        },
        {
          "name": "stderr",
          "output_type": "stream",
          "text": [
            "560it [00:56, 10.78it/s]"
          ]
        },
        {
          "name": "stdout",
          "output_type": "stream",
          "text": [
            "Average Loss: 0.5528973538068033\n",
            "Accuracy: 0.7198700716845878\n",
            "Average Loss: 0.5528376738479185\n",
            "Accuracy: 0.7198121645796064\n",
            "tensor(0.3448, device='cuda:0', grad_fn=<BinaryCrossEntropyBackward0>)\n",
            "Average Loss: 0.5524662590984787\n",
            "Accuracy: 0.7200892857142858\n"
          ]
        },
        {
          "name": "stderr",
          "output_type": "stream",
          "text": [
            "\r562it [00:57, 10.79it/s]"
          ]
        },
        {
          "name": "stdout",
          "output_type": "stream",
          "text": [
            "Average Loss: 0.5522691652099079\n",
            "Accuracy: 0.7203654188948306\n",
            "Average Loss: 0.5519502158691026\n",
            "Accuracy: 0.7206405693950177\n",
            "Average Loss: 0.5520220249626607\n",
            "Accuracy: 0.7209147424511545\n"
          ]
        },
        {
          "name": "stderr",
          "output_type": "stream",
          "text": [
            "566it [00:57, 10.81it/s]"
          ]
        },
        {
          "name": "stdout",
          "output_type": "stream",
          "text": [
            "Average Loss: 0.5517818920367153\n",
            "Accuracy: 0.7210771276595744\n",
            "Average Loss: 0.5516941554778445\n",
            "Accuracy: 0.7210176991150442\n",
            "Average Loss: 0.5515690062050264\n",
            "Accuracy: 0.7211793286219081\n"
          ]
        },
        {
          "name": "stderr",
          "output_type": "stream",
          "text": [
            "\r568it [00:57, 10.86it/s]"
          ]
        },
        {
          "name": "stdout",
          "output_type": "stream",
          "text": [
            "Average Loss: 0.5514500556378978\n",
            "Accuracy: 0.7213403880070547\n",
            "Average Loss: 0.5516795233731538\n",
            "Accuracy: 0.7212808098591549\n",
            "Average Loss: 0.5514452765402769\n",
            "Accuracy: 0.7213312829525483\n"
          ]
        },
        {
          "name": "stderr",
          "output_type": "stream",
          "text": [
            "572it [00:57, 10.85it/s]"
          ]
        },
        {
          "name": "stdout",
          "output_type": "stream",
          "text": [
            "tensor(0.3846, device='cuda:0', grad_fn=<BinaryCrossEntropyBackward0>)\n",
            "Average Loss: 0.5511525997990057\n",
            "Accuracy: 0.7216008771929825\n",
            "Average Loss: 0.5508946027939458\n",
            "Accuracy: 0.7217600700525394\n",
            "Average Loss: 0.5508903665142459\n",
            "Accuracy: 0.7218094405594405\n"
          ]
        },
        {
          "name": "stderr",
          "output_type": "stream",
          "text": [
            "\r573it [00:58,  9.87it/s]\n"
          ]
        },
        {
          "name": "stdout",
          "output_type": "stream",
          "text": [
            "Average Loss: 0.5509322615402115\n",
            "Accuracy: 0.7216404886561955\n"
          ]
        },
        {
          "name": "stderr",
          "output_type": "stream",
          "text": [
            "2it [00:00, 10.62it/s]"
          ]
        },
        {
          "name": "stdout",
          "output_type": "stream",
          "text": [
            "Average Loss: 0.2844313681125641\n",
            "Accuracy: 0.9375\n",
            "Average Loss: 0.34180794656276703\n",
            "Accuracy: 0.90625\n",
            "Average Loss: 0.3853696087996165\n",
            "Accuracy: 0.8333333333333334\n"
          ]
        },
        {
          "name": "stderr",
          "output_type": "stream",
          "text": [
            "\r4it [00:00, 10.35it/s]"
          ]
        },
        {
          "name": "stdout",
          "output_type": "stream",
          "text": [
            "Average Loss: 0.34989525377750397\n",
            "Accuracy: 0.875\n",
            "Average Loss: 0.3632649421691895\n",
            "Accuracy: 0.85\n"
          ]
        },
        {
          "name": "stderr",
          "output_type": "stream",
          "text": [
            "\r6it [00:00, 10.42it/s]"
          ]
        },
        {
          "name": "stdout",
          "output_type": "stream",
          "text": [
            "Average Loss: 0.38783788681030273\n",
            "Accuracy: 0.84375\n"
          ]
        },
        {
          "name": "stderr",
          "output_type": "stream",
          "text": [
            "\r8it [00:00, 10.62it/s]"
          ]
        },
        {
          "name": "stdout",
          "output_type": "stream",
          "text": [
            "Average Loss: 0.365470500929015\n",
            "Accuracy: 0.8660714285714286\n",
            "Average Loss: 0.3802014570683241\n",
            "Accuracy: 0.8671875\n",
            "Average Loss: 0.36623962885803646\n",
            "Accuracy: 0.8680555555555556\n"
          ]
        },
        {
          "name": "stderr",
          "output_type": "stream",
          "text": [
            "\r10it [00:00, 10.59it/s]"
          ]
        },
        {
          "name": "stdout",
          "output_type": "stream",
          "text": [
            "tensor(0.4410, device='cuda:0', grad_fn=<BinaryCrossEntropyBackward0>)\n",
            "Average Loss: 0.3737109526991844\n",
            "Accuracy: 0.8625\n",
            "Average Loss: 0.38131349059668457\n",
            "Accuracy: 0.8522727272727273\n"
          ]
        },
        {
          "name": "stderr",
          "output_type": "stream",
          "text": [
            "\r12it [00:01, 10.61it/s]"
          ]
        },
        {
          "name": "stdout",
          "output_type": "stream",
          "text": [
            "Average Loss: 0.393049372980992\n",
            "Accuracy: 0.84375\n"
          ]
        },
        {
          "name": "stderr",
          "output_type": "stream",
          "text": [
            "\r14it [00:01, 10.74it/s]"
          ]
        },
        {
          "name": "stdout",
          "output_type": "stream",
          "text": [
            "Average Loss: 0.4036151755314607\n",
            "Accuracy: 0.8413461538461539\n",
            "Average Loss: 0.4061140535133226\n",
            "Accuracy: 0.8348214285714286\n",
            "Average Loss: 0.431833345691363\n",
            "Accuracy: 0.8208333333333333\n"
          ]
        },
        {
          "name": "stderr",
          "output_type": "stream",
          "text": [
            "\r16it [00:01, 10.79it/s]"
          ]
        },
        {
          "name": "stdout",
          "output_type": "stream",
          "text": [
            "Average Loss: 0.42999080289155245\n",
            "Accuracy: 0.82421875\n",
            "Average Loss: 0.4338912622017019\n",
            "Accuracy: 0.8161764705882353\n"
          ]
        },
        {
          "name": "stderr",
          "output_type": "stream",
          "text": [
            "\r18it [00:01, 10.73it/s]"
          ]
        },
        {
          "name": "stdout",
          "output_type": "stream",
          "text": [
            "Average Loss: 0.4302552251352204\n",
            "Accuracy: 0.8159722222222222\n"
          ]
        },
        {
          "name": "stderr",
          "output_type": "stream",
          "text": [
            "\r20it [00:01, 10.73it/s]"
          ]
        },
        {
          "name": "stdout",
          "output_type": "stream",
          "text": [
            "Average Loss: 0.4207572042942047\n",
            "Accuracy: 0.819078947368421\n",
            "tensor(0.3988, device='cuda:0', grad_fn=<BinaryCrossEntropyBackward0>)\n",
            "Average Loss: 0.4196597203612328\n",
            "Accuracy: 0.821875\n",
            "Average Loss: 0.4240657701378777\n",
            "Accuracy: 0.8184523809523809\n"
          ]
        },
        {
          "name": "stderr",
          "output_type": "stream",
          "text": [
            "\r22it [00:02, 10.74it/s]"
          ]
        },
        {
          "name": "stdout",
          "output_type": "stream",
          "text": [
            "Average Loss: 0.42747923731803894\n",
            "Accuracy: 0.8181818181818182\n",
            "Average Loss: 0.43608774568723596\n",
            "Accuracy: 0.8097826086956522\n"
          ]
        },
        {
          "name": "stderr",
          "output_type": "stream",
          "text": [
            "\r24it [00:02, 10.71it/s]"
          ]
        },
        {
          "name": "stdout",
          "output_type": "stream",
          "text": [
            "Average Loss: 0.4404154196381569\n",
            "Accuracy: 0.8020833333333334\n"
          ]
        },
        {
          "name": "stderr",
          "output_type": "stream",
          "text": [
            "\r26it [00:02, 10.71it/s]"
          ]
        },
        {
          "name": "stdout",
          "output_type": "stream",
          "text": [
            "Average Loss: 0.4423849654197693\n",
            "Accuracy: 0.7975\n",
            "Average Loss: 0.43757683726457447\n",
            "Accuracy: 0.8004807692307693\n",
            "Average Loss: 0.4378078248765733\n",
            "Accuracy: 0.8009259259259259\n"
          ]
        },
        {
          "name": "stderr",
          "output_type": "stream",
          "text": [
            "\r28it [00:02, 10.72it/s]"
          ]
        },
        {
          "name": "stdout",
          "output_type": "stream",
          "text": [
            "Average Loss: 0.4362481193883078\n",
            "Accuracy: 0.7991071428571429\n",
            "Average Loss: 0.4356560665985634\n",
            "Accuracy: 0.8017241379310345\n"
          ]
        },
        {
          "name": "stderr",
          "output_type": "stream",
          "text": [
            "\r30it [00:02, 10.68it/s]"
          ]
        },
        {
          "name": "stdout",
          "output_type": "stream",
          "text": [
            "tensor(0.4199, device='cuda:0', grad_fn=<BinaryCrossEntropyBackward0>)\n",
            "Average Loss: 0.43513014912605286\n",
            "Accuracy: 0.8\n"
          ]
        },
        {
          "name": "stderr",
          "output_type": "stream",
          "text": [
            "\r32it [00:03, 10.63it/s]"
          ]
        },
        {
          "name": "stdout",
          "output_type": "stream",
          "text": [
            "Average Loss: 0.4288795874003441\n",
            "Accuracy: 0.8044354838709677\n",
            "Average Loss: 0.4261167827062309\n",
            "Accuracy: 0.80859375\n",
            "Average Loss: 0.4268303102616108\n",
            "Accuracy: 0.8087121212121212\n"
          ]
        },
        {
          "name": "stderr",
          "output_type": "stream",
          "text": [
            "\r34it [00:03, 10.64it/s]"
          ]
        },
        {
          "name": "stdout",
          "output_type": "stream",
          "text": [
            "Average Loss: 0.4243066157488262\n",
            "Accuracy: 0.8106617647058824\n",
            "Average Loss: 0.4221569797822407\n",
            "Accuracy: 0.8107142857142857\n"
          ]
        },
        {
          "name": "stderr",
          "output_type": "stream",
          "text": [
            "\r36it [00:03, 10.66it/s]"
          ]
        },
        {
          "name": "stdout",
          "output_type": "stream",
          "text": [
            "Average Loss: 0.42435336154368186\n",
            "Accuracy: 0.8072916666666666\n"
          ]
        },
        {
          "name": "stderr",
          "output_type": "stream",
          "text": [
            "\r38it [00:03, 10.73it/s]"
          ]
        },
        {
          "name": "stdout",
          "output_type": "stream",
          "text": [
            "Average Loss: 0.42100228852516897\n",
            "Accuracy: 0.8091216216216216\n",
            "Average Loss: 0.41895599153481033\n",
            "Accuracy: 0.8125\n",
            "Average Loss: 0.41969719720192444\n",
            "Accuracy: 0.8092948717948718\n"
          ]
        },
        {
          "name": "stderr",
          "output_type": "stream",
          "text": [
            "\r40it [00:03, 10.73it/s]"
          ]
        },
        {
          "name": "stdout",
          "output_type": "stream",
          "text": [
            "tensor(0.5978, device='cuda:0', grad_fn=<BinaryCrossEntropyBackward0>)\n",
            "Average Loss: 0.42414917759597304\n",
            "Accuracy: 0.80625\n",
            "Average Loss: 0.4306573457107311\n",
            "Accuracy: 0.8033536585365854\n"
          ]
        },
        {
          "name": "stderr",
          "output_type": "stream",
          "text": [
            "\r42it [00:03, 10.75it/s]"
          ]
        },
        {
          "name": "stdout",
          "output_type": "stream",
          "text": [
            "Average Loss: 0.427633798902943\n",
            "Accuracy: 0.8065476190476191\n"
          ]
        },
        {
          "name": "stderr",
          "output_type": "stream",
          "text": [
            "\r44it [00:04, 10.75it/s]"
          ]
        },
        {
          "name": "stdout",
          "output_type": "stream",
          "text": [
            "Average Loss: 0.4269505909015966\n",
            "Accuracy: 0.8066860465116279\n",
            "Average Loss: 0.4263944195752794\n",
            "Accuracy: 0.8096590909090909\n",
            "Average Loss: 0.42672207918432026\n",
            "Accuracy: 0.8069444444444445\n"
          ]
        },
        {
          "name": "stderr",
          "output_type": "stream",
          "text": [
            "\r46it [00:04, 10.71it/s]"
          ]
        },
        {
          "name": "stdout",
          "output_type": "stream",
          "text": [
            "Average Loss: 0.4299743904367737\n",
            "Accuracy: 0.8016304347826086\n",
            "Average Loss: 0.43414888768754106\n",
            "Accuracy: 0.8031914893617021\n"
          ]
        },
        {
          "name": "stderr",
          "output_type": "stream",
          "text": [
            "\r48it [00:04, 10.66it/s]"
          ]
        },
        {
          "name": "stdout",
          "output_type": "stream",
          "text": [
            "Average Loss: 0.4356847185020645\n",
            "Accuracy: 0.8046875\n"
          ]
        },
        {
          "name": "stderr",
          "output_type": "stream",
          "text": [
            "\r50it [00:04, 10.76it/s]"
          ]
        },
        {
          "name": "stdout",
          "output_type": "stream",
          "text": [
            "Average Loss: 0.436227168051564\n",
            "Accuracy: 0.8035714285714286\n",
            "tensor(0.3362, device='cuda:0', grad_fn=<BinaryCrossEntropyBackward0>)\n",
            "Average Loss: 0.4342260274291039\n",
            "Accuracy: 0.80625\n",
            "Average Loss: 0.4362598946865867\n",
            "Accuracy: 0.803921568627451\n"
          ]
        },
        {
          "name": "stderr",
          "output_type": "stream",
          "text": [
            "\r52it [00:04, 10.80it/s]"
          ]
        },
        {
          "name": "stdout",
          "output_type": "stream",
          "text": [
            "Average Loss: 0.4369489994759743\n",
            "Accuracy: 0.8028846153846154\n",
            "Average Loss: 0.4383779412732934\n",
            "Accuracy: 0.8018867924528302\n"
          ]
        },
        {
          "name": "stderr",
          "output_type": "stream",
          "text": [
            "\r54it [00:05, 10.85it/s]"
          ]
        },
        {
          "name": "stdout",
          "output_type": "stream",
          "text": [
            "Average Loss: 0.4369631406885606\n",
            "Accuracy: 0.8032407407407407\n"
          ]
        },
        {
          "name": "stderr",
          "output_type": "stream",
          "text": [
            "\r56it [00:05, 10.88it/s]"
          ]
        },
        {
          "name": "stdout",
          "output_type": "stream",
          "text": [
            "Average Loss: 0.43282097713513806\n",
            "Accuracy: 0.8056818181818182\n",
            "Average Loss: 0.4324255418032408\n",
            "Accuracy: 0.8046875\n",
            "Average Loss: 0.435597237003477\n",
            "Accuracy: 0.8004385964912281\n"
          ]
        },
        {
          "name": "stderr",
          "output_type": "stream",
          "text": [
            "\r58it [00:05, 10.90it/s]"
          ]
        },
        {
          "name": "stdout",
          "output_type": "stream",
          "text": [
            "Average Loss: 0.43297493534869164\n",
            "Accuracy: 0.802801724137931\n",
            "Average Loss: 0.4364794257838847\n",
            "Accuracy: 0.7997881355932204\n"
          ]
        },
        {
          "name": "stderr",
          "output_type": "stream",
          "text": [
            "\r60it [00:05, 10.89it/s]"
          ]
        },
        {
          "name": "stdout",
          "output_type": "stream",
          "text": [
            "tensor(0.4397, device='cuda:0', grad_fn=<BinaryCrossEntropyBackward0>)\n",
            "Average Loss: 0.4365323113898436\n",
            "Accuracy: 0.7979166666666667\n"
          ]
        },
        {
          "name": "stderr",
          "output_type": "stream",
          "text": [
            "\r62it [00:05, 10.86it/s]"
          ]
        },
        {
          "name": "stdout",
          "output_type": "stream",
          "text": [
            "Average Loss: 0.44114065243572487\n",
            "Accuracy: 0.7961065573770492\n",
            "Average Loss: 0.4411622187302959\n",
            "Accuracy: 0.7943548387096774\n",
            "Average Loss: 0.44202549282520537\n",
            "Accuracy: 0.7946428571428571\n"
          ]
        },
        {
          "name": "stderr",
          "output_type": "stream",
          "text": [
            "\r64it [00:05, 10.81it/s]"
          ]
        },
        {
          "name": "stdout",
          "output_type": "stream",
          "text": [
            "Average Loss: 0.4431762283202261\n",
            "Accuracy: 0.7939453125\n",
            "Average Loss: 0.44767052003970514\n",
            "Accuracy: 0.7913461538461538\n"
          ]
        },
        {
          "name": "stderr",
          "output_type": "stream",
          "text": [
            "\r66it [00:06, 10.82it/s]"
          ]
        },
        {
          "name": "stdout",
          "output_type": "stream",
          "text": [
            "Average Loss: 0.4488538790381316\n",
            "Accuracy: 0.7916666666666666\n"
          ]
        },
        {
          "name": "stderr",
          "output_type": "stream",
          "text": [
            "\r68it [00:06, 10.84it/s]"
          ]
        },
        {
          "name": "stdout",
          "output_type": "stream",
          "text": [
            "Average Loss: 0.4483442193091805\n",
            "Accuracy: 0.7901119402985075\n",
            "Average Loss: 0.4451286987785031\n",
            "Accuracy: 0.7931985294117647\n",
            "Average Loss: 0.44532032872455707\n",
            "Accuracy: 0.7934782608695652\n"
          ]
        },
        {
          "name": "stderr",
          "output_type": "stream",
          "text": [
            "\r70it [00:06, 10.84it/s]"
          ]
        },
        {
          "name": "stdout",
          "output_type": "stream",
          "text": [
            "tensor(0.6371, device='cuda:0', grad_fn=<BinaryCrossEntropyBackward0>)\n",
            "Average Loss: 0.4480599895119667\n",
            "Accuracy: 0.7919642857142857\n",
            "Average Loss: 0.44933291619092647\n",
            "Accuracy: 0.789612676056338\n"
          ]
        },
        {
          "name": "stderr",
          "output_type": "stream",
          "text": [
            "\r72it [00:06, 10.82it/s]"
          ]
        },
        {
          "name": "stdout",
          "output_type": "stream",
          "text": [
            "Average Loss: 0.4469196711563402\n",
            "Accuracy: 0.7916666666666666\n"
          ]
        },
        {
          "name": "stderr",
          "output_type": "stream",
          "text": [
            "\r74it [00:06, 10.84it/s]"
          ]
        },
        {
          "name": "stdout",
          "output_type": "stream",
          "text": [
            "Average Loss: 0.4451383407393547\n",
            "Accuracy: 0.7928082191780822\n",
            "Average Loss: 0.445123016632892\n",
            "Accuracy: 0.7947635135135135\n",
            "Average Loss: 0.4454594943920771\n",
            "Accuracy: 0.795\n"
          ]
        },
        {
          "name": "stderr",
          "output_type": "stream",
          "text": [
            "\r76it [00:07, 10.82it/s]"
          ]
        },
        {
          "name": "stdout",
          "output_type": "stream",
          "text": [
            "Average Loss: 0.44512657879998807\n",
            "Accuracy: 0.7952302631578947\n",
            "Average Loss: 0.4433470939273958\n",
            "Accuracy: 0.797077922077922\n"
          ]
        },
        {
          "name": "stderr",
          "output_type": "stream",
          "text": [
            "\r78it [00:07, 10.75it/s]"
          ]
        },
        {
          "name": "stdout",
          "output_type": "stream",
          "text": [
            "Average Loss: 0.4443544353812169\n",
            "Accuracy: 0.7972756410256411\n"
          ]
        },
        {
          "name": "stderr",
          "output_type": "stream",
          "text": [
            "\r80it [00:07, 10.76it/s]"
          ]
        },
        {
          "name": "stdout",
          "output_type": "stream",
          "text": [
            "Average Loss: 0.4439981057296825\n",
            "Accuracy: 0.7974683544303798\n",
            "tensor(0.4944, device='cuda:0', grad_fn=<BinaryCrossEntropyBackward0>)\n",
            "Average Loss: 0.4446280190721154\n",
            "Accuracy: 0.796875\n",
            "Average Loss: 0.4442223753826118\n",
            "Accuracy: 0.7962962962962963\n"
          ]
        },
        {
          "name": "stderr",
          "output_type": "stream",
          "text": [
            "\r82it [00:07, 10.76it/s]"
          ]
        },
        {
          "name": "stdout",
          "output_type": "stream",
          "text": [
            "Average Loss: 0.4453457137796937\n",
            "Accuracy: 0.7949695121951219\n",
            "Average Loss: 0.4456836902592556\n",
            "Accuracy: 0.7936746987951807\n"
          ]
        },
        {
          "name": "stderr",
          "output_type": "stream",
          "text": [
            "\r84it [00:07, 10.78it/s]"
          ]
        },
        {
          "name": "stdout",
          "output_type": "stream",
          "text": [
            "Average Loss: 0.4451503645451296\n",
            "Accuracy: 0.7938988095238095\n"
          ]
        },
        {
          "name": "stderr",
          "output_type": "stream",
          "text": [
            "\r86it [00:08, 10.82it/s]"
          ]
        },
        {
          "name": "stdout",
          "output_type": "stream",
          "text": [
            "Average Loss: 0.446094315718202\n",
            "Accuracy: 0.7941176470588235\n",
            "Average Loss: 0.4444559519720632\n",
            "Accuracy: 0.7957848837209303\n",
            "Average Loss: 0.4454261008007773\n",
            "Accuracy: 0.7952586206896551\n"
          ]
        },
        {
          "name": "stderr",
          "output_type": "stream",
          "text": [
            "\r88it [00:08, 10.80it/s]"
          ]
        },
        {
          "name": "stdout",
          "output_type": "stream",
          "text": [
            "Average Loss: 0.44329419037835166\n",
            "Accuracy: 0.796875\n",
            "Average Loss: 0.4426600951492117\n",
            "Accuracy: 0.7970505617977528\n"
          ]
        },
        {
          "name": "stderr",
          "output_type": "stream",
          "text": [
            "\r90it [00:08, 10.70it/s]"
          ]
        },
        {
          "name": "stdout",
          "output_type": "stream",
          "text": [
            "tensor(0.4547, device='cuda:0', grad_fn=<BinaryCrossEntropyBackward0>)\n",
            "Average Loss: 0.44279377543263965\n",
            "Accuracy: 0.7972222222222223\n"
          ]
        },
        {
          "name": "stderr",
          "output_type": "stream",
          "text": [
            "\r92it [00:08, 10.69it/s]"
          ]
        },
        {
          "name": "stdout",
          "output_type": "stream",
          "text": [
            "Average Loss: 0.4413117486369479\n",
            "Accuracy: 0.7980769230769231\n",
            "Average Loss: 0.43968599208671116\n",
            "Accuracy: 0.7989130434782609\n",
            "Average Loss: 0.4418007547176012\n",
            "Accuracy: 0.7990591397849462\n"
          ]
        },
        {
          "name": "stderr",
          "output_type": "stream",
          "text": [
            "\r94it [00:08, 10.61it/s]"
          ]
        },
        {
          "name": "stdout",
          "output_type": "stream",
          "text": [
            "Average Loss: 0.44099472891143027\n",
            "Accuracy: 0.7992021276595744\n",
            "Average Loss: 0.44180373220067276\n",
            "Accuracy: 0.7980263157894737\n"
          ]
        },
        {
          "name": "stderr",
          "output_type": "stream",
          "text": [
            "\r96it [00:08, 10.62it/s]"
          ]
        },
        {
          "name": "stdout",
          "output_type": "stream",
          "text": [
            "Average Loss: 0.44133841634417575\n",
            "Accuracy: 0.7975260416666666\n"
          ]
        },
        {
          "name": "stderr",
          "output_type": "stream",
          "text": [
            "\r98it [00:09, 10.67it/s]"
          ]
        },
        {
          "name": "stdout",
          "output_type": "stream",
          "text": [
            "Average Loss: 0.44104004720437157\n",
            "Accuracy: 0.7989690721649485\n",
            "Average Loss: 0.44087330556037474\n",
            "Accuracy: 0.798469387755102\n",
            "Average Loss: 0.4400307938004985\n",
            "Accuracy: 0.797979797979798\n"
          ]
        },
        {
          "name": "stderr",
          "output_type": "stream",
          "text": [
            "\r100it [00:09, 10.64it/s]"
          ]
        },
        {
          "name": "stdout",
          "output_type": "stream",
          "text": [
            "tensor(0.5319, device='cuda:0', grad_fn=<BinaryCrossEntropyBackward0>)\n",
            "Average Loss: 0.4409498129785061\n",
            "Accuracy: 0.798125\n",
            "Average Loss: 0.44155124906856236\n",
            "Accuracy: 0.7970297029702971\n"
          ]
        },
        {
          "name": "stderr",
          "output_type": "stream",
          "text": [
            "\r102it [00:09, 10.56it/s]"
          ]
        },
        {
          "name": "stdout",
          "output_type": "stream",
          "text": [
            "Average Loss: 0.44202762067902324\n",
            "Accuracy: 0.7984068627450981\n"
          ]
        },
        {
          "name": "stderr",
          "output_type": "stream",
          "text": [
            "\r104it [00:09, 10.42it/s]"
          ]
        },
        {
          "name": "stdout",
          "output_type": "stream",
          "text": [
            "Average Loss: 0.442877766432114\n",
            "Accuracy: 0.7979368932038835\n",
            "Average Loss: 0.44247120862396866\n",
            "Accuracy: 0.7980769230769231\n",
            "Average Loss: 0.4452200607174919\n"
          ]
        },
        {
          "name": "stderr",
          "output_type": "stream",
          "text": [
            "\r106it [00:09, 10.35it/s]"
          ]
        },
        {
          "name": "stdout",
          "output_type": "stream",
          "text": [
            "Accuracy: 0.7976190476190477\n",
            "Average Loss: 0.44429670147738365\n",
            "Accuracy: 0.7977594339622641\n",
            "Average Loss: 0.4444233277969271\n",
            "Accuracy: 0.7978971962616822\n"
          ]
        },
        {
          "name": "stderr",
          "output_type": "stream",
          "text": [
            "110it [00:10, 10.31it/s]"
          ]
        },
        {
          "name": "stdout",
          "output_type": "stream",
          "text": [
            "Average Loss: 0.4421511927136668\n",
            "Accuracy: 0.7997685185185185\n",
            "Average Loss: 0.4448895388786946\n",
            "Accuracy: 0.7981651376146789\n",
            "tensor(0.3307, device='cuda:0', grad_fn=<BinaryCrossEntropyBackward0>)\n",
            "Average Loss: 0.4438515993681821\n",
            "Accuracy: 0.7982954545454546\n"
          ]
        },
        {
          "name": "stderr",
          "output_type": "stream",
          "text": [
            "\r112it [00:10, 10.30it/s]"
          ]
        },
        {
          "name": "stdout",
          "output_type": "stream",
          "text": [
            "Average Loss: 0.4450403183430165\n",
            "Accuracy: 0.7967342342342343\n",
            "Average Loss: 0.4432059366788183\n",
            "Accuracy: 0.7979910714285714\n",
            "Average Loss: 0.44451546985491186\n",
            "Accuracy: 0.7970132743362832\n"
          ]
        },
        {
          "name": "stderr",
          "output_type": "stream",
          "text": [
            "116it [00:10, 10.18it/s]"
          ]
        },
        {
          "name": "stdout",
          "output_type": "stream",
          "text": [
            "Average Loss: 0.4478304286797841\n",
            "Accuracy: 0.7955043859649122\n",
            "Average Loss: 0.4467448467793672\n",
            "Accuracy: 0.7956521739130434\n",
            "Average Loss: 0.4469751977714999\n",
            "Accuracy: 0.7957974137931034\n"
          ]
        },
        {
          "name": "stderr",
          "output_type": "stream",
          "text": [
            "\r118it [00:11, 10.21it/s]"
          ]
        },
        {
          "name": "stdout",
          "output_type": "stream",
          "text": [
            "Average Loss: 0.44754305507382774\n",
            "Accuracy: 0.7954059829059829\n",
            "Average Loss: 0.4465063110751621\n",
            "Accuracy: 0.7955508474576272\n"
          ]
        },
        {
          "name": "stderr",
          "output_type": "stream",
          "text": [
            "\r120it [00:11, 10.00it/s]"
          ]
        },
        {
          "name": "stdout",
          "output_type": "stream",
          "text": [
            "Average Loss: 0.4453956309486838\n",
            "Accuracy: 0.7967436974789915\n",
            "tensor(0.5904, device='cuda:0', grad_fn=<BinaryCrossEntropyBackward0>)\n",
            "Average Loss: 0.44660370449225106\n",
            "Accuracy: 0.7958333333333333\n",
            "Average Loss: 0.4472484701921132\n"
          ]
        },
        {
          "name": "stderr",
          "output_type": "stream",
          "text": [
            "\r122it [00:11, 10.13it/s]"
          ]
        },
        {
          "name": "stdout",
          "output_type": "stream",
          "text": [
            "Accuracy: 0.7949380165289256\n",
            "Average Loss: 0.4486961477115506\n",
            "Accuracy: 0.7930327868852459\n",
            "Average Loss: 0.45058430161902574\n",
            "Accuracy: 0.7911585365853658\n"
          ]
        },
        {
          "name": "stderr",
          "output_type": "stream",
          "text": [
            "126it [00:11, 10.33it/s]"
          ]
        },
        {
          "name": "stdout",
          "output_type": "stream",
          "text": [
            "Average Loss: 0.4500047417898332\n",
            "Accuracy: 0.7913306451612904\n",
            "Average Loss: 0.4500430338382721\n",
            "Accuracy: 0.7905\n",
            "Average Loss: 0.4488793471975932\n",
            "Accuracy: 0.7911706349206349\n"
          ]
        },
        {
          "name": "stderr",
          "output_type": "stream",
          "text": [
            "\r128it [00:12, 10.30it/s]"
          ]
        },
        {
          "name": "stdout",
          "output_type": "stream",
          "text": [
            "Average Loss: 0.447958826080082\n",
            "Accuracy: 0.7918307086614174\n",
            "Average Loss: 0.447468142490834\n",
            "Accuracy: 0.79248046875\n",
            "Average Loss: 0.4466583925162175\n",
            "Accuracy: 0.7926356589147286\n"
          ]
        },
        {
          "name": "stderr",
          "output_type": "stream",
          "text": [
            "132it [00:12, 10.41it/s]"
          ]
        },
        {
          "name": "stdout",
          "output_type": "stream",
          "text": [
            "tensor(0.3383, device='cuda:0', grad_fn=<BinaryCrossEntropyBackward0>)\n",
            "Average Loss: 0.44582513181062844\n",
            "Accuracy: 0.7927884615384615\n",
            "Average Loss: 0.44669920365319\n",
            "Accuracy: 0.791030534351145\n",
            "Average Loss: 0.44784223875313095\n",
            "Accuracy: 0.7888257575757576\n"
          ]
        },
        {
          "name": "stderr",
          "output_type": "stream",
          "text": [
            "\r134it [00:12, 10.40it/s]"
          ]
        },
        {
          "name": "stdout",
          "output_type": "stream",
          "text": [
            "Average Loss: 0.4470820837002948\n",
            "Accuracy: 0.7890037593984962\n",
            "Average Loss: 0.4481182416428381\n",
            "Accuracy: 0.7877798507462687\n",
            "Average Loss: 0.44877251143808716\n",
            "Accuracy: 0.787962962962963\n"
          ]
        },
        {
          "name": "stderr",
          "output_type": "stream",
          "text": [
            "138it [00:13, 10.47it/s]"
          ]
        },
        {
          "name": "stdout",
          "output_type": "stream",
          "text": [
            "Average Loss: 0.44896146107245893\n",
            "Accuracy: 0.7881433823529411\n",
            "Average Loss: 0.4496803072682262\n",
            "Accuracy: 0.7878649635036497\n",
            "Average Loss: 0.4504774085421493\n",
            "Accuracy: 0.7866847826086957\n"
          ]
        },
        {
          "name": "stderr",
          "output_type": "stream",
          "text": [
            "\r140it [00:13, 10.46it/s]"
          ]
        },
        {
          "name": "stdout",
          "output_type": "stream",
          "text": [
            "Average Loss: 0.45124939469982395\n",
            "Accuracy: 0.7859712230215827\n",
            "tensor(0.3591, device='cuda:0', grad_fn=<BinaryCrossEntropyBackward0>)\n",
            "Average Loss: 0.4505909121462277\n",
            "Accuracy: 0.7861607142857143\n",
            "Average Loss: 0.4528957780794049\n",
            "Accuracy: 0.7845744680851063\n"
          ]
        },
        {
          "name": "stderr",
          "output_type": "stream",
          "text": [
            "144it [00:13, 10.56it/s]"
          ]
        },
        {
          "name": "stdout",
          "output_type": "stream",
          "text": [
            "Average Loss: 0.4544586675687575\n",
            "Accuracy: 0.7834507042253521\n",
            "Average Loss: 0.45444749514539756\n",
            "Accuracy: 0.7832167832167832\n",
            "Average Loss: 0.45468286528355545\n",
            "Accuracy: 0.7825520833333334\n"
          ]
        },
        {
          "name": "stderr",
          "output_type": "stream",
          "text": [
            "\r146it [00:13, 10.61it/s]"
          ]
        },
        {
          "name": "stdout",
          "output_type": "stream",
          "text": [
            "Average Loss: 0.45494568656230794\n",
            "Accuracy: 0.7827586206896552\n",
            "Average Loss: 0.4537873049713161\n",
            "Accuracy: 0.7833904109589042\n",
            "Average Loss: 0.45459082155000596\n",
            "Accuracy: 0.7840136054421769\n"
          ]
        },
        {
          "name": "stderr",
          "output_type": "stream",
          "text": [
            "150it [00:14, 10.56it/s]"
          ]
        },
        {
          "name": "stdout",
          "output_type": "stream",
          "text": [
            "Average Loss: 0.4541351410585481\n",
            "Accuracy: 0.7837837837837838\n",
            "Average Loss: 0.45281346592327093\n",
            "Accuracy: 0.7848154362416108\n",
            "tensor(0.5829, device='cuda:0', grad_fn=<BinaryCrossEntropyBackward0>)\n",
            "Average Loss: 0.4536806144316991\n",
            "Accuracy: 0.78375\n"
          ]
        },
        {
          "name": "stderr",
          "output_type": "stream",
          "text": [
            "\r152it [00:14, 10.55it/s]"
          ]
        },
        {
          "name": "stdout",
          "output_type": "stream",
          "text": [
            "Average Loss: 0.4551738332833675\n",
            "Accuracy: 0.7835264900662252\n",
            "Average Loss: 0.4540999968977351\n",
            "Accuracy: 0.7845394736842105\n",
            "Average Loss: 0.4544444771763546\n",
            "Accuracy: 0.7843137254901961\n"
          ]
        },
        {
          "name": "stderr",
          "output_type": "stream",
          "text": [
            "156it [00:14, 10.40it/s]"
          ]
        },
        {
          "name": "stdout",
          "output_type": "stream",
          "text": [
            "Average Loss: 0.4545411705583721\n",
            "Accuracy: 0.7844967532467533\n",
            "Average Loss: 0.45411715238325057\n",
            "Accuracy: 0.7850806451612903\n",
            "Average Loss: 0.45366135717202455\n",
            "Accuracy: 0.7856570512820513\n"
          ]
        },
        {
          "name": "stderr",
          "output_type": "stream",
          "text": [
            "\r158it [00:14, 10.38it/s]"
          ]
        },
        {
          "name": "stdout",
          "output_type": "stream",
          "text": [
            "Average Loss: 0.4549063089167237\n",
            "Accuracy: 0.785031847133758\n",
            "Average Loss: 0.4552662993156457\n",
            "Accuracy: 0.7844145569620253\n",
            "Average Loss: 0.45429472859550574\n",
            "Accuracy: 0.7849842767295597\n"
          ]
        },
        {
          "name": "stderr",
          "output_type": "stream",
          "text": [
            "162it [00:15, 10.28it/s]"
          ]
        },
        {
          "name": "stdout",
          "output_type": "stream",
          "text": [
            "tensor(0.5490, device='cuda:0', grad_fn=<BinaryCrossEntropyBackward0>)\n",
            "Average Loss: 0.454886800982058\n",
            "Accuracy: 0.784375\n",
            "Average Loss: 0.4560551067686969\n",
            "Accuracy: 0.7833850931677019\n",
            "Average Loss: 0.4553596125340756\n",
            "Accuracy: 0.7835648148148148\n"
          ]
        },
        {
          "name": "stderr",
          "output_type": "stream",
          "text": [
            "\r164it [00:15, 10.32it/s]"
          ]
        },
        {
          "name": "stdout",
          "output_type": "stream",
          "text": [
            "Average Loss: 0.45499870967279915\n",
            "Accuracy: 0.7837423312883436\n",
            "Average Loss: 0.4550878787186088\n",
            "Accuracy: 0.7835365853658537\n",
            "Average Loss: 0.4547392902952252\n",
            "Accuracy: 0.7837121212121212\n"
          ]
        },
        {
          "name": "stderr",
          "output_type": "stream",
          "text": [
            "168it [00:15, 10.48it/s]"
          ]
        },
        {
          "name": "stdout",
          "output_type": "stream",
          "text": [
            "Average Loss: 0.45521319917885655\n",
            "Accuracy: 0.7831325301204819\n",
            "Average Loss: 0.4556724682539523\n",
            "Accuracy: 0.7825598802395209\n",
            "Average Loss: 0.45501130464531125\n",
            "Accuracy: 0.7827380952380952\n"
          ]
        },
        {
          "name": "stderr",
          "output_type": "stream",
          "text": [
            "\r170it [00:16, 10.48it/s]"
          ]
        },
        {
          "name": "stdout",
          "output_type": "stream",
          "text": [
            "Average Loss: 0.45612207954451883\n",
            "Accuracy: 0.7825443786982249\n",
            "tensor(0.3274, device='cuda:0', grad_fn=<BinaryCrossEntropyBackward0>)\n",
            "Average Loss: 0.4553650333600886\n",
            "Accuracy: 0.7834558823529412\n",
            "Average Loss: 0.4546678137709523\n",
            "Accuracy: 0.7843567251461988\n"
          ]
        },
        {
          "name": "stderr",
          "output_type": "stream",
          "text": [
            "174it [00:16, 10.57it/s]"
          ]
        },
        {
          "name": "stdout",
          "output_type": "stream",
          "text": [
            "Average Loss: 0.45508170249157176\n",
            "Accuracy: 0.7837936046511628\n",
            "Average Loss: 0.45656514288373073\n",
            "Accuracy: 0.7828757225433526\n",
            "Average Loss: 0.45535364618589136\n",
            "Accuracy: 0.7837643678160919\n"
          ]
        },
        {
          "name": "stderr",
          "output_type": "stream",
          "text": [
            "\r176it [00:16, 10.52it/s]"
          ]
        },
        {
          "name": "stdout",
          "output_type": "stream",
          "text": [
            "Average Loss: 0.4550486207859857\n",
            "Accuracy: 0.7842857142857143\n",
            "Average Loss: 0.4545340288261121\n",
            "Accuracy: 0.7844460227272727\n",
            "Average Loss: 0.45486028559800595\n",
            "Accuracy: 0.7838983050847458\n"
          ]
        },
        {
          "name": "stderr",
          "output_type": "stream",
          "text": [
            "180it [00:17, 10.43it/s]"
          ]
        },
        {
          "name": "stdout",
          "output_type": "stream",
          "text": [
            "Average Loss: 0.45673982556281467\n",
            "Accuracy: 0.7826544943820225\n",
            "Average Loss: 0.45549481948993725\n",
            "Accuracy: 0.7835195530726257\n",
            "tensor(0.6192, device='cuda:0', grad_fn=<BinaryCrossEntropyBackward0>)\n",
            "Average Loss: 0.45640408967932067\n",
            "Accuracy: 0.7829861111111112\n"
          ]
        },
        {
          "name": "stderr",
          "output_type": "stream",
          "text": [
            "\r182it [00:17, 10.40it/s]"
          ]
        },
        {
          "name": "stdout",
          "output_type": "stream",
          "text": [
            "Average Loss: 0.45574248125210653\n",
            "Accuracy: 0.7834944751381215\n",
            "Average Loss: 0.4554814959129134\n",
            "Accuracy: 0.7833104395604396\n",
            "Average Loss: 0.45476008984234817\n",
            "Accuracy: 0.7838114754098361\n"
          ]
        },
        {
          "name": "stderr",
          "output_type": "stream",
          "text": [
            "186it [00:17, 10.42it/s]"
          ]
        },
        {
          "name": "stdout",
          "output_type": "stream",
          "text": [
            "Average Loss: 0.4543714622926453\n",
            "Accuracy: 0.7839673913043478\n",
            "Average Loss: 0.4543110606638161\n",
            "Accuracy: 0.7837837837837838\n",
            "Average Loss: 0.4539605649088019\n",
            "Accuracy: 0.7839381720430108\n"
          ]
        },
        {
          "name": "stderr",
          "output_type": "stream",
          "text": [
            "\r188it [00:17, 10.40it/s]"
          ]
        },
        {
          "name": "stdout",
          "output_type": "stream",
          "text": [
            "Average Loss: 0.45479919542284575\n",
            "Accuracy: 0.7837566844919787\n",
            "Average Loss: 0.4543356642602606\n",
            "Accuracy: 0.7842420212765957\n",
            "Average Loss: 0.4539739701640669\n",
            "Accuracy: 0.7840608465608465\n"
          ]
        },
        {
          "name": "stderr",
          "output_type": "stream",
          "text": [
            "192it [00:18, 10.39it/s]"
          ]
        },
        {
          "name": "stdout",
          "output_type": "stream",
          "text": [
            "tensor(0.7487, device='cuda:0', grad_fn=<BinaryCrossEntropyBackward0>)\n",
            "Average Loss: 0.45552527190823305\n",
            "Accuracy: 0.7828947368421053\n",
            "Average Loss: 0.45477505948843133\n",
            "Accuracy: 0.7830497382198953\n",
            "Average Loss: 0.4550414092373103\n",
            "Accuracy: 0.7825520833333334\n"
          ]
        },
        {
          "name": "stderr",
          "output_type": "stream",
          "text": [
            "\r194it [00:18, 10.42it/s]"
          ]
        },
        {
          "name": "stdout",
          "output_type": "stream",
          "text": [
            "Average Loss: 0.45498019958715985\n",
            "Accuracy: 0.7827072538860104\n",
            "Average Loss: 0.4549785653494068\n",
            "Accuracy: 0.7825386597938144\n",
            "Average Loss: 0.4558284072539745\n",
            "Accuracy: 0.7823717948717949\n"
          ]
        },
        {
          "name": "stderr",
          "output_type": "stream",
          "text": [
            "198it [00:18, 10.40it/s]"
          ]
        },
        {
          "name": "stdout",
          "output_type": "stream",
          "text": [
            "Average Loss: 0.4560854484384157\n",
            "Accuracy: 0.7822066326530612\n",
            "Average Loss: 0.4568173698513641\n",
            "Accuracy: 0.7820431472081218\n",
            "Average Loss: 0.4563941104394017\n",
            "Accuracy: 0.7825126262626263\n"
          ]
        },
        {
          "name": "stderr",
          "output_type": "stream",
          "text": [
            "\r200it [00:18, 10.47it/s]"
          ]
        },
        {
          "name": "stdout",
          "output_type": "stream",
          "text": [
            "Average Loss: 0.45679764209979745\n",
            "Accuracy: 0.782035175879397\n",
            "tensor(0.8059, device='cuda:0', grad_fn=<BinaryCrossEntropyBackward0>)\n",
            "Average Loss: 0.4585429472476244\n",
            "Accuracy: 0.7815625\n",
            "Average Loss: 0.45818319909311644\n",
            "Accuracy: 0.7814054726368159\n"
          ]
        },
        {
          "name": "stderr",
          "output_type": "stream",
          "text": [
            "204it [00:19, 10.45it/s]"
          ]
        },
        {
          "name": "stdout",
          "output_type": "stream",
          "text": [
            "Average Loss: 0.4575769137775544\n",
            "Accuracy: 0.781559405940594\n",
            "Average Loss: 0.45833021938213575\n",
            "Accuracy: 0.7814039408866995\n",
            "Average Loss: 0.45888323913894447\n",
            "Accuracy: 0.7809436274509803\n"
          ]
        },
        {
          "name": "stderr",
          "output_type": "stream",
          "text": [
            "\r206it [00:19, 10.43it/s]"
          ]
        },
        {
          "name": "stdout",
          "output_type": "stream",
          "text": [
            "Average Loss: 0.4587635084623244\n",
            "Accuracy: 0.7810975609756098\n",
            "Average Loss: 0.4588910151019837\n",
            "Accuracy: 0.7809466019417476\n",
            "Average Loss: 0.46001805811400576\n",
            "Accuracy: 0.779891304347826\n"
          ]
        },
        {
          "name": "stderr",
          "output_type": "stream",
          "text": [
            "210it [00:19, 10.45it/s]"
          ]
        },
        {
          "name": "stdout",
          "output_type": "stream",
          "text": [
            "Average Loss: 0.4599396846472071\n",
            "Accuracy: 0.7797475961538461\n",
            "Average Loss: 0.4594521302212939\n",
            "Accuracy: 0.7802033492822966\n",
            "tensor(0.5387, device='cuda:0', grad_fn=<BinaryCrossEntropyBackward0>)\n",
            "Average Loss: 0.4598294660449028\n",
            "Accuracy: 0.7797619047619048\n"
          ]
        },
        {
          "name": "stderr",
          "output_type": "stream",
          "text": [
            "\r212it [00:20, 10.39it/s]"
          ]
        },
        {
          "name": "stdout",
          "output_type": "stream",
          "text": [
            "Average Loss: 0.4601717796794611\n",
            "Accuracy: 0.7799170616113744\n",
            "Average Loss: 0.45964009392092814\n",
            "Accuracy: 0.7800707547169812\n",
            "Average Loss: 0.4591055196915434\n",
            "Accuracy: 0.7805164319248826\n"
          ]
        },
        {
          "name": "stderr",
          "output_type": "stream",
          "text": [
            "216it [00:20, 10.42it/s]"
          ]
        },
        {
          "name": "stdout",
          "output_type": "stream",
          "text": [
            "Average Loss: 0.4591887804253079\n",
            "Accuracy: 0.7800817757009346\n",
            "Average Loss: 0.4593381653691447\n",
            "Accuracy: 0.7802325581395348\n",
            "Average Loss: 0.4598047611200147\n",
            "Accuracy: 0.7798032407407407\n"
          ]
        },
        {
          "name": "stderr",
          "output_type": "stream",
          "text": [
            "\r218it [00:20, 10.43it/s]"
          ]
        },
        {
          "name": "stdout",
          "output_type": "stream",
          "text": [
            "Average Loss: 0.4593653376063993\n",
            "Accuracy: 0.7799539170506913\n",
            "Average Loss: 0.4588655816442376\n",
            "Accuracy: 0.7803899082568807\n",
            "Average Loss: 0.4582333407581669\n",
            "Accuracy: 0.7805365296803652\n"
          ]
        },
        {
          "name": "stderr",
          "output_type": "stream",
          "text": [
            "222it [00:21, 10.44it/s]"
          ]
        },
        {
          "name": "stdout",
          "output_type": "stream",
          "text": [
            "tensor(0.3956, device='cuda:0', grad_fn=<BinaryCrossEntropyBackward0>)\n",
            "Average Loss: 0.45794871402057735\n",
            "Accuracy: 0.7803977272727273\n",
            "Average Loss: 0.45868920180862305\n",
            "Accuracy: 0.7796945701357466\n",
            "Average Loss: 0.4584547057747841\n",
            "Accuracy: 0.7798423423423423\n"
          ]
        },
        {
          "name": "stderr",
          "output_type": "stream",
          "text": [
            "\r224it [00:21, 10.38it/s]"
          ]
        },
        {
          "name": "stdout",
          "output_type": "stream",
          "text": [
            "Average Loss: 0.45800231597616\n",
            "Accuracy: 0.7802690582959642\n",
            "Average Loss: 0.4585995135961899\n",
            "Accuracy: 0.7795758928571429\n",
            "Average Loss: 0.45858857413132986\n",
            "Accuracy: 0.7794444444444445\n"
          ]
        },
        {
          "name": "stderr",
          "output_type": "stream",
          "text": [
            "228it [00:21, 10.46it/s]"
          ]
        },
        {
          "name": "stdout",
          "output_type": "stream",
          "text": [
            "Average Loss: 0.45837481933093704\n",
            "Accuracy: 0.7793141592920354\n",
            "Average Loss: 0.45997249705938514\n",
            "Accuracy: 0.7783590308370044\n",
            "Average Loss: 0.460477549190584\n",
            "Accuracy: 0.7776864035087719\n"
          ]
        },
        {
          "name": "stderr",
          "output_type": "stream",
          "text": [
            "\r230it [00:21, 10.35it/s]"
          ]
        },
        {
          "name": "stdout",
          "output_type": "stream",
          "text": [
            "Average Loss: 0.4601950623973488\n",
            "Accuracy: 0.7778384279475983\n",
            "tensor(0.5378, device='cuda:0', grad_fn=<BinaryCrossEntropyBackward0>)\n",
            "Average Loss: 0.46053228371817134\n",
            "Accuracy: 0.777445652173913\n",
            "Average Loss: 0.46084756555753353\n",
            "Accuracy: 0.7773268398268398\n"
          ]
        },
        {
          "name": "stderr",
          "output_type": "stream",
          "text": [
            "234it [00:22, 10.32it/s]"
          ]
        },
        {
          "name": "stdout",
          "output_type": "stream",
          "text": [
            "Average Loss: 0.4605145209693703\n",
            "Accuracy: 0.7777478448275862\n",
            "Average Loss: 0.46053097246798325\n",
            "Accuracy: 0.7776287553648069\n",
            "Average Loss: 0.4600299453506103\n",
            "Accuracy: 0.7777777777777778\n"
          ]
        },
        {
          "name": "stderr",
          "output_type": "stream",
          "text": [
            "\r236it [00:22, 10.15it/s]"
          ]
        },
        {
          "name": "stdout",
          "output_type": "stream",
          "text": [
            "Average Loss: 0.4620392385315388\n",
            "Accuracy: 0.7768617021276596\n",
            "Average Loss: 0.4620513770161039\n",
            "Accuracy: 0.7770127118644068\n"
          ]
        },
        {
          "name": "stderr",
          "output_type": "stream",
          "text": [
            "\r238it [00:22, 10.08it/s]"
          ]
        },
        {
          "name": "stdout",
          "output_type": "stream",
          "text": [
            "Average Loss: 0.462231082063687\n",
            "Accuracy: 0.7768987341772152\n",
            "Average Loss: 0.4625483526527381\n",
            "Accuracy: 0.7765231092436975\n",
            "Average Loss: 0.46149429922073953\n",
            "Accuracy: 0.7774581589958159\n"
          ]
        },
        {
          "name": "stderr",
          "output_type": "stream",
          "text": [
            "242it [00:23, 10.11it/s]"
          ]
        },
        {
          "name": "stdout",
          "output_type": "stream",
          "text": [
            "tensor(0.3243, device='cuda:0', grad_fn=<BinaryCrossEntropyBackward0>)\n",
            "Average Loss: 0.46092245684315764\n",
            "Accuracy: 0.7778645833333333\n",
            "Average Loss: 0.4624390350461501\n",
            "Accuracy: 0.7769709543568465\n",
            "Average Loss: 0.46153820847923105\n",
            "Accuracy: 0.7778925619834711\n"
          ]
        },
        {
          "name": "stderr",
          "output_type": "stream",
          "text": [
            "\r244it [00:23, 10.13it/s]"
          ]
        },
        {
          "name": "stdout",
          "output_type": "stream",
          "text": [
            "Average Loss: 0.4615469013835177\n",
            "Accuracy: 0.7780349794238683\n",
            "Average Loss: 0.4613244324067577\n",
            "Accuracy: 0.7781762295081968\n",
            "Average Loss: 0.46089707278475467\n"
          ]
        },
        {
          "name": "stderr",
          "output_type": "stream",
          "text": [
            "\r246it [00:23, 10.09it/s]"
          ]
        },
        {
          "name": "stdout",
          "output_type": "stream",
          "text": [
            "Accuracy: 0.7783163265306122\n",
            "Average Loss: 0.4606470605585633\n",
            "Accuracy: 0.7784552845528455\n"
          ]
        },
        {
          "name": "stderr",
          "output_type": "stream",
          "text": [
            "\r248it [00:23,  9.83it/s]"
          ]
        },
        {
          "name": "stdout",
          "output_type": "stream",
          "text": [
            "Average Loss: 0.46160932753974127\n",
            "Accuracy: 0.7780870445344129\n",
            "Average Loss: 0.46128477714955807\n",
            "Accuracy: 0.7784778225806451\n"
          ]
        },
        {
          "name": "stderr",
          "output_type": "stream",
          "text": [
            "251it [00:23,  9.93it/s]"
          ]
        },
        {
          "name": "stdout",
          "output_type": "stream",
          "text": [
            "Average Loss: 0.46253008470238455\n",
            "Accuracy: 0.7778614457831325\n",
            "tensor(0.9431, device='cuda:0', grad_fn=<BinaryCrossEntropyBackward0>)\n",
            "Average Loss: 0.46445237094163894\n",
            "Accuracy: 0.77725\n",
            "Average Loss: 0.4637056774945848\n",
            "Accuracy: 0.7776394422310757\n"
          ]
        },
        {
          "name": "stderr",
          "output_type": "stream",
          "text": [
            "\r253it [00:24, 10.02it/s]"
          ]
        },
        {
          "name": "stdout",
          "output_type": "stream",
          "text": [
            "Average Loss: 0.4635565224739294\n",
            "Accuracy: 0.7777777777777778\n",
            "Average Loss: 0.4627076358545439\n",
            "Accuracy: 0.7786561264822134\n",
            "Average Loss: 0.46302202126876574\n",
            "Accuracy: 0.7785433070866141\n"
          ]
        },
        {
          "name": "stderr",
          "output_type": "stream",
          "text": [
            "257it [00:24, 10.14it/s]"
          ]
        },
        {
          "name": "stdout",
          "output_type": "stream",
          "text": [
            "Average Loss: 0.46389368416047566\n",
            "Accuracy: 0.7786764705882353\n",
            "Average Loss: 0.4637948672170751\n",
            "Accuracy: 0.77880859375\n",
            "Average Loss: 0.46354515978102556\n",
            "Accuracy: 0.7786964980544747\n"
          ]
        },
        {
          "name": "stderr",
          "output_type": "stream",
          "text": [
            "\r259it [00:24, 10.17it/s]"
          ]
        },
        {
          "name": "stdout",
          "output_type": "stream",
          "text": [
            "Average Loss: 0.46303273142539253\n",
            "Accuracy: 0.7790697674418605\n",
            "Average Loss: 0.462598661600853\n",
            "Accuracy: 0.7796814671814671\n",
            "tensor(0.4885, device='cuda:0', grad_fn=<BinaryCrossEntropyBackward0>)\n",
            "Average Loss: 0.46269845097110823\n",
            "Accuracy: 0.7795673076923076\n"
          ]
        },
        {
          "name": "stderr",
          "output_type": "stream",
          "text": [
            "263it [00:25, 10.32it/s]"
          ]
        },
        {
          "name": "stdout",
          "output_type": "stream",
          "text": [
            "Average Loss: 0.46255909477385526\n",
            "Accuracy: 0.7796934865900383\n",
            "Average Loss: 0.46193960394340616\n",
            "Accuracy: 0.7800572519083969\n",
            "Average Loss: 0.4618391960632665\n",
            "Accuracy: 0.7797053231939164\n"
          ]
        },
        {
          "name": "stderr",
          "output_type": "stream",
          "text": [
            "\r265it [00:25, 10.41it/s]"
          ]
        },
        {
          "name": "stdout",
          "output_type": "stream",
          "text": [
            "Average Loss: 0.4621554750271819\n",
            "Accuracy: 0.7793560606060606\n",
            "Average Loss: 0.46178109437789555\n",
            "Accuracy: 0.7794811320754716\n",
            "Average Loss: 0.4612521640676305\n",
            "Accuracy: 0.7796052631578947\n"
          ]
        },
        {
          "name": "stderr",
          "output_type": "stream",
          "text": [
            "269it [00:25, 10.63it/s]"
          ]
        },
        {
          "name": "stdout",
          "output_type": "stream",
          "text": [
            "Average Loss: 0.46049493233139593\n",
            "Accuracy: 0.7804307116104869\n",
            "Average Loss: 0.4600170843525609\n",
            "Accuracy: 0.7807835820895522\n",
            "Average Loss: 0.4605666050569719\n",
            "Accuracy: 0.7804368029739777\n"
          ]
        },
        {
          "name": "stderr",
          "output_type": "stream",
          "text": [
            "\r271it [00:25, 10.56it/s]"
          ]
        },
        {
          "name": "stdout",
          "output_type": "stream",
          "text": [
            "tensor(0.3906, device='cuda:0', grad_fn=<BinaryCrossEntropyBackward0>)\n",
            "Average Loss: 0.46030751240474205\n",
            "Accuracy: 0.7803240740740741\n",
            "Average Loss: 0.46135864217122985\n",
            "Accuracy: 0.7797509225092251\n",
            "Average Loss: 0.4615169438697836\n",
            "Accuracy: 0.7796415441176471\n"
          ]
        },
        {
          "name": "stderr",
          "output_type": "stream",
          "text": [
            "275it [00:26, 10.65it/s]"
          ]
        },
        {
          "name": "stdout",
          "output_type": "stream",
          "text": [
            "Average Loss: 0.4607809718166079\n",
            "Accuracy: 0.7802197802197802\n",
            "Average Loss: 0.46073219413957456\n",
            "Accuracy: 0.7803375912408759\n",
            "Average Loss: 0.460259519869631\n",
            "Accuracy: 0.7809090909090909\n"
          ]
        },
        {
          "name": "stderr",
          "output_type": "stream",
          "text": [
            "\r277it [00:26, 10.46it/s]"
          ]
        },
        {
          "name": "stdout",
          "output_type": "stream",
          "text": [
            "Average Loss: 0.4609425192617852\n",
            "Accuracy: 0.7803442028985508\n",
            "Average Loss: 0.4612716605839747\n",
            "Accuracy: 0.779783393501805\n",
            "Average Loss: 0.4614134929913411\n",
            "Accuracy: 0.7796762589928058\n"
          ]
        },
        {
          "name": "stderr",
          "output_type": "stream",
          "text": [
            "281it [00:26, 10.32it/s]"
          ]
        },
        {
          "name": "stdout",
          "output_type": "stream",
          "text": [
            "Average Loss: 0.46164067260467023\n",
            "Accuracy: 0.7795698924731183\n",
            "tensor(0.4330, device='cuda:0', grad_fn=<BinaryCrossEntropyBackward0>)\n",
            "Average Loss: 0.46153838192777974\n",
            "Accuracy: 0.7796875\n",
            "Average Loss: 0.4618880643220983\n",
            "Accuracy: 0.7798042704626335\n"
          ]
        },
        {
          "name": "stderr",
          "output_type": "stream",
          "text": [
            "\r283it [00:27, 10.29it/s]"
          ]
        },
        {
          "name": "stdout",
          "output_type": "stream",
          "text": [
            "Average Loss: 0.4618412497724202\n",
            "Accuracy: 0.7799202127659575\n",
            "Average Loss: 0.4617939839409434\n",
            "Accuracy: 0.7798144876325088\n",
            "Average Loss:"
          ]
        },
        {
          "name": "stderr",
          "output_type": "stream",
          "text": [
            "\r285it [00:27, 10.13it/s]"
          ]
        },
        {
          "name": "stdout",
          "output_type": "stream",
          "text": [
            " 0.46130075017121475\n",
            "Accuracy: 0.780149647887324\n",
            "Average Loss: 0.4605110039313634\n",
            "Accuracy: 0.7807017543859649\n",
            "Average Loss: 0.46044530052613547\n",
            "Accuracy: 0.7808129370629371\n"
          ]
        },
        {
          "name": "stderr",
          "output_type": "stream",
          "text": [
            "\r287it [00:27, 10.06it/s]"
          ]
        },
        {
          "name": "stdout",
          "output_type": "stream",
          "text": [
            "Average Loss: 0.459671239300472\n",
            "Accuracy: 0.7815766550522648\n",
            "Average Loss: 0.460160368329121\n",
            "Accuracy: 0.78125\n"
          ]
        },
        {
          "name": "stderr",
          "output_type": "stream",
          "text": [
            "291it [00:27, 10.13it/s]"
          ]
        },
        {
          "name": "stdout",
          "output_type": "stream",
          "text": [
            "Average Loss: 0.45992349392402543\n",
            "Accuracy: 0.7813581314878892\n",
            "tensor(0.3815, device='cuda:0', grad_fn=<BinaryCrossEntropyBackward0>)\n",
            "Average Loss: 0.45965322965177996\n",
            "Accuracy: 0.7816810344827586\n",
            "Average Loss: 0.4594591777144429\n",
            "Accuracy: 0.7820017182130584\n"
          ]
        },
        {
          "name": "stderr",
          "output_type": "stream",
          "text": [
            "\r293it [00:28, 10.10it/s]"
          ]
        },
        {
          "name": "stdout",
          "output_type": "stream",
          "text": [
            "Average Loss: 0.4598824111362026\n",
            "Accuracy: 0.78125\n",
            "Average Loss: 0.45945177356944555\n",
            "Accuracy: 0.7815699658703071\n",
            "Average Loss: 0.45956050934029274\n"
          ]
        },
        {
          "name": "stderr",
          "output_type": "stream",
          "text": [
            "\r295it [00:28, 10.09it/s]"
          ]
        },
        {
          "name": "stdout",
          "output_type": "stream",
          "text": [
            "Accuracy: 0.78125\n",
            "Average Loss: 0.45913686843241674\n",
            "Accuracy: 0.7813559322033898\n",
            "Average Loss: 0.4585494325571769\n",
            "Accuracy: 0.7816722972972973\n"
          ]
        },
        {
          "name": "stderr",
          "output_type": "stream",
          "text": [
            "299it [00:28, 10.12it/s]"
          ]
        },
        {
          "name": "stdout",
          "output_type": "stream",
          "text": [
            "Average Loss: 0.4585184235163409\n",
            "Accuracy: 0.781986531986532\n",
            "Average Loss: 0.45836765184098444\n",
            "Accuracy: 0.7822986577181208\n",
            "Average Loss: 0.4591109803488422\n",
            "Accuracy: 0.782190635451505\n"
          ]
        },
        {
          "name": "stderr",
          "output_type": "stream",
          "text": [
            "\r301it [00:28, 10.11it/s]"
          ]
        },
        {
          "name": "stdout",
          "output_type": "stream",
          "text": [
            "tensor(0.6980, device='cuda:0', grad_fn=<BinaryCrossEntropyBackward0>)\n",
            "Average Loss: 0.4599073329567909\n",
            "Accuracy: 0.7816666666666666\n",
            "Average Loss: 0.4598630439007401\n",
            "Accuracy: 0.7817691029900332\n",
            "Average Loss: 0.4595547265169636\n",
            "Accuracy: 0.7820778145695364\n"
          ]
        },
        {
          "name": "stderr",
          "output_type": "stream",
          "text": [
            "305it [00:29, 10.17it/s]"
          ]
        },
        {
          "name": "stdout",
          "output_type": "stream",
          "text": [
            "Average Loss: 0.45951165814604306\n",
            "Accuracy: 0.7819719471947195\n",
            "Average Loss: 0.46010495173303706\n",
            "Accuracy: 0.7818667763157895\n",
            "Average Loss: 0.4596673385041659\n",
            "Accuracy: 0.7819672131147541\n"
          ]
        },
        {
          "name": "stderr",
          "output_type": "stream",
          "text": [
            "\r307it [00:29, 10.15it/s]"
          ]
        },
        {
          "name": "stdout",
          "output_type": "stream",
          "text": [
            "Average Loss: 0.46039953399327843\n",
            "Accuracy: 0.7818627450980392\n",
            "Average Loss: 0.46030734610479895\n",
            "Accuracy: 0.7817589576547231\n",
            "Average Loss: 0.46095998101420216\n"
          ]
        },
        {
          "name": "stderr",
          "output_type": "stream",
          "text": [
            "\r309it [00:29, 10.12it/s]"
          ]
        },
        {
          "name": "stdout",
          "output_type": "stream",
          "text": [
            "Accuracy: 0.78125\n",
            "Average Loss: 0.461675111144106\n",
            "Accuracy: 0.7811488673139159\n",
            "tensor(0.5879, device='cuda:0', grad_fn=<BinaryCrossEntropyBackward0>)\n",
            "Average Loss: 0.4620821568273729\n",
            "Accuracy: 0.7808467741935484\n"
          ]
        },
        {
          "name": "stderr",
          "output_type": "stream",
          "text": [
            "313it [00:29, 10.09it/s]"
          ]
        },
        {
          "name": "stdout",
          "output_type": "stream",
          "text": [
            "Average Loss: 0.46173625034534665\n",
            "Accuracy: 0.7811495176848875\n",
            "Average Loss: 0.4611958752457912\n",
            "Accuracy: 0.78125\n",
            "Average Loss: 0.4607757007161649\n",
            "Accuracy: 0.7815495207667732\n"
          ]
        },
        {
          "name": "stderr",
          "output_type": "stream",
          "text": [
            "\r315it [00:30, 10.19it/s]"
          ]
        },
        {
          "name": "stdout",
          "output_type": "stream",
          "text": [
            "Average Loss: 0.46058950122374637\n",
            "Accuracy: 0.7816480891719745\n",
            "Average Loss: 0.46119437321784007\n",
            "Accuracy: 0.7813492063492063\n",
            "Average Loss: 0.4611410066674027\n",
            "Accuracy: 0.78125\n"
          ]
        },
        {
          "name": "stderr",
          "output_type": "stream",
          "text": [
            "319it [00:30, 10.23it/s]"
          ]
        },
        {
          "name": "stdout",
          "output_type": "stream",
          "text": [
            "Average Loss: 0.46121277041991804\n",
            "Accuracy: 0.7809542586750788\n",
            "Average Loss: 0.46123414594422346\n",
            "Accuracy: 0.7808569182389937\n",
            "Average Loss: 0.4629693651647777\n",
            "Accuracy: 0.7799764890282131\n"
          ]
        },
        {
          "name": "stderr",
          "output_type": "stream",
          "text": [
            "\r321it [00:30, 10.26it/s]"
          ]
        },
        {
          "name": "stdout",
          "output_type": "stream",
          "text": [
            "tensor(0.5061, device='cuda:0', grad_fn=<BinaryCrossEntropyBackward0>)\n",
            "Average Loss: 0.4631040509790182\n",
            "Accuracy: 0.7798828125\n",
            "Average Loss: 0.46270275255229987\n",
            "Accuracy: 0.7801791277258567\n",
            "Average Loss: 0.46227752875467265\n",
            "Accuracy: 0.780667701863354\n"
          ]
        },
        {
          "name": "stderr",
          "output_type": "stream",
          "text": [
            "325it [00:31, 10.30it/s]"
          ]
        },
        {
          "name": "stdout",
          "output_type": "stream",
          "text": [
            "Average Loss: 0.4632270004911688\n",
            "Accuracy: 0.7799922600619195\n",
            "Average Loss: 0.4636739914615949\n",
            "Accuracy: 0.7798996913580247\n",
            "Average Loss: 0.46360105853814343\n",
            "Accuracy: 0.78\n"
          ]
        },
        {
          "name": "stderr",
          "output_type": "stream",
          "text": [
            "\r327it [00:31, 10.28it/s]"
          ]
        },
        {
          "name": "stdout",
          "output_type": "stream",
          "text": [
            "Average Loss: 0.4635163455104535\n",
            "Accuracy: 0.7800996932515337\n",
            "Average Loss: 0.46318888965002986\n",
            "Accuracy: 0.7801987767584098\n",
            "Average Loss: 0.4627611670733952\n",
            "Accuracy: 0.7806783536585366\n"
          ]
        },
        {
          "name": "stderr",
          "output_type": "stream",
          "text": [
            "331it [00:31, 10.46it/s]"
          ]
        },
        {
          "name": "stdout",
          "output_type": "stream",
          "text": [
            "Average Loss: 0.46217270924689924\n",
            "Accuracy: 0.7811550151975684\n",
            "tensor(0.5225, device='cuda:0', grad_fn=<BinaryCrossEntropyBackward0>)\n",
            "Average Loss: 0.4623554859197501\n",
            "Accuracy: 0.781060606060606\n",
            "Average Loss: 0.4625524521054098\n",
            "Accuracy: 0.7807779456193353\n"
          ]
        },
        {
          "name": "stderr",
          "output_type": "stream",
          "text": [
            "\r333it [00:31, 10.42it/s]"
          ]
        },
        {
          "name": "stdout",
          "output_type": "stream",
          "text": [
            "Average Loss: 0.46242007541369246\n",
            "Accuracy: 0.7810617469879518\n",
            "Average Loss: 0.46286177599394285\n",
            "Accuracy: 0.7807807807807807\n",
            "Average Loss: 0.4624977039541313\n",
            "Accuracy: 0.781062874251497\n"
          ]
        },
        {
          "name": "stderr",
          "output_type": "stream",
          "text": [
            "337it [00:32, 10.48it/s]"
          ]
        },
        {
          "name": "stdout",
          "output_type": "stream",
          "text": [
            "Average Loss: 0.46313752496420446\n",
            "Accuracy: 0.7807835820895522\n",
            "Average Loss: 0.4628715645521879\n",
            "Accuracy: 0.7810639880952381\n",
            "Average Loss: 0.46325248807049646\n",
            "Accuracy: 0.7806008902077152\n"
          ]
        },
        {
          "name": "stderr",
          "output_type": "stream",
          "text": [
            "\r339it [00:32, 10.38it/s]"
          ]
        },
        {
          "name": "stdout",
          "output_type": "stream",
          "text": [
            "Average Loss: 0.4636348707259759\n",
            "Accuracy: 0.7799556213017751\n",
            "Average Loss: 0.4634864842821363\n",
            "Accuracy: 0.780051622418879\n",
            "tensor(0.3844, device='cuda:0', grad_fn=<BinaryCrossEntropyBackward0>)\n",
            "Average Loss: 0.46325383247698054\n",
            "Accuracy: 0.7801470588235294\n"
          ]
        },
        {
          "name": "stderr",
          "output_type": "stream",
          "text": [
            "343it [00:32, 10.31it/s]"
          ]
        },
        {
          "name": "stdout",
          "output_type": "stream",
          "text": [
            "Average Loss: 0.46303837171747536\n",
            "Accuracy: 0.780241935483871\n",
            "Average Loss: 0.4628915275223771\n",
            "Accuracy: 0.7801535087719298\n",
            "Average Loss: 0.46282537989644196\n",
            "Accuracy: 0.7802478134110787\n"
          ]
        },
        {
          "name": "stderr",
          "output_type": "stream",
          "text": [
            "\r345it [00:33, 10.29it/s]"
          ]
        },
        {
          "name": "stdout",
          "output_type": "stream",
          "text": [
            "Average Loss: 0.4623009632666444\n",
            "Accuracy: 0.7808866279069767\n",
            "Average Loss: 0.4621333199998607\n",
            "Accuracy: 0.7811594202898551\n",
            "Average Loss: 0.4623859698717305\n",
            "Accuracy: 0.78125\n"
          ]
        },
        {
          "name": "stderr",
          "output_type": "stream",
          "text": [
            "349it [00:33, 10.27it/s]"
          ]
        },
        {
          "name": "stdout",
          "output_type": "stream",
          "text": [
            "Average Loss: 0.4623746369517159\n",
            "Accuracy: 0.7815201729106628\n",
            "Average Loss: 0.4621407161841447\n",
            "Accuracy: 0.7817887931034483\n",
            "Average Loss: 0.4622512847441315\n",
            "Accuracy: 0.7818767908309455\n"
          ]
        },
        {
          "name": "stderr",
          "output_type": "stream",
          "text": [
            "\r351it [00:33, 10.35it/s]"
          ]
        },
        {
          "name": "stdout",
          "output_type": "stream",
          "text": [
            "tensor(0.5886, device='cuda:0', grad_fn=<BinaryCrossEntropyBackward0>)\n",
            "Average Loss: 0.46261220250810897\n",
            "Accuracy: 0.7817857142857143\n",
            "Average Loss: 0.46257100570575466\n",
            "Accuracy: 0.7816951566951567\n",
            "Average Loss: 0.46309686909345066\n",
            "Accuracy: 0.78125\n"
          ]
        },
        {
          "name": "stderr",
          "output_type": "stream",
          "text": [
            "\r353it [00:33, 10.34it/s]"
          ]
        },
        {
          "name": "stdout",
          "output_type": "stream",
          "text": [
            "Average Loss: 0.46308276749535254\n",
            "Accuracy: 0.7813385269121813\n",
            "Average Loss: 0.4636831392171019\n",
            "Accuracy: 0.7807203389830508\n"
          ]
        },
        {
          "name": "stderr",
          "output_type": "stream",
          "text": [
            "\r355it [00:34, 10.15it/s]"
          ]
        },
        {
          "name": "stdout",
          "output_type": "stream",
          "text": [
            "Average Loss: 0.46334705470313486\n",
            "Accuracy: 0.7809859154929577\n",
            "Average Loss: 0.46305645642320764\n",
            "Accuracy: 0.7808988764044944\n"
          ]
        },
        {
          "name": "stderr",
          "output_type": "stream",
          "text": [
            "\r357it [00:34, 10.04it/s]"
          ]
        },
        {
          "name": "stdout",
          "output_type": "stream",
          "text": [
            "Average Loss: 0.46334570621242044\n",
            "Accuracy: 0.7802871148459384\n",
            "Average Loss: 0.4638254033953118\n",
            "Accuracy: 0.7800279329608939\n"
          ]
        },
        {
          "name": "stderr",
          "output_type": "stream",
          "text": [
            "361it [00:34, 10.06it/s]"
          ]
        },
        {
          "name": "stdout",
          "output_type": "stream",
          "text": [
            "Average Loss: 0.46393631718284906\n",
            "Accuracy: 0.7799442896935933\n",
            "tensor(0.4369, device='cuda:0', grad_fn=<BinaryCrossEntropyBackward0>)\n",
            "Average Loss: 0.46386115940080747\n",
            "Accuracy: 0.7802083333333333\n",
            "Average Loss: 0.46430494010943785\n",
            "Accuracy: 0.7797783933518005\n"
          ]
        },
        {
          "name": "stderr",
          "output_type": "stream",
          "text": [
            "\r363it [00:34, 10.13it/s]"
          ]
        },
        {
          "name": "stdout",
          "output_type": "stream",
          "text": [
            "Average Loss: 0.46405904077363935\n",
            "Accuracy: 0.7798687845303868\n",
            "Average Loss: 0.4639871074476846\n",
            "Accuracy: 0.7797865013774105\n",
            "Average Loss: 0.4635951082621302\n",
            "Accuracy: 0.7800480769230769\n"
          ]
        },
        {
          "name": "stderr",
          "output_type": "stream",
          "text": [
            "367it [00:35, 10.21it/s]"
          ]
        },
        {
          "name": "stdout",
          "output_type": "stream",
          "text": [
            "Average Loss: 0.4629655958854989\n",
            "Accuracy: 0.7804794520547945\n",
            "Average Loss: 0.462762466219605\n",
            "Accuracy: 0.7807377049180327\n",
            "Average Loss: 0.46296891139703483\n",
            "Accuracy: 0.7808242506811989\n"
          ]
        },
        {
          "name": "stderr",
          "output_type": "stream",
          "text": [
            "\r369it [00:35, 10.21it/s]"
          ]
        },
        {
          "name": "stdout",
          "output_type": "stream",
          "text": [
            "Average Loss: 0.4627290139703647\n",
            "Accuracy: 0.7809103260869565\n",
            "Average Loss: 0.46267489091490666\n",
            "Accuracy: 0.7804878048780488\n",
            "tensor(0.2991, device='cuda:0', grad_fn=<BinaryCrossEntropyBackward0>)\n",
            "Average Loss: 0.4622329185137878\n",
            "Accuracy: 0.7809121621621622"
          ]
        },
        {
          "name": "stderr",
          "output_type": "stream",
          "text": [
            "\r371it [00:35, 10.07it/s]"
          ]
        },
        {
          "name": "stdout",
          "output_type": "stream",
          "text": [
            "\n",
            "Average Loss: 0.4618317735484347\n",
            "Accuracy: 0.7809973045822103\n",
            "Average Loss: 0.46188901260655413\n",
            "Accuracy: 0.7809139784946236\n"
          ]
        },
        {
          "name": "stderr",
          "output_type": "stream",
          "text": [
            "375it [00:36, 10.15it/s]"
          ]
        },
        {
          "name": "stdout",
          "output_type": "stream",
          "text": [
            "Average Loss: 0.4615118583469544\n",
            "Accuracy: 0.7809986595174263\n",
            "Average Loss: 0.46166020536167734\n",
            "Accuracy: 0.7810828877005348\n",
            "Average Loss: 0.46141884342829387\n",
            "Accuracy: 0.781\n"
          ]
        },
        {
          "name": "stderr",
          "output_type": "stream",
          "text": [
            "\r377it [00:36, 10.09it/s]"
          ]
        },
        {
          "name": "stdout",
          "output_type": "stream",
          "text": [
            "Average Loss: 0.46152159127783265\n",
            "Accuracy: 0.7809175531914894\n",
            "Average Loss: 0.46173661931440113\n",
            "Accuracy: 0.7808355437665783\n",
            "Average Loss: 0.4614566703322073\n",
            "Accuracy: 0.7809193121693122\n"
          ]
        },
        {
          "name": "stderr",
          "output_type": "stream",
          "text": [
            "\r379it [00:36, 10.07it/s]"
          ]
        },
        {
          "name": "stdout",
          "output_type": "stream",
          "text": [
            "Average Loss: 0.46149370050681926\n",
            "Accuracy: 0.7810026385224275\n",
            "tensor(0.6210, device='cuda:0', grad_fn=<BinaryCrossEntropyBackward0>)\n",
            "Average Loss: 0.461913454375769\n",
            "Accuracy: 0.7802631578947369\n"
          ]
        },
        {
          "name": "stderr",
          "output_type": "stream",
          "text": [
            "\r381it [00:36, 10.00it/s]"
          ]
        },
        {
          "name": "stdout",
          "output_type": "stream",
          "text": [
            "Average Loss: 0.46168202568539796\n",
            "Accuracy: 0.7803477690288714\n",
            "Average Loss: 0.4611464864452472\n",
            "Accuracy: 0.7807591623036649\n"
          ]
        },
        {
          "name": "stderr",
          "output_type": "stream",
          "text": [
            "\r383it [00:36,  9.93it/s]"
          ]
        },
        {
          "name": "stdout",
          "output_type": "stream",
          "text": [
            "Average Loss: 0.46189890338920114\n",
            "Accuracy: 0.7800261096605744\n",
            "Average Loss: 0.46152981005919474\n",
            "Accuracy: 0.7802734375\n",
            "Average Loss: 0.4611429282597133\n"
          ]
        },
        {
          "name": "stderr",
          "output_type": "stream",
          "text": [
            "387it [00:37, 10.02it/s]"
          ]
        },
        {
          "name": "stdout",
          "output_type": "stream",
          "text": [
            "Accuracy: 0.7806818181818181\n",
            "Average Loss: 0.46127710889040496\n",
            "Accuracy: 0.7806023316062176\n",
            "Average Loss: 0.461117963920268\n",
            "Accuracy: 0.7805232558139535\n"
          ]
        },
        {
          "name": "stderr",
          "output_type": "stream",
          "text": [
            "\r389it [00:37, 10.07it/s]"
          ]
        },
        {
          "name": "stdout",
          "output_type": "stream",
          "text": [
            "Average Loss: 0.4610621115749644\n",
            "Accuracy: 0.7802835051546392\n",
            "Average Loss: 0.4610378655645719\n",
            "Accuracy: 0.780366323907455\n",
            "tensor(0.3367, device='cuda:0', grad_fn=<BinaryCrossEntropyBackward0>)\n",
            "Average Loss: 0.46071895353305037\n",
            "Accuracy: 0.780448717948718\n"
          ]
        },
        {
          "name": "stderr",
          "output_type": "stream",
          "text": [
            "393it [00:37, 10.18it/s]"
          ]
        },
        {
          "name": "stdout",
          "output_type": "stream",
          "text": [
            "Average Loss: 0.4605491090461116\n",
            "Accuracy: 0.7803708439897699\n",
            "Average Loss: 0.4603862151959721\n",
            "Accuracy: 0.7802933673469388\n",
            "Average Loss: 0.4606251577839597\n",
            "Accuracy: 0.7803753180661578\n"
          ]
        },
        {
          "name": "stderr",
          "output_type": "stream",
          "text": [
            "\r395it [00:38, 10.11it/s]"
          ]
        },
        {
          "name": "stdout",
          "output_type": "stream",
          "text": [
            "Average Loss: 0.46026309137114413\n",
            "Accuracy: 0.7806154822335025\n",
            "Average Loss: 0.46018701889846897\n",
            "Accuracy: 0.7808544303797469\n",
            "Average Loss: 0.46075800490198715\n",
            "Accuracy: 0.7806186868686869\n"
          ]
        },
        {
          "name": "stderr",
          "output_type": "stream",
          "text": [
            "399it [00:38, 10.30it/s]"
          ]
        },
        {
          "name": "stdout",
          "output_type": "stream",
          "text": [
            "Average Loss: 0.4609624157174108\n",
            "Accuracy: 0.7803841309823678\n",
            "Average Loss: 0.46087196386938717\n",
            "Accuracy: 0.7803077889447236\n",
            "Average Loss: 0.46077493639816913\n",
            "Accuracy: 0.7803884711779449\n"
          ]
        },
        {
          "name": "stderr",
          "output_type": "stream",
          "text": [
            "\r401it [00:38, 10.24it/s]"
          ]
        },
        {
          "name": "stdout",
          "output_type": "stream",
          "text": [
            "tensor(0.4354, device='cuda:0', grad_fn=<BinaryCrossEntropyBackward0>)\n",
            "Average Loss: 0.4607115053385496\n",
            "Accuracy: 0.7803125\n",
            "Average Loss: 0.4612188885485442\n",
            "Accuracy: 0.7802369077306733\n",
            "Average Loss: 0.46136898625252853\n",
            "Accuracy: 0.7803171641791045\n"
          ]
        },
        {
          "name": "stderr",
          "output_type": "stream",
          "text": [
            "405it [00:38, 10.19it/s]"
          ]
        },
        {
          "name": "stdout",
          "output_type": "stream",
          "text": [
            "Average Loss: 0.46271466521116406\n",
            "Accuracy: 0.7799317617866005\n",
            "Average Loss: 0.4636117660320631\n",
            "Accuracy: 0.7795482673267327\n",
            "Average Loss: 0.46315145558781096\n",
            "Accuracy: 0.7799382716049382\n"
          ]
        },
        {
          "name": "stderr",
          "output_type": "stream",
          "text": [
            "\r407it [00:39, 10.15it/s]"
          ]
        },
        {
          "name": "stdout",
          "output_type": "stream",
          "text": [
            "Average Loss: 0.46321410865619267\n",
            "Accuracy: 0.7801724137931034\n",
            "Average Loss: 0.46259564783707885\n",
            "Accuracy: 0.7805589680589681\n",
            "Average Loss: 0.46263500777821914\n",
            "Accuracy: 0.780484068627451\n"
          ]
        },
        {
          "name": "stderr",
          "output_type": "stream",
          "text": [
            "411it [00:39, 10.23it/s]"
          ]
        },
        {
          "name": "stdout",
          "output_type": "stream",
          "text": [
            "Average Loss: 0.4624541542495084\n",
            "Accuracy: 0.780562347188264\n",
            "tensor(0.3366, device='cuda:0', grad_fn=<BinaryCrossEntropyBackward0>)\n",
            "Average Loss: 0.46214721791627933\n",
            "Accuracy: 0.780640243902439\n",
            "Average Loss: 0.46236158729759735\n",
            "Accuracy: 0.780565693430657\n"
          ]
        },
        {
          "name": "stderr",
          "output_type": "stream",
          "text": [
            "\r413it [00:39, 10.22it/s]"
          ]
        },
        {
          "name": "stdout",
          "output_type": "stream",
          "text": [
            "Average Loss: 0.46232419663551944\n",
            "Accuracy: 0.7806432038834952\n",
            "Average Loss: 0.46235691353714786\n",
            "Accuracy: 0.7805690072639225\n",
            "Average Loss: 0.46249915270701697\n",
            "Accuracy: 0.7807971014492754\n"
          ]
        },
        {
          "name": "stderr",
          "output_type": "stream",
          "text": [
            "417it [00:40, 10.35it/s]"
          ]
        },
        {
          "name": "stdout",
          "output_type": "stream",
          "text": [
            "Average Loss: 0.4627704000616648\n",
            "Accuracy: 0.7805722891566265\n",
            "Average Loss: 0.46268355294775504\n",
            "Accuracy: 0.7806490384615384\n",
            "Average Loss: 0.46304950389644794\n",
            "Accuracy: 0.7802757793764988\n"
          ]
        },
        {
          "name": "stderr",
          "output_type": "stream",
          "text": [
            "\r419it [00:40, 10.30it/s]"
          ]
        },
        {
          "name": "stdout",
          "output_type": "stream",
          "text": [
            "Average Loss: 0.46257884194406024\n",
            "Accuracy: 0.7805023923444976\n",
            "Average Loss: 0.4628246422314701\n",
            "Accuracy: 0.7802804295942721\n",
            "tensor(0.3122, device='cuda:0', grad_fn=<BinaryCrossEntropyBackward0>)\n",
            "Average Loss: 0.46246599150555473\n",
            "Accuracy: 0.7806547619047619\n"
          ]
        },
        {
          "name": "stderr",
          "output_type": "stream",
          "text": [
            "423it [00:40, 10.35it/s]"
          ]
        },
        {
          "name": "stdout",
          "output_type": "stream",
          "text": [
            "Average Loss: 0.46229405725936706\n",
            "Accuracy: 0.7807304038004751\n",
            "Average Loss: 0.46253575857781687\n",
            "Accuracy: 0.7805094786729858\n",
            "Average Loss: 0.46256260330795396\n",
            "Accuracy: 0.7804373522458629\n"
          ]
        },
        {
          "name": "stderr",
          "output_type": "stream",
          "text": [
            "\r425it [00:40, 10.33it/s]"
          ]
        },
        {
          "name": "stdout",
          "output_type": "stream",
          "text": [
            "Average Loss: 0.4633627853022431\n",
            "Accuracy: 0.7799233490566038\n",
            "Average Loss: 0.46407518485013177\n",
            "Accuracy: 0.7794117647058824\n",
            "Average Loss: 0.4639957610150458\n",
            "Accuracy: 0.7794894366197183\n"
          ]
        },
        {
          "name": "stderr",
          "output_type": "stream",
          "text": [
            "429it [00:41, 10.27it/s]"
          ]
        },
        {
          "name": "stdout",
          "output_type": "stream",
          "text": [
            "Average Loss: 0.4638765619007709\n",
            "Accuracy: 0.7792740046838408\n",
            "Average Loss: 0.46425589139216417\n",
            "Accuracy: 0.7793516355140186\n",
            "Average Loss: 0.4643974832165769\n",
            "Accuracy: 0.7791375291375291\n"
          ]
        },
        {
          "name": "stderr",
          "output_type": "stream",
          "text": [
            "\r431it [00:41, 10.39it/s]"
          ]
        },
        {
          "name": "stdout",
          "output_type": "stream",
          "text": [
            "tensor(0.4553, device='cuda:0', grad_fn=<BinaryCrossEntropyBackward0>)\n",
            "Average Loss: 0.46437642317871713\n",
            "Accuracy: 0.7790697674418605\n",
            "Average Loss: 0.46444288006791384\n",
            "Accuracy: 0.7790023201856149\n",
            "Average Loss: 0.46420407805729796\n",
            "Accuracy: 0.7790798611111112\n"
          ]
        },
        {
          "name": "stderr",
          "output_type": "stream",
          "text": [
            "435it [00:41, 10.34it/s]"
          ]
        },
        {
          "name": "stdout",
          "output_type": "stream",
          "text": [
            "Average Loss: 0.4643754804932768\n",
            "Accuracy: 0.7787240184757506\n",
            "Average Loss: 0.46440268579166605\n",
            "Accuracy: 0.7786578341013825\n",
            "Average Loss: 0.46462153867743483\n",
            "Accuracy: 0.7783045977011495\n"
          ]
        },
        {
          "name": "stderr",
          "output_type": "stream",
          "text": [
            "\r437it [00:42, 10.39it/s]"
          ]
        },
        {
          "name": "stdout",
          "output_type": "stream",
          "text": [
            "Average Loss: 0.464511643309112\n",
            "Accuracy: 0.7783830275229358\n",
            "Average Loss: 0.4642578090628443\n",
            "Accuracy: 0.778604118993135\n",
            "Average Loss: 0.4643994379261313\n",
            "Accuracy: 0.7785388127853882\n"
          ]
        },
        {
          "name": "stderr",
          "output_type": "stream",
          "text": [
            "441it [00:42, 10.56it/s]"
          ]
        },
        {
          "name": "stdout",
          "output_type": "stream",
          "text": [
            "Average Loss: 0.4643963624241683\n",
            "Accuracy: 0.7784738041002278\n",
            "tensor(0.4550, device='cuda:0', grad_fn=<BinaryCrossEntropyBackward0>)\n",
            "Average Loss: 0.4643749876455827\n",
            "Accuracy: 0.7782670454545455\n",
            "Average Loss: 0.464075272450912\n",
            "Accuracy: 0.7786281179138322\n"
          ]
        },
        {
          "name": "stderr",
          "output_type": "stream",
          "text": [
            "\r443it [00:42, 10.63it/s]"
          ]
        },
        {
          "name": "stdout",
          "output_type": "stream",
          "text": [
            "Average Loss: 0.4640754250244857\n",
            "Accuracy: 0.7784219457013575\n",
            "Average Loss: 0.4645237847994466\n",
            "Accuracy: 0.7782167042889391\n",
            "Average Loss: 0.46452769590122206\n",
            "Accuracy: 0.7784346846846847\n"
          ]
        },
        {
          "name": "stderr",
          "output_type": "stream",
          "text": [
            "447it [00:43, 10.69it/s]"
          ]
        },
        {
          "name": "stdout",
          "output_type": "stream",
          "text": [
            "Average Loss: 0.46440318380848744\n",
            "Accuracy: 0.778370786516854\n",
            "Average Loss: 0.46426138308550746\n",
            "Accuracy: 0.7783071748878924\n",
            "Average Loss: 0.46464727642285475\n",
            "Accuracy: 0.7779642058165548\n"
          ]
        },
        {
          "name": "stderr",
          "output_type": "stream",
          "text": [
            "\r449it [00:43, 10.75it/s]"
          ]
        },
        {
          "name": "stdout",
          "output_type": "stream",
          "text": [
            "Average Loss: 0.4648180224799684\n",
            "Accuracy: 0.7777622767857143\n",
            "Average Loss: 0.46497709833434003\n",
            "Accuracy: 0.7775612472160356\n",
            "tensor(0.6574, device='cuda:0', grad_fn=<BinaryCrossEntropyBackward0>)\n",
            "Average Loss: 0.465404722293218\n",
            "Accuracy: 0.7772222222222223\n"
          ]
        },
        {
          "name": "stderr",
          "output_type": "stream",
          "text": [
            "453it [00:43, 10.79it/s]"
          ]
        },
        {
          "name": "stdout",
          "output_type": "stream",
          "text": [
            "Average Loss: 0.46520732062354586\n",
            "Accuracy: 0.7771618625277162\n",
            "Average Loss: 0.46498696697233\n",
            "Accuracy: 0.7773783185840708\n",
            "Average Loss: 0.46466665532415274\n",
            "Accuracy: 0.7777317880794702\n"
          ]
        },
        {
          "name": "stderr",
          "output_type": "stream",
          "text": [
            "\r455it [00:43, 10.81it/s]"
          ]
        },
        {
          "name": "stdout",
          "output_type": "stream",
          "text": [
            "Average Loss: 0.4646059334409394\n",
            "Accuracy: 0.7779460352422908\n",
            "Average Loss: 0.4646372477431874\n",
            "Accuracy: 0.778021978021978\n",
            "Average Loss: 0.4646632435421149\n",
            "Accuracy: 0.7778234649122807\n"
          ]
        },
        {
          "name": "stderr",
          "output_type": "stream",
          "text": [
            "459it [00:44, 10.77it/s]"
          ]
        },
        {
          "name": "stdout",
          "output_type": "stream",
          "text": [
            "Average Loss: 0.4646859365297355\n",
            "Accuracy: 0.7774890590809628\n",
            "Average Loss: 0.4653054010529706\n",
            "Accuracy: 0.7770196506550219\n",
            "Average Loss: 0.46532835244872733\n",
            "Accuracy: 0.7766884531590414\n"
          ]
        },
        {
          "name": "stderr",
          "output_type": "stream",
          "text": [
            "\r461it [00:44, 10.79it/s]"
          ]
        },
        {
          "name": "stdout",
          "output_type": "stream",
          "text": [
            "tensor(0.2995, device='cuda:0', grad_fn=<BinaryCrossEntropyBackward0>)\n",
            "Average Loss: 0.46496786378000093\n",
            "Accuracy: 0.7770380434782609\n",
            "Average Loss: 0.46475137236837194\n",
            "Accuracy: 0.777114967462039\n",
            "Average Loss: 0.4645073636398687\n",
            "Accuracy: 0.7771915584415584\n"
          ]
        },
        {
          "name": "stderr",
          "output_type": "stream",
          "text": [
            "465it [00:44, 10.76it/s]"
          ]
        },
        {
          "name": "stdout",
          "output_type": "stream",
          "text": [
            "Average Loss: 0.46435160391016606\n",
            "Accuracy: 0.777402807775378\n",
            "Average Loss: 0.4646417550614168\n",
            "Accuracy: 0.7774784482758621\n",
            "Average Loss: 0.4645252379678911\n",
            "Accuracy: 0.7775537634408602\n"
          ]
        },
        {
          "name": "stderr",
          "output_type": "stream",
          "text": [
            "\r467it [00:44, 10.80it/s]"
          ]
        },
        {
          "name": "stdout",
          "output_type": "stream",
          "text": [
            "Average Loss: 0.46449816713005687\n",
            "Accuracy: 0.7776287553648069\n",
            "Average Loss: 0.46465819499732597\n",
            "Accuracy: 0.7775695931477516\n",
            "Average Loss: 0.46454838828908074\n",
            "Accuracy: 0.7777777777777778\n"
          ]
        },
        {
          "name": "stderr",
          "output_type": "stream",
          "text": [
            "471it [00:45, 10.78it/s]"
          ]
        },
        {
          "name": "stdout",
          "output_type": "stream",
          "text": [
            "Average Loss: 0.4651353298855235\n",
            "Accuracy: 0.7775852878464818\n",
            "tensor(0.6665, device='cuda:0', grad_fn=<BinaryCrossEntropyBackward0>)\n",
            "Average Loss: 0.46556377239683844\n",
            "Accuracy: 0.7773936170212766\n",
            "Average Loss: 0.46536520958706074\n",
            "Accuracy: 0.777468152866242\n"
          ]
        },
        {
          "name": "stderr",
          "output_type": "stream",
          "text": [
            "\r473it [00:45, 10.81it/s]"
          ]
        },
        {
          "name": "stdout",
          "output_type": "stream",
          "text": [
            "Average Loss: 0.46493778788184714\n",
            "Accuracy: 0.7778072033898306\n",
            "Average Loss: 0.4648215892955062\n",
            "Accuracy: 0.7777484143763214\n",
            "Average Loss: 0.46480456749095195\n",
            "Accuracy: 0.7778217299578059\n"
          ]
        },
        {
          "name": "stderr",
          "output_type": "stream",
          "text": [
            "477it [00:45, 10.83it/s]"
          ]
        },
        {
          "name": "stdout",
          "output_type": "stream",
          "text": [
            "Average Loss: 0.4648003823506205\n",
            "Accuracy: 0.7778947368421053\n",
            "Average Loss: 0.46474172581895057\n",
            "Accuracy: 0.7779674369747899\n",
            "Average Loss: 0.46488860811827315\n",
            "Accuracy: 0.7779088050314465\n"
          ]
        },
        {
          "name": "stderr",
          "output_type": "stream",
          "text": [
            "\r479it [00:45, 10.85it/s]"
          ]
        },
        {
          "name": "stdout",
          "output_type": "stream",
          "text": [
            "Average Loss: 0.4655998917179626\n",
            "Accuracy: 0.7774581589958159\n",
            "Average Loss: 0.4661021077682678\n",
            "Accuracy: 0.7771398747390397\n",
            "tensor(0.4395, device='cuda:0', grad_fn=<BinaryCrossEntropyBackward0>)\n",
            "Average Loss: 0.46604659588386615\n",
            "Accuracy: 0.7772135416666667\n"
          ]
        },
        {
          "name": "stderr",
          "output_type": "stream",
          "text": [
            "483it [00:46, 10.83it/s]"
          ]
        },
        {
          "name": "stdout",
          "output_type": "stream",
          "text": [
            "Average Loss: 0.4661822255212899\n",
            "Accuracy: 0.7772869022869023\n",
            "Average Loss: 0.4662418363005294\n",
            "Accuracy: 0.777100622406639\n",
            "Average Loss: 0.4663194003312484\n",
            "Accuracy: 0.777044513457557\n"
          ]
        },
        {
          "name": "stderr",
          "output_type": "stream",
          "text": [
            "\r485it [00:46, 10.81it/s]"
          ]
        },
        {
          "name": "stdout",
          "output_type": "stream",
          "text": [
            "Average Loss: 0.4665362999951544\n",
            "Accuracy: 0.7771177685950413\n",
            "Average Loss: 0.4666212276085136\n",
            "Accuracy: 0.7771907216494846\n",
            "Average Loss: 0.46628474324573704\n",
            "Accuracy: 0.777391975308642\n"
          ]
        },
        {
          "name": "stderr",
          "output_type": "stream",
          "text": [
            "489it [00:46, 10.75it/s]"
          ]
        },
        {
          "name": "stdout",
          "output_type": "stream",
          "text": [
            "Average Loss: 0.4664555062870715\n",
            "Accuracy: 0.7772073921971252\n",
            "Average Loss: 0.46721478289023777\n",
            "Accuracy: 0.7767674180327869\n",
            "Average Loss: 0.4673315839411535\n",
            "Accuracy: 0.7767126789366053\n"
          ]
        },
        {
          "name": "stderr",
          "output_type": "stream",
          "text": [
            "\r491it [00:47, 10.68it/s]"
          ]
        },
        {
          "name": "stdout",
          "output_type": "stream",
          "text": [
            "tensor(0.4187, device='cuda:0', grad_fn=<BinaryCrossEntropyBackward0>)\n",
            "Average Loss: 0.46723230426408807\n",
            "Accuracy: 0.7767857142857143\n",
            "Average Loss: 0.4675885596124801\n",
            "Accuracy: 0.7766038696537678\n",
            "Average Loss: 0.4678808559126001\n",
            "Accuracy: 0.7765497967479674\n"
          ]
        },
        {
          "name": "stderr",
          "output_type": "stream",
          "text": [
            "495it [00:47, 10.59it/s]"
          ]
        },
        {
          "name": "stdout",
          "output_type": "stream",
          "text": [
            "Average Loss: 0.467645580882233\n",
            "Accuracy: 0.7767494929006086\n",
            "Average Loss: 0.46790614718126383\n",
            "Accuracy: 0.7766953441295547\n",
            "Average Loss: 0.4678852537665704\n",
            "Accuracy: 0.7766414141414142\n"
          ]
        },
        {
          "name": "stderr",
          "output_type": "stream",
          "text": [
            "\r497it [00:47, 10.49it/s]"
          ]
        },
        {
          "name": "stdout",
          "output_type": "stream",
          "text": [
            "Average Loss: 0.46789610151562\n",
            "Accuracy: 0.7765877016129032\n",
            "Average Loss: 0.46789640589978854\n",
            "Accuracy: 0.7766599597585513\n",
            "Average Loss: 0.4680166185261255\n",
            "Accuracy: 0.776355421686747\n"
          ]
        },
        {
          "name": "stderr",
          "output_type": "stream",
          "text": [
            "501it [00:48, 10.55it/s]"
          ]
        },
        {
          "name": "stdout",
          "output_type": "stream",
          "text": [
            "Average Loss: 0.4679760130827795\n",
            "Accuracy: 0.7763026052104208\n",
            "tensor(0.3360, device='cuda:0', grad_fn=<BinaryCrossEntropyBackward0>)\n",
            "Average Loss: 0.4677120896577835\n",
            "Accuracy: 0.776625\n",
            "Average Loss: 0.4677079057027242\n",
            "Accuracy: 0.7766966067864272\n"
          ]
        },
        {
          "name": "stderr",
          "output_type": "stream",
          "text": [
            "\r503it [00:48, 10.58it/s]"
          ]
        },
        {
          "name": "stdout",
          "output_type": "stream",
          "text": [
            "Average Loss: 0.46730231306704867\n",
            "Accuracy: 0.7770169322709163\n",
            "Average Loss: 0.46718522586357997\n",
            "Accuracy: 0.7772117296222664\n",
            "Average Loss: 0.46732187773736694\n",
            "Accuracy: 0.7770337301587301\n"
          ]
        },
        {
          "name": "stderr",
          "output_type": "stream",
          "text": [
            "507it [00:48, 10.56it/s]"
          ]
        },
        {
          "name": "stdout",
          "output_type": "stream",
          "text": [
            "Average Loss: 0.4669817936892557\n",
            "Accuracy: 0.7773514851485148\n",
            "Average Loss: 0.466677370573221\n",
            "Accuracy: 0.7776679841897233\n",
            "Average Loss: 0.46694558994069374\n",
            "Accuracy: 0.7774901380670611\n"
          ]
        },
        {
          "name": "stderr",
          "output_type": "stream",
          "text": [
            "\r509it [00:48, 10.51it/s]"
          ]
        },
        {
          "name": "stdout",
          "output_type": "stream",
          "text": [
            "Average Loss: 0.4669278948091147\n",
            "Accuracy: 0.7774360236220472\n",
            "Average Loss: 0.4668499120092111\n",
            "Accuracy: 0.7772593320235757\n",
            "tensor(0.4394, device='cuda:0', grad_fn=<BinaryCrossEntropyBackward0>)\n",
            "Average Loss: 0.46679602072519416\n",
            "Accuracy: 0.7774509803921569\n"
          ]
        },
        {
          "name": "stderr",
          "output_type": "stream",
          "text": [
            "513it [00:49, 10.37it/s]"
          ]
        },
        {
          "name": "stdout",
          "output_type": "stream",
          "text": [
            "Average Loss: 0.466598404013714\n",
            "Accuracy: 0.7775195694716243\n",
            "Average Loss: 0.466714684269391\n",
            "Accuracy: 0.7772216796875\n",
            "Average Loss: 0.46650876433063904\n",
            "Accuracy: 0.7772904483430799\n"
          ]
        },
        {
          "name": "stderr",
          "output_type": "stream",
          "text": [
            "\r515it [00:49, 10.44it/s]"
          ]
        },
        {
          "name": "stdout",
          "output_type": "stream",
          "text": [
            "Average Loss: 0.4661469266456389\n",
            "Accuracy: 0.7774805447470817\n",
            "Average Loss: 0.46603456509923474\n",
            "Accuracy: 0.7774271844660194\n",
            "Average Loss: 0.46579655340706655\n",
            "Accuracy: 0.7777374031007752\n"
          ]
        },
        {
          "name": "stderr",
          "output_type": "stream",
          "text": [
            "519it [00:49, 10.43it/s]"
          ]
        },
        {
          "name": "stdout",
          "output_type": "stream",
          "text": [
            "Average Loss: 0.46562815294736126\n",
            "Accuracy: 0.7778046421663443\n",
            "Average Loss: 0.4657632062448958\n",
            "Accuracy: 0.7776303088803089\n",
            "Average Loss: 0.46565312681170556\n",
            "Accuracy: 0.7775770712909441\n"
          ]
        },
        {
          "name": "stderr",
          "output_type": "stream",
          "text": [
            "\r521it [00:49, 10.38it/s]"
          ]
        },
        {
          "name": "stdout",
          "output_type": "stream",
          "text": [
            "tensor(0.3458, device='cuda:0', grad_fn=<BinaryCrossEntropyBackward0>)\n",
            "Average Loss: 0.4654226385630094\n",
            "Accuracy: 0.7776442307692307\n",
            "Average Loss: 0.4655963985567587\n",
            "Accuracy: 0.7774712092130518\n",
            "Average Loss: 0.4654280082019353\n",
            "Accuracy: 0.7776580459770115\n"
          ]
        },
        {
          "name": "stderr",
          "output_type": "stream",
          "text": [
            "525it [00:50, 10.58it/s]"
          ]
        },
        {
          "name": "stdout",
          "output_type": "stream",
          "text": [
            "Average Loss: 0.46507722720589284\n",
            "Accuracy: 0.777963671128107\n",
            "Average Loss: 0.46499240409781917\n",
            "Accuracy: 0.7780295801526718\n",
            "Average Loss: 0.46563872291928243\n",
            "Accuracy: 0.7776190476190477\n"
          ]
        },
        {
          "name": "stderr",
          "output_type": "stream",
          "text": [
            "\r527it [00:50, 10.71it/s]"
          ]
        },
        {
          "name": "stdout",
          "output_type": "stream",
          "text": [
            "Average Loss: 0.4658930961170124\n",
            "Accuracy: 0.7775665399239544\n",
            "Average Loss: 0.4662599918738262\n",
            "Accuracy: 0.7775142314990512\n",
            "Average Loss: 0.465841777820253\n",
            "Accuracy: 0.7776988636363636\n"
          ]
        },
        {
          "name": "stderr",
          "output_type": "stream",
          "text": [
            "531it [00:50, 10.80it/s]"
          ]
        },
        {
          "name": "stdout",
          "output_type": "stream",
          "text": [
            "Average Loss: 0.46570438481796894\n",
            "Accuracy: 0.7776465028355387\n",
            "tensor(0.4833, device='cuda:0', grad_fn=<BinaryCrossEntropyBackward0>)\n",
            "Average Loss: 0.4657376383554261\n",
            "Accuracy: 0.7777122641509434\n",
            "Average Loss: 0.465753065916778\n",
            "Accuracy: 0.7780131826741996\n"
          ]
        },
        {
          "name": "stderr",
          "output_type": "stream",
          "text": [
            "\r533it [00:51, 10.72it/s]"
          ]
        },
        {
          "name": "stdout",
          "output_type": "stream",
          "text": [
            "Average Loss: 0.46629574763259496\n",
            "Accuracy: 0.7778430451127819\n",
            "Average Loss: 0.4661138476227283\n",
            "Accuracy: 0.7777908067542214\n",
            "Average Loss: 0.4659225388468428\n",
            "Accuracy: 0.7778558052434457\n"
          ]
        },
        {
          "name": "stderr",
          "output_type": "stream",
          "text": [
            "537it [00:51, 10.71it/s]"
          ]
        },
        {
          "name": "stdout",
          "output_type": "stream",
          "text": [
            "Average Loss: 0.46602270828786296\n",
            "Accuracy: 0.7779205607476636\n",
            "Average Loss: 0.4656628599640594\n",
            "Accuracy: 0.7782182835820896\n",
            "Average Loss: 0.4660901720574892\n",
            "Accuracy: 0.777816573556797\n"
          ]
        },
        {
          "name": "stderr",
          "output_type": "stream",
          "text": [
            "\r539it [00:51, 10.68it/s]"
          ]
        },
        {
          "name": "stdout",
          "output_type": "stream",
          "text": [
            "Average Loss: 0.46607311992286304\n",
            "Accuracy: 0.7778810408921933\n",
            "Average Loss: 0.46628298020208037\n",
            "Accuracy: 0.7779452690166976\n",
            "tensor(0.4917, device='cuda:0', grad_fn=<BinaryCrossEntropyBackward0>)\n",
            "Average Loss: 0.4663300671787174\n",
            "Accuracy: 0.7778935185185185\n"
          ]
        },
        {
          "name": "stderr",
          "output_type": "stream",
          "text": [
            "543it [00:52, 10.61it/s]"
          ]
        },
        {
          "name": "stdout",
          "output_type": "stream",
          "text": [
            "Average Loss: 0.4662788583864346\n",
            "Accuracy: 0.7778419593345656\n",
            "Average Loss: 0.46587523842759676\n",
            "Accuracy: 0.7780212177121771\n",
            "Average Loss: 0.4656843054854409\n",
            "Accuracy: 0.7781998158379374\n"
          ]
        },
        {
          "name": "stderr",
          "output_type": "stream",
          "text": [
            "\r545it [00:52, 10.55it/s]"
          ]
        },
        {
          "name": "stdout",
          "output_type": "stream",
          "text": [
            "Average Loss: 0.4653562929426484\n",
            "Accuracy: 0.7786075367647058\n",
            "Average Loss: 0.46540341505763727\n",
            "Accuracy: 0.7785550458715597\n",
            "Average Loss: 0.4653677477231829\n",
            "Accuracy: 0.7788461538461539\n"
          ]
        },
        {
          "name": "stderr",
          "output_type": "stream",
          "text": [
            "549it [00:52, 10.54it/s]"
          ]
        },
        {
          "name": "stdout",
          "output_type": "stream",
          "text": [
            "Average Loss: 0.46507754641324556\n",
            "Accuracy: 0.7790219378427788\n",
            "Average Loss: 0.4648197741132148\n",
            "Accuracy: 0.7793111313868614\n",
            "Average Loss: 0.46487953849068975\n",
            "Accuracy: 0.7792577413479053\n"
          ]
        },
        {
          "name": "stderr",
          "output_type": "stream",
          "text": [
            "\r551it [00:52, 10.46it/s]"
          ]
        },
        {
          "name": "stdout",
          "output_type": "stream",
          "text": [
            "tensor(0.2501, device='cuda:0', grad_fn=<BinaryCrossEntropyBackward0>)\n",
            "Average Loss: 0.46448907112533394\n",
            "Accuracy: 0.7794318181818182\n",
            "Average Loss: 0.4647023678637243\n",
            "Accuracy: 0.7793784029038112\n",
            "Average Loss: 0.4651580531474041\n",
            "Accuracy: 0.779098731884058\n"
          ]
        },
        {
          "name": "stderr",
          "output_type": "stream",
          "text": [
            "555it [00:53, 10.51it/s]"
          ]
        },
        {
          "name": "stdout",
          "output_type": "stream",
          "text": [
            "Average Loss: 0.46546850268599355\n",
            "Accuracy: 0.7787070524412296\n",
            "Average Loss: 0.465589492625493\n",
            "Accuracy: 0.7787680505415162\n",
            "Average Loss: 0.4654909235131633\n",
            "Accuracy: 0.7789414414414414\n"
          ]
        },
        {
          "name": "stderr",
          "output_type": "stream",
          "text": [
            "\r557it [00:53, 10.60it/s]"
          ]
        },
        {
          "name": "stdout",
          "output_type": "stream",
          "text": [
            "Average Loss: 0.46587226419247313\n",
            "Accuracy: 0.7788893884892086\n",
            "Average Loss: 0.46588534691924466\n",
            "Accuracy: 0.7789497307001796\n",
            "Average Loss: 0.4658558808507458\n",
            "Accuracy: 0.7790098566308243\n"
          ]
        },
        {
          "name": "stderr",
          "output_type": "stream",
          "text": [
            "561it [00:53, 10.69it/s]"
          ]
        },
        {
          "name": "stdout",
          "output_type": "stream",
          "text": [
            "Average Loss: 0.4662230861154993\n",
            "Accuracy: 0.7787343470483006\n",
            "tensor(0.2920, device='cuda:0', grad_fn=<BinaryCrossEntropyBackward0>)\n",
            "Average Loss: 0.46591190293963464\n",
            "Accuracy: 0.77890625\n",
            "Average Loss: 0.4658001325825319\n",
            "Accuracy: 0.7789661319073083\n"
          ]
        },
        {
          "name": "stderr",
          "output_type": "stream",
          "text": [
            "\r563it [00:53, 10.72it/s]"
          ]
        },
        {
          "name": "stdout",
          "output_type": "stream",
          "text": [
            "Average Loss: 0.46584140207101443\n",
            "Accuracy: 0.7789145907473309\n",
            "Average Loss: 0.4657295999740834\n",
            "Accuracy: 0.7789742451154529\n",
            "Average Loss: 0.46566251879359816\n",
            "Accuracy: 0.7791445035460993\n"
          ]
        },
        {
          "name": "stderr",
          "output_type": "stream",
          "text": [
            "567it [00:54, 10.80it/s]"
          ]
        },
        {
          "name": "stdout",
          "output_type": "stream",
          "text": [
            "Average Loss: 0.46593671211626675\n",
            "Accuracy: 0.7789823008849558\n",
            "Average Loss: 0.46594983789503785\n",
            "Accuracy: 0.779041519434629\n",
            "Average Loss: 0.4659001667190481\n",
            "Accuracy: 0.7789902998236331\n"
          ]
        },
        {
          "name": "stderr",
          "output_type": "stream",
          "text": [
            "\r569it [00:54, 10.77it/s]"
          ]
        },
        {
          "name": "stdout",
          "output_type": "stream",
          "text": [
            "Average Loss: 0.4659434103367614\n",
            "Accuracy: 0.7790492957746479\n",
            "Average Loss: 0.4659006392128229\n",
            "Accuracy: 0.7791080843585237\n",
            "tensor(0.3441, device='cuda:0', grad_fn=<BinaryCrossEntropyBackward0>)\n",
            "Average Loss: 0.46568689385527057\n",
            "Accuracy: 0.7793859649122807\n"
          ]
        },
        {
          "name": "stderr",
          "output_type": "stream",
          "text": [
            "573it [00:54, 10.45it/s]\n"
          ]
        },
        {
          "name": "stdout",
          "output_type": "stream",
          "text": [
            "Average Loss: 0.46606065259819063\n",
            "Accuracy: 0.7791155866900175\n",
            "Average Loss: 0.46673571977477807\n",
            "Accuracy: 0.7789554195804196\n",
            "Average Loss: 0.4666909683905347\n",
            "Accuracy: 0.7789048865619547\n"
          ]
        },
        {
          "name": "stderr",
          "output_type": "stream",
          "text": [
            "2it [00:00, 10.61it/s]"
          ]
        },
        {
          "name": "stdout",
          "output_type": "stream",
          "text": [
            "Average Loss: 0.23736241459846497\n",
            "Accuracy: 0.9375\n",
            "Average Loss: 0.4004683345556259\n",
            "Accuracy: 0.84375\n",
            "Average Loss: 0.4848767618338267\n",
            "Accuracy: 0.7916666666666666\n"
          ]
        },
        {
          "name": "stderr",
          "output_type": "stream",
          "text": [
            "6it [00:00, 10.71it/s]"
          ]
        },
        {
          "name": "stdout",
          "output_type": "stream",
          "text": [
            "Average Loss: 0.4353529363870621\n",
            "Accuracy: 0.828125\n",
            "Average Loss: 0.43437904119491577\n",
            "Accuracy: 0.825\n",
            "Average Loss: 0.4484122892220815\n",
            "Accuracy: 0.8125\n"
          ]
        },
        {
          "name": "stderr",
          "output_type": "stream",
          "text": [
            "\r8it [00:00, 10.74it/s]"
          ]
        },
        {
          "name": "stdout",
          "output_type": "stream",
          "text": [
            "Average Loss: 0.44729427780423847\n",
            "Accuracy: 0.8035714285714286\n",
            "Average Loss: 0.43438588082790375\n",
            "Accuracy: 0.8125\n",
            "Average Loss: 0.42295078767670524\n",
            "Accuracy: 0.8194444444444444\n"
          ]
        },
        {
          "name": "stderr",
          "output_type": "stream",
          "text": [
            "12it [00:01, 10.71it/s]"
          ]
        },
        {
          "name": "stdout",
          "output_type": "stream",
          "text": [
            "tensor(0.3930, device='cuda:0', grad_fn=<BinaryCrossEntropyBackward0>)\n",
            "Average Loss: 0.41995937526226046\n",
            "Accuracy: 0.8125\n",
            "Average Loss: 0.42421482367949054\n",
            "Accuracy: 0.8068181818181818\n",
            "Average Loss: 0.4222091982762019\n",
            "Accuracy: 0.8072916666666666\n"
          ]
        },
        {
          "name": "stderr",
          "output_type": "stream",
          "text": [
            "\r14it [00:01, 10.64it/s]"
          ]
        },
        {
          "name": "stdout",
          "output_type": "stream",
          "text": [
            "Average Loss: 0.4404188532095689\n",
            "Accuracy: 0.7980769230769231\n",
            "Average Loss: 0.43033595170293537\n",
            "Accuracy: 0.8080357142857143\n",
            "Average Loss: 0.41788135667641957\n",
            "Accuracy: 0.8166666666666667\n"
          ]
        },
        {
          "name": "stderr",
          "output_type": "stream",
          "text": [
            "18it [00:01, 10.68it/s]"
          ]
        },
        {
          "name": "stdout",
          "output_type": "stream",
          "text": [
            "Average Loss: 0.407675770111382\n",
            "Accuracy: 0.82421875\n",
            "Average Loss: 0.4026742761625963\n",
            "Accuracy: 0.8308823529411765\n",
            "Average Loss: 0.4136204065548049\n",
            "Accuracy: 0.8263888888888888\n"
          ]
        },
        {
          "name": "stderr",
          "output_type": "stream",
          "text": [
            "\r20it [00:01, 10.65it/s]"
          ]
        },
        {
          "name": "stdout",
          "output_type": "stream",
          "text": [
            "Average Loss: 0.4112304707891063\n",
            "Accuracy: 0.8256578947368421\n",
            "tensor(0.3064, device='cuda:0', grad_fn=<BinaryCrossEntropyBackward0>)\n",
            "Average Loss: 0.40599038973450663\n",
            "Accuracy: 0.828125\n",
            "Average Loss: 0.4033127448388508\n",
            "Accuracy: 0.8273809523809523\n"
          ]
        },
        {
          "name": "stderr",
          "output_type": "stream",
          "text": [
            "24it [00:02, 10.57it/s]"
          ]
        },
        {
          "name": "stdout",
          "output_type": "stream",
          "text": [
            "Average Loss: 0.4055961106311191\n",
            "Accuracy: 0.8238636363636364\n",
            "Average Loss: 0.4049786491238553\n",
            "Accuracy: 0.8260869565217391\n",
            "Average Loss: 0.41293385935326415\n",
            "Accuracy: 0.8255208333333334\n"
          ]
        },
        {
          "name": "stderr",
          "output_type": "stream",
          "text": [
            "\r26it [00:02, 10.54it/s]"
          ]
        },
        {
          "name": "stdout",
          "output_type": "stream",
          "text": [
            "Average Loss: 0.4080132955312729\n",
            "Accuracy: 0.8275\n",
            "Average Loss: 0.4119139445515779\n",
            "Accuracy: 0.8269230769230769\n",
            "Average Loss: 0.41029978074409346\n",
            "Accuracy: 0.8287037037037037\n"
          ]
        },
        {
          "name": "stderr",
          "output_type": "stream",
          "text": [
            "30it [00:02, 10.63it/s]"
          ]
        },
        {
          "name": "stdout",
          "output_type": "stream",
          "text": [
            "Average Loss: 0.408721528415169\n",
            "Accuracy: 0.828125\n",
            "Average Loss: 0.4030999880412529\n",
            "Accuracy: 0.8318965517241379\n",
            "tensor(0.2655, device='cuda:0', grad_fn=<BinaryCrossEntropyBackward0>)\n",
            "Average Loss: 0.3985135386387507\n",
            "Accuracy: 0.8354166666666667\n"
          ]
        },
        {
          "name": "stderr",
          "output_type": "stream",
          "text": [
            "\r32it [00:03, 10.55it/s]"
          ]
        },
        {
          "name": "stdout",
          "output_type": "stream",
          "text": [
            "Average Loss: 0.3941297521514277\n",
            "Accuracy: 0.8387096774193549\n",
            "Average Loss: 0.39242814760655165\n",
            "Accuracy: 0.837890625\n",
            "Average Loss: 0.38829683354406647\n",
            "Accuracy: 0.8409090909090909\n"
          ]
        },
        {
          "name": "stderr",
          "output_type": "stream",
          "text": [
            "36it [00:03, 10.54it/s]"
          ]
        },
        {
          "name": "stdout",
          "output_type": "stream",
          "text": [
            "Average Loss: 0.3880445781876059\n",
            "Accuracy: 0.8400735294117647\n",
            "Average Loss: 0.39180029119764054\n",
            "Accuracy: 0.8375\n",
            "Average Loss: 0.3907974080906974\n",
            "Accuracy: 0.8385416666666666\n"
          ]
        },
        {
          "name": "stderr",
          "output_type": "stream",
          "text": [
            "\r38it [00:03, 10.58it/s]"
          ]
        },
        {
          "name": "stdout",
          "output_type": "stream",
          "text": [
            "Average Loss: 0.3871466968510602\n",
            "Accuracy: 0.839527027027027\n",
            "Average Loss: 0.3826264856677306\n",
            "Accuracy: 0.84375\n",
            "Average Loss: 0.3836910159159929\n",
            "Accuracy: 0.842948717948718\n"
          ]
        },
        {
          "name": "stderr",
          "output_type": "stream",
          "text": [
            "42it [00:03, 10.55it/s]"
          ]
        },
        {
          "name": "stdout",
          "output_type": "stream",
          "text": [
            "tensor(0.1664, device='cuda:0', grad_fn=<BinaryCrossEntropyBackward0>)\n",
            "Average Loss: 0.3782596796751022\n",
            "Accuracy: 0.846875\n",
            "Average Loss: 0.3733400309958109\n",
            "Accuracy: 0.8490853658536586\n",
            "Average Loss: 0.37052378484181\n",
            "Accuracy: 0.8511904761904762\n"
          ]
        },
        {
          "name": "stderr",
          "output_type": "stream",
          "text": [
            "\r44it [00:04, 10.51it/s]"
          ]
        },
        {
          "name": "stdout",
          "output_type": "stream",
          "text": [
            "Average Loss: 0.36738739318625874\n",
            "Accuracy: 0.8531976744186046\n",
            "Average Loss: 0.3656403828750957\n",
            "Accuracy: 0.8536931818181818\n",
            "Average Loss: 0.36301355825530157\n",
            "Accuracy: 0.8541666666666666\n"
          ]
        },
        {
          "name": "stderr",
          "output_type": "stream",
          "text": [
            "48it [00:04, 10.49it/s]"
          ]
        },
        {
          "name": "stdout",
          "output_type": "stream",
          "text": [
            "Average Loss: 0.35800583304270456\n",
            "Accuracy: 0.8559782608695652\n",
            "Average Loss: 0.35291842196850065\n",
            "Accuracy: 0.8590425531914894\n",
            "Average Loss: 0.34993022214621305\n",
            "Accuracy: 0.8606770833333334\n"
          ]
        },
        {
          "name": "stderr",
          "output_type": "stream",
          "text": [
            "\r50it [00:04, 10.51it/s]"
          ]
        },
        {
          "name": "stdout",
          "output_type": "stream",
          "text": [
            "Average Loss: 0.34967025840769006\n",
            "Accuracy: 0.8622448979591837\n",
            "tensor(0.3301, device='cuda:0', grad_fn=<BinaryCrossEntropyBackward0>)\n",
            "Average Loss: 0.3492792883515358\n",
            "Accuracy: 0.86375\n",
            "Average Loss: 0.34594904149279876\n",
            "Accuracy: 0.8651960784313726\n"
          ]
        },
        {
          "name": "stderr",
          "output_type": "stream",
          "text": [
            "54it [00:05, 10.38it/s]"
          ]
        },
        {
          "name": "stdout",
          "output_type": "stream",
          "text": [
            "Average Loss: 0.3492037418943185\n",
            "Accuracy: 0.8653846153846154\n",
            "Average Loss: 0.34634158633789924\n",
            "Accuracy: 0.8667452830188679\n",
            "Average Loss: 0.3456212861670388\n",
            "Accuracy: 0.8668981481481481\n"
          ]
        },
        {
          "name": "stderr",
          "output_type": "stream",
          "text": [
            "\r56it [00:05, 10.44it/s]"
          ]
        },
        {
          "name": "stdout",
          "output_type": "stream",
          "text": [
            "Average Loss: 0.3438037612221458\n",
            "Accuracy: 0.8670454545454546\n",
            "Average Loss: 0.34357984736561775\n",
            "Accuracy: 0.8660714285714286\n",
            "Average Loss: 0.34131147071980594\n",
            "Accuracy: 0.8673245614035088\n"
          ]
        },
        {
          "name": "stderr",
          "output_type": "stream",
          "text": [
            "60it [00:05, 10.59it/s]"
          ]
        },
        {
          "name": "stdout",
          "output_type": "stream",
          "text": [
            "Average Loss: 0.34353192022134516\n",
            "Accuracy: 0.8663793103448276\n",
            "Average Loss: 0.34826869808011135\n",
            "Accuracy: 0.8633474576271186\n",
            "tensor(0.1920, device='cuda:0', grad_fn=<BinaryCrossEntropyBackward0>)\n",
            "Average Loss: 0.34566500013073287\n",
            "Accuracy: 0.8645833333333334\n"
          ]
        },
        {
          "name": "stderr",
          "output_type": "stream",
          "text": [
            "\r62it [00:05, 10.57it/s]"
          ]
        },
        {
          "name": "stdout",
          "output_type": "stream",
          "text": [
            "Average Loss: 0.3436127734965965\n",
            "Accuracy: 0.8647540983606558\n",
            "Average Loss: 0.3446717853507688\n",
            "Accuracy: 0.8629032258064516\n",
            "Average Loss: 0.3496856495501503\n",
            "Accuracy: 0.8581349206349206\n"
          ]
        },
        {
          "name": "stderr",
          "output_type": "stream",
          "text": [
            "66it [00:06, 10.46it/s]"
          ]
        },
        {
          "name": "stdout",
          "output_type": "stream",
          "text": [
            "Average Loss: 0.3454886948456988\n",
            "Accuracy: 0.8603515625\n",
            "Average Loss: 0.34723717788091074\n",
            "Accuracy: 0.8596153846153847\n",
            "Average Loss: 0.3450369716367938\n",
            "Accuracy: 0.8598484848484849\n"
          ]
        },
        {
          "name": "stderr",
          "output_type": "stream",
          "text": [
            "\r68it [00:06, 10.64it/s]"
          ]
        },
        {
          "name": "stdout",
          "output_type": "stream",
          "text": [
            "Average Loss: 0.3447260508563981\n",
            "Accuracy: 0.8582089552238806\n",
            "Average Loss: 0.34526536383611317\n",
            "Accuracy: 0.8566176470588235\n",
            "Average Loss: 0.34427009533712827\n",
            "Accuracy: 0.8577898550724637\n"
          ]
        },
        {
          "name": "stderr",
          "output_type": "stream",
          "text": [
            "72it [00:06, 10.60it/s]"
          ]
        },
        {
          "name": "stdout",
          "output_type": "stream",
          "text": [
            "tensor(0.2787, device='cuda:0', grad_fn=<BinaryCrossEntropyBackward0>)\n",
            "Average Loss: 0.3433340097112315\n",
            "Accuracy: 0.8580357142857142\n",
            "Average Loss: 0.3437007307796411\n",
            "Accuracy: 0.8573943661971831\n",
            "Average Loss: 0.3414774840283725\n",
            "Accuracy: 0.8585069444444444\n"
          ]
        },
        {
          "name": "stderr",
          "output_type": "stream",
          "text": [
            "\r74it [00:07, 10.55it/s]"
          ]
        },
        {
          "name": "stdout",
          "output_type": "stream",
          "text": [
            "Average Loss: 0.33911859631946645\n",
            "Accuracy: 0.8595890410958904\n",
            "Average Loss: 0.3382099549713972\n",
            "Accuracy: 0.8589527027027027\n",
            "Average Loss: 0.3415107398231824\n",
            "Accuracy: 0.8575\n"
          ]
        },
        {
          "name": "stderr",
          "output_type": "stream",
          "text": [
            "78it [00:07, 10.49it/s]"
          ]
        },
        {
          "name": "stdout",
          "output_type": "stream",
          "text": [
            "Average Loss: 0.3396715977670331\n",
            "Accuracy: 0.8585526315789473\n",
            "Average Loss: 0.3410531221465631\n",
            "Accuracy: 0.8587662337662337\n",
            "Average Loss: 0.34169453544876516\n",
            "Accuracy: 0.8581730769230769\n"
          ]
        },
        {
          "name": "stderr",
          "output_type": "stream",
          "text": [
            "\r80it [00:07, 10.34it/s]"
          ]
        },
        {
          "name": "stdout",
          "output_type": "stream",
          "text": [
            "Average Loss: 0.34204924417824684\n",
            "Accuracy: 0.8575949367088608\n",
            "tensor(0.2402, device='cuda:0', grad_fn=<BinaryCrossEntropyBackward0>)\n",
            "Average Loss: 0.3407764949835837\n",
            "Accuracy: 0.85703125\n",
            "Average Loss: 0.3401401043858057\n",
            "Accuracy: 0.8564814814814815\n"
          ]
        },
        {
          "name": "stderr",
          "output_type": "stream",
          "text": [
            "84it [00:07, 10.49it/s]"
          ]
        },
        {
          "name": "stdout",
          "output_type": "stream",
          "text": [
            "Average Loss: 0.3401404402059753\n",
            "Accuracy: 0.8559451219512195\n",
            "Average Loss: 0.3387568356940545\n",
            "Accuracy: 0.8569277108433735\n",
            "Average Loss: 0.33663898662087466\n",
            "Accuracy: 0.8578869047619048\n"
          ]
        },
        {
          "name": "stderr",
          "output_type": "stream",
          "text": [
            "\r86it [00:08, 10.57it/s]"
          ]
        },
        {
          "name": "stdout",
          "output_type": "stream",
          "text": [
            "Average Loss: 0.33972298073418\n",
            "Accuracy: 0.8566176470588235\n",
            "Average Loss: 0.34223012686815374\n",
            "Accuracy: 0.8546511627906976\n",
            "Average Loss: 0.34240130095303745\n",
            "Accuracy: 0.853448275862069\n"
          ]
        },
        {
          "name": "stderr",
          "output_type": "stream",
          "text": [
            "90it [00:08, 10.59it/s]"
          ]
        },
        {
          "name": "stdout",
          "output_type": "stream",
          "text": [
            "Average Loss: 0.34068023845214734\n",
            "Accuracy: 0.8551136363636364\n",
            "Average Loss: 0.34010922331153676\n",
            "Accuracy: 0.8553370786516854\n",
            "tensor(0.4128, device='cuda:0', grad_fn=<BinaryCrossEntropyBackward0>)\n",
            "Average Loss: 0.3409169385002719\n",
            "Accuracy: 0.8534722222222222\n"
          ]
        },
        {
          "name": "stderr",
          "output_type": "stream",
          "text": [
            "\r92it [00:08, 10.60it/s]"
          ]
        },
        {
          "name": "stdout",
          "output_type": "stream",
          "text": [
            "Average Loss: 0.34074583641447864\n",
            "Accuracy: 0.853021978021978\n",
            "Average Loss: 0.3397072300152934\n",
            "Accuracy: 0.8539402173913043\n",
            "Average Loss: 0.339636233465005\n",
            "Accuracy: 0.8541666666666666\n"
          ]
        },
        {
          "name": "stderr",
          "output_type": "stream",
          "text": [
            "96it [00:09, 10.55it/s]"
          ]
        },
        {
          "name": "stdout",
          "output_type": "stream",
          "text": [
            "Average Loss: 0.3408569331340333\n",
            "Accuracy: 0.8530585106382979\n",
            "Average Loss: 0.3414695086447816\n",
            "Accuracy: 0.8519736842105263\n",
            "Average Loss: 0.33983747746484977\n",
            "Accuracy: 0.8528645833333334\n"
          ]
        },
        {
          "name": "stderr",
          "output_type": "stream",
          "text": [
            "\r98it [00:09, 10.57it/s]"
          ]
        },
        {
          "name": "stdout",
          "output_type": "stream",
          "text": [
            "Average Loss: 0.3419587491560228\n",
            "Accuracy: 0.8505154639175257\n",
            "Average Loss: 0.3410674165554193\n",
            "Accuracy: 0.8507653061224489\n",
            "Average Loss: 0.3436075987087356\n",
            "Accuracy: 0.8497474747474747\n"
          ]
        },
        {
          "name": "stderr",
          "output_type": "stream",
          "text": [
            "102it [00:09, 10.51it/s]"
          ]
        },
        {
          "name": "stdout",
          "output_type": "stream",
          "text": [
            "tensor(0.3973, device='cuda:0', grad_fn=<BinaryCrossEntropyBackward0>)\n",
            "Average Loss: 0.3441445501893759\n",
            "Accuracy: 0.849375\n",
            "Average Loss: 0.34395747631788254\n",
            "Accuracy: 0.849009900990099\n",
            "Average Loss: 0.3421441806735946\n",
            "Accuracy: 0.8498774509803921\n"
          ]
        },
        {
          "name": "stderr",
          "output_type": "stream",
          "text": [
            "\r104it [00:09, 10.50it/s]"
          ]
        },
        {
          "name": "stdout",
          "output_type": "stream",
          "text": [
            "Average Loss: 0.3420428957030611\n",
            "Accuracy: 0.850121359223301\n",
            "Average Loss: 0.34316580563497084\n",
            "Accuracy: 0.8491586538461539\n",
            "Average Loss: 0.3440768235496112\n",
            "Accuracy: 0.8488095238095238\n"
          ]
        },
        {
          "name": "stderr",
          "output_type": "stream",
          "text": [
            "108it [00:10, 10.68it/s]"
          ]
        },
        {
          "name": "stdout",
          "output_type": "stream",
          "text": [
            "Average Loss: 0.3442990076288862\n",
            "Accuracy: 0.8490566037735849\n",
            "Average Loss: 0.3458303596789592\n",
            "Accuracy: 0.8481308411214953\n",
            "Average Loss: 0.3446832517920821\n",
            "Accuracy: 0.8489583333333334\n"
          ]
        },
        {
          "name": "stderr",
          "output_type": "stream",
          "text": [
            "\r110it [00:10, 10.72it/s]"
          ]
        },
        {
          "name": "stdout",
          "output_type": "stream",
          "text": [
            "Average Loss: 0.3436471342083511\n",
            "Accuracy: 0.8497706422018348\n",
            "tensor(0.1544, device='cuda:0', grad_fn=<BinaryCrossEntropyBackward0>)\n",
            "Average Loss: 0.34192670969800515\n",
            "Accuracy: 0.8505681818181818\n",
            "Average Loss: 0.34189198904477797\n",
            "Accuracy: 0.8502252252252253\n"
          ]
        },
        {
          "name": "stderr",
          "output_type": "stream",
          "text": [
            "114it [00:10, 10.82it/s]"
          ]
        },
        {
          "name": "stdout",
          "output_type": "stream",
          "text": [
            "Average Loss: 0.34101969795301557\n",
            "Accuracy: 0.8510044642857143\n",
            "Average Loss: 0.3407353109358686\n",
            "Accuracy: 0.8501106194690266\n",
            "Average Loss: 0.3399036574389851\n",
            "Accuracy: 0.8514254385964912\n"
          ]
        },
        {
          "name": "stderr",
          "output_type": "stream",
          "text": [
            "\r116it [00:10, 10.79it/s]"
          ]
        },
        {
          "name": "stdout",
          "output_type": "stream",
          "text": [
            "Average Loss: 0.3402097974782405\n",
            "Accuracy: 0.8510869565217392\n",
            "Average Loss: 0.340596974987922\n",
            "Accuracy: 0.8512931034482759\n",
            "Average Loss: 0.3414850225433325\n",
            "Accuracy: 0.8504273504273504\n"
          ]
        },
        {
          "name": "stderr",
          "output_type": "stream",
          "text": [
            "120it [00:11, 10.77it/s]"
          ]
        },
        {
          "name": "stdout",
          "output_type": "stream",
          "text": [
            "Average Loss: 0.3413914705358319\n",
            "Accuracy: 0.850635593220339\n",
            "Average Loss: 0.3456420999239473\n",
            "Accuracy: 0.8497899159663865\n",
            "tensor(0.2436, device='cuda:0', grad_fn=<BinaryCrossEntropyBackward0>)\n",
            "Average Loss: 0.34479168312003217\n",
            "Accuracy: 0.85\n"
          ]
        },
        {
          "name": "stderr",
          "output_type": "stream",
          "text": [
            "\r122it [00:11, 10.80it/s]"
          ]
        },
        {
          "name": "stdout",
          "output_type": "stream",
          "text": [
            "Average Loss: 0.343330578678403\n",
            "Accuracy: 0.8507231404958677\n",
            "Average Loss: 0.3427719628346748\n",
            "Accuracy: 0.8514344262295082\n",
            "Average Loss: 0.3416424838871491\n",
            "Accuracy: 0.8521341463414634\n"
          ]
        },
        {
          "name": "stderr",
          "output_type": "stream",
          "text": [
            "126it [00:11, 10.59it/s]"
          ]
        },
        {
          "name": "stdout",
          "output_type": "stream",
          "text": [
            "Average Loss: 0.3428183966466496\n",
            "Accuracy: 0.8513104838709677\n",
            "Average Loss: 0.34230128663778303\n",
            "Accuracy: 0.852\n",
            "Average Loss: 0.34636298525664544\n",
            "Accuracy: 0.8497023809523809\n"
          ]
        },
        {
          "name": "stderr",
          "output_type": "stream",
          "text": [
            "\r128it [00:12, 10.60it/s]"
          ]
        },
        {
          "name": "stdout",
          "output_type": "stream",
          "text": [
            "Average Loss: 0.34648949277447905\n",
            "Accuracy: 0.8494094488188977\n",
            "Average Loss: 0.3452425546129234\n",
            "Accuracy: 0.85009765625\n",
            "Average Loss: 0.34495299783094907\n",
            "Accuracy: 0.8498062015503876\n"
          ]
        },
        {
          "name": "stderr",
          "output_type": "stream",
          "text": [
            "132it [00:12, 10.62it/s]"
          ]
        },
        {
          "name": "stdout",
          "output_type": "stream",
          "text": [
            "tensor(0.4614, device='cuda:0', grad_fn=<BinaryCrossEntropyBackward0>)\n",
            "Average Loss: 0.3458487032124629\n",
            "Accuracy: 0.8490384615384615\n",
            "Average Loss: 0.34549435614857055\n",
            "Accuracy: 0.8492366412213741\n",
            "Average Loss: 0.34517218878097605\n",
            "Accuracy: 0.849905303030303\n"
          ]
        },
        {
          "name": "stderr",
          "output_type": "stream",
          "text": [
            "\r134it [00:12, 10.61it/s]"
          ]
        },
        {
          "name": "stdout",
          "output_type": "stream",
          "text": [
            "Average Loss: 0.34451071957224294\n",
            "Accuracy: 0.8500939849624061\n",
            "Average Loss: 0.34347702323723195\n",
            "Accuracy: 0.8502798507462687\n",
            "Average Loss: 0.342587652305762\n",
            "Accuracy: 0.8513888888888889\n"
          ]
        },
        {
          "name": "stderr",
          "output_type": "stream",
          "text": [
            "138it [00:13, 10.69it/s]"
          ]
        },
        {
          "name": "stdout",
          "output_type": "stream",
          "text": [
            "Average Loss: 0.3442152184708154\n",
            "Accuracy: 0.8506433823529411\n",
            "Average Loss: 0.3438660740090983\n",
            "Accuracy: 0.8508211678832117\n",
            "Average Loss: 0.3438784731147082\n",
            "Accuracy: 0.8500905797101449\n"
          ]
        },
        {
          "name": "stderr",
          "output_type": "stream",
          "text": [
            "\r140it [00:13, 10.68it/s]"
          ]
        },
        {
          "name": "stdout",
          "output_type": "stream",
          "text": [
            "Average Loss: 0.34328963521787587\n",
            "Accuracy: 0.8507194244604317\n",
            "tensor(0.3508, device='cuda:0', grad_fn=<BinaryCrossEntropyBackward0>)\n",
            "Average Loss: 0.3433431530105216\n",
            "Accuracy: 0.8508928571428571\n",
            "Average Loss: 0.3430936294772946\n",
            "Accuracy: 0.851063829787234\n"
          ]
        },
        {
          "name": "stderr",
          "output_type": "stream",
          "text": [
            "144it [00:13, 10.59it/s]"
          ]
        },
        {
          "name": "stdout",
          "output_type": "stream",
          "text": [
            "Average Loss: 0.343210135599677\n",
            "Accuracy: 0.8507922535211268\n",
            "Average Loss: 0.34247624472929883\n",
            "Accuracy: 0.8513986013986014\n",
            "Average Loss: 0.34191379277035594\n",
            "Accuracy: 0.8519965277777778\n"
          ]
        },
        {
          "name": "stderr",
          "output_type": "stream",
          "text": [
            "\r146it [00:13, 10.52it/s]"
          ]
        },
        {
          "name": "stdout",
          "output_type": "stream",
          "text": [
            "Average Loss: 0.34256258211259183\n",
            "Accuracy: 0.8517241379310345\n",
            "Average Loss: 0.34337021180824057\n",
            "Accuracy: 0.851027397260274\n",
            "Average Loss: 0.34284148324711794\n",
            "Accuracy: 0.8507653061224489\n"
          ]
        },
        {
          "name": "stderr",
          "output_type": "stream",
          "text": [
            "150it [00:14, 10.41it/s]"
          ]
        },
        {
          "name": "stdout",
          "output_type": "stream",
          "text": [
            "Average Loss: 0.34309465956647656\n",
            "Accuracy: 0.8505067567567568\n",
            "Average Loss: 0.3428421720062326\n",
            "Accuracy: 0.850251677852349\n",
            "tensor(0.2884, device='cuda:0', grad_fn=<BinaryCrossEntropyBackward0>)\n",
            "Average Loss: 0.3424794315795104\n",
            "Accuracy: 0.85\n"
          ]
        },
        {
          "name": "stderr",
          "output_type": "stream",
          "text": [
            "\r152it [00:14, 10.34it/s]"
          ]
        },
        {
          "name": "stdout",
          "output_type": "stream",
          "text": [
            "Average Loss: 0.34355938113880474\n",
            "Accuracy: 0.8485099337748344\n",
            "Average Loss: 0.3434462413485897\n",
            "Accuracy: 0.8482730263157895\n",
            "Average Loss: 0.34496450341410106\n",
            "Accuracy: 0.8476307189542484\n"
          ]
        },
        {
          "name": "stderr",
          "output_type": "stream",
          "text": [
            "156it [00:14, 10.20it/s]"
          ]
        },
        {
          "name": "stdout",
          "output_type": "stream",
          "text": [
            "Average Loss: 0.34594303887192307\n",
            "Accuracy: 0.8469967532467533\n",
            "Average Loss: 0.3459801340776105\n",
            "Accuracy: 0.8475806451612903\n",
            "Average Loss: 0.34852123313034195\n",
            "Accuracy: 0.8465544871794872\n"
          ]
        },
        {
          "name": "stderr",
          "output_type": "stream",
          "text": [
            "\r158it [00:14, 10.18it/s]"
          ]
        },
        {
          "name": "stdout",
          "output_type": "stream",
          "text": [
            "Average Loss: 0.3475862213285865\n",
            "Accuracy: 0.8471337579617835\n",
            "Average Loss: 0.35138262860194036\n",
            "Accuracy: 0.8453322784810127\n",
            "Average Loss: 0.35272273960166006\n",
            "Accuracy: 0.8439465408805031\n"
          ]
        },
        {
          "name": "stderr",
          "output_type": "stream",
          "text": [
            "162it [00:15, 10.11it/s]"
          ]
        },
        {
          "name": "stdout",
          "output_type": "stream",
          "text": [
            "tensor(0.2874, device='cuda:0', grad_fn=<BinaryCrossEntropyBackward0>)\n",
            "Average Loss: 0.352314350893721\n",
            "Accuracy: 0.844140625\n",
            "Average Loss: 0.35465030543367315\n",
            "Accuracy: 0.843167701863354\n",
            "Average Loss: 0.3561966777491717\n",
            "Accuracy: 0.8425925925925926\n"
          ]
        },
        {
          "name": "stderr",
          "output_type": "stream",
          "text": [
            "\r164it [00:15, 10.05it/s]"
          ]
        },
        {
          "name": "stdout",
          "output_type": "stream",
          "text": [
            "Average Loss: 0.35590708909407714\n",
            "Accuracy: 0.8431748466257669\n",
            "Average Loss: 0.35564189163468235\n",
            "Accuracy: 0.8433689024390244\n"
          ]
        },
        {
          "name": "stderr",
          "output_type": "stream",
          "text": [
            "\r166it [00:15, 10.00it/s]"
          ]
        },
        {
          "name": "stdout",
          "output_type": "stream",
          "text": [
            "Average Loss: 0.35598514581268487\n",
            "Accuracy: 0.843560606060606\n",
            "Average Loss: 0.35706425570400363\n",
            "Accuracy: 0.84375\n",
            "Average Loss: 0.3577913725358283\n",
            "Accuracy: 0.843562874251497\n"
          ]
        },
        {
          "name": "stderr",
          "output_type": "stream",
          "text": [
            "\r168it [00:15, 10.06it/s]"
          ]
        },
        {
          "name": "stdout",
          "output_type": "stream",
          "text": [
            "Average Loss: 0.3577485658849279\n",
            "Accuracy: 0.8433779761904762\n",
            "Average Loss: 0.3584073605181197\n",
            "Accuracy: 0.8431952662721893\n"
          ]
        },
        {
          "name": "stderr",
          "output_type": "stream",
          "text": [
            "172it [00:16, 10.18it/s]"
          ]
        },
        {
          "name": "stdout",
          "output_type": "stream",
          "text": [
            "tensor(0.6304, device='cuda:0', grad_fn=<BinaryCrossEntropyBackward0>)\n",
            "Average Loss: 0.3600076001794899\n",
            "Accuracy: 0.8433823529411765\n",
            "Average Loss: 0.3592011229249469\n",
            "Accuracy: 0.8439327485380117\n",
            "Average Loss: 0.3585590258847142\n",
            "Accuracy: 0.8444767441860465\n"
          ]
        },
        {
          "name": "stderr",
          "output_type": "stream",
          "text": [
            "\r174it [00:16, 10.18it/s]"
          ]
        },
        {
          "name": "stdout",
          "output_type": "stream",
          "text": [
            "Average Loss: 0.3588494451318173\n",
            "Accuracy: 0.8442919075144508\n",
            "Average Loss: 0.35813381527175847\n",
            "Accuracy: 0.8448275862068966\n",
            "Average Loss: 0.3582200419477054\n",
            "Accuracy: 0.845\n"
          ]
        },
        {
          "name": "stderr",
          "output_type": "stream",
          "text": [
            "178it [00:16, 10.32it/s]"
          ]
        },
        {
          "name": "stdout",
          "output_type": "stream",
          "text": [
            "Average Loss: 0.3576913646591658\n",
            "Accuracy: 0.8451704545454546\n",
            "Average Loss: 0.3577422103555189\n",
            "Accuracy: 0.8449858757062146\n",
            "Average Loss: 0.35736318497677866\n",
            "Accuracy: 0.8455056179775281\n"
          ]
        },
        {
          "name": "stderr",
          "output_type": "stream",
          "text": [
            "\r180it [00:17, 10.17it/s]"
          ]
        },
        {
          "name": "stdout",
          "output_type": "stream",
          "text": [
            "Average Loss: 0.3565234362496344\n",
            "Accuracy: 0.8460195530726257\n",
            "tensor(0.1552, device='cuda:0', grad_fn=<BinaryCrossEntropyBackward0>)\n",
            "Average Loss: 0.35540505941543316\n",
            "Accuracy: 0.846875\n",
            "Average Loss: 0.355263558828699\n",
            "Accuracy: 0.8470303867403315\n"
          ]
        },
        {
          "name": "stderr",
          "output_type": "stream",
          "text": [
            "184it [00:17, 10.13it/s]"
          ]
        },
        {
          "name": "stdout",
          "output_type": "stream",
          "text": [
            "Average Loss: 0.35530698246189524\n",
            "Accuracy: 0.8468406593406593\n",
            "Average Loss: 0.35530159036155606\n",
            "Accuracy: 0.8469945355191257\n",
            "Average Loss: 0.3552074352603244\n",
            "Accuracy: 0.8468070652173914\n"
          ]
        },
        {
          "name": "stderr",
          "output_type": "stream",
          "text": [
            "\r186it [00:17, 10.19it/s]"
          ]
        },
        {
          "name": "stdout",
          "output_type": "stream",
          "text": [
            "Average Loss: 0.3568723444600363\n",
            "Accuracy: 0.8462837837837838\n",
            "Average Loss: 0.35774311403273257\n",
            "Accuracy: 0.8454301075268817\n",
            "Average Loss: 0.35828780645833297\n",
            "Accuracy: 0.8445855614973262\n"
          ]
        },
        {
          "name": "stderr",
          "output_type": "stream",
          "text": [
            "\r188it [00:17, 10.17it/s]"
          ]
        },
        {
          "name": "stdout",
          "output_type": "stream",
          "text": [
            "Average Loss: 0.3576612310444421\n",
            "Accuracy: 0.8450797872340425\n",
            "Average Loss: 0.35837227953647177\n",
            "Accuracy: 0.8452380952380952\n"
          ]
        },
        {
          "name": "stderr",
          "output_type": "stream",
          "text": [
            "191it [00:18,  9.95it/s]"
          ]
        },
        {
          "name": "stdout",
          "output_type": "stream",
          "text": [
            "tensor(0.6357, device='cuda:0', grad_fn=<BinaryCrossEntropyBackward0>)\n",
            "Average Loss: 0.35983182752602977\n",
            "Accuracy: 0.84375\n",
            "Average Loss: 0.3602998672901648\n",
            "Accuracy: 0.8432591623036649\n"
          ]
        },
        {
          "name": "stderr",
          "output_type": "stream",
          "text": [
            "193it [00:18,  9.90it/s]"
          ]
        },
        {
          "name": "stdout",
          "output_type": "stream",
          "text": [
            "Average Loss: 0.35956933655931306\n",
            "Accuracy: 0.8440755208333334\n",
            "Average Loss: 0.360963676838986\n",
            "Accuracy: 0.8432642487046632\n"
          ]
        },
        {
          "name": "stderr",
          "output_type": "stream",
          "text": [
            "195it [00:18,  9.90it/s]"
          ]
        },
        {
          "name": "stdout",
          "output_type": "stream",
          "text": [
            "Average Loss: 0.3603070767346731\n",
            "Accuracy: 0.84375\n",
            "Average Loss: 0.35943909016175146\n",
            "Accuracy: 0.8442307692307692\n"
          ]
        },
        {
          "name": "stderr",
          "output_type": "stream",
          "text": [
            "198it [00:18, 10.05it/s]"
          ]
        },
        {
          "name": "stdout",
          "output_type": "stream",
          "text": [
            "Average Loss: 0.35954506607840253\n",
            "Accuracy: 0.84375\n",
            "Average Loss: 0.3595618385121907\n",
            "Accuracy: 0.8439086294416244\n",
            "Average Loss: 0.36253348418106934\n",
            "Accuracy: 0.8431186868686869\n"
          ]
        },
        {
          "name": "stderr",
          "output_type": "stream",
          "text": [
            "\r200it [00:19, 10.09it/s]"
          ]
        },
        {
          "name": "stdout",
          "output_type": "stream",
          "text": [
            "Average Loss: 0.36335369184538346\n",
            "Accuracy: 0.8426507537688442\n",
            "tensor(0.3294, device='cuda:0', grad_fn=<BinaryCrossEntropyBackward0>)\n",
            "Average Loss: 0.36318407107144596\n",
            "Accuracy: 0.8425\n",
            "Average Loss: 0.3641909401289266\n"
          ]
        },
        {
          "name": "stderr",
          "output_type": "stream",
          "text": [
            "\r202it [00:19, 10.08it/s]"
          ]
        },
        {
          "name": "stdout",
          "output_type": "stream",
          "text": [
            "Accuracy: 0.8423507462686567\n",
            "Average Loss: 0.36346154730066216\n",
            "Accuracy: 0.8425123762376238\n",
            "Average Loss: 0.36389281982418353\n",
            "Accuracy: 0.8420566502463054\n"
          ]
        },
        {
          "name": "stderr",
          "output_type": "stream",
          "text": [
            "206it [00:19, 10.31it/s]"
          ]
        },
        {
          "name": "stdout",
          "output_type": "stream",
          "text": [
            "Average Loss: 0.3635741761867322\n",
            "Accuracy: 0.8419117647058824\n",
            "Average Loss: 0.3633624686337099\n",
            "Accuracy: 0.8417682926829269\n",
            "Average Loss: 0.3634606809943046\n",
            "Accuracy: 0.8413228155339806\n"
          ]
        },
        {
          "name": "stderr",
          "output_type": "stream",
          "text": [
            "\r208it [00:19, 10.33it/s]"
          ]
        },
        {
          "name": "stdout",
          "output_type": "stream",
          "text": [
            "Average Loss: 0.3633714695843521\n",
            "Accuracy: 0.8408816425120773\n",
            "Average Loss: 0.3629207774781837\n",
            "Accuracy: 0.8416466346153846\n",
            "Average Loss: 0.36242937503391476\n",
            "Accuracy: 0.8421052631578947\n"
          ]
        },
        {
          "name": "stderr",
          "output_type": "stream",
          "text": [
            "212it [00:20, 10.38it/s]"
          ]
        },
        {
          "name": "stdout",
          "output_type": "stream",
          "text": [
            "tensor(0.1713, device='cuda:0', grad_fn=<BinaryCrossEntropyBackward0>)\n",
            "Average Loss: 0.36151901217443605\n",
            "Accuracy: 0.8425595238095238\n",
            "Average Loss: 0.3622141795771382\n",
            "Accuracy: 0.8415284360189573\n",
            "Average Loss: 0.3620480759034179\n",
            "Accuracy: 0.8416863207547169\n"
          ]
        },
        {
          "name": "stderr",
          "output_type": "stream",
          "text": [
            "\r214it [00:20, 10.31it/s]"
          ]
        },
        {
          "name": "stdout",
          "output_type": "stream",
          "text": [
            "Average Loss: 0.3621252150113034\n",
            "Accuracy: 0.8418427230046949\n",
            "Average Loss: 0.3617556712407375\n",
            "Accuracy: 0.8419976635514018\n",
            "Average Loss: 0.3621051566891892\n",
            "Accuracy: 0.8415697674418605\n"
          ]
        },
        {
          "name": "stderr",
          "output_type": "stream",
          "text": [
            "218it [00:20, 10.30it/s]"
          ]
        },
        {
          "name": "stdout",
          "output_type": "stream",
          "text": [
            "Average Loss: 0.36194395553320646\n",
            "Accuracy: 0.8417245370370371\n",
            "Average Loss: 0.36195698315234776\n",
            "Accuracy: 0.841589861751152\n",
            "Average Loss: 0.3619656643804607\n",
            "Accuracy: 0.8414564220183486\n"
          ]
        },
        {
          "name": "stderr",
          "output_type": "stream",
          "text": [
            "\r220it [00:21, 10.21it/s]"
          ]
        },
        {
          "name": "stdout",
          "output_type": "stream",
          "text": [
            "Average Loss: 0.3623016090493768\n",
            "Accuracy: 0.841324200913242\n",
            "tensor(0.2215, device='cuda:0', grad_fn=<BinaryCrossEntropyBackward0>)\n",
            "Average Loss: 0.3616617178036408\n",
            "Accuracy: 0.8417613636363637\n",
            "Average Loss: 0.36093506793495755\n",
            "Accuracy: 0.8421945701357466\n"
          ]
        },
        {
          "name": "stderr",
          "output_type": "stream",
          "text": [
            "224it [00:21, 10.18it/s]"
          ]
        },
        {
          "name": "stdout",
          "output_type": "stream",
          "text": [
            "Average Loss: 0.3610817360112796\n",
            "Accuracy: 0.8420608108108109\n",
            "Average Loss: 0.36166759399956117\n",
            "Accuracy: 0.8416479820627802\n",
            "Average Loss: 0.3615097028003739\n",
            "Accuracy: 0.841796875\n"
          ]
        },
        {
          "name": "stderr",
          "output_type": "stream",
          "text": [
            "\r226it [00:21, 10.18it/s]"
          ]
        },
        {
          "name": "stdout",
          "output_type": "stream",
          "text": [
            "Average Loss: 0.36472257213460074\n",
            "Accuracy: 0.8405555555555555\n",
            "Average Loss: 0.36452997901139006\n",
            "Accuracy: 0.8404314159292036\n",
            "Average Loss: 0.364237103529176\n",
            "Accuracy: 0.8405837004405287\n"
          ]
        },
        {
          "name": "stderr",
          "output_type": "stream",
          "text": [
            "230it [00:22, 10.27it/s]"
          ]
        },
        {
          "name": "stdout",
          "output_type": "stream",
          "text": [
            "Average Loss: 0.36471887230219546\n",
            "Accuracy: 0.8399122807017544\n",
            "Average Loss: 0.3653407311270331\n",
            "Accuracy: 0.8392467248908297\n",
            "tensor(0.3172, device='cuda:0', grad_fn=<BinaryCrossEntropyBackward0>)\n",
            "Average Loss: 0.36513154322038527\n",
            "Accuracy: 0.8388586956521739\n"
          ]
        },
        {
          "name": "stderr",
          "output_type": "stream",
          "text": [
            "\r232it [00:22, 10.25it/s]"
          ]
        },
        {
          "name": "stdout",
          "output_type": "stream",
          "text": [
            "Average Loss: 0.3644803363458935\n",
            "Accuracy: 0.8390151515151515\n",
            "Average Loss: 0.36501999080566494\n",
            "Accuracy: 0.8386314655172413\n",
            "Average Loss: 0.36550302026481585\n",
            "Accuracy: 0.8382510729613734\n"
          ]
        },
        {
          "name": "stderr",
          "output_type": "stream",
          "text": [
            "236it [00:22, 10.25it/s]"
          ]
        },
        {
          "name": "stdout",
          "output_type": "stream",
          "text": [
            "Average Loss: 0.36550927273610717\n",
            "Accuracy: 0.8381410256410257\n",
            "Average Loss: 0.3663600486326725\n",
            "Accuracy: 0.8377659574468085\n",
            "Average Loss: 0.36588205532881163\n",
            "Accuracy: 0.8379237288135594\n"
          ]
        },
        {
          "name": "stderr",
          "output_type": "stream",
          "text": [
            "\r238it [00:22, 10.25it/s]"
          ]
        },
        {
          "name": "stdout",
          "output_type": "stream",
          "text": [
            "Average Loss: 0.3655905347270302\n",
            "Accuracy: 0.8383438818565401\n",
            "Average Loss: 0.3649239378253452\n",
            "Accuracy: 0.8390231092436975\n",
            "Average Loss: 0.36411823877854327\n",
            "Accuracy: 0.8396966527196653\n"
          ]
        },
        {
          "name": "stderr",
          "output_type": "stream",
          "text": [
            "242it [00:23, 10.12it/s]"
          ]
        },
        {
          "name": "stdout",
          "output_type": "stream",
          "text": [
            "tensor(0.2004, device='cuda:0', grad_fn=<BinaryCrossEntropyBackward0>)\n",
            "Average Loss: 0.36343600635106366\n",
            "Accuracy: 0.8401041666666667\n",
            "Average Loss: 0.3639659533794985\n",
            "Accuracy: 0.8399896265560166\n",
            "Average Loss: 0.3635542697835067\n",
            "Accuracy: 0.8403925619834711\n"
          ]
        },
        {
          "name": "stderr",
          "output_type": "stream",
          "text": [
            "\r244it [00:23, 10.02it/s]"
          ]
        },
        {
          "name": "stdout",
          "output_type": "stream",
          "text": [
            "Average Loss: 0.3646238978200979\n",
            "Accuracy: 0.8392489711934157\n",
            "Average Loss: 0.365551141167029\n",
            "Accuracy: 0.8388831967213115\n",
            "Average Loss: 0.36591882289064176\n",
            "Accuracy: 0.8385204081632653\n"
          ]
        },
        {
          "name": "stderr",
          "output_type": "stream",
          "text": [
            "248it [00:23, 10.07it/s]"
          ]
        },
        {
          "name": "stdout",
          "output_type": "stream",
          "text": [
            "Average Loss: 0.3667076406621836\n",
            "Accuracy: 0.838160569105691\n",
            "Average Loss: 0.36655841300241376\n",
            "Accuracy: 0.8383097165991903\n",
            "Average Loss: 0.36719792381289507\n",
            "Accuracy: 0.8377016129032258\n"
          ]
        },
        {
          "name": "stderr",
          "output_type": "stream",
          "text": [
            "\r250it [00:24, 10.15it/s]"
          ]
        },
        {
          "name": "stdout",
          "output_type": "stream",
          "text": [
            "Average Loss: 0.3664579024934864\n",
            "Accuracy: 0.8381024096385542\n",
            "tensor(0.5946, device='cuda:0', grad_fn=<BinaryCrossEntropyBackward0>)\n",
            "Average Loss: 0.3673703055083752\n",
            "Accuracy: 0.8375\n",
            "Average Loss: 0.3665696626224841\n",
            "Accuracy: 0.8381474103585658\n"
          ]
        },
        {
          "name": "stderr",
          "output_type": "stream",
          "text": [
            "254it [00:24, 10.30it/s]"
          ]
        },
        {
          "name": "stdout",
          "output_type": "stream",
          "text": [
            "Average Loss: 0.3665867444600851\n",
            "Accuracy: 0.8380456349206349\n",
            "Average Loss: 0.3668839962409419\n",
            "Accuracy: 0.8379446640316206\n",
            "Average Loss: 0.3671096000439069\n",
            "Accuracy: 0.8380905511811023\n"
          ]
        },
        {
          "name": "stderr",
          "output_type": "stream",
          "text": [
            "\r256it [00:24, 10.29it/s]"
          ]
        },
        {
          "name": "stdout",
          "output_type": "stream",
          "text": [
            "Average Loss: 0.3676041138230586\n",
            "Accuracy: 0.8375\n",
            "Average Loss: 0.3670809376926627\n",
            "Accuracy: 0.837890625\n"
          ]
        },
        {
          "name": "stderr",
          "output_type": "stream",
          "text": [
            "\r258it [00:24, 10.07it/s]"
          ]
        },
        {
          "name": "stdout",
          "output_type": "stream",
          "text": [
            "Average Loss: 0.36710630766032737\n",
            "Accuracy: 0.8377918287937743\n",
            "Average Loss: 0.3668824871785419\n",
            "Accuracy: 0.8379360465116279\n",
            "Average Loss: 0.36692259909448477\n",
            "Accuracy: 0.8378378378378378\n"
          ]
        },
        {
          "name": "stderr",
          "output_type": "stream",
          "text": [
            "262it [00:25, 10.31it/s]"
          ]
        },
        {
          "name": "stdout",
          "output_type": "stream",
          "text": [
            "tensor(0.1875, device='cuda:0', grad_fn=<BinaryCrossEntropyBackward0>)\n",
            "Average Loss: 0.36623242746752044\n",
            "Accuracy: 0.8384615384615385\n",
            "Average Loss: 0.3662257073197328\n",
            "Accuracy: 0.8383620689655172\n",
            "Average Loss: 0.3667116810972909\n",
            "Accuracy: 0.8380248091603053\n"
          ]
        },
        {
          "name": "stderr",
          "output_type": "stream",
          "text": [
            "\r264it [00:25, 10.29it/s]"
          ]
        },
        {
          "name": "stdout",
          "output_type": "stream",
          "text": [
            "Average Loss: 0.3671808777369927\n",
            "Accuracy: 0.8376901140684411\n",
            "Average Loss: 0.3671380240526615\n",
            "Accuracy: 0.8380681818181818\n",
            "Average Loss: 0.36689083730837085\n",
            "Accuracy: 0.8382075471698113\n"
          ]
        },
        {
          "name": "stderr",
          "output_type": "stream",
          "text": [
            "268it [00:25, 10.33it/s]"
          ]
        },
        {
          "name": "stdout",
          "output_type": "stream",
          "text": [
            "Average Loss: 0.3665539289271473\n",
            "Accuracy: 0.8385808270676691\n",
            "Average Loss: 0.3663478822688038\n",
            "Accuracy: 0.8389513108614233\n",
            "Average Loss: 0.3674316384843481\n",
            "Accuracy: 0.8388526119402985\n"
          ]
        },
        {
          "name": "stderr",
          "output_type": "stream",
          "text": [
            "\r270it [00:25, 10.37it/s]"
          ]
        },
        {
          "name": "stdout",
          "output_type": "stream",
          "text": [
            "Average Loss: 0.36817361018360767\n",
            "Accuracy: 0.8385223048327137\n",
            "tensor(0.4272, device='cuda:0', grad_fn=<BinaryCrossEntropyBackward0>)\n",
            "Average Loss: 0.36839212695205653\n",
            "Accuracy: 0.8379629629629629\n",
            "Average Loss: 0.3676271737446644\n",
            "Accuracy: 0.8385608856088561\n"
          ]
        },
        {
          "name": "stderr",
          "output_type": "stream",
          "text": [
            "274it [00:26, 10.43it/s]"
          ]
        },
        {
          "name": "stdout",
          "output_type": "stream",
          "text": [
            "Average Loss: 0.36702996840262236\n",
            "Accuracy: 0.8389246323529411\n",
            "Average Loss: 0.3668553846386763\n",
            "Accuracy: 0.8388278388278388\n",
            "Average Loss: 0.36817135990862426\n",
            "Accuracy: 0.8382755474452555\n"
          ]
        },
        {
          "name": "stderr",
          "output_type": "stream",
          "text": [
            "\r276it [00:26, 10.50it/s]"
          ]
        },
        {
          "name": "stdout",
          "output_type": "stream",
          "text": [
            "Average Loss: 0.3674844052303921\n",
            "Accuracy: 0.8388636363636364\n",
            "Average Loss: 0.36710197659398336\n",
            "Accuracy: 0.8387681159420289\n",
            "Average Loss: 0.36691382040508386\n",
            "Accuracy: 0.8388989169675091\n"
          ]
        },
        {
          "name": "stderr",
          "output_type": "stream",
          "text": [
            "280it [00:26, 10.68it/s]"
          ]
        },
        {
          "name": "stdout",
          "output_type": "stream",
          "text": [
            "Average Loss: 0.3668783819235915\n",
            "Accuracy: 0.8388039568345323\n",
            "Average Loss: 0.36633601253284775\n",
            "Accuracy: 0.83915770609319\n",
            "tensor(0.1950, device='cuda:0', grad_fn=<BinaryCrossEntropyBackward0>)\n",
            "Average Loss: 0.3657241550141147\n",
            "Accuracy: 0.8397321428571428\n"
          ]
        },
        {
          "name": "stderr",
          "output_type": "stream",
          "text": [
            "\r282it [00:27, 10.60it/s]"
          ]
        },
        {
          "name": "stdout",
          "output_type": "stream",
          "text": [
            "Average Loss: 0.36533583814669335\n",
            "Accuracy: 0.8398576512455516\n",
            "Average Loss: 0.36483429237566095\n",
            "Accuracy: 0.8402039007092199\n",
            "Average Loss: 0.3642604862053487\n",
            "Accuracy: 0.840547703180212\n"
          ]
        },
        {
          "name": "stderr",
          "output_type": "stream",
          "text": [
            "286it [00:27, 10.56it/s]"
          ]
        },
        {
          "name": "stdout",
          "output_type": "stream",
          "text": [
            "Average Loss: 0.3642296481772628\n",
            "Accuracy: 0.840669014084507\n",
            "Average Loss: 0.36368572411307115\n",
            "Accuracy: 0.8410087719298246\n",
            "Average Loss: 0.36338019248593106\n",
            "Accuracy: 0.8411276223776224\n"
          ]
        },
        {
          "name": "stderr",
          "output_type": "stream",
          "text": [
            "\r288it [00:27, 10.50it/s]"
          ]
        },
        {
          "name": "stdout",
          "output_type": "stream",
          "text": [
            "Average Loss: 0.3636289345107012\n",
            "Accuracy: 0.8414634146341463\n",
            "Average Loss: 0.3633222160084794\n",
            "Accuracy: 0.841796875\n",
            "Average Loss: 0.36277952313320033\n",
            "Accuracy: 0.842128027681661\n"
          ]
        },
        {
          "name": "stderr",
          "output_type": "stream",
          "text": [
            "292it [00:28, 10.52it/s]"
          ]
        },
        {
          "name": "stdout",
          "output_type": "stream",
          "text": [
            "tensor(0.6009, device='cuda:0', grad_fn=<BinaryCrossEntropyBackward0>)\n",
            "Average Loss: 0.3636006366333057\n",
            "Accuracy: 0.8422413793103448\n",
            "Average Loss: 0.3640818467613348\n",
            "Accuracy: 0.8414948453608248\n",
            "Average Loss: 0.3646960475622383\n",
            "Accuracy: 0.8413955479452054\n"
          ]
        },
        {
          "name": "stderr",
          "output_type": "stream",
          "text": [
            "\r294it [00:28, 10.54it/s]"
          ]
        },
        {
          "name": "stdout",
          "output_type": "stream",
          "text": [
            "Average Loss: 0.36452329318983157\n",
            "Accuracy: 0.841296928327645\n",
            "Average Loss: 0.36417010059060695\n",
            "Accuracy: 0.841624149659864\n",
            "Average Loss: 0.3635686864034604\n",
            "Accuracy: 0.8421610169491526\n"
          ]
        },
        {
          "name": "stderr",
          "output_type": "stream",
          "text": [
            "298it [00:28, 10.41it/s]"
          ]
        },
        {
          "name": "stdout",
          "output_type": "stream",
          "text": [
            "Average Loss: 0.3642478917247137\n",
            "Accuracy: 0.8418496621621622\n",
            "Average Loss: 0.36398130913675836\n",
            "Accuracy: 0.8417508417508418\n",
            "Average Loss: 0.36414168522561957\n",
            "Accuracy: 0.8418624161073825\n"
          ]
        },
        {
          "name": "stderr",
          "output_type": "stream",
          "text": [
            "\r300it [00:28, 10.30it/s]"
          ]
        },
        {
          "name": "stdout",
          "output_type": "stream",
          "text": [
            "Average Loss: 0.363954131793617\n",
            "Accuracy: 0.8417642140468228\n",
            "tensor(0.3741, device='cuda:0', grad_fn=<BinaryCrossEntropyBackward0>)\n",
            "Average Loss: 0.3639880684763193\n",
            "Accuracy: 0.841875\n",
            "Average Loss: 0.36386571728014866\n",
            "Accuracy: 0.841985049833887\n"
          ]
        },
        {
          "name": "stderr",
          "output_type": "stream",
          "text": [
            "304it [00:29, 10.24it/s]"
          ]
        },
        {
          "name": "stdout",
          "output_type": "stream",
          "text": [
            "Average Loss: 0.3642416002093167\n",
            "Accuracy: 0.8418874172185431\n",
            "Average Loss: 0.36447379000411173\n",
            "Accuracy: 0.841996699669967\n",
            "Average Loss: 0.3648843065051264\n",
            "Accuracy: 0.8416940789473685\n"
          ]
        },
        {
          "name": "stderr",
          "output_type": "stream",
          "text": [
            "\r306it [00:29, 10.20it/s]"
          ]
        },
        {
          "name": "stdout",
          "output_type": "stream",
          "text": [
            "Average Loss: 0.3652187105817873\n",
            "Accuracy: 0.8413934426229508\n",
            "Average Loss: 0.36601997753666116\n",
            "Accuracy: 0.8410947712418301\n",
            "Average Loss: 0.3657557834971223\n",
            "Accuracy: 0.8410016286644951\n"
          ]
        },
        {
          "name": "stderr",
          "output_type": "stream",
          "text": [
            "310it [00:29, 10.30it/s]"
          ]
        },
        {
          "name": "stdout",
          "output_type": "stream",
          "text": [
            "Average Loss: 0.36507418952495246\n",
            "Accuracy: 0.8415178571428571\n",
            "Average Loss: 0.3643725460160126\n",
            "Accuracy: 0.8420307443365695\n",
            "tensor(0.6066, device='cuda:0', grad_fn=<BinaryCrossEntropyBackward0>)\n",
            "Average Loss: 0.3651539777315432\n",
            "Accuracy: 0.8413306451612903\n"
          ]
        },
        {
          "name": "stderr",
          "output_type": "stream",
          "text": [
            "\r312it [00:30, 10.43it/s]"
          ]
        },
        {
          "name": "stdout",
          "output_type": "stream",
          "text": [
            "Average Loss: 0.36493004094270265\n",
            "Accuracy: 0.8414389067524116\n",
            "Average Loss: 0.36527365329078376\n",
            "Accuracy: 0.8413461538461539\n",
            "Average Loss: 0.3645504735672055\n",
            "Accuracy: 0.84185303514377\n"
          ]
        },
        {
          "name": "stderr",
          "output_type": "stream",
          "text": [
            "316it [00:30, 10.38it/s]"
          ]
        },
        {
          "name": "stdout",
          "output_type": "stream",
          "text": [
            "Average Loss: 0.36435117593901173\n",
            "Accuracy: 0.8419585987261147\n",
            "Average Loss: 0.3651369104073161\n",
            "Accuracy: 0.8416666666666667\n",
            "Average Loss: 0.36474284404723706\n",
            "Accuracy: 0.8419699367088608\n"
          ]
        },
        {
          "name": "stderr",
          "output_type": "stream",
          "text": [
            "\r318it [00:30, 10.27it/s]"
          ]
        },
        {
          "name": "stdout",
          "output_type": "stream",
          "text": [
            "Average Loss: 0.3655890559877507\n",
            "Accuracy: 0.8414826498422713\n",
            "Average Loss: 0.36714919040319305\n",
            "Accuracy: 0.8408018867924528\n",
            "Average Loss: 0.36724787060650166\n",
            "Accuracy: 0.8409090909090909\n"
          ]
        },
        {
          "name": "stderr",
          "output_type": "stream",
          "text": [
            "322it [00:30, 10.22it/s]"
          ]
        },
        {
          "name": "stdout",
          "output_type": "stream",
          "text": [
            "tensor(0.3010, device='cuda:0', grad_fn=<BinaryCrossEntropyBackward0>)\n",
            "Average Loss: 0.3670408111764118\n",
            "Accuracy: 0.8412109375\n",
            "Average Loss: 0.36695114732067163\n",
            "Accuracy: 0.841316199376947\n",
            "Average Loss: 0.36670123973155616\n",
            "Accuracy: 0.8414208074534162\n"
          ]
        },
        {
          "name": "stderr",
          "output_type": "stream",
          "text": [
            "\r324it [00:31, 10.13it/s]"
          ]
        },
        {
          "name": "stdout",
          "output_type": "stream",
          "text": [
            "Average Loss: 0.36802687620507674\n",
            "Accuracy: 0.840750773993808\n",
            "Average Loss: 0.3679921444689418\n",
            "Accuracy: 0.8404706790123457\n",
            "Average Loss: 0.36806098523048253\n",
            "Accuracy: 0.8401923076923077\n"
          ]
        },
        {
          "name": "stderr",
          "output_type": "stream",
          "text": [
            "\r326it [00:31, 10.09it/s]"
          ]
        },
        {
          "name": "stdout",
          "output_type": "stream",
          "text": [
            "Average Loss: 0.36805741303811773\n",
            "Accuracy: 0.8404907975460123\n",
            "Average Loss: 0.3677661929063112\n",
            "Accuracy: 0.8407874617737003\n"
          ]
        },
        {
          "name": "stderr",
          "output_type": "stream",
          "text": [
            "\r328it [00:31, 10.02it/s]"
          ]
        },
        {
          "name": "stdout",
          "output_type": "stream",
          "text": [
            "Average Loss: 0.3686965256702246\n",
            "Accuracy: 0.8399390243902439\n",
            "Average Loss: 0.36853843961352634\n",
            "Accuracy: 0.8402355623100304\n"
          ]
        },
        {
          "name": "stderr",
          "output_type": "stream",
          "text": [
            "331it [00:31,  9.85it/s]"
          ]
        },
        {
          "name": "stdout",
          "output_type": "stream",
          "text": [
            "tensor(0.3585, device='cuda:0', grad_fn=<BinaryCrossEntropyBackward0>)\n",
            "Average Loss: 0.36850815069946374\n",
            "Accuracy: 0.8401515151515152\n",
            "Average Loss: 0.36856872615407243\n",
            "Accuracy: 0.8400679758308157\n"
          ]
        },
        {
          "name": "stderr",
          "output_type": "stream",
          "text": [
            "333it [00:32,  9.66it/s]"
          ]
        },
        {
          "name": "stdout",
          "output_type": "stream",
          "text": [
            "Average Loss: 0.3686884548066251\n",
            "Accuracy: 0.8399849397590361\n",
            "Average Loss: 0.36825796516539455\n",
            "Accuracy: 0.8402777777777778\n"
          ]
        },
        {
          "name": "stderr",
          "output_type": "stream",
          "text": [
            "335it [00:32,  9.70it/s]"
          ]
        },
        {
          "name": "stdout",
          "output_type": "stream",
          "text": [
            "Average Loss: 0.3682823780098718\n",
            "Accuracy: 0.8400074850299402\n",
            "Average Loss: 0.36816405638385175\n",
            "Accuracy: 0.8401119402985074\n"
          ]
        },
        {
          "name": "stderr",
          "output_type": "stream",
          "text": [
            "337it [00:32,  9.78it/s]"
          ]
        },
        {
          "name": "stdout",
          "output_type": "stream",
          "text": [
            "Average Loss: 0.3679779616539322\n",
            "Accuracy: 0.8404017857142857\n",
            "Average Loss: 0.36779566115813017\n",
            "Accuracy: 0.8405044510385756\n"
          ]
        },
        {
          "name": "stderr",
          "output_type": "stream",
          "text": [
            "339it [00:32,  9.72it/s]"
          ]
        },
        {
          "name": "stdout",
          "output_type": "stream",
          "text": [
            "Average Loss: 0.36821668681043845\n",
            "Accuracy: 0.8402366863905325\n",
            "Average Loss: 0.3684712658281875\n",
            "Accuracy: 0.8397861356932154\n"
          ]
        },
        {
          "name": "stderr",
          "output_type": "stream",
          "text": [
            "342it [00:33,  9.98it/s]"
          ]
        },
        {
          "name": "stdout",
          "output_type": "stream",
          "text": [
            "tensor(0.3482, device='cuda:0', grad_fn=<BinaryCrossEntropyBackward0>)\n",
            "Average Loss: 0.3684117111432202\n",
            "Accuracy: 0.8398897058823529\n",
            "Average Loss: 0.3681120156061964\n",
            "Accuracy: 0.8401759530791789\n",
            "Average Loss: 0.36840856251747983\n",
            "Accuracy: 0.8399122807017544\n"
          ]
        },
        {
          "name": "stderr",
          "output_type": "stream",
          "text": [
            "\r344it [00:33, 10.02it/s]"
          ]
        },
        {
          "name": "stdout",
          "output_type": "stream",
          "text": [
            "Average Loss: 0.3680426165374653\n",
            "Accuracy: 0.8400145772594753\n",
            "Average Loss: 0.3674591434686336\n",
            "Accuracy: 0.8404796511627907\n"
          ]
        },
        {
          "name": "stderr",
          "output_type": "stream",
          "text": [
            "346it [00:33,  9.86it/s]"
          ]
        },
        {
          "name": "stdout",
          "output_type": "stream",
          "text": [
            "Average Loss: 0.36755052854617437\n",
            "Accuracy: 0.8403985507246376\n",
            "Average Loss: 0.3676898975377482\n",
            "Accuracy: 0.8401372832369942\n"
          ]
        },
        {
          "name": "stderr",
          "output_type": "stream",
          "text": [
            "349it [00:33, 10.01it/s]"
          ]
        },
        {
          "name": "stdout",
          "output_type": "stream",
          "text": [
            "Average Loss: 0.36773286873651856\n",
            "Accuracy: 0.8398775216138329\n",
            "Average Loss: 0.36807135053664103\n",
            "Accuracy: 0.8394396551724138\n",
            "Average Loss: 0.36756173709145934\n",
            "Accuracy: 0.8398997134670487\n"
          ]
        },
        {
          "name": "stderr",
          "output_type": "stream",
          "text": [
            "351it [00:33,  9.51it/s]"
          ]
        },
        {
          "name": "stdout",
          "output_type": "stream",
          "text": [
            "tensor(0.3163, device='cuda:0', grad_fn=<BinaryCrossEntropyBackward0>)\n",
            "Average Loss: 0.36741535989301544\n",
            "Accuracy: 0.8398214285714286\n",
            "Average Loss: 0.3670627379901389\n",
            "Accuracy: 0.8400997150997151\n"
          ]
        },
        {
          "name": "stderr",
          "output_type": "stream",
          "text": [
            "353it [00:34,  9.67it/s]"
          ]
        },
        {
          "name": "stdout",
          "output_type": "stream",
          "text": [
            "Average Loss: 0.3670368811157955\n",
            "Accuracy: 0.8401988636363636\n",
            "Average Loss: 0.36683557528696387\n",
            "Accuracy: 0.8402974504249292\n"
          ]
        },
        {
          "name": "stderr",
          "output_type": "stream",
          "text": [
            "355it [00:34,  9.65it/s]"
          ]
        },
        {
          "name": "stdout",
          "output_type": "stream",
          "text": [
            "Average Loss: 0.3668308318882002\n",
            "Accuracy: 0.8402189265536724\n",
            "Average Loss: 0.36657465748803714\n",
            "Accuracy: 0.8401408450704225\n"
          ]
        },
        {
          "name": "stderr",
          "output_type": "stream",
          "text": [
            "357it [00:34,  9.70it/s]"
          ]
        },
        {
          "name": "stdout",
          "output_type": "stream",
          "text": [
            "Average Loss: 0.3665266201276793\n",
            "Accuracy: 0.840063202247191\n",
            "Average Loss: 0.3669425070661457\n",
            "Accuracy: 0.8399859943977591\n"
          ]
        },
        {
          "name": "stderr",
          "output_type": "stream",
          "text": [
            "359it [00:34,  9.79it/s]"
          ]
        },
        {
          "name": "stdout",
          "output_type": "stream",
          "text": [
            "Average Loss: 0.36710516619365974\n",
            "Accuracy: 0.8397346368715084\n",
            "Average Loss: 0.36722221051168974\n",
            "Accuracy: 0.8394846796657381\n"
          ]
        },
        {
          "name": "stderr",
          "output_type": "stream",
          "text": [
            "361it [00:34,  9.84it/s]"
          ]
        },
        {
          "name": "stdout",
          "output_type": "stream",
          "text": [
            "tensor(0.4188, device='cuda:0', grad_fn=<BinaryCrossEntropyBackward0>)\n",
            "Average Loss: 0.36736548346363834\n",
            "Accuracy: 0.8395833333333333\n",
            "Average Loss: 0.3669595723543471\n",
            "Accuracy: 0.8398545706371191\n"
          ]
        },
        {
          "name": "stderr",
          "output_type": "stream",
          "text": [
            "363it [00:35,  9.79it/s]"
          ]
        },
        {
          "name": "stdout",
          "output_type": "stream",
          "text": [
            "Average Loss: 0.36664198876168186\n",
            "Accuracy: 0.8399516574585635\n",
            "Average Loss: 0.36646388772844285\n",
            "Accuracy: 0.8400482093663911\n"
          ]
        },
        {
          "name": "stderr",
          "output_type": "stream",
          "text": [
            "366it [00:35,  9.99it/s]"
          ]
        },
        {
          "name": "stdout",
          "output_type": "stream",
          "text": [
            "Average Loss: 0.3664491984911345\n",
            "Accuracy: 0.8399725274725275\n",
            "Average Loss: 0.3673694709596569\n",
            "Accuracy: 0.8395547945205479\n",
            "Average Loss: 0.367808934382565\n",
            "Accuracy: 0.8393101092896175\n"
          ]
        },
        {
          "name": "stderr",
          "output_type": "stream",
          "text": [
            "\r368it [00:35, 10.01it/s]"
          ]
        },
        {
          "name": "stdout",
          "output_type": "stream",
          "text": [
            "Average Loss: 0.36779737742541596\n",
            "Accuracy: 0.8392370572207084\n",
            "Average Loss: 0.367740233813453\n",
            "Accuracy: 0.8393342391304348\n",
            "Average Loss: 0.3676077953077913\n",
            "Accuracy: 0.8394308943089431\n"
          ]
        },
        {
          "name": "stderr",
          "output_type": "stream",
          "text": [
            "371it [00:35, 10.00it/s]"
          ]
        },
        {
          "name": "stdout",
          "output_type": "stream",
          "text": [
            "tensor(0.1974, device='cuda:0', grad_fn=<BinaryCrossEntropyBackward0>)\n",
            "Average Loss: 0.36714790586281465\n",
            "Accuracy: 0.839695945945946\n",
            "Average Loss: 0.3669059431014678\n",
            "Accuracy: 0.839622641509434\n",
            "Average Loss: 0.36685134184056073\n"
          ]
        },
        {
          "name": "stderr",
          "output_type": "stream",
          "text": [
            "\r373it [00:36, 10.04it/s]"
          ]
        },
        {
          "name": "stdout",
          "output_type": "stream",
          "text": [
            "Accuracy: 0.8393817204301075\n",
            "Average Loss: 0.3665310774228209\n",
            "Accuracy: 0.8396447721179625\n",
            "Average Loss: 0.36623860284048604\n",
            "Accuracy: 0.8397393048128342\n"
          ]
        },
        {
          "name": "stderr",
          "output_type": "stream",
          "text": [
            "377it [00:36, 10.13it/s]"
          ]
        },
        {
          "name": "stdout",
          "output_type": "stream",
          "text": [
            "Average Loss: 0.36593110873301826\n",
            "Accuracy: 0.84\n",
            "Average Loss: 0.36575439994401754\n",
            "Accuracy: 0.8399268617021277\n",
            "Average Loss: 0.3653229627787909\n",
            "Accuracy: 0.8401856763925729\n"
          ]
        },
        {
          "name": "stderr",
          "output_type": "stream",
          "text": [
            "\r379it [00:36, 10.17it/s]"
          ]
        },
        {
          "name": "stdout",
          "output_type": "stream",
          "text": [
            "Average Loss: 0.3658498797821936\n",
            "Accuracy: 0.83994708994709\n",
            "Average Loss: 0.3658777470049254\n",
            "Accuracy: 0.8397097625329816\n",
            "tensor(0.2735, device='cuda:0', grad_fn=<BinaryCrossEntropyBackward0>)\n",
            "Average Loss: 0.3656346864802273\n",
            "Accuracy: 0.8398026315789474\n"
          ]
        },
        {
          "name": "stderr",
          "output_type": "stream",
          "text": [
            "383it [00:37, 10.22it/s]"
          ]
        },
        {
          "name": "stdout",
          "output_type": "stream",
          "text": [
            "Average Loss: 0.366888990337298\n",
            "Accuracy: 0.839238845144357\n",
            "Average Loss: 0.36625758814015935\n",
            "Accuracy: 0.8396596858638743\n",
            "Average Loss: 0.3663561387916458\n",
            "Accuracy: 0.839588772845953\n"
          ]
        },
        {
          "name": "stderr",
          "output_type": "stream",
          "text": [
            "\r385it [00:37, 10.16it/s]"
          ]
        },
        {
          "name": "stdout",
          "output_type": "stream",
          "text": [
            "Average Loss: 0.3667884981453729\n",
            "Accuracy: 0.8391927083333334\n",
            "Average Loss: 0.36645005699489025\n",
            "Accuracy: 0.8394480519480519\n",
            "Average Loss: 0.36705843685436124\n",
            "Accuracy: 0.8392163212435233\n"
          ]
        },
        {
          "name": "stderr",
          "output_type": "stream",
          "text": [
            "389it [00:37, 10.15it/s]"
          ]
        },
        {
          "name": "stdout",
          "output_type": "stream",
          "text": [
            "Average Loss: 0.36658737511982903\n",
            "Accuracy: 0.8394702842377261\n",
            "Average Loss: 0.36647281997366665\n",
            "Accuracy: 0.8395618556701031\n",
            "Average Loss: 0.36607825106780756\n",
            "Accuracy: 0.8396529562982005\n"
          ]
        },
        {
          "name": "stderr",
          "output_type": "stream",
          "text": [
            "\r391it [00:37, 10.19it/s]"
          ]
        },
        {
          "name": "stdout",
          "output_type": "stream",
          "text": [
            "tensor(0.3735, device='cuda:0', grad_fn=<BinaryCrossEntropyBackward0>)\n",
            "Average Loss: 0.3660972570188535\n",
            "Accuracy: 0.8394230769230769\n",
            "Average Loss: 0.3665506087643716\n",
            "Accuracy: 0.83903452685422\n",
            "Average Loss: 0.3664757966120936\n",
            "Accuracy: 0.8391262755102041\n"
          ]
        },
        {
          "name": "stderr",
          "output_type": "stream",
          "text": [
            "395it [00:38, 10.33it/s]"
          ]
        },
        {
          "name": "stdout",
          "output_type": "stream",
          "text": [
            "Average Loss: 0.3663876423891871\n",
            "Accuracy: 0.8388994910941476\n",
            "Average Loss: 0.36625328684594427\n",
            "Accuracy: 0.8388324873096447\n",
            "Average Loss: 0.36661514370124554\n",
            "Accuracy: 0.8384493670886076\n"
          ]
        },
        {
          "name": "stderr",
          "output_type": "stream",
          "text": [
            "\r397it [00:38, 10.38it/s]"
          ]
        },
        {
          "name": "stdout",
          "output_type": "stream",
          "text": [
            "Average Loss: 0.36640921726145526\n",
            "Accuracy: 0.8385416666666666\n",
            "Average Loss: 0.36608491618402056\n",
            "Accuracy: 0.8387909319899244\n",
            "Average Loss: 0.3659099506111301\n",
            "Accuracy: 0.8388819095477387\n"
          ]
        },
        {
          "name": "stderr",
          "output_type": "stream",
          "text": [
            "\r399it [00:38, 10.28it/s]"
          ]
        },
        {
          "name": "stdout",
          "output_type": "stream",
          "text": [
            "Average Loss: 0.36611228122522954\n",
            "Accuracy: 0.8386591478696742\n",
            "tensor(0.3517, device='cuda:0', grad_fn=<BinaryCrossEntropyBackward0>)\n",
            "Average Loss: 0.36607615822926165\n",
            "Accuracy: 0.83859375\n",
            "Average Loss: 0.36572801540988936\n"
          ]
        },
        {
          "name": "stderr",
          "output_type": "stream",
          "text": [
            "403it [00:39, 10.15it/s]"
          ]
        },
        {
          "name": "stdout",
          "output_type": "stream",
          "text": [
            "Accuracy: 0.8386845386533666\n",
            "Average Loss: 0.3663701792595102\n",
            "Accuracy: 0.8383084577114428\n",
            "Average Loss: 0.3669423395328723\n",
            "Accuracy: 0.8374689826302729\n"
          ]
        },
        {
          "name": "stderr",
          "output_type": "stream",
          "text": [
            "\r405it [00:39, 10.12it/s]"
          ]
        },
        {
          "name": "stdout",
          "output_type": "stream",
          "text": [
            "Average Loss: 0.3679884018026071\n",
            "Accuracy: 0.8370977722772277\n",
            "Average Loss: 0.3678153015397213\n",
            "Accuracy: 0.8371913580246914\n",
            "Average Loss: 0.36826938987145286\n"
          ]
        },
        {
          "name": "stderr",
          "output_type": "stream",
          "text": [
            "\r407it [00:39, 10.05it/s]"
          ]
        },
        {
          "name": "stdout",
          "output_type": "stream",
          "text": [
            "Accuracy: 0.8368226600985221\n",
            "Average Loss: 0.3683734467523104\n",
            "Accuracy: 0.8366093366093366\n"
          ]
        },
        {
          "name": "stderr",
          "output_type": "stream",
          "text": [
            "\r409it [00:39, 10.00it/s]"
          ]
        },
        {
          "name": "stdout",
          "output_type": "stream",
          "text": [
            "Average Loss: 0.3683683556851511\n",
            "Accuracy: 0.8365502450980392\n",
            "Average Loss: 0.3688966962884574\n",
            "Accuracy: 0.8361858190709046\n",
            "tensor(0.5289, device='cuda:0', grad_fn=<BinaryCrossEntropyBackward0>)\n",
            "Average Loss: 0.36928698218813755\n",
            "Accuracy: 0.8362804878048781\n"
          ]
        },
        {
          "name": "stderr",
          "output_type": "stream",
          "text": [
            "413it [00:40, 10.10it/s]"
          ]
        },
        {
          "name": "stdout",
          "output_type": "stream",
          "text": [
            "Average Loss: 0.36954922602487017\n",
            "Accuracy: 0.835918491484185\n",
            "Average Loss: 0.3703029416320683\n",
            "Accuracy: 0.8354065533980582\n",
            "Average Loss: 0.37043106904113554\n",
            "Accuracy: 0.8355024213075061\n"
          ]
        },
        {
          "name": "stderr",
          "output_type": "stream",
          "text": [
            "\r415it [00:40, 10.05it/s]"
          ]
        },
        {
          "name": "stdout",
          "output_type": "stream",
          "text": [
            "Average Loss: 0.370558797971206\n",
            "Accuracy: 0.8354468599033816\n",
            "Average Loss: 0.3703376580613205\n",
            "Accuracy: 0.8355421686746988\n"
          ]
        },
        {
          "name": "stderr",
          "output_type": "stream",
          "text": [
            "\r417it [00:40, 10.05it/s]"
          ]
        },
        {
          "name": "stdout",
          "output_type": "stream",
          "text": [
            "Average Loss: 0.3700271846475796\n",
            "Accuracy: 0.8356370192307693\n",
            "Average Loss: 0.37011314869570217\n",
            "Accuracy: 0.835431654676259\n",
            "Average Loss: 0.3700563882847437\n",
            "Accuracy: 0.8355263157894737\n"
          ]
        },
        {
          "name": "stderr",
          "output_type": "stream",
          "text": [
            "421it [00:40, 10.21it/s]"
          ]
        },
        {
          "name": "stdout",
          "output_type": "stream",
          "text": [
            "Average Loss: 0.37015757677734323\n",
            "Accuracy: 0.8354713603818615\n",
            "tensor(0.2716, device='cuda:0', grad_fn=<BinaryCrossEntropyBackward0>)\n",
            "Average Loss: 0.3699229083777893\n",
            "Accuracy: 0.8357142857142857\n",
            "Average Loss: 0.3697154039335647\n",
            "Accuracy: 0.8358076009501187\n"
          ]
        },
        {
          "name": "stderr",
          "output_type": "stream",
          "text": [
            "\r423it [00:41, 10.19it/s]"
          ]
        },
        {
          "name": "stdout",
          "output_type": "stream",
          "text": [
            "Average Loss: 0.3692931887909982\n",
            "Accuracy: 0.836196682464455\n",
            "Average Loss: 0.3691150002692326\n",
            "Accuracy: 0.8362884160756501\n",
            "Average Loss: 0.368766990244248\n",
            "Accuracy: 0.8365271226415094\n"
          ]
        },
        {
          "name": "stderr",
          "output_type": "stream",
          "text": [
            "427it [00:41, 10.20it/s]"
          ]
        },
        {
          "name": "stdout",
          "output_type": "stream",
          "text": [
            "Average Loss: 0.36847839350209516\n",
            "Accuracy: 0.8369117647058824\n",
            "Average Loss: 0.3683008093544295\n",
            "Accuracy: 0.8371478873239436\n",
            "Average Loss: 0.3689212136895372\n",
            "Accuracy: 0.836943793911007\n"
          ]
        },
        {
          "name": "stderr",
          "output_type": "stream",
          "text": [
            "\r429it [00:41, 10.18it/s]"
          ]
        },
        {
          "name": "stdout",
          "output_type": "stream",
          "text": [
            "Average Loss: 0.36862499421793166\n",
            "Accuracy: 0.837178738317757\n",
            "Average Loss: 0.36948826368941573\n",
            "Accuracy: 0.8366841491841492\n"
          ]
        },
        {
          "name": "stderr",
          "output_type": "stream",
          "text": [
            "\r431it [00:41, 10.09it/s]"
          ]
        },
        {
          "name": "stdout",
          "output_type": "stream",
          "text": [
            "tensor(0.2642, device='cuda:0', grad_fn=<BinaryCrossEntropyBackward0>)\n",
            "Average Loss: 0.36924332236481267\n",
            "Accuracy: 0.8369186046511627\n",
            "Average Loss: 0.3690125139607354\n",
            "Accuracy: 0.8370069605568445\n",
            "Average Loss: 0.3687493463943678\n"
          ]
        },
        {
          "name": "stderr",
          "output_type": "stream",
          "text": [
            "\r433it [00:42, 10.05it/s]"
          ]
        },
        {
          "name": "stdout",
          "output_type": "stream",
          "text": [
            "Accuracy: 0.8372395833333334\n",
            "Average Loss: 0.3682740365281942\n",
            "Accuracy: 0.8376154734411085\n",
            "Average Loss: 0.36916050811036394\n",
            "Accuracy: 0.837413594470046\n"
          ]
        },
        {
          "name": "stderr",
          "output_type": "stream",
          "text": [
            "437it [00:42, 10.22it/s]"
          ]
        },
        {
          "name": "stdout",
          "output_type": "stream",
          "text": [
            "Average Loss: 0.36912042479748014\n",
            "Accuracy: 0.8373563218390805\n",
            "Average Loss: 0.3694871340220401\n",
            "Accuracy: 0.8371559633027523\n",
            "Average Loss: 0.36915377820724754\n",
            "Accuracy: 0.8373855835240275\n"
          ]
        },
        {
          "name": "stderr",
          "output_type": "stream",
          "text": [
            "\r439it [00:42, 10.21it/s]"
          ]
        },
        {
          "name": "stdout",
          "output_type": "stream",
          "text": [
            "Average Loss: 0.36899966173316245\n",
            "Accuracy: 0.8376141552511416\n",
            "Average Loss: 0.3694121281792471\n",
            "Accuracy: 0.8372722095671982\n",
            "tensor(0.4151, device='cuda:0', grad_fn=<BinaryCrossEntropyBackward0>)\n",
            "Average Loss: 0.3695158910514279\n",
            "Accuracy: 0.8369318181818182\n"
          ]
        },
        {
          "name": "stderr",
          "output_type": "stream",
          "text": [
            "443it [00:43, 10.19it/s]"
          ]
        },
        {
          "name": "stdout",
          "output_type": "stream",
          "text": [
            "Average Loss: 0.369471255360412\n",
            "Accuracy: 0.8370181405895691\n",
            "Average Loss: 0.3694540984524052\n",
            "Accuracy: 0.8369626696832579\n",
            "Average Loss: 0.3695389557940965\n",
            "Accuracy: 0.8369074492099323\n"
          ]
        },
        {
          "name": "stderr",
          "output_type": "stream",
          "text": [
            "\r445it [00:43, 10.13it/s]"
          ]
        },
        {
          "name": "stdout",
          "output_type": "stream",
          "text": [
            "Average Loss: 0.36992174449066323\n",
            "Accuracy: 0.8367117117117117\n",
            "Average Loss: 0.3700133201278997\n",
            "Accuracy: 0.8366573033707865\n",
            "Average Loss: 0.3697344713380786\n",
            "Accuracy: 0.8368834080717489\n"
          ]
        },
        {
          "name": "stderr",
          "output_type": "stream",
          "text": [
            "449it [00:43, 10.20it/s]"
          ]
        },
        {
          "name": "stdout",
          "output_type": "stream",
          "text": [
            "Average Loss: 0.36978544263165003\n",
            "Accuracy: 0.8366890380313199\n",
            "Average Loss: 0.3706335902180789\n",
            "Accuracy: 0.8362165178571429\n",
            "Average Loss: 0.3715741415829595\n",
            "Accuracy: 0.8358853006681515\n"
          ]
        },
        {
          "name": "stderr",
          "output_type": "stream",
          "text": [
            "\r451it [00:43, 10.17it/s]"
          ]
        },
        {
          "name": "stdout",
          "output_type": "stream",
          "text": [
            "tensor(0.4440, device='cuda:0', grad_fn=<BinaryCrossEntropyBackward0>)\n",
            "Average Loss: 0.3717350592712561\n",
            "Accuracy: 0.8356944444444444\n",
            "Average Loss: 0.37181655727244267\n",
            "Accuracy: 0.8355044345898004\n",
            "Average Loss: 0.37152888973663867\n",
            "Accuracy: 0.8357300884955752\n"
          ]
        },
        {
          "name": "stderr",
          "output_type": "stream",
          "text": [
            "455it [00:44, 10.15it/s]"
          ]
        },
        {
          "name": "stdout",
          "output_type": "stream",
          "text": [
            "Average Loss: 0.3714052504360281\n",
            "Accuracy: 0.8358167770419426\n",
            "Average Loss: 0.37106907526892713\n",
            "Accuracy: 0.8359030837004405\n",
            "Average Loss: 0.37067934728258256\n",
            "Accuracy: 0.835989010989011\n"
          ]
        },
        {
          "name": "stderr",
          "output_type": "stream",
          "text": [
            "458it [00:44,  9.95it/s]"
          ]
        },
        {
          "name": "stdout",
          "output_type": "stream",
          "text": [
            "Average Loss: 0.37072277194902037\n",
            "Accuracy: 0.8358004385964912\n",
            "Average Loss: 0.3705297725629754\n",
            "Accuracy: 0.8357494529540481\n",
            "Average Loss: 0.37019764604331623\n",
            "Accuracy: 0.835971615720524\n"
          ]
        },
        {
          "name": "stderr",
          "output_type": "stream",
          "text": [
            "\r460it [00:44,  9.99it/s]"
          ]
        },
        {
          "name": "stdout",
          "output_type": "stream",
          "text": [
            "Average Loss: 0.3702876734869932\n",
            "Accuracy: 0.8359204793028322\n",
            "tensor(0.2951, device='cuda:0', grad_fn=<BinaryCrossEntropyBackward0>)\n",
            "Average Loss: 0.3701242172361716\n",
            "Accuracy: 0.8360054347826087\n",
            "Average Loss: 0.3699775631832456\n",
            "Accuracy: 0.8359544468546638\n"
          ]
        },
        {
          "name": "stderr",
          "output_type": "stream",
          "text": [
            "463it [00:45,  9.92it/s]"
          ]
        },
        {
          "name": "stdout",
          "output_type": "stream",
          "text": [
            "Average Loss: 0.3705543949393741\n",
            "Accuracy: 0.8357683982683982\n",
            "Average Loss: 0.37043116817785904\n",
            "Accuracy: 0.8357181425485961\n"
          ]
        },
        {
          "name": "stderr",
          "output_type": "stream",
          "text": [
            "465it [00:45,  9.89it/s]"
          ]
        },
        {
          "name": "stdout",
          "output_type": "stream",
          "text": [
            "Average Loss: 0.37059123070653655\n",
            "Accuracy: 0.8356681034482759\n",
            "Average Loss: 0.3704039416806672\n",
            "Accuracy: 0.8358870967741936\n"
          ]
        },
        {
          "name": "stderr",
          "output_type": "stream",
          "text": [
            "468it [00:45,  9.90it/s]"
          ]
        },
        {
          "name": "stdout",
          "output_type": "stream",
          "text": [
            "Average Loss: 0.37040836458362225\n",
            "Accuracy: 0.8359710300429185\n",
            "Average Loss: 0.37020149075563763\n",
            "Accuracy: 0.8361884368308351\n",
            "Average Loss: 0.36995939880163753\n",
            "Accuracy: 0.8361378205128205\n"
          ]
        },
        {
          "name": "stderr",
          "output_type": "stream",
          "text": [
            "\r470it [00:45, 10.00it/s]"
          ]
        },
        {
          "name": "stdout",
          "output_type": "stream",
          "text": [
            "Average Loss: 0.3698638550667112\n",
            "Accuracy: 0.8362206823027718\n",
            "tensor(0.3402, device='cuda:0', grad_fn=<BinaryCrossEntropyBackward0>)\n",
            "Average Loss: 0.36980068215981443\n",
            "Accuracy: 0.8363031914893617\n",
            "Average Loss: 0.3701841318841446\n"
          ]
        },
        {
          "name": "stderr",
          "output_type": "stream",
          "text": [
            "473it [00:46, 10.02it/s]"
          ]
        },
        {
          "name": "stdout",
          "output_type": "stream",
          "text": [
            "Accuracy: 0.8362526539278131\n",
            "Average Loss: 0.3705480852779948\n",
            "Accuracy: 0.8360699152542372\n",
            "Average Loss: 0.37106778015861047\n",
            "Accuracy: 0.8358879492600423\n"
          ]
        },
        {
          "name": "stderr",
          "output_type": "stream",
          "text": [
            "\r475it [00:46, 10.10it/s]"
          ]
        },
        {
          "name": "stdout",
          "output_type": "stream",
          "text": [
            "Average Loss: 0.3708968909638089\n",
            "Accuracy: 0.8358386075949367\n",
            "Average Loss: 0.3710749977670218\n",
            "Accuracy: 0.8356578947368422\n",
            "Average Loss: 0.37104327690263256\n",
            "Accuracy: 0.8354779411764706\n"
          ]
        },
        {
          "name": "stderr",
          "output_type": "stream",
          "text": [
            "479it [00:46, 10.30it/s]"
          ]
        },
        {
          "name": "stdout",
          "output_type": "stream",
          "text": [
            "Average Loss: 0.37091076438094583\n",
            "Accuracy: 0.8355607966457023\n",
            "Average Loss: 0.37142103874596094\n",
            "Accuracy: 0.8351202928870293\n",
            "Average Loss: 0.372373446806612\n",
            "Accuracy: 0.8344206680584552\n"
          ]
        },
        {
          "name": "stderr",
          "output_type": "stream",
          "text": [
            "\r481it [00:46, 10.42it/s]"
          ]
        },
        {
          "name": "stdout",
          "output_type": "stream",
          "text": [
            "tensor(0.3125, device='cuda:0', grad_fn=<BinaryCrossEntropyBackward0>)\n",
            "Average Loss: 0.3722487595087538\n",
            "Accuracy: 0.8345052083333333\n",
            "Average Loss: 0.37248096931067426\n",
            "Accuracy: 0.8343295218295218\n",
            "Average Loss: 0.37289373052627217\n",
            "Accuracy: 0.8340248962655602\n"
          ]
        },
        {
          "name": "stderr",
          "output_type": "stream",
          "text": [
            "485it [00:47, 10.60it/s]"
          ]
        },
        {
          "name": "stdout",
          "output_type": "stream",
          "text": [
            "Average Loss: 0.37301443392260475\n",
            "Accuracy: 0.8339803312629399\n",
            "Average Loss: 0.37366427999944235\n",
            "Accuracy: 0.8335485537190083\n",
            "Average Loss: 0.37361011027368074\n",
            "Accuracy: 0.8335051546391753\n"
          ]
        },
        {
          "name": "stderr",
          "output_type": "stream",
          "text": [
            "\r487it [00:47, 10.63it/s]"
          ]
        },
        {
          "name": "stdout",
          "output_type": "stream",
          "text": [
            "Average Loss: 0.3739705948090112\n",
            "Accuracy: 0.833204732510288\n",
            "Average Loss: 0.37396615573818925\n",
            "Accuracy: 0.8331622176591376\n",
            "Average Loss: 0.3737700967057074\n",
            "Accuracy: 0.8333760245901639\n"
          ]
        },
        {
          "name": "stderr",
          "output_type": "stream",
          "text": [
            "491it [00:47, 10.67it/s]"
          ]
        },
        {
          "name": "stdout",
          "output_type": "stream",
          "text": [
            "Average Loss: 0.3742194510463069\n",
            "Accuracy: 0.8332055214723927\n",
            "tensor(0.6083, device='cuda:0', grad_fn=<BinaryCrossEntropyBackward0>)\n",
            "Average Loss: 0.3746971637162627\n",
            "Accuracy: 0.8329081632653061\n",
            "Average Loss: 0.3747281301197598\n",
            "Accuracy: 0.832612016293279\n"
          ]
        },
        {
          "name": "stderr",
          "output_type": "stream",
          "text": [
            "\r493it [00:47, 10.62it/s]"
          ]
        },
        {
          "name": "stdout",
          "output_type": "stream",
          "text": [
            "Average Loss: 0.3747327703437427\n",
            "Accuracy: 0.8323170731707317\n",
            "Average Loss: 0.37441869284088664\n",
            "Accuracy: 0.8325304259634888\n",
            "Average Loss: 0.3743506016187098\n",
            "Accuracy: 0.8326163967611336\n"
          ]
        },
        {
          "name": "stderr",
          "output_type": "stream",
          "text": [
            "497it [00:48, 10.72it/s]"
          ]
        },
        {
          "name": "stdout",
          "output_type": "stream",
          "text": [
            "Average Loss: 0.3748487506400455\n",
            "Accuracy: 0.8320707070707071\n",
            "Average Loss: 0.37476572948658177\n",
            "Accuracy: 0.83203125\n",
            "Average Loss: 0.3745804152168498\n",
            "Accuracy: 0.8322434607645876\n"
          ]
        },
        {
          "name": "stderr",
          "output_type": "stream",
          "text": [
            "\r499it [00:48, 10.76it/s]"
          ]
        },
        {
          "name": "stdout",
          "output_type": "stream",
          "text": [
            "Average Loss: 0.37451297147984963\n",
            "Accuracy: 0.8322038152610441\n",
            "Average Loss: 0.37482256230287897\n",
            "Accuracy: 0.8320390781563126\n",
            "tensor(0.2886, device='cuda:0', grad_fn=<BinaryCrossEntropyBackward0>)\n",
            "Average Loss: 0.37465010173618796\n",
            "Accuracy: 0.832125\n"
          ]
        },
        {
          "name": "stderr",
          "output_type": "stream",
          "text": [
            "503it [00:48, 10.75it/s]"
          ]
        },
        {
          "name": "stdout",
          "output_type": "stream",
          "text": [
            "Average Loss: 0.37469338759512244\n",
            "Accuracy: 0.8322105788423154\n",
            "Average Loss: 0.374518894653515\n",
            "Accuracy: 0.8322958167330677\n",
            "Average Loss: 0.3746894007441301\n",
            "Accuracy: 0.8323807157057654\n"
          ]
        },
        {
          "name": "stderr",
          "output_type": "stream",
          "text": [
            "\r505it [00:49, 10.75it/s]"
          ]
        },
        {
          "name": "stdout",
          "output_type": "stream",
          "text": [
            "Average Loss: 0.37474949275039965\n",
            "Accuracy: 0.8324652777777778\n",
            "Average Loss: 0.3744391169435907\n",
            "Accuracy: 0.8327970297029703\n",
            "Average Loss: 0.3742159971518243\n",
            "Accuracy: 0.8330039525691699\n"
          ]
        },
        {
          "name": "stderr",
          "output_type": "stream",
          "text": [
            "509it [00:49, 10.75it/s]"
          ]
        },
        {
          "name": "stdout",
          "output_type": "stream",
          "text": [
            "Average Loss: 0.3748651271652893\n",
            "Accuracy: 0.8328402366863905\n",
            "Average Loss: 0.3746188371698922\n",
            "Accuracy: 0.8329232283464567\n",
            "Average Loss: 0.3745378695706487\n",
            "Accuracy: 0.8328831041257367\n"
          ]
        },
        {
          "name": "stderr",
          "output_type": "stream",
          "text": [
            "\r511it [00:49, 10.78it/s]"
          ]
        },
        {
          "name": "stdout",
          "output_type": "stream",
          "text": [
            "tensor(0.2886, device='cuda:0', grad_fn=<BinaryCrossEntropyBackward0>)\n",
            "Average Loss: 0.374369342727404\n",
            "Accuracy: 0.832843137254902\n",
            "Average Loss: 0.37437154835275943\n",
            "Accuracy: 0.8328033268101761\n",
            "Average Loss: 0.3749956126703182\n",
            "Accuracy: 0.832275390625\n"
          ]
        },
        {
          "name": "stderr",
          "output_type": "stream",
          "text": [
            "515it [00:49, 10.66it/s]"
          ]
        },
        {
          "name": "stdout",
          "output_type": "stream",
          "text": [
            "Average Loss: 0.37500925465227336\n",
            "Accuracy: 0.8322368421052632\n",
            "Average Loss: 0.37486808461495874\n",
            "Accuracy: 0.8321984435797666\n",
            "Average Loss: 0.3750575865501339\n",
            "Accuracy: 0.8319174757281553\n"
          ]
        },
        {
          "name": "stderr",
          "output_type": "stream",
          "text": [
            "\r517it [00:50, 10.64it/s]"
          ]
        },
        {
          "name": "stdout",
          "output_type": "stream",
          "text": [
            "Average Loss: 0.3751182416526153\n",
            "Accuracy: 0.8318798449612403\n",
            "Average Loss: 0.37479414416178053\n",
            "Accuracy: 0.8322050290135397\n",
            "Average Loss: 0.3746714282306235\n",
            "Accuracy: 0.8322876447876448\n"
          ]
        },
        {
          "name": "stderr",
          "output_type": "stream",
          "text": [
            "521it [00:50, 10.67it/s]"
          ]
        },
        {
          "name": "stdout",
          "output_type": "stream",
          "text": [
            "Average Loss: 0.3746921519869095\n",
            "Accuracy: 0.8323699421965318\n",
            "tensor(0.5002, device='cuda:0', grad_fn=<BinaryCrossEntropyBackward0>)\n",
            "Average Loss: 0.374933552956925\n",
            "Accuracy: 0.8320913461538462\n",
            "Average Loss: 0.3748215261753827\n",
            "Accuracy: 0.8322936660268714\n"
          ]
        },
        {
          "name": "stderr",
          "output_type": "stream",
          "text": [
            "\r523it [00:50, 10.67it/s]"
          ]
        },
        {
          "name": "stdout",
          "output_type": "stream",
          "text": [
            "Average Loss: 0.37450161791795517\n",
            "Accuracy: 0.8324952107279694\n",
            "Average Loss: 0.3743954331509014\n",
            "Accuracy: 0.8325764818355641\n",
            "Average Loss: 0.37420006339502243\n",
            "Accuracy: 0.8327767175572519\n"
          ]
        },
        {
          "name": "stderr",
          "output_type": "stream",
          "text": [
            "527it [00:51, 10.79it/s]"
          ]
        },
        {
          "name": "stdout",
          "output_type": "stream",
          "text": [
            "Average Loss: 0.3743945784086273\n",
            "Accuracy: 0.8328571428571429\n",
            "Average Loss: 0.374531338465871\n",
            "Accuracy: 0.8326996197718631\n",
            "Average Loss: 0.37441597241321595\n",
            "Accuracy: 0.8327798861480076\n"
          ]
        },
        {
          "name": "stderr",
          "output_type": "stream",
          "text": [
            "\r529it [00:51, 10.65it/s]"
          ]
        },
        {
          "name": "stdout",
          "output_type": "stream",
          "text": [
            "Average Loss: 0.3741646744451965\n",
            "Accuracy: 0.8329782196969697\n",
            "Average Loss: 0.3741092269638085\n",
            "Accuracy: 0.8328213610586012\n",
            "tensor(0.3246, device='cuda:0', grad_fn=<BinaryCrossEntropyBackward0>)\n",
            "Average Loss: 0.3740157659464287\n",
            "Accuracy: 0.8327830188679245\n"
          ]
        },
        {
          "name": "stderr",
          "output_type": "stream",
          "text": [
            "533it [00:51, 10.55it/s]"
          ]
        },
        {
          "name": "stdout",
          "output_type": "stream",
          "text": [
            "Average Loss: 0.37433746980464616\n",
            "Accuracy: 0.8325094161958568\n",
            "Average Loss: 0.3741004850323263\n",
            "Accuracy: 0.8327067669172933\n",
            "Average Loss: 0.3744980443625468\n",
            "Accuracy: 0.8324343339587242\n"
          ]
        },
        {
          "name": "stderr",
          "output_type": "stream",
          "text": [
            "\r535it [00:51, 10.51it/s]"
          ]
        },
        {
          "name": "stdout",
          "output_type": "stream",
          "text": [
            "Average Loss: 0.37460990921220977\n",
            "Accuracy: 0.8323970037453183\n",
            "Average Loss: 0.37440512398971576\n",
            "Accuracy: 0.8325934579439253\n",
            "Average Loss: 0.3745575152031744\n",
            "Accuracy: 0.8324393656716418\n"
          ]
        },
        {
          "name": "stderr",
          "output_type": "stream",
          "text": [
            "539it [00:52, 10.54it/s]"
          ]
        },
        {
          "name": "stdout",
          "output_type": "stream",
          "text": [
            "Average Loss: 0.3742427624886928\n",
            "Accuracy: 0.832635009310987\n",
            "Average Loss: 0.3746558851995211\n",
            "Accuracy: 0.8323652416356877\n",
            "Average Loss: 0.3747956468438616\n",
            "Accuracy: 0.8323283858998145\n"
          ]
        },
        {
          "name": "stderr",
          "output_type": "stream",
          "text": [
            "\r541it [00:52, 10.55it/s]"
          ]
        },
        {
          "name": "stdout",
          "output_type": "stream",
          "text": [
            "tensor(0.4801, device='cuda:0', grad_fn=<BinaryCrossEntropyBackward0>)\n",
            "Average Loss: 0.3749906588345766\n",
            "Accuracy: 0.8321759259259259\n",
            "Average Loss: 0.3751082682978644\n",
            "Accuracy: 0.8320240295748613\n",
            "Average Loss: 0.37510111525214906\n",
            "Accuracy: 0.8318726937269373\n"
          ]
        },
        {
          "name": "stderr",
          "output_type": "stream",
          "text": [
            "545it [00:52, 10.68it/s]"
          ]
        },
        {
          "name": "stdout",
          "output_type": "stream",
          "text": [
            "Average Loss: 0.37481672278370426\n",
            "Accuracy: 0.8320672191528545\n",
            "Average Loss: 0.374838539166376\n",
            "Accuracy: 0.83203125\n",
            "Average Loss: 0.37548866702602546\n",
            "Accuracy: 0.8317660550458715\n"
          ]
        },
        {
          "name": "stderr",
          "output_type": "stream",
          "text": [
            "\r547it [00:53, 10.65it/s]"
          ]
        },
        {
          "name": "stdout",
          "output_type": "stream",
          "text": [
            "Average Loss: 0.3752180960561548\n",
            "Accuracy: 0.831959706959707\n",
            "Average Loss: 0.3754234316552797\n",
            "Accuracy: 0.8316956124314442\n",
            "Average Loss: 0.3751750521117101\n",
            "Accuracy: 0.8318886861313869\n"
          ]
        },
        {
          "name": "stderr",
          "output_type": "stream",
          "text": [
            "551it [00:53, 10.64it/s]"
          ]
        },
        {
          "name": "stdout",
          "output_type": "stream",
          "text": [
            "Average Loss: 0.37507383502300534\n",
            "Accuracy: 0.8318533697632058\n",
            "tensor(0.5291, device='cuda:0', grad_fn=<BinaryCrossEntropyBackward0>)\n",
            "Average Loss: 0.3753539050302722\n",
            "Accuracy: 0.8317045454545454\n",
            "Average Loss: 0.3751714378460133\n",
            "Accuracy: 0.8317831215970962\n"
          ]
        },
        {
          "name": "stderr",
          "output_type": "stream",
          "text": [
            "\r553it [00:53, 10.62it/s]"
          ]
        },
        {
          "name": "stdout",
          "output_type": "stream",
          "text": [
            "Average Loss: 0.3754886732828142\n",
            "Accuracy: 0.831634963768116\n",
            "Average Loss: 0.3764262867259505\n",
            "Accuracy: 0.8311482820976492\n",
            "Average Loss: 0.37623741422588214\n",
            "Accuracy: 0.8313402527075813\n"
          ]
        },
        {
          "name": "stderr",
          "output_type": "stream",
          "text": [
            "557it [00:53, 10.48it/s]"
          ]
        },
        {
          "name": "stdout",
          "output_type": "stream",
          "text": [
            "Average Loss: 0.3768277248418009\n",
            "Accuracy: 0.8311936936936937\n",
            "Average Loss: 0.3771498643478258\n",
            "Accuracy: 0.8309352517985612\n",
            "Average Loss: 0.37679591441871446\n",
            "Accuracy: 0.8312387791741472\n"
          ]
        },
        {
          "name": "stderr",
          "output_type": "stream",
          "text": [
            "\r559it [00:54, 10.55it/s]"
          ]
        },
        {
          "name": "stdout",
          "output_type": "stream",
          "text": [
            "Average Loss: 0.37672397167184873\n",
            "Accuracy: 0.8310931899641577\n",
            "Average Loss: 0.37714097009095393\n",
            "Accuracy: 0.830948121645796\n",
            "tensor(0.4349, device='cuda:0', grad_fn=<BinaryCrossEntropyBackward0>)\n",
            "Average Loss: 0.37724410970030087\n",
            "Accuracy: 0.8309151785714286\n"
          ]
        },
        {
          "name": "stderr",
          "output_type": "stream",
          "text": [
            "563it [00:54, 10.58it/s]"
          ]
        },
        {
          "name": "stdout",
          "output_type": "stream",
          "text": [
            "Average Loss: 0.37793590799106846\n",
            "Accuracy: 0.830548128342246\n",
            "Average Loss: 0.37820333956982743\n",
            "Accuracy: 0.8302935943060499\n",
            "Average Loss: 0.3780991116780159\n",
            "Accuracy: 0.8303730017761989\n"
          ]
        },
        {
          "name": "stderr",
          "output_type": "stream",
          "text": [
            "\r565it [00:54, 10.56it/s]"
          ]
        },
        {
          "name": "stdout",
          "output_type": "stream",
          "text": [
            "Average Loss: 0.3783596589606493\n",
            "Accuracy: 0.8302304964539007\n",
            "Average Loss: 0.37800329030878776\n",
            "Accuracy: 0.8305309734513274\n",
            "Average Loss: 0.37802996519334325\n",
            "Accuracy: 0.8306095406360424\n"
          ]
        },
        {
          "name": "stderr",
          "output_type": "stream",
          "text": [
            "569it [00:55, 10.66it/s]"
          ]
        },
        {
          "name": "stdout",
          "output_type": "stream",
          "text": [
            "Average Loss: 0.37788343712083033\n",
            "Accuracy: 0.8306878306878307\n",
            "Average Loss: 0.37790964867814747\n",
            "Accuracy: 0.8305457746478874\n",
            "Average Loss: 0.37775204312350924\n",
            "Accuracy: 0.8307337434094904\n"
          ]
        },
        {
          "name": "stderr",
          "output_type": "stream",
          "text": [
            "\r571it [00:55, 10.49it/s]"
          ]
        },
        {
          "name": "stdout",
          "output_type": "stream",
          "text": [
            "tensor(0.3198, device='cuda:0', grad_fn=<BinaryCrossEntropyBackward0>)\n",
            "Average Loss: 0.37765035429283195\n",
            "Accuracy: 0.8308114035087719\n",
            "Average Loss: 0.37747590767053296\n",
            "Accuracy: 0.8308887915936952\n",
            "Average Loss: 0.3774707548033733\n",
            "Accuracy: 0.8308566433566433\n"
          ]
        },
        {
          "name": "stderr",
          "output_type": "stream",
          "text": [
            "573it [00:55, 10.33it/s]"
          ]
        },
        {
          "name": "stdout",
          "output_type": "stream",
          "text": [
            "Average Loss: 0.37767800489801384\n",
            "Accuracy: 0.8307155322862129\n"
          ]
        },
        {
          "name": "stderr",
          "output_type": "stream",
          "text": [
            "\n"
          ]
        }
      ],
      "source": [
        "#Create Dataset and Dataloader\n",
        "training_dataset = ChestXRayDataset(\"/content/drive/MyDrive/Colab Notebooks/CSVs_from_part_1 /For Part 2/csv-training-set.csv\")\n",
        "training_dataloader = torch.utils.data.DataLoader(dataset=training_dataset, batch_size=16, shuffle=True, drop_last=True)\n",
        "validation_dataset = ChestXRayDataset('/content/drive/MyDrive/Colab Notebooks/CSVs_from_part_1 /For Part 2/csv-validation-set.csv')\n",
        "validation_data_loader = torch.utils.data.DataLoader(dataset=validation_dataset, batch_size=16, shuffle=False, drop_last=False)\n",
        "\n",
        "train(model, loss, training_dataloader, opt, max_epoch=3, validation_loader=validation_data_loader)"
      ]
    },
    {
      "cell_type": "markdown",
      "metadata": {
        "id": "l8F_1wzY6I7j"
      },
      "source": [
        "## Submitting Your Results\n",
        "Once you have successfully trained your model, generate predictions on the test set and save your results as a `.csv` file. This file can then be uploaded to the leaderboard.\n",
        "\n",
        "Your final `.csv` file **must** have the following format:\n",
        "- There must be a column titled `image_path` with the paths to the test set images. This column should be identical to the one provided in `mimic_test_student.csv`.\n",
        "- There must be a column titled `pred` with your model outputs.\n",
        "  - If you are running the `distance categorization` task, this column must have floating point numbers ranging between 0 and 1. Higher numbers should indicate a greater likelihood that the tube distance is abnormal. Hint: You can convert model outputs to the 0 to 1 range by applying the sigmoid activation function (torch.nn.sigmoid())\n",
        "  - If you are running the `distance prediction` task, this column must have numbers representing the tube distance in centimeters.\n",
        "- Double check that there are 500 rows in your output file"
      ]
    },
    {
      "cell_type": "code",
      "execution_count": null,
      "metadata": {
        "colab": {
          "base_uri": "https://localhost:8080/"
        },
        "id": "0SDWeda0jc2h",
        "outputId": "fa78ab66-1d9b-4d0c-e9b0-4df719dfffd1"
      },
      "outputs": [
        {
          "name": "stderr",
          "output_type": "stream",
          "text": [
            "0it [00:00, ?it/s]/usr/local/lib/python3.10/dist-packages/torchvision/transforms/functional.py:1603: UserWarning: The default value of the antialias parameter of all the resizing transforms (Resize(), RandomResizedCrop(), etc.) will change from None to True in v0.17, in order to be consistent across the PIL and Tensor backends. To suppress this warning, directly pass antialias=True (recommended, future default), antialias=None (current default, which means False for Tensors and True for PIL), or antialias=False (only works on Tensors - PIL will still use antialiasing). This also applies if you are using the inference transforms from the models weights: update the call to weights.transforms(antialias=True).\n",
            "  warnings.warn(\n",
            "11it [00:00, 54.94it/s]"
          ]
        },
        {
          "name": "stdout",
          "output_type": "stream",
          "text": [
            "tensor([[0.2436]], device='cuda:0')\n",
            "tensor([[0.3092]], device='cuda:0')\n",
            "tensor([[0.4766]], device='cuda:0')\n",
            "tensor([[0.3552]], device='cuda:0')\n",
            "tensor([[0.0103]], device='cuda:0')\n",
            "tensor([[0.0845]], device='cuda:0')\n",
            "tensor([[0.1721]], device='cuda:0')\n",
            "tensor([[0.0087]], device='cuda:0')\n",
            "tensor([[0.0466]], device='cuda:0')\n",
            "tensor([[0.1043]], device='cuda:0')\n",
            "tensor([[0.0985]], device='cuda:0')\n",
            "tensor([[0.6223]], device='cuda:0')\n",
            "tensor([[0.2551]], device='cuda:0')\n",
            "tensor([[0.0047]], device='cuda:0')\n",
            "tensor([[0.6284]], device='cuda:0')\n"
          ]
        },
        {
          "name": "stderr",
          "output_type": "stream",
          "text": [
            "27it [00:00, 67.15it/s]"
          ]
        },
        {
          "name": "stdout",
          "output_type": "stream",
          "text": [
            "tensor([[0.0019]], device='cuda:0')\n",
            "tensor([[0.1449]], device='cuda:0')\n",
            "tensor([[0.0224]], device='cuda:0')\n",
            "tensor([[0.2115]], device='cuda:0')\n",
            "tensor([[0.9646]], device='cuda:0')\n",
            "tensor([[0.0200]], device='cuda:0')\n",
            "tensor([[0.1519]], device='cuda:0')\n",
            "tensor([[0.0051]], device='cuda:0')\n",
            "tensor([[0.0116]], device='cuda:0')\n",
            "tensor([[0.9629]], device='cuda:0')\n",
            "tensor([[0.3044]], device='cuda:0')\n",
            "tensor([[0.6286]], device='cuda:0')\n",
            "tensor([[0.0189]], device='cuda:0')\n",
            "tensor([[0.5398]], device='cuda:0')\n",
            "tensor([[0.3131]], device='cuda:0')\n"
          ]
        },
        {
          "name": "stderr",
          "output_type": "stream",
          "text": [
            "43it [00:00, 69.73it/s]"
          ]
        },
        {
          "name": "stdout",
          "output_type": "stream",
          "text": [
            "tensor([[0.0508]], device='cuda:0')\n",
            "tensor([[0.0501]], device='cuda:0')\n",
            "tensor([[0.0745]], device='cuda:0')\n",
            "tensor([[0.2759]], device='cuda:0')\n",
            "tensor([[0.2257]], device='cuda:0')\n",
            "tensor([[0.2649]], device='cuda:0')\n",
            "tensor([[0.4244]], device='cuda:0')\n",
            "tensor([[0.2380]], device='cuda:0')\n",
            "tensor([[0.2336]], device='cuda:0')\n",
            "tensor([[0.8587]], device='cuda:0')\n",
            "tensor([[0.9197]], device='cuda:0')\n",
            "tensor([[0.0117]], device='cuda:0')\n",
            "tensor([[0.2930]], device='cuda:0')\n",
            "tensor([[0.7968]], device='cuda:0')\n",
            "tensor([[0.0309]], device='cuda:0')\n"
          ]
        },
        {
          "name": "stderr",
          "output_type": "stream",
          "text": [
            "59it [00:00, 71.55it/s]"
          ]
        },
        {
          "name": "stdout",
          "output_type": "stream",
          "text": [
            "tensor([[0.0238]], device='cuda:0')\n",
            "tensor([[0.0065]], device='cuda:0')\n",
            "tensor([[0.1500]], device='cuda:0')\n",
            "tensor([[0.0366]], device='cuda:0')\n",
            "tensor([[0.3439]], device='cuda:0')\n",
            "tensor([[0.0582]], device='cuda:0')\n",
            "tensor([[0.0067]], device='cuda:0')\n",
            "tensor([[0.0526]], device='cuda:0')\n",
            "tensor([[0.6336]], device='cuda:0')\n",
            "tensor([[0.8579]], device='cuda:0')\n",
            "tensor([[0.0113]], device='cuda:0')\n",
            "tensor([[0.6606]], device='cuda:0')\n",
            "tensor([[0.0223]], device='cuda:0')\n",
            "tensor([[0.1111]], device='cuda:0')\n",
            "tensor([[0.0405]], device='cuda:0')\n"
          ]
        },
        {
          "name": "stderr",
          "output_type": "stream",
          "text": [
            "75it [00:01, 72.19it/s]"
          ]
        },
        {
          "name": "stdout",
          "output_type": "stream",
          "text": [
            "tensor([[0.5564]], device='cuda:0')\n",
            "tensor([[0.0705]], device='cuda:0')\n",
            "tensor([[0.0336]], device='cuda:0')\n",
            "tensor([[0.4282]], device='cuda:0')\n",
            "tensor([[0.0268]], device='cuda:0')\n",
            "tensor([[0.0429]], device='cuda:0')\n",
            "tensor([[0.0533]], device='cuda:0')\n",
            "tensor([[0.9442]], device='cuda:0')\n",
            "tensor([[0.0376]], device='cuda:0')\n",
            "tensor([[0.0201]], device='cuda:0')\n",
            "tensor([[0.4968]], device='cuda:0')\n",
            "tensor([[0.0022]], device='cuda:0')\n",
            "tensor([[0.2040]], device='cuda:0')\n",
            "tensor([[0.0025]], device='cuda:0')\n",
            "tensor([[0.0275]], device='cuda:0')\n"
          ]
        },
        {
          "name": "stderr",
          "output_type": "stream",
          "text": [
            "\r83it [00:01, 71.86it/s]"
          ]
        },
        {
          "name": "stdout",
          "output_type": "stream",
          "text": [
            "tensor([[0.2323]], device='cuda:0')\n",
            "tensor([[0.0368]], device='cuda:0')\n",
            "tensor([[0.8051]], device='cuda:0')\n",
            "tensor([[0.0478]], device='cuda:0')\n",
            "tensor([[0.0134]], device='cuda:0')\n",
            "tensor([[0.0122]], device='cuda:0')\n",
            "tensor([[0.0695]], device='cuda:0')\n",
            "tensor([[0.6422]], device='cuda:0')\n",
            "tensor([[0.3681]], device='cuda:0')\n",
            "tensor([[0.2364]], device='cuda:0')\n",
            "tensor([[0.5288]], device='cuda:0')\n",
            "tensor([[0.0156]], device='cuda:0')\n",
            "tensor([[0.1246]], device='cuda:0')\n",
            "tensor([[0.0343]], device='cuda:0')\n",
            "tensor([[0.3112]], device='cuda:0')\n"
          ]
        },
        {
          "name": "stderr",
          "output_type": "stream",
          "text": [
            "99it [00:01, 73.34it/s]"
          ]
        },
        {
          "name": "stdout",
          "output_type": "stream",
          "text": [
            "tensor([[0.0494]], device='cuda:0')\n",
            "tensor([[0.0322]], device='cuda:0')\n",
            "tensor([[0.1306]], device='cuda:0')\n",
            "tensor([[0.6437]], device='cuda:0')\n",
            "tensor([[0.0654]], device='cuda:0')\n",
            "tensor([[0.6309]], device='cuda:0')\n",
            "tensor([[0.2043]], device='cuda:0')\n",
            "tensor([[0.0236]], device='cuda:0')\n",
            "tensor([[0.2158]], device='cuda:0')\n",
            "tensor([[0.0061]], device='cuda:0')\n",
            "tensor([[0.0214]], device='cuda:0')\n",
            "tensor([[0.0216]], device='cuda:0')\n",
            "tensor([[0.7840]], device='cuda:0')\n",
            "tensor([[0.3563]], device='cuda:0')\n",
            "tensor([[0.1453]], device='cuda:0')\n",
            "tensor([[0.0136]], device='cuda:0')\n"
          ]
        },
        {
          "name": "stderr",
          "output_type": "stream",
          "text": [
            "115it [00:01, 74.50it/s]"
          ]
        },
        {
          "name": "stdout",
          "output_type": "stream",
          "text": [
            "tensor([[0.0339]], device='cuda:0')\n",
            "tensor([[0.9251]], device='cuda:0')\n",
            "tensor([[0.4907]], device='cuda:0')\n",
            "tensor([[0.5572]], device='cuda:0')\n",
            "tensor([[0.0144]], device='cuda:0')\n",
            "tensor([[0.1053]], device='cuda:0')\n",
            "tensor([[0.0120]], device='cuda:0')\n",
            "tensor([[0.0426]], device='cuda:0')\n",
            "tensor([[0.5539]], device='cuda:0')\n",
            "tensor([[0.8634]], device='cuda:0')\n",
            "tensor([[0.8467]], device='cuda:0')\n",
            "tensor([[0.0866]], device='cuda:0')\n",
            "tensor([[0.9511]], device='cuda:0')\n",
            "tensor([[0.0752]], device='cuda:0')\n",
            "tensor([[0.0209]], device='cuda:0')\n",
            "tensor([[0.2421]], device='cuda:0')\n"
          ]
        },
        {
          "name": "stderr",
          "output_type": "stream",
          "text": [
            "131it [00:01, 74.49it/s]"
          ]
        },
        {
          "name": "stdout",
          "output_type": "stream",
          "text": [
            "tensor([[0.0146]], device='cuda:0')\n",
            "tensor([[0.4607]], device='cuda:0')\n",
            "tensor([[0.0830]], device='cuda:0')\n",
            "tensor([[0.8743]], device='cuda:0')\n",
            "tensor([[0.6986]], device='cuda:0')\n",
            "tensor([[0.9435]], device='cuda:0')\n",
            "tensor([[0.1234]], device='cuda:0')\n",
            "tensor([[0.0170]], device='cuda:0')\n",
            "tensor([[0.0144]], device='cuda:0')\n",
            "tensor([[0.8310]], device='cuda:0')\n",
            "tensor([[0.1076]], device='cuda:0')\n",
            "tensor([[0.0283]], device='cuda:0')\n",
            "tensor([[0.4126]], device='cuda:0')\n",
            "tensor([[0.5229]], device='cuda:0')\n",
            "tensor([[0.6540]], device='cuda:0')\n"
          ]
        },
        {
          "name": "stderr",
          "output_type": "stream",
          "text": [
            "147it [00:02, 74.59it/s]"
          ]
        },
        {
          "name": "stdout",
          "output_type": "stream",
          "text": [
            "tensor([[0.8782]], device='cuda:0')\n",
            "tensor([[0.0135]], device='cuda:0')\n",
            "tensor([[0.0020]], device='cuda:0')\n",
            "tensor([[0.6775]], device='cuda:0')\n",
            "tensor([[0.8556]], device='cuda:0')\n",
            "tensor([[0.6345]], device='cuda:0')\n",
            "tensor([[0.2754]], device='cuda:0')\n",
            "tensor([[0.4050]], device='cuda:0')\n",
            "tensor([[0.0645]], device='cuda:0')\n",
            "tensor([[0.8016]], device='cuda:0')\n",
            "tensor([[0.0829]], device='cuda:0')\n",
            "tensor([[0.0030]], device='cuda:0')\n",
            "tensor([[0.7705]], device='cuda:0')\n",
            "tensor([[0.3083]], device='cuda:0')\n",
            "tensor([[0.1042]], device='cuda:0')\n",
            "tensor([[0.1872]], device='cuda:0')\n"
          ]
        },
        {
          "name": "stderr",
          "output_type": "stream",
          "text": [
            "163it [00:02, 74.82it/s]"
          ]
        },
        {
          "name": "stdout",
          "output_type": "stream",
          "text": [
            "tensor([[0.1277]], device='cuda:0')\n",
            "tensor([[0.3784]], device='cuda:0')\n",
            "tensor([[0.0130]], device='cuda:0')\n",
            "tensor([[0.0062]], device='cuda:0')\n",
            "tensor([[0.0241]], device='cuda:0')\n",
            "tensor([[0.0049]], device='cuda:0')\n",
            "tensor([[0.9054]], device='cuda:0')\n",
            "tensor([[0.6997]], device='cuda:0')\n",
            "tensor([[0.0165]], device='cuda:0')\n",
            "tensor([[0.8076]], device='cuda:0')\n",
            "tensor([[0.2555]], device='cuda:0')\n",
            "tensor([[0.2137]], device='cuda:0')\n",
            "tensor([[0.0772]], device='cuda:0')\n",
            "tensor([[0.0027]], device='cuda:0')\n",
            "tensor([[0.2178]], device='cuda:0')\n",
            "tensor([[0.5447]], device='cuda:0')\n"
          ]
        },
        {
          "name": "stderr",
          "output_type": "stream",
          "text": [
            "179it [00:02, 74.40it/s]"
          ]
        },
        {
          "name": "stdout",
          "output_type": "stream",
          "text": [
            "tensor([[0.1576]], device='cuda:0')\n",
            "tensor([[0.4440]], device='cuda:0')\n",
            "tensor([[0.0034]], device='cuda:0')\n",
            "tensor([[0.0426]], device='cuda:0')\n",
            "tensor([[0.9284]], device='cuda:0')\n",
            "tensor([[0.0315]], device='cuda:0')\n",
            "tensor([[0.3033]], device='cuda:0')\n",
            "tensor([[0.8233]], device='cuda:0')\n",
            "tensor([[0.1777]], device='cuda:0')\n",
            "tensor([[0.3301]], device='cuda:0')\n",
            "tensor([[0.3856]], device='cuda:0')\n",
            "tensor([[0.0291]], device='cuda:0')\n",
            "tensor([[0.6701]], device='cuda:0')\n",
            "tensor([[0.9498]], device='cuda:0')\n",
            "tensor([[0.6348]], device='cuda:0')\n"
          ]
        },
        {
          "name": "stderr",
          "output_type": "stream",
          "text": [
            "195it [00:02, 74.07it/s]"
          ]
        },
        {
          "name": "stdout",
          "output_type": "stream",
          "text": [
            "tensor([[0.7163]], device='cuda:0')\n",
            "tensor([[0.3676]], device='cuda:0')\n",
            "tensor([[0.2534]], device='cuda:0')\n",
            "tensor([[0.2141]], device='cuda:0')\n",
            "tensor([[0.0154]], device='cuda:0')\n",
            "tensor([[0.6118]], device='cuda:0')\n",
            "tensor([[0.0144]], device='cuda:0')\n",
            "tensor([[0.4934]], device='cuda:0')\n",
            "tensor([[0.0677]], device='cuda:0')\n",
            "tensor([[0.0060]], device='cuda:0')\n",
            "tensor([[0.0034]], device='cuda:0')\n",
            "tensor([[0.0087]], device='cuda:0')\n",
            "tensor([[0.6649]], device='cuda:0')\n",
            "tensor([[0.7766]], device='cuda:0')\n",
            "tensor([[0.8118]], device='cuda:0')\n"
          ]
        },
        {
          "name": "stderr",
          "output_type": "stream",
          "text": [
            "211it [00:02, 74.89it/s]"
          ]
        },
        {
          "name": "stdout",
          "output_type": "stream",
          "text": [
            "tensor([[0.9152]], device='cuda:0')\n",
            "tensor([[0.1639]], device='cuda:0')\n",
            "tensor([[0.2914]], device='cuda:0')\n",
            "tensor([[0.0032]], device='cuda:0')\n",
            "tensor([[0.6039]], device='cuda:0')\n",
            "tensor([[0.0099]], device='cuda:0')\n",
            "tensor([[0.4304]], device='cuda:0')\n",
            "tensor([[0.0786]], device='cuda:0')\n",
            "tensor([[0.9585]], device='cuda:0')\n",
            "tensor([[0.1617]], device='cuda:0')\n",
            "tensor([[0.1182]], device='cuda:0')\n",
            "tensor([[0.8962]], device='cuda:0')\n",
            "tensor([[0.1659]], device='cuda:0')\n",
            "tensor([[0.5667]], device='cuda:0')\n",
            "tensor([[0.3283]], device='cuda:0')\n",
            "tensor([[0.3083]], device='cuda:0')\n"
          ]
        },
        {
          "name": "stderr",
          "output_type": "stream",
          "text": [
            "227it [00:03, 74.63it/s]"
          ]
        },
        {
          "name": "stdout",
          "output_type": "stream",
          "text": [
            "tensor([[0.1421]], device='cuda:0')\n",
            "tensor([[0.0102]], device='cuda:0')\n",
            "tensor([[0.7646]], device='cuda:0')\n",
            "tensor([[0.0089]], device='cuda:0')\n",
            "tensor([[0.0434]], device='cuda:0')\n",
            "tensor([[0.0230]], device='cuda:0')\n",
            "tensor([[0.7967]], device='cuda:0')\n",
            "tensor([[0.4711]], device='cuda:0')\n",
            "tensor([[0.8568]], device='cuda:0')\n",
            "tensor([[0.0341]], device='cuda:0')\n",
            "tensor([[0.2367]], device='cuda:0')\n",
            "tensor([[0.5073]], device='cuda:0')\n",
            "tensor([[0.0221]], device='cuda:0')\n",
            "tensor([[0.7968]], device='cuda:0')\n",
            "tensor([[0.4095]], device='cuda:0')\n"
          ]
        },
        {
          "name": "stderr",
          "output_type": "stream",
          "text": [
            "243it [00:03, 74.56it/s]"
          ]
        },
        {
          "name": "stdout",
          "output_type": "stream",
          "text": [
            "tensor([[0.4602]], device='cuda:0')\n",
            "tensor([[0.0036]], device='cuda:0')\n",
            "tensor([[0.1791]], device='cuda:0')\n",
            "tensor([[0.0818]], device='cuda:0')\n",
            "tensor([[0.2458]], device='cuda:0')\n",
            "tensor([[0.6185]], device='cuda:0')\n",
            "tensor([[0.0306]], device='cuda:0')\n",
            "tensor([[0.0355]], device='cuda:0')\n",
            "tensor([[0.3995]], device='cuda:0')\n",
            "tensor([[0.0878]], device='cuda:0')\n",
            "tensor([[0.0271]], device='cuda:0')\n",
            "tensor([[0.0827]], device='cuda:0')\n",
            "tensor([[0.1701]], device='cuda:0')\n",
            "tensor([[0.0680]], device='cuda:0')\n",
            "tensor([[0.0557]], device='cuda:0')\n",
            "tensor([[0.0212]], device='cuda:0')\n"
          ]
        },
        {
          "name": "stderr",
          "output_type": "stream",
          "text": [
            "259it [00:03, 74.37it/s]"
          ]
        },
        {
          "name": "stdout",
          "output_type": "stream",
          "text": [
            "tensor([[0.0019]], device='cuda:0')\n",
            "tensor([[0.0723]], device='cuda:0')\n",
            "tensor([[0.0328]], device='cuda:0')\n",
            "tensor([[0.0371]], device='cuda:0')\n",
            "tensor([[0.0339]], device='cuda:0')\n",
            "tensor([[0.7220]], device='cuda:0')\n",
            "tensor([[0.0073]], device='cuda:0')\n",
            "tensor([[0.4298]], device='cuda:0')\n",
            "tensor([[0.0088]], device='cuda:0')\n",
            "tensor([[0.0017]], device='cuda:0')\n",
            "tensor([[0.6125]], device='cuda:0')\n",
            "tensor([[0.1233]], device='cuda:0')\n",
            "tensor([[0.0364]], device='cuda:0')\n",
            "tensor([[0.8987]], device='cuda:0')\n",
            "tensor([[0.4413]], device='cuda:0')\n"
          ]
        },
        {
          "name": "stderr",
          "output_type": "stream",
          "text": [
            "275it [00:03, 74.75it/s]"
          ]
        },
        {
          "name": "stdout",
          "output_type": "stream",
          "text": [
            "tensor([[0.0220]], device='cuda:0')\n",
            "tensor([[0.1778]], device='cuda:0')\n",
            "tensor([[0.1172]], device='cuda:0')\n",
            "tensor([[0.0630]], device='cuda:0')\n",
            "tensor([[0.0929]], device='cuda:0')\n",
            "tensor([[0.0710]], device='cuda:0')\n",
            "tensor([[0.2391]], device='cuda:0')\n",
            "tensor([[0.0333]], device='cuda:0')\n",
            "tensor([[0.1879]], device='cuda:0')\n",
            "tensor([[0.0014]], device='cuda:0')\n",
            "tensor([[0.0133]], device='cuda:0')\n",
            "tensor([[0.6669]], device='cuda:0')\n",
            "tensor([[0.1022]], device='cuda:0')\n",
            "tensor([[0.0542]], device='cuda:0')\n",
            "tensor([[0.0096]], device='cuda:0')\n",
            "tensor([[0.0066]], device='cuda:0')\n"
          ]
        },
        {
          "name": "stderr",
          "output_type": "stream",
          "text": [
            "291it [00:03, 74.80it/s]"
          ]
        },
        {
          "name": "stdout",
          "output_type": "stream",
          "text": [
            "tensor([[0.4355]], device='cuda:0')\n",
            "tensor([[0.6773]], device='cuda:0')\n",
            "tensor([[0.1401]], device='cuda:0')\n",
            "tensor([[0.0463]], device='cuda:0')\n",
            "tensor([[0.9821]], device='cuda:0')\n",
            "tensor([[0.3868]], device='cuda:0')\n",
            "tensor([[0.1480]], device='cuda:0')\n",
            "tensor([[0.7106]], device='cuda:0')\n",
            "tensor([[0.9113]], device='cuda:0')\n",
            "tensor([[0.2967]], device='cuda:0')\n",
            "tensor([[0.4830]], device='cuda:0')\n",
            "tensor([[0.0523]], device='cuda:0')\n",
            "tensor([[0.2277]], device='cuda:0')\n",
            "tensor([[0.0057]], device='cuda:0')\n",
            "tensor([[0.1310]], device='cuda:0')\n",
            "tensor([[0.5210]], device='cuda:0')\n"
          ]
        },
        {
          "name": "stderr",
          "output_type": "stream",
          "text": [
            "307it [00:04, 74.84it/s]"
          ]
        },
        {
          "name": "stdout",
          "output_type": "stream",
          "text": [
            "tensor([[0.9836]], device='cuda:0')\n",
            "tensor([[0.0392]], device='cuda:0')\n",
            "tensor([[0.0041]], device='cuda:0')\n",
            "tensor([[0.0232]], device='cuda:0')\n",
            "tensor([[0.1155]], device='cuda:0')\n",
            "tensor([[0.0631]], device='cuda:0')\n",
            "tensor([[0.3388]], device='cuda:0')\n",
            "tensor([[0.4624]], device='cuda:0')\n",
            "tensor([[0.0894]], device='cuda:0')\n",
            "tensor([[0.0038]], device='cuda:0')\n",
            "tensor([[0.1729]], device='cuda:0')\n",
            "tensor([[0.0160]], device='cuda:0')\n",
            "tensor([[0.2923]], device='cuda:0')\n",
            "tensor([[0.0200]], device='cuda:0')\n",
            "tensor([[0.3464]], device='cuda:0')\n",
            "tensor([[0.5186]], device='cuda:0')\n"
          ]
        },
        {
          "name": "stderr",
          "output_type": "stream",
          "text": [
            "323it [00:04, 74.20it/s]"
          ]
        },
        {
          "name": "stdout",
          "output_type": "stream",
          "text": [
            "tensor([[0.1206]], device='cuda:0')\n",
            "tensor([[0.2087]], device='cuda:0')\n",
            "tensor([[0.0518]], device='cuda:0')\n",
            "tensor([[0.3359]], device='cuda:0')\n",
            "tensor([[0.0051]], device='cuda:0')\n",
            "tensor([[0.5008]], device='cuda:0')\n",
            "tensor([[0.8559]], device='cuda:0')\n",
            "tensor([[0.0853]], device='cuda:0')\n",
            "tensor([[0.0358]], device='cuda:0')\n",
            "tensor([[0.8954]], device='cuda:0')\n",
            "tensor([[0.5646]], device='cuda:0')\n",
            "tensor([[0.0263]], device='cuda:0')\n",
            "tensor([[0.0563]], device='cuda:0')\n",
            "tensor([[0.8663]], device='cuda:0')\n",
            "tensor([[0.0465]], device='cuda:0')\n"
          ]
        },
        {
          "name": "stderr",
          "output_type": "stream",
          "text": [
            "339it [00:04, 74.45it/s]"
          ]
        },
        {
          "name": "stdout",
          "output_type": "stream",
          "text": [
            "tensor([[0.0146]], device='cuda:0')\n",
            "tensor([[0.9178]], device='cuda:0')\n",
            "tensor([[0.0229]], device='cuda:0')\n",
            "tensor([[0.1114]], device='cuda:0')\n",
            "tensor([[0.0235]], device='cuda:0')\n",
            "tensor([[0.4168]], device='cuda:0')\n",
            "tensor([[0.0588]], device='cuda:0')\n",
            "tensor([[0.3407]], device='cuda:0')\n",
            "tensor([[0.0206]], device='cuda:0')\n",
            "tensor([[0.0827]], device='cuda:0')\n",
            "tensor([[0.1527]], device='cuda:0')\n",
            "tensor([[0.0393]], device='cuda:0')\n",
            "tensor([[0.0734]], device='cuda:0')\n",
            "tensor([[0.1949]], device='cuda:0')\n",
            "tensor([[0.1001]], device='cuda:0')\n"
          ]
        },
        {
          "name": "stderr",
          "output_type": "stream",
          "text": [
            "355it [00:04, 76.06it/s]"
          ]
        },
        {
          "name": "stdout",
          "output_type": "stream",
          "text": [
            "tensor([[0.0620]], device='cuda:0')\n",
            "tensor([[0.0100]], device='cuda:0')\n",
            "tensor([[0.0021]], device='cuda:0')\n",
            "tensor([[0.0136]], device='cuda:0')\n",
            "tensor([[0.5518]], device='cuda:0')\n",
            "tensor([[0.8518]], device='cuda:0')\n",
            "tensor([[0.7807]], device='cuda:0')\n",
            "tensor([[0.5113]], device='cuda:0')\n",
            "tensor([[0.0190]], device='cuda:0')\n",
            "tensor([[0.7893]], device='cuda:0')\n",
            "tensor([[0.1624]], device='cuda:0')\n",
            "tensor([[0.1102]], device='cuda:0')\n",
            "tensor([[0.3278]], device='cuda:0')\n",
            "tensor([[0.0329]], device='cuda:0')\n",
            "tensor([[0.0309]], device='cuda:0')\n",
            "tensor([[0.2773]], device='cuda:0')\n"
          ]
        },
        {
          "name": "stderr",
          "output_type": "stream",
          "text": [
            "371it [00:05, 75.28it/s]"
          ]
        },
        {
          "name": "stdout",
          "output_type": "stream",
          "text": [
            "tensor([[0.4108]], device='cuda:0')\n",
            "tensor([[0.4336]], device='cuda:0')\n",
            "tensor([[0.7334]], device='cuda:0')\n",
            "tensor([[0.0758]], device='cuda:0')\n",
            "tensor([[0.8304]], device='cuda:0')\n",
            "tensor([[0.1782]], device='cuda:0')\n",
            "tensor([[0.0591]], device='cuda:0')\n",
            "tensor([[0.4387]], device='cuda:0')\n",
            "tensor([[0.1358]], device='cuda:0')\n",
            "tensor([[0.2731]], device='cuda:0')\n",
            "tensor([[0.9354]], device='cuda:0')\n",
            "tensor([[0.9431]], device='cuda:0')\n",
            "tensor([[0.9613]], device='cuda:0')\n",
            "tensor([[0.1402]], device='cuda:0')\n",
            "tensor([[0.8652]], device='cuda:0')\n",
            "tensor([[0.1761]], device='cuda:0')\n"
          ]
        },
        {
          "name": "stderr",
          "output_type": "stream",
          "text": [
            "387it [00:05, 74.81it/s]"
          ]
        },
        {
          "name": "stdout",
          "output_type": "stream",
          "text": [
            "tensor([[0.1814]], device='cuda:0')\n",
            "tensor([[0.0022]], device='cuda:0')\n",
            "tensor([[0.3095]], device='cuda:0')\n",
            "tensor([[0.2506]], device='cuda:0')\n",
            "tensor([[0.5070]], device='cuda:0')\n",
            "tensor([[0.0456]], device='cuda:0')\n",
            "tensor([[0.9395]], device='cuda:0')\n",
            "tensor([[0.2568]], device='cuda:0')\n",
            "tensor([[0.4974]], device='cuda:0')\n",
            "tensor([[0.1292]], device='cuda:0')\n",
            "tensor([[0.4761]], device='cuda:0')\n",
            "tensor([[0.3687]], device='cuda:0')\n",
            "tensor([[0.8198]], device='cuda:0')\n",
            "tensor([[0.1739]], device='cuda:0')\n",
            "tensor([[0.7093]], device='cuda:0')\n",
            "tensor([[0.2322]], device='cuda:0')\n"
          ]
        },
        {
          "name": "stderr",
          "output_type": "stream",
          "text": [
            "403it [00:05, 74.73it/s]"
          ]
        },
        {
          "name": "stdout",
          "output_type": "stream",
          "text": [
            "tensor([[0.4526]], device='cuda:0')\n",
            "tensor([[0.0122]], device='cuda:0')\n",
            "tensor([[0.8510]], device='cuda:0')\n",
            "tensor([[0.0716]], device='cuda:0')\n",
            "tensor([[0.5273]], device='cuda:0')\n",
            "tensor([[0.0426]], device='cuda:0')\n",
            "tensor([[0.0128]], device='cuda:0')\n",
            "tensor([[0.0492]], device='cuda:0')\n",
            "tensor([[0.6139]], device='cuda:0')\n",
            "tensor([[0.6431]], device='cuda:0')\n",
            "tensor([[0.6855]], device='cuda:0')\n",
            "tensor([[0.1053]], device='cuda:0')\n",
            "tensor([[0.1898]], device='cuda:0')\n",
            "tensor([[0.6012]], device='cuda:0')\n",
            "tensor([[0.0198]], device='cuda:0')\n",
            "tensor([[0.4520]], device='cuda:0')\n"
          ]
        },
        {
          "name": "stderr",
          "output_type": "stream",
          "text": [
            "419it [00:05, 75.64it/s]"
          ]
        },
        {
          "name": "stdout",
          "output_type": "stream",
          "text": [
            "tensor([[0.1239]], device='cuda:0')\n",
            "tensor([[0.0488]], device='cuda:0')\n",
            "tensor([[0.0344]], device='cuda:0')\n",
            "tensor([[0.2333]], device='cuda:0')\n",
            "tensor([[0.0350]], device='cuda:0')\n",
            "tensor([[0.8970]], device='cuda:0')\n",
            "tensor([[0.9261]], device='cuda:0')\n",
            "tensor([[0.0431]], device='cuda:0')\n",
            "tensor([[0.9865]], device='cuda:0')\n",
            "tensor([[0.3631]], device='cuda:0')\n",
            "tensor([[0.1111]], device='cuda:0')\n",
            "tensor([[0.1390]], device='cuda:0')\n",
            "tensor([[0.0182]], device='cuda:0')\n",
            "tensor([[0.5153]], device='cuda:0')\n",
            "tensor([[0.2095]], device='cuda:0')\n",
            "tensor([[0.6023]], device='cuda:0')\n"
          ]
        },
        {
          "name": "stderr",
          "output_type": "stream",
          "text": [
            "435it [00:05, 75.36it/s]"
          ]
        },
        {
          "name": "stdout",
          "output_type": "stream",
          "text": [
            "tensor([[0.6645]], device='cuda:0')\n",
            "tensor([[0.0928]], device='cuda:0')\n",
            "tensor([[0.0278]], device='cuda:0')\n",
            "tensor([[0.7925]], device='cuda:0')\n",
            "tensor([[0.1111]], device='cuda:0')\n",
            "tensor([[0.2205]], device='cuda:0')\n",
            "tensor([[0.1923]], device='cuda:0')\n",
            "tensor([[0.5232]], device='cuda:0')\n",
            "tensor([[0.3700]], device='cuda:0')\n",
            "tensor([[0.1314]], device='cuda:0')\n",
            "tensor([[0.2375]], device='cuda:0')\n",
            "tensor([[0.3449]], device='cuda:0')\n",
            "tensor([[0.2342]], device='cuda:0')\n",
            "tensor([[0.0054]], device='cuda:0')\n",
            "tensor([[0.0176]], device='cuda:0')\n",
            "tensor([[0.1465]], device='cuda:0')\n"
          ]
        },
        {
          "name": "stderr",
          "output_type": "stream",
          "text": [
            "451it [00:06, 75.55it/s]"
          ]
        },
        {
          "name": "stdout",
          "output_type": "stream",
          "text": [
            "tensor([[0.2324]], device='cuda:0')\n",
            "tensor([[0.0611]], device='cuda:0')\n",
            "tensor([[0.0048]], device='cuda:0')\n",
            "tensor([[0.6512]], device='cuda:0')\n",
            "tensor([[0.2221]], device='cuda:0')\n",
            "tensor([[0.0619]], device='cuda:0')\n",
            "tensor([[0.0114]], device='cuda:0')\n",
            "tensor([[0.0538]], device='cuda:0')\n",
            "tensor([[0.2129]], device='cuda:0')\n",
            "tensor([[0.6813]], device='cuda:0')\n",
            "tensor([[0.4261]], device='cuda:0')\n",
            "tensor([[0.0121]], device='cuda:0')\n",
            "tensor([[0.2883]], device='cuda:0')\n",
            "tensor([[0.2736]], device='cuda:0')\n",
            "tensor([[0.5789]], device='cuda:0')\n",
            "tensor([[0.0926]], device='cuda:0')\n"
          ]
        },
        {
          "name": "stderr",
          "output_type": "stream",
          "text": [
            "467it [00:06, 75.52it/s]"
          ]
        },
        {
          "name": "stdout",
          "output_type": "stream",
          "text": [
            "tensor([[0.8861]], device='cuda:0')\n",
            "tensor([[0.2546]], device='cuda:0')\n",
            "tensor([[0.5760]], device='cuda:0')\n",
            "tensor([[0.7573]], device='cuda:0')\n",
            "tensor([[0.0123]], device='cuda:0')\n",
            "tensor([[0.1886]], device='cuda:0')\n",
            "tensor([[0.1406]], device='cuda:0')\n",
            "tensor([[0.1444]], device='cuda:0')\n",
            "tensor([[0.9097]], device='cuda:0')\n",
            "tensor([[0.5101]], device='cuda:0')\n",
            "tensor([[0.3480]], device='cuda:0')\n",
            "tensor([[0.0168]], device='cuda:0')\n",
            "tensor([[0.0633]], device='cuda:0')\n",
            "tensor([[0.7911]], device='cuda:0')\n",
            "tensor([[0.1925]], device='cuda:0')\n",
            "tensor([[0.0959]], device='cuda:0')\n"
          ]
        },
        {
          "name": "stderr",
          "output_type": "stream",
          "text": [
            "\r475it [00:06, 75.25it/s]"
          ]
        },
        {
          "name": "stdout",
          "output_type": "stream",
          "text": [
            "tensor([[0.0503]], device='cuda:0')\n",
            "tensor([[0.0065]], device='cuda:0')\n",
            "tensor([[0.4026]], device='cuda:0')\n",
            "tensor([[0.0812]], device='cuda:0')\n",
            "tensor([[0.2009]], device='cuda:0')\n",
            "tensor([[0.0020]], device='cuda:0')\n",
            "tensor([[0.0056]], device='cuda:0')\n",
            "tensor([[0.4716]], device='cuda:0')\n",
            "tensor([[0.0285]], device='cuda:0')\n",
            "tensor([[0.0326]], device='cuda:0')\n",
            "tensor([[0.0023]], device='cuda:0')\n",
            "tensor([[0.1703]], device='cuda:0')\n",
            "tensor([[0.6849]], device='cuda:0')\n",
            "tensor([[0.0484]], device='cuda:0')\n",
            "tensor([[0.1284]], device='cuda:0')\n"
          ]
        },
        {
          "name": "stderr",
          "output_type": "stream",
          "text": [
            "491it [00:06, 74.02it/s]"
          ]
        },
        {
          "name": "stdout",
          "output_type": "stream",
          "text": [
            "tensor([[0.8235]], device='cuda:0')\n",
            "tensor([[0.0530]], device='cuda:0')\n",
            "tensor([[0.8976]], device='cuda:0')\n",
            "tensor([[0.1855]], device='cuda:0')\n",
            "tensor([[0.4297]], device='cuda:0')\n",
            "tensor([[0.8139]], device='cuda:0')\n",
            "tensor([[0.1057]], device='cuda:0')\n",
            "tensor([[0.8127]], device='cuda:0')\n",
            "tensor([[0.3800]], device='cuda:0')\n",
            "tensor([[0.7285]], device='cuda:0')\n",
            "tensor([[0.9008]], device='cuda:0')\n",
            "tensor([[0.5425]], device='cuda:0')\n",
            "tensor([[0.3762]], device='cuda:0')\n",
            "tensor([[0.1300]], device='cuda:0')\n",
            "tensor([[0.0846]], device='cuda:0')\n",
            "tensor([[0.0567]], device='cuda:0')\n"
          ]
        },
        {
          "name": "stderr",
          "output_type": "stream",
          "text": [
            "500it [00:06, 73.67it/s]"
          ]
        },
        {
          "name": "stdout",
          "output_type": "stream",
          "text": [
            "tensor([[0.1675]], device='cuda:0')\n",
            "tensor([[0.0256]], device='cuda:0')\n"
          ]
        },
        {
          "name": "stderr",
          "output_type": "stream",
          "text": [
            "\n"
          ]
        }
      ],
      "source": [
        "#Get list of predictions\n",
        "\n",
        "# model = # Model Architecture\n",
        "# ckpt = torch.load(\"/content/drive/MyDrive/best.pkl\")\n",
        "# model.load_state_dict(ckpt[\"state_dict\"])\n",
        "filename_3 = \"/content/drive/MyDrive/test_results_final_4.csv\"\n",
        "\n",
        "\n",
        "test_dataset = ChestXRayDataset(\"/content/drive/MyDrive/test_key_2.csv\")\n",
        "test_loader = torch.utils.data.DataLoader(dataset=test_dataset, batch_size=1, shuffle=False, drop_last=False)\n",
        "\n",
        "test_results = {\"image_path\": [], \"pred\": []}\n",
        "# Write method to load in data from test_loader, compute model predictions, and append results to test_results dict\n",
        "\n",
        "with open(filename_3, 'w') as csvfile3:\n",
        "    datawriter = csv.writer(csvfile3)\n",
        "    with torch.no_grad():\n",
        "      datawriter.writerow([\"pred\"])\n",
        "      for step, sample in tqdm(enumerate(test_loader)):\n",
        "\n",
        "        sample['img'], sample['label'] = sample['img'].to(device), sample['label'].to(device)\n",
        "\n",
        "        pred = model(sample['img'])\n",
        "        pred = sigmoid(pred)\n",
        "        print(pred)\n",
        "        # pred = torch.round(pred)\n",
        "        datawriter.writerow([pred.item()])\n",
        "        count += 1"
      ]
    },
    {
      "cell_type": "code",
      "execution_count": null,
      "metadata": {
        "id": "ZQOavII6kwcS"
      },
      "outputs": [],
      "source": [
        "#Create List of Filenames\n",
        "total = 0\n",
        "\n",
        "filename_1 = \"/content/mimic_test_student.csv\"\n",
        "filename_2 = \"/content/drive/MyDrive/test_key_2.csv\"\n",
        "list_of_keys = []\n",
        "with open(filename_1, 'r') as csvfile:\n",
        "  with open(filename_2, 'w') as csvfile2:\n",
        "    datareader = csv.reader(csvfile)\n",
        "    datawriter = csv.writer(csvfile2)\n",
        "    datawriter.writerow(['/content/image_path', 'measurement'])\n",
        "    count = 1\n",
        "    for row in datareader:\n",
        "        if count != 1:\n",
        "          filepath = '/content/' + row[5]\n",
        "          datawriter.writerow([filepath, \"\"])\n",
        "        count +=1"
      ]
    },
    {
      "cell_type": "code",
      "execution_count": null,
      "metadata": {
        "colab": {
          "base_uri": "https://localhost:8080/"
        },
        "id": "M5osagFf5Fox",
        "outputId": "534332c1-b109-4e74-f3df-d10d3ff43cdf"
      },
      "outputs": [
        {
          "name": "stderr",
          "output_type": "stream",
          "text": [
            "0it [00:00, ?it/s]/usr/local/lib/python3.10/dist-packages/torchvision/transforms/functional.py:1603: UserWarning: The default value of the antialias parameter of all the resizing transforms (Resize(), RandomResizedCrop(), etc.) will change from None to True in v0.17, in order to be consistent across the PIL and Tensor backends. To suppress this warning, directly pass antialias=True (recommended, future default), antialias=None (current default, which means False for Tensors and True for PIL), or antialias=False (only works on Tensors - PIL will still use antialiasing). This also applies if you are using the inference transforms from the models weights: update the call to weights.transforms(antialias=True).\n",
            "  warnings.warn(\n",
            "2it [00:00, 13.90it/s]"
          ]
        },
        {
          "name": "stdout",
          "output_type": "stream",
          "text": [
            "Average Loss: 18.75\n",
            "Average Loss: 12.5\n",
            "Average Loss: 18.75\n"
          ]
        },
        {
          "name": "stderr",
          "output_type": "stream",
          "text": [
            "6it [00:00, 13.68it/s]"
          ]
        },
        {
          "name": "stdout",
          "output_type": "stream",
          "text": [
            "Average Loss: 17.1875\n",
            "Average Loss: 18.75\n",
            "Average Loss: 17.708333333333332\n"
          ]
        },
        {
          "name": "stderr",
          "output_type": "stream",
          "text": [
            "\r8it [00:00, 13.71it/s]"
          ]
        },
        {
          "name": "stdout",
          "output_type": "stream",
          "text": [
            "Average Loss: 21.428571428571427\n",
            "Average Loss: 21.09375\n",
            "Average Loss: 21.52777777777778\n"
          ]
        },
        {
          "name": "stderr",
          "output_type": "stream",
          "text": [
            "12it [00:00, 14.15it/s]"
          ]
        },
        {
          "name": "stdout",
          "output_type": "stream",
          "text": [
            "Average Loss: 21.25\n",
            "Average Loss: 21.022727272727273\n",
            "Average Loss: 21.875\n"
          ]
        },
        {
          "name": "stderr",
          "output_type": "stream",
          "text": [
            "\r14it [00:00, 14.25it/s]"
          ]
        },
        {
          "name": "stdout",
          "output_type": "stream",
          "text": [
            "Average Loss: 21.634615384615383\n",
            "Average Loss: 20.089285714285715\n",
            "Average Loss: 20.833333333333332\n"
          ]
        },
        {
          "name": "stderr",
          "output_type": "stream",
          "text": [
            "18it [00:01, 14.34it/s]"
          ]
        },
        {
          "name": "stdout",
          "output_type": "stream",
          "text": [
            "Average Loss: 20.703125\n",
            "Average Loss: 21.691176470588236\n",
            "Average Loss: 21.875\n"
          ]
        },
        {
          "name": "stderr",
          "output_type": "stream",
          "text": [
            "\r20it [00:01, 14.37it/s]"
          ]
        },
        {
          "name": "stdout",
          "output_type": "stream",
          "text": [
            "Average Loss: 21.710526315789473\n",
            "Average Loss: 21.5625\n",
            "Average Loss: 22.023809523809526\n"
          ]
        },
        {
          "name": "stderr",
          "output_type": "stream",
          "text": [
            "24it [00:01, 14.39it/s]"
          ]
        },
        {
          "name": "stdout",
          "output_type": "stream",
          "text": [
            "Average Loss: 21.875\n",
            "Average Loss: 21.195652173913043\n",
            "Average Loss: 20.3125\n"
          ]
        },
        {
          "name": "stderr",
          "output_type": "stream",
          "text": [
            "\r26it [00:01, 14.28it/s]"
          ]
        },
        {
          "name": "stdout",
          "output_type": "stream",
          "text": [
            "Average Loss: 19.75\n",
            "Average Loss: 19.71153846153846\n",
            "Average Loss: 19.444444444444443\n"
          ]
        },
        {
          "name": "stderr",
          "output_type": "stream",
          "text": [
            "30it [00:02, 14.24it/s]"
          ]
        },
        {
          "name": "stdout",
          "output_type": "stream",
          "text": [
            "Average Loss: 19.196428571428573\n",
            "Average Loss: 19.612068965517242\n",
            "Average Loss: 20.0\n"
          ]
        },
        {
          "name": "stderr",
          "output_type": "stream",
          "text": [
            "\r32it [00:02, 14.23it/s]"
          ]
        },
        {
          "name": "stdout",
          "output_type": "stream",
          "text": [
            "Average Loss: 20.161290322580644\n",
            "Average Loss: 19.921875\n",
            "Average Loss: 20.454545454545453\n"
          ]
        },
        {
          "name": "stderr",
          "output_type": "stream",
          "text": [
            "36it [00:02, 14.31it/s]"
          ]
        },
        {
          "name": "stdout",
          "output_type": "stream",
          "text": [
            "Average Loss: 20.404411764705884\n",
            "Average Loss: 20.357142857142858\n",
            "Average Loss: 19.96527777777778\n"
          ]
        },
        {
          "name": "stderr",
          "output_type": "stream",
          "text": [
            "\r38it [00:02, 14.22it/s]"
          ]
        },
        {
          "name": "stdout",
          "output_type": "stream",
          "text": [
            "Average Loss: 19.425675675675677\n",
            "Average Loss: 19.57236842105263\n",
            "Average Loss: 19.55128205128205\n"
          ]
        },
        {
          "name": "stderr",
          "output_type": "stream",
          "text": [
            "42it [00:02, 14.18it/s]"
          ]
        },
        {
          "name": "stdout",
          "output_type": "stream",
          "text": [
            "Average Loss: 20.0\n",
            "Average Loss: 19.817073170731707\n",
            "Average Loss: 20.089285714285715\n"
          ]
        },
        {
          "name": "stderr",
          "output_type": "stream",
          "text": [
            "\r44it [00:03, 14.22it/s]"
          ]
        },
        {
          "name": "stdout",
          "output_type": "stream",
          "text": [
            "Average Loss: 20.63953488372093\n",
            "Average Loss: 20.880681818181817\n",
            "Average Loss: 20.833333333333332\n"
          ]
        },
        {
          "name": "stderr",
          "output_type": "stream",
          "text": [
            "48it [00:03, 14.33it/s]"
          ]
        },
        {
          "name": "stdout",
          "output_type": "stream",
          "text": [
            "Average Loss: 20.78804347826087\n",
            "Average Loss: 21.409574468085108\n",
            "Average Loss: 21.09375\n"
          ]
        },
        {
          "name": "stderr",
          "output_type": "stream",
          "text": [
            "\r50it [00:03, 14.34it/s]"
          ]
        },
        {
          "name": "stdout",
          "output_type": "stream",
          "text": [
            "Average Loss: 21.428571428571427\n",
            "Average Loss: 21.5\n",
            "Average Loss: 21.691176470588236\n"
          ]
        },
        {
          "name": "stderr",
          "output_type": "stream",
          "text": [
            "54it [00:03, 14.40it/s]"
          ]
        },
        {
          "name": "stdout",
          "output_type": "stream",
          "text": [
            "Average Loss: 21.754807692307693\n",
            "Average Loss: 21.816037735849058\n",
            "Average Loss: 21.875\n"
          ]
        },
        {
          "name": "stderr",
          "output_type": "stream",
          "text": [
            "\r56it [00:03, 14.27it/s]"
          ]
        },
        {
          "name": "stdout",
          "output_type": "stream",
          "text": [
            "Average Loss: 22.045454545454547\n",
            "Average Loss: 22.321428571428573\n",
            "Average Loss: 22.25877192982456\n"
          ]
        },
        {
          "name": "stderr",
          "output_type": "stream",
          "text": [
            "60it [00:04, 14.39it/s]"
          ]
        },
        {
          "name": "stdout",
          "output_type": "stream",
          "text": [
            "Average Loss: 22.629310344827587\n",
            "Average Loss: 22.35169491525424\n",
            "Average Loss: 22.5\n"
          ]
        },
        {
          "name": "stderr",
          "output_type": "stream",
          "text": [
            "\r62it [00:04, 14.40it/s]"
          ]
        },
        {
          "name": "stdout",
          "output_type": "stream",
          "text": [
            "Average Loss: 22.438524590163933\n",
            "Average Loss: 22.681451612903224\n",
            "Average Loss: 22.61904761904762\n"
          ]
        },
        {
          "name": "stderr",
          "output_type": "stream",
          "text": [
            "66it [00:04, 14.37it/s]"
          ]
        },
        {
          "name": "stdout",
          "output_type": "stream",
          "text": [
            "Average Loss: 22.75390625\n",
            "Average Loss: 22.98076923076923\n",
            "Average Loss: 23.011363636363637\n"
          ]
        },
        {
          "name": "stderr",
          "output_type": "stream",
          "text": [
            "\r68it [00:04, 14.22it/s]"
          ]
        },
        {
          "name": "stdout",
          "output_type": "stream",
          "text": [
            "Average Loss: 23.134328358208954\n",
            "Average Loss: 23.71323529411765\n",
            "Average Loss: 23.82246376811594\n"
          ]
        },
        {
          "name": "stderr",
          "output_type": "stream",
          "text": [
            "72it [00:05, 14.37it/s]"
          ]
        },
        {
          "name": "stdout",
          "output_type": "stream",
          "text": [
            "Average Loss: 24.196428571428573\n",
            "Average Loss: 24.20774647887324\n",
            "Average Loss: 23.958333333333332\n"
          ]
        },
        {
          "name": "stderr",
          "output_type": "stream",
          "text": [
            "\r74it [00:05, 14.43it/s]"
          ]
        },
        {
          "name": "stdout",
          "output_type": "stream",
          "text": [
            "Average Loss: 24.05821917808219\n",
            "Average Loss: 24.070945945945947\n",
            "Average Loss: 24.0\n"
          ]
        },
        {
          "name": "stderr",
          "output_type": "stream",
          "text": [
            "78it [00:05, 14.53it/s]"
          ]
        },
        {
          "name": "stdout",
          "output_type": "stream",
          "text": [
            "Average Loss: 24.095394736842106\n",
            "Average Loss: 23.863636363636363\n",
            "Average Loss: 23.958333333333332\n"
          ]
        },
        {
          "name": "stderr",
          "output_type": "stream",
          "text": [
            "\r80it [00:05, 14.51it/s]"
          ]
        },
        {
          "name": "stdout",
          "output_type": "stream",
          "text": [
            "Average Loss: 23.97151898734177\n",
            "Average Loss: 23.90625\n",
            "Average Loss: 23.765432098765434\n"
          ]
        },
        {
          "name": "stderr",
          "output_type": "stream",
          "text": [
            "84it [00:05, 14.43it/s]"
          ]
        },
        {
          "name": "stdout",
          "output_type": "stream",
          "text": [
            "Average Loss: 23.78048780487805\n",
            "Average Loss: 24.021084337349397\n",
            "Average Loss: 24.107142857142858\n"
          ]
        },
        {
          "name": "stderr",
          "output_type": "stream",
          "text": [
            "\r86it [00:06, 14.14it/s]"
          ]
        },
        {
          "name": "stdout",
          "output_type": "stream",
          "text": [
            "Average Loss: 24.191176470588236\n",
            "Average Loss: 24.200581395348838\n",
            "Average Loss: 24.20977011494253\n"
          ]
        },
        {
          "name": "stderr",
          "output_type": "stream",
          "text": [
            "90it [00:06, 14.30it/s]"
          ]
        },
        {
          "name": "stdout",
          "output_type": "stream",
          "text": [
            "Average Loss: 24.076704545454547\n",
            "Average Loss: 24.15730337078652\n",
            "Average Loss: 24.23611111111111\n"
          ]
        },
        {
          "name": "stderr",
          "output_type": "stream",
          "text": [
            "\r92it [00:06, 14.27it/s]"
          ]
        },
        {
          "name": "stdout",
          "output_type": "stream",
          "text": [
            "Average Loss: 24.107142857142858\n",
            "Average Loss: 23.980978260869566\n",
            "Average Loss: 23.991935483870968\n"
          ]
        },
        {
          "name": "stderr",
          "output_type": "stream",
          "text": [
            "96it [00:06, 14.27it/s]"
          ]
        },
        {
          "name": "stdout",
          "output_type": "stream",
          "text": [
            "Average Loss: 23.93617021276596\n",
            "Average Loss: 23.88157894736842\n",
            "Average Loss: 23.893229166666668\n"
          ]
        },
        {
          "name": "stderr",
          "output_type": "stream",
          "text": [
            "\r98it [00:06, 14.24it/s]"
          ]
        },
        {
          "name": "stdout",
          "output_type": "stream",
          "text": [
            "Average Loss: 23.969072164948454\n",
            "Average Loss: 23.852040816326532\n",
            "Average Loss: 23.800505050505052\n"
          ]
        },
        {
          "name": "stderr",
          "output_type": "stream",
          "text": [
            "102it [00:07, 13.93it/s]"
          ]
        },
        {
          "name": "stdout",
          "output_type": "stream",
          "text": [
            "Average Loss: 23.5625\n",
            "Average Loss: 23.886138613861387\n",
            "Average Loss: 23.774509803921568\n"
          ]
        },
        {
          "name": "stderr",
          "output_type": "stream",
          "text": [
            "\r104it [00:07, 13.90it/s]"
          ]
        },
        {
          "name": "stdout",
          "output_type": "stream",
          "text": [
            "Average Loss: 23.78640776699029\n",
            "Average Loss: 23.73798076923077\n",
            "Average Loss: 23.80952380952381\n"
          ]
        },
        {
          "name": "stderr",
          "output_type": "stream",
          "text": [
            "106it [00:07, 14.22it/s]"
          ]
        },
        {
          "name": "stdout",
          "output_type": "stream",
          "text": [
            "Average Loss: 23.702830188679247\n",
            "Accuracy: 0.7629716981132075\n"
          ]
        },
        {
          "name": "stderr",
          "output_type": "stream",
          "text": [
            "\n"
          ]
        }
      ],
      "source": [
        "#Validation\n",
        "validation_dataset = ChestXRayDataset('/content/drive/MyDrive/Colab Notebooks/CSVs_from_part_1 /For Part 2/csv-validation-set.csv')\n",
        "validation_data_loader = torch.utils.data.DataLoader(dataset=validation_dataset, batch_size=16, shuffle=False, drop_last=False)\n",
        "\n",
        "write = csv.writer(open(\"/content/drive/MyDrive/Colab Notebooks/CSVs_from_part_1 /validation_results2.csv\", 'w'))\n",
        "write.writerow(['prediction', 'label'])\n",
        "sigmoid = nn.Sigmoid()\n",
        "total = 0\n",
        "model.eval()\n",
        "num_batches = len(validation_data_loader)\n",
        "# test_loss, correct = 0, 0\n",
        "with torch.no_grad():\n",
        "  total_correct = 0.\n",
        "\n",
        "  total_loss = 0.\n",
        "  total_samples = 0.\n",
        "  correct_train = 0.\n",
        "  count = 0\n",
        "\n",
        "  for step, sample in tqdm(enumerate(validation_data_loader)):\n",
        "    count += 1\n",
        "    sample['img'], sample['label'] = sample['img'].to(device), sample['label'].to(device)\n",
        "\n",
        "    pred = model(sample['img'])\n",
        "    pred = sigmoid(pred)\n",
        "    pred = torch.round(pred)\n",
        "\n",
        "    labels2 = sample['label']\n",
        "    labels2 = labels2.unsqueeze(dim=1)\n",
        "\n",
        "    #Calculate Loss\n",
        "    _loss = loss(pred, labels2)\n",
        "    #Add Loss to Total Loss\n",
        "    total_loss += _loss.item()\n",
        "\n",
        "    #Count number of accurate predictions\n",
        "    correct_train += (pred == labels2).sum().item()\n",
        "    print(\"Average Loss:\", total_loss/count)\n",
        "\n",
        "\n",
        "  #Compute accuracy\n",
        "  accuracy = correct_train/(16 * count)\n",
        "  print(\"Accuracy:\", accuracy)\n",
        "\n",
        "  write.writerow([pred, labels2])\n",
        "\n",
        "# def test(dataloader, model, loss_fn):\n",
        "#     size = len(dataloader.dataset)\n",
        "#     num_batches = len(dataloader)\n",
        "#     model.eval()\n",
        "#     test_loss, correct = 0, 0\n",
        "#     with torch.no_grad():\n",
        "#         for step, sample in tqdm(enumerate(dataloader)):\n",
        "#             sample['img'], sample['label'] = sample['img'].to(device), sample['label'].to(device)\n",
        "\n",
        "#             pred = model(sample['img'])\n",
        "#             pred = sigmoid(pred)\n",
        "\n",
        "#             print((sample['label']))\n",
        "#             print(pred)\n",
        "\n",
        "#             write.writerow([list[pred], list[sample['label']]])\n",
        "# #     # test_loss += loss_fn(pred, y).item()\n",
        "# #     #         correct += (pred.argmax(1) == y).type(torch.float).sum().item()\n",
        "# #     # test_loss /= num_batches\n",
        "# #     # correct /= size\n",
        "# #     # print(f\"Test Error: \\n Accuracy: {(100*correct):>0.1f}%, Avg loss: {test_loss:>8f} \\n\")\n",
        "\n",
        "# # ckpt = torch.load(\"/content/best.pkl\")\n",
        "# # model.load_state_dict(ckpt[\"state_dict\"])\n",
        "\n",
        "\n"
      ]
    },
    {
      "cell_type": "code",
      "execution_count": null,
      "metadata": {
        "id": "_bK3_XQEi7q2"
      },
      "outputs": [],
      "source": [
        "#Create List of Filenames without /content/\n",
        "\n",
        "+# model = # Model Architecture\n",
        "# ckpt = torch.load(\"/content/drive/MyDrive/best.pkl\")\n",
        "# model.load_state_dict(ckpt[\"state_dict\"])\n",
        "filename_3 = \"/content/drive/MyDrive/test_key.csv\"\n",
        "filename_4 =  \"/content/drive/MyDrive/test_key_2.csv\"\n",
        "\n",
        "# test_dataset = ChestXRayDataset(\"/content/drive/MyDrive/test_key.csv\")\n",
        "# test_loader = torch.utils.data.DataLoader(dataset=test_dataset, batch_size=1, shuffle=False, drop_last=False)\n",
        "\n",
        "# test_results = {\"image_path\": [], \"pred\": []}\n",
        "# # Write method to load in data from test_loader, compute model predictions, and append results to test_results dict\n",
        "with open(filename_4, 'w') as csvfile4:\n",
        "    datawriter = csv.writer(csvfile4)\n",
        "    with open(filename_3, 'r') as csvfile3:\n",
        "        datareader = csv.writer(csvfile3)\n",
        "    #     with torch.no_grad():\n",
        "    #       total_correct = 0.\n",
        "\n",
        "    #       total_loss = 0.\n",
        "    #       total_samples = 0.\n",
        "    #       correct_train = 0.\n",
        "    #       count = 0\n",
        "\n",
        "        for row in csvfile3:\n",
        "          if row[0].startswith(\"/content/\"):\n",
        "            answer = row[0][9:]\n",
        "            datawriter.writerow([answer])\n",
        "\n"
      ]
    },
    {
      "cell_type": "code",
      "execution_count": null,
      "metadata": {
        "id": "OStU63uudg_8"
      },
      "outputs": [],
      "source": []
    }
  ],
  "metadata": {
    "accelerator": "GPU",
    "colab": {
      "provenance": [],
      "include_colab_link": true
    },
    "kernelspec": {
      "display_name": "Python 3",
      "name": "python3"
    },
    "language_info": {
      "name": "python"
    }
  },
  "nbformat": 4,
  "nbformat_minor": 0
}